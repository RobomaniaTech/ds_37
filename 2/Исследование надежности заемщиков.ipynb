{
 "cells": [
  {
   "cell_type": "markdown",
   "id": "661d29d3",
   "metadata": {},
   "source": [
    "# Исследование надежности заемщиков."
   ]
  },
  {
   "cell_type": "markdown",
   "id": "16f17124",
   "metadata": {},
   "source": [
    "\n",
    "**Цель исследования** — проверить основную гипотезу:\n",
    "Семейное положение и количество детей клиента влияет (положительно/отрицательно) на факт погашения кредита в срок.\n",
    "Для подтвреждения или опровержения данной гипотезы будут даны ответы на ряд вопросов\n",
    "1. Есть ли зависимость между количеством детей и возвратом кредита в срок.\n",
    "2. Есть ли зависимость между семейным положением и возвратом кредита в срок.\n",
    "3. Есть ли зависимость между уровнем дохода и возвратом кредита в срок.\n",
    "4. Как разные цели кредита влияют на его возврат в срок.\n",
    "\n",
    "\n",
    "**Ход исследования**\n",
    "\n",
    "Данные для исследования взяты из файла `/datasets/data.csv`. О качестве данных ничего не известно. Поэтому перед проверкой гипотез понадобится обзор данных, предобработка, после чего можно будет перейти к проверке гипотезы.  \n",
    "\n",
    "\n",
    "Исследование пройдёт в четыре этапа:\n",
    " 1. Обзор данных.\n",
    " 2. Предобработка данных.\n",
    " 3. Проверка гипотезы (Ответьте на вопросы).\n",
    " 4. Выводы исследования."
   ]
  },
  {
   "cell_type": "markdown",
   "id": "348ef0fa",
   "metadata": {},
   "source": [
    "### Шаг 1. Обзор данных"
   ]
  },
  {
   "cell_type": "code",
   "execution_count": 1,
   "id": "43744618",
   "metadata": {},
   "outputs": [],
   "source": [
    "import pandas as pd"
   ]
  },
  {
   "cell_type": "code",
   "execution_count": 2,
   "id": "f7d56c03",
   "metadata": {},
   "outputs": [
    {
     "data": {
      "text/html": [
       "<div>\n",
       "<style scoped>\n",
       "    .dataframe tbody tr th:only-of-type {\n",
       "        vertical-align: middle;\n",
       "    }\n",
       "\n",
       "    .dataframe tbody tr th {\n",
       "        vertical-align: top;\n",
       "    }\n",
       "\n",
       "    .dataframe thead th {\n",
       "        text-align: right;\n",
       "    }\n",
       "</style>\n",
       "<table border=\"1\" class=\"dataframe\">\n",
       "  <thead>\n",
       "    <tr style=\"text-align: right;\">\n",
       "      <th></th>\n",
       "      <th>children</th>\n",
       "      <th>days_employed</th>\n",
       "      <th>dob_years</th>\n",
       "      <th>education</th>\n",
       "      <th>education_id</th>\n",
       "      <th>family_status</th>\n",
       "      <th>family_status_id</th>\n",
       "      <th>gender</th>\n",
       "      <th>income_type</th>\n",
       "      <th>debt</th>\n",
       "      <th>total_income</th>\n",
       "      <th>purpose</th>\n",
       "    </tr>\n",
       "  </thead>\n",
       "  <tbody>\n",
       "    <tr>\n",
       "      <th>0</th>\n",
       "      <td>1</td>\n",
       "      <td>-8437.673028</td>\n",
       "      <td>42</td>\n",
       "      <td>высшее</td>\n",
       "      <td>0</td>\n",
       "      <td>женат / замужем</td>\n",
       "      <td>0</td>\n",
       "      <td>F</td>\n",
       "      <td>сотрудник</td>\n",
       "      <td>0</td>\n",
       "      <td>253875.639453</td>\n",
       "      <td>покупка жилья</td>\n",
       "    </tr>\n",
       "    <tr>\n",
       "      <th>1</th>\n",
       "      <td>1</td>\n",
       "      <td>-4024.803754</td>\n",
       "      <td>36</td>\n",
       "      <td>среднее</td>\n",
       "      <td>1</td>\n",
       "      <td>женат / замужем</td>\n",
       "      <td>0</td>\n",
       "      <td>F</td>\n",
       "      <td>сотрудник</td>\n",
       "      <td>0</td>\n",
       "      <td>112080.014102</td>\n",
       "      <td>приобретение автомобиля</td>\n",
       "    </tr>\n",
       "    <tr>\n",
       "      <th>2</th>\n",
       "      <td>0</td>\n",
       "      <td>-5623.422610</td>\n",
       "      <td>33</td>\n",
       "      <td>Среднее</td>\n",
       "      <td>1</td>\n",
       "      <td>женат / замужем</td>\n",
       "      <td>0</td>\n",
       "      <td>M</td>\n",
       "      <td>сотрудник</td>\n",
       "      <td>0</td>\n",
       "      <td>145885.952297</td>\n",
       "      <td>покупка жилья</td>\n",
       "    </tr>\n",
       "    <tr>\n",
       "      <th>3</th>\n",
       "      <td>3</td>\n",
       "      <td>-4124.747207</td>\n",
       "      <td>32</td>\n",
       "      <td>среднее</td>\n",
       "      <td>1</td>\n",
       "      <td>женат / замужем</td>\n",
       "      <td>0</td>\n",
       "      <td>M</td>\n",
       "      <td>сотрудник</td>\n",
       "      <td>0</td>\n",
       "      <td>267628.550329</td>\n",
       "      <td>дополнительное образование</td>\n",
       "    </tr>\n",
       "    <tr>\n",
       "      <th>4</th>\n",
       "      <td>0</td>\n",
       "      <td>340266.072047</td>\n",
       "      <td>53</td>\n",
       "      <td>среднее</td>\n",
       "      <td>1</td>\n",
       "      <td>гражданский брак</td>\n",
       "      <td>1</td>\n",
       "      <td>F</td>\n",
       "      <td>пенсионер</td>\n",
       "      <td>0</td>\n",
       "      <td>158616.077870</td>\n",
       "      <td>сыграть свадьбу</td>\n",
       "    </tr>\n",
       "    <tr>\n",
       "      <th>5</th>\n",
       "      <td>0</td>\n",
       "      <td>-926.185831</td>\n",
       "      <td>27</td>\n",
       "      <td>высшее</td>\n",
       "      <td>0</td>\n",
       "      <td>гражданский брак</td>\n",
       "      <td>1</td>\n",
       "      <td>M</td>\n",
       "      <td>компаньон</td>\n",
       "      <td>0</td>\n",
       "      <td>255763.565419</td>\n",
       "      <td>покупка жилья</td>\n",
       "    </tr>\n",
       "    <tr>\n",
       "      <th>6</th>\n",
       "      <td>0</td>\n",
       "      <td>-2879.202052</td>\n",
       "      <td>43</td>\n",
       "      <td>высшее</td>\n",
       "      <td>0</td>\n",
       "      <td>женат / замужем</td>\n",
       "      <td>0</td>\n",
       "      <td>F</td>\n",
       "      <td>компаньон</td>\n",
       "      <td>0</td>\n",
       "      <td>240525.971920</td>\n",
       "      <td>операции с жильем</td>\n",
       "    </tr>\n",
       "    <tr>\n",
       "      <th>7</th>\n",
       "      <td>0</td>\n",
       "      <td>-152.779569</td>\n",
       "      <td>50</td>\n",
       "      <td>СРЕДНЕЕ</td>\n",
       "      <td>1</td>\n",
       "      <td>женат / замужем</td>\n",
       "      <td>0</td>\n",
       "      <td>M</td>\n",
       "      <td>сотрудник</td>\n",
       "      <td>0</td>\n",
       "      <td>135823.934197</td>\n",
       "      <td>образование</td>\n",
       "    </tr>\n",
       "    <tr>\n",
       "      <th>8</th>\n",
       "      <td>2</td>\n",
       "      <td>-6929.865299</td>\n",
       "      <td>35</td>\n",
       "      <td>ВЫСШЕЕ</td>\n",
       "      <td>0</td>\n",
       "      <td>гражданский брак</td>\n",
       "      <td>1</td>\n",
       "      <td>F</td>\n",
       "      <td>сотрудник</td>\n",
       "      <td>0</td>\n",
       "      <td>95856.832424</td>\n",
       "      <td>на проведение свадьбы</td>\n",
       "    </tr>\n",
       "    <tr>\n",
       "      <th>9</th>\n",
       "      <td>0</td>\n",
       "      <td>-2188.756445</td>\n",
       "      <td>41</td>\n",
       "      <td>среднее</td>\n",
       "      <td>1</td>\n",
       "      <td>женат / замужем</td>\n",
       "      <td>0</td>\n",
       "      <td>M</td>\n",
       "      <td>сотрудник</td>\n",
       "      <td>0</td>\n",
       "      <td>144425.938277</td>\n",
       "      <td>покупка жилья для семьи</td>\n",
       "    </tr>\n",
       "  </tbody>\n",
       "</table>\n",
       "</div>"
      ],
      "text/plain": [
       "   children  days_employed  dob_years education  education_id  \\\n",
       "0         1   -8437.673028         42    высшее             0   \n",
       "1         1   -4024.803754         36   среднее             1   \n",
       "2         0   -5623.422610         33   Среднее             1   \n",
       "3         3   -4124.747207         32   среднее             1   \n",
       "4         0  340266.072047         53   среднее             1   \n",
       "5         0    -926.185831         27    высшее             0   \n",
       "6         0   -2879.202052         43    высшее             0   \n",
       "7         0    -152.779569         50   СРЕДНЕЕ             1   \n",
       "8         2   -6929.865299         35    ВЫСШЕЕ             0   \n",
       "9         0   -2188.756445         41   среднее             1   \n",
       "\n",
       "      family_status  family_status_id gender income_type  debt   total_income  \\\n",
       "0   женат / замужем                 0      F   сотрудник     0  253875.639453   \n",
       "1   женат / замужем                 0      F   сотрудник     0  112080.014102   \n",
       "2   женат / замужем                 0      M   сотрудник     0  145885.952297   \n",
       "3   женат / замужем                 0      M   сотрудник     0  267628.550329   \n",
       "4  гражданский брак                 1      F   пенсионер     0  158616.077870   \n",
       "5  гражданский брак                 1      M   компаньон     0  255763.565419   \n",
       "6   женат / замужем                 0      F   компаньон     0  240525.971920   \n",
       "7   женат / замужем                 0      M   сотрудник     0  135823.934197   \n",
       "8  гражданский брак                 1      F   сотрудник     0   95856.832424   \n",
       "9   женат / замужем                 0      M   сотрудник     0  144425.938277   \n",
       "\n",
       "                      purpose  \n",
       "0               покупка жилья  \n",
       "1     приобретение автомобиля  \n",
       "2               покупка жилья  \n",
       "3  дополнительное образование  \n",
       "4             сыграть свадьбу  \n",
       "5               покупка жилья  \n",
       "6           операции с жильем  \n",
       "7                 образование  \n",
       "8       на проведение свадьбы  \n",
       "9     покупка жилья для семьи  "
      ]
     },
     "execution_count": 2,
     "metadata": {},
     "output_type": "execute_result"
    }
   ],
   "source": [
    "data = pd.read_csv('/datasets/data.csv')\n",
    "data.head(10)"
   ]
  },
  {
   "cell_type": "markdown",
   "id": "28046026",
   "metadata": {},
   "source": [
    "Сразу бросается в глаза, ряд странностей даже по тем 10 строчкам, что выведены:\n",
    "1. В столбце days_employed присутствуют отрицательные значения - то есть как будто у кого-то общий трудовой стаж пошёл в обратную стороны\n",
    "2. В столбце education значения написаны в разных стилях (все прописные/все строчные/camelcase) - при группировке возможны некорректные данные\n",
    "3. Пары столбцов  education-education_id и family_status-family_status_id по факту показывают одну и ту же информацию, можно сделать словарь\n",
    "\n",
    "Посмотрим общую информацию по таблице:"
   ]
  },
  {
   "cell_type": "code",
   "execution_count": 3,
   "id": "acd4c8bc",
   "metadata": {},
   "outputs": [
    {
     "name": "stdout",
     "output_type": "stream",
     "text": [
      "<class 'pandas.core.frame.DataFrame'>\n",
      "RangeIndex: 21525 entries, 0 to 21524\n",
      "Data columns (total 12 columns):\n",
      " #   Column            Non-Null Count  Dtype  \n",
      "---  ------            --------------  -----  \n",
      " 0   children          21525 non-null  int64  \n",
      " 1   days_employed     19351 non-null  float64\n",
      " 2   dob_years         21525 non-null  int64  \n",
      " 3   education         21525 non-null  object \n",
      " 4   education_id      21525 non-null  int64  \n",
      " 5   family_status     21525 non-null  object \n",
      " 6   family_status_id  21525 non-null  int64  \n",
      " 7   gender            21525 non-null  object \n",
      " 8   income_type       21525 non-null  object \n",
      " 9   debt              21525 non-null  int64  \n",
      " 10  total_income      19351 non-null  float64\n",
      " 11  purpose           21525 non-null  object \n",
      "dtypes: float64(2), int64(5), object(5)\n",
      "memory usage: 2.0+ MB\n"
     ]
    }
   ],
   "source": [
    "data.info()"
   ]
  },
  {
   "cell_type": "markdown",
   "id": "b27ef66e",
   "metadata": {},
   "source": [
    "Итак, в таблице 12 столбцов. \n",
    "\n",
    "Согласно документации к данным:\n",
    "* `children` — количество детей в семье;\n",
    "* `days_employed` — общий трудовой стаж в днях;  \n",
    "* `dob_years` — возраст клиента в годах;\n",
    "* `education` —уровень образования клиента;\n",
    "* `education_id` — идентификатор уровня образования;\n",
    "* `family_status` — семейное положен;  \n",
    "* `family_status_id` — идентификатор семейного положения;\n",
    "* `gender` — пол клиента;\n",
    "* `income_type` — тип занятости;\n",
    "* `debt ` — имел ли задолженность по возврату кредитов;\n",
    "* `total_income` — ежемесячный доход;\n",
    "* `purpose` — цель получения кредита.\n",
    "\n",
    "\n",
    "\n",
    "\n",
    "Количество значений в столбцах различается. В частности в столбцах days_employed и total_income, заполним эти пропуски медианным значением\n"
   ]
  },
  {
   "cell_type": "markdown",
   "id": "eb63f0b4",
   "metadata": {},
   "source": [
    "### Шаг 2.1 Заполнение пропусков"
   ]
  },
  {
   "cell_type": "markdown",
   "id": "4b5bb05b",
   "metadata": {},
   "source": [
    "определим, сколько раз пропущен общий трудовой стаж в днях в нашей таблице"
   ]
  },
  {
   "cell_type": "code",
   "execution_count": 4,
   "id": "a398dbd3",
   "metadata": {},
   "outputs": [
    {
     "data": {
      "text/plain": [
       "-327.685916     1\n",
       "-1580.622577    1\n",
       "-4122.460569    1\n",
       "-2828.237691    1\n",
       "-2636.090517    1\n",
       "               ..\n",
       "-7120.517564    1\n",
       "-2146.884040    1\n",
       "-881.454684     1\n",
       "-794.666350     1\n",
       "-3382.113891    1\n",
       "Name: days_employed, Length: 19351, dtype: int64"
      ]
     },
     "execution_count": 4,
     "metadata": {},
     "output_type": "execute_result"
    }
   ],
   "source": [
    "data['days_employed'].value_counts()"
   ]
  },
  {
   "cell_type": "markdown",
   "id": "a496ed54",
   "metadata": {},
   "source": [
    "Пока непонятно, попробуем по-другому"
   ]
  },
  {
   "cell_type": "code",
   "execution_count": 5,
   "id": "2a41240c",
   "metadata": {},
   "outputs": [
    {
     "data": {
      "text/html": [
       "<div>\n",
       "<style scoped>\n",
       "    .dataframe tbody tr th:only-of-type {\n",
       "        vertical-align: middle;\n",
       "    }\n",
       "\n",
       "    .dataframe tbody tr th {\n",
       "        vertical-align: top;\n",
       "    }\n",
       "\n",
       "    .dataframe thead th {\n",
       "        text-align: right;\n",
       "    }\n",
       "</style>\n",
       "<table border=\"1\" class=\"dataframe\">\n",
       "  <thead>\n",
       "    <tr style=\"text-align: right;\">\n",
       "      <th></th>\n",
       "      <th>children</th>\n",
       "      <th>days_employed</th>\n",
       "      <th>dob_years</th>\n",
       "      <th>education</th>\n",
       "      <th>education_id</th>\n",
       "      <th>family_status</th>\n",
       "      <th>family_status_id</th>\n",
       "      <th>gender</th>\n",
       "      <th>income_type</th>\n",
       "      <th>debt</th>\n",
       "      <th>total_income</th>\n",
       "      <th>purpose</th>\n",
       "    </tr>\n",
       "  </thead>\n",
       "  <tbody>\n",
       "    <tr>\n",
       "      <th>12</th>\n",
       "      <td>0</td>\n",
       "      <td>NaN</td>\n",
       "      <td>65</td>\n",
       "      <td>среднее</td>\n",
       "      <td>1</td>\n",
       "      <td>гражданский брак</td>\n",
       "      <td>1</td>\n",
       "      <td>M</td>\n",
       "      <td>пенсионер</td>\n",
       "      <td>0</td>\n",
       "      <td>NaN</td>\n",
       "      <td>сыграть свадьбу</td>\n",
       "    </tr>\n",
       "    <tr>\n",
       "      <th>26</th>\n",
       "      <td>0</td>\n",
       "      <td>NaN</td>\n",
       "      <td>41</td>\n",
       "      <td>среднее</td>\n",
       "      <td>1</td>\n",
       "      <td>женат / замужем</td>\n",
       "      <td>0</td>\n",
       "      <td>M</td>\n",
       "      <td>госслужащий</td>\n",
       "      <td>0</td>\n",
       "      <td>NaN</td>\n",
       "      <td>образование</td>\n",
       "    </tr>\n",
       "    <tr>\n",
       "      <th>29</th>\n",
       "      <td>0</td>\n",
       "      <td>NaN</td>\n",
       "      <td>63</td>\n",
       "      <td>среднее</td>\n",
       "      <td>1</td>\n",
       "      <td>Не женат / не замужем</td>\n",
       "      <td>4</td>\n",
       "      <td>F</td>\n",
       "      <td>пенсионер</td>\n",
       "      <td>0</td>\n",
       "      <td>NaN</td>\n",
       "      <td>строительство жилой недвижимости</td>\n",
       "    </tr>\n",
       "    <tr>\n",
       "      <th>41</th>\n",
       "      <td>0</td>\n",
       "      <td>NaN</td>\n",
       "      <td>50</td>\n",
       "      <td>среднее</td>\n",
       "      <td>1</td>\n",
       "      <td>женат / замужем</td>\n",
       "      <td>0</td>\n",
       "      <td>F</td>\n",
       "      <td>госслужащий</td>\n",
       "      <td>0</td>\n",
       "      <td>NaN</td>\n",
       "      <td>сделка с подержанным автомобилем</td>\n",
       "    </tr>\n",
       "    <tr>\n",
       "      <th>55</th>\n",
       "      <td>0</td>\n",
       "      <td>NaN</td>\n",
       "      <td>54</td>\n",
       "      <td>среднее</td>\n",
       "      <td>1</td>\n",
       "      <td>гражданский брак</td>\n",
       "      <td>1</td>\n",
       "      <td>F</td>\n",
       "      <td>пенсионер</td>\n",
       "      <td>1</td>\n",
       "      <td>NaN</td>\n",
       "      <td>сыграть свадьбу</td>\n",
       "    </tr>\n",
       "  </tbody>\n",
       "</table>\n",
       "</div>"
      ],
      "text/plain": [
       "    children  days_employed  dob_years education  education_id  \\\n",
       "12         0            NaN         65   среднее             1   \n",
       "26         0            NaN         41   среднее             1   \n",
       "29         0            NaN         63   среднее             1   \n",
       "41         0            NaN         50   среднее             1   \n",
       "55         0            NaN         54   среднее             1   \n",
       "\n",
       "            family_status  family_status_id gender  income_type  debt  \\\n",
       "12       гражданский брак                 1      M    пенсионер     0   \n",
       "26        женат / замужем                 0      M  госслужащий     0   \n",
       "29  Не женат / не замужем                 4      F    пенсионер     0   \n",
       "41        женат / замужем                 0      F  госслужащий     0   \n",
       "55       гражданский брак                 1      F    пенсионер     1   \n",
       "\n",
       "    total_income                           purpose  \n",
       "12           NaN                   сыграть свадьбу  \n",
       "26           NaN                       образование  \n",
       "29           NaN  строительство жилой недвижимости  \n",
       "41           NaN  сделка с подержанным автомобилем  \n",
       "55           NaN                   сыграть свадьбу  "
      ]
     },
     "execution_count": 5,
     "metadata": {},
     "output_type": "execute_result"
    }
   ],
   "source": [
    "data[data['days_employed'].isna()].head()"
   ]
  },
  {
   "cell_type": "code",
   "execution_count": 6,
   "id": "f304d7b0",
   "metadata": {},
   "outputs": [
    {
     "name": "stdout",
     "output_type": "stream",
     "text": [
      "Всего пустых значений по столбцу: 2174\n",
      "Отношение пустых значений к общему: 10.099883855981417\n"
     ]
    }
   ],
   "source": [
    "# посчитаем колчиество пустых строк по столбцу\n",
    "null_case =  data['days_employed'].isna().sum()\n",
    "all_case = len(data.index)\n",
    "print('Всего пустых значений по столбцу:', data['days_employed'].isna().sum())\n",
    "print('Отношение пустых значений к общему:', null_case/all_case * 100 )"
   ]
  },
  {
   "cell_type": "code",
   "execution_count": 7,
   "id": "6b51f815",
   "metadata": {},
   "outputs": [
    {
     "name": "stdout",
     "output_type": "stream",
     "text": [
      "Отношение пустых значений к общему: 10.099883855981417\n"
     ]
    }
   ],
   "source": [
    "print('Отношение пустых значений к общему:', data['days_employed'].isna().mean()*100)"
   ]
  },
  {
   "cell_type": "markdown",
   "id": "37220d1d",
   "metadata": {},
   "source": [
    "Пустые значения по столбцу \"days_employed\" есть (примерно 10 пероцентов в выборке), поменям на медианные, предварительно посчитав её"
   ]
  },
  {
   "cell_type": "code",
   "execution_count": 8,
   "id": "0076f9eb",
   "metadata": {},
   "outputs": [
    {
     "data": {
      "text/plain": [
       "-1203.369528770489"
      ]
     },
     "execution_count": 8,
     "metadata": {},
     "output_type": "execute_result"
    }
   ],
   "source": [
    "median_value = data['days_employed'].median()\n",
    "median_value"
   ]
  },
  {
   "cell_type": "markdown",
   "id": "f15c8819",
   "metadata": {},
   "source": [
    "Медианное значение получилось отрицательным - это достаточно странное значение, поэтому для начала размебермся с этим и только потом заполним пропуски медианным значением."
   ]
  },
  {
   "cell_type": "code",
   "execution_count": 9,
   "id": "8ef532c0",
   "metadata": {},
   "outputs": [
    {
     "name": "stdout",
     "output_type": "stream",
     "text": [
      "Всего отрицательных значений: 15906\n"
     ]
    }
   ],
   "source": [
    "print('Всего отрицательных значений:', data[data['days_employed'] < 0]['days_employed'].count())"
   ]
  },
  {
   "cell_type": "markdown",
   "id": "e0036244",
   "metadata": {},
   "source": [
    "Проанализируем отрицательные значения в рабочих днях по каждому столбцу. Возможно для определённого значения в столбце всегда отсчёт считается отрицательным. Если в результате группировки мы увидим только одно значение это может быть предпоссылкой к тому, чтобы сделать вывод что при заполнении одного конкретного значения сделана ошибка"
   ]
  },
  {
   "cell_type": "code",
   "execution_count": 10,
   "id": "de0cdcc6",
   "metadata": {},
   "outputs": [
    {
     "name": "stdout",
     "output_type": "stream",
     "text": [
      "education\n",
      "ВЫСШЕЕ                  222\n",
      "Высшее                  222\n",
      "НАЧАЛЬНОЕ                 9\n",
      "НЕОКОНЧЕННОЕ ВЫСШЕЕ      21\n",
      "Начальное                10\n",
      "Неоконченное высшее      37\n",
      "СРЕДНЕЕ                 570\n",
      "Среднее                 498\n",
      "УЧЕНАЯ СТЕПЕНЬ            1\n",
      "высшее                 3751\n",
      "начальное               149\n",
      "неоконченное высшее     582\n",
      "среднее                9831\n",
      "ученая степень            3\n",
      "Name: days_employed, dtype: int64\n",
      "\n",
      "family_status\n",
      "Не женат / не замужем    2212\n",
      "в разводе                 885\n",
      "вдовец / вдова            381\n",
      "гражданский брак         3158\n",
      "женат / замужем          9270\n",
      "Name: days_employed, dtype: int64\n",
      "\n",
      "gender\n",
      "F      9945\n",
      "M      5960\n",
      "XNA       1\n",
      "Name: days_employed, dtype: int64\n",
      "\n",
      "income_type\n",
      "в декрете              1\n",
      "госслужащий         1312\n",
      "компаньон           4577\n",
      "предприниматель        1\n",
      "сотрудник          10014\n",
      "студент                1\n",
      "Name: days_employed, dtype: int64\n",
      "\n",
      "purpose\n",
      "автомобили                                340\n",
      "автомобиль                                363\n",
      "высшее образование                        342\n",
      "дополнительное образование                332\n",
      "жилье                                     485\n",
      "заняться высшим образованием              364\n",
      "заняться образованием                     298\n",
      "на покупку автомобиля                     357\n",
      "на покупку подержанного автомобиля        353\n",
      "на покупку своего автомобиля              382\n",
      "на проведение свадьбы                     559\n",
      "недвижимость                              480\n",
      "образование                               331\n",
      "операции с жильем                         483\n",
      "операции с коммерческой недвижимостью     474\n",
      "операции с недвижимостью                  502\n",
      "операции со своей недвижимостью           462\n",
      "покупка жилой недвижимости                461\n",
      "покупка жилья                             483\n",
      "покупка жилья для сдачи                   486\n",
      "покупка жилья для семьи                   463\n",
      "покупка коммерческой недвижимости         492\n",
      "покупка недвижимости                      451\n",
      "покупка своего жилья                      492\n",
      "получение высшего образования             323\n",
      "получение дополнительного образования     316\n",
      "получение образования                     318\n",
      "приобретение автомобиля                   342\n",
      "профильное образование                    319\n",
      "ремонт жилью                              451\n",
      "свадьба                                   600\n",
      "свой автомобиль                           354\n",
      "сделка с автомобилем                      335\n",
      "сделка с подержанным автомобилем          356\n",
      "строительство жилой недвижимости          468\n",
      "строительство недвижимости                465\n",
      "строительство собственной недвижимости    458\n",
      "сыграть свадьбу                           566\n",
      "Name: days_employed, dtype: int64\n",
      "\n"
     ]
    }
   ],
   "source": [
    "negative_data = data[data['days_employed'] < 0]\n",
    "print(negative_data.groupby('education')['days_employed'].count())\n",
    "print()\n",
    "print(negative_data.groupby('family_status')['days_employed'].count())\n",
    "print()\n",
    "print(negative_data.groupby('gender')['days_employed'].count())\n",
    "print()\n",
    "print(negative_data.groupby('income_type')['days_employed'].count())\n",
    "print()\n",
    "print(negative_data.groupby('purpose')['days_employed'].count())\n",
    "print()"
   ]
  },
  {
   "cell_type": "markdown",
   "id": "983b9295",
   "metadata": {},
   "source": [
    "Попытка не пытка. Зайдем с другом стороны посмотрим на людей с положительным стажем."
   ]
  },
  {
   "cell_type": "code",
   "execution_count": 11,
   "id": "f069a99f",
   "metadata": {},
   "outputs": [
    {
     "data": {
      "text/html": [
       "<div>\n",
       "<style scoped>\n",
       "    .dataframe tbody tr th:only-of-type {\n",
       "        vertical-align: middle;\n",
       "    }\n",
       "\n",
       "    .dataframe tbody tr th {\n",
       "        vertical-align: top;\n",
       "    }\n",
       "\n",
       "    .dataframe thead th {\n",
       "        text-align: right;\n",
       "    }\n",
       "</style>\n",
       "<table border=\"1\" class=\"dataframe\">\n",
       "  <thead>\n",
       "    <tr style=\"text-align: right;\">\n",
       "      <th></th>\n",
       "      <th>children</th>\n",
       "      <th>days_employed</th>\n",
       "      <th>dob_years</th>\n",
       "      <th>education</th>\n",
       "      <th>education_id</th>\n",
       "      <th>family_status</th>\n",
       "      <th>family_status_id</th>\n",
       "      <th>gender</th>\n",
       "      <th>income_type</th>\n",
       "      <th>debt</th>\n",
       "      <th>total_income</th>\n",
       "      <th>purpose</th>\n",
       "    </tr>\n",
       "  </thead>\n",
       "  <tbody>\n",
       "    <tr>\n",
       "      <th>6954</th>\n",
       "      <td>0</td>\n",
       "      <td>401755.400475</td>\n",
       "      <td>56</td>\n",
       "      <td>среднее</td>\n",
       "      <td>1</td>\n",
       "      <td>вдовец / вдова</td>\n",
       "      <td>2</td>\n",
       "      <td>F</td>\n",
       "      <td>пенсионер</td>\n",
       "      <td>0</td>\n",
       "      <td>176278.441171</td>\n",
       "      <td>ремонт жилью</td>\n",
       "    </tr>\n",
       "  </tbody>\n",
       "</table>\n",
       "</div>"
      ],
      "text/plain": [
       "      children  days_employed  dob_years education  education_id  \\\n",
       "6954         0  401755.400475         56   среднее             1   \n",
       "\n",
       "       family_status  family_status_id gender income_type  debt  \\\n",
       "6954  вдовец / вдова                 2      F   пенсионер     0   \n",
       "\n",
       "       total_income       purpose  \n",
       "6954  176278.441171  ремонт жилью  "
      ]
     },
     "execution_count": 11,
     "metadata": {},
     "output_type": "execute_result"
    }
   ],
   "source": [
    "positive_data = data[data['days_employed'] > 0]\n",
    "#посмотрим на того, кто работал больше всех\n",
    "positive_data[positive_data['days_employed'] == positive_data['days_employed'].max()]"
   ]
  },
  {
   "cell_type": "markdown",
   "id": "7da5b1ee",
   "metadata": {},
   "source": [
    "Человек проработал 401755 дней. То есть 1100 лет (401755/365), похоже у нас ошибка в данных, возможно неправильная единица измерения"
   ]
  },
  {
   "cell_type": "markdown",
   "id": "d3644bde",
   "metadata": {},
   "source": [
    "Основной вывод. Данные  в источнике по столбцу \"days_employed\" предоставлены некорректно, если мы заполним отсутствующие данные медианными мы получим еще больше некорректных данных. По итогу надо сделать анализ без использования этого столбца.\n",
    "\n",
    "Посмотрим какая ситуация со столбцом \"total_income\""
   ]
  },
  {
   "cell_type": "code",
   "execution_count": 12,
   "id": "c6add03c",
   "metadata": {},
   "outputs": [
    {
     "name": "stdout",
     "output_type": "stream",
     "text": [
      "Всего пустых значений по столбцу: 2174\n"
     ]
    }
   ],
   "source": [
    "print('Всего пустых значений по столбцу:', data['total_income'].isna().sum())"
   ]
  },
  {
   "cell_type": "code",
   "execution_count": 13,
   "id": "51e02723",
   "metadata": {},
   "outputs": [
    {
     "data": {
      "text/plain": [
       "145017.93753253992"
      ]
     },
     "execution_count": 13,
     "metadata": {},
     "output_type": "execute_result"
    }
   ],
   "source": [
    "median_value_total_income = data['total_income'].median()\n",
    "median_value_total_income"
   ]
  },
  {
   "cell_type": "markdown",
   "id": "a7d07bc1",
   "metadata": {},
   "source": [
    "Значение намного более адекватное (не отрицательное). На всякий случай проверим есть ли в выборке строки с отрицательным доходом"
   ]
  },
  {
   "cell_type": "code",
   "execution_count": 14,
   "id": "9d682e94",
   "metadata": {},
   "outputs": [
    {
     "data": {
      "text/plain": [
       "0"
      ]
     },
     "execution_count": 14,
     "metadata": {},
     "output_type": "execute_result"
    }
   ],
   "source": [
    " data[data['total_income'] < 0]['total_income'].count()"
   ]
  },
  {
   "cell_type": "markdown",
   "id": "eacb9b7d",
   "metadata": {},
   "source": [
    "Отлично, значит можно заменить значения по пустым на медианные"
   ]
  },
  {
   "cell_type": "markdown",
   "id": "b4effc1a",
   "metadata": {},
   "source": [
    "Пустые значения в количественных переменных правильней заполнять медианным значеним, т.к. в таком случае мы избегаем вбросы значений(слишком большие или слишком маленькие) если размах значений в выборке (самое большое значение минус самое минимальное) излишне велик.\n",
    "Например, нельзя взять среднеарифетическое значение по зарплате при составлении статистики по России, у чиновника зарплата миллион(и это только официально) у врача 15000 в среднем они получают 507 500, что с математической точки зрения верно, но не соответствует реальному положению дел."
   ]
  },
  {
   "cell_type": "code",
   "execution_count": 15,
   "id": "d4c44867",
   "metadata": {},
   "outputs": [],
   "source": [
    "data['total_income'] = data['total_income'].fillna(value=median_value_total_income)"
   ]
  },
  {
   "cell_type": "markdown",
   "id": "b0fd75c5",
   "metadata": {},
   "source": [
    "Доверяй, но проверяй - проверим остались ли пустые"
   ]
  },
  {
   "cell_type": "code",
   "execution_count": 16,
   "id": "76ccbe9a",
   "metadata": {},
   "outputs": [
    {
     "name": "stdout",
     "output_type": "stream",
     "text": [
      "Всего пустых значений по столбцу: 0\n"
     ]
    }
   ],
   "source": [
    "print('Всего пустых значений по столбцу:', data['total_income'].isna().sum())"
   ]
  },
  {
   "cell_type": "markdown",
   "id": "97df3ce4",
   "metadata": {},
   "source": [
    "### Шаг 2.2 Проверка данных на аномалии и исправления."
   ]
  },
  {
   "cell_type": "code",
   "execution_count": 17,
   "id": "077a24f4",
   "metadata": {},
   "outputs": [
    {
     "data": {
      "text/plain": [
       "array([ 1,  0,  3,  2, -1,  4, 20,  5])"
      ]
     },
     "execution_count": 17,
     "metadata": {},
     "output_type": "execute_result"
    }
   ],
   "source": [
    "#посмотрим уникальные значения по столбцу \"children\"\n",
    "data['children'].unique()"
   ]
  },
  {
   "cell_type": "markdown",
   "id": "e99f3e44",
   "metadata": {},
   "source": [
    "Из того что мы видим выбиваются два значения -1(?) и 20(слишком много). Посмотрим детальней"
   ]
  },
  {
   "cell_type": "code",
   "execution_count": 18,
   "id": "77cfb44f",
   "metadata": {},
   "outputs": [
    {
     "data": {
      "text/plain": [
       "47"
      ]
     },
     "execution_count": 18,
     "metadata": {},
     "output_type": "execute_result"
    }
   ],
   "source": [
    "data[data['children']==-1]['children'].count()"
   ]
  },
  {
   "cell_type": "markdown",
   "id": "4645bc7c",
   "metadata": {},
   "source": [
    "Возможно эта ситуация предполагает, что ребенок был но умер. Для нашего анализа отрицательное количество детей и их отсутствие идентичны с точки зрения анализа, поэтому присвоим всем -1 значение 0"
   ]
  },
  {
   "cell_type": "code",
   "execution_count": 19,
   "id": "e564a2e8",
   "metadata": {},
   "outputs": [],
   "source": [
    "data.loc[data['children'] == -1, 'children'] = 0"
   ]
  },
  {
   "cell_type": "code",
   "execution_count": 20,
   "id": "67200a3b",
   "metadata": {},
   "outputs": [
    {
     "data": {
      "text/html": [
       "<div>\n",
       "<style scoped>\n",
       "    .dataframe tbody tr th:only-of-type {\n",
       "        vertical-align: middle;\n",
       "    }\n",
       "\n",
       "    .dataframe tbody tr th {\n",
       "        vertical-align: top;\n",
       "    }\n",
       "\n",
       "    .dataframe thead th {\n",
       "        text-align: right;\n",
       "    }\n",
       "</style>\n",
       "<table border=\"1\" class=\"dataframe\">\n",
       "  <thead>\n",
       "    <tr style=\"text-align: right;\">\n",
       "      <th></th>\n",
       "      <th>children</th>\n",
       "      <th>days_employed</th>\n",
       "      <th>dob_years</th>\n",
       "      <th>education</th>\n",
       "      <th>education_id</th>\n",
       "      <th>family_status</th>\n",
       "      <th>family_status_id</th>\n",
       "      <th>gender</th>\n",
       "      <th>income_type</th>\n",
       "      <th>debt</th>\n",
       "      <th>total_income</th>\n",
       "      <th>purpose</th>\n",
       "    </tr>\n",
       "  </thead>\n",
       "  <tbody>\n",
       "    <tr>\n",
       "      <th>606</th>\n",
       "      <td>20</td>\n",
       "      <td>-880.221113</td>\n",
       "      <td>21</td>\n",
       "      <td>среднее</td>\n",
       "      <td>1</td>\n",
       "      <td>женат / замужем</td>\n",
       "      <td>0</td>\n",
       "      <td>M</td>\n",
       "      <td>компаньон</td>\n",
       "      <td>0</td>\n",
       "      <td>145334.865002</td>\n",
       "      <td>покупка жилья</td>\n",
       "    </tr>\n",
       "    <tr>\n",
       "      <th>720</th>\n",
       "      <td>20</td>\n",
       "      <td>-855.595512</td>\n",
       "      <td>44</td>\n",
       "      <td>среднее</td>\n",
       "      <td>1</td>\n",
       "      <td>женат / замужем</td>\n",
       "      <td>0</td>\n",
       "      <td>F</td>\n",
       "      <td>компаньон</td>\n",
       "      <td>0</td>\n",
       "      <td>112998.738649</td>\n",
       "      <td>покупка недвижимости</td>\n",
       "    </tr>\n",
       "    <tr>\n",
       "      <th>1074</th>\n",
       "      <td>20</td>\n",
       "      <td>-3310.411598</td>\n",
       "      <td>56</td>\n",
       "      <td>среднее</td>\n",
       "      <td>1</td>\n",
       "      <td>женат / замужем</td>\n",
       "      <td>0</td>\n",
       "      <td>F</td>\n",
       "      <td>сотрудник</td>\n",
       "      <td>1</td>\n",
       "      <td>229518.537004</td>\n",
       "      <td>получение образования</td>\n",
       "    </tr>\n",
       "    <tr>\n",
       "      <th>2510</th>\n",
       "      <td>20</td>\n",
       "      <td>-2714.161249</td>\n",
       "      <td>59</td>\n",
       "      <td>высшее</td>\n",
       "      <td>0</td>\n",
       "      <td>вдовец / вдова</td>\n",
       "      <td>2</td>\n",
       "      <td>F</td>\n",
       "      <td>сотрудник</td>\n",
       "      <td>0</td>\n",
       "      <td>264474.835577</td>\n",
       "      <td>операции с коммерческой недвижимостью</td>\n",
       "    </tr>\n",
       "    <tr>\n",
       "      <th>2941</th>\n",
       "      <td>20</td>\n",
       "      <td>-2161.591519</td>\n",
       "      <td>0</td>\n",
       "      <td>среднее</td>\n",
       "      <td>1</td>\n",
       "      <td>женат / замужем</td>\n",
       "      <td>0</td>\n",
       "      <td>F</td>\n",
       "      <td>сотрудник</td>\n",
       "      <td>0</td>\n",
       "      <td>199739.941398</td>\n",
       "      <td>на покупку автомобиля</td>\n",
       "    </tr>\n",
       "    <tr>\n",
       "      <th>...</th>\n",
       "      <td>...</td>\n",
       "      <td>...</td>\n",
       "      <td>...</td>\n",
       "      <td>...</td>\n",
       "      <td>...</td>\n",
       "      <td>...</td>\n",
       "      <td>...</td>\n",
       "      <td>...</td>\n",
       "      <td>...</td>\n",
       "      <td>...</td>\n",
       "      <td>...</td>\n",
       "      <td>...</td>\n",
       "    </tr>\n",
       "    <tr>\n",
       "      <th>21008</th>\n",
       "      <td>20</td>\n",
       "      <td>-1240.257910</td>\n",
       "      <td>40</td>\n",
       "      <td>среднее</td>\n",
       "      <td>1</td>\n",
       "      <td>женат / замужем</td>\n",
       "      <td>0</td>\n",
       "      <td>F</td>\n",
       "      <td>сотрудник</td>\n",
       "      <td>1</td>\n",
       "      <td>133524.010303</td>\n",
       "      <td>свой автомобиль</td>\n",
       "    </tr>\n",
       "    <tr>\n",
       "      <th>21325</th>\n",
       "      <td>20</td>\n",
       "      <td>-601.174883</td>\n",
       "      <td>37</td>\n",
       "      <td>среднее</td>\n",
       "      <td>1</td>\n",
       "      <td>женат / замужем</td>\n",
       "      <td>0</td>\n",
       "      <td>F</td>\n",
       "      <td>компаньон</td>\n",
       "      <td>0</td>\n",
       "      <td>102986.065978</td>\n",
       "      <td>профильное образование</td>\n",
       "    </tr>\n",
       "    <tr>\n",
       "      <th>21390</th>\n",
       "      <td>20</td>\n",
       "      <td>NaN</td>\n",
       "      <td>53</td>\n",
       "      <td>среднее</td>\n",
       "      <td>1</td>\n",
       "      <td>женат / замужем</td>\n",
       "      <td>0</td>\n",
       "      <td>M</td>\n",
       "      <td>компаньон</td>\n",
       "      <td>0</td>\n",
       "      <td>145017.937533</td>\n",
       "      <td>покупка жилой недвижимости</td>\n",
       "    </tr>\n",
       "    <tr>\n",
       "      <th>21404</th>\n",
       "      <td>20</td>\n",
       "      <td>-494.788448</td>\n",
       "      <td>52</td>\n",
       "      <td>среднее</td>\n",
       "      <td>1</td>\n",
       "      <td>женат / замужем</td>\n",
       "      <td>0</td>\n",
       "      <td>M</td>\n",
       "      <td>компаньон</td>\n",
       "      <td>0</td>\n",
       "      <td>156629.683642</td>\n",
       "      <td>операции со своей недвижимостью</td>\n",
       "    </tr>\n",
       "    <tr>\n",
       "      <th>21491</th>\n",
       "      <td>20</td>\n",
       "      <td>-173.954460</td>\n",
       "      <td>27</td>\n",
       "      <td>среднее</td>\n",
       "      <td>1</td>\n",
       "      <td>женат / замужем</td>\n",
       "      <td>0</td>\n",
       "      <td>F</td>\n",
       "      <td>сотрудник</td>\n",
       "      <td>0</td>\n",
       "      <td>155520.899688</td>\n",
       "      <td>на покупку подержанного автомобиля</td>\n",
       "    </tr>\n",
       "  </tbody>\n",
       "</table>\n",
       "<p>76 rows × 12 columns</p>\n",
       "</div>"
      ],
      "text/plain": [
       "       children  days_employed  dob_years education  education_id  \\\n",
       "606          20    -880.221113         21   среднее             1   \n",
       "720          20    -855.595512         44   среднее             1   \n",
       "1074         20   -3310.411598         56   среднее             1   \n",
       "2510         20   -2714.161249         59    высшее             0   \n",
       "2941         20   -2161.591519          0   среднее             1   \n",
       "...         ...            ...        ...       ...           ...   \n",
       "21008        20   -1240.257910         40   среднее             1   \n",
       "21325        20    -601.174883         37   среднее             1   \n",
       "21390        20            NaN         53   среднее             1   \n",
       "21404        20    -494.788448         52   среднее             1   \n",
       "21491        20    -173.954460         27   среднее             1   \n",
       "\n",
       "         family_status  family_status_id gender income_type  debt  \\\n",
       "606    женат / замужем                 0      M   компаньон     0   \n",
       "720    женат / замужем                 0      F   компаньон     0   \n",
       "1074   женат / замужем                 0      F   сотрудник     1   \n",
       "2510    вдовец / вдова                 2      F   сотрудник     0   \n",
       "2941   женат / замужем                 0      F   сотрудник     0   \n",
       "...                ...               ...    ...         ...   ...   \n",
       "21008  женат / замужем                 0      F   сотрудник     1   \n",
       "21325  женат / замужем                 0      F   компаньон     0   \n",
       "21390  женат / замужем                 0      M   компаньон     0   \n",
       "21404  женат / замужем                 0      M   компаньон     0   \n",
       "21491  женат / замужем                 0      F   сотрудник     0   \n",
       "\n",
       "        total_income                                purpose  \n",
       "606    145334.865002                          покупка жилья  \n",
       "720    112998.738649                   покупка недвижимости  \n",
       "1074   229518.537004                  получение образования  \n",
       "2510   264474.835577  операции с коммерческой недвижимостью  \n",
       "2941   199739.941398                  на покупку автомобиля  \n",
       "...              ...                                    ...  \n",
       "21008  133524.010303                        свой автомобиль  \n",
       "21325  102986.065978                 профильное образование  \n",
       "21390  145017.937533             покупка жилой недвижимости  \n",
       "21404  156629.683642        операции со своей недвижимостью  \n",
       "21491  155520.899688     на покупку подержанного автомобиля  \n",
       "\n",
       "[76 rows x 12 columns]"
      ]
     },
     "execution_count": 20,
     "metadata": {},
     "output_type": "execute_result"
    }
   ],
   "source": [
    "#посмотрим скольео записей с количеством детей равном 42\n",
    "\n",
    "data[data['children'] == 20]['children'].count()\n",
    "data[data['children'] == 20]"
   ]
  },
  {
   "cell_type": "markdown",
   "id": "cc506cc4",
   "metadata": {},
   "source": [
    "Учитывая что есть строчка с количеством детей 20 и возрастом 21, а также что нету никаких проежуточных значений между 20 и 5, мы предполагаем, что в данных закралась ошибка, и на самом деле детей 2, а не 20, поэтому поменяем значение 20 на 2"
   ]
  },
  {
   "cell_type": "code",
   "execution_count": 21,
   "id": "b4804b3b",
   "metadata": {},
   "outputs": [],
   "source": [
    "data.loc[data['children'] == 20, 'children'] = 2"
   ]
  },
  {
   "cell_type": "code",
   "execution_count": 22,
   "id": "07d791b7",
   "metadata": {},
   "outputs": [
    {
     "data": {
      "text/plain": [
       "array([1, 0, 3, 2, 4, 5])"
      ]
     },
     "execution_count": 22,
     "metadata": {},
     "output_type": "execute_result"
    }
   ],
   "source": [
    "#посмотрим теперь уникальные значения по столбцу \"children\"\n",
    "data['children'].unique()"
   ]
  },
  {
   "cell_type": "markdown",
   "id": "6ce5ec92",
   "metadata": {},
   "source": [
    "Рассмотрим столбец dob_years"
   ]
  },
  {
   "cell_type": "code",
   "execution_count": null,
   "id": "9eddce5e",
   "metadata": {},
   "outputs": [],
   "source": [
    "#посмотрим уникальные значения по столбцу \"dob_years\", для удобства отсортируем\n",
    "sorted = data.sort_values(by='dob_years', ascending = True)\n",
    "sorted['dob_years'].unique()"
   ]
  },
  {
   "cell_type": "markdown",
   "id": "a1dc28c7",
   "metadata": {},
   "source": [
    "Аномальным значением является значение 0"
   ]
  },
  {
   "cell_type": "code",
   "execution_count": null,
   "id": "ded23a95",
   "metadata": {},
   "outputs": [],
   "source": [
    "anomal_dob_years = data[data['dob_years'] == 0]\n",
    "#посмотрим в разбивке по образованию\n",
    "anomal_dob_years.groupby('education')['dob_years'].count()"
   ]
  },
  {
   "cell_type": "code",
   "execution_count": null,
   "id": "6ffa2b86",
   "metadata": {},
   "outputs": [],
   "source": [
    "#преобразуем в нижний регистр убрав тем самым цдалив неявные дубликаты\n",
    "anomal_dob_years['education']=anomal_dob_years['education'].str.lower()\n",
    "\n",
    "#сделаем такде на основном датафрейме \n",
    "data['education']=data['education'].str.lower()"
   ]
  },
  {
   "cell_type": "code",
   "execution_count": null,
   "id": "9f50acab",
   "metadata": {},
   "outputs": [],
   "source": [
    "anomal_dob_years.groupby(['education'])['dob_years'].count()"
   ]
  },
  {
   "cell_type": "markdown",
   "id": "dd7d84e7",
   "metadata": {},
   "source": [
    "Возможно при заполнении данных не было строгих правил, ограничивающих полтьзователя в заполнении ячеек или же человек готовивший выборку собирал её из разных источников, а разные источники - разные принципы хранения данных."
   ]
  },
  {
   "cell_type": "markdown",
   "id": "99ef9005",
   "metadata": {},
   "source": [
    "Какого-то конкретного объяснения это не выявило. Сделаем по аналогии с total_income"
   ]
  },
  {
   "cell_type": "code",
   "execution_count": null,
   "id": "e1691d01",
   "metadata": {},
   "outputs": [],
   "source": [
    "median_value_dob_years = data['dob_years'].median()\n",
    "median_value_dob_years\n",
    "data.loc[data['dob_years'] == 0, 'children'] = median_value_dob_years"
   ]
  },
  {
   "cell_type": "markdown",
   "id": "2d21d0ea",
   "metadata": {},
   "source": [
    "Cтолбец education мы отредактировали и убрали от дубликатов убрав всё в нижний регистр"
   ]
  },
  {
   "cell_type": "markdown",
   "id": "b06e9ca6",
   "metadata": {},
   "source": [
    "Рассмотрим столбец family_status"
   ]
  },
  {
   "cell_type": "code",
   "execution_count": null,
   "id": "a2f8a238",
   "metadata": {},
   "outputs": [],
   "source": [
    "data['family_status'].unique()"
   ]
  },
  {
   "cell_type": "code",
   "execution_count": 29,
   "id": "55832e88",
   "metadata": {},
   "outputs": [],
   "source": [
    "# приведём всё в нижний регистр для однообразия данных\n",
    "data['family_status']=data['family_status'].str.lower()"
   ]
  },
  {
   "cell_type": "markdown",
   "id": "913e3eec",
   "metadata": {},
   "source": [
    "Рассмотрим столбец gender"
   ]
  },
  {
   "cell_type": "code",
   "execution_count": 30,
   "id": "566a2b27",
   "metadata": {},
   "outputs": [
    {
     "data": {
      "text/plain": [
       "array(['F', 'M', 'XNA'], dtype=object)"
      ]
     },
     "execution_count": 30,
     "metadata": {},
     "output_type": "execute_result"
    }
   ],
   "source": [
    "data['gender'].unique()"
   ]
  },
  {
   "cell_type": "code",
   "execution_count": 31,
   "id": "419ee553",
   "metadata": {},
   "outputs": [
    {
     "data": {
      "text/html": [
       "<div>\n",
       "<style scoped>\n",
       "    .dataframe tbody tr th:only-of-type {\n",
       "        vertical-align: middle;\n",
       "    }\n",
       "\n",
       "    .dataframe tbody tr th {\n",
       "        vertical-align: top;\n",
       "    }\n",
       "\n",
       "    .dataframe thead th {\n",
       "        text-align: right;\n",
       "    }\n",
       "</style>\n",
       "<table border=\"1\" class=\"dataframe\">\n",
       "  <thead>\n",
       "    <tr style=\"text-align: right;\">\n",
       "      <th></th>\n",
       "      <th>children</th>\n",
       "      <th>days_employed</th>\n",
       "      <th>dob_years</th>\n",
       "      <th>education</th>\n",
       "      <th>education_id</th>\n",
       "      <th>family_status</th>\n",
       "      <th>family_status_id</th>\n",
       "      <th>gender</th>\n",
       "      <th>income_type</th>\n",
       "      <th>debt</th>\n",
       "      <th>total_income</th>\n",
       "      <th>purpose</th>\n",
       "    </tr>\n",
       "  </thead>\n",
       "  <tbody>\n",
       "    <tr>\n",
       "      <th>10701</th>\n",
       "      <td>0.0</td>\n",
       "      <td>-2358.600502</td>\n",
       "      <td>24</td>\n",
       "      <td>неоконченное высшее</td>\n",
       "      <td>2</td>\n",
       "      <td>гражданский брак</td>\n",
       "      <td>1</td>\n",
       "      <td>XNA</td>\n",
       "      <td>компаньон</td>\n",
       "      <td>0</td>\n",
       "      <td>203905.157261</td>\n",
       "      <td>покупка недвижимости</td>\n",
       "    </tr>\n",
       "  </tbody>\n",
       "</table>\n",
       "</div>"
      ],
      "text/plain": [
       "       children  days_employed  dob_years            education  education_id  \\\n",
       "10701       0.0   -2358.600502         24  неоконченное высшее             2   \n",
       "\n",
       "          family_status  family_status_id gender income_type  debt  \\\n",
       "10701  гражданский брак                 1    XNA   компаньон     0   \n",
       "\n",
       "        total_income               purpose  \n",
       "10701  203905.157261  покупка недвижимости  "
      ]
     },
     "execution_count": 31,
     "metadata": {},
     "output_type": "execute_result"
    }
   ],
   "source": [
    "anomal_gender = data[data['gender']=='XNA']\n",
    "anomal_gender"
   ]
  },
  {
   "cell_type": "markdown",
   "id": "de1a67b3",
   "metadata": {},
   "source": [
    "посчитаем сколько мужчин/женщин в выборке подходящим категориальным критериям"
   ]
  },
  {
   "cell_type": "code",
   "execution_count": 32,
   "id": "0345b704",
   "metadata": {},
   "outputs": [
    {
     "data": {
      "text/plain": [
       "gender\n",
       "F      40\n",
       "M      21\n",
       "XNA     1\n",
       "Name: gender, dtype: int64"
      ]
     },
     "execution_count": 32,
     "metadata": {},
     "output_type": "execute_result"
    }
   ],
   "source": [
    "data[(data['family_status']=='гражданский брак') & (data['income_type']=='компаньон')& (data['education_id']==2)] .groupby(['gender'])['gender'].count()"
   ]
  },
  {
   "cell_type": "markdown",
   "id": "1cf95857",
   "metadata": {},
   "source": [
    "Так как наиболее встречающийся пол по заданным парметрам женский, назначим данной строке женский пол\n",
    "purpose намеренно пропустили"
   ]
  },
  {
   "cell_type": "code",
   "execution_count": 33,
   "id": "6d84a057",
   "metadata": {},
   "outputs": [],
   "source": [
    "data.loc[data['gender'] == 'XNA', 'gender'] = 'F'"
   ]
  },
  {
   "cell_type": "code",
   "execution_count": 34,
   "id": "0667010e",
   "metadata": {},
   "outputs": [
    {
     "data": {
      "text/plain": [
       "array(['F', 'M'], dtype=object)"
      ]
     },
     "execution_count": 34,
     "metadata": {},
     "output_type": "execute_result"
    }
   ],
   "source": [
    "data['gender'].unique()"
   ]
  },
  {
   "cell_type": "markdown",
   "id": "f2fdde14",
   "metadata": {},
   "source": [
    "Рассмотрим столбец income_type"
   ]
  },
  {
   "cell_type": "code",
   "execution_count": 35,
   "id": "2fc77969",
   "metadata": {},
   "outputs": [
    {
     "data": {
      "text/plain": [
       "array(['сотрудник', 'пенсионер', 'компаньон', 'госслужащий',\n",
       "       'безработный', 'предприниматель', 'студент', 'в декрете'],\n",
       "      dtype=object)"
      ]
     },
     "execution_count": 35,
     "metadata": {},
     "output_type": "execute_result"
    }
   ],
   "source": [
    "data['income_type'].unique()"
   ]
  },
  {
   "cell_type": "markdown",
   "id": "8e6168eb",
   "metadata": {},
   "source": [
    "Рассмотрим столбец debt"
   ]
  },
  {
   "cell_type": "code",
   "execution_count": 36,
   "id": "e9285932",
   "metadata": {},
   "outputs": [
    {
     "data": {
      "text/plain": [
       "array([0, 1])"
      ]
     },
     "execution_count": 36,
     "metadata": {},
     "output_type": "execute_result"
    }
   ],
   "source": [
    "data['debt'].unique()"
   ]
  },
  {
   "cell_type": "markdown",
   "id": "89acbd10",
   "metadata": {},
   "source": [
    "Рассмотрим столбец purpose"
   ]
  },
  {
   "cell_type": "code",
   "execution_count": 37,
   "id": "78669ac1",
   "metadata": {},
   "outputs": [
    {
     "data": {
      "text/plain": [
       "array(['покупка жилья', 'приобретение автомобиля',\n",
       "       'дополнительное образование', 'сыграть свадьбу',\n",
       "       'операции с жильем', 'образование', 'на проведение свадьбы',\n",
       "       'покупка жилья для семьи', 'покупка недвижимости',\n",
       "       'покупка коммерческой недвижимости', 'покупка жилой недвижимости',\n",
       "       'строительство собственной недвижимости', 'недвижимость',\n",
       "       'строительство недвижимости', 'на покупку подержанного автомобиля',\n",
       "       'на покупку своего автомобиля',\n",
       "       'операции с коммерческой недвижимостью',\n",
       "       'строительство жилой недвижимости', 'жилье',\n",
       "       'операции со своей недвижимостью', 'автомобили',\n",
       "       'заняться образованием', 'сделка с подержанным автомобилем',\n",
       "       'получение образования', 'автомобиль', 'свадьба',\n",
       "       'получение дополнительного образования', 'покупка своего жилья',\n",
       "       'операции с недвижимостью', 'получение высшего образования',\n",
       "       'свой автомобиль', 'сделка с автомобилем',\n",
       "       'профильное образование', 'высшее образование',\n",
       "       'покупка жилья для сдачи', 'на покупку автомобиля', 'ремонт жилью',\n",
       "       'заняться высшим образованием'], dtype=object)"
      ]
     },
     "execution_count": 37,
     "metadata": {},
     "output_type": "execute_result"
    }
   ],
   "source": [
    "data['purpose'].unique()"
   ]
  },
  {
   "cell_type": "markdown",
   "id": "8e901efe",
   "metadata": {},
   "source": [
    "    Аномальных значений нет, но одинаковые по смыслу значения присутствуют, уберем их когда будем убирать дубликаты"
   ]
  },
  {
   "cell_type": "markdown",
   "id": "4c7c0f55",
   "metadata": {},
   "source": [
    "### Шаг 2.3. Изменение типов данных."
   ]
  },
  {
   "cell_type": "markdown",
   "id": "b43c66a8",
   "metadata": {},
   "source": [
    "Заменим тип данных в столбце total_income"
   ]
  },
  {
   "cell_type": "code",
   "execution_count": 38,
   "id": "ce5a6f5a",
   "metadata": {},
   "outputs": [],
   "source": [
    "data['total_income'] = data['total_income'].astype('int')"
   ]
  },
  {
   "cell_type": "markdown",
   "id": "894faf4a",
   "metadata": {},
   "source": [
    "### Шаг 2.4. Удаление дубликатов."
   ]
  },
  {
   "cell_type": "code",
   "execution_count": 39,
   "id": "ad25f4a1",
   "metadata": {},
   "outputs": [
    {
     "data": {
      "text/plain": [
       "0.0     14127\n",
       "1.0      4802\n",
       "2.0      2117\n",
       "3.0       328\n",
       "42.0      101\n",
       "4.0        41\n",
       "5.0         9\n",
       "Name: children, dtype: int64"
      ]
     },
     "execution_count": 39,
     "metadata": {},
     "output_type": "execute_result"
    }
   ],
   "source": [
    "data['children'].value_counts()"
   ]
  },
  {
   "cell_type": "markdown",
   "id": "b63fb7c5",
   "metadata": {},
   "source": [
    "Откуда-то появилось количество детей равное 42, был выброс -1 и 20, которые мы заменили, заменим и это. Откуда это появилось непонятно, но предобратобать это необходимо"
   ]
  },
  {
   "cell_type": "code",
   "execution_count": 40,
   "id": "ddbf8327",
   "metadata": {},
   "outputs": [],
   "source": [
    "data.loc[data['children'] == 42, 'children'] = 4"
   ]
  },
  {
   "cell_type": "code",
   "execution_count": 41,
   "id": "882a2749",
   "metadata": {},
   "outputs": [
    {
     "data": {
      "text/plain": [
       "0.0    14127\n",
       "1.0     4802\n",
       "2.0     2117\n",
       "3.0      328\n",
       "4.0      142\n",
       "5.0        9\n",
       "Name: children, dtype: int64"
      ]
     },
     "execution_count": 41,
     "metadata": {},
     "output_type": "execute_result"
    }
   ],
   "source": [
    "data['children'].value_counts()"
   ]
  },
  {
   "cell_type": "code",
   "execution_count": 42,
   "id": "de11a012",
   "metadata": {},
   "outputs": [
    {
     "data": {
      "text/plain": [
       "среднее                15233\n",
       "высшее                  5260\n",
       "неоконченное высшее      744\n",
       "начальное                282\n",
       "ученая степень             6\n",
       "Name: education, dtype: int64"
      ]
     },
     "execution_count": 42,
     "metadata": {},
     "output_type": "execute_result"
    }
   ],
   "source": [
    "data['education'].value_counts()"
   ]
  },
  {
   "cell_type": "markdown",
   "id": "39ce1537",
   "metadata": {},
   "source": [
    "Неявные дубликаты мы удалили когда преобразовали значения столбца по образованию в нижний регистр. "
   ]
  },
  {
   "cell_type": "code",
   "execution_count": 43,
   "id": "2ad95390",
   "metadata": {},
   "outputs": [],
   "source": [
    "#удалим явные дубликаты\n",
    "data = data.drop_duplicates()"
   ]
  },
  {
   "cell_type": "markdown",
   "id": "8e6adbbd",
   "metadata": {},
   "source": [
    "### Шаг 2.5. Формирование дополнительных датафреймов словарей, декомпозиция исходного датафрейма."
   ]
  },
  {
   "cell_type": "markdown",
   "id": "28f3502d",
   "metadata": {},
   "source": [
    "Создадим два новых датафрейма, в которых:\n",
    "\t\n",
    "    каждому уникальному значению из education соответствует уникальное значение education_id — в первом;\n",
    "\tкаждому уникальному значению из family_status соответствует уникальное значение family_status_id — во втором."
   ]
  },
  {
   "cell_type": "code",
   "execution_count": 44,
   "id": "af40b872",
   "metadata": {},
   "outputs": [
    {
     "data": {
      "text/html": [
       "<div>\n",
       "<style scoped>\n",
       "    .dataframe tbody tr th:only-of-type {\n",
       "        vertical-align: middle;\n",
       "    }\n",
       "\n",
       "    .dataframe tbody tr th {\n",
       "        vertical-align: top;\n",
       "    }\n",
       "\n",
       "    .dataframe thead th {\n",
       "        text-align: right;\n",
       "    }\n",
       "</style>\n",
       "<table border=\"1\" class=\"dataframe\">\n",
       "  <thead>\n",
       "    <tr style=\"text-align: right;\">\n",
       "      <th></th>\n",
       "      <th>education</th>\n",
       "      <th>education_id</th>\n",
       "    </tr>\n",
       "  </thead>\n",
       "  <tbody>\n",
       "    <tr>\n",
       "      <th>0</th>\n",
       "      <td>высшее</td>\n",
       "      <td>0</td>\n",
       "    </tr>\n",
       "    <tr>\n",
       "      <th>1</th>\n",
       "      <td>среднее</td>\n",
       "      <td>1</td>\n",
       "    </tr>\n",
       "    <tr>\n",
       "      <th>13</th>\n",
       "      <td>неоконченное высшее</td>\n",
       "      <td>2</td>\n",
       "    </tr>\n",
       "    <tr>\n",
       "      <th>31</th>\n",
       "      <td>начальное</td>\n",
       "      <td>3</td>\n",
       "    </tr>\n",
       "    <tr>\n",
       "      <th>2963</th>\n",
       "      <td>ученая степень</td>\n",
       "      <td>4</td>\n",
       "    </tr>\n",
       "  </tbody>\n",
       "</table>\n",
       "</div>"
      ],
      "text/plain": [
       "                education  education_id\n",
       "0                  высшее             0\n",
       "1                 среднее             1\n",
       "13    неоконченное высшее             2\n",
       "31              начальное             3\n",
       "2963       ученая степень             4"
      ]
     },
     "execution_count": 44,
     "metadata": {},
     "output_type": "execute_result"
    }
   ],
   "source": [
    "education = data.iloc[:,3:5]\n",
    "education = education.drop_duplicates()\n",
    "education"
   ]
  },
  {
   "cell_type": "code",
   "execution_count": 45,
   "id": "7c422b21",
   "metadata": {},
   "outputs": [
    {
     "data": {
      "text/html": [
       "<div>\n",
       "<style scoped>\n",
       "    .dataframe tbody tr th:only-of-type {\n",
       "        vertical-align: middle;\n",
       "    }\n",
       "\n",
       "    .dataframe tbody tr th {\n",
       "        vertical-align: top;\n",
       "    }\n",
       "\n",
       "    .dataframe thead th {\n",
       "        text-align: right;\n",
       "    }\n",
       "</style>\n",
       "<table border=\"1\" class=\"dataframe\">\n",
       "  <thead>\n",
       "    <tr style=\"text-align: right;\">\n",
       "      <th></th>\n",
       "      <th>family_status</th>\n",
       "      <th>family_status_id</th>\n",
       "    </tr>\n",
       "  </thead>\n",
       "  <tbody>\n",
       "    <tr>\n",
       "      <th>0</th>\n",
       "      <td>женат / замужем</td>\n",
       "      <td>0</td>\n",
       "    </tr>\n",
       "    <tr>\n",
       "      <th>4</th>\n",
       "      <td>гражданский брак</td>\n",
       "      <td>1</td>\n",
       "    </tr>\n",
       "    <tr>\n",
       "      <th>18</th>\n",
       "      <td>вдовец / вдова</td>\n",
       "      <td>2</td>\n",
       "    </tr>\n",
       "    <tr>\n",
       "      <th>19</th>\n",
       "      <td>в разводе</td>\n",
       "      <td>3</td>\n",
       "    </tr>\n",
       "    <tr>\n",
       "      <th>24</th>\n",
       "      <td>не женат / не замужем</td>\n",
       "      <td>4</td>\n",
       "    </tr>\n",
       "  </tbody>\n",
       "</table>\n",
       "</div>"
      ],
      "text/plain": [
       "            family_status  family_status_id\n",
       "0         женат / замужем                 0\n",
       "4        гражданский брак                 1\n",
       "18         вдовец / вдова                 2\n",
       "19              в разводе                 3\n",
       "24  не женат / не замужем                 4"
      ]
     },
     "execution_count": 45,
     "metadata": {},
     "output_type": "execute_result"
    }
   ],
   "source": [
    "family_status = data.iloc[:,5:7]\n",
    "family_status = family_status.drop_duplicates()\n",
    "family_status"
   ]
  },
  {
   "cell_type": "markdown",
   "id": "2338b181",
   "metadata": {},
   "source": [
    "Удалим столбцы education и family_status, оставив только их идентификаторы: education_id и family_status_id"
   ]
  },
  {
   "cell_type": "code",
   "execution_count": 46,
   "id": "2a054377",
   "metadata": {},
   "outputs": [],
   "source": [
    "data = data.drop(columns = ['education', 'family_status'], axis = 1) "
   ]
  },
  {
   "cell_type": "markdown",
   "id": "a0ca19b8",
   "metadata": {},
   "source": [
    "### Шаг 2.6. Категоризация дохода."
   ]
  },
  {
   "cell_type": "markdown",
   "id": "86bc4304",
   "metadata": {},
   "source": [
    "Напишем функцию по категоризации дохода"
   ]
  },
  {
   "cell_type": "code",
   "execution_count": 47,
   "id": "2ba111b4",
   "metadata": {},
   "outputs": [],
   "source": [
    "def catagorize_income(income):\n",
    "    if income <= 30000:\n",
    "        category = 'E'\n",
    "        return category\n",
    "    elif 50000 >= income > 30000:\n",
    "        category = 'D'\n",
    "        return category\n",
    "    elif 200000 >= income > 50000:\n",
    "        category = 'C'\n",
    "        return category\n",
    "    elif 1000000 >= income > 200000:\n",
    "        category = 'B'\n",
    "        return category\n",
    "    else:\n",
    "        category = 'A'\n",
    "        return category"
   ]
  },
  {
   "cell_type": "code",
   "execution_count": 48,
   "id": "3907df6f",
   "metadata": {},
   "outputs": [
    {
     "data": {
      "text/html": [
       "<div>\n",
       "<style scoped>\n",
       "    .dataframe tbody tr th:only-of-type {\n",
       "        vertical-align: middle;\n",
       "    }\n",
       "\n",
       "    .dataframe tbody tr th {\n",
       "        vertical-align: top;\n",
       "    }\n",
       "\n",
       "    .dataframe thead th {\n",
       "        text-align: right;\n",
       "    }\n",
       "</style>\n",
       "<table border=\"1\" class=\"dataframe\">\n",
       "  <thead>\n",
       "    <tr style=\"text-align: right;\">\n",
       "      <th></th>\n",
       "      <th>children</th>\n",
       "      <th>days_employed</th>\n",
       "      <th>dob_years</th>\n",
       "      <th>education_id</th>\n",
       "      <th>family_status_id</th>\n",
       "      <th>gender</th>\n",
       "      <th>income_type</th>\n",
       "      <th>debt</th>\n",
       "      <th>total_income</th>\n",
       "      <th>purpose</th>\n",
       "      <th>total_income_category</th>\n",
       "    </tr>\n",
       "  </thead>\n",
       "  <tbody>\n",
       "    <tr>\n",
       "      <th>0</th>\n",
       "      <td>1.0</td>\n",
       "      <td>-8437.673028</td>\n",
       "      <td>42</td>\n",
       "      <td>0</td>\n",
       "      <td>0</td>\n",
       "      <td>F</td>\n",
       "      <td>сотрудник</td>\n",
       "      <td>0</td>\n",
       "      <td>253875</td>\n",
       "      <td>покупка жилья</td>\n",
       "      <td>B</td>\n",
       "    </tr>\n",
       "    <tr>\n",
       "      <th>1</th>\n",
       "      <td>1.0</td>\n",
       "      <td>-4024.803754</td>\n",
       "      <td>36</td>\n",
       "      <td>1</td>\n",
       "      <td>0</td>\n",
       "      <td>F</td>\n",
       "      <td>сотрудник</td>\n",
       "      <td>0</td>\n",
       "      <td>112080</td>\n",
       "      <td>приобретение автомобиля</td>\n",
       "      <td>C</td>\n",
       "    </tr>\n",
       "    <tr>\n",
       "      <th>2</th>\n",
       "      <td>0.0</td>\n",
       "      <td>-5623.422610</td>\n",
       "      <td>33</td>\n",
       "      <td>1</td>\n",
       "      <td>0</td>\n",
       "      <td>M</td>\n",
       "      <td>сотрудник</td>\n",
       "      <td>0</td>\n",
       "      <td>145885</td>\n",
       "      <td>покупка жилья</td>\n",
       "      <td>C</td>\n",
       "    </tr>\n",
       "    <tr>\n",
       "      <th>3</th>\n",
       "      <td>3.0</td>\n",
       "      <td>-4124.747207</td>\n",
       "      <td>32</td>\n",
       "      <td>1</td>\n",
       "      <td>0</td>\n",
       "      <td>M</td>\n",
       "      <td>сотрудник</td>\n",
       "      <td>0</td>\n",
       "      <td>267628</td>\n",
       "      <td>дополнительное образование</td>\n",
       "      <td>B</td>\n",
       "    </tr>\n",
       "    <tr>\n",
       "      <th>4</th>\n",
       "      <td>0.0</td>\n",
       "      <td>340266.072047</td>\n",
       "      <td>53</td>\n",
       "      <td>1</td>\n",
       "      <td>1</td>\n",
       "      <td>F</td>\n",
       "      <td>пенсионер</td>\n",
       "      <td>0</td>\n",
       "      <td>158616</td>\n",
       "      <td>сыграть свадьбу</td>\n",
       "      <td>C</td>\n",
       "    </tr>\n",
       "    <tr>\n",
       "      <th>5</th>\n",
       "      <td>0.0</td>\n",
       "      <td>-926.185831</td>\n",
       "      <td>27</td>\n",
       "      <td>0</td>\n",
       "      <td>1</td>\n",
       "      <td>M</td>\n",
       "      <td>компаньон</td>\n",
       "      <td>0</td>\n",
       "      <td>255763</td>\n",
       "      <td>покупка жилья</td>\n",
       "      <td>B</td>\n",
       "    </tr>\n",
       "    <tr>\n",
       "      <th>6</th>\n",
       "      <td>0.0</td>\n",
       "      <td>-2879.202052</td>\n",
       "      <td>43</td>\n",
       "      <td>0</td>\n",
       "      <td>0</td>\n",
       "      <td>F</td>\n",
       "      <td>компаньон</td>\n",
       "      <td>0</td>\n",
       "      <td>240525</td>\n",
       "      <td>операции с жильем</td>\n",
       "      <td>B</td>\n",
       "    </tr>\n",
       "    <tr>\n",
       "      <th>7</th>\n",
       "      <td>0.0</td>\n",
       "      <td>-152.779569</td>\n",
       "      <td>50</td>\n",
       "      <td>1</td>\n",
       "      <td>0</td>\n",
       "      <td>M</td>\n",
       "      <td>сотрудник</td>\n",
       "      <td>0</td>\n",
       "      <td>135823</td>\n",
       "      <td>образование</td>\n",
       "      <td>C</td>\n",
       "    </tr>\n",
       "    <tr>\n",
       "      <th>8</th>\n",
       "      <td>2.0</td>\n",
       "      <td>-6929.865299</td>\n",
       "      <td>35</td>\n",
       "      <td>0</td>\n",
       "      <td>1</td>\n",
       "      <td>F</td>\n",
       "      <td>сотрудник</td>\n",
       "      <td>0</td>\n",
       "      <td>95856</td>\n",
       "      <td>на проведение свадьбы</td>\n",
       "      <td>C</td>\n",
       "    </tr>\n",
       "    <tr>\n",
       "      <th>9</th>\n",
       "      <td>0.0</td>\n",
       "      <td>-2188.756445</td>\n",
       "      <td>41</td>\n",
       "      <td>1</td>\n",
       "      <td>0</td>\n",
       "      <td>M</td>\n",
       "      <td>сотрудник</td>\n",
       "      <td>0</td>\n",
       "      <td>144425</td>\n",
       "      <td>покупка жилья для семьи</td>\n",
       "      <td>C</td>\n",
       "    </tr>\n",
       "  </tbody>\n",
       "</table>\n",
       "</div>"
      ],
      "text/plain": [
       "   children  days_employed  dob_years  education_id  family_status_id gender  \\\n",
       "0       1.0   -8437.673028         42             0                 0      F   \n",
       "1       1.0   -4024.803754         36             1                 0      F   \n",
       "2       0.0   -5623.422610         33             1                 0      M   \n",
       "3       3.0   -4124.747207         32             1                 0      M   \n",
       "4       0.0  340266.072047         53             1                 1      F   \n",
       "5       0.0    -926.185831         27             0                 1      M   \n",
       "6       0.0   -2879.202052         43             0                 0      F   \n",
       "7       0.0    -152.779569         50             1                 0      M   \n",
       "8       2.0   -6929.865299         35             0                 1      F   \n",
       "9       0.0   -2188.756445         41             1                 0      M   \n",
       "\n",
       "  income_type  debt  total_income                     purpose  \\\n",
       "0   сотрудник     0        253875               покупка жилья   \n",
       "1   сотрудник     0        112080     приобретение автомобиля   \n",
       "2   сотрудник     0        145885               покупка жилья   \n",
       "3   сотрудник     0        267628  дополнительное образование   \n",
       "4   пенсионер     0        158616             сыграть свадьбу   \n",
       "5   компаньон     0        255763               покупка жилья   \n",
       "6   компаньон     0        240525           операции с жильем   \n",
       "7   сотрудник     0        135823                 образование   \n",
       "8   сотрудник     0         95856       на проведение свадьбы   \n",
       "9   сотрудник     0        144425     покупка жилья для семьи   \n",
       "\n",
       "  total_income_category  \n",
       "0                     B  \n",
       "1                     C  \n",
       "2                     C  \n",
       "3                     B  \n",
       "4                     C  \n",
       "5                     B  \n",
       "6                     B  \n",
       "7                     C  \n",
       "8                     C  \n",
       "9                     C  "
      ]
     },
     "execution_count": 48,
     "metadata": {},
     "output_type": "execute_result"
    }
   ],
   "source": [
    "data['total_income_category'] = data['total_income'].apply(catagorize_income) \n",
    "data.head(10)"
   ]
  },
  {
   "cell_type": "markdown",
   "id": "347aa973",
   "metadata": {},
   "source": [
    "### Шаг 2.7. Категоризация целей кредита."
   ]
  },
  {
   "cell_type": "markdown",
   "id": "d58389ac",
   "metadata": {},
   "source": [
    "Напишем функцию по категоризации целей кредита"
   ]
  },
  {
   "cell_type": "code",
   "execution_count": 49,
   "id": "e8a6dbef",
   "metadata": {},
   "outputs": [],
   "source": [
    "def catagorize_purpose(purpose):\n",
    "    if 'авто' in purpose:\n",
    "        category = 'операции с автомобилем'\n",
    "        return category\n",
    "    elif 'свадьб' in purpose:\n",
    "        category = 'проведение свадьбы'\n",
    "        return category\n",
    "    elif 'образован' in purpose:\n",
    "        category = 'получение образования'\n",
    "        return category\n",
    "    else:\n",
    "        category = 'операции с недвижимостью'\n",
    "        return category"
   ]
  },
  {
   "cell_type": "code",
   "execution_count": 50,
   "id": "4c90c757",
   "metadata": {},
   "outputs": [
    {
     "data": {
      "text/html": [
       "<div>\n",
       "<style scoped>\n",
       "    .dataframe tbody tr th:only-of-type {\n",
       "        vertical-align: middle;\n",
       "    }\n",
       "\n",
       "    .dataframe tbody tr th {\n",
       "        vertical-align: top;\n",
       "    }\n",
       "\n",
       "    .dataframe thead th {\n",
       "        text-align: right;\n",
       "    }\n",
       "</style>\n",
       "<table border=\"1\" class=\"dataframe\">\n",
       "  <thead>\n",
       "    <tr style=\"text-align: right;\">\n",
       "      <th></th>\n",
       "      <th>children</th>\n",
       "      <th>days_employed</th>\n",
       "      <th>dob_years</th>\n",
       "      <th>education_id</th>\n",
       "      <th>family_status_id</th>\n",
       "      <th>gender</th>\n",
       "      <th>income_type</th>\n",
       "      <th>debt</th>\n",
       "      <th>total_income</th>\n",
       "      <th>purpose</th>\n",
       "      <th>total_income_category</th>\n",
       "      <th>purpose_category</th>\n",
       "    </tr>\n",
       "  </thead>\n",
       "  <tbody>\n",
       "    <tr>\n",
       "      <th>0</th>\n",
       "      <td>1.0</td>\n",
       "      <td>-8437.673028</td>\n",
       "      <td>42</td>\n",
       "      <td>0</td>\n",
       "      <td>0</td>\n",
       "      <td>F</td>\n",
       "      <td>сотрудник</td>\n",
       "      <td>0</td>\n",
       "      <td>253875</td>\n",
       "      <td>покупка жилья</td>\n",
       "      <td>B</td>\n",
       "      <td>операции с недвижимостью</td>\n",
       "    </tr>\n",
       "    <tr>\n",
       "      <th>1</th>\n",
       "      <td>1.0</td>\n",
       "      <td>-4024.803754</td>\n",
       "      <td>36</td>\n",
       "      <td>1</td>\n",
       "      <td>0</td>\n",
       "      <td>F</td>\n",
       "      <td>сотрудник</td>\n",
       "      <td>0</td>\n",
       "      <td>112080</td>\n",
       "      <td>приобретение автомобиля</td>\n",
       "      <td>C</td>\n",
       "      <td>операции с автомобилем</td>\n",
       "    </tr>\n",
       "    <tr>\n",
       "      <th>2</th>\n",
       "      <td>0.0</td>\n",
       "      <td>-5623.422610</td>\n",
       "      <td>33</td>\n",
       "      <td>1</td>\n",
       "      <td>0</td>\n",
       "      <td>M</td>\n",
       "      <td>сотрудник</td>\n",
       "      <td>0</td>\n",
       "      <td>145885</td>\n",
       "      <td>покупка жилья</td>\n",
       "      <td>C</td>\n",
       "      <td>операции с недвижимостью</td>\n",
       "    </tr>\n",
       "    <tr>\n",
       "      <th>3</th>\n",
       "      <td>3.0</td>\n",
       "      <td>-4124.747207</td>\n",
       "      <td>32</td>\n",
       "      <td>1</td>\n",
       "      <td>0</td>\n",
       "      <td>M</td>\n",
       "      <td>сотрудник</td>\n",
       "      <td>0</td>\n",
       "      <td>267628</td>\n",
       "      <td>дополнительное образование</td>\n",
       "      <td>B</td>\n",
       "      <td>получение образования</td>\n",
       "    </tr>\n",
       "    <tr>\n",
       "      <th>4</th>\n",
       "      <td>0.0</td>\n",
       "      <td>340266.072047</td>\n",
       "      <td>53</td>\n",
       "      <td>1</td>\n",
       "      <td>1</td>\n",
       "      <td>F</td>\n",
       "      <td>пенсионер</td>\n",
       "      <td>0</td>\n",
       "      <td>158616</td>\n",
       "      <td>сыграть свадьбу</td>\n",
       "      <td>C</td>\n",
       "      <td>проведение свадьбы</td>\n",
       "    </tr>\n",
       "    <tr>\n",
       "      <th>5</th>\n",
       "      <td>0.0</td>\n",
       "      <td>-926.185831</td>\n",
       "      <td>27</td>\n",
       "      <td>0</td>\n",
       "      <td>1</td>\n",
       "      <td>M</td>\n",
       "      <td>компаньон</td>\n",
       "      <td>0</td>\n",
       "      <td>255763</td>\n",
       "      <td>покупка жилья</td>\n",
       "      <td>B</td>\n",
       "      <td>операции с недвижимостью</td>\n",
       "    </tr>\n",
       "    <tr>\n",
       "      <th>6</th>\n",
       "      <td>0.0</td>\n",
       "      <td>-2879.202052</td>\n",
       "      <td>43</td>\n",
       "      <td>0</td>\n",
       "      <td>0</td>\n",
       "      <td>F</td>\n",
       "      <td>компаньон</td>\n",
       "      <td>0</td>\n",
       "      <td>240525</td>\n",
       "      <td>операции с жильем</td>\n",
       "      <td>B</td>\n",
       "      <td>операции с недвижимостью</td>\n",
       "    </tr>\n",
       "    <tr>\n",
       "      <th>7</th>\n",
       "      <td>0.0</td>\n",
       "      <td>-152.779569</td>\n",
       "      <td>50</td>\n",
       "      <td>1</td>\n",
       "      <td>0</td>\n",
       "      <td>M</td>\n",
       "      <td>сотрудник</td>\n",
       "      <td>0</td>\n",
       "      <td>135823</td>\n",
       "      <td>образование</td>\n",
       "      <td>C</td>\n",
       "      <td>получение образования</td>\n",
       "    </tr>\n",
       "    <tr>\n",
       "      <th>8</th>\n",
       "      <td>2.0</td>\n",
       "      <td>-6929.865299</td>\n",
       "      <td>35</td>\n",
       "      <td>0</td>\n",
       "      <td>1</td>\n",
       "      <td>F</td>\n",
       "      <td>сотрудник</td>\n",
       "      <td>0</td>\n",
       "      <td>95856</td>\n",
       "      <td>на проведение свадьбы</td>\n",
       "      <td>C</td>\n",
       "      <td>проведение свадьбы</td>\n",
       "    </tr>\n",
       "    <tr>\n",
       "      <th>9</th>\n",
       "      <td>0.0</td>\n",
       "      <td>-2188.756445</td>\n",
       "      <td>41</td>\n",
       "      <td>1</td>\n",
       "      <td>0</td>\n",
       "      <td>M</td>\n",
       "      <td>сотрудник</td>\n",
       "      <td>0</td>\n",
       "      <td>144425</td>\n",
       "      <td>покупка жилья для семьи</td>\n",
       "      <td>C</td>\n",
       "      <td>операции с недвижимостью</td>\n",
       "    </tr>\n",
       "  </tbody>\n",
       "</table>\n",
       "</div>"
      ],
      "text/plain": [
       "   children  days_employed  dob_years  education_id  family_status_id gender  \\\n",
       "0       1.0   -8437.673028         42             0                 0      F   \n",
       "1       1.0   -4024.803754         36             1                 0      F   \n",
       "2       0.0   -5623.422610         33             1                 0      M   \n",
       "3       3.0   -4124.747207         32             1                 0      M   \n",
       "4       0.0  340266.072047         53             1                 1      F   \n",
       "5       0.0    -926.185831         27             0                 1      M   \n",
       "6       0.0   -2879.202052         43             0                 0      F   \n",
       "7       0.0    -152.779569         50             1                 0      M   \n",
       "8       2.0   -6929.865299         35             0                 1      F   \n",
       "9       0.0   -2188.756445         41             1                 0      M   \n",
       "\n",
       "  income_type  debt  total_income                     purpose  \\\n",
       "0   сотрудник     0        253875               покупка жилья   \n",
       "1   сотрудник     0        112080     приобретение автомобиля   \n",
       "2   сотрудник     0        145885               покупка жилья   \n",
       "3   сотрудник     0        267628  дополнительное образование   \n",
       "4   пенсионер     0        158616             сыграть свадьбу   \n",
       "5   компаньон     0        255763               покупка жилья   \n",
       "6   компаньон     0        240525           операции с жильем   \n",
       "7   сотрудник     0        135823                 образование   \n",
       "8   сотрудник     0         95856       на проведение свадьбы   \n",
       "9   сотрудник     0        144425     покупка жилья для семьи   \n",
       "\n",
       "  total_income_category          purpose_category  \n",
       "0                     B  операции с недвижимостью  \n",
       "1                     C    операции с автомобилем  \n",
       "2                     C  операции с недвижимостью  \n",
       "3                     B     получение образования  \n",
       "4                     C        проведение свадьбы  \n",
       "5                     B  операции с недвижимостью  \n",
       "6                     B  операции с недвижимостью  \n",
       "7                     C     получение образования  \n",
       "8                     C        проведение свадьбы  \n",
       "9                     C  операции с недвижимостью  "
      ]
     },
     "execution_count": 50,
     "metadata": {},
     "output_type": "execute_result"
    }
   ],
   "source": [
    "data['purpose_category'] = data['purpose'].apply(catagorize_purpose) \n",
    "data.head(10)"
   ]
  },
  {
   "cell_type": "code",
   "execution_count": 51,
   "id": "bad7ed74",
   "metadata": {},
   "outputs": [],
   "source": [
    "data['have_kids'] = data['children']> 0"
   ]
  },
  {
   "cell_type": "code",
   "execution_count": 52,
   "id": "2379cadc",
   "metadata": {},
   "outputs": [
    {
     "data": {
      "text/plain": [
       "children\n",
       "0.0    0.075272\n",
       "1.0    0.092028\n",
       "2.0    0.095553\n",
       "3.0    0.082317\n",
       "4.0    0.084507\n",
       "5.0    0.000000\n",
       "Name: ratio, dtype: float64"
      ]
     },
     "execution_count": 52,
     "metadata": {},
     "output_type": "execute_result"
    }
   ],
   "source": [
    "data_pivot = data.pivot_table(index=['children'], columns='gender', values='debt', aggfunc='sum')\n",
    "data_pivot1 = data.pivot_table(index=['children'], columns='gender', values='debt', aggfunc='count')\n",
    "data_pivot['all_sum'] = data_pivot.sum(axis=1)\n",
    "data_pivot1['all_count'] = data_pivot1.sum(axis=1)\n",
    "data_all = data_pivot.merge(data_pivot1, left_on='children', right_on='children', how='outer')\n",
    "data_all['ratio'] = data_all['all_sum']/data_all['all_count']\n",
    "data_all.head(10)\n",
    "data_all.loc [:, 'ratio']"
   ]
  },
  {
   "cell_type": "markdown",
   "id": "a2311d5e",
   "metadata": {},
   "source": [
    "Судя по абсолютным данным чем больше детей тем меньше вероятность того, что ты просрочишь кредит. Причем эта предрасположенность распространяется и на мужчин и на женщин. Тем не менее при относительном рассмотрении цифры говорят другое - разницы примерно нет (порядка 10 процентов) исключение только люди у которых 5 детей - они самые ответсвенные.\n",
    "Посмотрим в целом зависимость количества детей на просрочку кредита"
   ]
  },
  {
   "cell_type": "code",
   "execution_count": 53,
   "id": "e7070b92",
   "metadata": {},
   "outputs": [
    {
     "data": {
      "text/plain": [
       "have_kids\n",
       "False    0.075272\n",
       "True     0.092349\n",
       "Name: ratio, dtype: float64"
      ]
     },
     "execution_count": 53,
     "metadata": {},
     "output_type": "execute_result"
    }
   ],
   "source": [
    "data_pivot = data.pivot_table(index=['have_kids'], columns='gender', values='debt', aggfunc='sum')\n",
    "data_pivot1 = data.pivot_table(index=['have_kids'], columns='gender', values='debt', aggfunc='count')\n",
    "data_pivot['all_sum'] = data_pivot.sum(axis=1)\n",
    "data_pivot1['all_count'] = data_pivot1.sum(axis=1)\n",
    "data_all = data_pivot.merge(data_pivot1, left_on='have_kids', right_on='have_kids', how='outer')\n",
    "data_all['ratio'] = data_all['all_sum']/data_all['all_count']\n",
    "data_all.loc [:, 'ratio']"
   ]
  },
  {
   "cell_type": "markdown",
   "id": "d796976d",
   "metadata": {},
   "source": [
    "Тут же можно сделать вывод, что андеррайтер скорее одобрит кредит человеку с детьми нежели без если он будет смотреть на абсолютыне числа и подумает что возможно наличие детей наделяет невобходимым уровнем ответственности для погашения кредита в срок. Но при просмотре относительных чисел он увидит, что вероятность отличается на 2 процента"
   ]
  },
  {
   "cell_type": "code",
   "execution_count": 54,
   "id": "f8165ef0",
   "metadata": {},
   "outputs": [
    {
     "data": {
      "text/plain": [
       "family_status\n",
       "в разводе                0.071130\n",
       "вдовец / вдова           0.065693\n",
       "гражданский брак         0.093471\n",
       "женат / замужем          0.075452\n",
       "не женат / не замужем    0.097509\n",
       "Name: ratio, dtype: float64"
      ]
     },
     "execution_count": 54,
     "metadata": {},
     "output_type": "execute_result"
    }
   ],
   "source": [
    "data_final  = data.merge(family_status, on='family_status_id', how='left')\n",
    "\n",
    "data_pivot = data_final.pivot_table(index=['family_status'], columns='gender', values='debt', aggfunc='sum')\n",
    "data_pivot1 = data_final.pivot_table(index=['family_status'], columns='gender', values='debt', aggfunc='count')\n",
    "data_pivot['all_sum'] = data_pivot.sum(axis=1)\n",
    "data_pivot1['all_count'] = data_pivot1.sum(axis=1)\n",
    "data_all = data_pivot.merge(data_pivot1, left_on='family_status', right_on='family_status', how='outer')\n",
    "data_all['ratio'] = data_all['all_sum']/data_all['all_count']\n",
    "data_all.loc [:, 'ratio']"
   ]
  },
  {
   "cell_type": "markdown",
   "id": "da304781",
   "metadata": {},
   "source": [
    "Судя по абсолютным данным люди которые находятся без отношений наименне вероятно просрочат кредит. Относительные же дают повод порассуждать.\n",
    "Так Люди состоящие в гражданском браке или не женатые/не зажужние вероятней просрочат кредит, а люди потерявщие супруга/супругу менее вероятней"
   ]
  },
  {
   "cell_type": "code",
   "execution_count": 55,
   "id": "9846ddc2",
   "metadata": {},
   "outputs": [
    {
     "data": {
      "text/plain": [
       "purpose_category\n",
       "операции с автомобилем      0.093590\n",
       "операции с недвижимостью    0.072334\n",
       "получение образования       0.092200\n",
       "проведение свадьбы          0.080034\n",
       "Name: ratio, dtype: float64"
      ]
     },
     "execution_count": 55,
     "metadata": {},
     "output_type": "execute_result"
    }
   ],
   "source": [
    "data_pivot = data.pivot_table(index=['purpose_category'], columns='gender', values='debt', aggfunc='sum')\n",
    "data_pivot = data_final.pivot_table(index=['purpose_category'], columns='gender', values='debt', aggfunc='sum')\n",
    "data_pivot1 = data_final.pivot_table(index=['purpose_category'], columns='gender', values='debt', aggfunc='count')\n",
    "data_pivot['all_sum'] = data_pivot.sum(axis=1)\n",
    "data_pivot1['all_count'] = data_pivot1.sum(axis=1)\n",
    "data_all = data_pivot.merge(data_pivot1, left_on='purpose_category', right_on='purpose_category', how='outer')\n",
    "data_all['ratio'] = data_all['all_sum']/data_all['all_count']\n",
    "data_all.loc [:, 'ratio']"
   ]
  },
  {
   "cell_type": "markdown",
   "id": "d14fc235",
   "metadata": {},
   "source": [
    "Подоавляющее количество \"просрочек\" по кредитам приходится на операции с недвижимостью, но это только потому что их их попросту больше, в относительном отношении выдача кредита для этой цели наиболее выгодна банку."
   ]
  },
  {
   "cell_type": "code",
   "execution_count": 56,
   "id": "a95906c6",
   "metadata": {},
   "outputs": [
    {
     "data": {
      "text/plain": [
       "total_income_category\n",
       "A    0.080000\n",
       "B    0.070621\n",
       "C    0.084915\n",
       "D    0.060000\n",
       "E    0.090909\n",
       "Name: ratio, dtype: float64"
      ]
     },
     "execution_count": 56,
     "metadata": {},
     "output_type": "execute_result"
    }
   ],
   "source": [
    "data_pivot = data.pivot_table(index=['total_income_category'], columns='gender', values='debt', aggfunc='sum')\n",
    "data_pivot = data_final.pivot_table(index=['total_income_category'], columns='gender', values='debt', aggfunc='sum')\n",
    "data_pivot1 = data_final.pivot_table(index=['total_income_category'], columns='gender', values='debt', aggfunc='count')\n",
    "data_pivot['all_sum'] = data_pivot.sum(axis=1)\n",
    "data_pivot1['all_count'] = data_pivot1.sum(axis=1)\n",
    "data_all = data_pivot.merge(data_pivot1, left_on='total_income_category', right_on='total_income_category', how='outer')\n",
    "data_all['ratio'] = data_all['all_sum']/data_all['all_count']\n",
    "data_all.loc [:, 'ratio']"
   ]
  },
  {
   "cell_type": "markdown",
   "id": "492f83e0",
   "metadata": {},
   "source": [
    "Интересное заключение - люди с малым достатком чаще остальных просрачивают кредит, а люди зарабатывающие чуть выше малого меньше всего."
   ]
  },
  {
   "cell_type": "markdown",
   "id": "d48ba350",
   "metadata": {},
   "source": [
    "## Общий вывод:"
   ]
  },
  {
   "cell_type": "markdown",
   "id": "4122784c",
   "metadata": {},
   "source": [
    "Основной задачей данного иследования было вявление закономерности между разными факторами и возвратом кредита в срок.\n",
    "Для проверки данной гипотезы использовалась выборка data.csv. Анализ данной выборки показал, что в файле присуствуют ошибки, которые были исправлены. Самая основная претензция к выборке - это отсутствие уникального идентификатора по записи, по которому и можно было бы определять дубликат. Аналогично тому как у family_status есть family_status_id.\n",
    "\n",
    "Убрав все ошибки, обощая все собранные данные можно сказать, что важно смотреть на относительные данные ибо в противном случае банк будем думать что богатые или бедные люди с детьми и без отношений берущие кредит не для покупки недвижимости - самые лучшие клиенты банков, когда реальность немного сложнее. В прочем, ничего нового."
   ]
  },
  {
   "cell_type": "code",
   "execution_count": null,
   "id": "00844830",
   "metadata": {},
   "outputs": [],
   "source": []
  }
 ],
 "metadata": {
  "ExecuteTimeLog": [
   {
    "duration": 758,
    "start_time": "2022-03-04T12:58:44.288Z"
   },
   {
    "duration": 88,
    "start_time": "2022-03-04T12:59:16.756Z"
   },
   {
    "duration": 16,
    "start_time": "2022-03-04T13:00:16.685Z"
   },
   {
    "duration": 11,
    "start_time": "2022-03-04T13:25:52.215Z"
   },
   {
    "duration": 11,
    "start_time": "2022-03-04T13:26:24.594Z"
   },
   {
    "duration": 11,
    "start_time": "2022-03-04T13:27:17.019Z"
   },
   {
    "duration": 20,
    "start_time": "2022-03-04T13:28:10.036Z"
   },
   {
    "duration": 8,
    "start_time": "2022-03-04T13:53:42.218Z"
   },
   {
    "duration": 7,
    "start_time": "2022-03-04T13:53:52.195Z"
   },
   {
    "duration": 6,
    "start_time": "2022-03-04T13:58:49.213Z"
   },
   {
    "duration": 11,
    "start_time": "2022-03-05T07:47:05.866Z"
   },
   {
    "duration": 11,
    "start_time": "2022-03-05T07:47:18.526Z"
   },
   {
    "duration": 8,
    "start_time": "2022-03-05T07:47:31.051Z"
   },
   {
    "duration": 383,
    "start_time": "2022-03-05T07:51:00.462Z"
   },
   {
    "duration": 296,
    "start_time": "2022-03-05T07:51:09.258Z"
   },
   {
    "duration": 13,
    "start_time": "2022-03-05T07:51:24.634Z"
   },
   {
    "duration": 26,
    "start_time": "2022-03-05T07:51:31.145Z"
   },
   {
    "duration": 23,
    "start_time": "2022-03-05T07:51:45.818Z"
   },
   {
    "duration": 23,
    "start_time": "2022-03-05T07:51:48.175Z"
   },
   {
    "duration": 27,
    "start_time": "2022-03-05T07:52:12.726Z"
   },
   {
    "duration": 9,
    "start_time": "2022-03-05T07:57:06.983Z"
   },
   {
    "duration": 21,
    "start_time": "2022-03-05T08:03:47.076Z"
   },
   {
    "duration": 16,
    "start_time": "2022-03-05T08:11:03.676Z"
   },
   {
    "duration": 11,
    "start_time": "2022-03-05T08:11:09.676Z"
   },
   {
    "duration": 15,
    "start_time": "2022-03-05T08:11:14.380Z"
   },
   {
    "duration": 9,
    "start_time": "2022-03-05T09:44:58.279Z"
   },
   {
    "duration": 10,
    "start_time": "2022-03-05T09:45:11.271Z"
   },
   {
    "duration": 22,
    "start_time": "2022-03-05T09:45:38.607Z"
   },
   {
    "duration": 13,
    "start_time": "2022-03-05T09:45:46.560Z"
   },
   {
    "duration": 318,
    "start_time": "2022-03-05T09:47:16.670Z"
   },
   {
    "duration": 40,
    "start_time": "2022-03-05T09:47:48.673Z"
   },
   {
    "duration": 21,
    "start_time": "2022-03-05T09:48:28.245Z"
   },
   {
    "duration": 12,
    "start_time": "2022-03-05T09:48:37.876Z"
   },
   {
    "duration": 36,
    "start_time": "2022-03-05T09:48:43.742Z"
   },
   {
    "duration": 20,
    "start_time": "2022-03-05T09:48:59.591Z"
   },
   {
    "duration": 7,
    "start_time": "2022-03-05T09:49:30.940Z"
   },
   {
    "duration": 6,
    "start_time": "2022-03-05T09:49:38.701Z"
   },
   {
    "duration": 6,
    "start_time": "2022-03-05T09:49:50.284Z"
   },
   {
    "duration": 6,
    "start_time": "2022-03-05T09:49:57.316Z"
   },
   {
    "duration": 5,
    "start_time": "2022-03-05T09:51:19.692Z"
   },
   {
    "duration": 5,
    "start_time": "2022-03-05T09:51:23.495Z"
   },
   {
    "duration": 7,
    "start_time": "2022-03-05T09:51:49.131Z"
   },
   {
    "duration": 8,
    "start_time": "2022-03-05T09:51:51.976Z"
   },
   {
    "duration": 8,
    "start_time": "2022-03-05T09:53:30.010Z"
   },
   {
    "duration": 5,
    "start_time": "2022-03-05T09:55:16.174Z"
   },
   {
    "duration": 5,
    "start_time": "2022-03-05T09:55:30.767Z"
   },
   {
    "duration": 95,
    "start_time": "2022-03-05T09:57:48.153Z"
   },
   {
    "duration": 6,
    "start_time": "2022-03-05T10:09:13.634Z"
   },
   {
    "duration": 7,
    "start_time": "2022-03-05T10:09:24.121Z"
   },
   {
    "duration": 7,
    "start_time": "2022-03-05T10:09:30.614Z"
   },
   {
    "duration": 7,
    "start_time": "2022-03-05T10:16:28.906Z"
   },
   {
    "duration": 7,
    "start_time": "2022-03-05T10:42:25.121Z"
   },
   {
    "duration": 87,
    "start_time": "2022-03-05T10:43:46.866Z"
   },
   {
    "duration": 36,
    "start_time": "2022-03-05T10:43:51.575Z"
   },
   {
    "duration": 10,
    "start_time": "2022-03-05T10:44:34.681Z"
   },
   {
    "duration": 8,
    "start_time": "2022-03-05T10:44:43.770Z"
   },
   {
    "duration": 8,
    "start_time": "2022-03-05T10:44:53.260Z"
   },
   {
    "duration": 278,
    "start_time": "2022-03-05T11:58:01.238Z"
   },
   {
    "duration": 9,
    "start_time": "2022-03-05T11:58:11.729Z"
   },
   {
    "duration": 7,
    "start_time": "2022-03-05T11:58:20.527Z"
   },
   {
    "duration": 8,
    "start_time": "2022-03-05T11:58:33.217Z"
   },
   {
    "duration": 11,
    "start_time": "2022-03-05T11:59:12.280Z"
   },
   {
    "duration": 37,
    "start_time": "2022-03-05T11:59:32.515Z"
   },
   {
    "duration": 272,
    "start_time": "2022-03-05T12:03:02.666Z"
   },
   {
    "duration": 323,
    "start_time": "2022-03-05T12:03:10.428Z"
   },
   {
    "duration": 93,
    "start_time": "2022-03-05T12:03:23.060Z"
   },
   {
    "duration": 5,
    "start_time": "2022-03-05T12:03:29.714Z"
   },
   {
    "duration": 7,
    "start_time": "2022-03-05T12:29:40.633Z"
   },
   {
    "duration": 46,
    "start_time": "2022-03-05T12:29:50.758Z"
   },
   {
    "duration": 8,
    "start_time": "2022-03-05T12:32:24.332Z"
   },
   {
    "duration": 6,
    "start_time": "2022-03-05T12:32:37.962Z"
   },
   {
    "duration": 6,
    "start_time": "2022-03-05T12:33:25.202Z"
   },
   {
    "duration": 278,
    "start_time": "2022-03-05T12:34:16.109Z"
   },
   {
    "duration": 15,
    "start_time": "2022-03-05T12:36:35.230Z"
   },
   {
    "duration": 14,
    "start_time": "2022-03-05T12:37:18.596Z"
   },
   {
    "duration": 5,
    "start_time": "2022-03-05T12:38:10.252Z"
   },
   {
    "duration": 35,
    "start_time": "2022-03-05T12:38:14.015Z"
   },
   {
    "duration": 13,
    "start_time": "2022-03-05T12:38:21.821Z"
   },
   {
    "duration": 36,
    "start_time": "2022-03-05T12:40:02.934Z"
   },
   {
    "duration": 10,
    "start_time": "2022-03-05T12:40:23.088Z"
   },
   {
    "duration": 10,
    "start_time": "2022-03-05T12:41:37.888Z"
   },
   {
    "duration": 18,
    "start_time": "2022-03-05T12:41:57.639Z"
   },
   {
    "duration": 10,
    "start_time": "2022-03-05T12:42:18.554Z"
   },
   {
    "duration": 10,
    "start_time": "2022-03-05T12:42:29.508Z"
   },
   {
    "duration": 10,
    "start_time": "2022-03-05T12:42:36.696Z"
   },
   {
    "duration": 12,
    "start_time": "2022-03-05T12:42:42.481Z"
   },
   {
    "duration": 10,
    "start_time": "2022-03-05T12:42:47.603Z"
   },
   {
    "duration": 12,
    "start_time": "2022-03-05T12:42:53.630Z"
   },
   {
    "duration": 10,
    "start_time": "2022-03-05T12:43:01.114Z"
   },
   {
    "duration": 10,
    "start_time": "2022-03-05T12:43:31.858Z"
   },
   {
    "duration": 284,
    "start_time": "2022-03-05T12:45:51.096Z"
   },
   {
    "duration": 10,
    "start_time": "2022-03-05T12:45:57.002Z"
   },
   {
    "duration": 27,
    "start_time": "2022-03-05T13:20:14.039Z"
   },
   {
    "duration": 12,
    "start_time": "2022-03-05T13:21:04.493Z"
   },
   {
    "duration": 9,
    "start_time": "2022-03-05T13:22:13.419Z"
   },
   {
    "duration": 19,
    "start_time": "2022-03-05T13:22:55.772Z"
   },
   {
    "duration": 17,
    "start_time": "2022-03-05T13:23:13.180Z"
   },
   {
    "duration": 10,
    "start_time": "2022-03-05T13:24:24.700Z"
   },
   {
    "duration": 5,
    "start_time": "2022-03-05T13:24:47.390Z"
   },
   {
    "duration": 8,
    "start_time": "2022-03-05T13:25:03.687Z"
   },
   {
    "duration": 7,
    "start_time": "2022-03-05T13:25:23.485Z"
   },
   {
    "duration": 9,
    "start_time": "2022-03-05T13:25:30.707Z"
   },
   {
    "duration": 16,
    "start_time": "2022-03-05T13:25:35.511Z"
   },
   {
    "duration": 8,
    "start_time": "2022-03-05T13:25:40.850Z"
   },
   {
    "duration": 8,
    "start_time": "2022-03-05T13:26:04.663Z"
   },
   {
    "duration": 10,
    "start_time": "2022-03-05T13:37:59.349Z"
   },
   {
    "duration": 13,
    "start_time": "2022-03-05T13:38:42.439Z"
   },
   {
    "duration": 9,
    "start_time": "2022-03-05T13:38:50.691Z"
   },
   {
    "duration": 11,
    "start_time": "2022-03-05T13:39:37.031Z"
   },
   {
    "duration": 11,
    "start_time": "2022-03-05T13:39:51.188Z"
   },
   {
    "duration": 328,
    "start_time": "2022-03-05T13:40:03.564Z"
   },
   {
    "duration": 11,
    "start_time": "2022-03-05T13:40:10.555Z"
   },
   {
    "duration": 11,
    "start_time": "2022-03-05T13:40:15.300Z"
   },
   {
    "duration": 10,
    "start_time": "2022-03-05T13:40:19.447Z"
   },
   {
    "duration": 106,
    "start_time": "2022-03-05T13:41:10.700Z"
   },
   {
    "duration": 19,
    "start_time": "2022-03-05T13:41:16.343Z"
   },
   {
    "duration": 14,
    "start_time": "2022-03-05T13:41:22.553Z"
   },
   {
    "duration": 11,
    "start_time": "2022-03-05T13:41:29.084Z"
   },
   {
    "duration": 14,
    "start_time": "2022-03-05T13:42:14.200Z"
   },
   {
    "duration": 11,
    "start_time": "2022-03-05T13:42:19.898Z"
   },
   {
    "duration": 9,
    "start_time": "2022-03-05T13:45:51.325Z"
   },
   {
    "duration": 7,
    "start_time": "2022-03-05T13:57:33.964Z"
   },
   {
    "duration": 6,
    "start_time": "2022-03-05T13:57:39.946Z"
   },
   {
    "duration": 7,
    "start_time": "2022-03-05T13:57:46.067Z"
   },
   {
    "duration": 9,
    "start_time": "2022-03-05T13:59:26.740Z"
   },
   {
    "duration": 98,
    "start_time": "2022-03-05T14:00:22.846Z"
   },
   {
    "duration": 8,
    "start_time": "2022-03-05T14:01:03.293Z"
   },
   {
    "duration": 13,
    "start_time": "2022-03-06T14:32:33.909Z"
   },
   {
    "duration": 27,
    "start_time": "2022-03-06T14:32:39.829Z"
   },
   {
    "duration": 30,
    "start_time": "2022-03-06T14:32:46.874Z"
   },
   {
    "duration": 6,
    "start_time": "2022-03-06T14:32:54.961Z"
   },
   {
    "duration": 7,
    "start_time": "2022-03-06T14:32:57.163Z"
   },
   {
    "duration": 18,
    "start_time": "2022-03-06T14:34:28.920Z"
   },
   {
    "duration": 7,
    "start_time": "2022-03-06T14:35:33.094Z"
   },
   {
    "duration": 7,
    "start_time": "2022-03-06T14:35:43.854Z"
   },
   {
    "duration": 7,
    "start_time": "2022-03-06T14:35:56.881Z"
   },
   {
    "duration": 27,
    "start_time": "2022-03-06T14:36:46.583Z"
   },
   {
    "duration": 5,
    "start_time": "2022-03-06T14:37:34.101Z"
   },
   {
    "duration": 7,
    "start_time": "2022-03-06T14:37:51.213Z"
   },
   {
    "duration": 37,
    "start_time": "2022-03-06T14:37:54.294Z"
   },
   {
    "duration": 10,
    "start_time": "2022-03-06T14:39:58.533Z"
   },
   {
    "duration": 17,
    "start_time": "2022-03-06T14:41:06.141Z"
   },
   {
    "duration": 1085,
    "start_time": "2022-03-06T14:42:52.061Z"
   },
   {
    "duration": 1130,
    "start_time": "2022-03-06T14:43:19.461Z"
   },
   {
    "duration": 1163,
    "start_time": "2022-03-06T14:43:26.961Z"
   },
   {
    "duration": 315,
    "start_time": "2022-03-06T14:44:10.650Z"
   },
   {
    "duration": 15,
    "start_time": "2022-03-06T14:44:47.501Z"
   },
   {
    "duration": 20,
    "start_time": "2022-03-06T14:45:23.073Z"
   },
   {
    "duration": 15,
    "start_time": "2022-03-06T14:45:57.799Z"
   },
   {
    "duration": 18,
    "start_time": "2022-03-06T14:46:43.829Z"
   },
   {
    "duration": 19,
    "start_time": "2022-03-06T14:47:01.932Z"
   },
   {
    "duration": 16,
    "start_time": "2022-03-06T14:47:14.075Z"
   },
   {
    "duration": 9,
    "start_time": "2022-03-06T14:49:30.454Z"
   },
   {
    "duration": 6,
    "start_time": "2022-03-06T14:49:40.566Z"
   },
   {
    "duration": 7,
    "start_time": "2022-03-06T14:50:59.048Z"
   },
   {
    "duration": 6,
    "start_time": "2022-03-06T14:52:00.449Z"
   },
   {
    "duration": 8,
    "start_time": "2022-03-06T14:52:34.021Z"
   },
   {
    "duration": 6,
    "start_time": "2022-03-06T14:56:07.348Z"
   },
   {
    "duration": 6,
    "start_time": "2022-03-07T08:01:37.766Z"
   },
   {
    "duration": 31,
    "start_time": "2022-03-07T08:04:26.536Z"
   },
   {
    "duration": 23,
    "start_time": "2022-03-07T08:30:30.066Z"
   },
   {
    "duration": 12,
    "start_time": "2022-03-07T08:30:42.979Z"
   },
   {
    "duration": 7,
    "start_time": "2022-03-07T08:30:47.216Z"
   },
   {
    "duration": 7,
    "start_time": "2022-03-07T08:30:50.773Z"
   },
   {
    "duration": 73,
    "start_time": "2022-03-07T08:30:55.256Z"
   },
   {
    "duration": 16,
    "start_time": "2022-03-07T08:31:00.346Z"
   },
   {
    "duration": 12,
    "start_time": "2022-03-07T08:31:03.877Z"
   },
   {
    "duration": 20,
    "start_time": "2022-03-07T08:31:06.868Z"
   },
   {
    "duration": 22,
    "start_time": "2022-03-07T08:31:11.608Z"
   },
   {
    "duration": 5,
    "start_time": "2022-03-07T08:31:17.872Z"
   },
   {
    "duration": 9,
    "start_time": "2022-03-07T08:32:59.863Z"
   },
   {
    "duration": 8,
    "start_time": "2022-03-07T08:33:44.746Z"
   },
   {
    "duration": 10,
    "start_time": "2022-03-07T08:34:10.922Z"
   },
   {
    "duration": 10,
    "start_time": "2022-03-07T08:34:24.644Z"
   },
   {
    "duration": 9,
    "start_time": "2022-03-07T08:34:32.497Z"
   },
   {
    "duration": 10,
    "start_time": "2022-03-07T08:34:42.267Z"
   },
   {
    "duration": 298,
    "start_time": "2022-03-07T08:36:27.019Z"
   },
   {
    "duration": 7,
    "start_time": "2022-03-07T08:36:40.724Z"
   },
   {
    "duration": 7,
    "start_time": "2022-03-07T08:36:58.795Z"
   },
   {
    "duration": 7,
    "start_time": "2022-03-07T08:37:12.907Z"
   },
   {
    "duration": 7,
    "start_time": "2022-03-07T08:37:51.399Z"
   },
   {
    "duration": 10,
    "start_time": "2022-03-07T08:37:53.855Z"
   },
   {
    "duration": 38,
    "start_time": "2022-03-07T08:38:01.272Z"
   },
   {
    "duration": 31,
    "start_time": "2022-03-07T08:38:07.189Z"
   },
   {
    "duration": 6,
    "start_time": "2022-03-07T08:38:55.447Z"
   },
   {
    "duration": 7,
    "start_time": "2022-03-07T08:38:59.287Z"
   },
   {
    "duration": 7,
    "start_time": "2022-03-07T08:39:04.056Z"
   },
   {
    "duration": 5,
    "start_time": "2022-03-07T08:39:08.040Z"
   },
   {
    "duration": 6,
    "start_time": "2022-03-07T08:39:10.986Z"
   },
   {
    "duration": 6,
    "start_time": "2022-03-07T08:39:14.332Z"
   },
   {
    "duration": 10,
    "start_time": "2022-03-07T08:39:21.391Z"
   },
   {
    "duration": 42,
    "start_time": "2022-03-07T08:39:33.157Z"
   },
   {
    "duration": 8,
    "start_time": "2022-03-07T08:39:43.751Z"
   },
   {
    "duration": 8,
    "start_time": "2022-03-07T08:39:47.442Z"
   },
   {
    "duration": 15,
    "start_time": "2022-03-07T08:39:49.856Z"
   },
   {
    "duration": 10,
    "start_time": "2022-03-07T08:39:52.799Z"
   },
   {
    "duration": 18,
    "start_time": "2022-03-07T08:39:57.410Z"
   },
   {
    "duration": 9,
    "start_time": "2022-03-07T08:40:01.021Z"
   },
   {
    "duration": 8,
    "start_time": "2022-03-07T08:40:03.910Z"
   },
   {
    "duration": 6,
    "start_time": "2022-03-07T08:40:07.684Z"
   },
   {
    "duration": 6,
    "start_time": "2022-03-07T08:40:10.489Z"
   },
   {
    "duration": 20,
    "start_time": "2022-03-07T08:40:12.632Z"
   },
   {
    "duration": 16,
    "start_time": "2022-03-07T08:40:15.833Z"
   },
   {
    "duration": 10,
    "start_time": "2022-03-07T08:40:20.751Z"
   },
   {
    "duration": 8,
    "start_time": "2022-03-07T08:40:23.526Z"
   },
   {
    "duration": 8,
    "start_time": "2022-03-07T08:40:27.457Z"
   },
   {
    "duration": 6,
    "start_time": "2022-03-07T08:40:30.451Z"
   },
   {
    "duration": 8,
    "start_time": "2022-03-07T08:40:33.644Z"
   },
   {
    "duration": 5,
    "start_time": "2022-03-07T08:40:38.956Z"
   },
   {
    "duration": 9,
    "start_time": "2022-03-07T08:41:36.995Z"
   },
   {
    "duration": 19,
    "start_time": "2022-03-07T08:41:39.951Z"
   },
   {
    "duration": 9,
    "start_time": "2022-03-07T08:41:42.413Z"
   },
   {
    "duration": 10,
    "start_time": "2022-03-07T08:41:45.059Z"
   },
   {
    "duration": 8,
    "start_time": "2022-03-07T08:41:48.517Z"
   },
   {
    "duration": 7,
    "start_time": "2022-03-07T08:41:51.619Z"
   },
   {
    "duration": 28,
    "start_time": "2022-03-07T08:42:04.416Z"
   },
   {
    "duration": 9,
    "start_time": "2022-03-07T08:43:18.567Z"
   },
   {
    "duration": 7,
    "start_time": "2022-03-07T08:43:36.931Z"
   },
   {
    "duration": 9,
    "start_time": "2022-03-07T08:43:43.640Z"
   },
   {
    "duration": 7,
    "start_time": "2022-03-07T08:43:50.901Z"
   },
   {
    "duration": 7,
    "start_time": "2022-03-07T08:43:56.800Z"
   },
   {
    "duration": 6,
    "start_time": "2022-03-07T08:44:25.474Z"
   },
   {
    "duration": 36,
    "start_time": "2022-03-07T08:44:53.990Z"
   },
   {
    "duration": 15,
    "start_time": "2022-03-07T08:45:31.870Z"
   },
   {
    "duration": 7,
    "start_time": "2022-03-07T08:45:36.168Z"
   },
   {
    "duration": 6,
    "start_time": "2022-03-07T08:45:38.222Z"
   },
   {
    "duration": 4,
    "start_time": "2022-03-07T08:45:48.470Z"
   },
   {
    "duration": 75,
    "start_time": "2022-03-07T08:46:03.080Z"
   },
   {
    "duration": 15,
    "start_time": "2022-03-07T08:46:14.386Z"
   },
   {
    "duration": 11,
    "start_time": "2022-03-07T08:46:21.482Z"
   },
   {
    "duration": 20,
    "start_time": "2022-03-07T08:46:26.579Z"
   },
   {
    "duration": 7,
    "start_time": "2022-03-07T08:46:31.423Z"
   },
   {
    "duration": 7,
    "start_time": "2022-03-07T08:46:38.046Z"
   },
   {
    "duration": 9,
    "start_time": "2022-03-07T08:46:44.451Z"
   },
   {
    "duration": 36,
    "start_time": "2022-03-07T08:46:57.060Z"
   },
   {
    "duration": 23,
    "start_time": "2022-03-07T08:47:03.817Z"
   },
   {
    "duration": 5,
    "start_time": "2022-03-07T08:47:08.462Z"
   },
   {
    "duration": 7,
    "start_time": "2022-03-07T08:47:13.577Z"
   },
   {
    "duration": 8,
    "start_time": "2022-03-07T08:47:16.172Z"
   },
   {
    "duration": 5,
    "start_time": "2022-03-07T08:47:19.629Z"
   },
   {
    "duration": 5,
    "start_time": "2022-03-07T08:47:28.108Z"
   },
   {
    "duration": 6,
    "start_time": "2022-03-07T08:47:31.768Z"
   },
   {
    "duration": 9,
    "start_time": "2022-03-07T08:47:45.947Z"
   },
   {
    "duration": 8,
    "start_time": "2022-03-07T08:47:50.038Z"
   },
   {
    "duration": 35,
    "start_time": "2022-03-07T08:47:54.659Z"
   },
   {
    "duration": 9,
    "start_time": "2022-03-07T08:48:04.719Z"
   },
   {
    "duration": 7,
    "start_time": "2022-03-07T08:48:08.673Z"
   },
   {
    "duration": 15,
    "start_time": "2022-03-07T08:48:14.487Z"
   },
   {
    "duration": 10,
    "start_time": "2022-03-07T08:48:19.342Z"
   },
   {
    "duration": 18,
    "start_time": "2022-03-07T08:48:22.475Z"
   },
   {
    "duration": 9,
    "start_time": "2022-03-07T08:48:30.043Z"
   },
   {
    "duration": 11,
    "start_time": "2022-03-07T08:48:33.400Z"
   },
   {
    "duration": 8,
    "start_time": "2022-03-07T08:48:41.191Z"
   },
   {
    "duration": 19,
    "start_time": "2022-03-07T08:48:44.214Z"
   },
   {
    "duration": 6,
    "start_time": "2022-03-07T08:48:46.426Z"
   },
   {
    "duration": 20,
    "start_time": "2022-03-07T08:48:49.456Z"
   },
   {
    "duration": 15,
    "start_time": "2022-03-07T08:48:51.891Z"
   },
   {
    "duration": 10,
    "start_time": "2022-03-07T08:48:54.525Z"
   },
   {
    "duration": 7,
    "start_time": "2022-03-07T08:48:56.408Z"
   },
   {
    "duration": 7,
    "start_time": "2022-03-07T08:48:59.185Z"
   },
   {
    "duration": 7,
    "start_time": "2022-03-07T08:49:03.284Z"
   },
   {
    "duration": 9,
    "start_time": "2022-03-07T08:49:06.373Z"
   },
   {
    "duration": 6,
    "start_time": "2022-03-07T08:49:11.295Z"
   },
   {
    "duration": 8,
    "start_time": "2022-03-07T08:49:55.785Z"
   },
   {
    "duration": 9,
    "start_time": "2022-03-07T08:50:51.345Z"
   },
   {
    "duration": 7,
    "start_time": "2022-03-07T08:50:53.988Z"
   },
   {
    "duration": 14,
    "start_time": "2022-03-07T08:50:58.891Z"
   },
   {
    "duration": 8,
    "start_time": "2022-03-07T08:51:01.484Z"
   },
   {
    "duration": 7,
    "start_time": "2022-03-07T08:51:03.856Z"
   },
   {
    "duration": 14,
    "start_time": "2022-03-07T08:51:13.285Z"
   },
   {
    "duration": 9,
    "start_time": "2022-03-07T08:51:19.239Z"
   },
   {
    "duration": 7,
    "start_time": "2022-03-07T08:52:37.351Z"
   },
   {
    "duration": 9,
    "start_time": "2022-03-07T08:52:45.992Z"
   },
   {
    "duration": 12,
    "start_time": "2022-03-07T08:54:26.599Z"
   },
   {
    "duration": 9,
    "start_time": "2022-03-07T08:54:38.255Z"
   },
   {
    "duration": 18,
    "start_time": "2022-03-07T08:54:53.577Z"
   },
   {
    "duration": 3928,
    "start_time": "2022-03-07T09:09:05.161Z"
   },
   {
    "duration": 9,
    "start_time": "2022-03-07T09:10:44.101Z"
   },
   {
    "duration": 8,
    "start_time": "2022-03-07T09:11:40.715Z"
   },
   {
    "duration": 9,
    "start_time": "2022-03-07T09:11:47.373Z"
   },
   {
    "duration": 10,
    "start_time": "2022-03-07T09:12:00.414Z"
   },
   {
    "duration": 10,
    "start_time": "2022-03-07T09:12:15.047Z"
   },
   {
    "duration": 280,
    "start_time": "2022-03-07T09:12:24.609Z"
   },
   {
    "duration": 11,
    "start_time": "2022-03-07T09:27:02.792Z"
   },
   {
    "duration": 10,
    "start_time": "2022-03-07T09:27:39.654Z"
   },
   {
    "duration": 11,
    "start_time": "2022-03-07T09:28:06.852Z"
   },
   {
    "duration": 18,
    "start_time": "2022-03-07T09:28:45.714Z"
   },
   {
    "duration": 14,
    "start_time": "2022-03-07T09:29:20.613Z"
   },
   {
    "duration": 23,
    "start_time": "2022-03-07T09:30:14.127Z"
   },
   {
    "duration": 22,
    "start_time": "2022-03-07T09:30:20.392Z"
   },
   {
    "duration": 16,
    "start_time": "2022-03-07T09:30:36.047Z"
   },
   {
    "duration": 17,
    "start_time": "2022-03-07T09:30:45.019Z"
   },
   {
    "duration": 26,
    "start_time": "2022-03-07T09:31:43.487Z"
   },
   {
    "duration": 15,
    "start_time": "2022-03-07T09:31:49.127Z"
   },
   {
    "duration": 15,
    "start_time": "2022-03-07T09:31:53.296Z"
   },
   {
    "duration": 27,
    "start_time": "2022-03-07T09:34:39.207Z"
   },
   {
    "duration": 94,
    "start_time": "2022-03-07T09:41:44.817Z"
   },
   {
    "duration": 5,
    "start_time": "2022-03-07T09:42:04.717Z"
   },
   {
    "duration": 5,
    "start_time": "2022-03-07T09:42:11.683Z"
   },
   {
    "duration": 6,
    "start_time": "2022-03-07T09:42:55.945Z"
   },
   {
    "duration": 101,
    "start_time": "2022-03-07T09:44:12.648Z"
   },
   {
    "duration": 260,
    "start_time": "2022-03-07T09:44:23.276Z"
   },
   {
    "duration": 292,
    "start_time": "2022-03-07T09:44:42.812Z"
   },
   {
    "duration": 34,
    "start_time": "2022-03-07T09:46:46.891Z"
   },
   {
    "duration": 5,
    "start_time": "2022-03-07T09:55:04.524Z"
   },
   {
    "duration": 30,
    "start_time": "2022-03-07T09:55:47.694Z"
   },
   {
    "duration": 5,
    "start_time": "2022-03-07T10:00:43.870Z"
   },
   {
    "duration": 34,
    "start_time": "2022-03-07T10:00:46.299Z"
   },
   {
    "duration": 6,
    "start_time": "2022-03-07T10:04:55.409Z"
   },
   {
    "duration": 47,
    "start_time": "2022-03-07T10:04:58.198Z"
   },
   {
    "duration": 304,
    "start_time": "2022-03-07T10:13:21.919Z"
   },
   {
    "duration": 334,
    "start_time": "2022-03-07T10:13:32.759Z"
   },
   {
    "duration": 77,
    "start_time": "2022-03-07T10:14:46.461Z"
   },
   {
    "duration": 58,
    "start_time": "2022-03-07T10:15:04.147Z"
   },
   {
    "duration": 302,
    "start_time": "2022-03-07T10:15:17.239Z"
   },
   {
    "duration": 318,
    "start_time": "2022-03-07T10:15:27.017Z"
   },
   {
    "duration": 64,
    "start_time": "2022-03-07T10:15:35.292Z"
   },
   {
    "duration": 292,
    "start_time": "2022-03-07T10:15:50.660Z"
   },
   {
    "duration": 384,
    "start_time": "2022-03-07T10:16:05.062Z"
   },
   {
    "duration": 26,
    "start_time": "2022-03-07T10:16:33.925Z"
   },
   {
    "duration": 25,
    "start_time": "2022-03-07T10:16:52.614Z"
   },
   {
    "duration": 26,
    "start_time": "2022-03-07T10:18:37.400Z"
   },
   {
    "duration": 8,
    "start_time": "2022-03-07T10:19:30.790Z"
   },
   {
    "duration": 42,
    "start_time": "2022-03-07T10:19:36.623Z"
   },
   {
    "duration": 27,
    "start_time": "2022-03-07T10:19:44.306Z"
   },
   {
    "duration": 24,
    "start_time": "2022-03-07T10:21:24.883Z"
   },
   {
    "duration": 27,
    "start_time": "2022-03-07T10:22:03.967Z"
   },
   {
    "duration": 24,
    "start_time": "2022-03-07T10:22:34.207Z"
   },
   {
    "duration": 36,
    "start_time": "2022-03-07T10:22:48.551Z"
   },
   {
    "duration": 297,
    "start_time": "2022-03-07T10:23:43.907Z"
   },
   {
    "duration": 26,
    "start_time": "2022-03-07T10:23:52.986Z"
   },
   {
    "duration": 11,
    "start_time": "2022-03-07T10:25:38.255Z"
   },
   {
    "duration": 13,
    "start_time": "2022-03-07T10:26:52.541Z"
   },
   {
    "duration": 25,
    "start_time": "2022-03-07T10:33:57.046Z"
   },
   {
    "duration": 36,
    "start_time": "2022-03-07T10:41:52.593Z"
   },
   {
    "duration": 393,
    "start_time": "2022-03-07T10:43:07.946Z"
   },
   {
    "duration": 53,
    "start_time": "2022-03-07T10:43:48.528Z"
   },
   {
    "duration": 38,
    "start_time": "2022-03-07T10:45:46.538Z"
   },
   {
    "duration": 42,
    "start_time": "2022-03-07T10:46:02.238Z"
   },
   {
    "duration": 38,
    "start_time": "2022-03-07T10:46:09.922Z"
   },
   {
    "duration": 25,
    "start_time": "2022-03-07T10:47:30.198Z"
   },
   {
    "duration": 110,
    "start_time": "2022-03-07T10:49:25.658Z"
   },
   {
    "duration": 27,
    "start_time": "2022-03-09T07:33:48.440Z"
   },
   {
    "duration": 43,
    "start_time": "2022-03-09T07:33:55.790Z"
   },
   {
    "duration": 30,
    "start_time": "2022-03-09T07:34:00.987Z"
   },
   {
    "duration": 27,
    "start_time": "2022-03-09T07:34:05.046Z"
   },
   {
    "duration": 7,
    "start_time": "2022-03-09T08:10:13.084Z"
   },
   {
    "duration": 306,
    "start_time": "2022-03-09T08:11:02.708Z"
   },
   {
    "duration": 35,
    "start_time": "2022-03-09T08:11:18.153Z"
   },
   {
    "duration": 25,
    "start_time": "2022-03-09T08:11:23.954Z"
   },
   {
    "duration": -48,
    "start_time": "2022-03-09T08:11:49.981Z"
   },
   {
    "duration": 7989,
    "start_time": "2022-03-09T08:11:53.562Z"
   },
   {
    "duration": 30,
    "start_time": "2022-03-09T08:13:10.217Z"
   },
   {
    "duration": 29,
    "start_time": "2022-03-09T08:13:13.985Z"
   },
   {
    "duration": 31,
    "start_time": "2022-03-09T08:14:25.397Z"
   },
   {
    "duration": 26,
    "start_time": "2022-03-09T08:15:00.606Z"
   },
   {
    "duration": 28,
    "start_time": "2022-03-09T08:15:48.778Z"
   },
   {
    "duration": 101,
    "start_time": "2022-03-09T08:16:28.898Z"
   },
   {
    "duration": 113,
    "start_time": "2022-03-09T08:17:07.696Z"
   },
   {
    "duration": 51,
    "start_time": "2022-03-09T08:17:18.307Z"
   },
   {
    "duration": 48,
    "start_time": "2022-03-09T08:18:44.188Z"
   },
   {
    "duration": 50,
    "start_time": "2022-03-09T08:20:25.256Z"
   },
   {
    "duration": 50,
    "start_time": "2022-03-09T08:22:52.031Z"
   },
   {
    "duration": 51,
    "start_time": "2022-03-09T08:23:20.327Z"
   },
   {
    "duration": 51,
    "start_time": "2022-03-09T08:23:31.029Z"
   },
   {
    "duration": 57,
    "start_time": "2022-03-09T08:31:07.849Z"
   },
   {
    "duration": 55,
    "start_time": "2022-03-09T08:31:25.243Z"
   },
   {
    "duration": 55,
    "start_time": "2022-03-09T08:31:32.688Z"
   },
   {
    "duration": 61,
    "start_time": "2022-03-09T08:32:22.025Z"
   },
   {
    "duration": 372,
    "start_time": "2022-03-09T08:34:42.368Z"
   },
   {
    "duration": 45,
    "start_time": "2022-03-09T08:35:13.670Z"
   },
   {
    "duration": 49,
    "start_time": "2022-03-09T08:35:20.064Z"
   },
   {
    "duration": 394,
    "start_time": "2022-03-09T08:35:48.333Z"
   },
   {
    "duration": 54,
    "start_time": "2022-03-09T08:35:56.265Z"
   },
   {
    "duration": 98,
    "start_time": "2022-03-09T08:36:01.666Z"
   },
   {
    "duration": 56,
    "start_time": "2022-03-09T08:36:04.581Z"
   },
   {
    "duration": 61,
    "start_time": "2022-03-09T08:36:09.790Z"
   },
   {
    "duration": 421,
    "start_time": "2022-03-09T08:38:41.655Z"
   },
   {
    "duration": 75,
    "start_time": "2022-03-09T08:38:55.413Z"
   },
   {
    "duration": 400,
    "start_time": "2022-03-09T08:41:30.179Z"
   },
   {
    "duration": 50,
    "start_time": "2022-03-09T08:41:33.617Z"
   },
   {
    "duration": 58,
    "start_time": "2022-03-09T08:51:38.809Z"
   },
   {
    "duration": 60,
    "start_time": "2022-03-09T08:52:47.213Z"
   },
   {
    "duration": 81,
    "start_time": "2022-03-09T08:53:46.103Z"
   },
   {
    "duration": 78,
    "start_time": "2022-03-09T08:55:47.275Z"
   },
   {
    "duration": 76,
    "start_time": "2022-03-09T08:58:03.961Z"
   },
   {
    "duration": 336,
    "start_time": "2022-03-09T09:02:56.832Z"
   },
   {
    "duration": 60,
    "start_time": "2022-03-09T09:03:07.852Z"
   },
   {
    "duration": 54,
    "start_time": "2022-03-09T09:03:16.509Z"
   },
   {
    "duration": 52,
    "start_time": "2022-03-09T09:03:25.263Z"
   },
   {
    "duration": 71,
    "start_time": "2022-03-09T09:03:33.524Z"
   },
   {
    "duration": 74,
    "start_time": "2022-03-09T09:03:39.009Z"
   },
   {
    "duration": 70,
    "start_time": "2022-03-09T09:03:42.151Z"
   },
   {
    "duration": 123,
    "start_time": "2022-03-17T13:06:50.985Z"
   },
   {
    "duration": 124,
    "start_time": "2022-03-17T13:13:21.944Z"
   },
   {
    "duration": 68,
    "start_time": "2022-03-17T14:52:51.454Z"
   },
   {
    "duration": 16882,
    "start_time": "2022-03-17T14:53:06.290Z"
   },
   {
    "duration": 89,
    "start_time": "2022-03-17T14:53:23.174Z"
   },
   {
    "duration": 7,
    "start_time": "2022-03-17T14:53:23.264Z"
   },
   {
    "duration": 6,
    "start_time": "2022-03-17T14:53:23.273Z"
   },
   {
    "duration": 7,
    "start_time": "2022-03-17T14:59:50.176Z"
   },
   {
    "duration": 5,
    "start_time": "2022-03-17T15:00:06.654Z"
   },
   {
    "duration": 408,
    "start_time": "2022-03-19T09:27:57.262Z"
   },
   {
    "duration": 74,
    "start_time": "2022-03-19T09:28:00.508Z"
   },
   {
    "duration": 16,
    "start_time": "2022-03-19T09:28:05.080Z"
   },
   {
    "duration": 7,
    "start_time": "2022-03-19T09:28:08.652Z"
   },
   {
    "duration": 6,
    "start_time": "2022-03-19T09:28:11.986Z"
   },
   {
    "duration": 4,
    "start_time": "2022-03-19T09:28:14.515Z"
   },
   {
    "duration": 5,
    "start_time": "2022-03-19T09:28:17.684Z"
   },
   {
    "duration": 7,
    "start_time": "2022-03-19T09:28:20.133Z"
   },
   {
    "duration": 19,
    "start_time": "2022-03-19T09:28:23.601Z"
   },
   {
    "duration": 14,
    "start_time": "2022-03-19T09:28:28.086Z"
   },
   {
    "duration": 4,
    "start_time": "2022-03-19T09:28:32.871Z"
   },
   {
    "duration": 5,
    "start_time": "2022-03-19T09:28:36.001Z"
   },
   {
    "duration": 62,
    "start_time": "2022-03-19T09:28:42.402Z"
   },
   {
    "duration": 7,
    "start_time": "2022-03-19T09:28:50.267Z"
   },
   {
    "duration": 6,
    "start_time": "2022-03-19T09:28:52.493Z"
   },
   {
    "duration": 4,
    "start_time": "2022-03-19T09:28:54.780Z"
   },
   {
    "duration": 4,
    "start_time": "2022-03-19T09:28:57.809Z"
   },
   {
    "duration": 390,
    "start_time": "2022-03-19T14:22:04.465Z"
   },
   {
    "duration": 87,
    "start_time": "2022-03-19T14:22:04.857Z"
   },
   {
    "duration": 13,
    "start_time": "2022-03-19T14:22:04.945Z"
   },
   {
    "duration": 12,
    "start_time": "2022-03-19T14:22:04.960Z"
   },
   {
    "duration": 14,
    "start_time": "2022-03-19T14:22:04.974Z"
   },
   {
    "duration": 7,
    "start_time": "2022-03-19T14:22:04.989Z"
   },
   {
    "duration": 3,
    "start_time": "2022-03-19T14:22:05.000Z"
   },
   {
    "duration": 15,
    "start_time": "2022-03-19T14:22:05.005Z"
   },
   {
    "duration": 21,
    "start_time": "2022-03-19T14:22:05.021Z"
   },
   {
    "duration": 16,
    "start_time": "2022-03-19T14:22:05.045Z"
   },
   {
    "duration": 10,
    "start_time": "2022-03-19T14:22:05.063Z"
   },
   {
    "duration": 3,
    "start_time": "2022-03-19T14:22:05.075Z"
   },
   {
    "duration": 16,
    "start_time": "2022-03-19T14:22:05.079Z"
   },
   {
    "duration": 12,
    "start_time": "2022-03-19T14:22:05.097Z"
   },
   {
    "duration": 19,
    "start_time": "2022-03-19T14:22:05.110Z"
   },
   {
    "duration": 20,
    "start_time": "2022-03-19T14:22:05.130Z"
   },
   {
    "duration": 20,
    "start_time": "2022-03-19T14:22:05.152Z"
   },
   {
    "duration": 26,
    "start_time": "2022-03-19T14:22:05.173Z"
   },
   {
    "duration": 17,
    "start_time": "2022-03-19T14:22:05.200Z"
   },
   {
    "duration": 30,
    "start_time": "2022-03-19T14:22:05.218Z"
   },
   {
    "duration": 6,
    "start_time": "2022-03-19T14:22:05.249Z"
   },
   {
    "duration": 11,
    "start_time": "2022-03-19T14:22:05.257Z"
   },
   {
    "duration": 24,
    "start_time": "2022-03-19T14:22:05.381Z"
   },
   {
    "duration": 9,
    "start_time": "2022-03-19T14:22:05.407Z"
   },
   {
    "duration": 31,
    "start_time": "2022-03-19T14:22:05.417Z"
   },
   {
    "duration": 16,
    "start_time": "2022-03-19T14:22:05.449Z"
   },
   {
    "duration": 10,
    "start_time": "2022-03-19T14:22:05.466Z"
   },
   {
    "duration": 24,
    "start_time": "2022-03-19T14:22:05.477Z"
   },
   {
    "duration": 12,
    "start_time": "2022-03-19T14:22:05.503Z"
   },
   {
    "duration": 14,
    "start_time": "2022-03-19T14:22:05.517Z"
   },
   {
    "duration": 13,
    "start_time": "2022-03-19T14:22:05.532Z"
   },
   {
    "duration": 15,
    "start_time": "2022-03-19T14:22:05.546Z"
   },
   {
    "duration": 18,
    "start_time": "2022-03-19T14:22:05.563Z"
   },
   {
    "duration": 11,
    "start_time": "2022-03-19T14:22:05.582Z"
   },
   {
    "duration": 12,
    "start_time": "2022-03-19T14:22:05.594Z"
   },
   {
    "duration": 20,
    "start_time": "2022-03-19T14:22:05.608Z"
   },
   {
    "duration": 34,
    "start_time": "2022-03-19T14:22:05.629Z"
   },
   {
    "duration": 11,
    "start_time": "2022-03-19T14:22:05.664Z"
   },
   {
    "duration": 17,
    "start_time": "2022-03-19T14:22:05.676Z"
   },
   {
    "duration": 17,
    "start_time": "2022-03-19T14:22:05.694Z"
   },
   {
    "duration": 15,
    "start_time": "2022-03-19T14:22:05.712Z"
   },
   {
    "duration": 31,
    "start_time": "2022-03-19T14:22:05.728Z"
   },
   {
    "duration": 7,
    "start_time": "2022-03-19T14:22:05.760Z"
   },
   {
    "duration": 29,
    "start_time": "2022-03-19T14:22:05.768Z"
   },
   {
    "duration": 14,
    "start_time": "2022-03-19T14:22:05.799Z"
   },
   {
    "duration": 39,
    "start_time": "2022-03-19T14:22:05.815Z"
   },
   {
    "duration": 29,
    "start_time": "2022-03-19T14:22:05.856Z"
   },
   {
    "duration": 41,
    "start_time": "2022-03-19T14:22:05.887Z"
   },
   {
    "duration": 40,
    "start_time": "2022-03-19T14:22:05.930Z"
   },
   {
    "duration": 55,
    "start_time": "2022-03-19T14:22:05.971Z"
   }
  ],
  "kernelspec": {
   "display_name": "Python 3 (ipykernel)",
   "language": "python",
   "name": "python3"
  },
  "language_info": {
   "codemirror_mode": {
    "name": "ipython",
    "version": 3
   },
   "file_extension": ".py",
   "mimetype": "text/x-python",
   "name": "python",
   "nbconvert_exporter": "python",
   "pygments_lexer": "ipython3",
   "version": "3.8.0"
  },
  "toc": {
   "base_numbering": 1,
   "nav_menu": {},
   "number_sections": true,
   "sideBar": true,
   "skip_h1_title": true,
   "title_cell": "Table of Contents",
   "title_sidebar": "Contents",
   "toc_cell": false,
   "toc_position": {},
   "toc_section_display": true,
   "toc_window_display": false
  }
 },
 "nbformat": 4,
 "nbformat_minor": 5
}
