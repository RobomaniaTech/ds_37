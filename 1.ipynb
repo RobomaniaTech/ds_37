{
 "cells": [
  {
   "cell_type": "markdown",
   "metadata": {
    "id": "E0vqbgi9ay0H"
   },
   "source": [
    "# Яндекс.Музыка"
   ]
  },
  {
   "cell_type": "markdown",
   "metadata": {
    "id": "VUC88oWjTJw2"
   },
   "source": [
    "Сравнение Москвы и Петербурга окружено мифами. Например:\n",
    " * Москва — мегаполис, подчинённый жёсткому ритму рабочей недели;\n",
    " * Петербург — культурная столица, со своими вкусами.\n",
    "\n",
    "На данных Яндекс.Музыки вы сравните поведение пользователей двух столиц.\n",
    "\n",
    "**Цель исследования** — проверьте три гипотезы:\n",
    "1. Активность пользователей зависит от дня недели. Причём в Москве и Петербурге это проявляется по-разному.\n",
    "2. В понедельник утром в Москве преобладают одни жанры, а в Петербурге — другие. Так же и вечером пятницы преобладают разные жанры — в зависимости от города. \n",
    "3. Москва и Петербург предпочитают разные жанры музыки. В Москве чаще слушают поп-музыку, в Петербурге — русский рэп.\n",
    "\n",
    "**Ход исследования**\n",
    "\n",
    "Данные о поведении пользователей вы получите из файла `yandex_music_project.csv`. О качестве данных ничего не известно. Поэтому перед проверкой гипотез понадобится обзор данных. \n",
    "\n",
    "Вы проверите данные на ошибки и оцените их влияние на исследование. Затем, на этапе предобработки вы поищете возможность исправить самые критичные ошибки данных.\n",
    " \n",
    "Таким образом, исследование пройдёт в три этапа:\n",
    " 1. Обзор данных.\n",
    " 2. Предобработка данных.\n",
    " 3. Проверка гипотез.\n",
    "\n"
   ]
  },
  {
   "cell_type": "markdown",
   "metadata": {
    "id": "Ml1hmfXC_Zcs"
   },
   "source": [
    "## Обзор данных\n",
    "\n",
    "Составьте первое представление о данных Яндекс.Музыки.\n",
    "\n",
    "\n"
   ]
  },
  {
   "cell_type": "markdown",
   "metadata": {
    "id": "57eAOGIz_Zcs"
   },
   "source": [
    "Основной инструмент аналитика — `pandas`. Импортируйте эту библиотеку."
   ]
  },
  {
   "cell_type": "code",
   "execution_count": 43,
   "metadata": {
    "id": "AXN7PHPN_Zcs"
   },
   "outputs": [],
   "source": [
    "import pandas as pd\n",
    "\n",
    "df = pd.read_csv('/datasets/yandex_music_project.csv')"
   ]
  },
  {
   "cell_type": "markdown",
   "metadata": {
    "id": "SG23P8tt_Zcs"
   },
   "source": [
    "Прочитайте файл `yandex_music_project.csv` из папки `/datasets` и сохраните его в переменной `df`:\n",
    "чтение файла с данными и сохранение в df"
   ]
  },
  {
   "cell_type": "markdown",
   "metadata": {
    "id": "rDoOMd3uTqnZ"
   },
   "source": [
    "Выведите на экран первые десять строк таблицы:"
   ]
  },
  {
   "cell_type": "code",
   "execution_count": 44,
   "metadata": {
    "id": "oWTVX3gW_Zct"
   },
   "outputs": [
    {
     "data": {
      "text/html": [
       "<div>\n",
       "<style scoped>\n",
       "    .dataframe tbody tr th:only-of-type {\n",
       "        vertical-align: middle;\n",
       "    }\n",
       "\n",
       "    .dataframe tbody tr th {\n",
       "        vertical-align: top;\n",
       "    }\n",
       "\n",
       "    .dataframe thead th {\n",
       "        text-align: right;\n",
       "    }\n",
       "</style>\n",
       "<table border=\"1\" class=\"dataframe\">\n",
       "  <thead>\n",
       "    <tr style=\"text-align: right;\">\n",
       "      <th></th>\n",
       "      <th>userID</th>\n",
       "      <th>Track</th>\n",
       "      <th>artist</th>\n",
       "      <th>genre</th>\n",
       "      <th>City</th>\n",
       "      <th>time</th>\n",
       "      <th>Day</th>\n",
       "    </tr>\n",
       "  </thead>\n",
       "  <tbody>\n",
       "    <tr>\n",
       "      <td>0</td>\n",
       "      <td>FFB692EC</td>\n",
       "      <td>Kamigata To Boots</td>\n",
       "      <td>The Mass Missile</td>\n",
       "      <td>rock</td>\n",
       "      <td>Saint-Petersburg</td>\n",
       "      <td>20:28:33</td>\n",
       "      <td>Wednesday</td>\n",
       "    </tr>\n",
       "    <tr>\n",
       "      <td>1</td>\n",
       "      <td>55204538</td>\n",
       "      <td>Delayed Because of Accident</td>\n",
       "      <td>Andreas Rönnberg</td>\n",
       "      <td>rock</td>\n",
       "      <td>Moscow</td>\n",
       "      <td>14:07:09</td>\n",
       "      <td>Friday</td>\n",
       "    </tr>\n",
       "    <tr>\n",
       "      <td>2</td>\n",
       "      <td>20EC38</td>\n",
       "      <td>Funiculì funiculà</td>\n",
       "      <td>Mario Lanza</td>\n",
       "      <td>pop</td>\n",
       "      <td>Saint-Petersburg</td>\n",
       "      <td>20:58:07</td>\n",
       "      <td>Wednesday</td>\n",
       "    </tr>\n",
       "    <tr>\n",
       "      <td>3</td>\n",
       "      <td>A3DD03C9</td>\n",
       "      <td>Dragons in the Sunset</td>\n",
       "      <td>Fire + Ice</td>\n",
       "      <td>folk</td>\n",
       "      <td>Saint-Petersburg</td>\n",
       "      <td>08:37:09</td>\n",
       "      <td>Monday</td>\n",
       "    </tr>\n",
       "    <tr>\n",
       "      <td>4</td>\n",
       "      <td>E2DC1FAE</td>\n",
       "      <td>Soul People</td>\n",
       "      <td>Space Echo</td>\n",
       "      <td>dance</td>\n",
       "      <td>Moscow</td>\n",
       "      <td>08:34:34</td>\n",
       "      <td>Monday</td>\n",
       "    </tr>\n",
       "    <tr>\n",
       "      <td>5</td>\n",
       "      <td>842029A1</td>\n",
       "      <td>Преданная</td>\n",
       "      <td>IMPERVTOR</td>\n",
       "      <td>rusrap</td>\n",
       "      <td>Saint-Petersburg</td>\n",
       "      <td>13:09:41</td>\n",
       "      <td>Friday</td>\n",
       "    </tr>\n",
       "    <tr>\n",
       "      <td>6</td>\n",
       "      <td>4CB90AA5</td>\n",
       "      <td>True</td>\n",
       "      <td>Roman Messer</td>\n",
       "      <td>dance</td>\n",
       "      <td>Moscow</td>\n",
       "      <td>13:00:07</td>\n",
       "      <td>Wednesday</td>\n",
       "    </tr>\n",
       "    <tr>\n",
       "      <td>7</td>\n",
       "      <td>F03E1C1F</td>\n",
       "      <td>Feeling This Way</td>\n",
       "      <td>Polina Griffith</td>\n",
       "      <td>dance</td>\n",
       "      <td>Moscow</td>\n",
       "      <td>20:47:49</td>\n",
       "      <td>Wednesday</td>\n",
       "    </tr>\n",
       "    <tr>\n",
       "      <td>8</td>\n",
       "      <td>8FA1D3BE</td>\n",
       "      <td>И вновь продолжается бой</td>\n",
       "      <td>NaN</td>\n",
       "      <td>ruspop</td>\n",
       "      <td>Moscow</td>\n",
       "      <td>09:17:40</td>\n",
       "      <td>Friday</td>\n",
       "    </tr>\n",
       "    <tr>\n",
       "      <td>9</td>\n",
       "      <td>E772D5C0</td>\n",
       "      <td>Pessimist</td>\n",
       "      <td>NaN</td>\n",
       "      <td>dance</td>\n",
       "      <td>Saint-Petersburg</td>\n",
       "      <td>21:20:49</td>\n",
       "      <td>Wednesday</td>\n",
       "    </tr>\n",
       "  </tbody>\n",
       "</table>\n",
       "</div>"
      ],
      "text/plain": [
       "     userID                        Track            artist   genre  \\\n",
       "0  FFB692EC            Kamigata To Boots  The Mass Missile    rock   \n",
       "1  55204538  Delayed Because of Accident  Andreas Rönnberg    rock   \n",
       "2    20EC38            Funiculì funiculà       Mario Lanza     pop   \n",
       "3  A3DD03C9        Dragons in the Sunset        Fire + Ice    folk   \n",
       "4  E2DC1FAE                  Soul People        Space Echo   dance   \n",
       "5  842029A1                    Преданная         IMPERVTOR  rusrap   \n",
       "6  4CB90AA5                         True      Roman Messer   dance   \n",
       "7  F03E1C1F             Feeling This Way   Polina Griffith   dance   \n",
       "8  8FA1D3BE     И вновь продолжается бой               NaN  ruspop   \n",
       "9  E772D5C0                    Pessimist               NaN   dance   \n",
       "\n",
       "             City        time        Day  \n",
       "0  Saint-Petersburg  20:28:33  Wednesday  \n",
       "1            Moscow  14:07:09     Friday  \n",
       "2  Saint-Petersburg  20:58:07  Wednesday  \n",
       "3  Saint-Petersburg  08:37:09     Monday  \n",
       "4            Moscow  08:34:34     Monday  \n",
       "5  Saint-Petersburg  13:09:41     Friday  \n",
       "6            Moscow  13:00:07  Wednesday  \n",
       "7            Moscow  20:47:49  Wednesday  \n",
       "8            Moscow  09:17:40     Friday  \n",
       "9  Saint-Petersburg  21:20:49  Wednesday  "
      ]
     },
     "execution_count": 44,
     "metadata": {},
     "output_type": "execute_result"
    }
   ],
   "source": [
    "#print(df.head(10))\n",
    "df.head(10)"
   ]
  },
  {
   "cell_type": "code",
   "execution_count": 45,
   "metadata": {},
   "outputs": [
    {
     "data": {
      "text/html": [
       "<div>\n",
       "<style scoped>\n",
       "    .dataframe tbody tr th:only-of-type {\n",
       "        vertical-align: middle;\n",
       "    }\n",
       "\n",
       "    .dataframe tbody tr th {\n",
       "        vertical-align: top;\n",
       "    }\n",
       "\n",
       "    .dataframe thead th {\n",
       "        text-align: right;\n",
       "    }\n",
       "</style>\n",
       "<table border=\"1\" class=\"dataframe\">\n",
       "  <thead>\n",
       "    <tr style=\"text-align: right;\">\n",
       "      <th></th>\n",
       "      <th>userID</th>\n",
       "      <th>Track</th>\n",
       "      <th>artist</th>\n",
       "      <th>genre</th>\n",
       "      <th>City</th>\n",
       "      <th>time</th>\n",
       "      <th>Day</th>\n",
       "    </tr>\n",
       "  </thead>\n",
       "  <tbody>\n",
       "    <tr>\n",
       "      <td>65074</td>\n",
       "      <td>729CBB09</td>\n",
       "      <td>My Name</td>\n",
       "      <td>McLean</td>\n",
       "      <td>rnb</td>\n",
       "      <td>Moscow</td>\n",
       "      <td>13:32:28</td>\n",
       "      <td>Wednesday</td>\n",
       "    </tr>\n",
       "    <tr>\n",
       "      <td>65075</td>\n",
       "      <td>D08D4A55</td>\n",
       "      <td>Maybe One Day (feat. Black Spade)</td>\n",
       "      <td>Blu &amp; Exile</td>\n",
       "      <td>hip</td>\n",
       "      <td>Saint-Petersburg</td>\n",
       "      <td>10:00:00</td>\n",
       "      <td>Monday</td>\n",
       "    </tr>\n",
       "    <tr>\n",
       "      <td>65076</td>\n",
       "      <td>C5E3A0D5</td>\n",
       "      <td>Jalopiina</td>\n",
       "      <td>NaN</td>\n",
       "      <td>industrial</td>\n",
       "      <td>Moscow</td>\n",
       "      <td>20:09:26</td>\n",
       "      <td>Friday</td>\n",
       "    </tr>\n",
       "    <tr>\n",
       "      <td>65077</td>\n",
       "      <td>321D0506</td>\n",
       "      <td>Freight Train</td>\n",
       "      <td>Chas McDevitt</td>\n",
       "      <td>rock</td>\n",
       "      <td>Moscow</td>\n",
       "      <td>21:43:59</td>\n",
       "      <td>Friday</td>\n",
       "    </tr>\n",
       "    <tr>\n",
       "      <td>65078</td>\n",
       "      <td>3A64EF84</td>\n",
       "      <td>Tell Me Sweet Little Lies</td>\n",
       "      <td>Monica Lopez</td>\n",
       "      <td>country</td>\n",
       "      <td>Moscow</td>\n",
       "      <td>21:59:46</td>\n",
       "      <td>Friday</td>\n",
       "    </tr>\n",
       "  </tbody>\n",
       "</table>\n",
       "</div>"
      ],
      "text/plain": [
       "         userID                              Track         artist       genre  \\\n",
       "65074  729CBB09                            My Name         McLean         rnb   \n",
       "65075  D08D4A55  Maybe One Day (feat. Black Spade)    Blu & Exile         hip   \n",
       "65076  C5E3A0D5                          Jalopiina            NaN  industrial   \n",
       "65077  321D0506                      Freight Train  Chas McDevitt        rock   \n",
       "65078  3A64EF84          Tell Me Sweet Little Lies   Monica Lopez     country   \n",
       "\n",
       "                 City        time        Day  \n",
       "65074            Moscow  13:32:28  Wednesday  \n",
       "65075  Saint-Petersburg  10:00:00     Monday  \n",
       "65076            Moscow  20:09:26     Friday  \n",
       "65077            Moscow  21:43:59     Friday  \n",
       "65078            Moscow  21:59:46     Friday  "
      ]
     },
     "execution_count": 45,
     "metadata": {},
     "output_type": "execute_result"
    }
   ],
   "source": [
    "df.tail(5)"
   ]
  },
  {
   "cell_type": "markdown",
   "metadata": {
    "id": "EO73Kwic_Zct"
   },
   "source": [
    "Одной командой получить общую информацию о таблице:"
   ]
  },
  {
   "cell_type": "code",
   "execution_count": 46,
   "metadata": {
    "id": "DSf2kIb-_Zct"
   },
   "outputs": [
    {
     "name": "stdout",
     "output_type": "stream",
     "text": [
      "<class 'pandas.core.frame.DataFrame'>\n",
      "RangeIndex: 65079 entries, 0 to 65078\n",
      "Data columns (total 7 columns):\n",
      "  userID    65079 non-null object\n",
      "Track       63848 non-null object\n",
      "artist      57876 non-null object\n",
      "genre       63881 non-null object\n",
      "  City      65079 non-null object\n",
      "time        65079 non-null object\n",
      "Day         65079 non-null object\n",
      "dtypes: object(7)\n",
      "memory usage: 3.5+ MB\n"
     ]
    }
   ],
   "source": [
    "# получение общей информации о данных в таблице df\n",
    "df.info()"
   ]
  },
  {
   "cell_type": "markdown",
   "metadata": {
    "id": "TaQ2Iwbr_Zct"
   },
   "source": [
    "Итак, в таблице семь столбцов. Тип данных во всех столбцах — `object`.\n",
    "\n",
    "Согласно документации к данным:\n",
    "* `userID` — идентификатор пользователя;\n",
    "* `Track` — название трека;  \n",
    "* `artist` — имя исполнителя;\n",
    "* `genre` — название жанра;\n",
    "* `City` — город пользователя;\n",
    "* `time` — время начала прослушивания;\n",
    "* `Day` — день недели.\n",
    "\n",
    "В названиях колонок видны три нарушения стиля:\n",
    "1. Строчные буквы сочетаются с прописными.\n",
    "2. Встречаются пробелы.\n",
    "3. Найдите ещё одну проблему в названии колонок и опишите её в этом пункте.\n",
    "\n",
    "\n",
    "\n",
    "Количество значений в столбцах различается. Значит, в данных есть пропущенные значения.\n"
   ]
  },
  {
   "cell_type": "markdown",
   "metadata": {},
   "source": [
    "<font color='Black'>Касательно третьего нарушения. Самые частые проблемы в данных - некорректное наименование столбцов, отсутствующие значения и дублирующие значения. Собственно дублирующиеся значения я и укажу как третью проблему (тем более я в дальнейшем её буду разрещать) </font><br>\n",
    "<font color='Black'> Также я бы не стал именовать столбцы намиенованиями закреплённых функций (day, time). Но вроде таких функций нет(или я пока про них не знаю)</font><br>"
   ]
  },
  {
   "cell_type": "markdown",
   "metadata": {
    "id": "MCB6-dXG_Zct"
   },
   "source": [
    "**Выводы**\n",
    "\n",
    "В каждой строке таблицы — данные о прослушанном треке. Часть колонок описывает саму композицию: название, исполнителя и жанр. Остальные данные рассказывают о пользователе: из какого он города, когда он слушал музыку. \n",
    "\n",
    "Предварительно можно утверждать, что, данных достаточно для проверки гипотез. Но встречаются пропуски в данных, а в названиях колонок — расхождения с хорошим стилем.\n",
    "\n",
    "Чтобы двигаться дальше, нужно устранить проблемы в данных."
   ]
  },
  {
   "cell_type": "markdown",
   "metadata": {
    "id": "SjYF6Ub9_Zct"
   },
   "source": [
    "## Предобработка данных\n",
    "Исправьте стиль в заголовках столбцов, исключите пропуски. Затем проверьте данные на дубликаты."
   ]
  },
  {
   "cell_type": "markdown",
   "metadata": {
    "id": "dIaKXr29_Zct"
   },
   "source": [
    "### Стиль заголовков\n",
    "Выведите на экран названия столбцов:"
   ]
  },
  {
   "cell_type": "code",
   "execution_count": 47,
   "metadata": {
    "id": "oKOTdF_Q_Zct"
   },
   "outputs": [
    {
     "name": "stdout",
     "output_type": "stream",
     "text": [
      "Index(['  userID', 'Track', 'artist', 'genre', '  City  ', 'time', 'Day'], dtype='object')\n"
     ]
    }
   ],
   "source": [
    "print(df.columns)"
   ]
  },
  {
   "cell_type": "markdown",
   "metadata": {
    "id": "zj5534cv_Zct"
   },
   "source": [
    "Приведите названия в соответствие с хорошим стилем:\n",
    "* несколько слов в названии запишите в «змеином_регистре»,\n",
    "* все символы сделайте строчными,\n",
    "* устраните пробелы.\n",
    "\n",
    "Для этого переименуйте колонки так:\n",
    "* `'  userID'` → `'user_id'`;\n",
    "* `'Track'` → `'track'`;\n",
    "* `'  City  '` → `'city'`;\n",
    "* `'Day'` → `'day'`."
   ]
  },
  {
   "cell_type": "code",
   "execution_count": 48,
   "metadata": {
    "id": "ISlFqs5y_Zct"
   },
   "outputs": [],
   "source": [
    "df = df.rename(columns={'  userID':'user_id', 'Track':'track', '  City  ':'city', 'Day':'day'})"
   ]
  },
  {
   "cell_type": "markdown",
   "metadata": {
    "id": "1dqbh00J_Zct"
   },
   "source": [
    "Проверьте результат. Для этого ещё раз выведите на экран названия столбцов:"
   ]
  },
  {
   "cell_type": "code",
   "execution_count": 49,
   "metadata": {
    "id": "d4NOAmTW_Zct"
   },
   "outputs": [
    {
     "data": {
      "text/plain": [
       "Index(['user_id', 'track', 'artist', 'genre', 'city', 'time', 'day'], dtype='object')"
      ]
     },
     "execution_count": 49,
     "metadata": {},
     "output_type": "execute_result"
    }
   ],
   "source": [
    "#print(df.columns)\n",
    "df.columns"
   ]
  },
  {
   "cell_type": "markdown",
   "metadata": {
    "id": "5ISfbcfY_Zct"
   },
   "source": [
    "### Пропуски значений\n",
    "Сначала посчитайте, сколько в таблице пропущенных значений. Для этого достаточно двух методов `pandas`:"
   ]
  },
  {
   "cell_type": "code",
   "execution_count": 50,
   "metadata": {
    "id": "RskX29qr_Zct"
   },
   "outputs": [
    {
     "data": {
      "text/plain": [
       "user_id       0\n",
       "track      1231\n",
       "artist     7203\n",
       "genre      1198\n",
       "city          0\n",
       "time          0\n",
       "day           0\n",
       "dtype: int64"
      ]
     },
     "execution_count": 50,
     "metadata": {},
     "output_type": "execute_result"
    }
   ],
   "source": [
    "#print(df.isna().sum()) \n",
    "df.isna().sum()"
   ]
  },
  {
   "cell_type": "markdown",
   "metadata": {
    "id": "qubhgnlO_Zct"
   },
   "source": [
    "Не все пропущенные значения влияют на исследование. Так в `track` и `artist` пропуски не важны для вашей работы. Достаточно заменить их явными обозначениями.\n",
    "\n",
    "Но пропуски в `genre` могут помешать сравнению музыкальных вкусов в Москве и Санкт-Петербурге. На практике было бы правильно установить причину пропусков и восстановить данные. Такой возможности нет в учебном проекте. Придётся:\n",
    "* заполнить и эти пропуски явными обозначениями,\n",
    "* оценить, насколько они повредят расчётам. "
   ]
  },
  {
   "cell_type": "markdown",
   "metadata": {
    "id": "fSv2laPA_Zct"
   },
   "source": [
    "Замените пропущенные значения в столбцах `track`, `artist` и `genre` на строку `'unknown'`. Для этого создайте список `columns_to_replace`, переберите его элементы циклом `for` и для каждого столбца выполните замену пропущенных значений:"
   ]
  },
  {
   "cell_type": "code",
   "execution_count": 51,
   "metadata": {
    "id": "KplB5qWs_Zct"
   },
   "outputs": [],
   "source": [
    "columns_to_replace = ['track', 'artist', 'genre']\n",
    "for i in columns_to_replace:\n",
    "    df[i]=df[i].fillna('unknown')"
   ]
  },
  {
   "cell_type": "markdown",
   "metadata": {
    "id": "Ilsm-MZo_Zct"
   },
   "source": [
    "Убедитесь, что в таблице не осталось пропусков. Для этого ещё раз посчитайте пропущенные значения."
   ]
  },
  {
   "cell_type": "code",
   "execution_count": 52,
   "metadata": {
    "id": "Tq4nYRX4_Zct"
   },
   "outputs": [
    {
     "data": {
      "text/plain": [
       "user_id    0\n",
       "track      0\n",
       "artist     0\n",
       "genre      0\n",
       "city       0\n",
       "time       0\n",
       "day        0\n",
       "dtype: int64"
      ]
     },
     "execution_count": 52,
     "metadata": {},
     "output_type": "execute_result"
    }
   ],
   "source": [
    "#print(df.isna().sum())\n",
    "df.isna().sum()"
   ]
  },
  {
   "cell_type": "markdown",
   "metadata": {
    "id": "BWKRtBJ3_Zct"
   },
   "source": [
    "### Дубликаты\n",
    "Посчитайте явные дубликаты в таблице одной командой:"
   ]
  },
  {
   "cell_type": "code",
   "execution_count": 53,
   "metadata": {
    "id": "36eES_S0_Zct"
   },
   "outputs": [
    {
     "data": {
      "text/plain": [
       "3826"
      ]
     },
     "execution_count": 53,
     "metadata": {},
     "output_type": "execute_result"
    }
   ],
   "source": [
    "#print(df.duplicated().sum())\n",
    "df.duplicated().sum()"
   ]
  },
  {
   "cell_type": "markdown",
   "metadata": {
    "id": "Ot25h6XR_Zct"
   },
   "source": [
    "Вызовите специальный метод `pandas`, чтобы удалить явные дубликаты:"
   ]
  },
  {
   "cell_type": "code",
   "execution_count": 54,
   "metadata": {
    "id": "exFHq6tt_Zct"
   },
   "outputs": [],
   "source": [
    "# удаление явных дубликатов (с удалением старых индексов и формированием новых)\n",
    "df = df.drop_duplicates().reset_index(drop=True)"
   ]
  },
  {
   "cell_type": "markdown",
   "metadata": {
    "id": "Im2YwBEG_Zct"
   },
   "source": [
    "Ещё раз посчитайте явные дубликаты в таблице — убедитесь, что полностью от них избавились:"
   ]
  },
  {
   "cell_type": "code",
   "execution_count": 55,
   "metadata": {
    "id": "-8PuNWQ0_Zct"
   },
   "outputs": [
    {
     "data": {
      "text/plain": [
       "0"
      ]
     },
     "execution_count": 55,
     "metadata": {},
     "output_type": "execute_result"
    }
   ],
   "source": [
    "#print(df.duplicated().sum())\n",
    "df.duplicated().sum()"
   ]
  },
  {
   "cell_type": "markdown",
   "metadata": {
    "id": "QlFBsxAr_Zct"
   },
   "source": [
    "Теперь избавьтесь от неявных дубликатов в колонке `genre`. Например, название одного и того же жанра может быть записано немного по-разному. Такие ошибки тоже повлияют на результат исследования."
   ]
  },
  {
   "cell_type": "markdown",
   "metadata": {
    "id": "eSjWwsOh_Zct"
   },
   "source": [
    "Выведите на экран список уникальных названий жанров, отсортированный в алфавитном порядке. Для этого:\n",
    "* извлеките нужный столбец датафрейма, \n",
    "* примените к нему метод сортировки,\n",
    "* для отсортированного столбца вызовите метод, который вернёт уникальные значения из столбца."
   ]
  },
  {
   "cell_type": "code",
   "execution_count": 56,
   "metadata": {
    "id": "JIUcqzZN_Zct"
   },
   "outputs": [
    {
     "data": {
      "text/plain": [
       "array(['электроника', 'ïîï', 'worldbeat', 'world', 'western', 'vocal',\n",
       "       'videogame', 'vi', 'variété', 'uzbek', 'urban', 'unknown',\n",
       "       'ukrrock', 'türkçe', 'türk', 'tropical', 'triphop', 'trip',\n",
       "       'tribal', 'trance', 'tradjazz', 'traditional', 'top', 'thrash',\n",
       "       'teen', 'techno', 'tech', 'tatar', 'taraftar', 'tanzorchester',\n",
       "       'tango', 'sängerportrait', 'synthrock', 'synthpop', 'swing',\n",
       "       'surf', 'stonerrock', 'sport', 'spiritual', 'speech', 'specialty',\n",
       "       'southern', 'soundtrack', 'sound', 'soulful', 'soul', 'soft',\n",
       "       'smooth', 'slow', 'skarock', 'ska', 'singer', 'showtunes',\n",
       "       'shoegazing', 'shanson', 'sertanejo', 'self', 'schlager', 'scenic',\n",
       "       'samba', 'salsa', 'russian', 'rusrock', 'rusrap', 'ruspop',\n",
       "       'roots', 'romance', 'rockother', 'rockindie', 'rockalternative',\n",
       "       'rockabilly', 'rock', 'rnr', 'rnb', 'rhythm', 'retro', 'religious',\n",
       "       'relax', 'regional', 'reggaeton', 'reggae', 'rave', 'rap',\n",
       "       'rancheras', 'ram', 'ragga', 'quebecois', 'punk', 'punjabi',\n",
       "       'psychedelic', 'progressive', 'progmetal', 'power', 'postrock',\n",
       "       'posthardcore', 'post', 'poprussian', 'popeurodance',\n",
       "       'popelectronic', 'popdance', 'pop', 'podcasts', 'piano', 'other',\n",
       "       'orchestral', 'opera', 'old', 'oceania', 'numetal', 'nujazz', 'nu',\n",
       "       'newwave', 'newage', 'new', 'neue', 'neoklassik', 'native',\n",
       "       'muslim', 'mpb', 'mood', 'modern', 'miscellaneous', 'minimal',\n",
       "       'middle', 'mexican', 'metalcore', 'metal', 'melodic',\n",
       "       'mediterranean', 'meditative', 'marschmusik', 'mandopop',\n",
       "       'malaysian', 'lovers', 'loungeelectronic', 'lounge', 'local',\n",
       "       'leftfield', 'latino', 'latin', 'laiko', 'korean', 'kayokyoku',\n",
       "       'karaoke', 'karadeniz', 'k-pop', 'jungle', 'jpop', 'jewish',\n",
       "       'jazz', 'japanese', 'jam', 'irish', 'international',\n",
       "       'instrumental', 'inspirational', 'industrial', 'indipop', 'indie',\n",
       "       'indian', 'independent', 'idm', 'hymn', 'house', 'horror', 'hop',\n",
       "       'holiday', 'historisch', 'hiphop', 'hip-hop', 'hip', 'hardtechno',\n",
       "       'hardstyle', 'hardcore', \"hard'n'heavy\", 'handsup', 'gypsy',\n",
       "       'grunge', 'grime', 'gothic', 'gospel', 'glitch', 'gitarre',\n",
       "       'ghazal', 'german', 'garage', 'gangsta', 'future', 'funk',\n",
       "       'french', 'französisch', 'frankreich', 'forró', 'folktronica',\n",
       "       'folkrock', 'folkmetal', 'folklore', 'folk', 'flamenco', 'fitness',\n",
       "       'film', 'fairytail', 'fado', 'extrememetal', 'experimental',\n",
       "       'european', 'eurofolk', 'ethnic', 'estrada', 'epicmetal',\n",
       "       'entehno', 'emo', 'electropop', 'electronic', 'easy', 'eastern',\n",
       "       'dubstep', 'dub', 'drum', 'downtempo', 'downbeat', 'documentary',\n",
       "       'dnb', 'disco', 'dirty', 'deutschspr', 'deutschrock', 'deep',\n",
       "       'death', 'dark', 'dancepop', 'dancehall', 'dance', 'cuban',\n",
       "       'country', 'contemporary', 'conjazz', 'comedy', 'colombian',\n",
       "       'club', 'classicmetal', 'classical', 'christmas', 'christian',\n",
       "       'choral', 'chinese', 'chill', 'children', 'chanson', 'chamber',\n",
       "       'celtic', 'caucasian', 'caribbean', 'canzone', 'cantopop',\n",
       "       'cantautori', 'broadway', 'breaks', 'breakbeat', 'brazilian',\n",
       "       'bossa', 'bollywood', 'blues', 'bluegrass', 'black', 'bigroom',\n",
       "       'beats', 'balkan', 'baile', 'axé', 'avantgarde', 'author',\n",
       "       'audiobook', 'art', 'argentinetango', 'arena', 'arabic', 'arabesk',\n",
       "       'anime', 'animated', 'americana', 'ambient', 'alternativepunk',\n",
       "       'alternative', 'afrikaans', 'africa', 'adult', 'action',\n",
       "       'acoustic', 'acid'], dtype=object)"
      ]
     },
     "execution_count": 56,
     "metadata": {},
     "output_type": "execute_result"
    }
   ],
   "source": [
    "#print(df['genre'].unique())\n",
    "sorted = df.sort_values(by='genre', ascending = False)\n",
    "sorted['genre'].unique()"
   ]
  },
  {
   "cell_type": "markdown",
   "metadata": {
    "id": "qej-Qmuo_Zct"
   },
   "source": [
    "Просмотрите список и найдите неявные дубликаты названия `hiphop`. Это могут быть названия с ошибками или альтернативные названия того же жанра.\n",
    "\n",
    "Вы увидите следующие неявные дубликаты:\n",
    "* *hip*,\n",
    "* *hop*,\n",
    "* *hip-hop*.\n",
    "\n",
    "Чтобы очистить от них таблицу, напишите функцию `replace_wrong_genres()` с двумя параметрами: \n",
    "* `wrong_genres` — список дубликатов,\n",
    "* `correct_genre` — строка с правильным значением.\n",
    "\n",
    "Функция должна исправить колонку `genre` в таблице `df`: заменить каждое значение из списка `wrong_genres` на значение из `correct_genre`."
   ]
  },
  {
   "cell_type": "code",
   "execution_count": 3,
   "metadata": {
    "id": "ErNDkmns_Zct"
   },
   "outputs": [],
   "source": [
    "def replace_wrong_genres(wrong_genres,correct_genre):\n",
    "    #for wrong_genres in wrong_genres:\n",
    "    for wrong_genre in wrong_genres:\n",
    "        df['genre']=df['genre'].replace(wrong_genre,correct_genre)"
   ]
  },
  {
   "cell_type": "markdown",
   "metadata": {},
   "source": [
    "\n",
    "Хоть функция и сработала, но написана изначально мною была неправильно, конечно же по одному элементу должна функция смотреть и пенять название"
   ]
  },
  {
   "cell_type": "markdown",
   "metadata": {
    "id": "aDoBJxbA_Zct"
   },
   "source": [
    "Вызовите `replace_wrong_genres()` и передайте ей такие аргументы, чтобы она устранила неявные дубликаты: вместо `hip`, `hop` и `hip-hop` в таблице должно быть значение `hiphop`:"
   ]
  },
  {
   "cell_type": "code",
   "execution_count": 58,
   "metadata": {
    "id": "YN5i2hpmSo09"
   },
   "outputs": [],
   "source": [
    "duplicates = ['hip', 'hop', 'hip-hop']\n",
    "name = 'hiphop'  \n",
    "replace_wrong_genres(duplicates, name)"
   ]
  },
  {
   "cell_type": "markdown",
   "metadata": {
    "id": "zQKF16_RG15m"
   },
   "source": [
    "Проверьте, что заменили неправильные названия:\n",
    "\n",
    "*   hip\n",
    "*   hop\n",
    "*   hip-hop\n",
    "\n",
    "Выведите отсортированный список уникальных значений столбца `genre`:"
   ]
  },
  {
   "cell_type": "code",
   "execution_count": 59,
   "metadata": {
    "id": "wvixALnFG15m"
   },
   "outputs": [
    {
     "data": {
      "text/plain": [
       "array(['электроника', 'ïîï', 'worldbeat', 'world', 'western', 'vocal',\n",
       "       'videogame', 'vi', 'variété', 'uzbek', 'urban', 'unknown',\n",
       "       'ukrrock', 'türkçe', 'türk', 'tropical', 'triphop', 'trip',\n",
       "       'tribal', 'trance', 'tradjazz', 'traditional', 'top', 'thrash',\n",
       "       'teen', 'techno', 'tech', 'tatar', 'taraftar', 'tanzorchester',\n",
       "       'tango', 'sängerportrait', 'synthrock', 'synthpop', 'swing',\n",
       "       'surf', 'stonerrock', 'sport', 'spiritual', 'speech', 'specialty',\n",
       "       'southern', 'soundtrack', 'sound', 'soulful', 'soul', 'soft',\n",
       "       'smooth', 'slow', 'skarock', 'ska', 'singer', 'showtunes',\n",
       "       'shoegazing', 'shanson', 'sertanejo', 'self', 'schlager', 'scenic',\n",
       "       'samba', 'salsa', 'russian', 'rusrock', 'rusrap', 'ruspop',\n",
       "       'roots', 'romance', 'rockother', 'rockindie', 'rockalternative',\n",
       "       'rockabilly', 'rock', 'rnr', 'rnb', 'rhythm', 'retro', 'religious',\n",
       "       'relax', 'regional', 'reggaeton', 'reggae', 'rave', 'rap',\n",
       "       'rancheras', 'ram', 'ragga', 'quebecois', 'punk', 'punjabi',\n",
       "       'psychedelic', 'progressive', 'progmetal', 'power', 'postrock',\n",
       "       'posthardcore', 'post', 'poprussian', 'popeurodance',\n",
       "       'popelectronic', 'popdance', 'pop', 'podcasts', 'piano', 'other',\n",
       "       'orchestral', 'opera', 'old', 'oceania', 'numetal', 'nujazz', 'nu',\n",
       "       'newwave', 'newage', 'new', 'neue', 'neoklassik', 'native',\n",
       "       'muslim', 'mpb', 'mood', 'modern', 'miscellaneous', 'minimal',\n",
       "       'middle', 'mexican', 'metalcore', 'metal', 'melodic',\n",
       "       'mediterranean', 'meditative', 'marschmusik', 'mandopop',\n",
       "       'malaysian', 'lovers', 'loungeelectronic', 'lounge', 'local',\n",
       "       'leftfield', 'latino', 'latin', 'laiko', 'korean', 'kayokyoku',\n",
       "       'karaoke', 'karadeniz', 'k-pop', 'jungle', 'jpop', 'jewish',\n",
       "       'jazz', 'japanese', 'jam', 'irish', 'international',\n",
       "       'instrumental', 'inspirational', 'industrial', 'indipop', 'indie',\n",
       "       'indian', 'independent', 'idm', 'hymn', 'house', 'horror',\n",
       "       'holiday', 'historisch', 'hiphop', 'hardtechno', 'hardstyle',\n",
       "       'hardcore', \"hard'n'heavy\", 'handsup', 'gypsy', 'grunge', 'grime',\n",
       "       'gothic', 'gospel', 'glitch', 'gitarre', 'ghazal', 'german',\n",
       "       'garage', 'gangsta', 'future', 'funk', 'french', 'französisch',\n",
       "       'frankreich', 'forró', 'folktronica', 'folkrock', 'folkmetal',\n",
       "       'folklore', 'folk', 'flamenco', 'fitness', 'film', 'fairytail',\n",
       "       'fado', 'extrememetal', 'experimental', 'european', 'eurofolk',\n",
       "       'ethnic', 'estrada', 'epicmetal', 'entehno', 'emo', 'electropop',\n",
       "       'electronic', 'easy', 'eastern', 'dubstep', 'dub', 'drum',\n",
       "       'downtempo', 'downbeat', 'documentary', 'dnb', 'disco', 'dirty',\n",
       "       'deutschspr', 'deutschrock', 'deep', 'death', 'dark', 'dancepop',\n",
       "       'dancehall', 'dance', 'cuban', 'country', 'contemporary',\n",
       "       'conjazz', 'comedy', 'colombian', 'club', 'classicmetal',\n",
       "       'classical', 'christmas', 'christian', 'choral', 'chinese',\n",
       "       'chill', 'children', 'chanson', 'chamber', 'celtic', 'caucasian',\n",
       "       'caribbean', 'canzone', 'cantopop', 'cantautori', 'broadway',\n",
       "       'breaks', 'breakbeat', 'brazilian', 'bossa', 'bollywood', 'blues',\n",
       "       'bluegrass', 'black', 'bigroom', 'beats', 'balkan', 'baile', 'axé',\n",
       "       'avantgarde', 'author', 'audiobook', 'art', 'argentinetango',\n",
       "       'arena', 'arabic', 'arabesk', 'anime', 'animated', 'americana',\n",
       "       'ambient', 'alternativepunk', 'alternative', 'afrikaans', 'africa',\n",
       "       'adult', 'action', 'acoustic', 'acid'], dtype=object)"
      ]
     },
     "execution_count": 59,
     "metadata": {},
     "output_type": "execute_result"
    }
   ],
   "source": [
    "#print(df['genre'].unique())\n",
    "sorted = df.sort_values(by='genre', ascending = False)\n",
    "sorted['genre'].unique()"
   ]
  },
  {
   "cell_type": "markdown",
   "metadata": {
    "id": "jz6a9-7HQUDd"
   },
   "source": [
    "**Выводы**\n",
    "\n",
    "Предобработка обнаружила три проблемы в данных:\n",
    "\n",
    "- нарушения в стиле заголовков,\n",
    "- пропущенные значения,\n",
    "- дубликаты — явные и неявные.\n",
    "\n",
    "Вы исправили заголовки, чтобы упростить работу с таблицей. Без дубликатов исследование станет более точным.\n",
    "\n",
    "Пропущенные значения вы заменили на `'unknown'`. Ещё предстоит увидеть, не повредят ли исследованию пропуски в колонке `genre`.\n",
    "\n",
    "Теперь можно перейти к проверке гипотез. "
   ]
  },
  {
   "cell_type": "markdown",
   "metadata": {
    "id": "WttZHXH0SqKk"
   },
   "source": [
    "## Проверка гипотез"
   ]
  },
  {
   "cell_type": "markdown",
   "metadata": {
    "id": "Im936VVi_Zcu"
   },
   "source": [
    "### Сравнение поведения пользователей двух столиц"
   ]
  },
  {
   "cell_type": "markdown",
   "metadata": {
    "id": "nwt_MuaL_Zcu"
   },
   "source": [
    "Первая гипотеза утверждает, что пользователи по-разному слушают музыку в Москве и Санкт-Петербурге. Проверьте это предположение по данным о трёх днях недели — понедельнике, среде и пятнице. Для этого:\n",
    "\n",
    "* Разделите пользователей Москвы и Санкт-Петербурга\n",
    "* Сравните, сколько треков послушала каждая группа пользователей в понедельник, среду и пятницу.\n"
   ]
  },
  {
   "cell_type": "markdown",
   "metadata": {
    "id": "8Dw_YMmT_Zcu"
   },
   "source": [
    "Для тренировки сначала выполните каждый из расчётов по отдельности. \n",
    "\n",
    "Оцените активность пользователей в каждом городе. Сгруппируйте данные по городу и посчитайте прослушивания в каждой группе.\n",
    "\n"
   ]
  },
  {
   "cell_type": "code",
   "execution_count": 62,
   "metadata": {
    "id": "0_Qs96oh_Zcu",
    "scrolled": true
   },
   "outputs": [
    {
     "data": {
      "text/plain": [
       "city\n",
       "Moscow              42741\n",
       "Saint-Petersburg    18512\n",
       "Name: user_id, dtype: int64"
      ]
     },
     "execution_count": 62,
     "metadata": {},
     "output_type": "execute_result"
    }
   ],
   "source": [
    "df.groupby('city')['user_id'].count()"
   ]
  },
  {
   "cell_type": "markdown",
   "metadata": {
    "id": "dzli3w8o_Zcu"
   },
   "source": [
    "В Москве прослушиваний больше, чем в Петербурге. Из этого не следует, что московские пользователи чаще слушают музыку. Просто самих пользователей в Москве больше.\n",
    "\n",
    "Теперь сгруппируйте данные по дню недели и подсчитайте прослушивания в понедельник, среду и пятницу. Учтите, что в данных есть информация только о прослушиваниях только за эти дни."
   ]
  },
  {
   "cell_type": "code",
   "execution_count": 63,
   "metadata": {
    "id": "uZMKjiJz_Zcu"
   },
   "outputs": [
    {
     "data": {
      "text/plain": [
       "day\n",
       "Friday       21840\n",
       "Monday       21354\n",
       "Wednesday    18059\n",
       "Name: city, dtype: int64"
      ]
     },
     "execution_count": 63,
     "metadata": {},
     "output_type": "execute_result"
    }
   ],
   "source": [
    "df.groupby('day')['city'].count()"
   ]
  },
  {
   "cell_type": "markdown",
   "metadata": {
    "id": "cC2tNrlL_Zcu"
   },
   "source": [
    "В среднем пользователи из двух городов менее активны по средам. Но картина может измениться, если рассмотреть каждый город в отдельности."
   ]
  },
  {
   "cell_type": "markdown",
   "metadata": {
    "id": "POzs8bGa_Zcu"
   },
   "source": [
    "\n",
    "Создайте функцию `number_tracks()`, которая посчитает прослушивания для заданного дня и города. Ей понадобятся два параметра:\n",
    "* день недели,\n",
    "* название города.\n",
    "\n",
    "В функции сохраните в переменную строки исходной таблицы, у которых значение:\n",
    "  * в колонке `day` равно параметру `day`,\n",
    "  * в колонке `city` равно параметру `city`.\n",
    "\n",
    "Для этого примените последовательную фильтрацию с логической индексацией.\n",
    "\n",
    "Затем посчитайте значения в столбце `user_id` получившейся таблицы. Результат сохраните в новую переменную. Верните эту переменную из функции."
   ]
  },
  {
   "cell_type": "code",
   "execution_count": 64,
   "metadata": {
    "id": "Nz3GdQB1_Zcu"
   },
   "outputs": [],
   "source": [
    "def number_tracks(day, city):\n",
    "    track_list = df[df['day'] == day]\n",
    "    track_list = track_list[track_list['city'] == city]\n",
    "    track_list_count = track_list['user_id'].count()\n",
    "    return track_list_count\n",
    "# <создание функции number_tracks()>\n",
    "# Объявляется функция с двумя параметрами: day, city.\n",
    "# В переменной track_list сохраняются те строки таблицы df, для которых \n",
    "# значение в столбце 'day' равно параметру day и одновременно значение\n",
    "# в столбце 'city' равно параметру city (используйте последовательную фильтрацию\n",
    "# с помощью логической индексации).\n",
    "# В переменной track_list_count сохраняется число значений столбца 'user_id',\n",
    "# рассчитанное методом count() для таблицы track_list.\n",
    "# Функция возвращает число - значение track_list_count.\n",
    "\n",
    "# Функция для подсчёта прослушиваний для конкретного города и дня.\n",
    "# С помощью последовательной фильтрации с логической индексацией она \n",
    "# сначала получит из исходной таблицы строки с нужным днём,\n",
    "# затем из результата отфильтрует строки с нужным городом,\n",
    "# методом count() посчитает количество значений в колонке user_id. \n",
    "# Это количество функция вернёт в качестве результата"
   ]
  },
  {
   "cell_type": "markdown",
   "metadata": {
    "id": "ytf7xFrFJQ2r"
   },
   "source": [
    "Вызовите `number_tracks()` шесть раз, меняя значение параметров — так, чтобы получить данные для каждого города в каждый из трёх дней."
   ]
  },
  {
   "cell_type": "code",
   "execution_count": 65,
   "metadata": {
    "id": "rJcRATNQ_Zcu"
   },
   "outputs": [
    {
     "data": {
      "text/plain": [
       "15740"
      ]
     },
     "execution_count": 65,
     "metadata": {},
     "output_type": "execute_result"
    }
   ],
   "source": [
    "# количество прослушиваний в Москве по понедельникам\n",
    "number_tracks('Monday','Moscow')"
   ]
  },
  {
   "cell_type": "code",
   "execution_count": 66,
   "metadata": {
    "id": "hq_ncZ5T_Zcu"
   },
   "outputs": [
    {
     "data": {
      "text/plain": [
       "5614"
      ]
     },
     "execution_count": 66,
     "metadata": {},
     "output_type": "execute_result"
    }
   ],
   "source": [
    "# количество прослушиваний в Санкт-Петербурге по понедельникам\n",
    "number_tracks('Monday', 'Saint-Petersburg')"
   ]
  },
  {
   "cell_type": "code",
   "execution_count": 67,
   "metadata": {
    "id": "_NTy2VPU_Zcu"
   },
   "outputs": [
    {
     "data": {
      "text/plain": [
       "11056"
      ]
     },
     "execution_count": 67,
     "metadata": {},
     "output_type": "execute_result"
    }
   ],
   "source": [
    "# количество прослушиваний в Москве по средам\n",
    "number_tracks('Wednesday','Moscow')"
   ]
  },
  {
   "cell_type": "code",
   "execution_count": 68,
   "metadata": {
    "id": "j2y3TAwo_Zcu"
   },
   "outputs": [
    {
     "data": {
      "text/plain": [
       "7003"
      ]
     },
     "execution_count": 68,
     "metadata": {},
     "output_type": "execute_result"
    }
   ],
   "source": [
    "# количество прослушиваний в Санкт-Петербурге по средам\n",
    "number_tracks('Wednesday','Saint-Petersburg')"
   ]
  },
  {
   "cell_type": "code",
   "execution_count": 69,
   "metadata": {
    "id": "vYDw5u_K_Zcu"
   },
   "outputs": [
    {
     "data": {
      "text/plain": [
       "15945"
      ]
     },
     "execution_count": 69,
     "metadata": {},
     "output_type": "execute_result"
    }
   ],
   "source": [
    "# количество прослушиваний в Москве по пятницам\n",
    "number_tracks('Friday','Moscow')"
   ]
  },
  {
   "cell_type": "code",
   "execution_count": 70,
   "metadata": {
    "id": "8_yzFtW3_Zcu"
   },
   "outputs": [
    {
     "data": {
      "text/plain": [
       "5895"
      ]
     },
     "execution_count": 70,
     "metadata": {},
     "output_type": "execute_result"
    }
   ],
   "source": [
    "# количество прослушиваний в Санкт-Петербурге по пятницам\n",
    "number_tracks('Friday','Saint-Petersburg')"
   ]
  },
  {
   "cell_type": "markdown",
   "metadata": {
    "id": "7QXffbO-_Zcu"
   },
   "source": [
    "Создайте c помощью конструктора `pd.DataFrame` таблицу, где\n",
    "* названия колонок — `['city', 'monday', 'wednesday', 'friday']`;\n",
    "* данные — результаты, которые вы получили с помощью `number_tracks`."
   ]
  },
  {
   "cell_type": "code",
   "execution_count": 73,
   "metadata": {
    "id": "APAcLpOr_Zcu"
   },
   "outputs": [
    {
     "data": {
      "text/html": [
       "<div>\n",
       "<style scoped>\n",
       "    .dataframe tbody tr th:only-of-type {\n",
       "        vertical-align: middle;\n",
       "    }\n",
       "\n",
       "    .dataframe tbody tr th {\n",
       "        vertical-align: top;\n",
       "    }\n",
       "\n",
       "    .dataframe thead th {\n",
       "        text-align: right;\n",
       "    }\n",
       "</style>\n",
       "<table border=\"1\" class=\"dataframe\">\n",
       "  <thead>\n",
       "    <tr style=\"text-align: right;\">\n",
       "      <th></th>\n",
       "      <th>city</th>\n",
       "      <th>monday</th>\n",
       "      <th>wednesday</th>\n",
       "      <th>friday</th>\n",
       "    </tr>\n",
       "  </thead>\n",
       "  <tbody>\n",
       "    <tr>\n",
       "      <td>0</td>\n",
       "      <td>Moscow</td>\n",
       "      <td>15740</td>\n",
       "      <td>11056</td>\n",
       "      <td>15945</td>\n",
       "    </tr>\n",
       "    <tr>\n",
       "      <td>1</td>\n",
       "      <td>Saint-Petersburg</td>\n",
       "      <td>5614</td>\n",
       "      <td>7003</td>\n",
       "      <td>5895</td>\n",
       "    </tr>\n",
       "  </tbody>\n",
       "</table>\n",
       "</div>"
      ],
      "text/plain": [
       "               city  monday  wednesday  friday\n",
       "0            Moscow   15740      11056   15945\n",
       "1  Saint-Petersburg    5614       7003    5895"
      ]
     },
     "execution_count": 73,
     "metadata": {},
     "output_type": "execute_result"
    }
   ],
   "source": [
    "# Таблица с результатами\n",
    "columns = ['city', 'monday', 'wednesday', 'friday']\n",
    "data = [['Moscow', 15740, 11056, 15945],\n",
    "       ['Saint-Petersburg', 5614, 7003, 5895]]\n",
    "#pd.DataFrame(data=data, columns=columns) \n",
    "table = pd.DataFrame(data=data, columns=columns)\n",
    "table"
   ]
  },
  {
   "cell_type": "markdown",
   "metadata": {
    "id": "-EgPIHYu_Zcu"
   },
   "source": [
    "**Выводы**\n",
    "\n",
    "Данные показывают разницу поведения пользователей:\n",
    "\n",
    "- В Москве пик прослушиваний приходится на понедельник и пятницу, а в среду заметен спад.\n",
    "- В Петербурге, наоборот, больше слушают музыку по средам. Активность в понедельник и пятницу здесь почти в равной мере уступает среде.\n",
    "\n",
    "Значит, данные говорят в пользу первой гипотезы."
   ]
  },
  {
   "cell_type": "markdown",
   "metadata": {
    "id": "atZAxtq4_Zcu"
   },
   "source": [
    "### Музыка в начале и в конце недели"
   ]
  },
  {
   "cell_type": "markdown",
   "metadata": {
    "id": "eXrQqXFH_Zcu"
   },
   "source": [
    "Согласно второй гипотезе, утром в понедельник в Москве преобладают одни жанры, а в Петербурге — другие. Так же и вечером пятницы преобладают разные жанры — в зависимости от города."
   ]
  },
  {
   "cell_type": "markdown",
   "metadata": {
    "id": "S8UcW6Hw_Zcu"
   },
   "source": [
    "Сохраните таблицы с данными в две переменные:\n",
    "* по Москве — в `moscow_general`;\n",
    "* по Санкт-Петербургу — в `spb_general`."
   ]
  },
  {
   "cell_type": "code",
   "execution_count": 76,
   "metadata": {
    "id": "qeaFfM_P_Zcu"
   },
   "outputs": [
    {
     "data": {
      "text/html": [
       "<div>\n",
       "<style scoped>\n",
       "    .dataframe tbody tr th:only-of-type {\n",
       "        vertical-align: middle;\n",
       "    }\n",
       "\n",
       "    .dataframe tbody tr th {\n",
       "        vertical-align: top;\n",
       "    }\n",
       "\n",
       "    .dataframe thead th {\n",
       "        text-align: right;\n",
       "    }\n",
       "</style>\n",
       "<table border=\"1\" class=\"dataframe\">\n",
       "  <thead>\n",
       "    <tr style=\"text-align: right;\">\n",
       "      <th></th>\n",
       "      <th>user_id</th>\n",
       "      <th>track</th>\n",
       "      <th>artist</th>\n",
       "      <th>genre</th>\n",
       "      <th>city</th>\n",
       "      <th>time</th>\n",
       "      <th>day</th>\n",
       "    </tr>\n",
       "  </thead>\n",
       "  <tbody>\n",
       "    <tr>\n",
       "      <td>61247</td>\n",
       "      <td>83A474E7</td>\n",
       "      <td>I Worship Only What You Bleed</td>\n",
       "      <td>The Black Dahlia Murder</td>\n",
       "      <td>extrememetal</td>\n",
       "      <td>Moscow</td>\n",
       "      <td>21:07:12</td>\n",
       "      <td>Monday</td>\n",
       "    </tr>\n",
       "    <tr>\n",
       "      <td>61248</td>\n",
       "      <td>729CBB09</td>\n",
       "      <td>My Name</td>\n",
       "      <td>McLean</td>\n",
       "      <td>rnb</td>\n",
       "      <td>Moscow</td>\n",
       "      <td>13:32:28</td>\n",
       "      <td>Wednesday</td>\n",
       "    </tr>\n",
       "    <tr>\n",
       "      <td>61250</td>\n",
       "      <td>C5E3A0D5</td>\n",
       "      <td>Jalopiina</td>\n",
       "      <td>unknown</td>\n",
       "      <td>industrial</td>\n",
       "      <td>Moscow</td>\n",
       "      <td>20:09:26</td>\n",
       "      <td>Friday</td>\n",
       "    </tr>\n",
       "    <tr>\n",
       "      <td>61251</td>\n",
       "      <td>321D0506</td>\n",
       "      <td>Freight Train</td>\n",
       "      <td>Chas McDevitt</td>\n",
       "      <td>rock</td>\n",
       "      <td>Moscow</td>\n",
       "      <td>21:43:59</td>\n",
       "      <td>Friday</td>\n",
       "    </tr>\n",
       "    <tr>\n",
       "      <td>61252</td>\n",
       "      <td>3A64EF84</td>\n",
       "      <td>Tell Me Sweet Little Lies</td>\n",
       "      <td>Monica Lopez</td>\n",
       "      <td>country</td>\n",
       "      <td>Moscow</td>\n",
       "      <td>21:59:46</td>\n",
       "      <td>Friday</td>\n",
       "    </tr>\n",
       "  </tbody>\n",
       "</table>\n",
       "</div>"
      ],
      "text/plain": [
       "        user_id                          track                   artist  \\\n",
       "61247  83A474E7  I Worship Only What You Bleed  The Black Dahlia Murder   \n",
       "61248  729CBB09                        My Name                   McLean   \n",
       "61250  C5E3A0D5                      Jalopiina                  unknown   \n",
       "61251  321D0506                  Freight Train            Chas McDevitt   \n",
       "61252  3A64EF84      Tell Me Sweet Little Lies             Monica Lopez   \n",
       "\n",
       "              genre    city      time        day  \n",
       "61247  extrememetal  Moscow  21:07:12     Monday  \n",
       "61248           rnb  Moscow  13:32:28  Wednesday  \n",
       "61250    industrial  Moscow  20:09:26     Friday  \n",
       "61251          rock  Moscow  21:43:59     Friday  \n",
       "61252       country  Moscow  21:59:46     Friday  "
      ]
     },
     "execution_count": 76,
     "metadata": {},
     "output_type": "execute_result"
    }
   ],
   "source": [
    "# получение таблицы moscow_general из тех строк таблицы df, \n",
    "# для которых значение в столбце 'city' равно 'Moscow'\n",
    "moscow_general = df[df['city'] == 'Moscow']\n",
    "moscow_general.head()\n",
    "moscow_general.tail()"
   ]
  },
  {
   "cell_type": "code",
   "execution_count": 78,
   "metadata": {
    "id": "ORaVRKto_Zcu"
   },
   "outputs": [
    {
     "data": {
      "text/html": [
       "<div>\n",
       "<style scoped>\n",
       "    .dataframe tbody tr th:only-of-type {\n",
       "        vertical-align: middle;\n",
       "    }\n",
       "\n",
       "    .dataframe tbody tr th {\n",
       "        vertical-align: top;\n",
       "    }\n",
       "\n",
       "    .dataframe thead th {\n",
       "        text-align: right;\n",
       "    }\n",
       "</style>\n",
       "<table border=\"1\" class=\"dataframe\">\n",
       "  <thead>\n",
       "    <tr style=\"text-align: right;\">\n",
       "      <th></th>\n",
       "      <th>user_id</th>\n",
       "      <th>track</th>\n",
       "      <th>artist</th>\n",
       "      <th>genre</th>\n",
       "      <th>city</th>\n",
       "      <th>time</th>\n",
       "      <th>day</th>\n",
       "    </tr>\n",
       "  </thead>\n",
       "  <tbody>\n",
       "    <tr>\n",
       "      <td>61239</td>\n",
       "      <td>D94F810B</td>\n",
       "      <td>Theme from the Walking Dead</td>\n",
       "      <td>Proyecto Halloween</td>\n",
       "      <td>film</td>\n",
       "      <td>Saint-Petersburg</td>\n",
       "      <td>21:14:40</td>\n",
       "      <td>Monday</td>\n",
       "    </tr>\n",
       "    <tr>\n",
       "      <td>61240</td>\n",
       "      <td>BC8EC5CF</td>\n",
       "      <td>Red Lips: Gta (Rover Rework)</td>\n",
       "      <td>Rover</td>\n",
       "      <td>electronic</td>\n",
       "      <td>Saint-Petersburg</td>\n",
       "      <td>21:06:50</td>\n",
       "      <td>Monday</td>\n",
       "    </tr>\n",
       "    <tr>\n",
       "      <td>61241</td>\n",
       "      <td>29E04611</td>\n",
       "      <td>Bre Petrunko</td>\n",
       "      <td>Perunika Trio</td>\n",
       "      <td>world</td>\n",
       "      <td>Saint-Petersburg</td>\n",
       "      <td>13:56:00</td>\n",
       "      <td>Monday</td>\n",
       "    </tr>\n",
       "    <tr>\n",
       "      <td>61242</td>\n",
       "      <td>1B91C621</td>\n",
       "      <td>(Hello) Cloud Mountain</td>\n",
       "      <td>sleepmakeswaves</td>\n",
       "      <td>postrock</td>\n",
       "      <td>Saint-Petersburg</td>\n",
       "      <td>09:22:13</td>\n",
       "      <td>Monday</td>\n",
       "    </tr>\n",
       "    <tr>\n",
       "      <td>61249</td>\n",
       "      <td>D08D4A55</td>\n",
       "      <td>Maybe One Day (feat. Black Spade)</td>\n",
       "      <td>Blu &amp; Exile</td>\n",
       "      <td>hiphop</td>\n",
       "      <td>Saint-Petersburg</td>\n",
       "      <td>10:00:00</td>\n",
       "      <td>Monday</td>\n",
       "    </tr>\n",
       "  </tbody>\n",
       "</table>\n",
       "</div>"
      ],
      "text/plain": [
       "        user_id                              track              artist  \\\n",
       "61239  D94F810B        Theme from the Walking Dead  Proyecto Halloween   \n",
       "61240  BC8EC5CF       Red Lips: Gta (Rover Rework)               Rover   \n",
       "61241  29E04611                       Bre Petrunko       Perunika Trio   \n",
       "61242  1B91C621             (Hello) Cloud Mountain     sleepmakeswaves   \n",
       "61249  D08D4A55  Maybe One Day (feat. Black Spade)         Blu & Exile   \n",
       "\n",
       "            genre              city      time     day  \n",
       "61239        film  Saint-Petersburg  21:14:40  Monday  \n",
       "61240  electronic  Saint-Petersburg  21:06:50  Monday  \n",
       "61241       world  Saint-Petersburg  13:56:00  Monday  \n",
       "61242    postrock  Saint-Petersburg  09:22:13  Monday  \n",
       "61249      hiphop  Saint-Petersburg  10:00:00  Monday  "
      ]
     },
     "execution_count": 78,
     "metadata": {},
     "output_type": "execute_result"
    }
   ],
   "source": [
    "# получение таблицы spb_general из тех строк таблицы df,\n",
    "# для которых значение в столбце 'city' равно 'Saint-Petersburg'\n",
    "spb_general = df[df['city'] == 'Saint-Petersburg']\n",
    "spb_general.head()\n",
    "spb_general.tail()"
   ]
  },
  {
   "cell_type": "markdown",
   "metadata": {
    "id": "MEJV-CX2_Zcu"
   },
   "source": [
    "Создайте функцию `genre_weekday()` с четырьмя параметрами:\n",
    "* таблица (датафрейм) с данными,\n",
    "* день недели,\n",
    "* начальная временная метка в формате 'hh:mm', \n",
    "* последняя временная метка в формате 'hh:mm'.\n",
    "\n",
    "Функция должна вернуть информацию о топ-10 жанров тех треков, которые прослушивали в указанный день, в промежутке между двумя отметками времени."
   ]
  },
  {
   "cell_type": "code",
   "execution_count": 85,
   "metadata": {
    "id": "laJT9BYl_Zcu"
   },
   "outputs": [],
   "source": [
    "def genre_weekday(table, day, time1, time2 ):\n",
    "    genre_df2 = table[table['day'] == day]\n",
    "    genre_df1 = genre_df2[genre_df2['time'] > time1]\n",
    "    genre_df = genre_df1[genre_df1['time'] < time2]\n",
    "    genre_df_count = genre_df.groupby('genre')['user_id'].count() \n",
    "    genre_df_sorted = genre_df_count.sort_values(ascending=False)\n",
    "    #return display(genre_df_sorted.head(10))\n",
    "    return genre_df_sorted[:10]\n",
    "# Объявление функции genre_weekday() с параметрами table, day, time1, time2,\n",
    "# которая возвращает информацию о самых популярных жанрах в указанный день в\n",
    "# заданное время:\n",
    "# 1) в переменную genre_df сохраняются те строки переданного датафрейма table, для\n",
    "#    которых одновременно:\n",
    "#    - значение в столбце day равно значению аргумента day\n",
    "#    - значение в столбце time больше значения аргумента time1\n",
    "#    - значение в столбце time меньше значения аргумента time2\n",
    "#    Используйте последовательную фильтрацию с помощью логической индексации.\n",
    "# 2) сгруппировать датафрейм genre_df по столбцу genre, взять один из его\n",
    "#    столбцов и посчитать методом count() количество записей для каждого из\n",
    "#    присутствующих жанров, получившийся Series записать в переменную\n",
    "#    genre_df_count\n",
    "# 3) отсортировать genre_df_count по убыванию встречаемости и сохранить\n",
    "#    в переменную genre_df_sorted\n",
    "# 4) вернуть Series из 10 первых значений genre_df_sorted, это будут топ-10\n",
    "#    популярных жанров (в указанный день, в заданное время)"
   ]
  },
  {
   "cell_type": "markdown",
   "metadata": {
    "id": "la2s2_PF_Zcu"
   },
   "source": [
    "Cравните результаты функции `genre_weekday()` для Москвы и Санкт-Петербурга в понедельник утром (с 7:00 до 11:00) и в пятницу вечером (с 17:00 до 23:00):"
   ]
  },
  {
   "cell_type": "code",
   "execution_count": 86,
   "metadata": {
    "id": "yz7itPUQ_Zcu"
   },
   "outputs": [
    {
     "data": {
      "text/plain": [
       "genre\n",
       "pop            781\n",
       "dance          549\n",
       "electronic     480\n",
       "rock           474\n",
       "hiphop         286\n",
       "ruspop         186\n",
       "world          181\n",
       "rusrap         175\n",
       "alternative    164\n",
       "unknown        161\n",
       "Name: user_id, dtype: int64"
      ]
     },
     "execution_count": 86,
     "metadata": {},
     "output_type": "execute_result"
    }
   ],
   "source": [
    "# вызов функции для утра понедельника в Москве (вместо df — таблица moscow_general)\n",
    "# объекты, хранящие время, являются строками и сравниваются как строки\n",
    "# пример вызова: genre_weekday(moscow_general, 'Monday', '07:00', '11:00')\n",
    "genre_weekday(moscow_general, 'Monday', '07:00', '11:00')"
   ]
  },
  {
   "cell_type": "code",
   "execution_count": 87,
   "metadata": {
    "id": "kwUcHPdy_Zcu"
   },
   "outputs": [
    {
     "data": {
      "text/plain": [
       "genre\n",
       "pop            218\n",
       "dance          182\n",
       "rock           162\n",
       "electronic     147\n",
       "hiphop          80\n",
       "ruspop          64\n",
       "alternative     58\n",
       "rusrap          55\n",
       "jazz            44\n",
       "classical       40\n",
       "Name: user_id, dtype: int64"
      ]
     },
     "execution_count": 87,
     "metadata": {},
     "output_type": "execute_result"
    }
   ],
   "source": [
    "# вызов функции для утра понедельника в Петербурге (вместо df — таблица spb_general)\n",
    "genre_weekday(spb_general, 'Monday', '07:00', '11:00')"
   ]
  },
  {
   "cell_type": "code",
   "execution_count": 88,
   "metadata": {
    "id": "EzXVRE1o_Zcu"
   },
   "outputs": [
    {
     "data": {
      "text/plain": [
       "genre\n",
       "pop            713\n",
       "rock           517\n",
       "dance          495\n",
       "electronic     482\n",
       "hiphop         273\n",
       "world          208\n",
       "ruspop         170\n",
       "alternative    163\n",
       "classical      163\n",
       "rusrap         142\n",
       "Name: user_id, dtype: int64"
      ]
     },
     "execution_count": 88,
     "metadata": {},
     "output_type": "execute_result"
    }
   ],
   "source": [
    "# вызов функции для вечера пятницы в Москве\n",
    "genre_weekday(moscow_general, 'Friday', '17:00', '23:00')"
   ]
  },
  {
   "cell_type": "code",
   "execution_count": 89,
   "metadata": {
    "id": "JZaEKu5v_Zcu"
   },
   "outputs": [
    {
     "data": {
      "text/plain": [
       "genre\n",
       "pop            256\n",
       "rock           216\n",
       "electronic     216\n",
       "dance          210\n",
       "hiphop          97\n",
       "alternative     63\n",
       "jazz            61\n",
       "classical       60\n",
       "rusrap          59\n",
       "world           54\n",
       "Name: user_id, dtype: int64"
      ]
     },
     "execution_count": 89,
     "metadata": {},
     "output_type": "execute_result"
    }
   ],
   "source": [
    "# вызов функции для вечера пятницы в Петербурге\n",
    "genre_weekday(spb_general, 'Friday', '17:00', '23:00')"
   ]
  },
  {
   "cell_type": "markdown",
   "metadata": {
    "id": "wrCe4MNX_Zcu"
   },
   "source": [
    "**Выводы**\n",
    "\n",
    "Если сравнить топ-10 жанров в понедельник утром, можно сделать такие выводы:\n",
    "\n",
    "1. В Москве и Петербурге слушают похожую музыку. Единственное отличие — в московский рейтинг вошёл жанр “world”, а в петербургский — джаз и классика.\n",
    "\n",
    "2. В Москве пропущенных значений оказалось так много, что значение `'unknown'` заняло десятое место среди самых популярных жанров. Значит, пропущенные значения занимают существенную долю в данных и угрожают достоверности исследования.\n",
    "\n",
    "Вечер пятницы не меняет эту картину. Некоторые жанры поднимаются немного выше, другие спускаются, но в целом топ-10 остаётся тем же самым.\n",
    "\n",
    "Таким образом, вторая гипотеза подтвердилась лишь частично:\n",
    "* Пользователи слушают похожую музыку в начале недели и в конце.\n",
    "* Разница между Москвой и Петербургом не слишком выражена. В Москве чаще слушают русскую популярную музыку, в Петербурге — джаз.\n",
    "\n",
    "Однако пропуски в данных ставят под сомнение этот результат. В Москве их так много, что рейтинг топ-10 мог бы выглядеть иначе, если бы не утерянные  данные о жанрах."
   ]
  },
  {
   "cell_type": "markdown",
   "metadata": {
    "id": "JolODAqr_Zcu"
   },
   "source": [
    "### Жанровые предпочтения в Москве и Петербурге\n",
    "\n",
    "Гипотеза: Петербург — столица рэпа, музыку этого жанра там слушают чаще, чем в Москве.  А Москва — город контрастов, в котором, тем не менее, преобладает поп-музыка."
   ]
  },
  {
   "cell_type": "markdown",
   "metadata": {
    "id": "DlegSvaT_Zcu"
   },
   "source": [
    "Сгруппируйте таблицу `moscow_general` по жанру и посчитайте прослушивания треков каждого жанра методом `count()`. Затем отсортируйте результат в порядке убывания и сохраните его в таблице `moscow_genres`."
   ]
  },
  {
   "cell_type": "code",
   "execution_count": 90,
   "metadata": {
    "id": "r19lIPke_Zcu"
   },
   "outputs": [],
   "source": [
    "# одной строкой: группировка таблицы moscow_general по столбцу 'genre', \n",
    "# подсчёт числа значений 'genre' в этой группировке методом count(), \n",
    "# сортировка получившегося Series в порядке убывания и сохранение в \n",
    "moscow_genres_unsorted = moscow_general.groupby('genre')['user_id'].count() \n",
    "moscow_genres = moscow_genres_unsorted.sort_values(ascending=False)"
   ]
  },
  {
   "cell_type": "markdown",
   "metadata": {
    "id": "6kMuomxTiIr8"
   },
   "source": [
    "Выведите на экран первые десять строк `moscow_genres`:"
   ]
  },
  {
   "cell_type": "code",
   "execution_count": 94,
   "metadata": {
    "id": "WhCSooF8_Zcv"
   },
   "outputs": [
    {
     "data": {
      "text/plain": [
       "genre\n",
       "pop            5892\n",
       "dance          4435\n",
       "rock           3965\n",
       "electronic     3786\n",
       "hiphop         2096\n",
       "classical      1616\n",
       "world          1432\n",
       "alternative    1379\n",
       "ruspop         1372\n",
       "rusrap         1161\n",
       "Name: user_id, dtype: int64"
      ]
     },
     "execution_count": 94,
     "metadata": {},
     "output_type": "execute_result"
    }
   ],
   "source": [
    "# просмотр первых 10 строк moscow_genres\n",
    "#display(moscow_genres.head(10))\n",
    "moscow_genres.head(10)"
   ]
  },
  {
   "cell_type": "markdown",
   "metadata": {
    "id": "cnPG2vnN_Zcv"
   },
   "source": [
    "Теперь повторите то же и для Петербурга.\n",
    "\n",
    "Сгруппируйте таблицу `spb_general` по жанру. Посчитайте прослушивания треков каждого жанра. Результат отсортируйте в порядке убывания и сохраните в таблице `spb_genres`:\n"
   ]
  },
  {
   "cell_type": "code",
   "execution_count": 95,
   "metadata": {
    "id": "gluLIpE7_Zcv"
   },
   "outputs": [],
   "source": [
    "# одной строкой: группировка таблицы spb_general по столбцу 'genre', \n",
    "# подсчёт числа значений 'genre' в этой группировке методом count(), \n",
    "# сортировка получившегося Series в порядке убывания и сохранение в spb_genres\n",
    "spb_genres_unsorted = spb_general.groupby('genre')['user_id'].count() \n",
    "spb_genres = spb_genres_unsorted.sort_values(ascending=False)"
   ]
  },
  {
   "cell_type": "markdown",
   "metadata": {
    "id": "5Doha_ODgyQ8"
   },
   "source": [
    "Выведите на экран первые десять строк `spb_genres`:"
   ]
  },
  {
   "cell_type": "code",
   "execution_count": 96,
   "metadata": {
    "id": "uaGJHjVU_Zcv"
   },
   "outputs": [
    {
     "data": {
      "text/plain": [
       "genre\n",
       "pop            2431\n",
       "dance          1932\n",
       "rock           1879\n",
       "electronic     1736\n",
       "hiphop          960\n",
       "alternative     649\n",
       "classical       646\n",
       "rusrap          564\n",
       "ruspop          538\n",
       "world           515\n",
       "Name: user_id, dtype: int64"
      ]
     },
     "execution_count": 96,
     "metadata": {},
     "output_type": "execute_result"
    }
   ],
   "source": [
    "# просмотр первых 10 строк spb_genres\n",
    "#display(spb_genres.head(10))\n",
    "spb_genres.head(10)"
   ]
  },
  {
   "cell_type": "markdown",
   "metadata": {
    "id": "RY51YJYu_Zcv"
   },
   "source": [
    "**Выводы**"
   ]
  },
  {
   "cell_type": "markdown",
   "metadata": {
    "id": "nVhnJEm__Zcv"
   },
   "source": [
    "Гипотеза частично подтвердилась:\n",
    "* Поп-музыка — самый популярный жанр в Москве, как и предполагала гипотеза. Более того, в топ-10 жанров встречается близкий жанр — русская популярная музыка.\n",
    "* Вопреки ожиданиям, рэп одинаково популярен в Москве и Петербурге. \n"
   ]
  },
  {
   "cell_type": "markdown",
   "metadata": {
    "id": "ykKQ0N65_Zcv"
   },
   "source": [
    "## Итоги исследования"
   ]
  },
  {
   "cell_type": "markdown",
   "metadata": {
    "id": "tjUwbHb3_Zcv"
   },
   "source": [
    "Вы проверили три гипотезы и установили:\n",
    "\n",
    "1. День недели по-разному влияет на активность пользователей в Москве и Петербурге. \n",
    "\n",
    "Первая гипотеза полностью подтвердилась.\n",
    "\n",
    "2. Музыкальные предпочтения не сильно меняются в течение недели — будь то Москва или Петербург. Небольшие различия заметны в начале недели, по понедельникам:\n",
    "* в Москве слушают музыку жанра “world”,\n",
    "* в Петербурге — джаз и классику.\n",
    "\n",
    "Таким образом, вторая гипотеза подтвердилась лишь отчасти. Этот результат мог оказаться иным, если бы не пропуски в данных.\n",
    "\n",
    "3. Во вкусах пользователей Москвы и Петербурга больше общего чем различий. Вопреки ожиданиям, предпочтения жанров в Петербурге напоминают московские.\n",
    "\n",
    "Третья гипотеза не подтвердилась. Если различия в предпочтениях и существуют, на основной массе пользователей они незаметны.\n",
    "\n",
    "**На практике исследования содержат проверки статистических гипотез.**\n",
    "Из данных одного сервиса не всегда можно сделать вывод о всех жителях города.\n",
    "Проверки статистических гипотез покажут, насколько они достоверны, исходя из имеющихся данных. \n",
    "С методами проверок гипотез вы ещё познакомитесь в следующих темах."
   ]
  }
 ],
 "metadata": {
  "ExecuteTimeLog": [
   {
    "duration": 3570,
    "start_time": "2022-02-17T13:19:53.919Z"
   },
   {
    "duration": 90,
    "start_time": "2022-02-17T13:22:06.590Z"
   },
   {
    "duration": 447,
    "start_time": "2022-02-17T13:22:12.434Z"
   },
   {
    "duration": 145,
    "start_time": "2022-02-17T13:22:27.188Z"
   },
   {
    "duration": 9,
    "start_time": "2022-02-17T13:22:45.379Z"
   },
   {
    "duration": 206,
    "start_time": "2022-02-17T13:23:51.274Z"
   },
   {
    "duration": 3,
    "start_time": "2022-02-17T13:23:56.421Z"
   },
   {
    "duration": 25,
    "start_time": "2022-02-17T13:26:46.293Z"
   },
   {
    "duration": 24,
    "start_time": "2022-02-17T13:27:02.728Z"
   },
   {
    "duration": 4,
    "start_time": "2022-02-17T13:27:05.522Z"
   },
   {
    "duration": 25,
    "start_time": "2022-02-17T13:27:24.742Z"
   },
   {
    "duration": 19,
    "start_time": "2022-02-17T13:30:48.682Z"
   },
   {
    "duration": 25,
    "start_time": "2022-02-17T13:30:52.696Z"
   },
   {
    "duration": 61,
    "start_time": "2022-02-17T13:31:26.058Z"
   },
   {
    "duration": 68,
    "start_time": "2022-02-17T13:32:17.780Z"
   },
   {
    "duration": 83,
    "start_time": "2022-02-17T13:32:22.506Z"
   },
   {
    "duration": 223,
    "start_time": "2022-02-17T13:33:17.697Z"
   },
   {
    "duration": 7,
    "start_time": "2022-02-17T13:33:23.080Z"
   },
   {
    "duration": 380,
    "start_time": "2022-02-17T13:37:28.116Z"
   },
   {
    "duration": 5488,
    "start_time": "2022-02-17T13:37:46.041Z"
   },
   {
    "duration": 12,
    "start_time": "2022-02-17T13:38:21.830Z"
   },
   {
    "duration": 10,
    "start_time": "2022-02-17T13:38:46.926Z"
   },
   {
    "duration": 7,
    "start_time": "2022-02-17T13:38:56.740Z"
   },
   {
    "duration": 319,
    "start_time": "2022-02-17T13:53:00.010Z"
   },
   {
    "duration": 220,
    "start_time": "2022-02-17T13:53:05.077Z"
   },
   {
    "duration": 211,
    "start_time": "2022-02-17T13:53:33.168Z"
   },
   {
    "duration": 20,
    "start_time": "2022-02-17T13:53:50.408Z"
   },
   {
    "duration": 35,
    "start_time": "2022-02-17T13:54:03.967Z"
   },
   {
    "duration": 33,
    "start_time": "2022-02-17T13:54:07.713Z"
   },
   {
    "duration": 11,
    "start_time": "2022-02-17T13:55:02.740Z"
   },
   {
    "duration": 11,
    "start_time": "2022-02-17T13:55:18.811Z"
   },
   {
    "duration": 37,
    "start_time": "2022-02-17T13:55:27.412Z"
   },
   {
    "duration": 12,
    "start_time": "2022-02-17T13:55:33.311Z"
   },
   {
    "duration": 12,
    "start_time": "2022-02-17T13:55:37.987Z"
   },
   {
    "duration": 11,
    "start_time": "2022-02-17T13:55:46.900Z"
   },
   {
    "duration": 438,
    "start_time": "2022-02-17T13:56:03.595Z"
   },
   {
    "duration": 36,
    "start_time": "2022-02-17T13:56:10.366Z"
   },
   {
    "duration": 72,
    "start_time": "2022-02-17T13:56:17.215Z"
   },
   {
    "duration": 35,
    "start_time": "2022-02-17T13:56:22.267Z"
   },
   {
    "duration": 13,
    "start_time": "2022-02-17T13:56:39.866Z"
   },
   {
    "duration": 12,
    "start_time": "2022-02-17T13:57:34.783Z"
   },
   {
    "duration": 12,
    "start_time": "2022-02-17T13:57:48.551Z"
   },
   {
    "duration": 4,
    "start_time": "2022-02-17T18:50:48.352Z"
   },
   {
    "duration": 4,
    "start_time": "2022-02-17T18:51:23.319Z"
   },
   {
    "duration": 198,
    "start_time": "2022-02-17T18:51:53.718Z"
   },
   {
    "duration": 13,
    "start_time": "2022-02-17T18:52:20.432Z"
   },
   {
    "duration": 14,
    "start_time": "2022-02-17T18:52:53.376Z"
   },
   {
    "duration": 9,
    "start_time": "2022-02-17T18:53:07.393Z"
   },
   {
    "duration": 13,
    "start_time": "2022-02-17T18:53:21.820Z"
   },
   {
    "duration": 14,
    "start_time": "2022-02-17T18:53:37.599Z"
   },
   {
    "duration": 13,
    "start_time": "2022-02-17T18:53:42.984Z"
   },
   {
    "duration": 41,
    "start_time": "2022-02-17T18:54:05.952Z"
   },
   {
    "duration": 27,
    "start_time": "2022-02-17T18:54:24.105Z"
   },
   {
    "duration": 36,
    "start_time": "2022-02-17T18:54:36.672Z"
   },
   {
    "duration": 29,
    "start_time": "2022-02-17T18:54:57.814Z"
   },
   {
    "duration": 43,
    "start_time": "2022-02-17T18:55:29.780Z"
   },
   {
    "duration": 31,
    "start_time": "2022-02-17T18:55:51.874Z"
   },
   {
    "duration": 232,
    "start_time": "2022-02-17T18:58:50.848Z"
   },
   {
    "duration": 4,
    "start_time": "2022-02-17T19:08:50.101Z"
   },
   {
    "duration": 19,
    "start_time": "2022-02-17T19:08:53.875Z"
   },
   {
    "duration": 17,
    "start_time": "2022-02-17T19:08:57.800Z"
   },
   {
    "duration": 20,
    "start_time": "2022-02-17T19:09:00.130Z"
   },
   {
    "duration": 15,
    "start_time": "2022-02-17T19:09:03.004Z"
   },
   {
    "duration": 17,
    "start_time": "2022-02-17T19:09:05.620Z"
   },
   {
    "duration": 15,
    "start_time": "2022-02-17T19:09:07.157Z"
   },
   {
    "duration": 10,
    "start_time": "2022-02-17T19:11:16.500Z"
   },
   {
    "duration": 14,
    "start_time": "2022-02-17T19:12:22.335Z"
   },
   {
    "duration": 21,
    "start_time": "2022-02-17T19:12:34.650Z"
   },
   {
    "duration": 16,
    "start_time": "2022-02-17T19:12:51.865Z"
   },
   {
    "duration": 11,
    "start_time": "2022-02-17T19:13:23.218Z"
   },
   {
    "duration": 4,
    "start_time": "2022-02-17T19:15:20.470Z"
   },
   {
    "duration": 9,
    "start_time": "2022-02-17T19:21:34.140Z"
   },
   {
    "duration": 82,
    "start_time": "2022-02-17T19:36:45.113Z"
   },
   {
    "duration": 89,
    "start_time": "2022-02-17T19:37:23.810Z"
   },
   {
    "duration": 4,
    "start_time": "2022-02-17T19:37:34.735Z"
   },
   {
    "duration": 461,
    "start_time": "2022-02-17T19:39:01.260Z"
   },
   {
    "duration": 91,
    "start_time": "2022-02-17T19:40:40.073Z"
   },
   {
    "duration": 4,
    "start_time": "2022-02-17T19:41:04.616Z"
   },
   {
    "duration": 514,
    "start_time": "2022-02-17T19:41:09.180Z"
   },
   {
    "duration": 16,
    "start_time": "2022-02-17T19:41:43.188Z"
   },
   {
    "duration": 14,
    "start_time": "2022-02-17T19:42:44.000Z"
   },
   {
    "duration": 21,
    "start_time": "2022-02-17T19:42:49.097Z"
   },
   {
    "duration": 12,
    "start_time": "2022-02-17T19:42:55.638Z"
   },
   {
    "duration": 14,
    "start_time": "2022-02-17T19:43:14.130Z"
   },
   {
    "duration": 9,
    "start_time": "2022-02-17T19:44:20.280Z"
   },
   {
    "duration": 17,
    "start_time": "2022-02-17T19:44:23.920Z"
   },
   {
    "duration": 13,
    "start_time": "2022-02-17T19:44:28.441Z"
   },
   {
    "duration": 14,
    "start_time": "2022-02-17T19:44:31.661Z"
   },
   {
    "duration": 13,
    "start_time": "2022-02-17T19:44:36.737Z"
   },
   {
    "duration": 16,
    "start_time": "2022-02-17T19:44:41.335Z"
   },
   {
    "duration": 6,
    "start_time": "2022-02-17T19:45:27.446Z"
   },
   {
    "duration": 13,
    "start_time": "2022-02-17T19:45:31.496Z"
   },
   {
    "duration": 11,
    "start_time": "2022-02-17T19:45:54.399Z"
   },
   {
    "duration": 12,
    "start_time": "2022-02-17T19:47:23.126Z"
   },
   {
    "duration": 13,
    "start_time": "2022-02-17T19:47:25.726Z"
   },
   {
    "duration": 4,
    "start_time": "2022-02-17T19:47:40.079Z"
   },
   {
    "duration": 12,
    "start_time": "2022-02-17T19:47:43.636Z"
   },
   {
    "duration": 4,
    "start_time": "2022-02-17T19:50:48.735Z"
   },
   {
    "duration": 517,
    "start_time": "2022-02-17T19:50:53.314Z"
   },
   {
    "duration": 5,
    "start_time": "2022-02-17T19:51:36.362Z"
   },
   {
    "duration": 577,
    "start_time": "2022-02-17T19:51:39.756Z"
   },
   {
    "duration": 4,
    "start_time": "2022-02-17T19:52:31.278Z"
   },
   {
    "duration": 504,
    "start_time": "2022-02-17T19:52:34.925Z"
   },
   {
    "duration": 4,
    "start_time": "2022-02-17T19:52:58.921Z"
   },
   {
    "duration": 13,
    "start_time": "2022-02-17T19:53:02.271Z"
   },
   {
    "duration": 227,
    "start_time": "2022-02-17T19:53:34.406Z"
   },
   {
    "duration": 27,
    "start_time": "2022-02-17T19:53:38.723Z"
   },
   {
    "duration": 15,
    "start_time": "2022-02-17T19:53:47.561Z"
   },
   {
    "duration": 215,
    "start_time": "2022-02-17T19:54:42.439Z"
   },
   {
    "duration": 4,
    "start_time": "2022-02-17T19:55:49.648Z"
   },
   {
    "duration": 13,
    "start_time": "2022-02-17T19:56:00.511Z"
   },
   {
    "duration": 5,
    "start_time": "2022-02-17T19:56:47.428Z"
   },
   {
    "duration": 210,
    "start_time": "2022-02-17T19:57:02.380Z"
   },
   {
    "duration": 4,
    "start_time": "2022-02-17T19:57:16.523Z"
   },
   {
    "duration": 214,
    "start_time": "2022-02-17T19:57:19.830Z"
   },
   {
    "duration": 13,
    "start_time": "2022-02-17T19:57:47.343Z"
   },
   {
    "duration": 4,
    "start_time": "2022-02-17T20:02:43.588Z"
   },
   {
    "duration": -88,
    "start_time": "2022-02-17T20:02:54.422Z"
   },
   {
    "duration": 5,
    "start_time": "2022-02-17T20:03:56.975Z"
   },
   {
    "duration": 6604,
    "start_time": "2022-02-17T20:04:01.009Z"
   },
   {
    "duration": 4,
    "start_time": "2022-02-17T20:05:15.111Z"
   },
   {
    "duration": 7824,
    "start_time": "2022-02-17T20:05:18.046Z"
   },
   {
    "duration": 8212,
    "start_time": "2022-02-17T20:05:25.872Z"
   },
   {
    "duration": 2113,
    "start_time": "2022-02-17T20:05:34.086Z"
   },
   {
    "duration": 4,
    "start_time": "2022-02-17T20:05:37.091Z"
   },
   {
    "duration": 12,
    "start_time": "2022-02-17T20:05:47.457Z"
   },
   {
    "duration": 4,
    "start_time": "2022-02-17T20:06:02.467Z"
   },
   {
    "duration": 10,
    "start_time": "2022-02-17T20:06:06.373Z"
   },
   {
    "duration": 5,
    "start_time": "2022-02-17T20:06:35.073Z"
   },
   {
    "duration": 8,
    "start_time": "2022-02-17T20:06:38.579Z"
   },
   {
    "duration": 17,
    "start_time": "2022-02-17T20:07:04.483Z"
   },
   {
    "duration": 5,
    "start_time": "2022-02-17T20:07:13.819Z"
   },
   {
    "duration": 514,
    "start_time": "2022-02-17T20:07:17.525Z"
   },
   {
    "duration": 5,
    "start_time": "2022-02-17T20:07:27.503Z"
   },
   {
    "duration": 4424,
    "start_time": "2022-02-17T20:07:30.568Z"
   },
   {
    "duration": 5,
    "start_time": "2022-02-17T20:07:49.922Z"
   },
   {
    "duration": 2366,
    "start_time": "2022-02-17T20:07:52.495Z"
   },
   {
    "duration": 4,
    "start_time": "2022-02-17T20:08:25.951Z"
   },
   {
    "duration": 26,
    "start_time": "2022-02-17T20:08:34.706Z"
   },
   {
    "duration": 8,
    "start_time": "2022-02-17T20:08:45.795Z"
   },
   {
    "duration": 4,
    "start_time": "2022-02-17T20:08:57.009Z"
   },
   {
    "duration": 4959,
    "start_time": "2022-02-17T20:09:00.664Z"
   },
   {
    "duration": 4,
    "start_time": "2022-02-17T20:09:28.871Z"
   },
   {
    "duration": 563,
    "start_time": "2022-02-17T20:09:32.408Z"
   },
   {
    "duration": 4,
    "start_time": "2022-02-17T20:09:44.893Z"
   },
   {
    "duration": 26,
    "start_time": "2022-02-17T20:09:48.731Z"
   },
   {
    "duration": 4,
    "start_time": "2022-02-17T20:10:20.965Z"
   },
   {
    "duration": 20,
    "start_time": "2022-02-17T20:10:26.146Z"
   },
   {
    "duration": 5,
    "start_time": "2022-02-17T20:10:53.349Z"
   },
   {
    "duration": 407,
    "start_time": "2022-02-17T20:10:57.570Z"
   },
   {
    "duration": 4,
    "start_time": "2022-02-17T20:11:11.958Z"
   },
   {
    "duration": 23,
    "start_time": "2022-02-17T20:11:15.233Z"
   },
   {
    "duration": 15,
    "start_time": "2022-02-17T20:11:24.972Z"
   },
   {
    "duration": 11,
    "start_time": "2022-02-17T20:11:28.064Z"
   },
   {
    "duration": 20,
    "start_time": "2022-02-17T20:11:36.772Z"
   },
   {
    "duration": 16,
    "start_time": "2022-02-17T20:11:41.770Z"
   },
   {
    "duration": 320,
    "start_time": "2022-02-17T20:21:27.719Z"
   },
   {
    "duration": 11,
    "start_time": "2022-02-17T20:21:55.074Z"
   },
   {
    "duration": 5,
    "start_time": "2022-02-17T20:22:08.388Z"
   },
   {
    "duration": 11,
    "start_time": "2022-02-17T20:22:59.117Z"
   },
   {
    "duration": 7,
    "start_time": "2022-02-17T20:23:21.068Z"
   },
   {
    "duration": 177,
    "start_time": "2022-02-17T20:24:23.710Z"
   },
   {
    "duration": 8,
    "start_time": "2022-02-17T20:24:23.889Z"
   },
   {
    "duration": 21,
    "start_time": "2022-02-17T20:24:23.899Z"
   },
   {
    "duration": 7,
    "start_time": "2022-02-17T20:24:23.922Z"
   },
   {
    "duration": 32,
    "start_time": "2022-02-17T20:24:23.931Z"
   },
   {
    "duration": 10,
    "start_time": "2022-02-17T20:24:23.965Z"
   },
   {
    "duration": 52,
    "start_time": "2022-02-17T20:24:23.976Z"
   },
   {
    "duration": 23,
    "start_time": "2022-02-17T20:24:24.031Z"
   },
   {
    "duration": 24,
    "start_time": "2022-02-17T20:24:24.057Z"
   },
   {
    "duration": 85,
    "start_time": "2022-02-17T20:24:24.083Z"
   },
   {
    "duration": 81,
    "start_time": "2022-02-17T20:24:24.170Z"
   },
   {
    "duration": 67,
    "start_time": "2022-02-17T20:24:24.253Z"
   },
   {
    "duration": 6,
    "start_time": "2022-02-17T20:24:24.322Z"
   },
   {
    "duration": 19,
    "start_time": "2022-02-17T20:24:24.330Z"
   },
   {
    "duration": 18,
    "start_time": "2022-02-17T20:24:24.351Z"
   },
   {
    "duration": 13,
    "start_time": "2022-02-17T20:24:24.371Z"
   },
   {
    "duration": 59,
    "start_time": "2022-02-17T20:24:24.386Z"
   },
   {
    "duration": 11,
    "start_time": "2022-02-17T20:24:24.447Z"
   },
   {
    "duration": 7,
    "start_time": "2022-02-17T20:24:24.460Z"
   },
   {
    "duration": 39,
    "start_time": "2022-02-17T20:24:24.470Z"
   },
   {
    "duration": 19,
    "start_time": "2022-02-17T20:24:24.519Z"
   },
   {
    "duration": 26,
    "start_time": "2022-02-17T20:24:24.540Z"
   },
   {
    "duration": 22,
    "start_time": "2022-02-17T20:24:24.569Z"
   },
   {
    "duration": 52,
    "start_time": "2022-02-17T20:24:24.594Z"
   },
   {
    "duration": 31,
    "start_time": "2022-02-17T20:24:24.649Z"
   },
   {
    "duration": 36,
    "start_time": "2022-02-17T20:24:24.682Z"
   },
   {
    "duration": 16,
    "start_time": "2022-02-17T20:24:24.721Z"
   },
   {
    "duration": 21,
    "start_time": "2022-02-17T20:24:24.739Z"
   },
   {
    "duration": 11,
    "start_time": "2022-02-17T20:24:24.763Z"
   },
   {
    "duration": 29,
    "start_time": "2022-02-17T20:24:24.776Z"
   },
   {
    "duration": 30,
    "start_time": "2022-02-17T20:24:24.807Z"
   },
   {
    "duration": 35,
    "start_time": "2022-02-17T20:24:24.840Z"
   },
   {
    "duration": 41,
    "start_time": "2022-02-17T20:24:24.878Z"
   },
   {
    "duration": 18,
    "start_time": "2022-02-17T20:24:24.921Z"
   },
   {
    "duration": 25,
    "start_time": "2022-02-17T20:24:24.941Z"
   },
   {
    "duration": 20,
    "start_time": "2022-02-17T20:24:24.969Z"
   },
   {
    "duration": 4,
    "start_time": "2022-02-17T20:24:24.992Z"
   },
   {
    "duration": 25,
    "start_time": "2022-02-17T20:25:25.983Z"
   },
   {
    "duration": 248,
    "start_time": "2022-02-27T00:19:25.569Z"
   },
   {
    "duration": 644,
    "start_time": "2022-02-27T00:19:34.802Z"
   },
   {
    "duration": 7,
    "start_time": "2022-02-27T00:19:35.448Z"
   },
   {
    "duration": 14,
    "start_time": "2022-02-27T00:19:35.460Z"
   },
   {
    "duration": 24,
    "start_time": "2022-02-27T00:19:35.476Z"
   },
   {
    "duration": 3,
    "start_time": "2022-02-27T00:19:35.502Z"
   },
   {
    "duration": 21,
    "start_time": "2022-02-27T00:19:35.506Z"
   },
   {
    "duration": 32,
    "start_time": "2022-02-27T00:19:35.529Z"
   },
   {
    "duration": 21,
    "start_time": "2022-02-27T00:19:35.564Z"
   },
   {
    "duration": 16,
    "start_time": "2022-02-27T00:19:35.587Z"
   },
   {
    "duration": 20,
    "start_time": "2022-02-27T00:19:35.604Z"
   },
   {
    "duration": 82,
    "start_time": "2022-02-27T00:19:35.626Z"
   },
   {
    "duration": 73,
    "start_time": "2022-02-27T00:19:35.710Z"
   },
   {
    "duration": 48,
    "start_time": "2022-02-27T00:19:35.784Z"
   },
   {
    "duration": 6,
    "start_time": "2022-02-27T00:19:35.834Z"
   },
   {
    "duration": 2,
    "start_time": "2022-02-27T00:19:35.859Z"
   },
   {
    "duration": 11,
    "start_time": "2022-02-27T00:19:35.863Z"
   },
   {
    "duration": 6,
    "start_time": "2022-02-27T00:19:35.876Z"
   },
   {
    "duration": 30,
    "start_time": "2022-02-27T00:19:35.883Z"
   },
   {
    "duration": 9,
    "start_time": "2022-02-27T00:19:35.915Z"
   },
   {
    "duration": 33,
    "start_time": "2022-02-27T00:19:35.926Z"
   },
   {
    "duration": 18,
    "start_time": "2022-02-27T00:19:35.961Z"
   },
   {
    "duration": 12,
    "start_time": "2022-02-27T00:19:35.981Z"
   },
   {
    "duration": 13,
    "start_time": "2022-02-27T00:19:35.996Z"
   },
   {
    "duration": 11,
    "start_time": "2022-02-27T00:19:36.011Z"
   },
   {
    "duration": 45,
    "start_time": "2022-02-27T00:19:36.024Z"
   },
   {
    "duration": 13,
    "start_time": "2022-02-27T00:19:36.070Z"
   },
   {
    "duration": 7,
    "start_time": "2022-02-27T00:19:36.085Z"
   },
   {
    "duration": 14,
    "start_time": "2022-02-27T00:19:36.094Z"
   },
   {
    "duration": 8,
    "start_time": "2022-02-27T00:19:36.110Z"
   },
   {
    "duration": 4,
    "start_time": "2022-02-27T00:19:36.120Z"
   },
   {
    "duration": 47,
    "start_time": "2022-02-27T00:19:36.125Z"
   },
   {
    "duration": 12,
    "start_time": "2022-02-27T00:19:36.173Z"
   },
   {
    "duration": 16,
    "start_time": "2022-02-27T00:19:36.187Z"
   },
   {
    "duration": 14,
    "start_time": "2022-02-27T00:19:36.205Z"
   },
   {
    "duration": 8,
    "start_time": "2022-02-27T00:19:36.220Z"
   },
   {
    "duration": 31,
    "start_time": "2022-02-27T00:19:36.230Z"
   },
   {
    "duration": 7,
    "start_time": "2022-02-27T00:19:36.262Z"
   },
   {
    "duration": 9,
    "start_time": "2022-02-27T00:19:36.271Z"
   },
   {
    "duration": 889,
    "start_time": "2022-02-27T18:10:40.017Z"
   },
   {
    "duration": 25,
    "start_time": "2022-02-27T18:11:10.134Z"
   },
   {
    "duration": 5,
    "start_time": "2022-02-27T18:14:12.363Z"
   },
   {
    "duration": 33,
    "start_time": "2022-02-27T18:14:27.451Z"
   },
   {
    "duration": 31,
    "start_time": "2022-02-27T18:14:46.522Z"
   },
   {
    "duration": 106,
    "start_time": "2022-02-27T18:14:55.968Z"
   },
   {
    "duration": 90,
    "start_time": "2022-02-27T18:15:22.384Z"
   },
   {
    "duration": 385,
    "start_time": "2022-02-27T18:16:27.069Z"
   },
   {
    "duration": 293,
    "start_time": "2022-02-27T18:16:52.083Z"
   },
   {
    "duration": 332,
    "start_time": "2022-02-27T18:17:03.179Z"
   },
   {
    "duration": 255,
    "start_time": "2022-02-27T18:17:16.326Z"
   },
   {
    "duration": 436,
    "start_time": "2022-02-27T18:17:26.033Z"
   },
   {
    "duration": 89,
    "start_time": "2022-02-27T18:17:38.884Z"
   },
   {
    "duration": 83,
    "start_time": "2022-02-27T18:18:58.027Z"
   },
   {
    "duration": 7,
    "start_time": "2022-02-27T18:19:17.827Z"
   },
   {
    "duration": 84,
    "start_time": "2022-02-27T18:19:26.165Z"
   },
   {
    "duration": 4,
    "start_time": "2022-02-27T18:22:41.681Z"
   },
   {
    "duration": 24,
    "start_time": "2022-02-27T18:22:50.012Z"
   },
   {
    "duration": 9,
    "start_time": "2022-02-27T18:23:02.494Z"
   },
   {
    "duration": 83,
    "start_time": "2022-02-27T18:25:04.930Z"
   },
   {
    "duration": -278,
    "start_time": "2022-02-27T18:25:42.433Z"
   },
   {
    "duration": 6725,
    "start_time": "2022-02-27T18:25:48.192Z"
   },
   {
    "duration": 259,
    "start_time": "2022-02-27T18:26:00.470Z"
   },
   {
    "duration": 269,
    "start_time": "2022-02-27T18:26:08.174Z"
   },
   {
    "duration": 259,
    "start_time": "2022-02-27T18:26:13.019Z"
   },
   {
    "duration": 265,
    "start_time": "2022-02-27T18:26:36.453Z"
   },
   {
    "duration": 14,
    "start_time": "2022-02-27T18:27:47.032Z"
   },
   {
    "duration": 279,
    "start_time": "2022-02-27T18:28:17.491Z"
   },
   {
    "duration": 260,
    "start_time": "2022-02-27T18:28:20.750Z"
   },
   {
    "duration": 257,
    "start_time": "2022-02-27T18:28:53.221Z"
   },
   {
    "duration": 87,
    "start_time": "2022-02-27T18:29:05.986Z"
   },
   {
    "duration": 261,
    "start_time": "2022-02-27T18:29:10.072Z"
   },
   {
    "duration": 267,
    "start_time": "2022-02-27T18:29:49.342Z"
   },
   {
    "duration": 278,
    "start_time": "2022-02-27T18:30:02.583Z"
   },
   {
    "duration": 90,
    "start_time": "2022-02-27T18:30:47.146Z"
   },
   {
    "duration": 348,
    "start_time": "2022-02-27T18:30:50.963Z"
   },
   {
    "duration": 10,
    "start_time": "2022-02-27T18:31:01.461Z"
   },
   {
    "duration": 9,
    "start_time": "2022-02-27T18:31:13.152Z"
   },
   {
    "duration": 16,
    "start_time": "2022-02-27T18:31:17.980Z"
   },
   {
    "duration": 1127,
    "start_time": "2022-02-27T18:31:40.322Z"
   },
   {
    "duration": 16,
    "start_time": "2022-02-27T18:31:52.210Z"
   },
   {
    "duration": 269,
    "start_time": "2022-02-27T18:32:05.697Z"
   },
   {
    "duration": 203,
    "start_time": "2022-02-27T18:32:22.605Z"
   },
   {
    "duration": 16,
    "start_time": "2022-02-27T18:32:26.124Z"
   },
   {
    "duration": 15,
    "start_time": "2022-02-27T18:32:30.445Z"
   },
   {
    "duration": 34,
    "start_time": "2022-02-27T18:32:33.532Z"
   },
   {
    "duration": 5,
    "start_time": "2022-02-27T18:32:38.955Z"
   },
   {
    "duration": 27,
    "start_time": "2022-02-27T18:32:42.666Z"
   },
   {
    "duration": 5,
    "start_time": "2022-02-27T18:32:45.952Z"
   },
   {
    "duration": 32,
    "start_time": "2022-02-27T18:32:49.734Z"
   },
   {
    "duration": 24,
    "start_time": "2022-02-27T18:32:53.340Z"
   },
   {
    "duration": 32,
    "start_time": "2022-02-27T18:32:55.789Z"
   },
   {
    "duration": 89,
    "start_time": "2022-02-27T18:33:00.576Z"
   },
   {
    "duration": 104,
    "start_time": "2022-02-27T18:33:04.104Z"
   },
   {
    "duration": 84,
    "start_time": "2022-02-27T18:33:07.552Z"
   },
   {
    "duration": 79,
    "start_time": "2022-02-27T18:33:10.996Z"
   },
   {
    "duration": 4,
    "start_time": "2022-02-27T18:33:16.812Z"
   },
   {
    "duration": 23,
    "start_time": "2022-02-27T18:33:20.824Z"
   },
   {
    "duration": 76,
    "start_time": "2022-02-27T18:33:23.410Z"
   },
   {
    "duration": 325,
    "start_time": "2022-02-27T18:33:37.760Z"
   },
   {
    "duration": 16,
    "start_time": "2022-02-27T18:33:54.506Z"
   },
   {
    "duration": 15,
    "start_time": "2022-02-27T18:34:07.476Z"
   },
   {
    "duration": 14,
    "start_time": "2022-02-27T18:34:34.222Z"
   },
   {
    "duration": 5,
    "start_time": "2022-02-27T18:34:39.435Z"
   },
   {
    "duration": 22,
    "start_time": "2022-02-27T18:34:43.530Z"
   },
   {
    "duration": 19,
    "start_time": "2022-02-27T18:34:45.666Z"
   },
   {
    "duration": 19,
    "start_time": "2022-02-27T18:34:48.511Z"
   },
   {
    "duration": 21,
    "start_time": "2022-02-27T18:34:51.212Z"
   },
   {
    "duration": 23,
    "start_time": "2022-02-27T18:34:53.280Z"
   },
   {
    "duration": 20,
    "start_time": "2022-02-27T18:34:55.648Z"
   },
   {
    "duration": 12,
    "start_time": "2022-02-27T18:34:58.457Z"
   },
   {
    "duration": 6,
    "start_time": "2022-02-27T18:35:39.862Z"
   },
   {
    "duration": 12,
    "start_time": "2022-02-27T18:35:44.894Z"
   },
   {
    "duration": 15,
    "start_time": "2022-02-27T18:35:53.605Z"
   },
   {
    "duration": 31,
    "start_time": "2022-02-27T18:35:58.552Z"
   },
   {
    "duration": 25,
    "start_time": "2022-02-27T18:36:23.559Z"
   },
   {
    "duration": 12,
    "start_time": "2022-02-27T18:36:30.645Z"
   },
   {
    "duration": 25,
    "start_time": "2022-02-27T18:36:41.626Z"
   },
   {
    "duration": 5,
    "start_time": "2022-02-27T18:36:47.363Z"
   },
   {
    "duration": 5,
    "start_time": "2022-02-27T18:37:41.564Z"
   },
   {
    "duration": 7721,
    "start_time": "2022-02-27T18:37:46.116Z"
   },
   {
    "duration": 7,
    "start_time": "2022-02-27T18:38:53.974Z"
   },
   {
    "duration": 542,
    "start_time": "2022-02-27T18:38:57.226Z"
   },
   {
    "duration": 96,
    "start_time": "2022-02-27T18:41:14.457Z"
   },
   {
    "duration": 5,
    "start_time": "2022-02-27T18:41:26.209Z"
   },
   {
    "duration": 27,
    "start_time": "2022-02-27T18:41:29.842Z"
   },
   {
    "duration": 18,
    "start_time": "2022-02-27T18:41:41.056Z"
   },
   {
    "duration": 23,
    "start_time": "2022-02-27T18:41:44.088Z"
   },
   {
    "duration": 17,
    "start_time": "2022-02-27T18:41:47.993Z"
   },
   {
    "duration": 12,
    "start_time": "2022-02-27T18:42:16.960Z"
   },
   {
    "duration": 7,
    "start_time": "2022-02-27T18:42:19.115Z"
   },
   {
    "duration": 9,
    "start_time": "2022-02-27T18:42:22.546Z"
   },
   {
    "duration": 6,
    "start_time": "2022-02-27T18:42:41.833Z"
   },
   {
    "duration": 7,
    "start_time": "2022-02-27T18:43:00.700Z"
   },
   {
    "duration": 9,
    "start_time": "2022-02-27T18:43:04.488Z"
   },
   {
    "duration": 7,
    "start_time": "2022-02-27T18:43:06.586Z"
   },
   {
    "duration": 92,
    "start_time": "2022-03-01T14:47:55.584Z"
   },
   {
    "duration": 80,
    "start_time": "2022-03-01T14:48:46.893Z"
   },
   {
    "duration": 76,
    "start_time": "2022-03-01T14:56:48.194Z"
   },
   {
    "duration": 77,
    "start_time": "2022-03-01T14:57:50.282Z"
   },
   {
    "duration": 74,
    "start_time": "2022-03-01T14:58:06.184Z"
   },
   {
    "duration": 89,
    "start_time": "2022-03-01T15:01:48.851Z"
   },
   {
    "duration": 81,
    "start_time": "2022-03-01T19:11:47.450Z"
   },
   {
    "duration": 88,
    "start_time": "2022-03-01T19:14:08.844Z"
   },
   {
    "duration": 4,
    "start_time": "2022-03-01T19:15:21.429Z"
   }
  ],
  "colab": {
   "collapsed_sections": [
    "E0vqbgi9ay0H",
    "VUC88oWjTJw2"
   ],
   "name": "yandex_music_project_2021.2.ipynb",
   "provenance": []
  },
  "kernelspec": {
   "display_name": "Python 3 (ipykernel)",
   "language": "python",
   "name": "python3"
  },
  "language_info": {
   "codemirror_mode": {
    "name": "ipython",
    "version": 3
   },
   "file_extension": ".py",
   "mimetype": "text/x-python",
   "name": "python",
   "nbconvert_exporter": "python",
   "pygments_lexer": "ipython3",
   "version": "3.8.0"
  },
  "toc": {
   "base_numbering": 1,
   "nav_menu": {},
   "number_sections": true,
   "sideBar": true,
   "skip_h1_title": true,
   "title_cell": "Table of Contents",
   "title_sidebar": "Contents",
   "toc_cell": false,
   "toc_position": {
    "height": "calc(100% - 180px)",
    "left": "10px",
    "top": "150px",
    "width": "246.387px"
   },
   "toc_section_display": true,
   "toc_window_display": true
  }
 },
 "nbformat": 4,
 "nbformat_minor": 1
}
