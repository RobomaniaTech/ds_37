{
 "cells": [
  {
   "cell_type": "markdown",
   "metadata": {},
   "source": [
    "# Выбор локации для скважины"
   ]
  },
  {
   "cell_type": "markdown",
   "metadata": {},
   "source": [
    "Допустим, вы работаете в добывающей компании «ГлавРосГосНефть». Нужно решить, где бурить новую скважину.\n",
    "\n",
    "Вам предоставлены пробы нефти в трёх регионах: в каждом 10 000 месторождений, где измерили качество нефти и объём её запасов. Постройте модель машинного обучения, которая поможет определить регион, где добыча принесёт наибольшую прибыль. Проанализируйте возможную прибыль и риски техникой *Bootstrap.*\n",
    "\n",
    "Шаги для выбора локации:\n",
    "\n",
    "- В избранном регионе ищут месторождения, для каждого определяют значения признаков;\n",
    "- Строят модель и оценивают объём запасов;\n",
    "- Выбирают месторождения с самым высокими оценками значений. Количество месторождений зависит от бюджета компании и стоимости разработки одной скважины;\n",
    "- Прибыль равна суммарной прибыли отобранных месторождений."
   ]
  },
  {
   "cell_type": "markdown",
   "metadata": {},
   "source": [
    "## Загрузка и подготовка данных"
   ]
  },
  {
   "cell_type": "markdown",
   "metadata": {},
   "source": [
    "[Сразу к выводу](#section_id1)\n",
    "\n",
    "<b> Импортируем нелобходимые библиотеки</b>"
   ]
  },
  {
   "cell_type": "code",
   "execution_count": 223,
   "metadata": {},
   "outputs": [],
   "source": [
    "import pandas as pd\n",
    "import numpy as np\n",
    "from scipy import stats as st\n",
    "import seaborn as sns\n",
    "from sklearn.model_selection import train_test_split\n",
    "from sklearn.linear_model import LinearRegression\n",
    "from sklearn.metrics import mean_squared_error\n",
    "from numpy.random import RandomState"
   ]
  },
  {
   "cell_type": "markdown",
   "metadata": {},
   "source": [
    "<b>Откроем наши файлы с данными<b/>"
   ]
  },
  {
   "cell_type": "code",
   "execution_count": 224,
   "metadata": {},
   "outputs": [],
   "source": [
    "try:\n",
    "    df1 = pd.read_csv('/datasets/geo_data_0.csv')\n",
    "except:\n",
    "    df1 = pd.read_csv('geo_data_0.csv')"
   ]
  },
  {
   "cell_type": "code",
   "execution_count": 225,
   "metadata": {},
   "outputs": [],
   "source": [
    "try:\n",
    "    df2 = pd.read_csv('/datasets/geo_data_1.csv')\n",
    "except:\n",
    "    df2 = pd.read_csv('geo_data_1.csv')"
   ]
  },
  {
   "cell_type": "code",
   "execution_count": 226,
   "metadata": {},
   "outputs": [],
   "source": [
    "try:\n",
    "    df3 = pd.read_csv('/datasets/geo_data_2.csv')\n",
    "except:\n",
    "    df3 = pd.read_csv('geo_data_2.csv')"
   ]
  },
  {
   "cell_type": "markdown",
   "metadata": {},
   "source": [
    "<b>Ознакомимся с содержимым наших файлов<b/>"
   ]
  },
  {
   "cell_type": "code",
   "execution_count": 227,
   "metadata": {},
   "outputs": [],
   "source": [
    "def get_df_name(df):\n",
    "    name =[x for x in globals() if globals()[x] is df][0]\n",
    "    return name"
   ]
  },
  {
   "cell_type": "code",
   "execution_count": 228,
   "metadata": {},
   "outputs": [
    {
     "name": "stdout",
     "output_type": "stream",
     "text": [
      "Название датафрейма:  df1\n",
      "<class 'pandas.core.frame.DataFrame'>\n",
      "RangeIndex: 100000 entries, 0 to 99999\n",
      "Data columns (total 5 columns):\n",
      " #   Column   Non-Null Count   Dtype  \n",
      "---  ------   --------------   -----  \n",
      " 0   id       100000 non-null  object \n",
      " 1   f0       100000 non-null  float64\n",
      " 2   f1       100000 non-null  float64\n",
      " 3   f2       100000 non-null  float64\n",
      " 4   product  100000 non-null  float64\n",
      "dtypes: float64(4), object(1)\n",
      "memory usage: 3.8+ MB\n"
     ]
    },
    {
     "data": {
      "text/plain": [
       "None"
      ]
     },
     "metadata": {},
     "output_type": "display_data"
    },
    {
     "data": {
      "text/plain": [
       "'Корреляция'"
      ]
     },
     "metadata": {},
     "output_type": "display_data"
    },
    {
     "data": {
      "text/html": [
       "<div>\n",
       "<style scoped>\n",
       "    .dataframe tbody tr th:only-of-type {\n",
       "        vertical-align: middle;\n",
       "    }\n",
       "\n",
       "    .dataframe tbody tr th {\n",
       "        vertical-align: top;\n",
       "    }\n",
       "\n",
       "    .dataframe thead th {\n",
       "        text-align: right;\n",
       "    }\n",
       "</style>\n",
       "<table border=\"1\" class=\"dataframe\">\n",
       "  <thead>\n",
       "    <tr style=\"text-align: right;\">\n",
       "      <th></th>\n",
       "      <th>f0</th>\n",
       "      <th>f1</th>\n",
       "      <th>f2</th>\n",
       "    </tr>\n",
       "  </thead>\n",
       "  <tbody>\n",
       "    <tr>\n",
       "      <th>f0</th>\n",
       "      <td>1.000000</td>\n",
       "      <td>-0.440723</td>\n",
       "      <td>-0.003153</td>\n",
       "    </tr>\n",
       "    <tr>\n",
       "      <th>f1</th>\n",
       "      <td>-0.440723</td>\n",
       "      <td>1.000000</td>\n",
       "      <td>0.001724</td>\n",
       "    </tr>\n",
       "    <tr>\n",
       "      <th>f2</th>\n",
       "      <td>-0.003153</td>\n",
       "      <td>0.001724</td>\n",
       "      <td>1.000000</td>\n",
       "    </tr>\n",
       "  </tbody>\n",
       "</table>\n",
       "</div>"
      ],
      "text/plain": [
       "          f0        f1        f2\n",
       "f0  1.000000 -0.440723 -0.003153\n",
       "f1 -0.440723  1.000000  0.001724\n",
       "f2 -0.003153  0.001724  1.000000"
      ]
     },
     "metadata": {},
     "output_type": "display_data"
    },
    {
     "data": {
      "text/plain": [
       "'Количество явных дубликтов:'"
      ]
     },
     "metadata": {},
     "output_type": "display_data"
    },
    {
     "data": {
      "text/plain": [
       "0"
      ]
     },
     "metadata": {},
     "output_type": "display_data"
    },
    {
     "name": "stdout",
     "output_type": "stream",
     "text": [
      "----------------------------------------------------------------------------------------------------\n",
      "Название датафрейма:  df2\n",
      "<class 'pandas.core.frame.DataFrame'>\n",
      "RangeIndex: 100000 entries, 0 to 99999\n",
      "Data columns (total 5 columns):\n",
      " #   Column   Non-Null Count   Dtype  \n",
      "---  ------   --------------   -----  \n",
      " 0   id       100000 non-null  object \n",
      " 1   f0       100000 non-null  float64\n",
      " 2   f1       100000 non-null  float64\n",
      " 3   f2       100000 non-null  float64\n",
      " 4   product  100000 non-null  float64\n",
      "dtypes: float64(4), object(1)\n",
      "memory usage: 3.8+ MB\n"
     ]
    },
    {
     "data": {
      "text/plain": [
       "None"
      ]
     },
     "metadata": {},
     "output_type": "display_data"
    },
    {
     "data": {
      "text/plain": [
       "'Корреляция'"
      ]
     },
     "metadata": {},
     "output_type": "display_data"
    },
    {
     "data": {
      "text/html": [
       "<div>\n",
       "<style scoped>\n",
       "    .dataframe tbody tr th:only-of-type {\n",
       "        vertical-align: middle;\n",
       "    }\n",
       "\n",
       "    .dataframe tbody tr th {\n",
       "        vertical-align: top;\n",
       "    }\n",
       "\n",
       "    .dataframe thead th {\n",
       "        text-align: right;\n",
       "    }\n",
       "</style>\n",
       "<table border=\"1\" class=\"dataframe\">\n",
       "  <thead>\n",
       "    <tr style=\"text-align: right;\">\n",
       "      <th></th>\n",
       "      <th>f0</th>\n",
       "      <th>f1</th>\n",
       "      <th>f2</th>\n",
       "    </tr>\n",
       "  </thead>\n",
       "  <tbody>\n",
       "    <tr>\n",
       "      <th>f0</th>\n",
       "      <td>1.000000</td>\n",
       "      <td>0.182287</td>\n",
       "      <td>-0.001777</td>\n",
       "    </tr>\n",
       "    <tr>\n",
       "      <th>f1</th>\n",
       "      <td>0.182287</td>\n",
       "      <td>1.000000</td>\n",
       "      <td>-0.002595</td>\n",
       "    </tr>\n",
       "    <tr>\n",
       "      <th>f2</th>\n",
       "      <td>-0.001777</td>\n",
       "      <td>-0.002595</td>\n",
       "      <td>1.000000</td>\n",
       "    </tr>\n",
       "  </tbody>\n",
       "</table>\n",
       "</div>"
      ],
      "text/plain": [
       "          f0        f1        f2\n",
       "f0  1.000000  0.182287 -0.001777\n",
       "f1  0.182287  1.000000 -0.002595\n",
       "f2 -0.001777 -0.002595  1.000000"
      ]
     },
     "metadata": {},
     "output_type": "display_data"
    },
    {
     "data": {
      "text/plain": [
       "'Количество явных дубликтов:'"
      ]
     },
     "metadata": {},
     "output_type": "display_data"
    },
    {
     "data": {
      "text/plain": [
       "0"
      ]
     },
     "metadata": {},
     "output_type": "display_data"
    },
    {
     "name": "stdout",
     "output_type": "stream",
     "text": [
      "----------------------------------------------------------------------------------------------------\n",
      "Название датафрейма:  df3\n",
      "<class 'pandas.core.frame.DataFrame'>\n",
      "RangeIndex: 100000 entries, 0 to 99999\n",
      "Data columns (total 5 columns):\n",
      " #   Column   Non-Null Count   Dtype  \n",
      "---  ------   --------------   -----  \n",
      " 0   id       100000 non-null  object \n",
      " 1   f0       100000 non-null  float64\n",
      " 2   f1       100000 non-null  float64\n",
      " 3   f2       100000 non-null  float64\n",
      " 4   product  100000 non-null  float64\n",
      "dtypes: float64(4), object(1)\n",
      "memory usage: 3.8+ MB\n"
     ]
    },
    {
     "data": {
      "text/plain": [
       "None"
      ]
     },
     "metadata": {},
     "output_type": "display_data"
    },
    {
     "data": {
      "text/plain": [
       "'Корреляция'"
      ]
     },
     "metadata": {},
     "output_type": "display_data"
    },
    {
     "data": {
      "text/html": [
       "<div>\n",
       "<style scoped>\n",
       "    .dataframe tbody tr th:only-of-type {\n",
       "        vertical-align: middle;\n",
       "    }\n",
       "\n",
       "    .dataframe tbody tr th {\n",
       "        vertical-align: top;\n",
       "    }\n",
       "\n",
       "    .dataframe thead th {\n",
       "        text-align: right;\n",
       "    }\n",
       "</style>\n",
       "<table border=\"1\" class=\"dataframe\">\n",
       "  <thead>\n",
       "    <tr style=\"text-align: right;\">\n",
       "      <th></th>\n",
       "      <th>f0</th>\n",
       "      <th>f1</th>\n",
       "      <th>f2</th>\n",
       "    </tr>\n",
       "  </thead>\n",
       "  <tbody>\n",
       "    <tr>\n",
       "      <th>f0</th>\n",
       "      <td>1.000000</td>\n",
       "      <td>0.000528</td>\n",
       "      <td>-0.000448</td>\n",
       "    </tr>\n",
       "    <tr>\n",
       "      <th>f1</th>\n",
       "      <td>0.000528</td>\n",
       "      <td>1.000000</td>\n",
       "      <td>0.000779</td>\n",
       "    </tr>\n",
       "    <tr>\n",
       "      <th>f2</th>\n",
       "      <td>-0.000448</td>\n",
       "      <td>0.000779</td>\n",
       "      <td>1.000000</td>\n",
       "    </tr>\n",
       "  </tbody>\n",
       "</table>\n",
       "</div>"
      ],
      "text/plain": [
       "          f0        f1        f2\n",
       "f0  1.000000  0.000528 -0.000448\n",
       "f1  0.000528  1.000000  0.000779\n",
       "f2 -0.000448  0.000779  1.000000"
      ]
     },
     "metadata": {},
     "output_type": "display_data"
    },
    {
     "data": {
      "text/plain": [
       "'Количество явных дубликтов:'"
      ]
     },
     "metadata": {},
     "output_type": "display_data"
    },
    {
     "data": {
      "text/plain": [
       "0"
      ]
     },
     "metadata": {},
     "output_type": "display_data"
    },
    {
     "name": "stdout",
     "output_type": "stream",
     "text": [
      "----------------------------------------------------------------------------------------------------\n"
     ]
    }
   ],
   "source": [
    "dfs = [df1, df2, df3]\n",
    "for df in dfs:\n",
    "    print('Название датафрейма: ',get_df_name(df))\n",
    "    display(df.info())\n",
    "    display('Корреляция',df[['id', 'f0', 'f1', 'f2']].corr())\n",
    "    display('Количество явных дубликтов:', df.duplicated().sum())\n",
    "    print('-' * 100)"
   ]
  },
  {
   "cell_type": "markdown",
   "metadata": {},
   "source": [
    "Все таблицы имеют одинаковую структуру, не имеют нулевых значений.\n",
    "\n",
    "- id — уникальный идентификатор скважины;\n",
    "- f0, f1, f2 — три признака точек (неважно, что они означают, но сами признаки значимы);\n",
    "- product — объём запасов в скважине (тыс. баррелей).\n"
   ]
  },
  {
   "cell_type": "markdown",
   "metadata": {},
   "source": [
    "Явных дубликатов в таблицах не обнаружено."
   ]
  },
  {
   "cell_type": "markdown",
   "metadata": {},
   "source": [
    "В первом датафрейме наблюдается интересная отрицательная корреляция между 0 и 1 признаком. В остальных датафреймах корреляции несущественны."
   ]
  },
  {
   "cell_type": "code",
   "execution_count": 229,
   "metadata": {},
   "outputs": [],
   "source": [
    "def corr_heatmap(df):\n",
    "    ax=sns.heatmap (df.corr(), cmap='Blues', annot=True)\n",
    "    ax.set_title(get_df_name(df))"
   ]
  },
  {
   "cell_type": "markdown",
   "metadata": {},
   "source": [
    "<div class=\"alert alert-block alert-info\">\n",
    "\n",
    "<b>Совет (ревью 2): </b> Надо добавить:\n",
    "    \n",
    "`import matplotlib.pyplot as plt\n",
    "plt.show()`\n",
    "</div>"
   ]
  },
  {
   "cell_type": "code",
   "execution_count": 230,
   "metadata": {},
   "outputs": [
    {
     "data": {
      "image/png": "[encoded data removed]",
      "text/plain": [
       "<Figure size 432x288 with 4 Axes>"
      ]
     },
     "metadata": {
      "needs_background": "light"
     },
     "output_type": "display_data"
    }
   ],
   "source": [
    "dfs = [df1, df2, df3]\n",
    "\n",
    "for df in dfs:\n",
    "    corr_heatmap(df)"
   ]
  },
  {
   "cell_type": "markdown",
   "metadata": {},
   "source": [
    "sns.pairplot(df1, vars = ['id', 'f0', 'f1', 'f2'])"
   ]
  },
  {
   "cell_type": "code",
   "execution_count": 231,
   "metadata": {
    "scrolled": true
   },
   "outputs": [
    {
     "data": {
      "text/plain": [
       "<AxesSubplot:>"
      ]
     },
     "execution_count": 231,
     "metadata": {},
     "output_type": "execute_result"
    },
    {
     "data": {
      "image/png": "[encoded data removed]",
      "text/plain": [
       "<Figure size 432x288 with 2 Axes>"
      ]
     },
     "metadata": {
      "needs_background": "light"
     },
     "output_type": "display_data"
    }
   ],
   "source": [
    "sns.heatmap (df1.corr(), cmap='Blues', annot=True)"
   ]
  },
  {
   "cell_type": "code",
   "execution_count": 232,
   "metadata": {},
   "outputs": [
    {
     "data": {
      "text/plain": [
       "<AxesSubplot:>"
      ]
     },
     "execution_count": 232,
     "metadata": {},
     "output_type": "execute_result"
    },
    {
     "data": {
      "image/png": "[encoded data removed]",
      "text/plain": [
       "<Figure size 432x288 with 2 Axes>"
      ]
     },
     "metadata": {
      "needs_background": "light"
     },
     "output_type": "display_data"
    }
   ],
   "source": [
    "sns.heatmap (df2.corr(), cmap='Blues', annot=True)"
   ]
  },
  {
   "cell_type": "code",
   "execution_count": 233,
   "metadata": {},
   "outputs": [
    {
     "data": {
      "text/plain": [
       "<AxesSubplot:>"
      ]
     },
     "execution_count": 233,
     "metadata": {},
     "output_type": "execute_result"
    },
    {
     "data": {
      "image/png": "[encoded data removed]",
      "text/plain": [
       "<Figure size 432x288 with 2 Axes>"
      ]
     },
     "metadata": {
      "needs_background": "light"
     },
     "output_type": "display_data"
    }
   ],
   "source": [
    "sns.heatmap (df3.corr(), cmap='Blues', annot=True)"
   ]
  },
  {
   "cell_type": "markdown",
   "metadata": {},
   "source": [
    "В колонке с идентификатором никакой глубокой мысли нет. Ценности в масшабиировании её я не вижу, всё-таки это не какой-то категориальный признак, поэтому просто удалим её."
   ]
  },
  {
   "cell_type": "code",
   "execution_count": 234,
   "metadata": {},
   "outputs": [],
   "source": [
    "df1 = df1.drop(columns=['id'])\n",
    "df2 = df2.drop(columns=['id'])\n",
    "df3 = df3.drop(columns=['id'])"
   ]
  },
  {
   "cell_type": "markdown",
   "metadata": {},
   "source": [
    "### Краткий вывод по первому шагу\n",
    "<a id='section_id1'></a>\n",
    "\n",
    "Ознакомившись с данными мы увидели многое в частности:\n",
    "\n",
    "* Все таблицы имеют одинаковую структуру, а не имеют пустых значений;\n",
    "* В каждой отдельно взятой таблице отсутсуют явные дубликаты;\n",
    "* Анализ на корреляцию внутри данных выявил, что во втором и третьем датафрейме объектов с сильной корреляцией (положительной или отрицательной) нет. А вот в первом датафрейме наблюдается интересная взаимосвзять между первым и вторым признаком. То есть чем ниже один признак тем ниже второй. Суть этих признаков от нас скрыта, поэтому пока оставим их;\n",
    "* В каждой таблице присутствует столбец с идентификатором скважины для построения нашей модели этот признак не нужен, поэтому мы его убрали. Мы бы его так и так убрали на моменте построения обучающей и валидационной выборки.\n"
   ]
  },
  {
   "cell_type": "markdown",
   "metadata": {},
   "source": [
    "## Обучение и проверка модели\n",
    "\n",
    "[Сразу к выводу](#section_id2)"
   ]
  },
  {
   "cell_type": "markdown",
   "metadata": {},
   "source": [
    "Разобъём данные на обучающую и валидационную выборки в соотношении 75:25."
   ]
  },
  {
   "cell_type": "code",
   "execution_count": 235,
   "metadata": {},
   "outputs": [],
   "source": [
    "def tar_feat(df):\n",
    "    target = df['product']\n",
    "    features = df.drop('product', axis=1)\n",
    "    return features, target"
   ]
  },
  {
   "cell_type": "code",
   "execution_count": 236,
   "metadata": {},
   "outputs": [],
   "source": [
    "def train_valid(df):\n",
    "    features,target = tar_feat(df)\n",
    "    \n",
    "    train_features, valid_features, train_target, valid_target = train_test_split(\n",
    "    features, \n",
    "    target, \n",
    "    test_size=.75,                                                                           \n",
    "    random_state=12345)\n",
    "    \n",
    "    return train_features, valid_features, train_target, valid_target"
   ]
  },
  {
   "cell_type": "code",
   "execution_count": 237,
   "metadata": {},
   "outputs": [],
   "source": [
    "def model_tr_val(df):\n",
    "    model = LinearRegression()\n",
    "    features, target = tar_feat(df)\n",
    "    train_features, valid_features, train_target, valid_target = train_valid(df)\n",
    "    \n",
    "    model.fit(train_features, train_target)\n",
    "    predict = model.predict(valid_features)\n",
    "    rmse = mean_squared_error(valid_target, predict) ** 0.5\n",
    "    predict_mean = 'Средний запас сырья по датафрейму в предсказаниях:', predict.mean()\n",
    "    rmse_total = 'RMSE региона:' + str(rmse) \n",
    "    return predict_mean, rmse_total"
   ]
  },
  {
   "cell_type": "code",
   "execution_count": 238,
   "metadata": {},
   "outputs": [
    {
     "data": {
      "text/plain": [
       "(('Средний запас сырья по датафрейму в предсказаниях:', 92.56773277214636),\n",
       " 'RMSE региона:37.70188872577138')"
      ]
     },
     "execution_count": 238,
     "metadata": {},
     "output_type": "execute_result"
    }
   ],
   "source": [
    "model_tr_val(df1)"
   ]
  },
  {
   "cell_type": "code",
   "execution_count": 239,
   "metadata": {},
   "outputs": [
    {
     "data": {
      "text/plain": [
       "(('Средний запас сырья по датафрейму в предсказаниях:', 68.81242584773999),\n",
       " 'RMSE региона:0.8914237412897416')"
      ]
     },
     "execution_count": 239,
     "metadata": {},
     "output_type": "execute_result"
    }
   ],
   "source": [
    "model_tr_val(df2)"
   ]
  },
  {
   "cell_type": "code",
   "execution_count": 240,
   "metadata": {},
   "outputs": [
    {
     "data": {
      "text/plain": [
       "(('Средний запас сырья по датафрейму в предсказаниях:', 94.94516837037592),\n",
       " 'RMSE региона:40.03777476932527')"
      ]
     },
     "execution_count": 240,
     "metadata": {},
     "output_type": "execute_result"
    }
   ],
   "source": [
    "model_tr_val(df3)"
   ]
  },
  {
   "cell_type": "markdown",
   "metadata": {},
   "source": [
    "* Обучим модель и сделаем предсказания на валидационной выборке;\n",
    "\n",
    "* Сохраним предсказания и правильные ответы на валидационной выборке;\n",
    "\n",
    "* Напечатаем на экране средний запас предсказанного сырья и RMSE модели."
   ]
  },
  {
   "cell_type": "markdown",
   "metadata": {},
   "source": [
    "<B>Для обучения модели подходит только линейная регрессия (остальные — недостаточно предсказуемые).</B>"
   ]
  },
  {
   "cell_type": "markdown",
   "metadata": {},
   "source": [
    "### Краткий вывод по второму шагу.\n",
    "<a id='section_id2'></a>\n",
    "\n",
    "На втором шаге мы сделали:\n",
    "\n",
    "* Разделили для каждого датафрейма выборки на обучающую и валидную в соотношении 1 к 4.\n",
    "* Обучили модель линейной регрессии для каждого датафрейма на обучающей выборке и предсказали на валидной;\n",
    "* Посчитали среднеквадратичную ошибку для каждого. Для второго региона получили очень низкую ошибку. Можно сделать вывод, данные в этои дф самые репрезентативные и \"полезные\" для обечения и предсказания модели. "
   ]
  },
  {
   "cell_type": "markdown",
   "metadata": {},
   "source": [
    "## Подготовка к расчёту прибыли\n",
    "\n",
    "[Сразу к выводу](#section_id3)"
   ]
  },
  {
   "cell_type": "markdown",
   "metadata": {},
   "source": [
    "_условия задачи_\n",
    "- При разведке региона исследуют 500 точек, из которых с помощью машинного обучения выбирают 200 лучших для разработки.\n",
    "- Бюджет на разработку скважин в регионе — 10 млрд рублей.\n",
    "- При нынешних ценах один баррель сырья приносит 450 рублей дохода. Доход с каждой единицы продукта составляет 450 тыс. рублей, поскольку объём указан в тысячах баррелей.\n"
   ]
  },
  {
   "cell_type": "markdown",
   "metadata": {},
   "source": [
    "* Все ключевые значения для расчётов сохраним в отдельных переменных.\n",
    "* Рассчитаем достаточный объём сырья для безубыточной разработки новой скважины. Сравним полученный объём сырья со средним запасом в каждом регионе\n"
   ]
  },
  {
   "cell_type": "code",
   "execution_count": 247,
   "metadata": {},
   "outputs": [
    {
     "data": {
      "text/plain": [
       "111.11111111111111"
      ]
     },
     "execution_count": 247,
     "metadata": {},
     "output_type": "execute_result"
    }
   ],
   "source": [
    "# общий бюджет\n",
    "BUDGET = 10000\n",
    "# бюджет скважины\n",
    "WELL_BUDGET = BUDGET/0.45\n",
    "# достаточный объём сырья для безубыточной разработки новой скважины\n",
    "BREAK_EVEN = WELL_BUDGET / 200\n",
    "BREAK_EVEN"
   ]
  },
  {
   "cell_type": "markdown",
   "metadata": {},
   "source": [
    "То есть для самоокупаемости средний запас на скажину должен быть чуть более 111 тыс. баррелей - у всех 3-х регионов предсказанный запас ниже безубыточного."
   ]
  },
  {
   "cell_type": "markdown",
   "metadata": {},
   "source": [
    "Напишем функцию для расчёта прибыли по выбранным скважинам и предсказаниям модели"
   ]
  },
  {
   "cell_type": "code",
   "execution_count": 248,
   "metadata": {},
   "outputs": [],
   "source": [
    "def profit(target, predictions):\n",
    "    # Выбираем топовые предсказания\n",
    "    preds_sorted  = predictions.sort_values(ascending=False)\n",
    "    # Суммируем соответствующие топ-200 реальные значения, считаем выручку и вычитаем бюджетные расходы\n",
    "    selected = target[preds_sorted.index][:200].sum()\n",
    "    return selected * 0.45 - BUDGET"
   ]
  },
  {
   "cell_type": "markdown",
   "metadata": {},
   "source": [
    "### Краткий вывод по третьему шагу\n",
    "<a id='section_id3'></a>\n",
    "\n",
    "* Мы рассчитали достаточный достаточный объем сырья для безубыточной разработки новой скважины, для этого у нас выбраны 200 точек для разработки, и на эти точки 10 млрд рублей. В результате расчётов мы получили <b>цифру безубыточности 111 тыс.баррелей</b>. По итогу, по всем предсказанным моделям никто из них эту черту не пересечёт.\n",
    "* Также мы написали функцию для расчёта прибыли по выбранным скважинам и предсаказаниям модели"
   ]
  },
  {
   "cell_type": "markdown",
   "metadata": {},
   "source": [
    "## Расчёт прибыли и рисков \n",
    "\n",
    "[Сразу к выводу](#section_id4)"
   ]
  },
  {
   "cell_type": "markdown",
   "metadata": {},
   "source": [
    "* Применим технику Bootstrap с 1000 выборок, чтобы найти распределение прибыли.\n",
    "* Найдём среднюю прибыль, 95%-й доверительный интервал и риск убытков. Убыток — это отрицательная прибыль."
   ]
  },
  {
   "cell_type": "code",
   "execution_count": 249,
   "metadata": {},
   "outputs": [],
   "source": [
    "def bootstrap(df):\n",
    "    model = LinearRegression()\n",
    "    features, target = tar_feat(df)\n",
    "    train_features, valid_features, train_target, valid_target = train_valid(df)\n",
    "    \n",
    "    model.fit(train_features, train_target)\n",
    "    state = RandomState(12345)\n",
    "    predict = model.predict(valid_features)\n",
    "    predict = pd.Series(predict)\n",
    "    valid_target.reset_index(drop=True, inplace=True)\n",
    "    values = []\n",
    "    for i in range(1000):\n",
    "        target_subsample = valid_target.sample(\n",
    "            n = 500, \n",
    "            replace = True, \n",
    "            random_state=state)\n",
    "        predict_sample = predict[target_subsample.index]\n",
    "\n",
    "        values.append(profit(target_subsample,predict_sample))\n",
    "\n",
    "    values = pd.Series(values)\n",
    "    lower = values.quantile(0.025)\n",
    "    upper = values.quantile(0.975) \n",
    "    risk = (values < 0).mean()\n",
    "    mean = values.mean() \n",
    "        \n",
    "    return  f'Средняя выручка: {mean}',  f'-2,5%-квантиль: {lower}' , f'+2,5%-квантиль: {upper}' ,f'Риск: {risk:.2%}',f'Размах интервала:{(upper-lower)}'"
   ]
  },
  {
   "cell_type": "code",
   "execution_count": 250,
   "metadata": {},
   "outputs": [
    {
     "data": {
      "text/plain": [
       "('Средняя выручка: 444.48140534475226',\n",
       " '-2,5%-квантиль: -80.99876718613217',\n",
       " '+2,5%-квантиль: 935.3768100621168',\n",
       " 'Риск: 4.80%',\n",
       " 'Размах интервала:1016.3755772482489')"
      ]
     },
     "execution_count": 250,
     "metadata": {},
     "output_type": "execute_result"
    }
   ],
   "source": [
    "bootstrap(df1)"
   ]
  },
  {
   "cell_type": "code",
   "execution_count": 251,
   "metadata": {},
   "outputs": [
    {
     "data": {
      "text/plain": [
       "('Средняя выручка: 477.01901392440857',\n",
       " '-2,5%-квантиль: 43.94819723158603',\n",
       " '+2,5%-квантиль: 928.8123535942925',\n",
       " 'Риск: 1.20%',\n",
       " 'Размах интервала:884.8641563627065')"
      ]
     },
     "execution_count": 251,
     "metadata": {},
     "output_type": "execute_result"
    }
   ],
   "source": [
    "bootstrap(df2)"
   ]
  },
  {
   "cell_type": "code",
   "execution_count": 252,
   "metadata": {},
   "outputs": [
    {
     "data": {
      "text/plain": [
       "('Средняя выручка: 385.9155321056723',\n",
       " '-2,5%-квантиль: -122.44020484745636',\n",
       " '+2,5%-квантиль: 874.8417830900089',\n",
       " 'Риск: 7.00%',\n",
       " 'Размах интервала:997.2819879374653')"
      ]
     },
     "execution_count": 252,
     "metadata": {},
     "output_type": "execute_result"
    }
   ],
   "source": [
    "bootstrap(df3)"
   ]
  },
  {
   "cell_type": "markdown",
   "metadata": {},
   "source": [
    "### Краткий вывод по четвертому шагу\n",
    "<a id='section_id4'></a>\n",
    "\n",
    "* Применив технику Bootstrap с 1000 выборок мы нашли среднюю прибыль, 95%-й доверительный интервал и риск убытков  \n",
    "* <b> По результатам лучше всех себя показал второй регион. У него (по сравнению с другмими) наименьший доверительный интервал, но также и самый маленьких риск.</b> К слову когда мы обучали модель линейной регрессии лучший результат также был у второго региона. Причём запасов сырья у них (по предскзанию) меньше всего. Подозреваю, что это связано, но как именно пока не могу осознать."
   ]
  }
 ],
 "metadata": {
  "ExecuteTimeLog": [
   {
    "duration": 3,
    "start_time": "2022-06-03T19:50:27.219Z"
   },
   {
    "duration": 546,
    "start_time": "2022-06-03T19:53:59.211Z"
   },
   {
    "duration": 303,
    "start_time": "2022-06-03T19:54:01.831Z"
   },
   {
    "duration": 263,
    "start_time": "2022-06-03T19:54:04.193Z"
   },
   {
    "duration": 103,
    "start_time": "2022-06-03T19:54:57.918Z"
   },
   {
    "duration": 20,
    "start_time": "2022-06-03T19:55:08.653Z"
   },
   {
    "duration": 24,
    "start_time": "2022-06-03T19:55:18.663Z"
   },
   {
    "duration": 82,
    "start_time": "2022-06-03T19:57:59.194Z"
   },
   {
    "duration": 44,
    "start_time": "2022-06-03T19:58:08.783Z"
   },
   {
    "duration": 74,
    "start_time": "2022-06-03T19:58:15.566Z"
   },
   {
    "duration": 26,
    "start_time": "2022-06-03T20:00:00.256Z"
   },
   {
    "duration": 22,
    "start_time": "2022-06-03T20:00:13.475Z"
   },
   {
    "duration": 23,
    "start_time": "2022-06-03T20:00:21.720Z"
   },
   {
    "duration": 1337,
    "start_time": "2022-06-03T20:07:48.910Z"
   },
   {
    "duration": 1209,
    "start_time": "2022-06-03T20:12:42.790Z"
   },
   {
    "duration": 377,
    "start_time": "2022-06-03T20:12:44.001Z"
   },
   {
    "duration": 197,
    "start_time": "2022-06-03T20:12:44.381Z"
   },
   {
    "duration": 209,
    "start_time": "2022-06-03T20:12:44.581Z"
   },
   {
    "duration": 15,
    "start_time": "2022-06-03T20:12:44.792Z"
   },
   {
    "duration": 14,
    "start_time": "2022-06-03T20:12:44.809Z"
   },
   {
    "duration": 13,
    "start_time": "2022-06-03T20:12:44.824Z"
   },
   {
    "duration": 72,
    "start_time": "2022-06-03T20:12:44.839Z"
   },
   {
    "duration": 53,
    "start_time": "2022-06-03T20:12:44.912Z"
   },
   {
    "duration": 45,
    "start_time": "2022-06-03T20:12:44.968Z"
   },
   {
    "duration": 21,
    "start_time": "2022-06-03T20:12:45.014Z"
   },
   {
    "duration": 42,
    "start_time": "2022-06-03T20:12:45.037Z"
   },
   {
    "duration": 17,
    "start_time": "2022-06-03T20:12:45.080Z"
   },
   {
    "duration": 169,
    "start_time": "2022-06-03T20:12:45.098Z"
   },
   {
    "duration": 351,
    "start_time": "2022-06-03T20:13:00.657Z"
   },
   {
    "duration": 380,
    "start_time": "2022-06-03T20:13:24.069Z"
   },
   {
    "duration": 337,
    "start_time": "2022-06-03T20:13:44.857Z"
   },
   {
    "duration": 16,
    "start_time": "2022-06-03T20:15:57.713Z"
   },
   {
    "duration": 27,
    "start_time": "2022-06-03T20:16:04.768Z"
   },
   {
    "duration": 23,
    "start_time": "2022-06-03T20:18:22.375Z"
   },
   {
    "duration": 25,
    "start_time": "2022-06-03T20:18:48.851Z"
   },
   {
    "duration": 26,
    "start_time": "2022-06-03T20:19:18.062Z"
   },
   {
    "duration": 160,
    "start_time": "2022-06-03T20:20:48.014Z"
   },
   {
    "duration": 103,
    "start_time": "2022-06-03T20:20:55.980Z"
   },
   {
    "duration": 21,
    "start_time": "2022-06-03T20:21:03.767Z"
   },
   {
    "duration": 127,
    "start_time": "2022-06-03T20:21:48.459Z"
   },
   {
    "duration": 27,
    "start_time": "2022-06-03T20:21:54.370Z"
   },
   {
    "duration": 32,
    "start_time": "2022-06-03T20:22:28.265Z"
   },
   {
    "duration": 12,
    "start_time": "2022-06-04T10:42:07.449Z"
   },
   {
    "duration": 4,
    "start_time": "2022-06-04T10:53:07.901Z"
   },
   {
    "duration": 4,
    "start_time": "2022-06-04T10:53:55.516Z"
   },
   {
    "duration": 4,
    "start_time": "2022-06-04T11:08:23.313Z"
   },
   {
    "duration": 4,
    "start_time": "2022-06-04T11:09:54.638Z"
   },
   {
    "duration": 3,
    "start_time": "2022-06-04T13:19:43.848Z"
   },
   {
    "duration": 115,
    "start_time": "2022-06-04T13:27:47.624Z"
   },
   {
    "duration": 12,
    "start_time": "2022-06-04T13:28:25.942Z"
   },
   {
    "duration": 11,
    "start_time": "2022-06-04T13:28:49.914Z"
   },
   {
    "duration": 8,
    "start_time": "2022-06-04T13:29:11.414Z"
   },
   {
    "duration": 4,
    "start_time": "2022-06-04T13:29:20.893Z"
   },
   {
    "duration": 414,
    "start_time": "2022-06-04T13:29:20.901Z"
   },
   {
    "duration": 367,
    "start_time": "2022-06-04T13:29:21.317Z"
   },
   {
    "duration": 228,
    "start_time": "2022-06-04T13:29:21.686Z"
   },
   {
    "duration": 14,
    "start_time": "2022-06-04T13:29:21.916Z"
   },
   {
    "duration": 36,
    "start_time": "2022-06-04T13:29:21.932Z"
   },
   {
    "duration": 43,
    "start_time": "2022-06-04T13:29:21.971Z"
   },
   {
    "duration": 76,
    "start_time": "2022-06-04T13:29:22.016Z"
   },
   {
    "duration": 75,
    "start_time": "2022-06-04T13:29:22.094Z"
   },
   {
    "duration": 51,
    "start_time": "2022-06-04T13:29:22.170Z"
   },
   {
    "duration": 24,
    "start_time": "2022-06-04T13:29:22.223Z"
   },
   {
    "duration": 50,
    "start_time": "2022-06-04T13:29:22.249Z"
   },
   {
    "duration": 20,
    "start_time": "2022-06-04T13:29:22.300Z"
   },
   {
    "duration": 422,
    "start_time": "2022-06-04T13:29:22.321Z"
   },
   {
    "duration": 303,
    "start_time": "2022-06-04T13:29:22.744Z"
   },
   {
    "duration": 319,
    "start_time": "2022-06-04T13:29:23.053Z"
   },
   {
    "duration": 15,
    "start_time": "2022-06-04T13:29:23.373Z"
   },
   {
    "duration": 36,
    "start_time": "2022-06-04T13:29:23.389Z"
   },
   {
    "duration": 18,
    "start_time": "2022-06-04T13:29:23.427Z"
   },
   {
    "duration": 52,
    "start_time": "2022-06-04T13:29:23.447Z"
   },
   {
    "duration": 54,
    "start_time": "2022-06-04T13:29:23.501Z"
   },
   {
    "duration": 118,
    "start_time": "2022-06-04T13:29:23.562Z"
   },
   {
    "duration": 196,
    "start_time": "2022-06-04T13:29:23.682Z"
   },
   {
    "duration": 82,
    "start_time": "2022-06-04T13:29:23.880Z"
   },
   {
    "duration": 124,
    "start_time": "2022-06-04T13:29:23.963Z"
   },
   {
    "duration": 21,
    "start_time": "2022-06-04T13:29:24.089Z"
   },
   {
    "duration": 3,
    "start_time": "2022-06-04T13:29:28.511Z"
   },
   {
    "duration": 5,
    "start_time": "2022-06-04T13:29:30.190Z"
   },
   {
    "duration": 11,
    "start_time": "2022-06-04T13:29:32.806Z"
   },
   {
    "duration": 10,
    "start_time": "2022-06-04T13:30:33.394Z"
   },
   {
    "duration": 11,
    "start_time": "2022-06-04T13:31:14.421Z"
   },
   {
    "duration": 24,
    "start_time": "2022-06-04T13:37:02.052Z"
   },
   {
    "duration": 18,
    "start_time": "2022-06-04T13:37:53.305Z"
   },
   {
    "duration": 3,
    "start_time": "2022-06-04T13:38:10.415Z"
   },
   {
    "duration": 16,
    "start_time": "2022-06-04T13:38:14.610Z"
   },
   {
    "duration": 3,
    "start_time": "2022-06-04T13:38:52.411Z"
   },
   {
    "duration": 16,
    "start_time": "2022-06-04T13:38:53.851Z"
   },
   {
    "duration": 14,
    "start_time": "2022-06-04T13:39:11.745Z"
   },
   {
    "duration": 3,
    "start_time": "2022-06-04T13:39:50.002Z"
   },
   {
    "duration": 10,
    "start_time": "2022-06-04T13:39:52.890Z"
   },
   {
    "duration": 1372,
    "start_time": "2022-06-04T13:39:58.550Z"
   },
   {
    "duration": 3,
    "start_time": "2022-06-04T13:41:23.206Z"
   },
   {
    "duration": 1263,
    "start_time": "2022-06-04T13:41:29.856Z"
   },
   {
    "duration": 1297,
    "start_time": "2022-06-04T13:46:17.351Z"
   },
   {
    "duration": 1245,
    "start_time": "2022-06-04T13:46:53.494Z"
   },
   {
    "duration": 1230,
    "start_time": "2022-06-04T13:47:03.737Z"
   },
   {
    "duration": 1268,
    "start_time": "2022-06-04T13:47:42.090Z"
   },
   {
    "duration": 1304,
    "start_time": "2022-06-04T13:48:45.553Z"
   },
   {
    "duration": 1317,
    "start_time": "2022-06-04T13:48:52.041Z"
   },
   {
    "duration": 1321,
    "start_time": "2022-06-04T13:48:56.017Z"
   },
   {
    "duration": 1318,
    "start_time": "2022-06-04T13:49:01.565Z"
   },
   {
    "duration": 1296,
    "start_time": "2022-06-04T13:49:35.147Z"
   },
   {
    "duration": 1288,
    "start_time": "2022-06-04T13:49:50.114Z"
   },
   {
    "duration": 3,
    "start_time": "2022-06-04T13:50:01.310Z"
   },
   {
    "duration": 172,
    "start_time": "2022-06-04T13:50:01.315Z"
   },
   {
    "duration": 115,
    "start_time": "2022-06-04T13:50:01.489Z"
   },
   {
    "duration": 117,
    "start_time": "2022-06-04T13:50:01.605Z"
   },
   {
    "duration": 12,
    "start_time": "2022-06-04T13:50:01.724Z"
   },
   {
    "duration": 41,
    "start_time": "2022-06-04T13:50:01.738Z"
   },
   {
    "duration": 23,
    "start_time": "2022-06-04T13:50:01.781Z"
   },
   {
    "duration": 56,
    "start_time": "2022-06-04T13:50:01.806Z"
   },
   {
    "duration": 55,
    "start_time": "2022-06-04T13:50:01.864Z"
   },
   {
    "duration": 84,
    "start_time": "2022-06-04T13:50:01.921Z"
   },
   {
    "duration": 29,
    "start_time": "2022-06-04T13:50:02.008Z"
   },
   {
    "duration": 17,
    "start_time": "2022-06-04T13:50:02.039Z"
   },
   {
    "duration": 23,
    "start_time": "2022-06-04T13:50:02.057Z"
   },
   {
    "duration": 321,
    "start_time": "2022-06-04T13:50:02.081Z"
   },
   {
    "duration": 367,
    "start_time": "2022-06-04T13:50:02.403Z"
   },
   {
    "duration": 338,
    "start_time": "2022-06-04T13:50:02.771Z"
   },
   {
    "duration": 13,
    "start_time": "2022-06-04T13:50:03.110Z"
   },
   {
    "duration": 19,
    "start_time": "2022-06-04T13:50:03.125Z"
   },
   {
    "duration": 12,
    "start_time": "2022-06-04T13:50:03.151Z"
   },
   {
    "duration": 11,
    "start_time": "2022-06-04T13:50:03.165Z"
   },
   {
    "duration": 77,
    "start_time": "2022-06-04T13:50:03.178Z"
   },
   {
    "duration": 105,
    "start_time": "2022-06-04T13:50:03.256Z"
   },
   {
    "duration": 201,
    "start_time": "2022-06-04T13:50:03.363Z"
   },
   {
    "duration": 189,
    "start_time": "2022-06-04T13:50:03.565Z"
   },
   {
    "duration": 7,
    "start_time": "2022-06-04T13:50:03.756Z"
   },
   {
    "duration": 5,
    "start_time": "2022-06-04T13:50:03.765Z"
   },
   {
    "duration": 10,
    "start_time": "2022-06-04T13:50:03.771Z"
   },
   {
    "duration": 7,
    "start_time": "2022-06-04T13:50:03.783Z"
   },
   {
    "duration": 1273,
    "start_time": "2022-06-04T13:50:03.792Z"
   },
   {
    "duration": 1313,
    "start_time": "2022-06-04T13:50:05.067Z"
   },
   {
    "duration": 1250,
    "start_time": "2022-06-04T13:50:06.382Z"
   },
   {
    "duration": 4,
    "start_time": "2022-06-04T18:05:28.229Z"
   },
   {
    "duration": 150,
    "start_time": "2022-06-04T18:05:29.927Z"
   },
   {
    "duration": 149,
    "start_time": "2022-06-04T18:05:36.318Z"
   },
   {
    "duration": 139,
    "start_time": "2022-06-04T18:05:38.245Z"
   },
   {
    "duration": 18,
    "start_time": "2022-06-04T18:05:50.687Z"
   },
   {
    "duration": 22,
    "start_time": "2022-06-04T18:06:23.350Z"
   },
   {
    "duration": 13,
    "start_time": "2022-06-04T18:06:34.957Z"
   },
   {
    "duration": 23,
    "start_time": "2022-06-04T18:06:43.157Z"
   },
   {
    "duration": 31,
    "start_time": "2022-06-04T18:12:09.434Z"
   },
   {
    "duration": 31,
    "start_time": "2022-06-04T18:12:27.337Z"
   },
   {
    "duration": 29,
    "start_time": "2022-06-04T18:12:42.811Z"
   },
   {
    "duration": 34,
    "start_time": "2022-06-04T18:15:57.047Z"
   },
   {
    "duration": 4,
    "start_time": "2022-06-04T18:16:15.127Z"
   },
   {
    "duration": 197,
    "start_time": "2022-06-04T18:16:15.154Z"
   },
   {
    "duration": 188,
    "start_time": "2022-06-04T18:16:15.354Z"
   },
   {
    "duration": 185,
    "start_time": "2022-06-04T18:16:15.544Z"
   },
   {
    "duration": 24,
    "start_time": "2022-06-04T18:16:15.732Z"
   },
   {
    "duration": 22,
    "start_time": "2022-06-04T18:16:15.760Z"
   },
   {
    "duration": 50,
    "start_time": "2022-06-04T18:16:15.784Z"
   },
   {
    "duration": 65,
    "start_time": "2022-06-04T18:16:15.839Z"
   },
   {
    "duration": 60,
    "start_time": "2022-06-04T18:16:15.906Z"
   },
   {
    "duration": 57,
    "start_time": "2022-06-04T18:16:15.968Z"
   },
   {
    "duration": 17,
    "start_time": "2022-06-04T18:16:16.027Z"
   },
   {
    "duration": 16,
    "start_time": "2022-06-04T18:16:16.046Z"
   },
   {
    "duration": 20,
    "start_time": "2022-06-04T18:16:16.064Z"
   },
   {
    "duration": 439,
    "start_time": "2022-06-04T18:16:16.086Z"
   },
   {
    "duration": 340,
    "start_time": "2022-06-04T18:16:16.528Z"
   },
   {
    "duration": 333,
    "start_time": "2022-06-04T18:16:16.869Z"
   },
   {
    "duration": 24,
    "start_time": "2022-06-04T18:16:17.204Z"
   },
   {
    "duration": 23,
    "start_time": "2022-06-04T18:16:17.230Z"
   },
   {
    "duration": 23,
    "start_time": "2022-06-04T18:16:17.255Z"
   },
   {
    "duration": 23,
    "start_time": "2022-06-04T18:16:24.302Z"
   },
   {
    "duration": 216,
    "start_time": "2022-06-04T18:16:27.108Z"
   },
   {
    "duration": 15,
    "start_time": "2022-06-04T18:16:31.210Z"
   },
   {
    "duration": 18,
    "start_time": "2022-06-04T18:16:33.413Z"
   },
   {
    "duration": 6,
    "start_time": "2022-06-04T18:49:04.992Z"
   },
   {
    "duration": 4,
    "start_time": "2022-06-04T18:57:45.295Z"
   },
   {
    "duration": 152,
    "start_time": "2022-06-04T18:57:45.301Z"
   },
   {
    "duration": 160,
    "start_time": "2022-06-04T18:57:45.455Z"
   },
   {
    "duration": 136,
    "start_time": "2022-06-04T18:57:45.617Z"
   },
   {
    "duration": 17,
    "start_time": "2022-06-04T18:57:45.755Z"
   },
   {
    "duration": 15,
    "start_time": "2022-06-04T18:57:45.774Z"
   },
   {
    "duration": 37,
    "start_time": "2022-06-04T18:57:45.791Z"
   },
   {
    "duration": 50,
    "start_time": "2022-06-04T18:57:45.830Z"
   },
   {
    "duration": 60,
    "start_time": "2022-06-04T18:57:45.882Z"
   },
   {
    "duration": 46,
    "start_time": "2022-06-04T18:57:45.944Z"
   },
   {
    "duration": 39,
    "start_time": "2022-06-04T18:57:45.992Z"
   },
   {
    "duration": 20,
    "start_time": "2022-06-04T18:57:46.032Z"
   },
   {
    "duration": 20,
    "start_time": "2022-06-04T18:57:46.054Z"
   },
   {
    "duration": 396,
    "start_time": "2022-06-04T18:57:46.076Z"
   },
   {
    "duration": 372,
    "start_time": "2022-06-04T18:57:46.474Z"
   },
   {
    "duration": 403,
    "start_time": "2022-06-04T18:57:46.850Z"
   },
   {
    "duration": 15,
    "start_time": "2022-06-04T18:57:47.255Z"
   },
   {
    "duration": 21,
    "start_time": "2022-06-04T18:57:47.271Z"
   },
   {
    "duration": 13,
    "start_time": "2022-06-04T18:57:47.294Z"
   },
   {
    "duration": 18,
    "start_time": "2022-06-04T18:57:47.326Z"
   },
   {
    "duration": 79,
    "start_time": "2022-06-04T18:57:47.346Z"
   },
   {
    "duration": 107,
    "start_time": "2022-06-04T18:57:47.427Z"
   },
   {
    "duration": 90,
    "start_time": "2022-06-04T18:57:47.537Z"
   },
   {
    "duration": 93,
    "start_time": "2022-06-04T18:57:47.635Z"
   },
   {
    "duration": 13,
    "start_time": "2022-06-04T18:57:47.730Z"
   },
   {
    "duration": 3,
    "start_time": "2022-06-04T18:57:52.179Z"
   },
   {
    "duration": 11,
    "start_time": "2022-06-04T18:58:02.452Z"
   },
   {
    "duration": 5,
    "start_time": "2022-06-04T18:58:28.711Z"
   },
   {
    "duration": 3,
    "start_time": "2022-06-04T18:58:34.617Z"
   },
   {
    "duration": 1463,
    "start_time": "2022-06-04T19:00:21.439Z"
   },
   {
    "duration": 1432,
    "start_time": "2022-06-04T19:00:25.838Z"
   },
   {
    "duration": 1479,
    "start_time": "2022-06-04T19:00:29.254Z"
   },
   {
    "duration": 1409,
    "start_time": "2022-06-04T19:01:33.106Z"
   },
   {
    "duration": 1389,
    "start_time": "2022-06-04T19:01:46.117Z"
   },
   {
    "duration": 30,
    "start_time": "2022-06-04T19:02:40.996Z"
   },
   {
    "duration": 4,
    "start_time": "2022-06-04T19:03:04.986Z"
   },
   {
    "duration": 164,
    "start_time": "2022-06-04T19:03:04.992Z"
   },
   {
    "duration": 136,
    "start_time": "2022-06-04T19:03:05.158Z"
   },
   {
    "duration": 126,
    "start_time": "2022-06-04T19:03:05.295Z"
   },
   {
    "duration": 18,
    "start_time": "2022-06-04T19:03:05.426Z"
   },
   {
    "duration": 16,
    "start_time": "2022-06-04T19:03:05.446Z"
   },
   {
    "duration": 14,
    "start_time": "2022-06-04T19:03:05.463Z"
   },
   {
    "duration": 90,
    "start_time": "2022-06-04T19:03:05.479Z"
   },
   {
    "duration": 62,
    "start_time": "2022-06-04T19:03:05.571Z"
   },
   {
    "duration": 48,
    "start_time": "2022-06-04T19:03:05.635Z"
   },
   {
    "duration": 18,
    "start_time": "2022-06-04T19:03:05.684Z"
   },
   {
    "duration": 36,
    "start_time": "2022-06-04T19:03:05.703Z"
   },
   {
    "duration": 17,
    "start_time": "2022-06-04T19:03:05.741Z"
   },
   {
    "duration": 411,
    "start_time": "2022-06-04T19:03:05.761Z"
   },
   {
    "duration": 652,
    "start_time": "2022-06-04T19:03:06.175Z"
   },
   {
    "duration": 330,
    "start_time": "2022-06-04T19:03:06.829Z"
   },
   {
    "duration": 14,
    "start_time": "2022-06-04T19:03:07.161Z"
   },
   {
    "duration": 20,
    "start_time": "2022-06-04T19:03:07.177Z"
   },
   {
    "duration": 38,
    "start_time": "2022-06-04T19:03:07.199Z"
   },
   {
    "duration": 17,
    "start_time": "2022-06-04T19:03:07.239Z"
   },
   {
    "duration": 72,
    "start_time": "2022-06-04T19:03:07.258Z"
   },
   {
    "duration": 96,
    "start_time": "2022-06-04T19:03:07.331Z"
   },
   {
    "duration": 14,
    "start_time": "2022-06-04T19:03:07.429Z"
   },
   {
    "duration": 106,
    "start_time": "2022-06-04T19:03:07.525Z"
   },
   {
    "duration": 5,
    "start_time": "2022-06-04T19:03:07.633Z"
   },
   {
    "duration": 4,
    "start_time": "2022-06-04T19:03:10.425Z"
   },
   {
    "duration": 18,
    "start_time": "2022-06-04T19:03:13.108Z"
   },
   {
    "duration": 4,
    "start_time": "2022-06-04T19:03:58.096Z"
   },
   {
    "duration": 1601,
    "start_time": "2022-06-04T19:04:02.086Z"
   },
   {
    "duration": 1556,
    "start_time": "2022-06-04T19:04:43.551Z"
   },
   {
    "duration": 1423,
    "start_time": "2022-06-04T19:05:40.909Z"
   },
   {
    "duration": 1603,
    "start_time": "2022-06-04T19:06:21.582Z"
   },
   {
    "duration": 3,
    "start_time": "2022-06-04T19:06:33.634Z"
   },
   {
    "duration": 188,
    "start_time": "2022-06-04T19:06:33.642Z"
   },
   {
    "duration": 137,
    "start_time": "2022-06-04T19:06:33.833Z"
   },
   {
    "duration": 126,
    "start_time": "2022-06-04T19:06:33.972Z"
   },
   {
    "duration": 25,
    "start_time": "2022-06-04T19:06:34.100Z"
   },
   {
    "duration": 18,
    "start_time": "2022-06-04T19:06:34.127Z"
   },
   {
    "duration": 16,
    "start_time": "2022-06-04T19:06:34.146Z"
   },
   {
    "duration": 72,
    "start_time": "2022-06-04T19:06:34.164Z"
   },
   {
    "duration": 43,
    "start_time": "2022-06-04T19:06:34.238Z"
   },
   {
    "duration": 71,
    "start_time": "2022-06-04T19:06:34.288Z"
   },
   {
    "duration": 23,
    "start_time": "2022-06-04T19:06:34.363Z"
   },
   {
    "duration": 37,
    "start_time": "2022-06-04T19:06:34.388Z"
   },
   {
    "duration": 20,
    "start_time": "2022-06-04T19:06:34.427Z"
   },
   {
    "duration": 466,
    "start_time": "2022-06-04T19:06:34.450Z"
   },
   {
    "duration": 368,
    "start_time": "2022-06-04T19:06:34.918Z"
   },
   {
    "duration": 400,
    "start_time": "2022-06-04T19:06:35.287Z"
   },
   {
    "duration": 19,
    "start_time": "2022-06-04T19:06:35.689Z"
   },
   {
    "duration": 26,
    "start_time": "2022-06-04T19:06:35.710Z"
   },
   {
    "duration": 17,
    "start_time": "2022-06-04T19:06:35.738Z"
   },
   {
    "duration": 19,
    "start_time": "2022-06-04T19:06:35.756Z"
   },
   {
    "duration": 57,
    "start_time": "2022-06-04T19:06:35.776Z"
   },
   {
    "duration": 106,
    "start_time": "2022-06-04T19:06:35.837Z"
   },
   {
    "duration": 135,
    "start_time": "2022-06-04T19:06:36.025Z"
   },
   {
    "duration": 168,
    "start_time": "2022-06-04T19:06:36.164Z"
   },
   {
    "duration": 5,
    "start_time": "2022-06-04T19:06:36.334Z"
   },
   {
    "duration": 5,
    "start_time": "2022-06-04T19:06:36.340Z"
   },
   {
    "duration": 1590,
    "start_time": "2022-06-04T19:06:36.348Z"
   },
   {
    "duration": 1466,
    "start_time": "2022-06-04T19:06:37.940Z"
   },
   {
    "duration": 1396,
    "start_time": "2022-06-04T19:06:39.410Z"
   },
   {
    "duration": 4,
    "start_time": "2022-06-04T19:07:45.207Z"
   },
   {
    "duration": 1584,
    "start_time": "2022-06-04T19:07:47.792Z"
   },
   {
    "duration": 4,
    "start_time": "2022-06-04T19:08:18.751Z"
   },
   {
    "duration": 4,
    "start_time": "2022-06-04T19:08:24.631Z"
   },
   {
    "duration": 1466,
    "start_time": "2022-06-04T19:08:26.798Z"
   },
   {
    "duration": 1538,
    "start_time": "2022-06-04T19:08:33.898Z"
   },
   {
    "duration": 1401,
    "start_time": "2022-06-04T19:08:38.520Z"
   },
   {
    "duration": 1411,
    "start_time": "2022-06-04T19:08:50.806Z"
   },
   {
    "duration": 3,
    "start_time": "2022-06-04T19:09:32.255Z"
   },
   {
    "duration": 166,
    "start_time": "2022-06-04T19:09:32.295Z"
   },
   {
    "duration": 136,
    "start_time": "2022-06-04T19:09:32.463Z"
   },
   {
    "duration": 141,
    "start_time": "2022-06-04T19:09:32.601Z"
   },
   {
    "duration": 17,
    "start_time": "2022-06-04T19:09:32.745Z"
   },
   {
    "duration": 14,
    "start_time": "2022-06-04T19:09:32.765Z"
   },
   {
    "duration": 14,
    "start_time": "2022-06-04T19:09:32.781Z"
   },
   {
    "duration": 82,
    "start_time": "2022-06-04T19:09:32.797Z"
   },
   {
    "duration": 75,
    "start_time": "2022-06-04T19:09:32.881Z"
   },
   {
    "duration": 45,
    "start_time": "2022-06-04T19:09:32.957Z"
   },
   {
    "duration": 34,
    "start_time": "2022-06-04T19:09:33.004Z"
   },
   {
    "duration": 18,
    "start_time": "2022-06-04T19:09:33.041Z"
   },
   {
    "duration": 16,
    "start_time": "2022-06-04T19:09:33.061Z"
   },
   {
    "duration": 432,
    "start_time": "2022-06-04T19:09:33.079Z"
   },
   {
    "duration": 381,
    "start_time": "2022-06-04T19:09:33.514Z"
   },
   {
    "duration": 379,
    "start_time": "2022-06-04T19:09:33.897Z"
   },
   {
    "duration": 22,
    "start_time": "2022-06-04T19:09:34.278Z"
   },
   {
    "duration": 32,
    "start_time": "2022-06-04T19:09:34.302Z"
   },
   {
    "duration": 21,
    "start_time": "2022-06-04T19:09:34.337Z"
   },
   {
    "duration": 18,
    "start_time": "2022-06-04T19:09:34.359Z"
   },
   {
    "duration": 83,
    "start_time": "2022-06-04T19:09:34.379Z"
   },
   {
    "duration": 132,
    "start_time": "2022-06-04T19:09:34.526Z"
   },
   {
    "duration": 106,
    "start_time": "2022-06-04T19:09:34.725Z"
   },
   {
    "duration": 92,
    "start_time": "2022-06-04T19:09:34.837Z"
   },
   {
    "duration": 35,
    "start_time": "2022-06-04T19:09:34.932Z"
   },
   {
    "duration": 20,
    "start_time": "2022-06-04T19:09:34.970Z"
   },
   {
    "duration": 1725,
    "start_time": "2022-06-04T19:09:34.993Z"
   },
   {
    "duration": 1761,
    "start_time": "2022-06-04T19:09:36.724Z"
   },
   {
    "duration": 1812,
    "start_time": "2022-06-04T19:09:38.487Z"
   },
   {
    "duration": 1599,
    "start_time": "2022-06-04T19:10:55.894Z"
   },
   {
    "duration": 1600,
    "start_time": "2022-06-04T19:11:10.423Z"
   },
   {
    "duration": 3,
    "start_time": "2022-06-04T19:11:45.291Z"
   },
   {
    "duration": 180,
    "start_time": "2022-06-04T19:11:45.296Z"
   },
   {
    "duration": 155,
    "start_time": "2022-06-04T19:11:45.480Z"
   },
   {
    "duration": 168,
    "start_time": "2022-06-04T19:11:45.636Z"
   },
   {
    "duration": 19,
    "start_time": "2022-06-04T19:11:45.807Z"
   },
   {
    "duration": 23,
    "start_time": "2022-06-04T19:11:45.828Z"
   },
   {
    "duration": 23,
    "start_time": "2022-06-04T19:11:45.854Z"
   },
   {
    "duration": 90,
    "start_time": "2022-06-04T19:11:45.879Z"
   },
   {
    "duration": 74,
    "start_time": "2022-06-04T19:11:45.972Z"
   },
   {
    "duration": 47,
    "start_time": "2022-06-04T19:11:46.048Z"
   },
   {
    "duration": 42,
    "start_time": "2022-06-04T19:11:46.098Z"
   },
   {
    "duration": 21,
    "start_time": "2022-06-04T19:11:46.142Z"
   },
   {
    "duration": 20,
    "start_time": "2022-06-04T19:11:46.165Z"
   },
   {
    "duration": 385,
    "start_time": "2022-06-04T19:11:46.188Z"
   },
   {
    "duration": 374,
    "start_time": "2022-06-04T19:11:46.576Z"
   },
   {
    "duration": 479,
    "start_time": "2022-06-04T19:11:46.951Z"
   },
   {
    "duration": 21,
    "start_time": "2022-06-04T19:11:47.432Z"
   },
   {
    "duration": 20,
    "start_time": "2022-06-04T19:11:47.456Z"
   },
   {
    "duration": 18,
    "start_time": "2022-06-04T19:11:47.478Z"
   },
   {
    "duration": 46,
    "start_time": "2022-06-04T19:11:47.498Z"
   },
   {
    "duration": 83,
    "start_time": "2022-06-04T19:11:47.546Z"
   },
   {
    "duration": 124,
    "start_time": "2022-06-04T19:11:47.641Z"
   },
   {
    "duration": 129,
    "start_time": "2022-06-04T19:11:47.828Z"
   },
   {
    "duration": 188,
    "start_time": "2022-06-04T19:11:47.959Z"
   },
   {
    "duration": 6,
    "start_time": "2022-06-04T19:11:48.149Z"
   },
   {
    "duration": 6,
    "start_time": "2022-06-04T19:11:48.156Z"
   },
   {
    "duration": 1580,
    "start_time": "2022-06-04T19:11:48.164Z"
   },
   {
    "duration": 1637,
    "start_time": "2022-06-04T19:11:49.746Z"
   },
   {
    "duration": 1608,
    "start_time": "2022-06-04T19:11:51.385Z"
   },
   {
    "duration": 1623,
    "start_time": "2022-06-04T19:12:53.139Z"
   },
   {
    "duration": 1517,
    "start_time": "2022-06-04T19:12:58.589Z"
   },
   {
    "duration": 1683,
    "start_time": "2022-06-04T19:14:29.742Z"
   },
   {
    "duration": 1667,
    "start_time": "2022-06-04T19:14:38.987Z"
   },
   {
    "duration": 4,
    "start_time": "2022-06-04T19:14:53.013Z"
   },
   {
    "duration": 189,
    "start_time": "2022-06-04T19:14:53.023Z"
   },
   {
    "duration": 155,
    "start_time": "2022-06-04T19:14:53.215Z"
   },
   {
    "duration": 187,
    "start_time": "2022-06-04T19:14:53.372Z"
   },
   {
    "duration": 25,
    "start_time": "2022-06-04T19:14:53.561Z"
   },
   {
    "duration": 25,
    "start_time": "2022-06-04T19:14:53.589Z"
   },
   {
    "duration": 29,
    "start_time": "2022-06-04T19:14:53.626Z"
   },
   {
    "duration": 56,
    "start_time": "2022-06-04T19:14:53.657Z"
   },
   {
    "duration": 73,
    "start_time": "2022-06-04T19:14:53.715Z"
   },
   {
    "duration": 70,
    "start_time": "2022-06-04T19:14:53.790Z"
   },
   {
    "duration": 22,
    "start_time": "2022-06-04T19:14:53.862Z"
   },
   {
    "duration": 20,
    "start_time": "2022-06-04T19:14:53.887Z"
   },
   {
    "duration": 26,
    "start_time": "2022-06-04T19:14:53.927Z"
   },
   {
    "duration": 387,
    "start_time": "2022-06-04T19:14:53.956Z"
   },
   {
    "duration": 336,
    "start_time": "2022-06-04T19:14:54.350Z"
   },
   {
    "duration": 428,
    "start_time": "2022-06-04T19:14:54.690Z"
   },
   {
    "duration": 17,
    "start_time": "2022-06-04T19:14:55.120Z"
   },
   {
    "duration": 39,
    "start_time": "2022-06-04T19:14:55.139Z"
   },
   {
    "duration": 43,
    "start_time": "2022-06-04T19:14:55.180Z"
   },
   {
    "duration": 53,
    "start_time": "2022-06-04T19:14:55.225Z"
   },
   {
    "duration": 46,
    "start_time": "2022-06-04T19:14:55.281Z"
   },
   {
    "duration": 100,
    "start_time": "2022-06-04T19:14:55.329Z"
   },
   {
    "duration": 145,
    "start_time": "2022-06-04T19:14:55.433Z"
   },
   {
    "duration": 103,
    "start_time": "2022-06-04T19:14:55.626Z"
   },
   {
    "duration": 28,
    "start_time": "2022-06-04T19:14:55.730Z"
   },
   {
    "duration": 17,
    "start_time": "2022-06-04T19:14:55.760Z"
   },
   {
    "duration": 1712,
    "start_time": "2022-06-04T19:14:55.779Z"
   },
   {
    "duration": 1829,
    "start_time": "2022-06-04T19:14:57.494Z"
   },
   {
    "duration": 1662,
    "start_time": "2022-06-04T19:14:59.326Z"
   },
   {
    "duration": 1812,
    "start_time": "2022-06-04T19:16:25.987Z"
   },
   {
    "duration": 32,
    "start_time": "2022-06-04T19:23:31.747Z"
   },
   {
    "duration": 1576,
    "start_time": "2022-06-04T19:23:47.611Z"
   },
   {
    "duration": 1469,
    "start_time": "2022-06-04T19:23:59.656Z"
   },
   {
    "duration": 1466,
    "start_time": "2022-06-04T19:24:29.587Z"
   },
   {
    "duration": 1809,
    "start_time": "2022-06-04T19:25:10.976Z"
   },
   {
    "duration": 4,
    "start_time": "2022-06-04T19:25:20.610Z"
   },
   {
    "duration": 177,
    "start_time": "2022-06-04T19:25:20.617Z"
   },
   {
    "duration": 167,
    "start_time": "2022-06-04T19:25:20.796Z"
   },
   {
    "duration": 188,
    "start_time": "2022-06-04T19:25:20.966Z"
   },
   {
    "duration": 24,
    "start_time": "2022-06-04T19:25:21.156Z"
   },
   {
    "duration": 21,
    "start_time": "2022-06-04T19:25:21.183Z"
   },
   {
    "duration": 34,
    "start_time": "2022-06-04T19:25:21.206Z"
   },
   {
    "duration": 87,
    "start_time": "2022-06-04T19:25:21.242Z"
   },
   {
    "duration": 62,
    "start_time": "2022-06-04T19:25:21.333Z"
   },
   {
    "duration": 80,
    "start_time": "2022-06-04T19:25:21.397Z"
   },
   {
    "duration": 24,
    "start_time": "2022-06-04T19:25:21.479Z"
   },
   {
    "duration": 41,
    "start_time": "2022-06-04T19:25:21.505Z"
   },
   {
    "duration": 44,
    "start_time": "2022-06-04T19:25:21.551Z"
   },
   {
    "duration": 401,
    "start_time": "2022-06-04T19:25:21.599Z"
   },
   {
    "duration": 382,
    "start_time": "2022-06-04T19:25:22.003Z"
   },
   {
    "duration": 418,
    "start_time": "2022-06-04T19:25:22.387Z"
   },
   {
    "duration": 19,
    "start_time": "2022-06-04T19:25:22.807Z"
   },
   {
    "duration": 44,
    "start_time": "2022-06-04T19:25:22.828Z"
   },
   {
    "duration": 16,
    "start_time": "2022-06-04T19:25:22.875Z"
   },
   {
    "duration": 19,
    "start_time": "2022-06-04T19:25:22.893Z"
   },
   {
    "duration": 44,
    "start_time": "2022-06-04T19:25:22.914Z"
   },
   {
    "duration": 176,
    "start_time": "2022-06-04T19:25:22.963Z"
   },
   {
    "duration": 93,
    "start_time": "2022-06-04T19:25:23.141Z"
   },
   {
    "duration": 112,
    "start_time": "2022-06-04T19:25:23.252Z"
   },
   {
    "duration": 9,
    "start_time": "2022-06-04T19:25:23.367Z"
   },
   {
    "duration": 8,
    "start_time": "2022-06-04T19:25:23.378Z"
   },
   {
    "duration": 1888,
    "start_time": "2022-06-04T19:25:23.388Z"
   },
   {
    "duration": 2030,
    "start_time": "2022-06-04T19:25:25.279Z"
   },
   {
    "duration": 1679,
    "start_time": "2022-06-04T19:25:27.313Z"
   },
   {
    "duration": 1467,
    "start_time": "2022-06-05T15:38:17.812Z"
   },
   {
    "duration": 527,
    "start_time": "2022-06-05T15:38:19.283Z"
   },
   {
    "duration": 966,
    "start_time": "2022-06-05T15:38:19.812Z"
   },
   {
    "duration": 539,
    "start_time": "2022-06-05T15:38:20.781Z"
   },
   {
    "duration": 22,
    "start_time": "2022-06-05T15:38:21.322Z"
   },
   {
    "duration": 15,
    "start_time": "2022-06-05T15:38:21.346Z"
   },
   {
    "duration": 14,
    "start_time": "2022-06-05T15:38:21.362Z"
   },
   {
    "duration": 72,
    "start_time": "2022-06-05T15:38:21.377Z"
   },
   {
    "duration": 46,
    "start_time": "2022-06-05T15:38:21.450Z"
   },
   {
    "duration": 46,
    "start_time": "2022-06-05T15:38:27.794Z"
   },
   {
    "duration": 807,
    "start_time": "2022-06-05T15:39:15.440Z"
   },
   {
    "duration": 836,
    "start_time": "2022-06-05T15:40:06.910Z"
   },
   {
    "duration": 243,
    "start_time": "2022-06-05T15:53:33.939Z"
   },
   {
    "duration": 208,
    "start_time": "2022-06-05T15:53:45.493Z"
   },
   {
    "duration": 3,
    "start_time": "2022-06-05T15:55:51.980Z"
   },
   {
    "duration": 245,
    "start_time": "2022-06-05T15:56:13.226Z"
   },
   {
    "duration": 225,
    "start_time": "2022-06-05T15:56:23.462Z"
   },
   {
    "duration": 153,
    "start_time": "2022-06-05T15:59:01.228Z"
   },
   {
    "duration": 82,
    "start_time": "2022-06-05T15:59:23.324Z"
   },
   {
    "duration": 102,
    "start_time": "2022-06-05T15:59:31.855Z"
   },
   {
    "duration": 404,
    "start_time": "2022-06-05T15:59:37.892Z"
   },
   {
    "duration": 1186,
    "start_time": "2022-06-05T16:00:07.605Z"
   },
   {
    "duration": 270,
    "start_time": "2022-06-05T16:00:42.850Z"
   },
   {
    "duration": 259,
    "start_time": "2022-06-05T16:00:59.708Z"
   },
   {
    "duration": 275,
    "start_time": "2022-06-05T16:01:04.548Z"
   },
   {
    "duration": 317,
    "start_time": "2022-06-05T16:01:31.897Z"
   },
   {
    "duration": 283,
    "start_time": "2022-06-05T16:01:42.411Z"
   },
   {
    "duration": 242,
    "start_time": "2022-06-05T16:03:07.954Z"
   },
   {
    "duration": 221,
    "start_time": "2022-06-05T16:03:19.281Z"
   },
   {
    "duration": 3,
    "start_time": "2022-06-05T16:04:23.296Z"
   },
   {
    "duration": 3,
    "start_time": "2022-06-05T16:04:42.254Z"
   },
   {
    "duration": 834,
    "start_time": "2022-06-05T16:05:04.087Z"
   },
   {
    "duration": 4,
    "start_time": "2022-06-05T16:05:26.585Z"
   },
   {
    "duration": 781,
    "start_time": "2022-06-05T16:05:28.503Z"
   },
   {
    "duration": 10,
    "start_time": "2022-06-05T16:05:35.426Z"
   },
   {
    "duration": 725,
    "start_time": "2022-06-05T16:05:38.980Z"
   },
   {
    "duration": 4,
    "start_time": "2022-06-05T16:06:24.088Z"
   },
   {
    "duration": 8,
    "start_time": "2022-06-05T16:08:53.098Z"
   },
   {
    "duration": 2,
    "start_time": "2022-06-05T16:08:59.001Z"
   },
   {
    "duration": 31,
    "start_time": "2022-06-05T16:15:22.186Z"
   },
   {
    "duration": 33,
    "start_time": "2022-06-05T16:15:40.353Z"
   },
   {
    "duration": 74,
    "start_time": "2022-06-05T16:16:22.682Z"
   },
   {
    "duration": 18,
    "start_time": "2022-06-05T16:16:43.136Z"
   },
   {
    "duration": 22,
    "start_time": "2022-06-05T16:16:49.821Z"
   },
   {
    "duration": 77,
    "start_time": "2022-06-05T16:23:20.027Z"
   },
   {
    "duration": 55,
    "start_time": "2022-06-05T16:26:19.865Z"
   },
   {
    "duration": 27,
    "start_time": "2022-06-05T16:26:31.397Z"
   },
   {
    "duration": 39,
    "start_time": "2022-06-05T16:26:34.215Z"
   },
   {
    "duration": 3,
    "start_time": "2022-06-05T16:33:11.260Z"
   },
   {
    "duration": 64,
    "start_time": "2022-06-05T16:35:42.654Z"
   },
   {
    "duration": 3,
    "start_time": "2022-06-05T16:35:57.919Z"
   },
   {
    "duration": 35,
    "start_time": "2022-06-05T16:41:03.662Z"
   },
   {
    "duration": 10,
    "start_time": "2022-06-05T16:41:10.777Z"
   },
   {
    "duration": 3,
    "start_time": "2022-06-05T16:42:05.407Z"
   },
   {
    "duration": 20,
    "start_time": "2022-06-05T16:42:28.014Z"
   },
   {
    "duration": 17,
    "start_time": "2022-06-05T16:43:43.103Z"
   },
   {
    "duration": 15,
    "start_time": "2022-06-05T16:43:50.668Z"
   },
   {
    "duration": 15,
    "start_time": "2022-06-05T16:44:05.490Z"
   },
   {
    "duration": 4,
    "start_time": "2022-06-05T16:44:12.398Z"
   },
   {
    "duration": 29,
    "start_time": "2022-06-05T16:44:14.115Z"
   },
   {
    "duration": 8,
    "start_time": "2022-06-05T16:44:24.740Z"
   },
   {
    "duration": 6,
    "start_time": "2022-06-05T16:44:26.555Z"
   },
   {
    "duration": 74,
    "start_time": "2022-06-05T16:44:28.698Z"
   },
   {
    "duration": 3,
    "start_time": "2022-06-05T16:44:53.009Z"
   },
   {
    "duration": 54,
    "start_time": "2022-06-05T16:44:56.163Z"
   },
   {
    "duration": 4,
    "start_time": "2022-06-05T16:47:09.854Z"
   },
   {
    "duration": 20,
    "start_time": "2022-06-05T16:47:12.624Z"
   },
   {
    "duration": 38,
    "start_time": "2022-06-05T16:47:23.166Z"
   },
   {
    "duration": 14,
    "start_time": "2022-06-05T16:48:47.157Z"
   },
   {
    "duration": 31,
    "start_time": "2022-06-05T16:48:58.950Z"
   },
   {
    "duration": 9,
    "start_time": "2022-06-05T16:49:16.813Z"
   },
   {
    "duration": 8,
    "start_time": "2022-06-05T16:49:29.511Z"
   },
   {
    "duration": 34,
    "start_time": "2022-06-05T16:49:39.362Z"
   },
   {
    "duration": 3,
    "start_time": "2022-06-05T16:50:15.208Z"
   },
   {
    "duration": 37,
    "start_time": "2022-06-05T16:50:21.358Z"
   },
   {
    "duration": 4,
    "start_time": "2022-06-05T16:55:24.409Z"
   },
   {
    "duration": 39,
    "start_time": "2022-06-05T16:55:26.778Z"
   },
   {
    "duration": 4,
    "start_time": "2022-06-05T16:55:46.564Z"
   },
   {
    "duration": 51,
    "start_time": "2022-06-05T16:55:49.391Z"
   },
   {
    "duration": 4,
    "start_time": "2022-06-05T16:56:03.668Z"
   },
   {
    "duration": 55,
    "start_time": "2022-06-05T16:56:06.630Z"
   },
   {
    "duration": 3,
    "start_time": "2022-06-05T16:58:32.254Z"
   },
   {
    "duration": 139,
    "start_time": "2022-06-05T16:58:32.259Z"
   },
   {
    "duration": 128,
    "start_time": "2022-06-05T16:58:32.400Z"
   },
   {
    "duration": 129,
    "start_time": "2022-06-05T16:58:32.538Z"
   },
   {
    "duration": 4,
    "start_time": "2022-06-05T16:58:32.669Z"
   },
   {
    "duration": 271,
    "start_time": "2022-06-05T16:58:32.674Z"
   },
   {
    "duration": 3,
    "start_time": "2022-06-05T16:58:32.947Z"
   },
   {
    "duration": 730,
    "start_time": "2022-06-05T16:58:32.952Z"
   },
   {
    "duration": 408,
    "start_time": "2022-06-05T16:58:33.686Z"
   },
   {
    "duration": 334,
    "start_time": "2022-06-05T16:58:34.095Z"
   },
   {
    "duration": 513,
    "start_time": "2022-06-05T16:58:34.432Z"
   },
   {
    "duration": 13,
    "start_time": "2022-06-05T16:58:42.067Z"
   },
   {
    "duration": 7,
    "start_time": "2022-06-05T16:58:49.369Z"
   },
   {
    "duration": 14,
    "start_time": "2022-06-05T16:58:52.599Z"
   },
   {
    "duration": 7,
    "start_time": "2022-06-05T16:59:00.523Z"
   },
   {
    "duration": 12,
    "start_time": "2022-06-05T16:59:02.459Z"
   },
   {
    "duration": 3,
    "start_time": "2022-06-05T16:59:13.775Z"
   },
   {
    "duration": 4,
    "start_time": "2022-06-05T16:59:15.303Z"
   },
   {
    "duration": 3,
    "start_time": "2022-06-05T16:59:16.763Z"
   },
   {
    "duration": 34,
    "start_time": "2022-06-05T16:59:20.504Z"
   },
   {
    "duration": 6,
    "start_time": "2022-06-05T16:59:30.252Z"
   },
   {
    "duration": 184,
    "start_time": "2022-06-05T16:59:30.260Z"
   },
   {
    "duration": 148,
    "start_time": "2022-06-05T16:59:30.447Z"
   },
   {
    "duration": 149,
    "start_time": "2022-06-05T16:59:30.597Z"
   },
   {
    "duration": 3,
    "start_time": "2022-06-05T16:59:30.749Z"
   },
   {
    "duration": 293,
    "start_time": "2022-06-05T16:59:30.754Z"
   },
   {
    "duration": 7,
    "start_time": "2022-06-05T16:59:31.049Z"
   },
   {
    "duration": 795,
    "start_time": "2022-06-05T16:59:31.058Z"
   },
   {
    "duration": 344,
    "start_time": "2022-06-05T16:59:31.858Z"
   },
   {
    "duration": 335,
    "start_time": "2022-06-05T16:59:32.204Z"
   },
   {
    "duration": 321,
    "start_time": "2022-06-05T16:59:32.542Z"
   },
   {
    "duration": 8,
    "start_time": "2022-06-05T16:59:32.865Z"
   },
   {
    "duration": 6,
    "start_time": "2022-06-05T16:59:32.875Z"
   },
   {
    "duration": 14,
    "start_time": "2022-06-05T16:59:32.884Z"
   },
   {
    "duration": 6,
    "start_time": "2022-06-05T16:59:32.900Z"
   },
   {
    "duration": 51,
    "start_time": "2022-06-05T16:59:34.642Z"
   },
   {
    "duration": 4,
    "start_time": "2022-06-05T17:00:58.858Z"
   },
   {
    "duration": 4,
    "start_time": "2022-06-05T17:01:01.086Z"
   },
   {
    "duration": 103,
    "start_time": "2022-06-05T17:01:06.347Z"
   },
   {
    "duration": 4,
    "start_time": "2022-06-05T17:39:28.222Z"
   },
   {
    "duration": 119,
    "start_time": "2022-06-05T17:39:31.318Z"
   },
   {
    "duration": 4,
    "start_time": "2022-06-05T17:39:51.512Z"
   },
   {
    "duration": 36,
    "start_time": "2022-06-05T17:39:55.525Z"
   },
   {
    "duration": 30,
    "start_time": "2022-06-05T17:40:10.232Z"
   },
   {
    "duration": 57,
    "start_time": "2022-06-05T17:40:21.971Z"
   },
   {
    "duration": 3,
    "start_time": "2022-06-05T18:53:06.915Z"
   },
   {
    "duration": 4,
    "start_time": "2022-06-05T18:53:16.528Z"
   },
   {
    "duration": 5,
    "start_time": "2022-06-05T18:53:35.398Z"
   },
   {
    "duration": 3,
    "start_time": "2022-06-05T18:53:47.824Z"
   },
   {
    "duration": 6,
    "start_time": "2022-06-05T18:53:54.658Z"
   },
   {
    "duration": 4,
    "start_time": "2022-06-05T18:54:36.880Z"
   },
   {
    "duration": 4,
    "start_time": "2022-06-05T18:54:44.590Z"
   },
   {
    "duration": 39,
    "start_time": "2022-06-05T18:54:57.580Z"
   },
   {
    "duration": 3,
    "start_time": "2022-06-05T18:55:02.153Z"
   },
   {
    "duration": 5,
    "start_time": "2022-06-05T18:55:47.614Z"
   },
   {
    "duration": 4,
    "start_time": "2022-06-05T18:55:52.472Z"
   },
   {
    "duration": 217,
    "start_time": "2022-06-05T18:55:52.479Z"
   },
   {
    "duration": 165,
    "start_time": "2022-06-05T18:55:52.698Z"
   },
   {
    "duration": 173,
    "start_time": "2022-06-05T18:55:52.864Z"
   },
   {
    "duration": 3,
    "start_time": "2022-06-05T18:55:53.043Z"
   },
   {
    "duration": 341,
    "start_time": "2022-06-05T18:55:53.051Z"
   },
   {
    "duration": 3,
    "start_time": "2022-06-05T18:55:53.394Z"
   },
   {
    "duration": 869,
    "start_time": "2022-06-05T18:55:53.398Z"
   },
   {
    "duration": 343,
    "start_time": "2022-06-05T18:55:54.269Z"
   },
   {
    "duration": 461,
    "start_time": "2022-06-05T18:55:54.614Z"
   },
   {
    "duration": 413,
    "start_time": "2022-06-05T18:55:55.079Z"
   },
   {
    "duration": 7,
    "start_time": "2022-06-05T18:55:55.494Z"
   },
   {
    "duration": 5,
    "start_time": "2022-06-05T18:55:55.503Z"
   },
   {
    "duration": 19,
    "start_time": "2022-06-05T18:55:55.510Z"
   },
   {
    "duration": 11,
    "start_time": "2022-06-05T18:55:55.538Z"
   },
   {
    "duration": 97,
    "start_time": "2022-06-05T18:55:55.552Z"
   },
   {
    "duration": 136,
    "start_time": "2022-06-05T18:55:55.654Z"
   },
   {
    "duration": 183,
    "start_time": "2022-06-05T18:55:55.850Z"
   },
   {
    "duration": 2,
    "start_time": "2022-06-05T18:55:56.035Z"
   },
   {
    "duration": 143,
    "start_time": "2022-06-05T18:55:56.039Z"
   },
   {
    "duration": 10,
    "start_time": "2022-06-05T18:55:56.183Z"
   },
   {
    "duration": 5,
    "start_time": "2022-06-05T18:55:56.195Z"
   },
   {
    "duration": 6,
    "start_time": "2022-06-05T18:55:56.202Z"
   },
   {
    "duration": 5,
    "start_time": "2022-06-05T18:55:56.210Z"
   },
   {
    "duration": 9,
    "start_time": "2022-06-05T18:55:56.216Z"
   },
   {
    "duration": 6,
    "start_time": "2022-06-05T19:00:11.551Z"
   },
   {
    "duration": 6,
    "start_time": "2022-06-05T19:10:22.215Z"
   },
   {
    "duration": 7,
    "start_time": "2022-06-05T19:10:50.068Z"
   },
   {
    "duration": 153,
    "start_time": "2022-06-05T19:11:55.386Z"
   },
   {
    "duration": 131,
    "start_time": "2022-06-05T19:12:12.667Z"
   },
   {
    "duration": 1812,
    "start_time": "2022-06-05T19:12:15.691Z"
   },
   {
    "duration": 8,
    "start_time": "2022-06-05T19:12:58.860Z"
   },
   {
    "duration": 1981,
    "start_time": "2022-06-05T19:13:02.611Z"
   },
   {
    "duration": 5,
    "start_time": "2022-06-05T19:13:45.618Z"
   },
   {
    "duration": 1721,
    "start_time": "2022-06-05T19:13:48.192Z"
   },
   {
    "duration": 5,
    "start_time": "2022-06-05T19:14:06.120Z"
   },
   {
    "duration": 1992,
    "start_time": "2022-06-05T19:14:12.122Z"
   },
   {
    "duration": 1943,
    "start_time": "2022-06-05T19:14:30.395Z"
   },
   {
    "duration": 1735,
    "start_time": "2022-06-05T19:14:44.516Z"
   },
   {
    "duration": 10,
    "start_time": "2022-06-05T19:15:28.455Z"
   },
   {
    "duration": 3,
    "start_time": "2022-06-05T19:15:48.400Z"
   },
   {
    "duration": 3,
    "start_time": "2022-06-05T19:16:07.190Z"
   },
   {
    "duration": 4,
    "start_time": "2022-06-05T19:25:34.411Z"
   },
   {
    "duration": 204,
    "start_time": "2022-06-05T19:25:34.449Z"
   },
   {
    "duration": 211,
    "start_time": "2022-06-05T19:25:34.655Z"
   },
   {
    "duration": 214,
    "start_time": "2022-06-05T19:25:34.869Z"
   },
   {
    "duration": 8,
    "start_time": "2022-06-05T19:25:35.094Z"
   },
   {
    "duration": 323,
    "start_time": "2022-06-05T19:25:35.105Z"
   },
   {
    "duration": 3,
    "start_time": "2022-06-05T19:25:35.439Z"
   },
   {
    "duration": 873,
    "start_time": "2022-06-05T19:25:35.446Z"
   },
   {
    "duration": 339,
    "start_time": "2022-06-05T19:25:36.320Z"
   },
   {
    "duration": 317,
    "start_time": "2022-06-05T19:25:36.664Z"
   },
   {
    "duration": 327,
    "start_time": "2022-06-05T19:25:36.985Z"
   },
   {
    "duration": 7,
    "start_time": "2022-06-05T19:25:37.313Z"
   },
   {
    "duration": 4,
    "start_time": "2022-06-05T19:25:37.328Z"
   },
   {
    "duration": 62,
    "start_time": "2022-06-05T19:25:37.333Z"
   },
   {
    "duration": 7,
    "start_time": "2022-06-05T19:25:37.398Z"
   },
   {
    "duration": 32,
    "start_time": "2022-06-05T19:25:37.406Z"
   },
   {
    "duration": 205,
    "start_time": "2022-06-05T19:25:37.440Z"
   },
   {
    "duration": 104,
    "start_time": "2022-06-05T19:25:37.647Z"
   },
   {
    "duration": 7,
    "start_time": "2022-06-05T19:25:37.765Z"
   },
   {
    "duration": 112,
    "start_time": "2022-06-05T19:25:37.776Z"
   },
   {
    "duration": 15,
    "start_time": "2022-06-05T19:25:37.890Z"
   },
   {
    "duration": 7,
    "start_time": "2022-06-05T19:25:37.906Z"
   },
   {
    "duration": 7,
    "start_time": "2022-06-05T19:25:37.914Z"
   },
   {
    "duration": 8,
    "start_time": "2022-06-05T19:25:37.922Z"
   },
   {
    "duration": 64,
    "start_time": "2022-06-05T19:25:37.933Z"
   },
   {
    "duration": 6,
    "start_time": "2022-06-05T19:25:38.000Z"
   },
   {
    "duration": 28,
    "start_time": "2022-06-05T19:25:38.009Z"
   },
   {
    "duration": 1886,
    "start_time": "2022-06-05T19:25:38.039Z"
   },
   {
    "duration": 1866,
    "start_time": "2022-06-05T19:25:39.927Z"
   },
   {
    "duration": 1787,
    "start_time": "2022-06-05T19:25:41.796Z"
   },
   {
    "duration": 3,
    "start_time": "2022-06-05T19:25:43.585Z"
   },
   {
    "duration": 3,
    "start_time": "2022-06-05T19:25:43.589Z"
   },
   {
    "duration": 14,
    "start_time": "2022-06-05T19:25:43.596Z"
   },
   {
    "duration": 5,
    "start_time": "2022-06-05T19:25:43.611Z"
   },
   {
    "duration": 5,
    "start_time": "2022-06-05T19:30:53.792Z"
   },
   {
    "duration": 77,
    "start_time": "2022-06-05T19:30:56.558Z"
   },
   {
    "duration": 53,
    "start_time": "2022-06-05T19:31:02.953Z"
   },
   {
    "duration": 8,
    "start_time": "2022-06-05T19:31:09.079Z"
   },
   {
    "duration": 33,
    "start_time": "2022-06-05T19:31:12.670Z"
   },
   {
    "duration": 7,
    "start_time": "2022-06-05T19:31:16.456Z"
   },
   {
    "duration": 179,
    "start_time": "2022-06-05T19:31:16.472Z"
   },
   {
    "duration": 152,
    "start_time": "2022-06-05T19:31:16.655Z"
   },
   {
    "duration": 158,
    "start_time": "2022-06-05T19:31:16.809Z"
   },
   {
    "duration": 7,
    "start_time": "2022-06-05T19:31:16.969Z"
   },
   {
    "duration": 293,
    "start_time": "2022-06-05T19:31:16.978Z"
   },
   {
    "duration": 3,
    "start_time": "2022-06-05T19:31:17.272Z"
   },
   {
    "duration": 813,
    "start_time": "2022-06-05T19:31:17.277Z"
   },
   {
    "duration": 376,
    "start_time": "2022-06-05T19:31:18.096Z"
   },
   {
    "duration": 299,
    "start_time": "2022-06-05T19:31:18.480Z"
   },
   {
    "duration": 349,
    "start_time": "2022-06-05T19:31:18.780Z"
   },
   {
    "duration": 13,
    "start_time": "2022-06-05T19:31:19.146Z"
   },
   {
    "duration": 11,
    "start_time": "2022-06-05T19:31:19.160Z"
   },
   {
    "duration": 5,
    "start_time": "2022-06-05T19:31:19.174Z"
   },
   {
    "duration": 6,
    "start_time": "2022-06-05T19:31:19.181Z"
   },
   {
    "duration": 48,
    "start_time": "2022-06-05T19:31:19.188Z"
   },
   {
    "duration": 117,
    "start_time": "2022-06-05T19:31:19.237Z"
   },
   {
    "duration": 107,
    "start_time": "2022-06-05T19:31:19.356Z"
   },
   {
    "duration": 54,
    "start_time": "2022-06-05T19:31:19.476Z"
   },
   {
    "duration": 149,
    "start_time": "2022-06-05T19:31:19.532Z"
   },
   {
    "duration": 7,
    "start_time": "2022-06-05T19:31:19.683Z"
   },
   {
    "duration": 12,
    "start_time": "2022-06-05T19:31:19.691Z"
   },
   {
    "duration": 15,
    "start_time": "2022-06-05T19:31:19.705Z"
   },
   {
    "duration": 37,
    "start_time": "2022-06-05T19:31:19.722Z"
   },
   {
    "duration": 151,
    "start_time": "2022-06-05T19:31:19.761Z"
   },
   {
    "duration": 4,
    "start_time": "2022-06-05T19:31:19.915Z"
   },
   {
    "duration": 15,
    "start_time": "2022-06-05T19:31:19.921Z"
   },
   {
    "duration": 1817,
    "start_time": "2022-06-05T19:31:19.939Z"
   },
   {
    "duration": 1684,
    "start_time": "2022-06-05T19:31:21.759Z"
   },
   {
    "duration": 1831,
    "start_time": "2022-06-05T19:31:23.444Z"
   },
   {
    "duration": 3,
    "start_time": "2022-06-05T19:31:25.280Z"
   },
   {
    "duration": 68,
    "start_time": "2022-06-05T19:31:25.284Z"
   },
   {
    "duration": 43,
    "start_time": "2022-06-05T19:31:25.354Z"
   },
   {
    "duration": 11,
    "start_time": "2022-06-05T19:31:25.399Z"
   }
  ],
  "kernelspec": {
   "display_name": "Python 3 (ipykernel)",
   "language": "python",
   "name": "python3"
  },
  "language_info": {
   "codemirror_mode": {
    "name": "ipython",
    "version": 3
   },
   "file_extension": ".py",
   "mimetype": "text/x-python",
   "name": "python",
   "nbconvert_exporter": "python",
   "pygments_lexer": "ipython3",
   "version": "3.8.0"
  },
  "toc": {
   "base_numbering": 1,
   "nav_menu": {},
   "number_sections": true,
   "sideBar": true,
   "skip_h1_title": true,
   "title_cell": "Table of Contents",
   "title_sidebar": "Contents",
   "toc_cell": false,
   "toc_position": {},
   "toc_section_display": true,
   "toc_window_display": false
  }
 },
 "nbformat": 4,
 "nbformat_minor": 2
}
