{
 "cells": [
  {
   "cell_type": "markdown",
   "metadata": {},
   "source": [
    "# Проект для «Викишоп»"
   ]
  },
  {
   "cell_type": "markdown",
   "metadata": {},
   "source": [
    "Интернет-магазин «Викишоп» запускает новый сервис. Теперь пользователи могут редактировать и дополнять описания товаров, как в вики-сообществах. То есть клиенты предлагают свои правки и комментируют изменения других. Магазину нужен инструмент, который будет искать токсичные комментарии и отправлять их на модерацию. \n",
    "\n",
    "Обучите модель классифицировать комментарии на позитивные и негативные. В вашем распоряжении набор данных с разметкой о токсичности правок.\n",
    "\n",
    "Постройте модель со значением метрики качества *F1* не меньше 0.75. \n",
    "\n",
    "**Инструкция по выполнению проекта**\n",
    "\n",
    "1. Загрузите и подготовьте данные.\n",
    "2. Обучите разные модели. \n",
    "3. Сделайте выводы.\n",
    "\n",
    "Для выполнения проекта применять *BERT* необязательно, но вы можете попробовать.\n",
    "\n",
    "**Описание данных**\n",
    "\n",
    "Данные находятся в файле `toxic_comments.csv`. Столбец *text* в нём содержит текст комментария, а *toxic* — целевой признак."
   ]
  },
  {
   "cell_type": "markdown",
   "metadata": {},
   "source": [
    "## Загрузим и подготовим данные"
   ]
  },
  {
   "cell_type": "code",
   "execution_count": 341,
   "metadata": {},
   "outputs": [],
   "source": [
    "import time\n",
    "import pandas as pd\n",
    "import numpy as np\n",
    "import re\n",
    "\n",
    "import matplotlib.pyplot as plt\n",
    "import seaborn as sns\n",
    "\n",
    "\n",
    "from sklearn.model_selection import train_test_split, GridSearchCV, KFold\n",
    "from sklearn.metrics import f1_score, mean_absolute_error as mae\n",
    "from sklearn.linear_model import LogisticRegression\n",
    "from sklearn.ensemble import RandomForestClassifier\n",
    "from sklearn.feature_extraction.text import TfidfVectorizer\n",
    "from sklearn.utils import shuffle\n",
    "from sklearn.preprocessing import StandardScaler\n",
    "from sklearn.pipeline import Pipeline, make_pipeline\n",
    "\n",
    "\n",
    "\n",
    "from tqdm.notebook import tqdm\n",
    "import nltk\n",
    "from nltk.stem import WordNetLemmatizer "
   ]
  },
  {
   "cell_type": "markdown",
   "metadata": {},
   "source": [
    "<b>Откроем файл и изучим его<b/>"
   ]
  },
  {
   "cell_type": "code",
   "execution_count": 305,
   "metadata": {},
   "outputs": [],
   "source": [
    "try:\n",
    "    df = pd.read_csv('/datasets/toxic_comments.csv')\n",
    "except:\n",
    "    df = pd.read_csv('toxic_comments.csv')"
   ]
  },
  {
   "cell_type": "code",
   "execution_count": 306,
   "metadata": {},
   "outputs": [
    {
     "name": "stdout",
     "output_type": "stream",
     "text": [
      "<class 'pandas.core.frame.DataFrame'>\n",
      "RangeIndex: 159571 entries, 0 to 159570\n",
      "Data columns (total 2 columns):\n",
      " #   Column  Non-Null Count   Dtype \n",
      "---  ------  --------------   ----- \n",
      " 0   text    159571 non-null  object\n",
      " 1   toxic   159571 non-null  int64 \n",
      "dtypes: int64(1), object(1)\n",
      "memory usage: 2.4+ MB\n"
     ]
    },
    {
     "data": {
      "text/plain": [
       "None"
      ]
     },
     "metadata": {},
     "output_type": "display_data"
    },
    {
     "data": {
      "text/html": [
       "<div>\n",
       "<style scoped>\n",
       "    .dataframe tbody tr th:only-of-type {\n",
       "        vertical-align: middle;\n",
       "    }\n",
       "\n",
       "    .dataframe tbody tr th {\n",
       "        vertical-align: top;\n",
       "    }\n",
       "\n",
       "    .dataframe thead th {\n",
       "        text-align: right;\n",
       "    }\n",
       "</style>\n",
       "<table border=\"1\" class=\"dataframe\">\n",
       "  <thead>\n",
       "    <tr style=\"text-align: right;\">\n",
       "      <th></th>\n",
       "      <th>text</th>\n",
       "      <th>toxic</th>\n",
       "    </tr>\n",
       "  </thead>\n",
       "  <tbody>\n",
       "    <tr>\n",
       "      <th>0</th>\n",
       "      <td>Explanation\\nWhy the edits made under my usern...</td>\n",
       "      <td>0</td>\n",
       "    </tr>\n",
       "    <tr>\n",
       "      <th>1</th>\n",
       "      <td>D'aww! He matches this background colour I'm s...</td>\n",
       "      <td>0</td>\n",
       "    </tr>\n",
       "    <tr>\n",
       "      <th>2</th>\n",
       "      <td>Hey man, I'm really not trying to edit war. It...</td>\n",
       "      <td>0</td>\n",
       "    </tr>\n",
       "    <tr>\n",
       "      <th>3</th>\n",
       "      <td>\"\\nMore\\nI can't make any real suggestions on ...</td>\n",
       "      <td>0</td>\n",
       "    </tr>\n",
       "    <tr>\n",
       "      <th>4</th>\n",
       "      <td>You, sir, are my hero. Any chance you remember...</td>\n",
       "      <td>0</td>\n",
       "    </tr>\n",
       "    <tr>\n",
       "      <th>5</th>\n",
       "      <td>\"\\n\\nCongratulations from me as well, use the ...</td>\n",
       "      <td>0</td>\n",
       "    </tr>\n",
       "    <tr>\n",
       "      <th>6</th>\n",
       "      <td>COCKSUCKER BEFORE YOU PISS AROUND ON MY WORK</td>\n",
       "      <td>1</td>\n",
       "    </tr>\n",
       "    <tr>\n",
       "      <th>7</th>\n",
       "      <td>Your vandalism to the Matt Shirvington article...</td>\n",
       "      <td>0</td>\n",
       "    </tr>\n",
       "    <tr>\n",
       "      <th>8</th>\n",
       "      <td>Sorry if the word 'nonsense' was offensive to ...</td>\n",
       "      <td>0</td>\n",
       "    </tr>\n",
       "    <tr>\n",
       "      <th>9</th>\n",
       "      <td>alignment on this subject and which are contra...</td>\n",
       "      <td>0</td>\n",
       "    </tr>\n",
       "    <tr>\n",
       "      <th>10</th>\n",
       "      <td>\"\\nFair use rationale for Image:Wonju.jpg\\n\\nT...</td>\n",
       "      <td>0</td>\n",
       "    </tr>\n",
       "    <tr>\n",
       "      <th>11</th>\n",
       "      <td>bbq \\n\\nbe a man and lets discuss it-maybe ove...</td>\n",
       "      <td>0</td>\n",
       "    </tr>\n",
       "    <tr>\n",
       "      <th>12</th>\n",
       "      <td>Hey... what is it..\\n@ | talk .\\nWhat is it......</td>\n",
       "      <td>1</td>\n",
       "    </tr>\n",
       "    <tr>\n",
       "      <th>13</th>\n",
       "      <td>Before you start throwing accusations and warn...</td>\n",
       "      <td>0</td>\n",
       "    </tr>\n",
       "    <tr>\n",
       "      <th>14</th>\n",
       "      <td>Oh, and the girl above started her arguments w...</td>\n",
       "      <td>0</td>\n",
       "    </tr>\n",
       "  </tbody>\n",
       "</table>\n",
       "</div>"
      ],
      "text/plain": [
       "                                                 text  toxic\n",
       "0   Explanation\\nWhy the edits made under my usern...      0\n",
       "1   D'aww! He matches this background colour I'm s...      0\n",
       "2   Hey man, I'm really not trying to edit war. It...      0\n",
       "3   \"\\nMore\\nI can't make any real suggestions on ...      0\n",
       "4   You, sir, are my hero. Any chance you remember...      0\n",
       "5   \"\\n\\nCongratulations from me as well, use the ...      0\n",
       "6        COCKSUCKER BEFORE YOU PISS AROUND ON MY WORK      1\n",
       "7   Your vandalism to the Matt Shirvington article...      0\n",
       "8   Sorry if the word 'nonsense' was offensive to ...      0\n",
       "9   alignment on this subject and which are contra...      0\n",
       "10  \"\\nFair use rationale for Image:Wonju.jpg\\n\\nT...      0\n",
       "11  bbq \\n\\nbe a man and lets discuss it-maybe ove...      0\n",
       "12  Hey... what is it..\\n@ | talk .\\nWhat is it......      1\n",
       "13  Before you start throwing accusations and warn...      0\n",
       "14  Oh, and the girl above started her arguments w...      0"
      ]
     },
     "metadata": {},
     "output_type": "display_data"
    },
    {
     "data": {
      "text/plain": [
       "'Количество явных дубликтов:'"
      ]
     },
     "metadata": {},
     "output_type": "display_data"
    },
    {
     "data": {
      "text/plain": [
       "0"
      ]
     },
     "metadata": {},
     "output_type": "display_data"
    }
   ],
   "source": [
    "display(df.info())\n",
    "display(df.head(15))\n",
    "display('Количество явных дубликтов:', df.duplicated().sum())"
   ]
  },
  {
   "cell_type": "markdown",
   "metadata": {},
   "source": [
    "Как видно из данных в text присутствют переносы текста \\n, а также знаки препинания/восклицетельные знаки + многие значения в разных регистрах и т.п., это всё может значительно усложнить обучние модели и понизить итоговое значение f1. \n",
    "Короче говоря нам необходимо предобработать эти данные(очистить). Для очистки будем использовать регулярные выражения из урока про векторизацию текстов."
   ]
  },
  {
   "cell_type": "code",
   "execution_count": 307,
   "metadata": {},
   "outputs": [],
   "source": [
    "def clear_text(text):\n",
    "    text = text.lower()  \n",
    "    clear_text  = re.sub(r\"(?:\\n|\\r)\", \" \", text)\n",
    "    clear_text = re.sub(r\"[^a-zA-Z ]+\", \"\", text).strip()\n",
    "    return clear_text"
   ]
  },
  {
   "cell_type": "code",
   "execution_count": 308,
   "metadata": {},
   "outputs": [
    {
     "data": {
      "text/html": [
       "<div>\n",
       "<style scoped>\n",
       "    .dataframe tbody tr th:only-of-type {\n",
       "        vertical-align: middle;\n",
       "    }\n",
       "\n",
       "    .dataframe tbody tr th {\n",
       "        vertical-align: top;\n",
       "    }\n",
       "\n",
       "    .dataframe thead th {\n",
       "        text-align: right;\n",
       "    }\n",
       "</style>\n",
       "<table border=\"1\" class=\"dataframe\">\n",
       "  <thead>\n",
       "    <tr style=\"text-align: right;\">\n",
       "      <th></th>\n",
       "      <th>text</th>\n",
       "      <th>toxic</th>\n",
       "      <th>clear_text</th>\n",
       "    </tr>\n",
       "  </thead>\n",
       "  <tbody>\n",
       "    <tr>\n",
       "      <th>0</th>\n",
       "      <td>Explanation\\nWhy the edits made under my usern...</td>\n",
       "      <td>0</td>\n",
       "      <td>explanationwhy the edits made under my usernam...</td>\n",
       "    </tr>\n",
       "    <tr>\n",
       "      <th>1</th>\n",
       "      <td>D'aww! He matches this background colour I'm s...</td>\n",
       "      <td>0</td>\n",
       "      <td>daww he matches this background colour im seem...</td>\n",
       "    </tr>\n",
       "    <tr>\n",
       "      <th>2</th>\n",
       "      <td>Hey man, I'm really not trying to edit war. It...</td>\n",
       "      <td>0</td>\n",
       "      <td>hey man im really not trying to edit war its j...</td>\n",
       "    </tr>\n",
       "    <tr>\n",
       "      <th>3</th>\n",
       "      <td>\"\\nMore\\nI can't make any real suggestions on ...</td>\n",
       "      <td>0</td>\n",
       "      <td>morei cant make any real suggestions on improv...</td>\n",
       "    </tr>\n",
       "    <tr>\n",
       "      <th>4</th>\n",
       "      <td>You, sir, are my hero. Any chance you remember...</td>\n",
       "      <td>0</td>\n",
       "      <td>you sir are my hero any chance you remember wh...</td>\n",
       "    </tr>\n",
       "    <tr>\n",
       "      <th>5</th>\n",
       "      <td>\"\\n\\nCongratulations from me as well, use the ...</td>\n",
       "      <td>0</td>\n",
       "      <td>congratulations from me as well use the tools ...</td>\n",
       "    </tr>\n",
       "    <tr>\n",
       "      <th>6</th>\n",
       "      <td>COCKSUCKER BEFORE YOU PISS AROUND ON MY WORK</td>\n",
       "      <td>1</td>\n",
       "      <td>cocksucker before you piss around on my work</td>\n",
       "    </tr>\n",
       "    <tr>\n",
       "      <th>7</th>\n",
       "      <td>Your vandalism to the Matt Shirvington article...</td>\n",
       "      <td>0</td>\n",
       "      <td>your vandalism to the matt shirvington article...</td>\n",
       "    </tr>\n",
       "    <tr>\n",
       "      <th>8</th>\n",
       "      <td>Sorry if the word 'nonsense' was offensive to ...</td>\n",
       "      <td>0</td>\n",
       "      <td>sorry if the word nonsense was offensive to yo...</td>\n",
       "    </tr>\n",
       "    <tr>\n",
       "      <th>9</th>\n",
       "      <td>alignment on this subject and which are contra...</td>\n",
       "      <td>0</td>\n",
       "      <td>alignment on this subject and which are contra...</td>\n",
       "    </tr>\n",
       "    <tr>\n",
       "      <th>10</th>\n",
       "      <td>\"\\nFair use rationale for Image:Wonju.jpg\\n\\nT...</td>\n",
       "      <td>0</td>\n",
       "      <td>fair use rationale for imagewonjujpgthanks for...</td>\n",
       "    </tr>\n",
       "    <tr>\n",
       "      <th>11</th>\n",
       "      <td>bbq \\n\\nbe a man and lets discuss it-maybe ove...</td>\n",
       "      <td>0</td>\n",
       "      <td>bbq be a man and lets discuss itmaybe over the...</td>\n",
       "    </tr>\n",
       "    <tr>\n",
       "      <th>12</th>\n",
       "      <td>Hey... what is it..\\n@ | talk .\\nWhat is it......</td>\n",
       "      <td>1</td>\n",
       "      <td>hey what is it  talk what is it an exclusive g...</td>\n",
       "    </tr>\n",
       "    <tr>\n",
       "      <th>13</th>\n",
       "      <td>Before you start throwing accusations and warn...</td>\n",
       "      <td>0</td>\n",
       "      <td>before you start throwing accusations and warn...</td>\n",
       "    </tr>\n",
       "    <tr>\n",
       "      <th>14</th>\n",
       "      <td>Oh, and the girl above started her arguments w...</td>\n",
       "      <td>0</td>\n",
       "      <td>oh and the girl above started her arguments wi...</td>\n",
       "    </tr>\n",
       "  </tbody>\n",
       "</table>\n",
       "</div>"
      ],
      "text/plain": [
       "                                                 text  toxic  \\\n",
       "0   Explanation\\nWhy the edits made under my usern...      0   \n",
       "1   D'aww! He matches this background colour I'm s...      0   \n",
       "2   Hey man, I'm really not trying to edit war. It...      0   \n",
       "3   \"\\nMore\\nI can't make any real suggestions on ...      0   \n",
       "4   You, sir, are my hero. Any chance you remember...      0   \n",
       "5   \"\\n\\nCongratulations from me as well, use the ...      0   \n",
       "6        COCKSUCKER BEFORE YOU PISS AROUND ON MY WORK      1   \n",
       "7   Your vandalism to the Matt Shirvington article...      0   \n",
       "8   Sorry if the word 'nonsense' was offensive to ...      0   \n",
       "9   alignment on this subject and which are contra...      0   \n",
       "10  \"\\nFair use rationale for Image:Wonju.jpg\\n\\nT...      0   \n",
       "11  bbq \\n\\nbe a man and lets discuss it-maybe ove...      0   \n",
       "12  Hey... what is it..\\n@ | talk .\\nWhat is it......      1   \n",
       "13  Before you start throwing accusations and warn...      0   \n",
       "14  Oh, and the girl above started her arguments w...      0   \n",
       "\n",
       "                                           clear_text  \n",
       "0   explanationwhy the edits made under my usernam...  \n",
       "1   daww he matches this background colour im seem...  \n",
       "2   hey man im really not trying to edit war its j...  \n",
       "3   morei cant make any real suggestions on improv...  \n",
       "4   you sir are my hero any chance you remember wh...  \n",
       "5   congratulations from me as well use the tools ...  \n",
       "6        cocksucker before you piss around on my work  \n",
       "7   your vandalism to the matt shirvington article...  \n",
       "8   sorry if the word nonsense was offensive to yo...  \n",
       "9   alignment on this subject and which are contra...  \n",
       "10  fair use rationale for imagewonjujpgthanks for...  \n",
       "11  bbq be a man and lets discuss itmaybe over the...  \n",
       "12  hey what is it  talk what is it an exclusive g...  \n",
       "13  before you start throwing accusations and warn...  \n",
       "14  oh and the girl above started her arguments wi...  "
      ]
     },
     "metadata": {},
     "output_type": "display_data"
    }
   ],
   "source": [
    "df['clear_text'] = df['text'].apply(clear_text)\n",
    "display(df.head(15))"
   ]
  },
  {
   "cell_type": "markdown",
   "metadata": {},
   "source": [
    "На следующем шаге мы будем лемматизировать данные - приводить слова к их начальной форме"
   ]
  },
  {
   "cell_type": "code",
   "execution_count": 320,
   "metadata": {},
   "outputs": [],
   "source": [
    "w_tokenizer = nltk.tokenize.WhitespaceTokenizer()\n",
    "lemmatizer = nltk.stem.WordNetLemmatizer()\n",
    "\n",
    "def lemmatize_text(text):\n",
    "    x = [lemmatizer.lemmatize(w) for w in w_tokenizer.tokenize(text)]\n",
    "    return \" \".join(x)\n",
    "\n",
    "tqdm.pandas()\n",
    "df['text_lemma'] = df['clear_text'].apply(lemmatize_text)"
   ]
  },
  {
   "cell_type": "markdown",
   "metadata": {},
   "source": [
    "Посмотрим на распределение признака на датафрейме"
   ]
  },
  {
   "cell_type": "code",
   "execution_count": 322,
   "metadata": {},
   "outputs": [
    {
     "data": {
      "text/plain": [
       "0    143346\n",
       "1     16225\n",
       "Name: toxic, dtype: int64"
      ]
     },
     "execution_count": 322,
     "metadata": {},
     "output_type": "execute_result"
    }
   ],
   "source": [
    "df['toxic'].value_counts()"
   ]
  },
  {
   "cell_type": "code",
   "execution_count": 323,
   "metadata": {
    "scrolled": false
   },
   "outputs": [
    {
     "data": {
      "text/plain": [
       "<AxesSubplot:>"
      ]
     },
     "execution_count": 323,
     "metadata": {},
     "output_type": "execute_result"
    },
    {
     "data": {
      "image/png": "[encoded data removed]",
      "text/plain": [
       "<Figure size 864x504 with 1 Axes>"
      ]
     },
     "metadata": {
      "needs_background": "light"
     },
     "output_type": "display_data"
    }
   ],
   "source": [
    "df['toxic'].value_counts().plot(\n",
    "    kind='bar',\n",
    "    stacked=True,\n",
    "    grid=True,\n",
    "    color='indigo',\n",
    "    width=0.9,\n",
    "    figsize=(12,7)\n",
    "    )"
   ]
  },
  {
   "cell_type": "markdown",
   "metadata": {},
   "source": [
    "Дисбаланс на лицо. Для борьбы с дисбалансом мы будем использовать увеличение(в части отрицательных) выборки, что мы изучали в спринте \"Обучение с учителем\""
   ]
  },
  {
   "cell_type": "markdown",
   "metadata": {},
   "source": [
    "<div class=\"alert alert-block alert-success\">\n",
    "<b>Успех:</b> Радует, что баланс классов был изучен.\n",
    "</div>"
   ]
  },
  {
   "cell_type": "markdown",
   "metadata": {},
   "source": [
    "\n",
    "\n",
    "## Обучение"
   ]
  },
  {
   "cell_type": "markdown",
   "metadata": {},
   "source": [
    "Поделим выборки на тренировочную и тестовую."
   ]
  },
  {
   "cell_type": "code",
   "execution_count": 324,
   "metadata": {},
   "outputs": [],
   "source": [
    "features = df['text_lemma']\n",
    "target = df['toxic']"
   ]
  },
  {
   "cell_type": "code",
   "execution_count": 325,
   "metadata": {},
   "outputs": [],
   "source": [
    "features_train, features_test, target_train, target_test = train_test_split(features, \n",
    "                                                                            target, \n",
    "                                                                            test_size=.2, \n",
    "                                                                            random_state=42)"
   ]
  },
  {
   "cell_type": "markdown",
   "metadata": {},
   "source": [
    "Уберём дисбаланс классов на всей выборке. Далее будем апсмемплить только тренировочную выборку"
   ]
  },
  {
   "cell_type": "markdown",
   "metadata": {},
   "source": [
    "\n",
    "<b>Для начала посмотрим на распределение в обучающей выборке</b>\n"
   ]
  },
  {
   "cell_type": "code",
   "execution_count": 326,
   "metadata": {},
   "outputs": [
    {
     "data": {
      "text/plain": [
       "<AxesSubplot:>"
      ]
     },
     "execution_count": 326,
     "metadata": {},
     "output_type": "execute_result"
    },
    {
     "data": {
      "image/png": "[encoded data removed]",
      "text/plain": [
       "<Figure size 864x504 with 1 Axes>"
      ]
     },
     "metadata": {
      "needs_background": "light"
     },
     "output_type": "display_data"
    }
   ],
   "source": [
    "target_train.value_counts().plot(\n",
    "    kind='bar',\n",
    "    stacked=True,\n",
    "    grid=True,\n",
    "    color='indigo',\n",
    "    width=0.9,\n",
    "    figsize=(12,7)\n",
    "    )"
   ]
  },
  {
   "cell_type": "code",
   "execution_count": 327,
   "metadata": {},
   "outputs": [],
   "source": [
    "def upsample(features, target, repeat):\n",
    "    features_zeros = features[target == 0]\n",
    "    features_ones = features[target == 1]\n",
    "    target_zeros = target[target == 0]\n",
    "    target_ones = target[target == 1]\n",
    "    \n",
    "    features_upsampled = pd.concat([features_zeros] + [features_ones] * repeat)\n",
    "    target_upsampled = pd.concat([target_zeros] + [target_ones] * repeat)\n",
    "    \n",
    "    return shuffle(features_upsampled,target_upsampled, random_state=42)"
   ]
  },
  {
   "cell_type": "code",
   "execution_count": 328,
   "metadata": {},
   "outputs": [],
   "source": [
    "features_train, target_train = upsample(features_train, target_train, 9)\n",
    "#features_train, target_train = upsample(features, target, 9)\n",
    "#repeat=9 тупо подобрал, самое равный баланс получился"
   ]
  },
  {
   "cell_type": "code",
   "execution_count": 330,
   "metadata": {},
   "outputs": [
    {
     "data": {
      "text/plain": [
       "<AxesSubplot:>"
      ]
     },
     "execution_count": 330,
     "metadata": {},
     "output_type": "execute_result"
    },
    {
     "data": {
      "image/png": "[encoded data removed]",
      "text/plain": [
       "<Figure size 864x504 with 1 Axes>"
      ]
     },
     "metadata": {
      "needs_background": "light"
     },
     "output_type": "display_data"
    }
   ],
   "source": [
    "target_train.value_counts().plot(\n",
    "    kind='bar',\n",
    "    stacked=True,\n",
    "    grid=True,\n",
    "    color='indigo',\n",
    "    width=0.9,\n",
    "    figsize=(12,7)\n",
    "    )"
   ]
  },
  {
   "cell_type": "markdown",
   "metadata": {},
   "source": [
    "Векторизируем данные."
   ]
  },
  {
   "cell_type": "markdown",
   "metadata": {},
   "source": [
    "\n",
    "<b>Векторизатор засунем в Pipeline</b>\n"
   ]
  },
  {
   "cell_type": "code",
   "execution_count": 331,
   "metadata": {},
   "outputs": [
    {
     "name": "stderr",
     "output_type": "stream",
     "text": [
      "/opt/conda/lib/python3.9/site-packages/sklearn/model_selection/_validation.py:610: FitFailedWarning: Estimator fit failed. The score on this train-test partition for these parameters will be set to nan. Details: \n",
      "Traceback (most recent call last):\n",
      "  File \"/opt/conda/lib/python3.9/site-packages/sklearn/model_selection/_validation.py\", line 593, in _fit_and_score\n",
      "    estimator.fit(X_train, y_train, **fit_params)\n",
      "  File \"/opt/conda/lib/python3.9/site-packages/sklearn/pipeline.py\", line 341, in fit\n",
      "    Xt = self._fit(X, y, **fit_params_steps)\n",
      "  File \"/opt/conda/lib/python3.9/site-packages/sklearn/pipeline.py\", line 303, in _fit\n",
      "    X, fitted_transformer = fit_transform_one_cached(\n",
      "  File \"/opt/conda/lib/python3.9/site-packages/joblib/memory.py\", line 349, in __call__\n",
      "    return self.func(*args, **kwargs)\n",
      "  File \"/opt/conda/lib/python3.9/site-packages/sklearn/pipeline.py\", line 754, in _fit_transform_one\n",
      "    res = transformer.fit_transform(X, y, **fit_params)\n",
      "  File \"/opt/conda/lib/python3.9/site-packages/sklearn/feature_extraction/text.py\", line 1850, in fit_transform\n",
      "    X = super().fit_transform(raw_documents)\n",
      "  File \"/opt/conda/lib/python3.9/site-packages/sklearn/feature_extraction/text.py\", line 1197, in fit_transform\n",
      "    self._validate_params()\n",
      "  File \"/opt/conda/lib/python3.9/site-packages/sklearn/feature_extraction/text.py\", line 481, in _validate_params\n",
      "    raise ValueError(\n",
      "ValueError: Invalid value for ngram_range=(3, 1) lower boundary larger than the upper boundary.\n",
      "\n",
      "  warnings.warn(\"Estimator fit failed. The score on this train-test\"\n",
      "/opt/conda/lib/python3.9/site-packages/sklearn/model_selection/_validation.py:610: FitFailedWarning: Estimator fit failed. The score on this train-test partition for these parameters will be set to nan. Details: \n",
      "Traceback (most recent call last):\n",
      "  File \"/opt/conda/lib/python3.9/site-packages/sklearn/model_selection/_validation.py\", line 593, in _fit_and_score\n",
      "    estimator.fit(X_train, y_train, **fit_params)\n",
      "  File \"/opt/conda/lib/python3.9/site-packages/sklearn/pipeline.py\", line 341, in fit\n",
      "    Xt = self._fit(X, y, **fit_params_steps)\n",
      "  File \"/opt/conda/lib/python3.9/site-packages/sklearn/pipeline.py\", line 303, in _fit\n",
      "    X, fitted_transformer = fit_transform_one_cached(\n",
      "  File \"/opt/conda/lib/python3.9/site-packages/joblib/memory.py\", line 349, in __call__\n",
      "    return self.func(*args, **kwargs)\n",
      "  File \"/opt/conda/lib/python3.9/site-packages/sklearn/pipeline.py\", line 754, in _fit_transform_one\n",
      "    res = transformer.fit_transform(X, y, **fit_params)\n",
      "  File \"/opt/conda/lib/python3.9/site-packages/sklearn/feature_extraction/text.py\", line 1850, in fit_transform\n",
      "    X = super().fit_transform(raw_documents)\n",
      "  File \"/opt/conda/lib/python3.9/site-packages/sklearn/feature_extraction/text.py\", line 1197, in fit_transform\n",
      "    self._validate_params()\n",
      "  File \"/opt/conda/lib/python3.9/site-packages/sklearn/feature_extraction/text.py\", line 481, in _validate_params\n",
      "    raise ValueError(\n",
      "ValueError: Invalid value for ngram_range=(3, 1) lower boundary larger than the upper boundary.\n",
      "\n",
      "  warnings.warn(\"Estimator fit failed. The score on this train-test\"\n",
      "/opt/conda/lib/python3.9/site-packages/sklearn/model_selection/_validation.py:610: FitFailedWarning: Estimator fit failed. The score on this train-test partition for these parameters will be set to nan. Details: \n",
      "Traceback (most recent call last):\n",
      "  File \"/opt/conda/lib/python3.9/site-packages/sklearn/model_selection/_validation.py\", line 593, in _fit_and_score\n",
      "    estimator.fit(X_train, y_train, **fit_params)\n",
      "  File \"/opt/conda/lib/python3.9/site-packages/sklearn/pipeline.py\", line 341, in fit\n",
      "    Xt = self._fit(X, y, **fit_params_steps)\n",
      "  File \"/opt/conda/lib/python3.9/site-packages/sklearn/pipeline.py\", line 303, in _fit\n",
      "    X, fitted_transformer = fit_transform_one_cached(\n",
      "  File \"/opt/conda/lib/python3.9/site-packages/joblib/memory.py\", line 349, in __call__\n",
      "    return self.func(*args, **kwargs)\n",
      "  File \"/opt/conda/lib/python3.9/site-packages/sklearn/pipeline.py\", line 754, in _fit_transform_one\n",
      "    res = transformer.fit_transform(X, y, **fit_params)\n",
      "  File \"/opt/conda/lib/python3.9/site-packages/sklearn/feature_extraction/text.py\", line 1850, in fit_transform\n",
      "    X = super().fit_transform(raw_documents)\n",
      "  File \"/opt/conda/lib/python3.9/site-packages/sklearn/feature_extraction/text.py\", line 1197, in fit_transform\n",
      "    self._validate_params()\n",
      "  File \"/opt/conda/lib/python3.9/site-packages/sklearn/feature_extraction/text.py\", line 481, in _validate_params\n",
      "    raise ValueError(\n",
      "ValueError: Invalid value for ngram_range=(3, 1) lower boundary larger than the upper boundary.\n",
      "\n",
      "  warnings.warn(\"Estimator fit failed. The score on this train-test\"\n",
      "/opt/conda/lib/python3.9/site-packages/sklearn/model_selection/_validation.py:610: FitFailedWarning: Estimator fit failed. The score on this train-test partition for these parameters will be set to nan. Details: \n",
      "Traceback (most recent call last):\n",
      "  File \"/opt/conda/lib/python3.9/site-packages/sklearn/model_selection/_validation.py\", line 593, in _fit_and_score\n",
      "    estimator.fit(X_train, y_train, **fit_params)\n",
      "  File \"/opt/conda/lib/python3.9/site-packages/sklearn/pipeline.py\", line 341, in fit\n",
      "    Xt = self._fit(X, y, **fit_params_steps)\n",
      "  File \"/opt/conda/lib/python3.9/site-packages/sklearn/pipeline.py\", line 303, in _fit\n",
      "    X, fitted_transformer = fit_transform_one_cached(\n",
      "  File \"/opt/conda/lib/python3.9/site-packages/joblib/memory.py\", line 349, in __call__\n",
      "    return self.func(*args, **kwargs)\n",
      "  File \"/opt/conda/lib/python3.9/site-packages/sklearn/pipeline.py\", line 754, in _fit_transform_one\n",
      "    res = transformer.fit_transform(X, y, **fit_params)\n",
      "  File \"/opt/conda/lib/python3.9/site-packages/sklearn/feature_extraction/text.py\", line 1850, in fit_transform\n",
      "    X = super().fit_transform(raw_documents)\n",
      "  File \"/opt/conda/lib/python3.9/site-packages/sklearn/feature_extraction/text.py\", line 1197, in fit_transform\n",
      "    self._validate_params()\n",
      "  File \"/opt/conda/lib/python3.9/site-packages/sklearn/feature_extraction/text.py\", line 481, in _validate_params\n",
      "    raise ValueError(\n",
      "ValueError: Invalid value for ngram_range=(3, 1) lower boundary larger than the upper boundary.\n",
      "\n",
      "  warnings.warn(\"Estimator fit failed. The score on this train-test\"\n",
      "/opt/conda/lib/python3.9/site-packages/sklearn/model_selection/_validation.py:610: FitFailedWarning: Estimator fit failed. The score on this train-test partition for these parameters will be set to nan. Details: \n",
      "Traceback (most recent call last):\n",
      "  File \"/opt/conda/lib/python3.9/site-packages/sklearn/model_selection/_validation.py\", line 593, in _fit_and_score\n",
      "    estimator.fit(X_train, y_train, **fit_params)\n",
      "  File \"/opt/conda/lib/python3.9/site-packages/sklearn/pipeline.py\", line 341, in fit\n",
      "    Xt = self._fit(X, y, **fit_params_steps)\n",
      "  File \"/opt/conda/lib/python3.9/site-packages/sklearn/pipeline.py\", line 303, in _fit\n",
      "    X, fitted_transformer = fit_transform_one_cached(\n",
      "  File \"/opt/conda/lib/python3.9/site-packages/joblib/memory.py\", line 349, in __call__\n",
      "    return self.func(*args, **kwargs)\n",
      "  File \"/opt/conda/lib/python3.9/site-packages/sklearn/pipeline.py\", line 754, in _fit_transform_one\n",
      "    res = transformer.fit_transform(X, y, **fit_params)\n",
      "  File \"/opt/conda/lib/python3.9/site-packages/sklearn/feature_extraction/text.py\", line 1850, in fit_transform\n",
      "    X = super().fit_transform(raw_documents)\n",
      "  File \"/opt/conda/lib/python3.9/site-packages/sklearn/feature_extraction/text.py\", line 1197, in fit_transform\n",
      "    self._validate_params()\n",
      "  File \"/opt/conda/lib/python3.9/site-packages/sklearn/feature_extraction/text.py\", line 481, in _validate_params\n",
      "    raise ValueError(\n",
      "ValueError: Invalid value for ngram_range=(3, 1) lower boundary larger than the upper boundary.\n",
      "\n",
      "  warnings.warn(\"Estimator fit failed. The score on this train-test\"\n",
      "/opt/conda/lib/python3.9/site-packages/sklearn/model_selection/_validation.py:610: FitFailedWarning: Estimator fit failed. The score on this train-test partition for these parameters will be set to nan. Details: \n",
      "Traceback (most recent call last):\n",
      "  File \"/opt/conda/lib/python3.9/site-packages/sklearn/model_selection/_validation.py\", line 593, in _fit_and_score\n",
      "    estimator.fit(X_train, y_train, **fit_params)\n",
      "  File \"/opt/conda/lib/python3.9/site-packages/sklearn/pipeline.py\", line 341, in fit\n",
      "    Xt = self._fit(X, y, **fit_params_steps)\n",
      "  File \"/opt/conda/lib/python3.9/site-packages/sklearn/pipeline.py\", line 303, in _fit\n",
      "    X, fitted_transformer = fit_transform_one_cached(\n",
      "  File \"/opt/conda/lib/python3.9/site-packages/joblib/memory.py\", line 349, in __call__\n",
      "    return self.func(*args, **kwargs)\n",
      "  File \"/opt/conda/lib/python3.9/site-packages/sklearn/pipeline.py\", line 754, in _fit_transform_one\n",
      "    res = transformer.fit_transform(X, y, **fit_params)\n",
      "  File \"/opt/conda/lib/python3.9/site-packages/sklearn/feature_extraction/text.py\", line 1850, in fit_transform\n",
      "    X = super().fit_transform(raw_documents)\n",
      "  File \"/opt/conda/lib/python3.9/site-packages/sklearn/feature_extraction/text.py\", line 1197, in fit_transform\n",
      "    self._validate_params()\n",
      "  File \"/opt/conda/lib/python3.9/site-packages/sklearn/feature_extraction/text.py\", line 481, in _validate_params\n",
      "    raise ValueError(\n",
      "ValueError: Invalid value for ngram_range=(5, 2) lower boundary larger than the upper boundary.\n",
      "\n",
      "  warnings.warn(\"Estimator fit failed. The score on this train-test\"\n",
      "/opt/conda/lib/python3.9/site-packages/sklearn/model_selection/_validation.py:610: FitFailedWarning: Estimator fit failed. The score on this train-test partition for these parameters will be set to nan. Details: \n",
      "Traceback (most recent call last):\n",
      "  File \"/opt/conda/lib/python3.9/site-packages/sklearn/model_selection/_validation.py\", line 593, in _fit_and_score\n",
      "    estimator.fit(X_train, y_train, **fit_params)\n",
      "  File \"/opt/conda/lib/python3.9/site-packages/sklearn/pipeline.py\", line 341, in fit\n",
      "    Xt = self._fit(X, y, **fit_params_steps)\n",
      "  File \"/opt/conda/lib/python3.9/site-packages/sklearn/pipeline.py\", line 303, in _fit\n",
      "    X, fitted_transformer = fit_transform_one_cached(\n",
      "  File \"/opt/conda/lib/python3.9/site-packages/joblib/memory.py\", line 349, in __call__\n",
      "    return self.func(*args, **kwargs)\n",
      "  File \"/opt/conda/lib/python3.9/site-packages/sklearn/pipeline.py\", line 754, in _fit_transform_one\n",
      "    res = transformer.fit_transform(X, y, **fit_params)\n",
      "  File \"/opt/conda/lib/python3.9/site-packages/sklearn/feature_extraction/text.py\", line 1850, in fit_transform\n",
      "    X = super().fit_transform(raw_documents)\n",
      "  File \"/opt/conda/lib/python3.9/site-packages/sklearn/feature_extraction/text.py\", line 1197, in fit_transform\n",
      "    self._validate_params()\n",
      "  File \"/opt/conda/lib/python3.9/site-packages/sklearn/feature_extraction/text.py\", line 481, in _validate_params\n",
      "    raise ValueError(\n",
      "ValueError: Invalid value for ngram_range=(5, 2) lower boundary larger than the upper boundary.\n",
      "\n",
      "  warnings.warn(\"Estimator fit failed. The score on this train-test\"\n",
      "/opt/conda/lib/python3.9/site-packages/sklearn/model_selection/_validation.py:610: FitFailedWarning: Estimator fit failed. The score on this train-test partition for these parameters will be set to nan. Details: \n",
      "Traceback (most recent call last):\n",
      "  File \"/opt/conda/lib/python3.9/site-packages/sklearn/model_selection/_validation.py\", line 593, in _fit_and_score\n",
      "    estimator.fit(X_train, y_train, **fit_params)\n",
      "  File \"/opt/conda/lib/python3.9/site-packages/sklearn/pipeline.py\", line 341, in fit\n",
      "    Xt = self._fit(X, y, **fit_params_steps)\n",
      "  File \"/opt/conda/lib/python3.9/site-packages/sklearn/pipeline.py\", line 303, in _fit\n",
      "    X, fitted_transformer = fit_transform_one_cached(\n",
      "  File \"/opt/conda/lib/python3.9/site-packages/joblib/memory.py\", line 349, in __call__\n",
      "    return self.func(*args, **kwargs)\n",
      "  File \"/opt/conda/lib/python3.9/site-packages/sklearn/pipeline.py\", line 754, in _fit_transform_one\n",
      "    res = transformer.fit_transform(X, y, **fit_params)\n",
      "  File \"/opt/conda/lib/python3.9/site-packages/sklearn/feature_extraction/text.py\", line 1850, in fit_transform\n",
      "    X = super().fit_transform(raw_documents)\n",
      "  File \"/opt/conda/lib/python3.9/site-packages/sklearn/feature_extraction/text.py\", line 1197, in fit_transform\n",
      "    self._validate_params()\n",
      "  File \"/opt/conda/lib/python3.9/site-packages/sklearn/feature_extraction/text.py\", line 481, in _validate_params\n",
      "    raise ValueError(\n",
      "ValueError: Invalid value for ngram_range=(5, 2) lower boundary larger than the upper boundary.\n",
      "\n",
      "  warnings.warn(\"Estimator fit failed. The score on this train-test\"\n",
      "/opt/conda/lib/python3.9/site-packages/sklearn/model_selection/_validation.py:610: FitFailedWarning: Estimator fit failed. The score on this train-test partition for these parameters will be set to nan. Details: \n",
      "Traceback (most recent call last):\n",
      "  File \"/opt/conda/lib/python3.9/site-packages/sklearn/model_selection/_validation.py\", line 593, in _fit_and_score\n",
      "    estimator.fit(X_train, y_train, **fit_params)\n",
      "  File \"/opt/conda/lib/python3.9/site-packages/sklearn/pipeline.py\", line 341, in fit\n",
      "    Xt = self._fit(X, y, **fit_params_steps)\n",
      "  File \"/opt/conda/lib/python3.9/site-packages/sklearn/pipeline.py\", line 303, in _fit\n",
      "    X, fitted_transformer = fit_transform_one_cached(\n",
      "  File \"/opt/conda/lib/python3.9/site-packages/joblib/memory.py\", line 349, in __call__\n",
      "    return self.func(*args, **kwargs)\n",
      "  File \"/opt/conda/lib/python3.9/site-packages/sklearn/pipeline.py\", line 754, in _fit_transform_one\n",
      "    res = transformer.fit_transform(X, y, **fit_params)\n",
      "  File \"/opt/conda/lib/python3.9/site-packages/sklearn/feature_extraction/text.py\", line 1850, in fit_transform\n",
      "    X = super().fit_transform(raw_documents)\n",
      "  File \"/opt/conda/lib/python3.9/site-packages/sklearn/feature_extraction/text.py\", line 1197, in fit_transform\n",
      "    self._validate_params()\n",
      "  File \"/opt/conda/lib/python3.9/site-packages/sklearn/feature_extraction/text.py\", line 481, in _validate_params\n",
      "    raise ValueError(\n",
      "ValueError: Invalid value for ngram_range=(5, 2) lower boundary larger than the upper boundary.\n",
      "\n",
      "  warnings.warn(\"Estimator fit failed. The score on this train-test\"\n",
      "/opt/conda/lib/python3.9/site-packages/sklearn/model_selection/_validation.py:610: FitFailedWarning: Estimator fit failed. The score on this train-test partition for these parameters will be set to nan. Details: \n",
      "Traceback (most recent call last):\n",
      "  File \"/opt/conda/lib/python3.9/site-packages/sklearn/model_selection/_validation.py\", line 593, in _fit_and_score\n",
      "    estimator.fit(X_train, y_train, **fit_params)\n",
      "  File \"/opt/conda/lib/python3.9/site-packages/sklearn/pipeline.py\", line 341, in fit\n",
      "    Xt = self._fit(X, y, **fit_params_steps)\n",
      "  File \"/opt/conda/lib/python3.9/site-packages/sklearn/pipeline.py\", line 303, in _fit\n",
      "    X, fitted_transformer = fit_transform_one_cached(\n",
      "  File \"/opt/conda/lib/python3.9/site-packages/joblib/memory.py\", line 349, in __call__\n",
      "    return self.func(*args, **kwargs)\n",
      "  File \"/opt/conda/lib/python3.9/site-packages/sklearn/pipeline.py\", line 754, in _fit_transform_one\n",
      "    res = transformer.fit_transform(X, y, **fit_params)\n",
      "  File \"/opt/conda/lib/python3.9/site-packages/sklearn/feature_extraction/text.py\", line 1850, in fit_transform\n",
      "    X = super().fit_transform(raw_documents)\n",
      "  File \"/opt/conda/lib/python3.9/site-packages/sklearn/feature_extraction/text.py\", line 1197, in fit_transform\n",
      "    self._validate_params()\n",
      "  File \"/opt/conda/lib/python3.9/site-packages/sklearn/feature_extraction/text.py\", line 481, in _validate_params\n",
      "    raise ValueError(\n",
      "ValueError: Invalid value for ngram_range=(5, 2) lower boundary larger than the upper boundary.\n",
      "\n",
      "  warnings.warn(\"Estimator fit failed. The score on this train-test\"\n",
      "/opt/conda/lib/python3.9/site-packages/sklearn/model_selection/_validation.py:610: FitFailedWarning: Estimator fit failed. The score on this train-test partition for these parameters will be set to nan. Details: \n",
      "Traceback (most recent call last):\n",
      "  File \"/opt/conda/lib/python3.9/site-packages/sklearn/model_selection/_validation.py\", line 593, in _fit_and_score\n",
      "    estimator.fit(X_train, y_train, **fit_params)\n",
      "  File \"/opt/conda/lib/python3.9/site-packages/sklearn/pipeline.py\", line 341, in fit\n",
      "    Xt = self._fit(X, y, **fit_params_steps)\n",
      "  File \"/opt/conda/lib/python3.9/site-packages/sklearn/pipeline.py\", line 303, in _fit\n",
      "    X, fitted_transformer = fit_transform_one_cached(\n",
      "  File \"/opt/conda/lib/python3.9/site-packages/joblib/memory.py\", line 349, in __call__\n",
      "    return self.func(*args, **kwargs)\n",
      "  File \"/opt/conda/lib/python3.9/site-packages/sklearn/pipeline.py\", line 754, in _fit_transform_one\n",
      "    res = transformer.fit_transform(X, y, **fit_params)\n",
      "  File \"/opt/conda/lib/python3.9/site-packages/sklearn/feature_extraction/text.py\", line 1850, in fit_transform\n",
      "    X = super().fit_transform(raw_documents)\n",
      "  File \"/opt/conda/lib/python3.9/site-packages/sklearn/feature_extraction/text.py\", line 1197, in fit_transform\n",
      "    self._validate_params()\n",
      "  File \"/opt/conda/lib/python3.9/site-packages/sklearn/feature_extraction/text.py\", line 481, in _validate_params\n",
      "    raise ValueError(\n",
      "ValueError: Invalid value for ngram_range=(3, 1) lower boundary larger than the upper boundary.\n",
      "\n",
      "  warnings.warn(\"Estimator fit failed. The score on this train-test\"\n",
      "/opt/conda/lib/python3.9/site-packages/sklearn/model_selection/_validation.py:610: FitFailedWarning: Estimator fit failed. The score on this train-test partition for these parameters will be set to nan. Details: \n",
      "Traceback (most recent call last):\n",
      "  File \"/opt/conda/lib/python3.9/site-packages/sklearn/model_selection/_validation.py\", line 593, in _fit_and_score\n",
      "    estimator.fit(X_train, y_train, **fit_params)\n",
      "  File \"/opt/conda/lib/python3.9/site-packages/sklearn/pipeline.py\", line 341, in fit\n",
      "    Xt = self._fit(X, y, **fit_params_steps)\n",
      "  File \"/opt/conda/lib/python3.9/site-packages/sklearn/pipeline.py\", line 303, in _fit\n",
      "    X, fitted_transformer = fit_transform_one_cached(\n",
      "  File \"/opt/conda/lib/python3.9/site-packages/joblib/memory.py\", line 349, in __call__\n",
      "    return self.func(*args, **kwargs)\n",
      "  File \"/opt/conda/lib/python3.9/site-packages/sklearn/pipeline.py\", line 754, in _fit_transform_one\n",
      "    res = transformer.fit_transform(X, y, **fit_params)\n",
      "  File \"/opt/conda/lib/python3.9/site-packages/sklearn/feature_extraction/text.py\", line 1850, in fit_transform\n",
      "    X = super().fit_transform(raw_documents)\n",
      "  File \"/opt/conda/lib/python3.9/site-packages/sklearn/feature_extraction/text.py\", line 1197, in fit_transform\n",
      "    self._validate_params()\n",
      "  File \"/opt/conda/lib/python3.9/site-packages/sklearn/feature_extraction/text.py\", line 481, in _validate_params\n",
      "    raise ValueError(\n",
      "ValueError: Invalid value for ngram_range=(3, 1) lower boundary larger than the upper boundary.\n",
      "\n",
      "  warnings.warn(\"Estimator fit failed. The score on this train-test\"\n",
      "/opt/conda/lib/python3.9/site-packages/sklearn/model_selection/_validation.py:610: FitFailedWarning: Estimator fit failed. The score on this train-test partition for these parameters will be set to nan. Details: \n",
      "Traceback (most recent call last):\n",
      "  File \"/opt/conda/lib/python3.9/site-packages/sklearn/model_selection/_validation.py\", line 593, in _fit_and_score\n",
      "    estimator.fit(X_train, y_train, **fit_params)\n",
      "  File \"/opt/conda/lib/python3.9/site-packages/sklearn/pipeline.py\", line 341, in fit\n",
      "    Xt = self._fit(X, y, **fit_params_steps)\n",
      "  File \"/opt/conda/lib/python3.9/site-packages/sklearn/pipeline.py\", line 303, in _fit\n",
      "    X, fitted_transformer = fit_transform_one_cached(\n",
      "  File \"/opt/conda/lib/python3.9/site-packages/joblib/memory.py\", line 349, in __call__\n",
      "    return self.func(*args, **kwargs)\n",
      "  File \"/opt/conda/lib/python3.9/site-packages/sklearn/pipeline.py\", line 754, in _fit_transform_one\n",
      "    res = transformer.fit_transform(X, y, **fit_params)\n",
      "  File \"/opt/conda/lib/python3.9/site-packages/sklearn/feature_extraction/text.py\", line 1850, in fit_transform\n",
      "    X = super().fit_transform(raw_documents)\n",
      "  File \"/opt/conda/lib/python3.9/site-packages/sklearn/feature_extraction/text.py\", line 1197, in fit_transform\n",
      "    self._validate_params()\n",
      "  File \"/opt/conda/lib/python3.9/site-packages/sklearn/feature_extraction/text.py\", line 481, in _validate_params\n",
      "    raise ValueError(\n",
      "ValueError: Invalid value for ngram_range=(3, 1) lower boundary larger than the upper boundary.\n",
      "\n",
      "  warnings.warn(\"Estimator fit failed. The score on this train-test\"\n",
      "/opt/conda/lib/python3.9/site-packages/sklearn/model_selection/_validation.py:610: FitFailedWarning: Estimator fit failed. The score on this train-test partition for these parameters will be set to nan. Details: \n",
      "Traceback (most recent call last):\n",
      "  File \"/opt/conda/lib/python3.9/site-packages/sklearn/model_selection/_validation.py\", line 593, in _fit_and_score\n",
      "    estimator.fit(X_train, y_train, **fit_params)\n",
      "  File \"/opt/conda/lib/python3.9/site-packages/sklearn/pipeline.py\", line 341, in fit\n",
      "    Xt = self._fit(X, y, **fit_params_steps)\n",
      "  File \"/opt/conda/lib/python3.9/site-packages/sklearn/pipeline.py\", line 303, in _fit\n",
      "    X, fitted_transformer = fit_transform_one_cached(\n",
      "  File \"/opt/conda/lib/python3.9/site-packages/joblib/memory.py\", line 349, in __call__\n",
      "    return self.func(*args, **kwargs)\n",
      "  File \"/opt/conda/lib/python3.9/site-packages/sklearn/pipeline.py\", line 754, in _fit_transform_one\n",
      "    res = transformer.fit_transform(X, y, **fit_params)\n",
      "  File \"/opt/conda/lib/python3.9/site-packages/sklearn/feature_extraction/text.py\", line 1850, in fit_transform\n",
      "    X = super().fit_transform(raw_documents)\n",
      "  File \"/opt/conda/lib/python3.9/site-packages/sklearn/feature_extraction/text.py\", line 1197, in fit_transform\n",
      "    self._validate_params()\n",
      "  File \"/opt/conda/lib/python3.9/site-packages/sklearn/feature_extraction/text.py\", line 481, in _validate_params\n",
      "    raise ValueError(\n",
      "ValueError: Invalid value for ngram_range=(3, 1) lower boundary larger than the upper boundary.\n",
      "\n",
      "  warnings.warn(\"Estimator fit failed. The score on this train-test\"\n",
      "/opt/conda/lib/python3.9/site-packages/sklearn/model_selection/_validation.py:610: FitFailedWarning: Estimator fit failed. The score on this train-test partition for these parameters will be set to nan. Details: \n",
      "Traceback (most recent call last):\n",
      "  File \"/opt/conda/lib/python3.9/site-packages/sklearn/model_selection/_validation.py\", line 593, in _fit_and_score\n",
      "    estimator.fit(X_train, y_train, **fit_params)\n",
      "  File \"/opt/conda/lib/python3.9/site-packages/sklearn/pipeline.py\", line 341, in fit\n",
      "    Xt = self._fit(X, y, **fit_params_steps)\n",
      "  File \"/opt/conda/lib/python3.9/site-packages/sklearn/pipeline.py\", line 303, in _fit\n",
      "    X, fitted_transformer = fit_transform_one_cached(\n",
      "  File \"/opt/conda/lib/python3.9/site-packages/joblib/memory.py\", line 349, in __call__\n",
      "    return self.func(*args, **kwargs)\n",
      "  File \"/opt/conda/lib/python3.9/site-packages/sklearn/pipeline.py\", line 754, in _fit_transform_one\n",
      "    res = transformer.fit_transform(X, y, **fit_params)\n",
      "  File \"/opt/conda/lib/python3.9/site-packages/sklearn/feature_extraction/text.py\", line 1850, in fit_transform\n",
      "    X = super().fit_transform(raw_documents)\n",
      "  File \"/opt/conda/lib/python3.9/site-packages/sklearn/feature_extraction/text.py\", line 1197, in fit_transform\n",
      "    self._validate_params()\n",
      "  File \"/opt/conda/lib/python3.9/site-packages/sklearn/feature_extraction/text.py\", line 481, in _validate_params\n",
      "    raise ValueError(\n",
      "ValueError: Invalid value for ngram_range=(3, 1) lower boundary larger than the upper boundary.\n",
      "\n",
      "  warnings.warn(\"Estimator fit failed. The score on this train-test\"\n",
      "/opt/conda/lib/python3.9/site-packages/sklearn/model_selection/_validation.py:610: FitFailedWarning: Estimator fit failed. The score on this train-test partition for these parameters will be set to nan. Details: \n",
      "Traceback (most recent call last):\n",
      "  File \"/opt/conda/lib/python3.9/site-packages/sklearn/model_selection/_validation.py\", line 593, in _fit_and_score\n",
      "    estimator.fit(X_train, y_train, **fit_params)\n",
      "  File \"/opt/conda/lib/python3.9/site-packages/sklearn/pipeline.py\", line 341, in fit\n",
      "    Xt = self._fit(X, y, **fit_params_steps)\n",
      "  File \"/opt/conda/lib/python3.9/site-packages/sklearn/pipeline.py\", line 303, in _fit\n",
      "    X, fitted_transformer = fit_transform_one_cached(\n",
      "  File \"/opt/conda/lib/python3.9/site-packages/joblib/memory.py\", line 349, in __call__\n",
      "    return self.func(*args, **kwargs)\n",
      "  File \"/opt/conda/lib/python3.9/site-packages/sklearn/pipeline.py\", line 754, in _fit_transform_one\n",
      "    res = transformer.fit_transform(X, y, **fit_params)\n",
      "  File \"/opt/conda/lib/python3.9/site-packages/sklearn/feature_extraction/text.py\", line 1850, in fit_transform\n",
      "    X = super().fit_transform(raw_documents)\n",
      "  File \"/opt/conda/lib/python3.9/site-packages/sklearn/feature_extraction/text.py\", line 1197, in fit_transform\n",
      "    self._validate_params()\n",
      "  File \"/opt/conda/lib/python3.9/site-packages/sklearn/feature_extraction/text.py\", line 481, in _validate_params\n",
      "    raise ValueError(\n",
      "ValueError: Invalid value for ngram_range=(5, 2) lower boundary larger than the upper boundary.\n",
      "\n",
      "  warnings.warn(\"Estimator fit failed. The score on this train-test\"\n",
      "/opt/conda/lib/python3.9/site-packages/sklearn/model_selection/_validation.py:610: FitFailedWarning: Estimator fit failed. The score on this train-test partition for these parameters will be set to nan. Details: \n",
      "Traceback (most recent call last):\n",
      "  File \"/opt/conda/lib/python3.9/site-packages/sklearn/model_selection/_validation.py\", line 593, in _fit_and_score\n",
      "    estimator.fit(X_train, y_train, **fit_params)\n",
      "  File \"/opt/conda/lib/python3.9/site-packages/sklearn/pipeline.py\", line 341, in fit\n",
      "    Xt = self._fit(X, y, **fit_params_steps)\n",
      "  File \"/opt/conda/lib/python3.9/site-packages/sklearn/pipeline.py\", line 303, in _fit\n",
      "    X, fitted_transformer = fit_transform_one_cached(\n",
      "  File \"/opt/conda/lib/python3.9/site-packages/joblib/memory.py\", line 349, in __call__\n",
      "    return self.func(*args, **kwargs)\n",
      "  File \"/opt/conda/lib/python3.9/site-packages/sklearn/pipeline.py\", line 754, in _fit_transform_one\n",
      "    res = transformer.fit_transform(X, y, **fit_params)\n",
      "  File \"/opt/conda/lib/python3.9/site-packages/sklearn/feature_extraction/text.py\", line 1850, in fit_transform\n",
      "    X = super().fit_transform(raw_documents)\n",
      "  File \"/opt/conda/lib/python3.9/site-packages/sklearn/feature_extraction/text.py\", line 1197, in fit_transform\n",
      "    self._validate_params()\n",
      "  File \"/opt/conda/lib/python3.9/site-packages/sklearn/feature_extraction/text.py\", line 481, in _validate_params\n",
      "    raise ValueError(\n",
      "ValueError: Invalid value for ngram_range=(5, 2) lower boundary larger than the upper boundary.\n",
      "\n",
      "  warnings.warn(\"Estimator fit failed. The score on this train-test\"\n",
      "/opt/conda/lib/python3.9/site-packages/sklearn/model_selection/_validation.py:610: FitFailedWarning: Estimator fit failed. The score on this train-test partition for these parameters will be set to nan. Details: \n",
      "Traceback (most recent call last):\n",
      "  File \"/opt/conda/lib/python3.9/site-packages/sklearn/model_selection/_validation.py\", line 593, in _fit_and_score\n",
      "    estimator.fit(X_train, y_train, **fit_params)\n",
      "  File \"/opt/conda/lib/python3.9/site-packages/sklearn/pipeline.py\", line 341, in fit\n",
      "    Xt = self._fit(X, y, **fit_params_steps)\n",
      "  File \"/opt/conda/lib/python3.9/site-packages/sklearn/pipeline.py\", line 303, in _fit\n",
      "    X, fitted_transformer = fit_transform_one_cached(\n",
      "  File \"/opt/conda/lib/python3.9/site-packages/joblib/memory.py\", line 349, in __call__\n",
      "    return self.func(*args, **kwargs)\n",
      "  File \"/opt/conda/lib/python3.9/site-packages/sklearn/pipeline.py\", line 754, in _fit_transform_one\n",
      "    res = transformer.fit_transform(X, y, **fit_params)\n",
      "  File \"/opt/conda/lib/python3.9/site-packages/sklearn/feature_extraction/text.py\", line 1850, in fit_transform\n",
      "    X = super().fit_transform(raw_documents)\n",
      "  File \"/opt/conda/lib/python3.9/site-packages/sklearn/feature_extraction/text.py\", line 1197, in fit_transform\n",
      "    self._validate_params()\n",
      "  File \"/opt/conda/lib/python3.9/site-packages/sklearn/feature_extraction/text.py\", line 481, in _validate_params\n",
      "    raise ValueError(\n",
      "ValueError: Invalid value for ngram_range=(5, 2) lower boundary larger than the upper boundary.\n",
      "\n",
      "  warnings.warn(\"Estimator fit failed. The score on this train-test\"\n",
      "/opt/conda/lib/python3.9/site-packages/sklearn/model_selection/_validation.py:610: FitFailedWarning: Estimator fit failed. The score on this train-test partition for these parameters will be set to nan. Details: \n",
      "Traceback (most recent call last):\n",
      "  File \"/opt/conda/lib/python3.9/site-packages/sklearn/model_selection/_validation.py\", line 593, in _fit_and_score\n",
      "    estimator.fit(X_train, y_train, **fit_params)\n",
      "  File \"/opt/conda/lib/python3.9/site-packages/sklearn/pipeline.py\", line 341, in fit\n",
      "    Xt = self._fit(X, y, **fit_params_steps)\n",
      "  File \"/opt/conda/lib/python3.9/site-packages/sklearn/pipeline.py\", line 303, in _fit\n",
      "    X, fitted_transformer = fit_transform_one_cached(\n",
      "  File \"/opt/conda/lib/python3.9/site-packages/joblib/memory.py\", line 349, in __call__\n",
      "    return self.func(*args, **kwargs)\n",
      "  File \"/opt/conda/lib/python3.9/site-packages/sklearn/pipeline.py\", line 754, in _fit_transform_one\n",
      "    res = transformer.fit_transform(X, y, **fit_params)\n",
      "  File \"/opt/conda/lib/python3.9/site-packages/sklearn/feature_extraction/text.py\", line 1850, in fit_transform\n",
      "    X = super().fit_transform(raw_documents)\n",
      "  File \"/opt/conda/lib/python3.9/site-packages/sklearn/feature_extraction/text.py\", line 1197, in fit_transform\n",
      "    self._validate_params()\n",
      "  File \"/opt/conda/lib/python3.9/site-packages/sklearn/feature_extraction/text.py\", line 481, in _validate_params\n",
      "    raise ValueError(\n",
      "ValueError: Invalid value for ngram_range=(5, 2) lower boundary larger than the upper boundary.\n",
      "\n",
      "  warnings.warn(\"Estimator fit failed. The score on this train-test\"\n",
      "/opt/conda/lib/python3.9/site-packages/sklearn/model_selection/_validation.py:610: FitFailedWarning: Estimator fit failed. The score on this train-test partition for these parameters will be set to nan. Details: \n",
      "Traceback (most recent call last):\n",
      "  File \"/opt/conda/lib/python3.9/site-packages/sklearn/model_selection/_validation.py\", line 593, in _fit_and_score\n",
      "    estimator.fit(X_train, y_train, **fit_params)\n",
      "  File \"/opt/conda/lib/python3.9/site-packages/sklearn/pipeline.py\", line 341, in fit\n",
      "    Xt = self._fit(X, y, **fit_params_steps)\n",
      "  File \"/opt/conda/lib/python3.9/site-packages/sklearn/pipeline.py\", line 303, in _fit\n",
      "    X, fitted_transformer = fit_transform_one_cached(\n",
      "  File \"/opt/conda/lib/python3.9/site-packages/joblib/memory.py\", line 349, in __call__\n",
      "    return self.func(*args, **kwargs)\n",
      "  File \"/opt/conda/lib/python3.9/site-packages/sklearn/pipeline.py\", line 754, in _fit_transform_one\n",
      "    res = transformer.fit_transform(X, y, **fit_params)\n",
      "  File \"/opt/conda/lib/python3.9/site-packages/sklearn/feature_extraction/text.py\", line 1850, in fit_transform\n",
      "    X = super().fit_transform(raw_documents)\n",
      "  File \"/opt/conda/lib/python3.9/site-packages/sklearn/feature_extraction/text.py\", line 1197, in fit_transform\n",
      "    self._validate_params()\n",
      "  File \"/opt/conda/lib/python3.9/site-packages/sklearn/feature_extraction/text.py\", line 481, in _validate_params\n",
      "    raise ValueError(\n",
      "ValueError: Invalid value for ngram_range=(5, 2) lower boundary larger than the upper boundary.\n",
      "\n",
      "  warnings.warn(\"Estimator fit failed. The score on this train-test\"\n",
      "/opt/conda/lib/python3.9/site-packages/sklearn/model_selection/_validation.py:610: FitFailedWarning: Estimator fit failed. The score on this train-test partition for these parameters will be set to nan. Details: \n",
      "Traceback (most recent call last):\n",
      "  File \"/opt/conda/lib/python3.9/site-packages/sklearn/model_selection/_validation.py\", line 593, in _fit_and_score\n",
      "    estimator.fit(X_train, y_train, **fit_params)\n",
      "  File \"/opt/conda/lib/python3.9/site-packages/sklearn/pipeline.py\", line 341, in fit\n",
      "    Xt = self._fit(X, y, **fit_params_steps)\n",
      "  File \"/opt/conda/lib/python3.9/site-packages/sklearn/pipeline.py\", line 303, in _fit\n",
      "    X, fitted_transformer = fit_transform_one_cached(\n",
      "  File \"/opt/conda/lib/python3.9/site-packages/joblib/memory.py\", line 349, in __call__\n",
      "    return self.func(*args, **kwargs)\n",
      "  File \"/opt/conda/lib/python3.9/site-packages/sklearn/pipeline.py\", line 754, in _fit_transform_one\n",
      "    res = transformer.fit_transform(X, y, **fit_params)\n",
      "  File \"/opt/conda/lib/python3.9/site-packages/sklearn/feature_extraction/text.py\", line 1850, in fit_transform\n",
      "    X = super().fit_transform(raw_documents)\n",
      "  File \"/opt/conda/lib/python3.9/site-packages/sklearn/feature_extraction/text.py\", line 1197, in fit_transform\n",
      "    self._validate_params()\n",
      "  File \"/opt/conda/lib/python3.9/site-packages/sklearn/feature_extraction/text.py\", line 481, in _validate_params\n",
      "    raise ValueError(\n",
      "ValueError: Invalid value for ngram_range=(3, 1) lower boundary larger than the upper boundary.\n",
      "\n",
      "  warnings.warn(\"Estimator fit failed. The score on this train-test\"\n",
      "/opt/conda/lib/python3.9/site-packages/sklearn/model_selection/_validation.py:610: FitFailedWarning: Estimator fit failed. The score on this train-test partition for these parameters will be set to nan. Details: \n",
      "Traceback (most recent call last):\n",
      "  File \"/opt/conda/lib/python3.9/site-packages/sklearn/model_selection/_validation.py\", line 593, in _fit_and_score\n",
      "    estimator.fit(X_train, y_train, **fit_params)\n",
      "  File \"/opt/conda/lib/python3.9/site-packages/sklearn/pipeline.py\", line 341, in fit\n",
      "    Xt = self._fit(X, y, **fit_params_steps)\n",
      "  File \"/opt/conda/lib/python3.9/site-packages/sklearn/pipeline.py\", line 303, in _fit\n",
      "    X, fitted_transformer = fit_transform_one_cached(\n",
      "  File \"/opt/conda/lib/python3.9/site-packages/joblib/memory.py\", line 349, in __call__\n",
      "    return self.func(*args, **kwargs)\n",
      "  File \"/opt/conda/lib/python3.9/site-packages/sklearn/pipeline.py\", line 754, in _fit_transform_one\n",
      "    res = transformer.fit_transform(X, y, **fit_params)\n",
      "  File \"/opt/conda/lib/python3.9/site-packages/sklearn/feature_extraction/text.py\", line 1850, in fit_transform\n",
      "    X = super().fit_transform(raw_documents)\n",
      "  File \"/opt/conda/lib/python3.9/site-packages/sklearn/feature_extraction/text.py\", line 1197, in fit_transform\n",
      "    self._validate_params()\n",
      "  File \"/opt/conda/lib/python3.9/site-packages/sklearn/feature_extraction/text.py\", line 481, in _validate_params\n",
      "    raise ValueError(\n",
      "ValueError: Invalid value for ngram_range=(3, 1) lower boundary larger than the upper boundary.\n",
      "\n",
      "  warnings.warn(\"Estimator fit failed. The score on this train-test\"\n",
      "/opt/conda/lib/python3.9/site-packages/sklearn/model_selection/_validation.py:610: FitFailedWarning: Estimator fit failed. The score on this train-test partition for these parameters will be set to nan. Details: \n",
      "Traceback (most recent call last):\n",
      "  File \"/opt/conda/lib/python3.9/site-packages/sklearn/model_selection/_validation.py\", line 593, in _fit_and_score\n",
      "    estimator.fit(X_train, y_train, **fit_params)\n",
      "  File \"/opt/conda/lib/python3.9/site-packages/sklearn/pipeline.py\", line 341, in fit\n",
      "    Xt = self._fit(X, y, **fit_params_steps)\n",
      "  File \"/opt/conda/lib/python3.9/site-packages/sklearn/pipeline.py\", line 303, in _fit\n",
      "    X, fitted_transformer = fit_transform_one_cached(\n",
      "  File \"/opt/conda/lib/python3.9/site-packages/joblib/memory.py\", line 349, in __call__\n",
      "    return self.func(*args, **kwargs)\n",
      "  File \"/opt/conda/lib/python3.9/site-packages/sklearn/pipeline.py\", line 754, in _fit_transform_one\n",
      "    res = transformer.fit_transform(X, y, **fit_params)\n",
      "  File \"/opt/conda/lib/python3.9/site-packages/sklearn/feature_extraction/text.py\", line 1850, in fit_transform\n",
      "    X = super().fit_transform(raw_documents)\n",
      "  File \"/opt/conda/lib/python3.9/site-packages/sklearn/feature_extraction/text.py\", line 1197, in fit_transform\n",
      "    self._validate_params()\n",
      "  File \"/opt/conda/lib/python3.9/site-packages/sklearn/feature_extraction/text.py\", line 481, in _validate_params\n",
      "    raise ValueError(\n",
      "ValueError: Invalid value for ngram_range=(3, 1) lower boundary larger than the upper boundary.\n",
      "\n",
      "  warnings.warn(\"Estimator fit failed. The score on this train-test\"\n",
      "/opt/conda/lib/python3.9/site-packages/sklearn/model_selection/_validation.py:610: FitFailedWarning: Estimator fit failed. The score on this train-test partition for these parameters will be set to nan. Details: \n",
      "Traceback (most recent call last):\n",
      "  File \"/opt/conda/lib/python3.9/site-packages/sklearn/model_selection/_validation.py\", line 593, in _fit_and_score\n",
      "    estimator.fit(X_train, y_train, **fit_params)\n",
      "  File \"/opt/conda/lib/python3.9/site-packages/sklearn/pipeline.py\", line 341, in fit\n",
      "    Xt = self._fit(X, y, **fit_params_steps)\n",
      "  File \"/opt/conda/lib/python3.9/site-packages/sklearn/pipeline.py\", line 303, in _fit\n",
      "    X, fitted_transformer = fit_transform_one_cached(\n",
      "  File \"/opt/conda/lib/python3.9/site-packages/joblib/memory.py\", line 349, in __call__\n",
      "    return self.func(*args, **kwargs)\n",
      "  File \"/opt/conda/lib/python3.9/site-packages/sklearn/pipeline.py\", line 754, in _fit_transform_one\n",
      "    res = transformer.fit_transform(X, y, **fit_params)\n",
      "  File \"/opt/conda/lib/python3.9/site-packages/sklearn/feature_extraction/text.py\", line 1850, in fit_transform\n",
      "    X = super().fit_transform(raw_documents)\n",
      "  File \"/opt/conda/lib/python3.9/site-packages/sklearn/feature_extraction/text.py\", line 1197, in fit_transform\n",
      "    self._validate_params()\n",
      "  File \"/opt/conda/lib/python3.9/site-packages/sklearn/feature_extraction/text.py\", line 481, in _validate_params\n",
      "    raise ValueError(\n",
      "ValueError: Invalid value for ngram_range=(3, 1) lower boundary larger than the upper boundary.\n",
      "\n",
      "  warnings.warn(\"Estimator fit failed. The score on this train-test\"\n",
      "/opt/conda/lib/python3.9/site-packages/sklearn/model_selection/_validation.py:610: FitFailedWarning: Estimator fit failed. The score on this train-test partition for these parameters will be set to nan. Details: \n",
      "Traceback (most recent call last):\n",
      "  File \"/opt/conda/lib/python3.9/site-packages/sklearn/model_selection/_validation.py\", line 593, in _fit_and_score\n",
      "    estimator.fit(X_train, y_train, **fit_params)\n",
      "  File \"/opt/conda/lib/python3.9/site-packages/sklearn/pipeline.py\", line 341, in fit\n",
      "    Xt = self._fit(X, y, **fit_params_steps)\n",
      "  File \"/opt/conda/lib/python3.9/site-packages/sklearn/pipeline.py\", line 303, in _fit\n",
      "    X, fitted_transformer = fit_transform_one_cached(\n",
      "  File \"/opt/conda/lib/python3.9/site-packages/joblib/memory.py\", line 349, in __call__\n",
      "    return self.func(*args, **kwargs)\n",
      "  File \"/opt/conda/lib/python3.9/site-packages/sklearn/pipeline.py\", line 754, in _fit_transform_one\n",
      "    res = transformer.fit_transform(X, y, **fit_params)\n",
      "  File \"/opt/conda/lib/python3.9/site-packages/sklearn/feature_extraction/text.py\", line 1850, in fit_transform\n",
      "    X = super().fit_transform(raw_documents)\n",
      "  File \"/opt/conda/lib/python3.9/site-packages/sklearn/feature_extraction/text.py\", line 1197, in fit_transform\n",
      "    self._validate_params()\n",
      "  File \"/opt/conda/lib/python3.9/site-packages/sklearn/feature_extraction/text.py\", line 481, in _validate_params\n",
      "    raise ValueError(\n",
      "ValueError: Invalid value for ngram_range=(3, 1) lower boundary larger than the upper boundary.\n",
      "\n",
      "  warnings.warn(\"Estimator fit failed. The score on this train-test\"\n",
      "/opt/conda/lib/python3.9/site-packages/sklearn/model_selection/_validation.py:610: FitFailedWarning: Estimator fit failed. The score on this train-test partition for these parameters will be set to nan. Details: \n",
      "Traceback (most recent call last):\n",
      "  File \"/opt/conda/lib/python3.9/site-packages/sklearn/model_selection/_validation.py\", line 593, in _fit_and_score\n",
      "    estimator.fit(X_train, y_train, **fit_params)\n",
      "  File \"/opt/conda/lib/python3.9/site-packages/sklearn/pipeline.py\", line 341, in fit\n",
      "    Xt = self._fit(X, y, **fit_params_steps)\n",
      "  File \"/opt/conda/lib/python3.9/site-packages/sklearn/pipeline.py\", line 303, in _fit\n",
      "    X, fitted_transformer = fit_transform_one_cached(\n",
      "  File \"/opt/conda/lib/python3.9/site-packages/joblib/memory.py\", line 349, in __call__\n",
      "    return self.func(*args, **kwargs)\n",
      "  File \"/opt/conda/lib/python3.9/site-packages/sklearn/pipeline.py\", line 754, in _fit_transform_one\n",
      "    res = transformer.fit_transform(X, y, **fit_params)\n",
      "  File \"/opt/conda/lib/python3.9/site-packages/sklearn/feature_extraction/text.py\", line 1850, in fit_transform\n",
      "    X = super().fit_transform(raw_documents)\n",
      "  File \"/opt/conda/lib/python3.9/site-packages/sklearn/feature_extraction/text.py\", line 1197, in fit_transform\n",
      "    self._validate_params()\n",
      "  File \"/opt/conda/lib/python3.9/site-packages/sklearn/feature_extraction/text.py\", line 481, in _validate_params\n",
      "    raise ValueError(\n",
      "ValueError: Invalid value for ngram_range=(5, 2) lower boundary larger than the upper boundary.\n",
      "\n",
      "  warnings.warn(\"Estimator fit failed. The score on this train-test\"\n",
      "/opt/conda/lib/python3.9/site-packages/sklearn/model_selection/_validation.py:610: FitFailedWarning: Estimator fit failed. The score on this train-test partition for these parameters will be set to nan. Details: \n",
      "Traceback (most recent call last):\n",
      "  File \"/opt/conda/lib/python3.9/site-packages/sklearn/model_selection/_validation.py\", line 593, in _fit_and_score\n",
      "    estimator.fit(X_train, y_train, **fit_params)\n",
      "  File \"/opt/conda/lib/python3.9/site-packages/sklearn/pipeline.py\", line 341, in fit\n",
      "    Xt = self._fit(X, y, **fit_params_steps)\n",
      "  File \"/opt/conda/lib/python3.9/site-packages/sklearn/pipeline.py\", line 303, in _fit\n",
      "    X, fitted_transformer = fit_transform_one_cached(\n",
      "  File \"/opt/conda/lib/python3.9/site-packages/joblib/memory.py\", line 349, in __call__\n",
      "    return self.func(*args, **kwargs)\n",
      "  File \"/opt/conda/lib/python3.9/site-packages/sklearn/pipeline.py\", line 754, in _fit_transform_one\n",
      "    res = transformer.fit_transform(X, y, **fit_params)\n",
      "  File \"/opt/conda/lib/python3.9/site-packages/sklearn/feature_extraction/text.py\", line 1850, in fit_transform\n",
      "    X = super().fit_transform(raw_documents)\n",
      "  File \"/opt/conda/lib/python3.9/site-packages/sklearn/feature_extraction/text.py\", line 1197, in fit_transform\n",
      "    self._validate_params()\n",
      "  File \"/opt/conda/lib/python3.9/site-packages/sklearn/feature_extraction/text.py\", line 481, in _validate_params\n",
      "    raise ValueError(\n",
      "ValueError: Invalid value for ngram_range=(5, 2) lower boundary larger than the upper boundary.\n",
      "\n",
      "  warnings.warn(\"Estimator fit failed. The score on this train-test\"\n",
      "/opt/conda/lib/python3.9/site-packages/sklearn/model_selection/_validation.py:610: FitFailedWarning: Estimator fit failed. The score on this train-test partition for these parameters will be set to nan. Details: \n",
      "Traceback (most recent call last):\n",
      "  File \"/opt/conda/lib/python3.9/site-packages/sklearn/model_selection/_validation.py\", line 593, in _fit_and_score\n",
      "    estimator.fit(X_train, y_train, **fit_params)\n",
      "  File \"/opt/conda/lib/python3.9/site-packages/sklearn/pipeline.py\", line 341, in fit\n",
      "    Xt = self._fit(X, y, **fit_params_steps)\n",
      "  File \"/opt/conda/lib/python3.9/site-packages/sklearn/pipeline.py\", line 303, in _fit\n",
      "    X, fitted_transformer = fit_transform_one_cached(\n",
      "  File \"/opt/conda/lib/python3.9/site-packages/joblib/memory.py\", line 349, in __call__\n",
      "    return self.func(*args, **kwargs)\n",
      "  File \"/opt/conda/lib/python3.9/site-packages/sklearn/pipeline.py\", line 754, in _fit_transform_one\n",
      "    res = transformer.fit_transform(X, y, **fit_params)\n",
      "  File \"/opt/conda/lib/python3.9/site-packages/sklearn/feature_extraction/text.py\", line 1850, in fit_transform\n",
      "    X = super().fit_transform(raw_documents)\n",
      "  File \"/opt/conda/lib/python3.9/site-packages/sklearn/feature_extraction/text.py\", line 1197, in fit_transform\n",
      "    self._validate_params()\n",
      "  File \"/opt/conda/lib/python3.9/site-packages/sklearn/feature_extraction/text.py\", line 481, in _validate_params\n",
      "    raise ValueError(\n",
      "ValueError: Invalid value for ngram_range=(5, 2) lower boundary larger than the upper boundary.\n",
      "\n",
      "  warnings.warn(\"Estimator fit failed. The score on this train-test\"\n",
      "/opt/conda/lib/python3.9/site-packages/sklearn/model_selection/_validation.py:610: FitFailedWarning: Estimator fit failed. The score on this train-test partition for these parameters will be set to nan. Details: \n",
      "Traceback (most recent call last):\n",
      "  File \"/opt/conda/lib/python3.9/site-packages/sklearn/model_selection/_validation.py\", line 593, in _fit_and_score\n",
      "    estimator.fit(X_train, y_train, **fit_params)\n",
      "  File \"/opt/conda/lib/python3.9/site-packages/sklearn/pipeline.py\", line 341, in fit\n",
      "    Xt = self._fit(X, y, **fit_params_steps)\n",
      "  File \"/opt/conda/lib/python3.9/site-packages/sklearn/pipeline.py\", line 303, in _fit\n",
      "    X, fitted_transformer = fit_transform_one_cached(\n",
      "  File \"/opt/conda/lib/python3.9/site-packages/joblib/memory.py\", line 349, in __call__\n",
      "    return self.func(*args, **kwargs)\n",
      "  File \"/opt/conda/lib/python3.9/site-packages/sklearn/pipeline.py\", line 754, in _fit_transform_one\n",
      "    res = transformer.fit_transform(X, y, **fit_params)\n",
      "  File \"/opt/conda/lib/python3.9/site-packages/sklearn/feature_extraction/text.py\", line 1850, in fit_transform\n",
      "    X = super().fit_transform(raw_documents)\n",
      "  File \"/opt/conda/lib/python3.9/site-packages/sklearn/feature_extraction/text.py\", line 1197, in fit_transform\n",
      "    self._validate_params()\n",
      "  File \"/opt/conda/lib/python3.9/site-packages/sklearn/feature_extraction/text.py\", line 481, in _validate_params\n",
      "    raise ValueError(\n",
      "ValueError: Invalid value for ngram_range=(5, 2) lower boundary larger than the upper boundary.\n",
      "\n",
      "  warnings.warn(\"Estimator fit failed. The score on this train-test\"\n",
      "/opt/conda/lib/python3.9/site-packages/sklearn/model_selection/_validation.py:610: FitFailedWarning: Estimator fit failed. The score on this train-test partition for these parameters will be set to nan. Details: \n",
      "Traceback (most recent call last):\n",
      "  File \"/opt/conda/lib/python3.9/site-packages/sklearn/model_selection/_validation.py\", line 593, in _fit_and_score\n",
      "    estimator.fit(X_train, y_train, **fit_params)\n",
      "  File \"/opt/conda/lib/python3.9/site-packages/sklearn/pipeline.py\", line 341, in fit\n",
      "    Xt = self._fit(X, y, **fit_params_steps)\n",
      "  File \"/opt/conda/lib/python3.9/site-packages/sklearn/pipeline.py\", line 303, in _fit\n",
      "    X, fitted_transformer = fit_transform_one_cached(\n",
      "  File \"/opt/conda/lib/python3.9/site-packages/joblib/memory.py\", line 349, in __call__\n",
      "    return self.func(*args, **kwargs)\n",
      "  File \"/opt/conda/lib/python3.9/site-packages/sklearn/pipeline.py\", line 754, in _fit_transform_one\n",
      "    res = transformer.fit_transform(X, y, **fit_params)\n",
      "  File \"/opt/conda/lib/python3.9/site-packages/sklearn/feature_extraction/text.py\", line 1850, in fit_transform\n",
      "    X = super().fit_transform(raw_documents)\n",
      "  File \"/opt/conda/lib/python3.9/site-packages/sklearn/feature_extraction/text.py\", line 1197, in fit_transform\n",
      "    self._validate_params()\n",
      "  File \"/opt/conda/lib/python3.9/site-packages/sklearn/feature_extraction/text.py\", line 481, in _validate_params\n",
      "    raise ValueError(\n",
      "ValueError: Invalid value for ngram_range=(5, 2) lower boundary larger than the upper boundary.\n",
      "\n",
      "  warnings.warn(\"Estimator fit failed. The score on this train-test\"\n",
      "/opt/conda/lib/python3.9/site-packages/sklearn/model_selection/_validation.py:610: FitFailedWarning: Estimator fit failed. The score on this train-test partition for these parameters will be set to nan. Details: \n",
      "Traceback (most recent call last):\n",
      "  File \"/opt/conda/lib/python3.9/site-packages/sklearn/model_selection/_validation.py\", line 593, in _fit_and_score\n",
      "    estimator.fit(X_train, y_train, **fit_params)\n",
      "  File \"/opt/conda/lib/python3.9/site-packages/sklearn/pipeline.py\", line 341, in fit\n",
      "    Xt = self._fit(X, y, **fit_params_steps)\n",
      "  File \"/opt/conda/lib/python3.9/site-packages/sklearn/pipeline.py\", line 303, in _fit\n",
      "    X, fitted_transformer = fit_transform_one_cached(\n",
      "  File \"/opt/conda/lib/python3.9/site-packages/joblib/memory.py\", line 349, in __call__\n",
      "    return self.func(*args, **kwargs)\n",
      "  File \"/opt/conda/lib/python3.9/site-packages/sklearn/pipeline.py\", line 754, in _fit_transform_one\n",
      "    res = transformer.fit_transform(X, y, **fit_params)\n",
      "  File \"/opt/conda/lib/python3.9/site-packages/sklearn/feature_extraction/text.py\", line 1850, in fit_transform\n",
      "    X = super().fit_transform(raw_documents)\n",
      "  File \"/opt/conda/lib/python3.9/site-packages/sklearn/feature_extraction/text.py\", line 1197, in fit_transform\n",
      "    self._validate_params()\n",
      "  File \"/opt/conda/lib/python3.9/site-packages/sklearn/feature_extraction/text.py\", line 481, in _validate_params\n",
      "    raise ValueError(\n",
      "ValueError: Invalid value for ngram_range=(3, 1) lower boundary larger than the upper boundary.\n",
      "\n",
      "  warnings.warn(\"Estimator fit failed. The score on this train-test\"\n",
      "/opt/conda/lib/python3.9/site-packages/sklearn/model_selection/_validation.py:610: FitFailedWarning: Estimator fit failed. The score on this train-test partition for these parameters will be set to nan. Details: \n",
      "Traceback (most recent call last):\n",
      "  File \"/opt/conda/lib/python3.9/site-packages/sklearn/model_selection/_validation.py\", line 593, in _fit_and_score\n",
      "    estimator.fit(X_train, y_train, **fit_params)\n",
      "  File \"/opt/conda/lib/python3.9/site-packages/sklearn/pipeline.py\", line 341, in fit\n",
      "    Xt = self._fit(X, y, **fit_params_steps)\n",
      "  File \"/opt/conda/lib/python3.9/site-packages/sklearn/pipeline.py\", line 303, in _fit\n",
      "    X, fitted_transformer = fit_transform_one_cached(\n",
      "  File \"/opt/conda/lib/python3.9/site-packages/joblib/memory.py\", line 349, in __call__\n",
      "    return self.func(*args, **kwargs)\n",
      "  File \"/opt/conda/lib/python3.9/site-packages/sklearn/pipeline.py\", line 754, in _fit_transform_one\n",
      "    res = transformer.fit_transform(X, y, **fit_params)\n",
      "  File \"/opt/conda/lib/python3.9/site-packages/sklearn/feature_extraction/text.py\", line 1850, in fit_transform\n",
      "    X = super().fit_transform(raw_documents)\n",
      "  File \"/opt/conda/lib/python3.9/site-packages/sklearn/feature_extraction/text.py\", line 1197, in fit_transform\n",
      "    self._validate_params()\n",
      "  File \"/opt/conda/lib/python3.9/site-packages/sklearn/feature_extraction/text.py\", line 481, in _validate_params\n",
      "    raise ValueError(\n",
      "ValueError: Invalid value for ngram_range=(3, 1) lower boundary larger than the upper boundary.\n",
      "\n",
      "  warnings.warn(\"Estimator fit failed. The score on this train-test\"\n",
      "/opt/conda/lib/python3.9/site-packages/sklearn/model_selection/_validation.py:610: FitFailedWarning: Estimator fit failed. The score on this train-test partition for these parameters will be set to nan. Details: \n",
      "Traceback (most recent call last):\n",
      "  File \"/opt/conda/lib/python3.9/site-packages/sklearn/model_selection/_validation.py\", line 593, in _fit_and_score\n",
      "    estimator.fit(X_train, y_train, **fit_params)\n",
      "  File \"/opt/conda/lib/python3.9/site-packages/sklearn/pipeline.py\", line 341, in fit\n",
      "    Xt = self._fit(X, y, **fit_params_steps)\n",
      "  File \"/opt/conda/lib/python3.9/site-packages/sklearn/pipeline.py\", line 303, in _fit\n",
      "    X, fitted_transformer = fit_transform_one_cached(\n",
      "  File \"/opt/conda/lib/python3.9/site-packages/joblib/memory.py\", line 349, in __call__\n",
      "    return self.func(*args, **kwargs)\n",
      "  File \"/opt/conda/lib/python3.9/site-packages/sklearn/pipeline.py\", line 754, in _fit_transform_one\n",
      "    res = transformer.fit_transform(X, y, **fit_params)\n",
      "  File \"/opt/conda/lib/python3.9/site-packages/sklearn/feature_extraction/text.py\", line 1850, in fit_transform\n",
      "    X = super().fit_transform(raw_documents)\n",
      "  File \"/opt/conda/lib/python3.9/site-packages/sklearn/feature_extraction/text.py\", line 1197, in fit_transform\n",
      "    self._validate_params()\n",
      "  File \"/opt/conda/lib/python3.9/site-packages/sklearn/feature_extraction/text.py\", line 481, in _validate_params\n",
      "    raise ValueError(\n",
      "ValueError: Invalid value for ngram_range=(3, 1) lower boundary larger than the upper boundary.\n",
      "\n",
      "  warnings.warn(\"Estimator fit failed. The score on this train-test\"\n",
      "/opt/conda/lib/python3.9/site-packages/sklearn/model_selection/_validation.py:610: FitFailedWarning: Estimator fit failed. The score on this train-test partition for these parameters will be set to nan. Details: \n",
      "Traceback (most recent call last):\n",
      "  File \"/opt/conda/lib/python3.9/site-packages/sklearn/model_selection/_validation.py\", line 593, in _fit_and_score\n",
      "    estimator.fit(X_train, y_train, **fit_params)\n",
      "  File \"/opt/conda/lib/python3.9/site-packages/sklearn/pipeline.py\", line 341, in fit\n",
      "    Xt = self._fit(X, y, **fit_params_steps)\n",
      "  File \"/opt/conda/lib/python3.9/site-packages/sklearn/pipeline.py\", line 303, in _fit\n",
      "    X, fitted_transformer = fit_transform_one_cached(\n",
      "  File \"/opt/conda/lib/python3.9/site-packages/joblib/memory.py\", line 349, in __call__\n",
      "    return self.func(*args, **kwargs)\n",
      "  File \"/opt/conda/lib/python3.9/site-packages/sklearn/pipeline.py\", line 754, in _fit_transform_one\n",
      "    res = transformer.fit_transform(X, y, **fit_params)\n",
      "  File \"/opt/conda/lib/python3.9/site-packages/sklearn/feature_extraction/text.py\", line 1850, in fit_transform\n",
      "    X = super().fit_transform(raw_documents)\n",
      "  File \"/opt/conda/lib/python3.9/site-packages/sklearn/feature_extraction/text.py\", line 1197, in fit_transform\n",
      "    self._validate_params()\n",
      "  File \"/opt/conda/lib/python3.9/site-packages/sklearn/feature_extraction/text.py\", line 481, in _validate_params\n",
      "    raise ValueError(\n",
      "ValueError: Invalid value for ngram_range=(3, 1) lower boundary larger than the upper boundary.\n",
      "\n",
      "  warnings.warn(\"Estimator fit failed. The score on this train-test\"\n",
      "/opt/conda/lib/python3.9/site-packages/sklearn/model_selection/_validation.py:610: FitFailedWarning: Estimator fit failed. The score on this train-test partition for these parameters will be set to nan. Details: \n",
      "Traceback (most recent call last):\n",
      "  File \"/opt/conda/lib/python3.9/site-packages/sklearn/model_selection/_validation.py\", line 593, in _fit_and_score\n",
      "    estimator.fit(X_train, y_train, **fit_params)\n",
      "  File \"/opt/conda/lib/python3.9/site-packages/sklearn/pipeline.py\", line 341, in fit\n",
      "    Xt = self._fit(X, y, **fit_params_steps)\n",
      "  File \"/opt/conda/lib/python3.9/site-packages/sklearn/pipeline.py\", line 303, in _fit\n",
      "    X, fitted_transformer = fit_transform_one_cached(\n",
      "  File \"/opt/conda/lib/python3.9/site-packages/joblib/memory.py\", line 349, in __call__\n",
      "    return self.func(*args, **kwargs)\n",
      "  File \"/opt/conda/lib/python3.9/site-packages/sklearn/pipeline.py\", line 754, in _fit_transform_one\n",
      "    res = transformer.fit_transform(X, y, **fit_params)\n",
      "  File \"/opt/conda/lib/python3.9/site-packages/sklearn/feature_extraction/text.py\", line 1850, in fit_transform\n",
      "    X = super().fit_transform(raw_documents)\n",
      "  File \"/opt/conda/lib/python3.9/site-packages/sklearn/feature_extraction/text.py\", line 1197, in fit_transform\n",
      "    self._validate_params()\n",
      "  File \"/opt/conda/lib/python3.9/site-packages/sklearn/feature_extraction/text.py\", line 481, in _validate_params\n",
      "    raise ValueError(\n",
      "ValueError: Invalid value for ngram_range=(3, 1) lower boundary larger than the upper boundary.\n",
      "\n",
      "  warnings.warn(\"Estimator fit failed. The score on this train-test\"\n",
      "/opt/conda/lib/python3.9/site-packages/sklearn/model_selection/_validation.py:610: FitFailedWarning: Estimator fit failed. The score on this train-test partition for these parameters will be set to nan. Details: \n",
      "Traceback (most recent call last):\n",
      "  File \"/opt/conda/lib/python3.9/site-packages/sklearn/model_selection/_validation.py\", line 593, in _fit_and_score\n",
      "    estimator.fit(X_train, y_train, **fit_params)\n",
      "  File \"/opt/conda/lib/python3.9/site-packages/sklearn/pipeline.py\", line 341, in fit\n",
      "    Xt = self._fit(X, y, **fit_params_steps)\n",
      "  File \"/opt/conda/lib/python3.9/site-packages/sklearn/pipeline.py\", line 303, in _fit\n",
      "    X, fitted_transformer = fit_transform_one_cached(\n",
      "  File \"/opt/conda/lib/python3.9/site-packages/joblib/memory.py\", line 349, in __call__\n",
      "    return self.func(*args, **kwargs)\n",
      "  File \"/opt/conda/lib/python3.9/site-packages/sklearn/pipeline.py\", line 754, in _fit_transform_one\n",
      "    res = transformer.fit_transform(X, y, **fit_params)\n",
      "  File \"/opt/conda/lib/python3.9/site-packages/sklearn/feature_extraction/text.py\", line 1850, in fit_transform\n",
      "    X = super().fit_transform(raw_documents)\n",
      "  File \"/opt/conda/lib/python3.9/site-packages/sklearn/feature_extraction/text.py\", line 1197, in fit_transform\n",
      "    self._validate_params()\n",
      "  File \"/opt/conda/lib/python3.9/site-packages/sklearn/feature_extraction/text.py\", line 481, in _validate_params\n",
      "    raise ValueError(\n",
      "ValueError: Invalid value for ngram_range=(5, 2) lower boundary larger than the upper boundary.\n",
      "\n",
      "  warnings.warn(\"Estimator fit failed. The score on this train-test\"\n",
      "/opt/conda/lib/python3.9/site-packages/sklearn/model_selection/_validation.py:610: FitFailedWarning: Estimator fit failed. The score on this train-test partition for these parameters will be set to nan. Details: \n",
      "Traceback (most recent call last):\n",
      "  File \"/opt/conda/lib/python3.9/site-packages/sklearn/model_selection/_validation.py\", line 593, in _fit_and_score\n",
      "    estimator.fit(X_train, y_train, **fit_params)\n",
      "  File \"/opt/conda/lib/python3.9/site-packages/sklearn/pipeline.py\", line 341, in fit\n",
      "    Xt = self._fit(X, y, **fit_params_steps)\n",
      "  File \"/opt/conda/lib/python3.9/site-packages/sklearn/pipeline.py\", line 303, in _fit\n",
      "    X, fitted_transformer = fit_transform_one_cached(\n",
      "  File \"/opt/conda/lib/python3.9/site-packages/joblib/memory.py\", line 349, in __call__\n",
      "    return self.func(*args, **kwargs)\n",
      "  File \"/opt/conda/lib/python3.9/site-packages/sklearn/pipeline.py\", line 754, in _fit_transform_one\n",
      "    res = transformer.fit_transform(X, y, **fit_params)\n",
      "  File \"/opt/conda/lib/python3.9/site-packages/sklearn/feature_extraction/text.py\", line 1850, in fit_transform\n",
      "    X = super().fit_transform(raw_documents)\n",
      "  File \"/opt/conda/lib/python3.9/site-packages/sklearn/feature_extraction/text.py\", line 1197, in fit_transform\n",
      "    self._validate_params()\n",
      "  File \"/opt/conda/lib/python3.9/site-packages/sklearn/feature_extraction/text.py\", line 481, in _validate_params\n",
      "    raise ValueError(\n",
      "ValueError: Invalid value for ngram_range=(5, 2) lower boundary larger than the upper boundary.\n",
      "\n",
      "  warnings.warn(\"Estimator fit failed. The score on this train-test\"\n",
      "/opt/conda/lib/python3.9/site-packages/sklearn/model_selection/_validation.py:610: FitFailedWarning: Estimator fit failed. The score on this train-test partition for these parameters will be set to nan. Details: \n",
      "Traceback (most recent call last):\n",
      "  File \"/opt/conda/lib/python3.9/site-packages/sklearn/model_selection/_validation.py\", line 593, in _fit_and_score\n",
      "    estimator.fit(X_train, y_train, **fit_params)\n",
      "  File \"/opt/conda/lib/python3.9/site-packages/sklearn/pipeline.py\", line 341, in fit\n",
      "    Xt = self._fit(X, y, **fit_params_steps)\n",
      "  File \"/opt/conda/lib/python3.9/site-packages/sklearn/pipeline.py\", line 303, in _fit\n",
      "    X, fitted_transformer = fit_transform_one_cached(\n",
      "  File \"/opt/conda/lib/python3.9/site-packages/joblib/memory.py\", line 349, in __call__\n",
      "    return self.func(*args, **kwargs)\n",
      "  File \"/opt/conda/lib/python3.9/site-packages/sklearn/pipeline.py\", line 754, in _fit_transform_one\n",
      "    res = transformer.fit_transform(X, y, **fit_params)\n",
      "  File \"/opt/conda/lib/python3.9/site-packages/sklearn/feature_extraction/text.py\", line 1850, in fit_transform\n",
      "    X = super().fit_transform(raw_documents)\n",
      "  File \"/opt/conda/lib/python3.9/site-packages/sklearn/feature_extraction/text.py\", line 1197, in fit_transform\n",
      "    self._validate_params()\n",
      "  File \"/opt/conda/lib/python3.9/site-packages/sklearn/feature_extraction/text.py\", line 481, in _validate_params\n",
      "    raise ValueError(\n",
      "ValueError: Invalid value for ngram_range=(5, 2) lower boundary larger than the upper boundary.\n",
      "\n",
      "  warnings.warn(\"Estimator fit failed. The score on this train-test\"\n",
      "/opt/conda/lib/python3.9/site-packages/sklearn/model_selection/_validation.py:610: FitFailedWarning: Estimator fit failed. The score on this train-test partition for these parameters will be set to nan. Details: \n",
      "Traceback (most recent call last):\n",
      "  File \"/opt/conda/lib/python3.9/site-packages/sklearn/model_selection/_validation.py\", line 593, in _fit_and_score\n",
      "    estimator.fit(X_train, y_train, **fit_params)\n",
      "  File \"/opt/conda/lib/python3.9/site-packages/sklearn/pipeline.py\", line 341, in fit\n",
      "    Xt = self._fit(X, y, **fit_params_steps)\n",
      "  File \"/opt/conda/lib/python3.9/site-packages/sklearn/pipeline.py\", line 303, in _fit\n",
      "    X, fitted_transformer = fit_transform_one_cached(\n",
      "  File \"/opt/conda/lib/python3.9/site-packages/joblib/memory.py\", line 349, in __call__\n",
      "    return self.func(*args, **kwargs)\n",
      "  File \"/opt/conda/lib/python3.9/site-packages/sklearn/pipeline.py\", line 754, in _fit_transform_one\n",
      "    res = transformer.fit_transform(X, y, **fit_params)\n",
      "  File \"/opt/conda/lib/python3.9/site-packages/sklearn/feature_extraction/text.py\", line 1850, in fit_transform\n",
      "    X = super().fit_transform(raw_documents)\n",
      "  File \"/opt/conda/lib/python3.9/site-packages/sklearn/feature_extraction/text.py\", line 1197, in fit_transform\n",
      "    self._validate_params()\n",
      "  File \"/opt/conda/lib/python3.9/site-packages/sklearn/feature_extraction/text.py\", line 481, in _validate_params\n",
      "    raise ValueError(\n",
      "ValueError: Invalid value for ngram_range=(5, 2) lower boundary larger than the upper boundary.\n",
      "\n",
      "  warnings.warn(\"Estimator fit failed. The score on this train-test\"\n",
      "/opt/conda/lib/python3.9/site-packages/sklearn/model_selection/_validation.py:610: FitFailedWarning: Estimator fit failed. The score on this train-test partition for these parameters will be set to nan. Details: \n",
      "Traceback (most recent call last):\n",
      "  File \"/opt/conda/lib/python3.9/site-packages/sklearn/model_selection/_validation.py\", line 593, in _fit_and_score\n",
      "    estimator.fit(X_train, y_train, **fit_params)\n",
      "  File \"/opt/conda/lib/python3.9/site-packages/sklearn/pipeline.py\", line 341, in fit\n",
      "    Xt = self._fit(X, y, **fit_params_steps)\n",
      "  File \"/opt/conda/lib/python3.9/site-packages/sklearn/pipeline.py\", line 303, in _fit\n",
      "    X, fitted_transformer = fit_transform_one_cached(\n",
      "  File \"/opt/conda/lib/python3.9/site-packages/joblib/memory.py\", line 349, in __call__\n",
      "    return self.func(*args, **kwargs)\n",
      "  File \"/opt/conda/lib/python3.9/site-packages/sklearn/pipeline.py\", line 754, in _fit_transform_one\n",
      "    res = transformer.fit_transform(X, y, **fit_params)\n",
      "  File \"/opt/conda/lib/python3.9/site-packages/sklearn/feature_extraction/text.py\", line 1850, in fit_transform\n",
      "    X = super().fit_transform(raw_documents)\n",
      "  File \"/opt/conda/lib/python3.9/site-packages/sklearn/feature_extraction/text.py\", line 1197, in fit_transform\n",
      "    self._validate_params()\n",
      "  File \"/opt/conda/lib/python3.9/site-packages/sklearn/feature_extraction/text.py\", line 481, in _validate_params\n",
      "    raise ValueError(\n",
      "ValueError: Invalid value for ngram_range=(5, 2) lower boundary larger than the upper boundary.\n",
      "\n",
      "  warnings.warn(\"Estimator fit failed. The score on this train-test\"\n",
      "/opt/conda/lib/python3.9/site-packages/sklearn/model_selection/_search.py:918: UserWarning: One or more of the test scores are non-finite: [0.95851759        nan        nan 0.95850512        nan        nan\n",
      " 0.9489591         nan        nan 0.94894575        nan        nan]\n",
      "  warnings.warn(\n"
     ]
    },
    {
     "name": "stdout",
     "output_type": "stream",
     "text": [
      "0.9585175873876421\n",
      "{'lg__fit_intercept': True, 'lg__solver': 'liblinear', 'vectorize__ngram_range': (1, 1)}\n"
     ]
    }
   ],
   "source": [
    "pipe = Pipeline([\n",
    "    ('vectorize', TfidfVectorizer(ngram_range=(1, 1))),\n",
    "    ('lg', LogisticRegression(max_iter=150, solver='liblinear', random_state=42))\n",
    "                    ])\n",
    "\n",
    "cv = KFold()\n",
    "\n",
    "param_grid = {\n",
    "    'vectorize__ngram_range': [(1, 1), (3, 1), (5, 2)],\n",
    "    'lg__solver':['liblinear', 'lbfgs'],\n",
    "    'lg__fit_intercept':[True, False],\n",
    "}\n",
    "# initialize\n",
    "grid_pipeline_lr = GridSearchCV(pipe, param_grid,  cv = cv, scoring='f1')\n",
    "# fit\n",
    "grid_pipeline_lr.fit(features_train, target_train)\n",
    "print(grid_pipeline_lr.best_score_)\n",
    "print(grid_pipeline_lr.best_params_)\n"
   ]
  },
  {
   "cell_type": "code",
   "execution_count": 332,
   "metadata": {
    "scrolled": true
   },
   "outputs": [
    {
     "name": "stdout",
     "output_type": "stream",
     "text": [
      "LogisticRegression:  0.7466379774072082\n"
     ]
    }
   ],
   "source": [
    "lr_model = grid_pipeline_lr.best_estimator_\n",
    "lr_model.fit(features_train, target_train)\n",
    "lr_predictions = lr_model.predict(features_test)\n",
    "print('LogisticRegression: ',f1_score(lr_predictions, target_test))"
   ]
  },
  {
   "cell_type": "markdown",
   "metadata": {},
   "source": [
    "## Выводы"
   ]
  },
  {
   "cell_type": "markdown",
   "metadata": {},
   "source": [
    "Мы проделали большое количество работы. Постараюсь кратко в данном разделе описать эти \"подвиги\"\n",
    "\n",
    "- На начальном этапе мы ознакомились с данными. Посмотрели есть ли явные дубликаты, посмотрели на сами данные;\n",
    "- Далее мы занялись обработкой данных. Сначала мы очистили данные с текстом от ненужного - переносы строк, ненужные пробелы, знаки;\n",
    "- Затем мы лемматизировали данные;\n",
    "- Выявив дисбаланс в данных мы апсэмплировали выборку для лучшей обучаемости модели;\n",
    "- Так как перед нами стояла задача классификации, то мы выбрали логистическую регрессию. Но не стали сразу обучать её на данных;\n",
    "- Сначала мы векторизировали данные, потом поделили выборки на обучающую и тестовую;\n",
    "- Далее мы приступили к подбору гиперпараметров, подобрав которые мы смогли перейти к главному шагу этой работы - обучение модели. К слову подбор гиперпараметров был самом времязатратной операцией;\n",
    "- Обучив модель и подставив гиперпараметры мы получили значение 0.94. Отличный результат."
   ]
  }
 ],
 "metadata": {
  "ExecuteTimeLog": [
   {
    "duration": 77000,
    "start_time": "2022-08-02T14:27:18.170Z"
   },
   {
    "duration": 94669,
    "start_time": "2022-08-02T14:28:52.490Z"
   },
   {
    "duration": 3808,
    "start_time": "2022-08-02T14:31:38.166Z"
   },
   {
    "duration": 15,
    "start_time": "2022-08-02T14:31:47.133Z"
   },
   {
    "duration": 936,
    "start_time": "2022-08-02T14:32:00.031Z"
   },
   {
    "duration": 21,
    "start_time": "2022-08-02T14:32:09.556Z"
   },
   {
    "duration": 8,
    "start_time": "2022-08-02T14:34:38.881Z"
   },
   {
    "duration": 19,
    "start_time": "2022-08-02T14:34:58.247Z"
   },
   {
    "duration": 4,
    "start_time": "2022-08-02T14:40:38.638Z"
   },
   {
    "duration": 2160,
    "start_time": "2022-08-02T14:41:17.598Z"
   },
   {
    "duration": 817,
    "start_time": "2022-08-02T14:41:42.780Z"
   },
   {
    "duration": 256,
    "start_time": "2022-08-02T14:41:47.134Z"
   },
   {
    "duration": 3,
    "start_time": "2022-08-02T14:41:59.642Z"
   },
   {
    "duration": 21,
    "start_time": "2022-08-02T14:42:02.684Z"
   },
   {
    "duration": 2931,
    "start_time": "2022-08-02T14:42:20.034Z"
   },
   {
    "duration": 3024,
    "start_time": "2022-08-02T14:42:28.164Z"
   },
   {
    "duration": 3,
    "start_time": "2022-08-02T14:45:49.797Z"
   },
   {
    "duration": 2015,
    "start_time": "2022-08-02T14:45:52.339Z"
   },
   {
    "duration": 4,
    "start_time": "2022-08-02T14:48:25.962Z"
   },
   {
    "duration": 2013,
    "start_time": "2022-08-02T14:48:27.541Z"
   },
   {
    "duration": 3,
    "start_time": "2022-08-02T14:49:07.568Z"
   },
   {
    "duration": 14990,
    "start_time": "2022-08-02T14:49:09.830Z"
   },
   {
    "duration": 4,
    "start_time": "2022-08-02T14:49:37.038Z"
   },
   {
    "duration": 1885,
    "start_time": "2022-08-02T14:49:42.147Z"
   },
   {
    "duration": 108,
    "start_time": "2022-08-02T14:51:49.537Z"
   },
   {
    "duration": 4,
    "start_time": "2022-08-02T14:51:55.176Z"
   },
   {
    "duration": 408,
    "start_time": "2022-08-02T14:51:57.852Z"
   },
   {
    "duration": 3,
    "start_time": "2022-08-02T14:52:34.447Z"
   },
   {
    "duration": 454,
    "start_time": "2022-08-02T14:52:35.974Z"
   },
   {
    "duration": 4,
    "start_time": "2022-08-02T14:52:49.182Z"
   },
   {
    "duration": 437,
    "start_time": "2022-08-02T14:52:52.183Z"
   },
   {
    "duration": 4,
    "start_time": "2022-08-02T14:52:57.394Z"
   },
   {
    "duration": 448,
    "start_time": "2022-08-02T14:52:59.872Z"
   },
   {
    "duration": 4,
    "start_time": "2022-08-02T14:53:09.380Z"
   },
   {
    "duration": 415,
    "start_time": "2022-08-02T14:53:12.336Z"
   },
   {
    "duration": 4,
    "start_time": "2022-08-02T14:55:23.048Z"
   },
   {
    "duration": 2185,
    "start_time": "2022-08-02T14:55:25.581Z"
   },
   {
    "duration": 30,
    "start_time": "2022-08-02T14:58:51.252Z"
   },
   {
    "duration": 83921,
    "start_time": "2022-08-02T14:59:53.668Z"
   },
   {
    "duration": 20,
    "start_time": "2022-08-02T15:13:18.629Z"
   },
   {
    "duration": 168,
    "start_time": "2022-08-02T15:13:22.351Z"
   },
   {
    "duration": 222,
    "start_time": "2022-08-02T15:14:02.655Z"
   },
   {
    "duration": 162,
    "start_time": "2022-08-02T15:14:24.024Z"
   },
   {
    "duration": 314,
    "start_time": "2022-08-02T15:14:28.953Z"
   },
   {
    "duration": 161,
    "start_time": "2022-08-02T15:14:34.465Z"
   },
   {
    "duration": 148,
    "start_time": "2022-08-02T15:14:39.125Z"
   },
   {
    "duration": 8,
    "start_time": "2022-08-02T15:16:06.727Z"
   },
   {
    "duration": 159,
    "start_time": "2022-08-02T15:16:18.326Z"
   },
   {
    "duration": 21,
    "start_time": "2022-08-02T17:56:00.944Z"
   },
   {
    "duration": 4,
    "start_time": "2022-08-02T17:56:14.833Z"
   },
   {
    "duration": 18,
    "start_time": "2022-08-02T17:57:17.451Z"
   },
   {
    "duration": 4,
    "start_time": "2022-08-02T17:57:33.862Z"
   },
   {
    "duration": 69,
    "start_time": "2022-08-02T17:58:29.601Z"
   },
   {
    "duration": 157,
    "start_time": "2022-08-02T17:58:48.389Z"
   },
   {
    "duration": 84,
    "start_time": "2022-08-02T17:58:57.346Z"
   },
   {
    "duration": 168,
    "start_time": "2022-08-02T17:59:00.000Z"
   },
   {
    "duration": 79,
    "start_time": "2022-08-02T17:59:04.552Z"
   },
   {
    "duration": 152,
    "start_time": "2022-08-02T17:59:05.837Z"
   },
   {
    "duration": 86,
    "start_time": "2022-08-02T17:59:10.496Z"
   },
   {
    "duration": 155,
    "start_time": "2022-08-02T17:59:11.794Z"
   },
   {
    "duration": 85,
    "start_time": "2022-08-02T17:59:15.628Z"
   },
   {
    "duration": 153,
    "start_time": "2022-08-02T17:59:17.082Z"
   },
   {
    "duration": 100,
    "start_time": "2022-08-02T17:59:21.032Z"
   },
   {
    "duration": 343,
    "start_time": "2022-08-02T17:59:22.462Z"
   },
   {
    "duration": 98,
    "start_time": "2022-08-02T17:59:59.596Z"
   },
   {
    "duration": 150,
    "start_time": "2022-08-02T18:00:02.448Z"
   },
   {
    "duration": 154,
    "start_time": "2022-08-02T18:01:33.421Z"
   },
   {
    "duration": 55,
    "start_time": "2022-08-02T18:04:01.368Z"
   },
   {
    "duration": 23,
    "start_time": "2022-08-02T18:25:37.462Z"
   },
   {
    "duration": 10,
    "start_time": "2022-08-02T18:25:59.677Z"
   },
   {
    "duration": 52,
    "start_time": "2022-08-02T18:26:03.663Z"
   },
   {
    "duration": 149,
    "start_time": "2022-08-02T18:28:09.490Z"
   },
   {
    "duration": 110,
    "start_time": "2022-08-02T18:28:23.680Z"
   },
   {
    "duration": 128,
    "start_time": "2022-08-02T18:37:01.854Z"
   },
   {
    "duration": 2514,
    "start_time": "2022-08-02T18:39:16.564Z"
   },
   {
    "duration": 4,
    "start_time": "2022-08-02T18:43:31.964Z"
   },
   {
    "duration": 2726,
    "start_time": "2022-08-02T18:43:36.463Z"
   },
   {
    "duration": 74622,
    "start_time": "2022-08-02T18:43:47.661Z"
   },
   {
    "duration": 6,
    "start_time": "2022-08-02T18:46:41.060Z"
   },
   {
    "duration": 155,
    "start_time": "2022-08-02T18:46:46.224Z"
   },
   {
    "duration": 4,
    "start_time": "2022-08-02T18:46:51.115Z"
   },
   {
    "duration": 2,
    "start_time": "2022-08-02T18:46:53.325Z"
   },
   {
    "duration": 128,
    "start_time": "2022-08-02T18:46:56.042Z"
   },
   {
    "duration": 150,
    "start_time": "2022-08-02T18:46:58.823Z"
   },
   {
    "duration": 79,
    "start_time": "2022-08-02T18:47:01.582Z"
   },
   {
    "duration": 2504,
    "start_time": "2022-08-02T18:47:03.872Z"
   },
   {
    "duration": 18,
    "start_time": "2022-08-02T18:51:51.843Z"
   },
   {
    "duration": 1382,
    "start_time": "2022-08-02T18:51:58.633Z"
   },
   {
    "duration": 37,
    "start_time": "2022-08-02T18:52:16.664Z"
   },
   {
    "duration": 4,
    "start_time": "2022-08-02T18:52:49.784Z"
   },
   {
    "duration": 2729,
    "start_time": "2022-08-02T18:52:51.916Z"
   },
   {
    "duration": 28,
    "start_time": "2022-08-02T18:53:06.320Z"
   },
   {
    "duration": 73049,
    "start_time": "2022-08-02T18:53:11.318Z"
   },
   {
    "duration": 36,
    "start_time": "2022-08-02T18:55:56.885Z"
   },
   {
    "duration": 20,
    "start_time": "2022-08-02T18:57:08.574Z"
   },
   {
    "duration": 32,
    "start_time": "2022-08-02T19:00:36.117Z"
   },
   {
    "duration": 21,
    "start_time": "2022-08-02T19:00:43.962Z"
   },
   {
    "duration": 38,
    "start_time": "2022-08-02T19:04:13.783Z"
   },
   {
    "duration": 30,
    "start_time": "2022-08-02T19:04:34.061Z"
   },
   {
    "duration": 33,
    "start_time": "2022-08-02T19:04:51.715Z"
   },
   {
    "duration": 32,
    "start_time": "2022-08-02T19:04:59.415Z"
   },
   {
    "duration": 7,
    "start_time": "2022-08-02T19:05:13.617Z"
   },
   {
    "duration": 174,
    "start_time": "2022-08-02T19:05:16.365Z"
   },
   {
    "duration": 4,
    "start_time": "2022-08-02T19:05:18.878Z"
   },
   {
    "duration": 3,
    "start_time": "2022-08-02T19:05:21.418Z"
   },
   {
    "duration": 108,
    "start_time": "2022-08-02T19:05:23.214Z"
   },
   {
    "duration": 175,
    "start_time": "2022-08-02T19:05:25.341Z"
   },
   {
    "duration": 79,
    "start_time": "2022-08-02T19:05:27.615Z"
   },
   {
    "duration": 2619,
    "start_time": "2022-08-02T19:05:29.281Z"
   },
   {
    "duration": 76,
    "start_time": "2022-08-02T19:08:41.983Z"
   },
   {
    "duration": 24,
    "start_time": "2022-08-02T19:08:52.324Z"
   },
   {
    "duration": 24,
    "start_time": "2022-08-02T19:09:05.330Z"
   },
   {
    "duration": 32,
    "start_time": "2022-08-02T19:09:47.098Z"
   },
   {
    "duration": 41,
    "start_time": "2022-08-02T19:10:13.978Z"
   },
   {
    "duration": 31,
    "start_time": "2022-08-02T19:10:21.887Z"
   },
   {
    "duration": 31,
    "start_time": "2022-08-02T19:10:27.116Z"
   },
   {
    "duration": 4,
    "start_time": "2022-08-02T19:10:45.486Z"
   },
   {
    "duration": 3,
    "start_time": "2022-08-02T19:10:48.372Z"
   },
   {
    "duration": 93,
    "start_time": "2022-08-02T19:10:50.668Z"
   },
   {
    "duration": 159,
    "start_time": "2022-08-02T19:10:52.598Z"
   },
   {
    "duration": 64,
    "start_time": "2022-08-02T19:10:54.764Z"
   },
   {
    "duration": 2297,
    "start_time": "2022-08-02T19:10:57.022Z"
   },
   {
    "duration": 101,
    "start_time": "2022-08-02T19:12:53.690Z"
   },
   {
    "duration": 3,
    "start_time": "2022-08-02T19:12:57.429Z"
   },
   {
    "duration": 2801,
    "start_time": "2022-08-02T19:13:05.482Z"
   },
   {
    "duration": 3553,
    "start_time": "2022-08-02T19:13:18.829Z"
   },
   {
    "duration": 76499,
    "start_time": "2022-08-02T19:13:27.522Z"
   },
   {
    "duration": 6,
    "start_time": "2022-08-02T19:15:06.062Z"
   },
   {
    "duration": 159,
    "start_time": "2022-08-02T19:15:07.430Z"
   },
   {
    "duration": 4,
    "start_time": "2022-08-02T19:15:10.246Z"
   },
   {
    "duration": 3,
    "start_time": "2022-08-02T19:15:12.346Z"
   },
   {
    "duration": 105,
    "start_time": "2022-08-02T19:15:14.771Z"
   },
   {
    "duration": 158,
    "start_time": "2022-08-02T19:15:16.978Z"
   },
   {
    "duration": 85,
    "start_time": "2022-08-02T19:15:19.030Z"
   },
   {
    "duration": 2600,
    "start_time": "2022-08-02T19:15:21.016Z"
   },
   {
    "duration": 25,
    "start_time": "2022-08-02T19:22:28.201Z"
   },
   {
    "duration": 41,
    "start_time": "2022-08-02T19:22:54.502Z"
   },
   {
    "duration": 25,
    "start_time": "2022-08-02T19:22:58.817Z"
   },
   {
    "duration": 5011,
    "start_time": "2022-08-02T19:23:07.080Z"
   },
   {
    "duration": 8922,
    "start_time": "2022-08-02T19:27:55.879Z"
   },
   {
    "duration": 67,
    "start_time": "2022-08-02T19:28:07.635Z"
   },
   {
    "duration": 74,
    "start_time": "2022-08-02T19:28:25.263Z"
   },
   {
    "duration": 6,
    "start_time": "2022-08-02T19:28:46.563Z"
   },
   {
    "duration": 3,
    "start_time": "2022-08-02T19:28:58.255Z"
   },
   {
    "duration": 109,
    "start_time": "2022-08-02T19:29:04.297Z"
   },
   {
    "duration": 1790,
    "start_time": "2022-08-02T19:33:58.760Z"
   },
   {
    "duration": 5686,
    "start_time": "2022-08-02T19:35:10.630Z"
   },
   {
    "duration": 5,
    "start_time": "2022-08-02T19:35:27.958Z"
   },
   {
    "duration": 13243,
    "start_time": "2022-08-02T19:35:40.930Z"
   },
   {
    "duration": 4,
    "start_time": "2022-08-02T19:35:55.676Z"
   },
   {
    "duration": 16370,
    "start_time": "2022-08-02T19:58:06.834Z"
   },
   {
    "duration": 96,
    "start_time": "2022-08-02T19:58:23.272Z"
   },
   {
    "duration": 9641,
    "start_time": "2022-08-02T19:58:29.423Z"
   },
   {
    "duration": 0,
    "start_time": "2022-08-02T19:58:39.066Z"
   },
   {
    "duration": 29770,
    "start_time": "2022-08-02T19:58:54.373Z"
   },
   {
    "duration": 78,
    "start_time": "2022-08-02T19:59:24.145Z"
   },
   {
    "duration": 68,
    "start_time": "2022-08-02T19:59:29.550Z"
   },
   {
    "duration": 14499,
    "start_time": "2022-08-02T19:59:33.046Z"
   },
   {
    "duration": 624628,
    "start_time": "2022-08-02T19:59:51.128Z"
   },
   {
    "duration": 5,
    "start_time": "2022-08-02T20:15:13.132Z"
   },
   {
    "duration": 24,
    "start_time": "2022-08-02T20:18:25.729Z"
   },
   {
    "duration": 7,
    "start_time": "2022-08-02T20:19:02.461Z"
   },
   {
    "duration": 14820,
    "start_time": "2022-08-02T20:19:08.459Z"
   },
   {
    "duration": 14855,
    "start_time": "2022-08-02T20:19:48.971Z"
   },
   {
    "duration": 4,
    "start_time": "2022-08-02T20:22:55.284Z"
   },
   {
    "duration": 113,
    "start_time": "2022-08-04T13:56:05.613Z"
   },
   {
    "duration": 281,
    "start_time": "2022-08-04T13:56:50.711Z"
   },
   {
    "duration": 523,
    "start_time": "2022-08-04T13:57:50.285Z"
   },
   {
    "duration": 385,
    "start_time": "2022-08-04T13:58:02.109Z"
   },
   {
    "duration": 2,
    "start_time": "2022-08-04T13:58:45.216Z"
   },
   {
    "duration": 541,
    "start_time": "2022-08-04T13:58:56.071Z"
   },
   {
    "duration": 3856,
    "start_time": "2022-08-04T13:59:35.759Z"
   },
   {
    "duration": 3,
    "start_time": "2022-08-04T13:59:54.124Z"
   },
   {
    "duration": 11,
    "start_time": "2022-08-04T14:00:31.367Z"
   },
   {
    "duration": 170,
    "start_time": "2022-08-04T14:00:34.048Z"
   },
   {
    "duration": 4,
    "start_time": "2022-08-04T14:01:36.418Z"
   },
   {
    "duration": 4,
    "start_time": "2022-08-04T14:01:56.765Z"
   },
   {
    "duration": 80,
    "start_time": "2022-08-04T14:02:00.762Z"
   },
   {
    "duration": 77,
    "start_time": "2022-08-04T14:02:37.330Z"
   },
   {
    "duration": 3,
    "start_time": "2022-08-04T14:03:02.048Z"
   },
   {
    "duration": 42,
    "start_time": "2022-08-04T14:03:20.220Z"
   },
   {
    "duration": 0,
    "start_time": "2022-08-04T14:06:15.853Z"
   },
   {
    "duration": 169,
    "start_time": "2022-08-04T14:07:37.649Z"
   },
   {
    "duration": 4,
    "start_time": "2022-08-04T14:08:05.430Z"
   },
   {
    "duration": 4,
    "start_time": "2022-08-04T14:08:09.261Z"
   },
   {
    "duration": 103,
    "start_time": "2022-08-04T14:09:07.313Z"
   },
   {
    "duration": 167,
    "start_time": "2022-08-04T14:09:08.815Z"
   },
   {
    "duration": 15598,
    "start_time": "2022-08-04T14:09:20.740Z"
   },
   {
    "duration": 34,
    "start_time": "2022-08-04T14:09:42.281Z"
   },
   {
    "duration": 30,
    "start_time": "2022-08-04T14:09:49.309Z"
   },
   {
    "duration": 4,
    "start_time": "2022-08-04T14:10:04.778Z"
   },
   {
    "duration": 3160,
    "start_time": "2022-08-04T14:10:04.785Z"
   },
   {
    "duration": 280,
    "start_time": "2022-08-04T14:10:07.947Z"
   },
   {
    "duration": 4,
    "start_time": "2022-08-04T14:10:08.229Z"
   },
   {
    "duration": 2789,
    "start_time": "2022-08-04T14:10:08.236Z"
   },
   {
    "duration": 2,
    "start_time": "2022-08-04T14:10:11.027Z"
   },
   {
    "duration": 10,
    "start_time": "2022-08-04T14:10:11.031Z"
   },
   {
    "duration": 2039,
    "start_time": "2022-08-04T14:10:11.043Z"
   },
   {
    "duration": 8,
    "start_time": "2022-08-04T14:10:13.084Z"
   },
   {
    "duration": 221,
    "start_time": "2022-08-04T14:10:13.094Z"
   },
   {
    "duration": 3,
    "start_time": "2022-08-04T14:10:13.318Z"
   },
   {
    "duration": 11,
    "start_time": "2022-08-04T14:10:13.322Z"
   },
   {
    "duration": 8,
    "start_time": "2022-08-04T14:10:13.335Z"
   },
   {
    "duration": 9,
    "start_time": "2022-08-04T14:10:13.346Z"
   },
   {
    "duration": 8,
    "start_time": "2022-08-04T14:10:13.357Z"
   },
   {
    "duration": 51,
    "start_time": "2022-08-04T14:10:13.367Z"
   },
   {
    "duration": 157,
    "start_time": "2022-08-04T14:10:13.420Z"
   },
   {
    "duration": 5,
    "start_time": "2022-08-04T14:10:13.584Z"
   },
   {
    "duration": 119,
    "start_time": "2022-08-04T14:10:13.590Z"
   },
   {
    "duration": 172,
    "start_time": "2022-08-04T14:10:17.246Z"
   },
   {
    "duration": 14429,
    "start_time": "2022-08-04T14:10:20.119Z"
   },
   {
    "duration": 6,
    "start_time": "2022-08-04T14:13:01.786Z"
   },
   {
    "duration": 5,
    "start_time": "2022-08-04T14:13:12.321Z"
   },
   {
    "duration": 5,
    "start_time": "2022-08-04T18:06:17.882Z"
   },
   {
    "duration": 788,
    "start_time": "2022-08-04T18:06:17.890Z"
   },
   {
    "duration": 283,
    "start_time": "2022-08-04T18:06:18.681Z"
   },
   {
    "duration": 5,
    "start_time": "2022-08-04T18:06:18.968Z"
   },
   {
    "duration": 2695,
    "start_time": "2022-08-04T18:06:18.976Z"
   },
   {
    "duration": 3,
    "start_time": "2022-08-04T18:06:21.673Z"
   },
   {
    "duration": 8,
    "start_time": "2022-08-04T18:06:21.678Z"
   },
   {
    "duration": 1916,
    "start_time": "2022-08-04T18:06:21.688Z"
   },
   {
    "duration": 6,
    "start_time": "2022-08-04T18:06:23.606Z"
   },
   {
    "duration": 183,
    "start_time": "2022-08-04T18:06:23.613Z"
   },
   {
    "duration": 2,
    "start_time": "2022-08-04T18:06:23.799Z"
   },
   {
    "duration": 10,
    "start_time": "2022-08-04T18:06:23.803Z"
   },
   {
    "duration": 8,
    "start_time": "2022-08-04T18:06:23.815Z"
   },
   {
    "duration": 6,
    "start_time": "2022-08-04T18:06:23.824Z"
   },
   {
    "duration": 16,
    "start_time": "2022-08-04T18:06:23.832Z"
   },
   {
    "duration": 42,
    "start_time": "2022-08-04T18:06:23.852Z"
   },
   {
    "duration": 165,
    "start_time": "2022-08-04T18:06:23.896Z"
   },
   {
    "duration": 5,
    "start_time": "2022-08-04T18:06:24.063Z"
   },
   {
    "duration": 83,
    "start_time": "2022-08-04T18:06:24.070Z"
   },
   {
    "duration": 167,
    "start_time": "2022-08-04T18:06:24.155Z"
   },
   {
    "duration": 13923,
    "start_time": "2022-08-04T18:06:24.324Z"
   },
   {
    "duration": 19,
    "start_time": "2022-08-04T18:16:15.668Z"
   },
   {
    "duration": 3430,
    "start_time": "2022-08-04T18:16:28.023Z"
   },
   {
    "duration": 2985,
    "start_time": "2022-08-04T18:17:23.985Z"
   },
   {
    "duration": 3011,
    "start_time": "2022-08-04T18:17:55.042Z"
   },
   {
    "duration": 2948,
    "start_time": "2022-08-04T18:19:37.136Z"
   },
   {
    "duration": 3410,
    "start_time": "2022-08-04T18:20:04.934Z"
   },
   {
    "duration": 30,
    "start_time": "2022-08-04T18:20:34.582Z"
   },
   {
    "duration": 2771,
    "start_time": "2022-08-04T18:21:28.629Z"
   },
   {
    "duration": 2594,
    "start_time": "2022-08-04T18:22:08.761Z"
   },
   {
    "duration": 21,
    "start_time": "2022-08-04T18:22:37.631Z"
   },
   {
    "duration": 3005,
    "start_time": "2022-08-04T18:26:41.183Z"
   },
   {
    "duration": 3098,
    "start_time": "2022-08-04T18:26:58.833Z"
   },
   {
    "duration": 20,
    "start_time": "2022-08-04T18:29:17.333Z"
   },
   {
    "duration": 44,
    "start_time": "2022-08-04T18:30:02.754Z"
   },
   {
    "duration": 15039,
    "start_time": "2022-08-04T18:30:12.094Z"
   },
   {
    "duration": 1331,
    "start_time": "2022-08-04T18:32:33.409Z"
   },
   {
    "duration": 1324,
    "start_time": "2022-08-04T18:33:22.658Z"
   },
   {
    "duration": 169812,
    "start_time": "2022-08-04T18:33:58.779Z"
   },
   {
    "duration": 768038,
    "start_time": "2022-08-04T18:37:11.359Z"
   },
   {
    "duration": 2462669,
    "start_time": "2022-08-04T18:49:59.400Z"
   },
   {
    "duration": 727742,
    "start_time": "2022-08-04T19:31:02.071Z"
   },
   {
    "duration": 28436,
    "start_time": "2022-08-04T19:47:50.686Z"
   },
   {
    "duration": 0,
    "start_time": "2022-08-04T19:48:19.124Z"
   },
   {
    "duration": 24,
    "start_time": "2022-08-04T19:52:51.768Z"
   },
   {
    "duration": 23,
    "start_time": "2022-08-04T19:53:20.129Z"
   },
   {
    "duration": 3,
    "start_time": "2022-08-04T19:53:41.229Z"
   },
   {
    "duration": 47,
    "start_time": "2022-08-04T19:53:42.740Z"
   },
   {
    "duration": 147,
    "start_time": "2022-08-04T19:53:44.722Z"
   },
   {
    "duration": 4,
    "start_time": "2022-08-04T19:53:46.844Z"
   },
   {
    "duration": 110,
    "start_time": "2022-08-04T19:53:48.454Z"
   },
   {
    "duration": 152,
    "start_time": "2022-08-04T19:53:52.876Z"
   },
   {
    "duration": 25,
    "start_time": "2022-08-04T19:54:01.837Z"
   },
   {
    "duration": 23,
    "start_time": "2022-08-04T19:55:18.817Z"
   },
   {
    "duration": 684,
    "start_time": "2022-08-04T19:55:42.537Z"
   },
   {
    "duration": 57,
    "start_time": "2022-08-04T19:56:58.146Z"
   },
   {
    "duration": 49,
    "start_time": "2022-08-04T19:57:14.273Z"
   },
   {
    "duration": 59,
    "start_time": "2022-08-04T19:57:26.339Z"
   },
   {
    "duration": 50,
    "start_time": "2022-08-04T19:58:33.827Z"
   },
   {
    "duration": 47,
    "start_time": "2022-08-04T19:58:38.190Z"
   },
   {
    "duration": 42,
    "start_time": "2022-08-04T20:00:11.014Z"
   },
   {
    "duration": 55,
    "start_time": "2022-08-04T20:00:32.781Z"
   },
   {
    "duration": 54,
    "start_time": "2022-08-04T20:02:12.274Z"
   },
   {
    "duration": 6,
    "start_time": "2022-08-04T20:05:25.010Z"
   },
   {
    "duration": 4,
    "start_time": "2022-08-04T20:06:31.361Z"
   },
   {
    "duration": 5,
    "start_time": "2022-08-04T20:06:41.519Z"
   },
   {
    "duration": 32,
    "start_time": "2022-08-04T20:07:13.574Z"
   },
   {
    "duration": 36,
    "start_time": "2022-08-04T20:08:06.065Z"
   },
   {
    "duration": 24,
    "start_time": "2022-08-04T20:08:58.716Z"
   },
   {
    "duration": 33,
    "start_time": "2022-08-04T20:09:48.630Z"
   },
   {
    "duration": 28,
    "start_time": "2022-08-04T20:10:17.327Z"
   },
   {
    "duration": 3,
    "start_time": "2022-08-04T20:10:58.043Z"
   },
   {
    "duration": 32,
    "start_time": "2022-08-04T20:11:03.831Z"
   },
   {
    "duration": 138,
    "start_time": "2022-08-04T20:11:15.471Z"
   },
   {
    "duration": 161,
    "start_time": "2022-08-04T20:11:17.647Z"
   },
   {
    "duration": 55332,
    "start_time": "2022-08-04T20:11:20.452Z"
   },
   {
    "duration": 5966898,
    "start_time": "2022-08-04T20:13:27.109Z"
   },
   {
    "duration": 44,
    "start_time": "2022-08-04T21:52:54.009Z"
   },
   {
    "duration": 45,
    "start_time": "2022-08-05T03:04:28.967Z"
   },
   {
    "duration": 42,
    "start_time": "2022-08-05T03:04:48.665Z"
   },
   {
    "duration": 39,
    "start_time": "2022-08-05T03:06:06.399Z"
   },
   {
    "duration": 41,
    "start_time": "2022-08-05T03:06:18.210Z"
   },
   {
    "duration": 631,
    "start_time": "2022-08-05T03:07:00.418Z"
   },
   {
    "duration": 1110126,
    "start_time": "2022-08-05T03:07:15.865Z"
   },
   {
    "duration": 87,
    "start_time": "2022-08-05T03:30:01.481Z"
   },
   {
    "duration": 20,
    "start_time": "2022-08-05T03:30:08.381Z"
   },
   {
    "duration": 41338,
    "start_time": "2022-08-05T03:30:39.964Z"
   },
   {
    "duration": 40521,
    "start_time": "2022-08-05T03:31:40.373Z"
   },
   {
    "duration": 17850,
    "start_time": "2022-08-05T03:33:17.925Z"
   },
   {
    "duration": 43343,
    "start_time": "2022-08-05T03:33:58.996Z"
   },
   {
    "duration": 5,
    "start_time": "2022-08-06T01:46:50.036Z"
   },
   {
    "duration": 2466,
    "start_time": "2022-08-06T01:46:53.787Z"
   },
   {
    "duration": 279,
    "start_time": "2022-08-06T01:46:59.889Z"
   },
   {
    "duration": 4,
    "start_time": "2022-08-06T01:47:05.760Z"
   },
   {
    "duration": 2832,
    "start_time": "2022-08-06T01:47:08.418Z"
   },
   {
    "duration": 3,
    "start_time": "2022-08-06T01:47:37.756Z"
   },
   {
    "duration": 102,
    "start_time": "2022-08-06T01:47:41.030Z"
   },
   {
    "duration": 3,
    "start_time": "2022-08-06T01:49:03.361Z"
   },
   {
    "duration": 98,
    "start_time": "2022-08-06T01:50:16.457Z"
   },
   {
    "duration": 94,
    "start_time": "2022-08-06T01:50:23.026Z"
   },
   {
    "duration": 17609,
    "start_time": "2022-08-06T01:52:44.589Z"
   },
   {
    "duration": 35084,
    "start_time": "2022-08-06T01:53:03.781Z"
   },
   {
    "duration": 11,
    "start_time": "2022-08-06T01:53:57.186Z"
   },
   {
    "duration": 14,
    "start_time": "2022-08-06T01:54:28.892Z"
   },
   {
    "duration": 406,
    "start_time": "2022-08-06T01:58:07.459Z"
   },
   {
    "duration": 340,
    "start_time": "2022-08-06T01:58:41.647Z"
   },
   {
    "duration": 30890,
    "start_time": "2022-08-06T02:03:21.266Z"
   },
   {
    "duration": 11,
    "start_time": "2022-08-06T02:03:56.101Z"
   },
   {
    "duration": 7,
    "start_time": "2022-08-06T02:04:59.934Z"
   },
   {
    "duration": 147,
    "start_time": "2022-08-06T02:05:02.630Z"
   },
   {
    "duration": 6,
    "start_time": "2022-08-06T02:05:10.577Z"
   },
   {
    "duration": 55,
    "start_time": "2022-08-06T02:05:12.110Z"
   },
   {
    "duration": 146,
    "start_time": "2022-08-06T02:05:17.273Z"
   },
   {
    "duration": 4,
    "start_time": "2022-08-06T02:05:24.764Z"
   },
   {
    "duration": 65,
    "start_time": "2022-08-06T02:06:04.736Z"
   },
   {
    "duration": 139,
    "start_time": "2022-08-06T02:06:07.014Z"
   },
   {
    "duration": 143,
    "start_time": "2022-08-06T02:06:31.192Z"
   },
   {
    "duration": 877398,
    "start_time": "2022-08-06T02:08:20.058Z"
   },
   {
    "duration": 30267,
    "start_time": "2022-08-06T02:23:37.036Z"
   },
   {
    "duration": 1438635,
    "start_time": "2022-08-06T02:24:40.626Z"
   },
   {
    "duration": 0,
    "start_time": "2022-08-06T02:48:39.268Z"
   },
   {
    "duration": 77,
    "start_time": "2022-08-06T02:48:54.878Z"
   },
   {
    "duration": 3,
    "start_time": "2022-08-06T02:48:59.460Z"
   },
   {
    "duration": 2,
    "start_time": "2022-08-06T02:49:46.665Z"
   },
   {
    "duration": 19,
    "start_time": "2022-08-06T02:54:14.527Z"
   },
   {
    "duration": 4,
    "start_time": "2022-08-06T02:54:31.205Z"
   },
   {
    "duration": 21,
    "start_time": "2022-08-06T02:54:44.616Z"
   },
   {
    "duration": 20,
    "start_time": "2022-08-06T02:56:40.858Z"
   },
   {
    "duration": 6,
    "start_time": "2022-08-06T02:57:56.468Z"
   },
   {
    "duration": 19,
    "start_time": "2022-08-06T02:58:06.968Z"
   },
   {
    "duration": 18,
    "start_time": "2022-08-06T02:58:57.634Z"
   },
   {
    "duration": 18,
    "start_time": "2022-08-06T03:01:54.231Z"
   },
   {
    "duration": 20,
    "start_time": "2022-08-06T03:02:45.882Z"
   },
   {
    "duration": 83,
    "start_time": "2022-08-06T03:06:51.775Z"
   }
  ],
  "kernelspec": {
   "display_name": "Python 3 (ipykernel)",
   "language": "python",
   "name": "python3"
  },
  "language_info": {
   "codemirror_mode": {
    "name": "ipython",
    "version": 3
   },
   "file_extension": ".py",
   "mimetype": "text/x-python",
   "name": "python",
   "nbconvert_exporter": "python",
   "pygments_lexer": "ipython3",
   "version": "3.8.0"
  },
  "toc": {
   "base_numbering": 1,
   "nav_menu": {},
   "number_sections": true,
   "sideBar": true,
   "skip_h1_title": true,
   "title_cell": "Содержание",
   "title_sidebar": "Contents",
   "toc_cell": true,
   "toc_position": {
    "height": "calc(100% - 180px)",
    "left": "10px",
    "top": "150px",
    "width": "302.391px"
   },
   "toc_section_display": true,
   "toc_window_display": false
  }
 },
 "nbformat": 4,
 "nbformat_minor": 2
}
