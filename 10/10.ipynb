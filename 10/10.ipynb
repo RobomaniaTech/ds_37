{
 "cells": [
  {
   "cell_type": "markdown",
   "metadata": {
    "toc": true
   },
   "source": [
    "<h1>Содержание<span class=\"tocSkip\"></span></h1>\n",
    "<div class=\"toc\"><ul class=\"toc-item\"><li><span><a href=\"#Загрузка-данных\" data-toc-modified-id=\"Загрузка-данных-1\"><span class=\"toc-item-num\">1&nbsp;&nbsp;</span>Загрузка данных</a></span></li><li><span><a href=\"#Умножение-матриц\" data-toc-modified-id=\"Умножение-матриц-2\"><span class=\"toc-item-num\">2&nbsp;&nbsp;</span>Умножение матриц</a></span></li><li><span><a href=\"#Алгоритм-преобразования\" data-toc-modified-id=\"Алгоритм-преобразования-3\"><span class=\"toc-item-num\">3&nbsp;&nbsp;</span>Алгоритм преобразования</a></span></li><li><span><a href=\"#Проверка-алгоритма\" data-toc-modified-id=\"Проверка-алгоритма-4\"><span class=\"toc-item-num\">4&nbsp;&nbsp;</span>Проверка алгоритма</a></span></li><li><span><a href=\"#Чек-лист-проверки\" data-toc-modified-id=\"Чек-лист-проверки-5\"><span class=\"toc-item-num\">5&nbsp;&nbsp;</span>Чек-лист проверки</a></span></li></ul></div>"
   ]
  },
  {
   "cell_type": "markdown",
   "metadata": {},
   "source": [
    "# Защита персональных данных клиентов"
   ]
  },
  {
   "cell_type": "markdown",
   "metadata": {},
   "source": [
    "Вам нужно защитить данные клиентов страховой компании «Хоть потоп». Разработайте такой метод преобразования данных, чтобы по ним было сложно восстановить персональную информацию. Обоснуйте корректность его работы.\n",
    "\n",
    "Нужно защитить данные, чтобы при преобразовании качество моделей машинного обучения не ухудшилось. Подбирать наилучшую модель не требуется."
   ]
  },
  {
   "cell_type": "markdown",
   "metadata": {},
   "source": [
    "## Загрузка данных"
   ]
  },
  {
   "cell_type": "markdown",
   "metadata": {},
   "source": [
    "<b> Импортируем необходимые библиотеки</b>"
   ]
  },
  {
   "cell_type": "code",
   "execution_count": 42,
   "metadata": {},
   "outputs": [],
   "source": [
    "import pandas as pd\n",
    "import numpy as np\n",
    "from sklearn.datasets import make_spd_matrix\n",
    "from sklearn.linear_model import LinearRegression\n",
    "from sklearn.metrics import r2_score"
   ]
  },
  {
   "cell_type": "markdown",
   "metadata": {},
   "source": [
    "<b>Откроем файл и изучим его<b/>"
   ]
  },
  {
   "cell_type": "code",
   "execution_count": 43,
   "metadata": {},
   "outputs": [],
   "source": [
    "try:\n",
    "    df = pd.read_csv('/datasets/insurance.csv')\n",
    "except:\n",
    "    df = pd.read_csv('insurance.csv')"
   ]
  },
  {
   "cell_type": "code",
   "execution_count": 44,
   "metadata": {},
   "outputs": [
    {
     "name": "stdout",
     "output_type": "stream",
     "text": [
      "<class 'pandas.core.frame.DataFrame'>\n",
      "RangeIndex: 5000 entries, 0 to 4999\n",
      "Data columns (total 5 columns):\n",
      " #   Column             Non-Null Count  Dtype  \n",
      "---  ------             --------------  -----  \n",
      " 0   Пол                5000 non-null   int64  \n",
      " 1   Возраст            5000 non-null   float64\n",
      " 2   Зарплата           5000 non-null   float64\n",
      " 3   Члены семьи        5000 non-null   int64  \n",
      " 4   Страховые выплаты  5000 non-null   int64  \n",
      "dtypes: float64(2), int64(3)\n",
      "memory usage: 195.4 KB\n"
     ]
    },
    {
     "data": {
      "text/plain": [
       "None"
      ]
     },
     "metadata": {},
     "output_type": "display_data"
    },
    {
     "data": {
      "text/html": [
       "<div>\n",
       "<style scoped>\n",
       "    .dataframe tbody tr th:only-of-type {\n",
       "        vertical-align: middle;\n",
       "    }\n",
       "\n",
       "    .dataframe tbody tr th {\n",
       "        vertical-align: top;\n",
       "    }\n",
       "\n",
       "    .dataframe thead th {\n",
       "        text-align: right;\n",
       "    }\n",
       "</style>\n",
       "<table border=\"1\" class=\"dataframe\">\n",
       "  <thead>\n",
       "    <tr style=\"text-align: right;\">\n",
       "      <th></th>\n",
       "      <th>Пол</th>\n",
       "      <th>Возраст</th>\n",
       "      <th>Зарплата</th>\n",
       "      <th>Члены семьи</th>\n",
       "      <th>Страховые выплаты</th>\n",
       "    </tr>\n",
       "  </thead>\n",
       "  <tbody>\n",
       "    <tr>\n",
       "      <th>0</th>\n",
       "      <td>1</td>\n",
       "      <td>41.0</td>\n",
       "      <td>49600.0</td>\n",
       "      <td>1</td>\n",
       "      <td>0</td>\n",
       "    </tr>\n",
       "    <tr>\n",
       "      <th>1</th>\n",
       "      <td>0</td>\n",
       "      <td>46.0</td>\n",
       "      <td>38000.0</td>\n",
       "      <td>1</td>\n",
       "      <td>1</td>\n",
       "    </tr>\n",
       "    <tr>\n",
       "      <th>2</th>\n",
       "      <td>0</td>\n",
       "      <td>29.0</td>\n",
       "      <td>21000.0</td>\n",
       "      <td>0</td>\n",
       "      <td>0</td>\n",
       "    </tr>\n",
       "    <tr>\n",
       "      <th>3</th>\n",
       "      <td>0</td>\n",
       "      <td>21.0</td>\n",
       "      <td>41700.0</td>\n",
       "      <td>2</td>\n",
       "      <td>0</td>\n",
       "    </tr>\n",
       "    <tr>\n",
       "      <th>4</th>\n",
       "      <td>1</td>\n",
       "      <td>28.0</td>\n",
       "      <td>26100.0</td>\n",
       "      <td>0</td>\n",
       "      <td>0</td>\n",
       "    </tr>\n",
       "  </tbody>\n",
       "</table>\n",
       "</div>"
      ],
      "text/plain": [
       "   Пол  Возраст  Зарплата  Члены семьи  Страховые выплаты\n",
       "0    1     41.0   49600.0            1                  0\n",
       "1    0     46.0   38000.0            1                  1\n",
       "2    0     29.0   21000.0            0                  0\n",
       "3    0     21.0   41700.0            2                  0\n",
       "4    1     28.0   26100.0            0                  0"
      ]
     },
     "metadata": {},
     "output_type": "display_data"
    },
    {
     "data": {
      "text/plain": [
       "'Количество явных дубликтов:'"
      ]
     },
     "metadata": {},
     "output_type": "display_data"
    },
    {
     "data": {
      "text/plain": [
       "153"
      ]
     },
     "metadata": {},
     "output_type": "display_data"
    }
   ],
   "source": [
    "display(df.info())\n",
    "display(df.head(5))\n",
    "display('Количество явных дубликтов:', df.duplicated().sum())"
   ]
  },
  {
   "cell_type": "markdown",
   "metadata": {},
   "source": [
    "Удалим явные дубликаты\n"
   ]
  },
  {
   "cell_type": "code",
   "execution_count": 45,
   "metadata": {},
   "outputs": [
    {
     "data": {
      "text/html": [
       "<div>\n",
       "<style scoped>\n",
       "    .dataframe tbody tr th:only-of-type {\n",
       "        vertical-align: middle;\n",
       "    }\n",
       "\n",
       "    .dataframe tbody tr th {\n",
       "        vertical-align: top;\n",
       "    }\n",
       "\n",
       "    .dataframe thead th {\n",
       "        text-align: right;\n",
       "    }\n",
       "</style>\n",
       "<table border=\"1\" class=\"dataframe\">\n",
       "  <thead>\n",
       "    <tr style=\"text-align: right;\">\n",
       "      <th></th>\n",
       "      <th>Пол</th>\n",
       "      <th>Возраст</th>\n",
       "      <th>Зарплата</th>\n",
       "      <th>Члены семьи</th>\n",
       "      <th>Страховые выплаты</th>\n",
       "    </tr>\n",
       "  </thead>\n",
       "  <tbody>\n",
       "    <tr>\n",
       "      <th>0</th>\n",
       "      <td>1</td>\n",
       "      <td>41.0</td>\n",
       "      <td>49600.0</td>\n",
       "      <td>1</td>\n",
       "      <td>0</td>\n",
       "    </tr>\n",
       "    <tr>\n",
       "      <th>1</th>\n",
       "      <td>0</td>\n",
       "      <td>46.0</td>\n",
       "      <td>38000.0</td>\n",
       "      <td>1</td>\n",
       "      <td>1</td>\n",
       "    </tr>\n",
       "    <tr>\n",
       "      <th>2</th>\n",
       "      <td>0</td>\n",
       "      <td>29.0</td>\n",
       "      <td>21000.0</td>\n",
       "      <td>0</td>\n",
       "      <td>0</td>\n",
       "    </tr>\n",
       "    <tr>\n",
       "      <th>3</th>\n",
       "      <td>0</td>\n",
       "      <td>21.0</td>\n",
       "      <td>41700.0</td>\n",
       "      <td>2</td>\n",
       "      <td>0</td>\n",
       "    </tr>\n",
       "    <tr>\n",
       "      <th>4</th>\n",
       "      <td>1</td>\n",
       "      <td>28.0</td>\n",
       "      <td>26100.0</td>\n",
       "      <td>0</td>\n",
       "      <td>0</td>\n",
       "    </tr>\n",
       "    <tr>\n",
       "      <th>...</th>\n",
       "      <td>...</td>\n",
       "      <td>...</td>\n",
       "      <td>...</td>\n",
       "      <td>...</td>\n",
       "      <td>...</td>\n",
       "    </tr>\n",
       "    <tr>\n",
       "      <th>4995</th>\n",
       "      <td>0</td>\n",
       "      <td>28.0</td>\n",
       "      <td>35700.0</td>\n",
       "      <td>2</td>\n",
       "      <td>0</td>\n",
       "    </tr>\n",
       "    <tr>\n",
       "      <th>4996</th>\n",
       "      <td>0</td>\n",
       "      <td>34.0</td>\n",
       "      <td>52400.0</td>\n",
       "      <td>1</td>\n",
       "      <td>0</td>\n",
       "    </tr>\n",
       "    <tr>\n",
       "      <th>4997</th>\n",
       "      <td>0</td>\n",
       "      <td>20.0</td>\n",
       "      <td>33900.0</td>\n",
       "      <td>2</td>\n",
       "      <td>0</td>\n",
       "    </tr>\n",
       "    <tr>\n",
       "      <th>4998</th>\n",
       "      <td>1</td>\n",
       "      <td>22.0</td>\n",
       "      <td>32700.0</td>\n",
       "      <td>3</td>\n",
       "      <td>0</td>\n",
       "    </tr>\n",
       "    <tr>\n",
       "      <th>4999</th>\n",
       "      <td>1</td>\n",
       "      <td>28.0</td>\n",
       "      <td>40600.0</td>\n",
       "      <td>1</td>\n",
       "      <td>0</td>\n",
       "    </tr>\n",
       "  </tbody>\n",
       "</table>\n",
       "<p>4847 rows × 5 columns</p>\n",
       "</div>"
      ],
      "text/plain": [
       "      Пол  Возраст  Зарплата  Члены семьи  Страховые выплаты\n",
       "0       1     41.0   49600.0            1                  0\n",
       "1       0     46.0   38000.0            1                  1\n",
       "2       0     29.0   21000.0            0                  0\n",
       "3       0     21.0   41700.0            2                  0\n",
       "4       1     28.0   26100.0            0                  0\n",
       "...   ...      ...       ...          ...                ...\n",
       "4995    0     28.0   35700.0            2                  0\n",
       "4996    0     34.0   52400.0            1                  0\n",
       "4997    0     20.0   33900.0            2                  0\n",
       "4998    1     22.0   32700.0            3                  0\n",
       "4999    1     28.0   40600.0            1                  0\n",
       "\n",
       "[4847 rows x 5 columns]"
      ]
     },
     "execution_count": 45,
     "metadata": {},
     "output_type": "execute_result"
    }
   ],
   "source": [
    "df.drop_duplicates()"
   ]
  },
  {
   "cell_type": "code",
   "execution_count": 46,
   "metadata": {},
   "outputs": [],
   "source": [
    "df['Возраст'] = df['Возраст'].astype('int')"
   ]
  },
  {
   "cell_type": "markdown",
   "metadata": {},
   "source": [
    " * дропнули дубликаты\n",
    " * возраст не может быть дробным поэтому логичнее его перевести в инт потому и перевели"
   ]
  },
  {
   "cell_type": "markdown",
   "metadata": {},
   "source": [
    "## Умножение матриц"
   ]
  },
  {
   "cell_type": "markdown",
   "metadata": {},
   "source": [
    "В этом задании вы можете записывать формулы в *Jupyter Notebook.*\n",
    "\n",
    "Чтобы записать формулу внутри текста, окружите её символами доллара \\\\$; если снаружи —  двойными символами \\\\$\\\\$. Эти формулы записываются на языке вёрстки *LaTeX.* \n",
    "\n",
    "Для примера мы записали формулы линейной регрессии. Можете их скопировать и отредактировать, чтобы решить задачу.\n",
    "\n",
    "Работать в *LaTeX* необязательно."
   ]
  },
  {
   "cell_type": "markdown",
   "metadata": {},
   "source": [
    "Обозначения:\n",
    "\n",
    "- $X$ — матрица признаков (нулевой столбец состоит из единиц)\n",
    "\n",
    "- $y$ — вектор целевого признака\n",
    "\n",
    "- $P$ — матрица, на которую умножаются признаки\n",
    "\n",
    "- $w$ — вектор весов линейной регрессии (нулевой элемент равен сдвигу)"
   ]
  },
  {
   "cell_type": "markdown",
   "metadata": {},
   "source": [
    "Предсказания:\n",
    "\n",
    "$$\n",
    "a = Xw\n",
    "$$\n",
    "\n",
    "Задача обучения:\n",
    "\n",
    "$$\n",
    "w = \\arg\\min_w MSE(Xw, y)\n",
    "$$\n",
    "\n",
    "Формула обучения:\n",
    "\n",
    "$$\n",
    "w = (X^T X)^{-1} X^T y\n",
    "$$"
   ]
  },
  {
   "cell_type": "markdown",
   "metadata": {},
   "source": [
    "**Вопрос:** Признаки умножают на обратимую матрицу. Изменится ли качество линейной регрессии? (Её можно обучить заново.)\n",
    "\n",
    "**Ответ:** Не изменится.\n",
    "\n",
    "**Обоснование:** \n",
    "Пускай XM - это произведение матрицы признаков Х на обратимую матрицу М, тогда наше выражение можно представить в виде:\n",
    "$$\n",
    "w_n = ((XM)^T XM)^{-1}(XM)^Ty\n",
    "$$\n",
    "Оно в свою очередь преобразуется в выражение:\n",
    "$$\n",
    "(X^T*X)^{-1}*X^T*(M^T*M)^{-1}*M^TY\n",
    "$$\n",
    "\n",
    "А часть\n",
    "$$\n",
    "(M^T*M)^{-1}*M^Ty\n",
    "$$\n",
    "схожа с изначальной частью, а так как M является обратной матрицей то  \n",
    "$$\n",
    "(M^T*M)^{-1}*M^Tw=Mw=a_n\n",
    "$$\n",
    "где \n",
    "$$\n",
    "a_n = a\n",
    "$$"
   ]
  },
  {
   "cell_type": "markdown",
   "metadata": {},
   "source": [
    "\n",
    "<b>\n",
    "Еще раз пройдусь тогда по тому что мне нужно доказать. \n",
    "Вот есть матрица признаков Х размерности m на n если её умножить на матрицу P (причём  матрица P обратимая матрица и размерности n на n), т.е. \n",
    "$$\n",
    " P*E = P = E*P\n",
    "$$ \n",
    "$$\n",
    " X*P = E, P*X = E\n",
    "$$\n",
    "$$\n",
    "P*P^{-1} = E, P^{-1}*P = E \n",
    "$$\n",
    "</b></font>\n",
    "\n",
    "Итак, представим вместо матрицы Х матрицу ХР\n",
    "$$\n",
    "a_{new} = X P ((XP)^T XP)^{-1}(XP)^T y = \n",
    "$$\n",
    "(1)    \n",
    "$$\n",
    " X P (P^TX^T XP)^{-1}P^T X^T y = \n",
    "$$\n",
    "\n",
    "$$  \n",
    "X P (X^TXP)^{-1} (P^T)^{-1} P^T X^T y = \n",
    "$$\n",
    "(2)\n",
    "$$\n",
    "X P P^{-1}(X^TX)^{-1} (P^T)^{-1} P^T X^T y = \n",
    "$$\n",
    "$$\n",
    "X E (X^TX)^{-1} E  X^T y = \n",
    "$$\n",
    "$$\n",
    "X (X^TX)^{-1} X^T y =  Xw\n",
    "$$\n",
    "\n",
    "(1) транспонирование раскрываю по правилу  $$ (AB)^T=B^T A^T $$\n",
    "(2) раскрываем скобк по правилу $$ (AB)^{-1} = B^{-1} A^{-1}$$\n",
    "(3) ассоциативность  $$A_{2\\times 3}B_{3\\times 4}C_{4\\times 5} = (AB)_{2\\times 4}C_{4\\times 5} = A_{2\\times 3}(BC)_{3\\times 5} = D_{2\\times 5}$$\n",
    "\n",
    "   "
   ]
  },
  {
   "cell_type": "markdown",
   "metadata": {},
   "source": [
    "## Алгоритм преобразования"
   ]
  },
  {
   "cell_type": "markdown",
   "metadata": {},
   "source": [
    "Не очень понял, что тут нужно писать, поэтому просто опишу что дальше буду делать"
   ]
  },
  {
   "cell_type": "markdown",
   "metadata": {},
   "source": [
    "**Алгоритм**\n",
    "\n",
    "1. отделить признаки от целевого показателя\n",
    "2. создать случайную матрицу с размерностью соответсвующую количеству столбцов (признаков в выборке)\n",
    "3. умножим полученную матрицу на матрицу признаков\n",
    "4. обучим модели на изначальной и новой выборке\n",
    "5. сравним у них показаеть r_2"
   ]
  },
  {
   "cell_type": "markdown",
   "metadata": {},
   "source": [
    "## Проверка алгоритма"
   ]
  },
  {
   "cell_type": "code",
   "execution_count": 47,
   "metadata": {},
   "outputs": [],
   "source": [
    "X = df.drop(['Страховые выплаты'], axis=1)\n",
    "y = df['Страховые выплаты']"
   ]
  },
  {
   "cell_type": "code",
   "execution_count": 48,
   "metadata": {},
   "outputs": [],
   "source": [
    "X_sample = X.shape[1]\n",
    "det = 0\n",
    "while det == 0:\n",
    "    r = np.random.randint(100)\n",
    "    matrix_x = make_spd_matrix(n_dim = X_sample, random_state = r)\n",
    "    det = np.linalg.det(matrix_x)"
   ]
  },
  {
   "cell_type": "code",
   "execution_count": 51,
   "metadata": {},
   "outputs": [
    {
     "data": {
      "text/plain": [
       "array([[-19768.38190136,  36815.91877664,  28140.45779401,\n",
       "         30408.12645776],\n",
       "       [-15161.09680864,  28237.02805804,  21570.47296848,\n",
       "         23320.27247448],\n",
       "       [ -8381.75650629,  15611.20358646,  11922.8368053 ,\n",
       "         12892.18545846],\n",
       "       ...,\n",
       "       [-13504.3763958 ,  25148.68618078,  19228.23163062,\n",
       "         20773.20972605],\n",
       "       [-13029.2317996 ,  24264.6872056 ,  18549.84899443,\n",
       "         20043.0073422 ],\n",
       "       [-16175.60729868,  30124.22300068,  23030.24742654,\n",
       "         24882.01481798]])"
      ]
     },
     "execution_count": 51,
     "metadata": {},
     "output_type": "execute_result"
    }
   ],
   "source": [
    "X_new = X.values @ matrix_x\n",
    "X_new"
   ]
  },
  {
   "cell_type": "markdown",
   "metadata": {},
   "source": [
    "Обучим и сравним показатель r2_score"
   ]
  },
  {
   "cell_type": "code",
   "execution_count": 52,
   "metadata": {},
   "outputs": [
    {
     "name": "stdout",
     "output_type": "stream",
     "text": [
      "True\n",
      "0.4249455028666801 0.42494550286668675\n"
     ]
    }
   ],
   "source": [
    "linreg = LinearRegression()\n",
    "\n",
    "linreg.fit(X, y)\n",
    "predict1 = linreg.predict(X)\n",
    "\n",
    "linreg.fit(X_new, y)\n",
    "predict2 = linreg.predict(X_new)\n",
    "\n",
    "print(np.isclose(r2_score(y, predict1), r2_score(y, predict2)))\n",
    "print(r2_score(y, predict1), r2_score(y, predict2))"
   ]
  },
  {
   "cell_type": "markdown",
   "metadata": {},
   "source": [
    "Значение отличаются но не значительно, можем считать что метрики одинаковы."
   ]
  }
 ],
 "metadata": {
  "ExecuteTimeLog": [
   {
    "duration": 1088,
    "start_time": "2022-07-19T14:26:20.189Z"
   },
   {
    "duration": 82,
    "start_time": "2022-07-19T14:29:09.950Z"
   },
   {
    "duration": 31,
    "start_time": "2022-07-19T14:30:09.836Z"
   },
   {
    "duration": 16,
    "start_time": "2022-07-19T14:31:34.997Z"
   },
   {
    "duration": 106,
    "start_time": "2022-07-19T14:34:58.755Z"
   },
   {
    "duration": 13,
    "start_time": "2022-07-19T14:35:16.785Z"
   },
   {
    "duration": 12,
    "start_time": "2022-07-19T14:35:56.045Z"
   },
   {
    "duration": 5,
    "start_time": "2022-07-19T14:37:09.382Z"
   },
   {
    "duration": 5,
    "start_time": "2022-07-19T15:30:25.692Z"
   },
   {
    "duration": 12,
    "start_time": "2022-07-19T15:35:54.099Z"
   },
   {
    "duration": 3,
    "start_time": "2022-07-19T15:36:16.493Z"
   },
   {
    "duration": 12,
    "start_time": "2022-07-19T15:36:46.440Z"
   },
   {
    "duration": 10,
    "start_time": "2022-07-19T15:39:46.187Z"
   },
   {
    "duration": 36,
    "start_time": "2022-07-19T15:46:33.556Z"
   },
   {
    "duration": 15,
    "start_time": "2022-07-19T15:48:24.457Z"
   },
   {
    "duration": 12,
    "start_time": "2022-07-19T15:49:16.341Z"
   },
   {
    "duration": 6,
    "start_time": "2022-07-19T15:49:44.990Z"
   },
   {
    "duration": 5,
    "start_time": "2022-07-19T15:51:23.394Z"
   },
   {
    "duration": 118,
    "start_time": "2022-07-19T15:51:43.422Z"
   },
   {
    "duration": 3,
    "start_time": "2022-07-19T15:52:52.654Z"
   },
   {
    "duration": 4,
    "start_time": "2022-07-19T15:52:55.422Z"
   },
   {
    "duration": 39,
    "start_time": "2022-07-19T15:52:55.431Z"
   },
   {
    "duration": 22,
    "start_time": "2022-07-19T15:52:55.472Z"
   },
   {
    "duration": 14,
    "start_time": "2022-07-19T15:52:55.495Z"
   },
   {
    "duration": 4,
    "start_time": "2022-07-19T15:52:55.511Z"
   },
   {
    "duration": 25,
    "start_time": "2022-07-19T15:52:55.517Z"
   },
   {
    "duration": 8,
    "start_time": "2022-07-19T15:52:55.544Z"
   },
   {
    "duration": 13,
    "start_time": "2022-07-19T15:52:55.554Z"
   },
   {
    "duration": 66,
    "start_time": "2022-07-19T15:52:55.570Z"
   },
   {
    "duration": 187,
    "start_time": "2022-07-19T15:52:55.639Z"
   },
   {
    "duration": 6,
    "start_time": "2022-07-20T20:03:48.688Z"
   },
   {
    "duration": 4,
    "start_time": "2022-07-20T20:05:05.962Z"
   },
   {
    "duration": 4,
    "start_time": "2022-07-20T20:05:48.481Z"
   },
   {
    "duration": 3,
    "start_time": "2022-07-20T20:06:01.138Z"
   },
   {
    "duration": 4,
    "start_time": "2022-07-20T20:06:09.139Z"
   },
   {
    "duration": 6,
    "start_time": "2022-07-20T20:06:11.861Z"
   },
   {
    "duration": 17,
    "start_time": "2022-07-20T20:06:46.893Z"
   },
   {
    "duration": 4,
    "start_time": "2022-07-20T20:07:55.858Z"
   },
   {
    "duration": 4,
    "start_time": "2022-07-20T20:07:59.435Z"
   },
   {
    "duration": 5,
    "start_time": "2022-07-20T20:08:31.834Z"
   },
   {
    "duration": 76,
    "start_time": "2022-07-20T20:08:34.548Z"
   },
   {
    "duration": 3,
    "start_time": "2022-07-21T08:13:30.407Z"
   },
   {
    "duration": 63,
    "start_time": "2022-07-21T08:13:30.412Z"
   },
   {
    "duration": 34,
    "start_time": "2022-07-21T08:13:30.477Z"
   },
   {
    "duration": 17,
    "start_time": "2022-07-21T08:13:30.513Z"
   },
   {
    "duration": 19,
    "start_time": "2022-07-21T08:13:30.532Z"
   },
   {
    "duration": 46,
    "start_time": "2022-07-21T08:13:30.553Z"
   },
   {
    "duration": 28,
    "start_time": "2022-07-21T08:13:30.600Z"
   },
   {
    "duration": 53,
    "start_time": "2022-07-21T08:13:30.629Z"
   },
   {
    "duration": 26,
    "start_time": "2022-07-21T08:13:30.684Z"
   },
   {
    "duration": 12,
    "start_time": "2022-07-21T08:13:30.712Z"
   },
   {
    "duration": 96,
    "start_time": "2022-07-21T08:13:30.726Z"
   }
  ],
  "kernelspec": {
   "display_name": "Python 3 (ipykernel)",
   "language": "python",
   "name": "python3"
  },
  "language_info": {
   "codemirror_mode": {
    "name": "ipython",
    "version": 3
   },
   "file_extension": ".py",
   "mimetype": "text/x-python",
   "name": "python",
   "nbconvert_exporter": "python",
   "pygments_lexer": "ipython3",
   "version": "3.8.0"
  },
  "toc": {
   "base_numbering": 1,
   "nav_menu": {},
   "number_sections": true,
   "sideBar": true,
   "skip_h1_title": true,
   "title_cell": "Содержание",
   "title_sidebar": "Contents",
   "toc_cell": true,
   "toc_position": {
    "height": "calc(100% - 180px)",
    "left": "10px",
    "top": "150px",
    "width": "165px"
   },
   "toc_section_display": true,
   "toc_window_display": true
  }
 },
 "nbformat": 4,
 "nbformat_minor": 2
}
