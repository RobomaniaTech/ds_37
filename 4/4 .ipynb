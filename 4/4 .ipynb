{
 "cells": [
  {
   "cell_type": "markdown",
   "metadata": {},
   "source": [
    "# Сравнительный анализ тарифных планов \"Смарт\" и \"Ультра\"\n"
   ]
  },
  {
   "cell_type": "markdown",
   "metadata": {},
   "source": [
    "Необходимо сделать сравнительный анализ между двумя тарифными планами для того, чтобы в будущем скорректировать рекламный бюджет компании. Проще говоря выяснить какой тариф приности больше денег, куда нужно больше вложиться.\n",
    "В нашем распоряжении 500 пользователей «Мегалайна»: кто они, откуда, каким тарифом пользуются, сколько звонков и сообщений каждый отправил за 2018 год.\n"
   ]
  },
  {
   "cell_type": "markdown",
   "metadata": {},
   "source": [
    " **Цель исследования.**\n",
    " Определить тариф, которым приносит компании большую прибыль.\n",
    " \n",
    " **Гипотезы необходимые для проверки**\n",
    " средняя выручка пользователей тарифов «Ультра» и «Смарт» различаются;\n",
    " средняя выручка пользователей из Москвы отличается от выручки пользователей из других регионов.\n",
    " \n",
    " **Задачи исследования**\n",
    " Посчитать для каждого пользователя:\n",
    "- количество сделанных звонков и израсходованных минут разговора по месяцам;\n",
    "- количество отправленных сообщений по месяцам;\n",
    "- объем израсходованного интернет-трафика по месяцам;\n",
    "- помесячную выручку с каждого пользователя (вычесть бесплатный лимит из суммарного количества звонков, сообщений и интернет-трафика;остаток умножить на значение из тарифного плана; прибавьте абонентскую плату, соответствующую тарифному плану).\n",
    "\n",
    "**Ход исследования**\n",
    " 1. Обзор данных.\n",
    " 2. Предобработка данных. \n",
    " 3. Исследовательский анализ данных.\n",
    " 4. Исследования гипотез.\n",
    " 5. Анализ результатов.\n",
    " \n",
    "Каждый ход исследования заканчивается выводом. В конце исследования даётся обощающий вывод по всему исследованию\n",
    "\n",
    "**Особенности**\n",
    "- «Мегалайн» всегда округляет секунды до минут, а мегабайты — до гигабайт. Каждый звонок округляется отдельно: даже если он длился всего 1 секунду, будет засчитан как 1 минута. Для веб-трафика отдельные сессии не считаются. Вместо этого общая сумма за месяц округляется в бо́льшую сторону. Если абонент использует 1025 мегабайт в этом месяце, с него возьмут плату за 2 гигабайта.\n",
    "- В данных присутствуют звонки с нулевой продолжительностью. Это не ошибка: нулями обозначены пропущенные звонки, поэтому их не нужно удалять.\n"
   ]
  },
  {
   "cell_type": "markdown",
   "metadata": {},
   "source": [
    "## Обзор и предобработка данных"
   ]
  },
  {
   "cell_type": "code",
   "execution_count": 1,
   "metadata": {},
   "outputs": [],
   "source": [
    "# импортируем необходимые нам библиотеки для работы с данными\n",
    "\n",
    "import pandas as pd\n",
    "import math\n",
    "import matplotlib.pyplot as plt\n",
    "import numpy as np\n",
    "from scipy import stats as st\n",
    "import seaborn as sns"
   ]
  },
  {
   "cell_type": "code",
   "execution_count": 2,
   "metadata": {},
   "outputs": [],
   "source": [
    "#Открываем файлы с данными и изучаем общую информацию\n",
    "try:\n",
    "    calls_data = pd.read_csv('/datasets/calls.csv')\n",
    "except:\n",
    "    calls_data = pd.read_csv('calls.csv')\n",
    "    \n",
    "try:\n",
    "    internet_data = pd.read_csv('/datasets/internet.csv')\n",
    "except:\n",
    "    internet_data = pd.read_csv('internet.csv')\n",
    "    \n",
    "try:\n",
    "    messages_data = pd.read_csv('/datasets/messages.csv')\n",
    "except:\n",
    "    messages_data = pd.read_csv('messages.csv') \n",
    "    \n",
    "try:\n",
    "    tariffs_data = pd.read_csv('/datasets/tariffs.csv')\n",
    "except:\n",
    "    tariffs_data = pd.read_csv('tariffs.csv')   \n",
    "    \n",
    "try:\n",
    "    users_data = pd.read_csv('/datasets/users.csv')\n",
    "except:\n",
    "    users_data = pd.read_csv('users.csv')    "
   ]
  },
  {
   "cell_type": "markdown",
   "metadata": {},
   "source": [
    "**Таблица calls (информация о звонках):**\n",
    "- id — уникальный номер звонка\n",
    "- call_date — дата звонка\n",
    "- duration — длительность звонка в минутах\n",
    "- user_id — идентификатор пользователя, сделавшего звонок"
   ]
  },
  {
   "cell_type": "code",
   "execution_count": 3,
   "metadata": {},
   "outputs": [
    {
     "data": {
      "text/html": [
       "<div>\n",
       "<style scoped>\n",
       "    .dataframe tbody tr th:only-of-type {\n",
       "        vertical-align: middle;\n",
       "    }\n",
       "\n",
       "    .dataframe tbody tr th {\n",
       "        vertical-align: top;\n",
       "    }\n",
       "\n",
       "    .dataframe thead th {\n",
       "        text-align: right;\n",
       "    }\n",
       "</style>\n",
       "<table border=\"1\" class=\"dataframe\">\n",
       "  <thead>\n",
       "    <tr style=\"text-align: right;\">\n",
       "      <th></th>\n",
       "      <th>id</th>\n",
       "      <th>call_date</th>\n",
       "      <th>duration</th>\n",
       "      <th>user_id</th>\n",
       "    </tr>\n",
       "  </thead>\n",
       "  <tbody>\n",
       "    <tr>\n",
       "      <th>0</th>\n",
       "      <td>1000_0</td>\n",
       "      <td>2018-07-25</td>\n",
       "      <td>0.00</td>\n",
       "      <td>1000</td>\n",
       "    </tr>\n",
       "    <tr>\n",
       "      <th>1</th>\n",
       "      <td>1000_1</td>\n",
       "      <td>2018-08-17</td>\n",
       "      <td>0.00</td>\n",
       "      <td>1000</td>\n",
       "    </tr>\n",
       "    <tr>\n",
       "      <th>2</th>\n",
       "      <td>1000_2</td>\n",
       "      <td>2018-06-11</td>\n",
       "      <td>2.85</td>\n",
       "      <td>1000</td>\n",
       "    </tr>\n",
       "    <tr>\n",
       "      <th>3</th>\n",
       "      <td>1000_3</td>\n",
       "      <td>2018-09-21</td>\n",
       "      <td>13.80</td>\n",
       "      <td>1000</td>\n",
       "    </tr>\n",
       "    <tr>\n",
       "      <th>4</th>\n",
       "      <td>1000_4</td>\n",
       "      <td>2018-12-15</td>\n",
       "      <td>5.18</td>\n",
       "      <td>1000</td>\n",
       "    </tr>\n",
       "  </tbody>\n",
       "</table>\n",
       "</div>"
      ],
      "text/plain": [
       "       id   call_date  duration  user_id\n",
       "0  1000_0  2018-07-25      0.00     1000\n",
       "1  1000_1  2018-08-17      0.00     1000\n",
       "2  1000_2  2018-06-11      2.85     1000\n",
       "3  1000_3  2018-09-21     13.80     1000\n",
       "4  1000_4  2018-12-15      5.18     1000"
      ]
     },
     "execution_count": 3,
     "metadata": {},
     "output_type": "execute_result"
    }
   ],
   "source": [
    "# посмтрим с чем мы будем работать\n",
    "calls_data.head()"
   ]
  },
  {
   "cell_type": "code",
   "execution_count": 4,
   "metadata": {},
   "outputs": [
    {
     "name": "stdout",
     "output_type": "stream",
     "text": [
      "<class 'pandas.core.frame.DataFrame'>\n",
      "RangeIndex: 202607 entries, 0 to 202606\n",
      "Data columns (total 4 columns):\n",
      " #   Column     Non-Null Count   Dtype  \n",
      "---  ------     --------------   -----  \n",
      " 0   id         202607 non-null  object \n",
      " 1   call_date  202607 non-null  object \n",
      " 2   duration   202607 non-null  float64\n",
      " 3   user_id    202607 non-null  int64  \n",
      "dtypes: float64(1), int64(1), object(2)\n",
      "memory usage: 6.2+ MB\n"
     ]
    }
   ],
   "source": [
    "calls_data.info()"
   ]
  },
  {
   "cell_type": "markdown",
   "metadata": {},
   "source": [
    "Отлично, пустых значений нет, смущает, что call_date не типа дата. Также смущает, что id не типа int, но как мы видим оно записано в очень странном формате (через нижнее подчеркивание), также для большего понимания было бы правильно переименовать это поле в id звонка - call_id, также duration в  call_duration"
   ]
  },
  {
   "cell_type": "code",
   "execution_count": 5,
   "metadata": {},
   "outputs": [],
   "source": [
    "calls_data['call_date'] = pd.to_datetime(calls_data['call_date'], format='%Y-%m-%d')\n",
    "calls_data = calls_data.rename(columns={'id': 'call_id', 'duration': 'call_duration'})"
   ]
  },
  {
   "cell_type": "markdown",
   "metadata": {},
   "source": [
    "Т.к. одна из задач исследования __количество сделанных звонков и израсходованных минут разговора по месяцам;__ то будет правильным добавить поле месяц"
   ]
  },
  {
   "cell_type": "code",
   "execution_count": 6,
   "metadata": {},
   "outputs": [],
   "source": [
    "calls_data['call_month']=pd.DatetimeIndex(calls_data['call_date']).month"
   ]
  },
  {
   "cell_type": "markdown",
   "metadata": {},
   "source": [
    "Проверим поле call_id на уникальность. Важно чтобы оно было уникально, иначе когда мы будем соединять с другими таблицами у нас появяться дубликаты."
   ]
  },
  {
   "cell_type": "code",
   "execution_count": 7,
   "metadata": {},
   "outputs": [
    {
     "name": "stdout",
     "output_type": "stream",
     "text": [
      "Все значения по определяющему столбцу таблицы уникальны\n"
     ]
    }
   ],
   "source": [
    "unique_call_id = calls_data['call_id'].unique()\n",
    "if len(unique_call_id) == calls_data['call_id'].count():\n",
    "    print('Все значения по определяющему столбцу таблицы уникальны')\n",
    "else:\n",
    "    print('Есть дублирующиеся поля по определяющему столбцу таблицы')"
   ]
  },
  {
   "cell_type": "markdown",
   "metadata": {},
   "source": [
    "Перейдем к таблице internet_data"
   ]
  },
  {
   "cell_type": "markdown",
   "metadata": {},
   "source": [
    "**Таблица internet (информация об интернет-сессиях):**\n",
    "- id — уникальный номер сессии\n",
    "- mb_used — объём потраченного за сессию интернет-трафика (в мегабайтах)\n",
    "- session_date — дата интернет-сессии\n",
    "- user_id  — идентификатор пользователя"
   ]
  },
  {
   "cell_type": "code",
   "execution_count": 8,
   "metadata": {},
   "outputs": [
    {
     "data": {
      "text/html": [
       "<div>\n",
       "<style scoped>\n",
       "    .dataframe tbody tr th:only-of-type {\n",
       "        vertical-align: middle;\n",
       "    }\n",
       "\n",
       "    .dataframe tbody tr th {\n",
       "        vertical-align: top;\n",
       "    }\n",
       "\n",
       "    .dataframe thead th {\n",
       "        text-align: right;\n",
       "    }\n",
       "</style>\n",
       "<table border=\"1\" class=\"dataframe\">\n",
       "  <thead>\n",
       "    <tr style=\"text-align: right;\">\n",
       "      <th></th>\n",
       "      <th>Unnamed: 0</th>\n",
       "      <th>id</th>\n",
       "      <th>mb_used</th>\n",
       "      <th>session_date</th>\n",
       "      <th>user_id</th>\n",
       "    </tr>\n",
       "  </thead>\n",
       "  <tbody>\n",
       "    <tr>\n",
       "      <th>0</th>\n",
       "      <td>0</td>\n",
       "      <td>1000_0</td>\n",
       "      <td>112.95</td>\n",
       "      <td>2018-11-25</td>\n",
       "      <td>1000</td>\n",
       "    </tr>\n",
       "    <tr>\n",
       "      <th>1</th>\n",
       "      <td>1</td>\n",
       "      <td>1000_1</td>\n",
       "      <td>1052.81</td>\n",
       "      <td>2018-09-07</td>\n",
       "      <td>1000</td>\n",
       "    </tr>\n",
       "    <tr>\n",
       "      <th>2</th>\n",
       "      <td>2</td>\n",
       "      <td>1000_2</td>\n",
       "      <td>1197.26</td>\n",
       "      <td>2018-06-25</td>\n",
       "      <td>1000</td>\n",
       "    </tr>\n",
       "    <tr>\n",
       "      <th>3</th>\n",
       "      <td>3</td>\n",
       "      <td>1000_3</td>\n",
       "      <td>550.27</td>\n",
       "      <td>2018-08-22</td>\n",
       "      <td>1000</td>\n",
       "    </tr>\n",
       "    <tr>\n",
       "      <th>4</th>\n",
       "      <td>4</td>\n",
       "      <td>1000_4</td>\n",
       "      <td>302.56</td>\n",
       "      <td>2018-09-24</td>\n",
       "      <td>1000</td>\n",
       "    </tr>\n",
       "  </tbody>\n",
       "</table>\n",
       "</div>"
      ],
      "text/plain": [
       "   Unnamed: 0      id  mb_used session_date  user_id\n",
       "0           0  1000_0   112.95   2018-11-25     1000\n",
       "1           1  1000_1  1052.81   2018-09-07     1000\n",
       "2           2  1000_2  1197.26   2018-06-25     1000\n",
       "3           3  1000_3   550.27   2018-08-22     1000\n",
       "4           4  1000_4   302.56   2018-09-24     1000"
      ]
     },
     "execution_count": 8,
     "metadata": {},
     "output_type": "execute_result"
    }
   ],
   "source": [
    "internet_data.head()"
   ]
  },
  {
   "cell_type": "code",
   "execution_count": 9,
   "metadata": {},
   "outputs": [
    {
     "name": "stdout",
     "output_type": "stream",
     "text": [
      "<class 'pandas.core.frame.DataFrame'>\n",
      "RangeIndex: 149396 entries, 0 to 149395\n",
      "Data columns (total 5 columns):\n",
      " #   Column        Non-Null Count   Dtype  \n",
      "---  ------        --------------   -----  \n",
      " 0   Unnamed: 0    149396 non-null  int64  \n",
      " 1   id            149396 non-null  object \n",
      " 2   mb_used       149396 non-null  float64\n",
      " 3   session_date  149396 non-null  object \n",
      " 4   user_id       149396 non-null  int64  \n",
      "dtypes: float64(1), int64(2), object(2)\n",
      "memory usage: 5.7+ MB\n"
     ]
    }
   ],
   "source": [
    "internet_data.info()"
   ]
  },
  {
   "cell_type": "markdown",
   "metadata": {},
   "source": [
    "Опять удача и нет пустых столбцов! В остальном, столбец который неназванный повторяет значение индекса. Значит его можно дропнуть без потерь. Также как в прошлом шаге id переименуем в session_id. Столбце session_date  в формате текста, сделаем его формата даты и добавим столбец по месяцу."
   ]
  },
  {
   "cell_type": "code",
   "execution_count": 10,
   "metadata": {},
   "outputs": [],
   "source": [
    "internet_data = internet_data.drop(columns='Unnamed: 0')\n",
    "internet_data = internet_data.rename(columns={'id': 'session_id'})\n",
    "internet_data['session_date'] = pd.to_datetime(internet_data['session_date'], format='%Y-%m-%d')\n",
    "internet_data['session_month'] = pd.DatetimeIndex(internet_data['session_date']).month"
   ]
  },
  {
   "cell_type": "code",
   "execution_count": 11,
   "metadata": {},
   "outputs": [
    {
     "name": "stdout",
     "output_type": "stream",
     "text": [
      "Все значения по определяющему столбцу таблицы уникальны\n"
     ]
    }
   ],
   "source": [
    "unique_session_id = internet_data['session_id'].unique()\n",
    "if len(unique_session_id) == internet_data['session_id'].count():\n",
    "    print('Все значения по определяющему столбцу таблицы уникальны')\n",
    "else:\n",
    "    print('Есть дублирующиеся поля по определяющему столбцу таблицы')"
   ]
  },
  {
   "cell_type": "markdown",
   "metadata": {},
   "source": [
    "Перейдем к таблице messages_data"
   ]
  },
  {
   "cell_type": "markdown",
   "metadata": {},
   "source": [
    "**Таблица messages (информация о сообщениях):**\n",
    "- id — уникальный номер сообщения\n",
    "- message_date — дата сообщения\n",
    "- user_id — идентификатор пользователя, отправившего сообщение"
   ]
  },
  {
   "cell_type": "code",
   "execution_count": 12,
   "metadata": {},
   "outputs": [
    {
     "data": {
      "text/html": [
       "<div>\n",
       "<style scoped>\n",
       "    .dataframe tbody tr th:only-of-type {\n",
       "        vertical-align: middle;\n",
       "    }\n",
       "\n",
       "    .dataframe tbody tr th {\n",
       "        vertical-align: top;\n",
       "    }\n",
       "\n",
       "    .dataframe thead th {\n",
       "        text-align: right;\n",
       "    }\n",
       "</style>\n",
       "<table border=\"1\" class=\"dataframe\">\n",
       "  <thead>\n",
       "    <tr style=\"text-align: right;\">\n",
       "      <th></th>\n",
       "      <th>id</th>\n",
       "      <th>message_date</th>\n",
       "      <th>user_id</th>\n",
       "    </tr>\n",
       "  </thead>\n",
       "  <tbody>\n",
       "    <tr>\n",
       "      <th>0</th>\n",
       "      <td>1000_0</td>\n",
       "      <td>2018-06-27</td>\n",
       "      <td>1000</td>\n",
       "    </tr>\n",
       "    <tr>\n",
       "      <th>1</th>\n",
       "      <td>1000_1</td>\n",
       "      <td>2018-10-08</td>\n",
       "      <td>1000</td>\n",
       "    </tr>\n",
       "    <tr>\n",
       "      <th>2</th>\n",
       "      <td>1000_2</td>\n",
       "      <td>2018-08-04</td>\n",
       "      <td>1000</td>\n",
       "    </tr>\n",
       "    <tr>\n",
       "      <th>3</th>\n",
       "      <td>1000_3</td>\n",
       "      <td>2018-06-16</td>\n",
       "      <td>1000</td>\n",
       "    </tr>\n",
       "    <tr>\n",
       "      <th>4</th>\n",
       "      <td>1000_4</td>\n",
       "      <td>2018-12-05</td>\n",
       "      <td>1000</td>\n",
       "    </tr>\n",
       "  </tbody>\n",
       "</table>\n",
       "</div>"
      ],
      "text/plain": [
       "       id message_date  user_id\n",
       "0  1000_0   2018-06-27     1000\n",
       "1  1000_1   2018-10-08     1000\n",
       "2  1000_2   2018-08-04     1000\n",
       "3  1000_3   2018-06-16     1000\n",
       "4  1000_4   2018-12-05     1000"
      ]
     },
     "execution_count": 12,
     "metadata": {},
     "output_type": "execute_result"
    }
   ],
   "source": [
    "messages_data.head()"
   ]
  },
  {
   "cell_type": "code",
   "execution_count": 13,
   "metadata": {},
   "outputs": [
    {
     "name": "stdout",
     "output_type": "stream",
     "text": [
      "<class 'pandas.core.frame.DataFrame'>\n",
      "RangeIndex: 123036 entries, 0 to 123035\n",
      "Data columns (total 3 columns):\n",
      " #   Column        Non-Null Count   Dtype \n",
      "---  ------        --------------   ----- \n",
      " 0   id            123036 non-null  object\n",
      " 1   message_date  123036 non-null  object\n",
      " 2   user_id       123036 non-null  int64 \n",
      "dtypes: int64(1), object(2)\n",
      "memory usage: 2.8+ MB\n"
     ]
    }
   ],
   "source": [
    "messages_data.info()"
   ]
  },
  {
   "cell_type": "markdown",
   "metadata": {},
   "source": [
    "Третья удачная таблица без пропусков, а это значит, что нам везёт! В остальном поступим аналогично, предудущим шагам - id переименуем в стобец messages_id, поле message_date приведём к формату даты и добавим столбец с месяцем."
   ]
  },
  {
   "cell_type": "code",
   "execution_count": 14,
   "metadata": {},
   "outputs": [],
   "source": [
    "messages_data = messages_data.rename(columns={'id': 'messages_id'})\n",
    "messages_data['message_date'] = pd.to_datetime(messages_data['message_date'], format='%Y-%m-%d') \n",
    "messages_data['message_month'] = pd.DatetimeIndex(messages_data['message_date']).month"
   ]
  },
  {
   "cell_type": "code",
   "execution_count": 15,
   "metadata": {},
   "outputs": [
    {
     "name": "stdout",
     "output_type": "stream",
     "text": [
      "Все значения по определяющему столбцу таблицы уникальны\n"
     ]
    }
   ],
   "source": [
    "unique_messages_id = messages_data['messages_id'].unique()\n",
    "if len(unique_messages_id) == messages_data['messages_id'].count():\n",
    "    print('Все значения по определяющему столбцу таблицы уникальны')\n",
    "else:\n",
    "    print('Есть дублирующиеся поля по определяющему столбцу таблицы')"
   ]
  },
  {
   "cell_type": "code",
   "execution_count": 16,
   "metadata": {},
   "outputs": [
    {
     "data": {
      "text/html": [
       "<div>\n",
       "<style scoped>\n",
       "    .dataframe tbody tr th:only-of-type {\n",
       "        vertical-align: middle;\n",
       "    }\n",
       "\n",
       "    .dataframe tbody tr th {\n",
       "        vertical-align: top;\n",
       "    }\n",
       "\n",
       "    .dataframe thead th {\n",
       "        text-align: right;\n",
       "    }\n",
       "</style>\n",
       "<table border=\"1\" class=\"dataframe\">\n",
       "  <thead>\n",
       "    <tr style=\"text-align: right;\">\n",
       "      <th></th>\n",
       "      <th>messages_id</th>\n",
       "      <th>message_date</th>\n",
       "      <th>user_id</th>\n",
       "      <th>message_month</th>\n",
       "    </tr>\n",
       "  </thead>\n",
       "  <tbody>\n",
       "    <tr>\n",
       "      <th>0</th>\n",
       "      <td>1000_0</td>\n",
       "      <td>2018-06-27</td>\n",
       "      <td>1000</td>\n",
       "      <td>6</td>\n",
       "    </tr>\n",
       "    <tr>\n",
       "      <th>1</th>\n",
       "      <td>1000_1</td>\n",
       "      <td>2018-10-08</td>\n",
       "      <td>1000</td>\n",
       "      <td>10</td>\n",
       "    </tr>\n",
       "    <tr>\n",
       "      <th>2</th>\n",
       "      <td>1000_2</td>\n",
       "      <td>2018-08-04</td>\n",
       "      <td>1000</td>\n",
       "      <td>8</td>\n",
       "    </tr>\n",
       "    <tr>\n",
       "      <th>3</th>\n",
       "      <td>1000_3</td>\n",
       "      <td>2018-06-16</td>\n",
       "      <td>1000</td>\n",
       "      <td>6</td>\n",
       "    </tr>\n",
       "    <tr>\n",
       "      <th>4</th>\n",
       "      <td>1000_4</td>\n",
       "      <td>2018-12-05</td>\n",
       "      <td>1000</td>\n",
       "      <td>12</td>\n",
       "    </tr>\n",
       "  </tbody>\n",
       "</table>\n",
       "</div>"
      ],
      "text/plain": [
       "  messages_id message_date  user_id  message_month\n",
       "0      1000_0   2018-06-27     1000              6\n",
       "1      1000_1   2018-10-08     1000             10\n",
       "2      1000_2   2018-08-04     1000              8\n",
       "3      1000_3   2018-06-16     1000              6\n",
       "4      1000_4   2018-12-05     1000             12"
      ]
     },
     "execution_count": 16,
     "metadata": {},
     "output_type": "execute_result"
    }
   ],
   "source": [
    "messages_data.head()"
   ]
  },
  {
   "cell_type": "markdown",
   "metadata": {},
   "source": [
    "Перейдем к таблице tariffs_data"
   ]
  },
  {
   "cell_type": "markdown",
   "metadata": {},
   "source": [
    "**Таблица tariffs (информация о тарифах):**\n",
    "- tariff_name — название тарифа\n",
    "- rub_monthly_fee — ежемесячная абонентская плата в рублях\n",
    "- minutes_included — количество минут разговора в месяц, включённых в абонентскую плату\n",
    "- messages_included — количество сообщений в месяц, включённых в абонентскую плату\n",
    "- mb_per_month_included — объём интернет-трафика, включённого в абонентскую плату (в мегабайтах)\n",
    "- rub_per_minute — стоимость минуты разговора сверх тарифного пакета (например, если в тарифе 100 минут разговора в месяц, то со 101 минуты будет взиматься плата)\n",
    "- rub_per_message — стоимость отправки сообщения сверх тарифного пакета\n",
    "- rub_per_gb — стоимость дополнительного гигабайта интернет-трафика сверх тарифного пакета (1 гигабайт = 1024 мегабайта)"
   ]
  },
  {
   "cell_type": "code",
   "execution_count": 17,
   "metadata": {},
   "outputs": [
    {
     "data": {
      "text/html": [
       "<div>\n",
       "<style scoped>\n",
       "    .dataframe tbody tr th:only-of-type {\n",
       "        vertical-align: middle;\n",
       "    }\n",
       "\n",
       "    .dataframe tbody tr th {\n",
       "        vertical-align: top;\n",
       "    }\n",
       "\n",
       "    .dataframe thead th {\n",
       "        text-align: right;\n",
       "    }\n",
       "</style>\n",
       "<table border=\"1\" class=\"dataframe\">\n",
       "  <thead>\n",
       "    <tr style=\"text-align: right;\">\n",
       "      <th></th>\n",
       "      <th>messages_included</th>\n",
       "      <th>mb_per_month_included</th>\n",
       "      <th>minutes_included</th>\n",
       "      <th>rub_monthly_fee</th>\n",
       "      <th>rub_per_gb</th>\n",
       "      <th>rub_per_message</th>\n",
       "      <th>rub_per_minute</th>\n",
       "      <th>tariff_name</th>\n",
       "    </tr>\n",
       "  </thead>\n",
       "  <tbody>\n",
       "    <tr>\n",
       "      <th>0</th>\n",
       "      <td>50</td>\n",
       "      <td>15360</td>\n",
       "      <td>500</td>\n",
       "      <td>550</td>\n",
       "      <td>200</td>\n",
       "      <td>3</td>\n",
       "      <td>3</td>\n",
       "      <td>smart</td>\n",
       "    </tr>\n",
       "    <tr>\n",
       "      <th>1</th>\n",
       "      <td>1000</td>\n",
       "      <td>30720</td>\n",
       "      <td>3000</td>\n",
       "      <td>1950</td>\n",
       "      <td>150</td>\n",
       "      <td>1</td>\n",
       "      <td>1</td>\n",
       "      <td>ultra</td>\n",
       "    </tr>\n",
       "  </tbody>\n",
       "</table>\n",
       "</div>"
      ],
      "text/plain": [
       "   messages_included  mb_per_month_included  minutes_included  \\\n",
       "0                 50                  15360               500   \n",
       "1               1000                  30720              3000   \n",
       "\n",
       "   rub_monthly_fee  rub_per_gb  rub_per_message  rub_per_minute tariff_name  \n",
       "0              550         200                3               3       smart  \n",
       "1             1950         150                1               1       ultra  "
      ]
     },
     "execution_count": 17,
     "metadata": {},
     "output_type": "execute_result"
    }
   ],
   "source": [
    "tariffs_data"
   ]
  },
  {
   "cell_type": "code",
   "execution_count": 18,
   "metadata": {},
   "outputs": [
    {
     "name": "stdout",
     "output_type": "stream",
     "text": [
      "<class 'pandas.core.frame.DataFrame'>\n",
      "RangeIndex: 2 entries, 0 to 1\n",
      "Data columns (total 8 columns):\n",
      " #   Column                 Non-Null Count  Dtype \n",
      "---  ------                 --------------  ----- \n",
      " 0   messages_included      2 non-null      int64 \n",
      " 1   mb_per_month_included  2 non-null      int64 \n",
      " 2   minutes_included       2 non-null      int64 \n",
      " 3   rub_monthly_fee        2 non-null      int64 \n",
      " 4   rub_per_gb             2 non-null      int64 \n",
      " 5   rub_per_message        2 non-null      int64 \n",
      " 6   rub_per_minute         2 non-null      int64 \n",
      " 7   tariff_name            2 non-null      object\n",
      "dtypes: int64(7), object(1)\n",
      "memory usage: 256.0+ bytes\n"
     ]
    }
   ],
   "source": [
    "tariffs_data.info()"
   ]
  },
  {
   "cell_type": "markdown",
   "metadata": {},
   "source": [
    "Всё отлично, значения в столбцах все int, идеальный для обработки."
   ]
  },
  {
   "cell_type": "markdown",
   "metadata": {},
   "source": [
    "Перейдем к таблице users_data"
   ]
  },
  {
   "cell_type": "markdown",
   "metadata": {},
   "source": [
    "**Таблица users (информация о пользователях):**\n",
    "- user_id — уникальный идентификатор пользователя\n",
    "- first_name — имя пользователя\n",
    "- last_name — фамилия пользователя\n",
    "- age — возраст пользователя (годы)\n",
    "- reg_date — дата подключения тарифа (день, месяц, год)\n",
    "- churn_date — дата прекращения пользования тарифом (если значение пропущено, то тариф ещё действовал на момент выгрузки данных)\n",
    "- city — город проживания пользователя\n",
    "- tariff — название тарифного плана"
   ]
  },
  {
   "cell_type": "code",
   "execution_count": 19,
   "metadata": {},
   "outputs": [
    {
     "data": {
      "text/html": [
       "<div>\n",
       "<style scoped>\n",
       "    .dataframe tbody tr th:only-of-type {\n",
       "        vertical-align: middle;\n",
       "    }\n",
       "\n",
       "    .dataframe tbody tr th {\n",
       "        vertical-align: top;\n",
       "    }\n",
       "\n",
       "    .dataframe thead th {\n",
       "        text-align: right;\n",
       "    }\n",
       "</style>\n",
       "<table border=\"1\" class=\"dataframe\">\n",
       "  <thead>\n",
       "    <tr style=\"text-align: right;\">\n",
       "      <th></th>\n",
       "      <th>user_id</th>\n",
       "      <th>age</th>\n",
       "      <th>churn_date</th>\n",
       "      <th>city</th>\n",
       "      <th>first_name</th>\n",
       "      <th>last_name</th>\n",
       "      <th>reg_date</th>\n",
       "      <th>tariff</th>\n",
       "    </tr>\n",
       "  </thead>\n",
       "  <tbody>\n",
       "    <tr>\n",
       "      <th>0</th>\n",
       "      <td>1000</td>\n",
       "      <td>52</td>\n",
       "      <td>NaN</td>\n",
       "      <td>Краснодар</td>\n",
       "      <td>Рафаил</td>\n",
       "      <td>Верещагин</td>\n",
       "      <td>2018-05-25</td>\n",
       "      <td>ultra</td>\n",
       "    </tr>\n",
       "    <tr>\n",
       "      <th>1</th>\n",
       "      <td>1001</td>\n",
       "      <td>41</td>\n",
       "      <td>NaN</td>\n",
       "      <td>Москва</td>\n",
       "      <td>Иван</td>\n",
       "      <td>Ежов</td>\n",
       "      <td>2018-11-01</td>\n",
       "      <td>smart</td>\n",
       "    </tr>\n",
       "    <tr>\n",
       "      <th>2</th>\n",
       "      <td>1002</td>\n",
       "      <td>59</td>\n",
       "      <td>NaN</td>\n",
       "      <td>Стерлитамак</td>\n",
       "      <td>Евгений</td>\n",
       "      <td>Абрамович</td>\n",
       "      <td>2018-06-17</td>\n",
       "      <td>smart</td>\n",
       "    </tr>\n",
       "    <tr>\n",
       "      <th>3</th>\n",
       "      <td>1003</td>\n",
       "      <td>23</td>\n",
       "      <td>NaN</td>\n",
       "      <td>Москва</td>\n",
       "      <td>Белла</td>\n",
       "      <td>Белякова</td>\n",
       "      <td>2018-08-17</td>\n",
       "      <td>ultra</td>\n",
       "    </tr>\n",
       "    <tr>\n",
       "      <th>4</th>\n",
       "      <td>1004</td>\n",
       "      <td>68</td>\n",
       "      <td>NaN</td>\n",
       "      <td>Новокузнецк</td>\n",
       "      <td>Татьяна</td>\n",
       "      <td>Авдеенко</td>\n",
       "      <td>2018-05-14</td>\n",
       "      <td>ultra</td>\n",
       "    </tr>\n",
       "  </tbody>\n",
       "</table>\n",
       "</div>"
      ],
      "text/plain": [
       "   user_id  age churn_date         city first_name  last_name    reg_date  \\\n",
       "0     1000   52        NaN    Краснодар     Рафаил  Верещагин  2018-05-25   \n",
       "1     1001   41        NaN       Москва       Иван       Ежов  2018-11-01   \n",
       "2     1002   59        NaN  Стерлитамак    Евгений  Абрамович  2018-06-17   \n",
       "3     1003   23        NaN       Москва      Белла   Белякова  2018-08-17   \n",
       "4     1004   68        NaN  Новокузнецк    Татьяна   Авдеенко  2018-05-14   \n",
       "\n",
       "  tariff  \n",
       "0  ultra  \n",
       "1  smart  \n",
       "2  smart  \n",
       "3  ultra  \n",
       "4  ultra  "
      ]
     },
     "execution_count": 19,
     "metadata": {},
     "output_type": "execute_result"
    }
   ],
   "source": [
    "users_data.head()"
   ]
  },
  {
   "cell_type": "code",
   "execution_count": 20,
   "metadata": {},
   "outputs": [
    {
     "name": "stdout",
     "output_type": "stream",
     "text": [
      "<class 'pandas.core.frame.DataFrame'>\n",
      "RangeIndex: 500 entries, 0 to 499\n",
      "Data columns (total 8 columns):\n",
      " #   Column      Non-Null Count  Dtype \n",
      "---  ------      --------------  ----- \n",
      " 0   user_id     500 non-null    int64 \n",
      " 1   age         500 non-null    int64 \n",
      " 2   churn_date  38 non-null     object\n",
      " 3   city        500 non-null    object\n",
      " 4   first_name  500 non-null    object\n",
      " 5   last_name   500 non-null    object\n",
      " 6   reg_date    500 non-null    object\n",
      " 7   tariff      500 non-null    object\n",
      "dtypes: int64(2), object(6)\n",
      "memory usage: 31.4+ KB\n"
     ]
    }
   ],
   "source": [
    "users_data.info()"
   ]
  },
  {
   "cell_type": "markdown",
   "metadata": {},
   "source": [
    "Пустые значения только в столбце churn_date. Заполним из них полседним значением за 2018 год и приведем к формату даты, добавив столбец месяц. Аналогичным образом поступим со столбцом reg_date. Также добавим столбец по тарифу где 1 будет ультра а 0 - смарт. \n",
    "Интересное наблюдение - это единственная таблица в которой не надо переименовывать столбец с идентификатором - он уже user_id."
   ]
  },
  {
   "cell_type": "code",
   "execution_count": 21,
   "metadata": {},
   "outputs": [],
   "source": [
    "users_data['churn_date'] = users_data['churn_date'].fillna(value='2018-12-31')\n",
    "users_data['churn_date'] = pd.to_datetime(users_data['churn_date'], format='%Y-%m-%d')\n",
    "users_data['churn_month'] = pd.DatetimeIndex(users_data['churn_date']).month\n",
    "users_data['reg_date'] = pd.to_datetime(users_data['reg_date'], format='%Y-%m-%d')\n",
    "users_data['reg_month'] = users_data['reg_date'].dt.month\n",
    "users_data['tariff_type'] = users_data['tariff'].replace('smart', 0)\n",
    "users_data['tariff_type'] = users_data['tariff_type'].replace('ultra', 1)"
   ]
  },
  {
   "cell_type": "markdown",
   "metadata": {},
   "source": [
    "В таблице users_data поле user_id является условный primary_key - полем с которым связыаются все таблицы(за исключением tariffs_data). То есть, при join/merge таблиц надо предварительно убедиться, что все записи по этому полю уникальны, иначе на этапе исследования данных мы можем получить некорректные цифры"
   ]
  },
  {
   "cell_type": "code",
   "execution_count": 22,
   "metadata": {},
   "outputs": [
    {
     "name": "stdout",
     "output_type": "stream",
     "text": [
      "Все значения по определяющему столбцу таблицы уникальны\n"
     ]
    }
   ],
   "source": [
    "unique_user_id = users_data['user_id'].unique()\n",
    "if len(unique_user_id) == users_data['user_id'].count():\n",
    "    print('Все значения по определяющему столбцу таблицы уникальны')\n",
    "else:\n",
    "    print('Есть дублирующиеся поля по определяющему столбцу таблицы')"
   ]
  },
  {
   "cell_type": "markdown",
   "metadata": {},
   "source": [
    "Прекрасно, все значения по главному полю таблицы уникальны."
   ]
  },
  {
   "cell_type": "markdown",
   "metadata": {},
   "source": [
    "Последним шагом найдем и удалим явные дубликаты"
   ]
  },
  {
   "cell_type": "code",
   "execution_count": 23,
   "metadata": {},
   "outputs": [
    {
     "data": {
      "text/plain": [
       "0"
      ]
     },
     "metadata": {},
     "output_type": "display_data"
    },
    {
     "name": "stdout",
     "output_type": "stream",
     "text": [
      "\n"
     ]
    },
    {
     "data": {
      "text/plain": [
       "0"
      ]
     },
     "metadata": {},
     "output_type": "display_data"
    },
    {
     "name": "stdout",
     "output_type": "stream",
     "text": [
      "\n"
     ]
    },
    {
     "data": {
      "text/plain": [
       "0"
      ]
     },
     "metadata": {},
     "output_type": "display_data"
    },
    {
     "name": "stdout",
     "output_type": "stream",
     "text": [
      "\n"
     ]
    },
    {
     "data": {
      "text/plain": [
       "0"
      ]
     },
     "metadata": {},
     "output_type": "display_data"
    },
    {
     "name": "stdout",
     "output_type": "stream",
     "text": [
      "\n"
     ]
    },
    {
     "data": {
      "text/plain": [
       "0"
      ]
     },
     "metadata": {},
     "output_type": "display_data"
    }
   ],
   "source": [
    "display(calls_data.duplicated().sum())\n",
    "print()\n",
    "display(internet_data.duplicated().sum())\n",
    "print()\n",
    "display(messages_data.duplicated().sum())\n",
    "print()\n",
    "display(tariffs_data.duplicated().sum())\n",
    "print()\n",
    "display(users_data.duplicated().sum())"
   ]
  },
  {
   "cell_type": "markdown",
   "metadata": {},
   "source": [
    "А их и нет. Тем прекрасней. \n",
    "\n",
    "### Вывод из 1-2 шага\n",
    "С обзором и предобраткой данных мы закончили, поэтому можем спокойно переходить к следующему шагу.\n",
    "Основной вывод из этого шага, что данные в кое-то веки, без лишний пропусков, лишний задовшек и ненужных явных дубликатов. Мы добавили недостающия для исследования поля, преобразовали их в нужные для нас типы данных.\n",
    "Пока проект идёт гладко как шевелюра Вина Дизеля."
   ]
  },
  {
   "attachments": {
    "call_id%20call_date%20call_duration%20call_month%20user_id.png": {
     "image/png": "[encoded data removed]"
    }
   },
   "cell_type": "markdown",
   "metadata": {},
   "source": [
    "Также для себя сделал вот такую схему, чтобы проще ориентиоваться по таблицам.![call_id%20call_date%20call_duration%20call_month%20user_id.png](attachment:call_id%20call_date%20call_duration%20call_month%20user_id.png)"
   ]
  },
  {
   "cell_type": "code",
   "execution_count": 24,
   "metadata": {},
   "outputs": [
    {
     "data": {
      "text/html": [
       "<div>\n",
       "<style scoped>\n",
       "    .dataframe tbody tr th:only-of-type {\n",
       "        vertical-align: middle;\n",
       "    }\n",
       "\n",
       "    .dataframe tbody tr th {\n",
       "        vertical-align: top;\n",
       "    }\n",
       "\n",
       "    .dataframe thead th {\n",
       "        text-align: right;\n",
       "    }\n",
       "</style>\n",
       "<table border=\"1\" class=\"dataframe\">\n",
       "  <thead>\n",
       "    <tr style=\"text-align: right;\">\n",
       "      <th></th>\n",
       "      <th>call_id</th>\n",
       "      <th>call_date</th>\n",
       "      <th>call_duration</th>\n",
       "      <th>user_id</th>\n",
       "      <th>call_month</th>\n",
       "    </tr>\n",
       "  </thead>\n",
       "  <tbody>\n",
       "    <tr>\n",
       "      <th>0</th>\n",
       "      <td>1000_0</td>\n",
       "      <td>2018-07-25</td>\n",
       "      <td>0.00</td>\n",
       "      <td>1000</td>\n",
       "      <td>7</td>\n",
       "    </tr>\n",
       "    <tr>\n",
       "      <th>1</th>\n",
       "      <td>1000_1</td>\n",
       "      <td>2018-08-17</td>\n",
       "      <td>0.00</td>\n",
       "      <td>1000</td>\n",
       "      <td>8</td>\n",
       "    </tr>\n",
       "    <tr>\n",
       "      <th>2</th>\n",
       "      <td>1000_2</td>\n",
       "      <td>2018-06-11</td>\n",
       "      <td>2.85</td>\n",
       "      <td>1000</td>\n",
       "      <td>6</td>\n",
       "    </tr>\n",
       "    <tr>\n",
       "      <th>3</th>\n",
       "      <td>1000_3</td>\n",
       "      <td>2018-09-21</td>\n",
       "      <td>13.80</td>\n",
       "      <td>1000</td>\n",
       "      <td>9</td>\n",
       "    </tr>\n",
       "    <tr>\n",
       "      <th>4</th>\n",
       "      <td>1000_4</td>\n",
       "      <td>2018-12-15</td>\n",
       "      <td>5.18</td>\n",
       "      <td>1000</td>\n",
       "      <td>12</td>\n",
       "    </tr>\n",
       "  </tbody>\n",
       "</table>\n",
       "</div>"
      ],
      "text/plain": [
       "  call_id  call_date  call_duration  user_id  call_month\n",
       "0  1000_0 2018-07-25           0.00     1000           7\n",
       "1  1000_1 2018-08-17           0.00     1000           8\n",
       "2  1000_2 2018-06-11           2.85     1000           6\n",
       "3  1000_3 2018-09-21          13.80     1000           9\n",
       "4  1000_4 2018-12-15           5.18     1000          12"
      ]
     },
     "execution_count": 24,
     "metadata": {},
     "output_type": "execute_result"
    }
   ],
   "source": [
    "calls_data.head()"
   ]
  },
  {
   "cell_type": "code",
   "execution_count": 25,
   "metadata": {},
   "outputs": [
    {
     "data": {
      "text/plain": [
       "<AxesSubplot:>"
      ]
     },
     "execution_count": 25,
     "metadata": {},
     "output_type": "execute_result"
    },
    {
     "data": {
      "image/png": "[encoded data removed]",
      "text/plain": [
       "<Figure size 432x288 with 1 Axes>"
      ]
     },
     "metadata": {
      "needs_background": "light"
     },
     "output_type": "display_data"
    }
   ],
   "source": [
    "calls_data['call_duration'].hist(range=(0, 100), bins=100)"
   ]
  },
  {
   "cell_type": "markdown",
   "metadata": {},
   "source": [
    "<div class=\"alert alert-info\"> Как мы видим много звонков с нулём в длительности, учитывая что Мегалайн округляет вверх каждый звонок, то и звонок условно 0.1 минуты он бы округлял до минуты, соответветственно все те записи, где длительность звонка равна нулю можно умножить на ноль.</div>\n"
   ]
  },
  {
   "cell_type": "code",
   "execution_count": 26,
   "metadata": {},
   "outputs": [],
   "source": [
    "calls_data = calls_data.query('call_duration > 0')"
   ]
  },
  {
   "cell_type": "markdown",
   "metadata": {},
   "source": [
    "<div class=\"alert alert-info\">\n",
    "    Округлим звонки в верхнюю сторону, т.к. это делает мегалайн.\n",
    "</div>"
   ]
  },
  {
   "cell_type": "code",
   "execution_count": 28,
   "metadata": {},
   "outputs": [
    {
     "name": "stdout",
     "output_type": "stream",
     "text": [
      "Средняя длина разговора 8.39779402922807\n",
      "Дисперсия по длине разговора 28.65466965300041\n",
      "Стандартное отклонение по длине разговора 5.353022086267679\n"
     ]
    }
   ],
   "source": [
    "print('Средняя длина разговора',calls_data['call_duration'].mean())\n",
    "print('Дисперсия по длине разговора',np.var(calls_data['call_duration']))\n",
    "print('Стандартное отклонение по длине разговора',np.std(calls_data['call_duration'],ddof=1))"
   ]
  },
  {
   "cell_type": "code",
   "execution_count": 29,
   "metadata": {},
   "outputs": [
    {
     "data": {
      "text/plain": [
       "<AxesSubplot:xlabel='call_month', ylabel='call_duration'>"
      ]
     },
     "execution_count": 29,
     "metadata": {},
     "output_type": "execute_result"
    },
    {
     "data": {
      "image/png": "[encoded data removed]",
      "text/plain": [
       "<Figure size 432x288 with 1 Axes>"
      ]
     },
     "metadata": {
      "needs_background": "light"
     },
     "output_type": "display_data"
    }
   ],
   "source": [
    "sns.boxplot( x=calls_data[\"call_month\"], y=calls_data[\"call_duration\"])"
   ]
  },
  {
   "cell_type": "markdown",
   "metadata": {},
   "source": [
    "<div class=\"alert alert-info\"> \n",
    "Как видим в данных присутствуют вбросы\n",
    "</div>"
   ]
  },
  {
   "cell_type": "markdown",
   "metadata": {},
   "source": [
    "Рассчитаем количество сделанных звонков с агрегацией по пользователю и месяцу. Честно пытался сначала сделать по пользователю с агрегацией по месяцу(чтобы было 12 еще колонок), но не понял как к ним всем применить одно и то же условие для подсчёта прибыли."
   ]
  },
  {
   "cell_type": "code",
   "execution_count": 30,
   "metadata": {},
   "outputs": [
    {
     "data": {
      "text/html": [
       "<div>\n",
       "<style scoped>\n",
       "    .dataframe tbody tr th:only-of-type {\n",
       "        vertical-align: middle;\n",
       "    }\n",
       "\n",
       "    .dataframe tbody tr th {\n",
       "        vertical-align: top;\n",
       "    }\n",
       "\n",
       "    .dataframe thead tr th {\n",
       "        text-align: left;\n",
       "    }\n",
       "\n",
       "    .dataframe thead tr:last-of-type th {\n",
       "        text-align: right;\n",
       "    }\n",
       "</style>\n",
       "<table border=\"1\" class=\"dataframe\">\n",
       "  <thead>\n",
       "    <tr>\n",
       "      <th></th>\n",
       "      <th></th>\n",
       "      <th>count</th>\n",
       "      <th>sum</th>\n",
       "    </tr>\n",
       "    <tr>\n",
       "      <th></th>\n",
       "      <th></th>\n",
       "      <th>call_duration</th>\n",
       "      <th>call_duration</th>\n",
       "    </tr>\n",
       "    <tr>\n",
       "      <th>user_id</th>\n",
       "      <th>call_month</th>\n",
       "      <th></th>\n",
       "      <th></th>\n",
       "    </tr>\n",
       "  </thead>\n",
       "  <tbody>\n",
       "    <tr>\n",
       "      <th rowspan=\"5\" valign=\"top\">1000</th>\n",
       "      <th>5</th>\n",
       "      <td>17</td>\n",
       "      <td>150.06</td>\n",
       "    </tr>\n",
       "    <tr>\n",
       "      <th>6</th>\n",
       "      <td>28</td>\n",
       "      <td>158.90</td>\n",
       "    </tr>\n",
       "    <tr>\n",
       "      <th>7</th>\n",
       "      <td>41</td>\n",
       "      <td>318.80</td>\n",
       "    </tr>\n",
       "    <tr>\n",
       "      <th>8</th>\n",
       "      <td>42</td>\n",
       "      <td>389.87</td>\n",
       "    </tr>\n",
       "    <tr>\n",
       "      <th>9</th>\n",
       "      <td>46</td>\n",
       "      <td>440.14</td>\n",
       "    </tr>\n",
       "    <tr>\n",
       "      <th>...</th>\n",
       "      <th>...</th>\n",
       "      <td>...</td>\n",
       "      <td>...</td>\n",
       "    </tr>\n",
       "    <tr>\n",
       "      <th>1498</th>\n",
       "      <th>10</th>\n",
       "      <td>30</td>\n",
       "      <td>232.63</td>\n",
       "    </tr>\n",
       "    <tr>\n",
       "      <th rowspan=\"4\" valign=\"top\">1499</th>\n",
       "      <th>9</th>\n",
       "      <td>8</td>\n",
       "      <td>64.65</td>\n",
       "    </tr>\n",
       "    <tr>\n",
       "      <th>10</th>\n",
       "      <td>44</td>\n",
       "      <td>429.91</td>\n",
       "    </tr>\n",
       "    <tr>\n",
       "      <th>11</th>\n",
       "      <td>62</td>\n",
       "      <td>576.50</td>\n",
       "    </tr>\n",
       "    <tr>\n",
       "      <th>12</th>\n",
       "      <td>56</td>\n",
       "      <td>465.16</td>\n",
       "    </tr>\n",
       "  </tbody>\n",
       "</table>\n",
       "<p>3168 rows × 2 columns</p>\n",
       "</div>"
      ],
      "text/plain": [
       "                           count           sum\n",
       "                   call_duration call_duration\n",
       "user_id call_month                            \n",
       "1000    5                     17        150.06\n",
       "        6                     28        158.90\n",
       "        7                     41        318.80\n",
       "        8                     42        389.87\n",
       "        9                     46        440.14\n",
       "...                          ...           ...\n",
       "1498    10                    30        232.63\n",
       "1499    9                      8         64.65\n",
       "        10                    44        429.91\n",
       "        11                    62        576.50\n",
       "        12                    56        465.16\n",
       "\n",
       "[3168 rows x 2 columns]"
      ]
     },
     "execution_count": 30,
     "metadata": {},
     "output_type": "execute_result"
    }
   ],
   "source": [
    "calls_data_pivot = calls_data.pivot_table(index = ['user_id', 'call_month'], values = 'call_duration', aggfunc=['count', 'sum'])\n",
    "calls_data_pivot"
   ]
  },
  {
   "cell_type": "code",
   "execution_count": 31,
   "metadata": {},
   "outputs": [
    {
     "data": {
      "text/html": [
       "<div>\n",
       "<style scoped>\n",
       "    .dataframe tbody tr th:only-of-type {\n",
       "        vertical-align: middle;\n",
       "    }\n",
       "\n",
       "    .dataframe tbody tr th {\n",
       "        vertical-align: top;\n",
       "    }\n",
       "\n",
       "    .dataframe thead th {\n",
       "        text-align: right;\n",
       "    }\n",
       "</style>\n",
       "<table border=\"1\" class=\"dataframe\">\n",
       "  <thead>\n",
       "    <tr style=\"text-align: right;\">\n",
       "      <th></th>\n",
       "      <th></th>\n",
       "      <th>call_count</th>\n",
       "      <th>minutes_total</th>\n",
       "    </tr>\n",
       "    <tr>\n",
       "      <th>user_id</th>\n",
       "      <th>call_month</th>\n",
       "      <th></th>\n",
       "      <th></th>\n",
       "    </tr>\n",
       "  </thead>\n",
       "  <tbody>\n",
       "    <tr>\n",
       "      <th rowspan=\"5\" valign=\"top\">1000</th>\n",
       "      <th>5</th>\n",
       "      <td>17</td>\n",
       "      <td>151.0</td>\n",
       "    </tr>\n",
       "    <tr>\n",
       "      <th>6</th>\n",
       "      <td>28</td>\n",
       "      <td>159.0</td>\n",
       "    </tr>\n",
       "    <tr>\n",
       "      <th>7</th>\n",
       "      <td>41</td>\n",
       "      <td>319.0</td>\n",
       "    </tr>\n",
       "    <tr>\n",
       "      <th>8</th>\n",
       "      <td>42</td>\n",
       "      <td>390.0</td>\n",
       "    </tr>\n",
       "    <tr>\n",
       "      <th>9</th>\n",
       "      <td>46</td>\n",
       "      <td>441.0</td>\n",
       "    </tr>\n",
       "    <tr>\n",
       "      <th>...</th>\n",
       "      <th>...</th>\n",
       "      <td>...</td>\n",
       "      <td>...</td>\n",
       "    </tr>\n",
       "    <tr>\n",
       "      <th>1498</th>\n",
       "      <th>10</th>\n",
       "      <td>30</td>\n",
       "      <td>233.0</td>\n",
       "    </tr>\n",
       "    <tr>\n",
       "      <th rowspan=\"4\" valign=\"top\">1499</th>\n",
       "      <th>9</th>\n",
       "      <td>8</td>\n",
       "      <td>65.0</td>\n",
       "    </tr>\n",
       "    <tr>\n",
       "      <th>10</th>\n",
       "      <td>44</td>\n",
       "      <td>430.0</td>\n",
       "    </tr>\n",
       "    <tr>\n",
       "      <th>11</th>\n",
       "      <td>62</td>\n",
       "      <td>577.0</td>\n",
       "    </tr>\n",
       "    <tr>\n",
       "      <th>12</th>\n",
       "      <td>56</td>\n",
       "      <td>466.0</td>\n",
       "    </tr>\n",
       "  </tbody>\n",
       "</table>\n",
       "<p>3168 rows × 2 columns</p>\n",
       "</div>"
      ],
      "text/plain": [
       "                    call_count  minutes_total\n",
       "user_id call_month                           \n",
       "1000    5                   17          151.0\n",
       "        6                   28          159.0\n",
       "        7                   41          319.0\n",
       "        8                   42          390.0\n",
       "        9                   46          441.0\n",
       "...                        ...            ...\n",
       "1498    10                  30          233.0\n",
       "1499    9                    8           65.0\n",
       "        10                  44          430.0\n",
       "        11                  62          577.0\n",
       "        12                  56          466.0\n",
       "\n",
       "[3168 rows x 2 columns]"
      ]
     },
     "execution_count": 31,
     "metadata": {},
     "output_type": "execute_result"
    }
   ],
   "source": [
    "calls_data_pivot.columns = ['call_count', 'minutes_total']\n",
    "calls_data_pivot['minutes_total']=np.ceil(calls_data_pivot['minutes_total'])\n",
    "calls_data_pivot"
   ]
  },
  {
   "cell_type": "markdown",
   "metadata": {},
   "source": [
    "<div class=\"alert alert-info\">\n",
    "        \n",
    "    \n",
    "    \n",
    "Вот теперь мы округлили как делает мегалайн. Он округляет минуты в конце месяца, мы сейчас так и сделали.\n",
    "</div>"
   ]
  },
  {
   "cell_type": "markdown",
   "metadata": {},
   "source": [
    "Рассчитаем количество отправленых сообщений с агрегацией по пользователю и месяцу."
   ]
  },
  {
   "cell_type": "code",
   "execution_count": 32,
   "metadata": {},
   "outputs": [
    {
     "data": {
      "text/html": [
       "<div>\n",
       "<style scoped>\n",
       "    .dataframe tbody tr th:only-of-type {\n",
       "        vertical-align: middle;\n",
       "    }\n",
       "\n",
       "    .dataframe tbody tr th {\n",
       "        vertical-align: top;\n",
       "    }\n",
       "\n",
       "    .dataframe thead th {\n",
       "        text-align: right;\n",
       "    }\n",
       "</style>\n",
       "<table border=\"1\" class=\"dataframe\">\n",
       "  <thead>\n",
       "    <tr style=\"text-align: right;\">\n",
       "      <th></th>\n",
       "      <th>messages_id</th>\n",
       "      <th>message_date</th>\n",
       "      <th>user_id</th>\n",
       "      <th>message_month</th>\n",
       "    </tr>\n",
       "  </thead>\n",
       "  <tbody>\n",
       "    <tr>\n",
       "      <th>0</th>\n",
       "      <td>1000_0</td>\n",
       "      <td>2018-06-27</td>\n",
       "      <td>1000</td>\n",
       "      <td>6</td>\n",
       "    </tr>\n",
       "    <tr>\n",
       "      <th>1</th>\n",
       "      <td>1000_1</td>\n",
       "      <td>2018-10-08</td>\n",
       "      <td>1000</td>\n",
       "      <td>10</td>\n",
       "    </tr>\n",
       "    <tr>\n",
       "      <th>2</th>\n",
       "      <td>1000_2</td>\n",
       "      <td>2018-08-04</td>\n",
       "      <td>1000</td>\n",
       "      <td>8</td>\n",
       "    </tr>\n",
       "    <tr>\n",
       "      <th>3</th>\n",
       "      <td>1000_3</td>\n",
       "      <td>2018-06-16</td>\n",
       "      <td>1000</td>\n",
       "      <td>6</td>\n",
       "    </tr>\n",
       "    <tr>\n",
       "      <th>4</th>\n",
       "      <td>1000_4</td>\n",
       "      <td>2018-12-05</td>\n",
       "      <td>1000</td>\n",
       "      <td>12</td>\n",
       "    </tr>\n",
       "  </tbody>\n",
       "</table>\n",
       "</div>"
      ],
      "text/plain": [
       "  messages_id message_date  user_id  message_month\n",
       "0      1000_0   2018-06-27     1000              6\n",
       "1      1000_1   2018-10-08     1000             10\n",
       "2      1000_2   2018-08-04     1000              8\n",
       "3      1000_3   2018-06-16     1000              6\n",
       "4      1000_4   2018-12-05     1000             12"
      ]
     },
     "execution_count": 32,
     "metadata": {},
     "output_type": "execute_result"
    }
   ],
   "source": [
    "messages_data.head()"
   ]
  },
  {
   "cell_type": "code",
   "execution_count": 33,
   "metadata": {},
   "outputs": [
    {
     "data": {
      "text/plain": [
       "<AxesSubplot:xlabel='message_month', ylabel='Count'>"
      ]
     },
     "execution_count": 33,
     "metadata": {},
     "output_type": "execute_result"
    },
    {
     "data": {
      "image/png": "[encoded data removed]",
      "text/plain": [
       "<Figure size 432x288 with 1 Axes>"
      ]
     },
     "metadata": {
      "needs_background": "light"
     },
     "output_type": "display_data"
    }
   ],
   "source": [
    "sns.histplot(data=messages_data, x='message_month', discrete=True)"
   ]
  },
  {
   "cell_type": "markdown",
   "metadata": {},
   "source": [
    "<div class=\"alert alert-info\"> Странно, что в каждом последующем месяце сообщений больше чем в предыдушем.</div>"
   ]
  },
  {
   "cell_type": "code",
   "execution_count": 34,
   "metadata": {},
   "outputs": [
    {
     "name": "stdout",
     "output_type": "stream",
     "text": [
      "Средняя количество сообщений отправленных пользователем 288.8169014084507\n",
      "Дисперсия по количеству сообщений отправленных пользователем 71445.6941744363\n",
      "Стандартное отклонение по количеству сообщений отправленных пользователем 267.6075516313784\n"
     ]
    }
   ],
   "source": [
    "user_messages = messages_data.groupby('user_id')['messages_id'].count()\n",
    "print('Средняя количество сообщений отправленных пользователем',user_messages.mean())\n",
    "print('Дисперсия по количеству сообщений отправленных пользователем',np.var(user_messages))\n",
    "print('Стандартное отклонение по количеству сообщений отправленных пользователем',np.std(user_messages,ddof=1))"
   ]
  },
  {
   "cell_type": "code",
   "execution_count": 35,
   "metadata": {},
   "outputs": [
    {
     "data": {
      "text/plain": [
       "<AxesSubplot:>"
      ]
     },
     "execution_count": 35,
     "metadata": {},
     "output_type": "execute_result"
    },
    {
     "data": {
      "image/png": "[encoded data removed]",
      "text/plain": [
       "<Figure size 432x288 with 1 Axes>"
      ]
     },
     "metadata": {
      "needs_background": "light"
     },
     "output_type": "display_data"
    }
   ],
   "source": [
    "messages_data.boxplot() "
   ]
  },
  {
   "cell_type": "code",
   "execution_count": 36,
   "metadata": {},
   "outputs": [
    {
     "data": {
      "text/html": [
       "<div>\n",
       "<style scoped>\n",
       "    .dataframe tbody tr th:only-of-type {\n",
       "        vertical-align: middle;\n",
       "    }\n",
       "\n",
       "    .dataframe tbody tr th {\n",
       "        vertical-align: top;\n",
       "    }\n",
       "\n",
       "    .dataframe thead th {\n",
       "        text-align: right;\n",
       "    }\n",
       "</style>\n",
       "<table border=\"1\" class=\"dataframe\">\n",
       "  <thead>\n",
       "    <tr style=\"text-align: right;\">\n",
       "      <th></th>\n",
       "      <th></th>\n",
       "      <th>message_count</th>\n",
       "    </tr>\n",
       "    <tr>\n",
       "      <th>user_id</th>\n",
       "      <th>message_month</th>\n",
       "      <th></th>\n",
       "    </tr>\n",
       "  </thead>\n",
       "  <tbody>\n",
       "    <tr>\n",
       "      <th rowspan=\"5\" valign=\"top\">1000</th>\n",
       "      <th>5</th>\n",
       "      <td>22</td>\n",
       "    </tr>\n",
       "    <tr>\n",
       "      <th>6</th>\n",
       "      <td>60</td>\n",
       "    </tr>\n",
       "    <tr>\n",
       "      <th>7</th>\n",
       "      <td>75</td>\n",
       "    </tr>\n",
       "    <tr>\n",
       "      <th>8</th>\n",
       "      <td>81</td>\n",
       "    </tr>\n",
       "    <tr>\n",
       "      <th>9</th>\n",
       "      <td>57</td>\n",
       "    </tr>\n",
       "    <tr>\n",
       "      <th>...</th>\n",
       "      <th>...</th>\n",
       "      <td>...</td>\n",
       "    </tr>\n",
       "    <tr>\n",
       "      <th>1498</th>\n",
       "      <th>10</th>\n",
       "      <td>42</td>\n",
       "    </tr>\n",
       "    <tr>\n",
       "      <th rowspan=\"4\" valign=\"top\">1499</th>\n",
       "      <th>9</th>\n",
       "      <td>11</td>\n",
       "    </tr>\n",
       "    <tr>\n",
       "      <th>10</th>\n",
       "      <td>48</td>\n",
       "    </tr>\n",
       "    <tr>\n",
       "      <th>11</th>\n",
       "      <td>59</td>\n",
       "    </tr>\n",
       "    <tr>\n",
       "      <th>12</th>\n",
       "      <td>66</td>\n",
       "    </tr>\n",
       "  </tbody>\n",
       "</table>\n",
       "<p>2717 rows × 1 columns</p>\n",
       "</div>"
      ],
      "text/plain": [
       "                       message_count\n",
       "user_id message_month               \n",
       "1000    5                         22\n",
       "        6                         60\n",
       "        7                         75\n",
       "        8                         81\n",
       "        9                         57\n",
       "...                              ...\n",
       "1498    10                        42\n",
       "1499    9                         11\n",
       "        10                        48\n",
       "        11                        59\n",
       "        12                        66\n",
       "\n",
       "[2717 rows x 1 columns]"
      ]
     },
     "execution_count": 36,
     "metadata": {},
     "output_type": "execute_result"
    }
   ],
   "source": [
    "messages_data_pivot = messages_data.pivot_table(index = ['user_id', 'message_month'], values = 'messages_id', aggfunc='count')\n",
    "messages_data_pivot.columns = ['message_count']\n",
    "messages_data_pivot"
   ]
  },
  {
   "cell_type": "markdown",
   "metadata": {},
   "source": [
    "Рассчитаем объем израсходованного интернет-трафика с группировкой по пользователю в разрезе по месяцам"
   ]
  },
  {
   "cell_type": "code",
   "execution_count": 37,
   "metadata": {},
   "outputs": [
    {
     "data": {
      "text/plain": [
       "<AxesSubplot:>"
      ]
     },
     "execution_count": 37,
     "metadata": {},
     "output_type": "execute_result"
    },
    {
     "data": {
      "image/png": "[encoded data removed]",
      "text/plain": [
       "<Figure size 432x288 with 1 Axes>"
      ]
     },
     "metadata": {
      "needs_background": "light"
     },
     "output_type": "display_data"
    }
   ],
   "source": [
    "internet_data['mb_used'].hist(range=(0, 100))"
   ]
  },
  {
   "cell_type": "code",
   "execution_count": 39,
   "metadata": {},
   "outputs": [],
   "source": [
    "internet_data = internet_data.query('mb_used > 0')"
   ]
  },
  {
   "cell_type": "code",
   "execution_count": 40,
   "metadata": {},
   "outputs": [
    {
     "name": "stdout",
     "output_type": "stream",
     "text": [
      "Среднее количество потребляемого трафика 426.08721035763267\n",
      "Дисперсия по количеству потребляемого трафика 65329.040565885436\n",
      "Стандартное отклонение по количеству потребляемого трафика 255.5964473206066\n"
     ]
    }
   ],
   "source": [
    "print('Среднее количество потребляемого трафика',internet_data['mb_used'].mean())\n",
    "print('Дисперсия по количеству потребляемого трафика',np.var(internet_data['mb_used']))\n",
    "print('Стандартное отклонение по количеству потребляемого трафика',np.std(internet_data['mb_used'],ddof=1))"
   ]
  },
  {
   "cell_type": "code",
   "execution_count": 41,
   "metadata": {},
   "outputs": [
    {
     "data": {
      "text/html": [
       "<div>\n",
       "<style scoped>\n",
       "    .dataframe tbody tr th:only-of-type {\n",
       "        vertical-align: middle;\n",
       "    }\n",
       "\n",
       "    .dataframe tbody tr th {\n",
       "        vertical-align: top;\n",
       "    }\n",
       "\n",
       "    .dataframe thead th {\n",
       "        text-align: right;\n",
       "    }\n",
       "</style>\n",
       "<table border=\"1\" class=\"dataframe\">\n",
       "  <thead>\n",
       "    <tr style=\"text-align: right;\">\n",
       "      <th></th>\n",
       "      <th></th>\n",
       "      <th>mb_used</th>\n",
       "    </tr>\n",
       "    <tr>\n",
       "      <th>user_id</th>\n",
       "      <th>session_month</th>\n",
       "      <th></th>\n",
       "    </tr>\n",
       "  </thead>\n",
       "  <tbody>\n",
       "    <tr>\n",
       "      <th rowspan=\"5\" valign=\"top\">1000</th>\n",
       "      <th>5</th>\n",
       "      <td>2253.49</td>\n",
       "    </tr>\n",
       "    <tr>\n",
       "      <th>6</th>\n",
       "      <td>23233.77</td>\n",
       "    </tr>\n",
       "    <tr>\n",
       "      <th>7</th>\n",
       "      <td>14003.64</td>\n",
       "    </tr>\n",
       "    <tr>\n",
       "      <th>8</th>\n",
       "      <td>14055.93</td>\n",
       "    </tr>\n",
       "    <tr>\n",
       "      <th>9</th>\n",
       "      <td>14568.91</td>\n",
       "    </tr>\n",
       "    <tr>\n",
       "      <th>...</th>\n",
       "      <th>...</th>\n",
       "      <td>...</td>\n",
       "    </tr>\n",
       "    <tr>\n",
       "      <th>1498</th>\n",
       "      <th>10</th>\n",
       "      <td>20579.36</td>\n",
       "    </tr>\n",
       "    <tr>\n",
       "      <th rowspan=\"4\" valign=\"top\">1499</th>\n",
       "      <th>9</th>\n",
       "      <td>1845.75</td>\n",
       "    </tr>\n",
       "    <tr>\n",
       "      <th>10</th>\n",
       "      <td>17788.51</td>\n",
       "    </tr>\n",
       "    <tr>\n",
       "      <th>11</th>\n",
       "      <td>17963.31</td>\n",
       "    </tr>\n",
       "    <tr>\n",
       "      <th>12</th>\n",
       "      <td>13055.58</td>\n",
       "    </tr>\n",
       "  </tbody>\n",
       "</table>\n",
       "<p>3201 rows × 1 columns</p>\n",
       "</div>"
      ],
      "text/plain": [
       "                        mb_used\n",
       "user_id session_month          \n",
       "1000    5               2253.49\n",
       "        6              23233.77\n",
       "        7              14003.64\n",
       "        8              14055.93\n",
       "        9              14568.91\n",
       "...                         ...\n",
       "1498    10             20579.36\n",
       "1499    9               1845.75\n",
       "        10             17788.51\n",
       "        11             17963.31\n",
       "        12             13055.58\n",
       "\n",
       "[3201 rows x 1 columns]"
      ]
     },
     "execution_count": 41,
     "metadata": {},
     "output_type": "execute_result"
    }
   ],
   "source": [
    "internet_data_pivot = internet_data.pivot_table(index = ['user_id', 'session_month'], values = 'mb_used', aggfunc='sum')\n",
    "internet_data_pivot"
   ]
  },
  {
   "cell_type": "code",
   "execution_count": 42,
   "metadata": {},
   "outputs": [
    {
     "data": {
      "text/html": [
       "<div>\n",
       "<style scoped>\n",
       "    .dataframe tbody tr th:only-of-type {\n",
       "        vertical-align: middle;\n",
       "    }\n",
       "\n",
       "    .dataframe tbody tr th {\n",
       "        vertical-align: top;\n",
       "    }\n",
       "\n",
       "    .dataframe thead th {\n",
       "        text-align: right;\n",
       "    }\n",
       "</style>\n",
       "<table border=\"1\" class=\"dataframe\">\n",
       "  <thead>\n",
       "    <tr style=\"text-align: right;\">\n",
       "      <th></th>\n",
       "      <th></th>\n",
       "      <th>mb_total</th>\n",
       "    </tr>\n",
       "    <tr>\n",
       "      <th>user_id</th>\n",
       "      <th>session_month</th>\n",
       "      <th></th>\n",
       "    </tr>\n",
       "  </thead>\n",
       "  <tbody>\n",
       "    <tr>\n",
       "      <th rowspan=\"5\" valign=\"top\">1000</th>\n",
       "      <th>5</th>\n",
       "      <td>2254.0</td>\n",
       "    </tr>\n",
       "    <tr>\n",
       "      <th>6</th>\n",
       "      <td>23234.0</td>\n",
       "    </tr>\n",
       "    <tr>\n",
       "      <th>7</th>\n",
       "      <td>14004.0</td>\n",
       "    </tr>\n",
       "    <tr>\n",
       "      <th>8</th>\n",
       "      <td>14056.0</td>\n",
       "    </tr>\n",
       "    <tr>\n",
       "      <th>9</th>\n",
       "      <td>14569.0</td>\n",
       "    </tr>\n",
       "    <tr>\n",
       "      <th>...</th>\n",
       "      <th>...</th>\n",
       "      <td>...</td>\n",
       "    </tr>\n",
       "    <tr>\n",
       "      <th>1498</th>\n",
       "      <th>10</th>\n",
       "      <td>20580.0</td>\n",
       "    </tr>\n",
       "    <tr>\n",
       "      <th rowspan=\"4\" valign=\"top\">1499</th>\n",
       "      <th>9</th>\n",
       "      <td>1846.0</td>\n",
       "    </tr>\n",
       "    <tr>\n",
       "      <th>10</th>\n",
       "      <td>17789.0</td>\n",
       "    </tr>\n",
       "    <tr>\n",
       "      <th>11</th>\n",
       "      <td>17964.0</td>\n",
       "    </tr>\n",
       "    <tr>\n",
       "      <th>12</th>\n",
       "      <td>13056.0</td>\n",
       "    </tr>\n",
       "  </tbody>\n",
       "</table>\n",
       "<p>3201 rows × 1 columns</p>\n",
       "</div>"
      ],
      "text/plain": [
       "                       mb_total\n",
       "user_id session_month          \n",
       "1000    5                2254.0\n",
       "        6               23234.0\n",
       "        7               14004.0\n",
       "        8               14056.0\n",
       "        9               14569.0\n",
       "...                         ...\n",
       "1498    10              20580.0\n",
       "1499    9                1846.0\n",
       "        10              17789.0\n",
       "        11              17964.0\n",
       "        12              13056.0\n",
       "\n",
       "[3201 rows x 1 columns]"
      ]
     },
     "execution_count": 42,
     "metadata": {},
     "output_type": "execute_result"
    }
   ],
   "source": [
    "internet_data_pivot.columns = ['mb_total']\n",
    "internet_data_pivot['mb_total']=np.ceil(internet_data_pivot['mb_total'])\n",
    "internet_data_pivot"
   ]
  },
  {
   "cell_type": "markdown",
   "metadata": {},
   "source": [
    "Посчитаем помесячную выручку с каждого пользователя (вычесть бесплатный лимит из суммарного количества звонков, сообщений и интернет-трафика;остаток умножить на значение из тарифного плана; прибавьте абонентскую плату, соответствующую тарифному плану).\n",
    "Для того, чтобы это всё сделать нам необходимо все таблицы сделанные нами ранее объединить в одну большую."
   ]
  },
  {
   "cell_type": "code",
   "execution_count": 43,
   "metadata": {},
   "outputs": [
    {
     "data": {
      "text/html": [
       "<div>\n",
       "<style scoped>\n",
       "    .dataframe tbody tr th:only-of-type {\n",
       "        vertical-align: middle;\n",
       "    }\n",
       "\n",
       "    .dataframe tbody tr th {\n",
       "        vertical-align: top;\n",
       "    }\n",
       "\n",
       "    .dataframe thead th {\n",
       "        text-align: right;\n",
       "    }\n",
       "</style>\n",
       "<table border=\"1\" class=\"dataframe\">\n",
       "  <thead>\n",
       "    <tr style=\"text-align: right;\">\n",
       "      <th></th>\n",
       "      <th></th>\n",
       "      <th>call_count</th>\n",
       "      <th>minutes_total</th>\n",
       "      <th>message_count</th>\n",
       "      <th>mb_total</th>\n",
       "    </tr>\n",
       "    <tr>\n",
       "      <th>user_id</th>\n",
       "      <th></th>\n",
       "      <th></th>\n",
       "      <th></th>\n",
       "      <th></th>\n",
       "      <th></th>\n",
       "    </tr>\n",
       "  </thead>\n",
       "  <tbody>\n",
       "    <tr>\n",
       "      <th rowspan=\"8\" valign=\"top\">1000</th>\n",
       "      <th>5</th>\n",
       "      <td>17.0</td>\n",
       "      <td>151.0</td>\n",
       "      <td>22.0</td>\n",
       "      <td>2254.0</td>\n",
       "    </tr>\n",
       "    <tr>\n",
       "      <th>6</th>\n",
       "      <td>28.0</td>\n",
       "      <td>159.0</td>\n",
       "      <td>60.0</td>\n",
       "      <td>23234.0</td>\n",
       "    </tr>\n",
       "    <tr>\n",
       "      <th>7</th>\n",
       "      <td>41.0</td>\n",
       "      <td>319.0</td>\n",
       "      <td>75.0</td>\n",
       "      <td>14004.0</td>\n",
       "    </tr>\n",
       "    <tr>\n",
       "      <th>8</th>\n",
       "      <td>42.0</td>\n",
       "      <td>390.0</td>\n",
       "      <td>81.0</td>\n",
       "      <td>14056.0</td>\n",
       "    </tr>\n",
       "    <tr>\n",
       "      <th>9</th>\n",
       "      <td>46.0</td>\n",
       "      <td>441.0</td>\n",
       "      <td>57.0</td>\n",
       "      <td>14569.0</td>\n",
       "    </tr>\n",
       "    <tr>\n",
       "      <th>10</th>\n",
       "      <td>44.0</td>\n",
       "      <td>329.0</td>\n",
       "      <td>73.0</td>\n",
       "      <td>14703.0</td>\n",
       "    </tr>\n",
       "    <tr>\n",
       "      <th>11</th>\n",
       "      <td>37.0</td>\n",
       "      <td>320.0</td>\n",
       "      <td>58.0</td>\n",
       "      <td>14757.0</td>\n",
       "    </tr>\n",
       "    <tr>\n",
       "      <th>12</th>\n",
       "      <td>38.0</td>\n",
       "      <td>313.0</td>\n",
       "      <td>70.0</td>\n",
       "      <td>9818.0</td>\n",
       "    </tr>\n",
       "    <tr>\n",
       "      <th rowspan=\"2\" valign=\"top\">1001</th>\n",
       "      <th>11</th>\n",
       "      <td>45.0</td>\n",
       "      <td>409.0</td>\n",
       "      <td>NaN</td>\n",
       "      <td>18430.0</td>\n",
       "    </tr>\n",
       "    <tr>\n",
       "      <th>12</th>\n",
       "      <td>47.0</td>\n",
       "      <td>392.0</td>\n",
       "      <td>NaN</td>\n",
       "      <td>14037.0</td>\n",
       "    </tr>\n",
       "    <tr>\n",
       "      <th rowspan=\"2\" valign=\"top\">1002</th>\n",
       "      <th>6</th>\n",
       "      <td>14.0</td>\n",
       "      <td>111.0</td>\n",
       "      <td>4.0</td>\n",
       "      <td>10857.0</td>\n",
       "    </tr>\n",
       "    <tr>\n",
       "      <th>7</th>\n",
       "      <td>21.0</td>\n",
       "      <td>205.0</td>\n",
       "      <td>11.0</td>\n",
       "      <td>17581.0</td>\n",
       "    </tr>\n",
       "  </tbody>\n",
       "</table>\n",
       "</div>"
      ],
      "text/plain": [
       "            call_count  minutes_total  message_count  mb_total\n",
       "user_id                                                       \n",
       "1000    5         17.0          151.0           22.0    2254.0\n",
       "        6         28.0          159.0           60.0   23234.0\n",
       "        7         41.0          319.0           75.0   14004.0\n",
       "        8         42.0          390.0           81.0   14056.0\n",
       "        9         46.0          441.0           57.0   14569.0\n",
       "        10        44.0          329.0           73.0   14703.0\n",
       "        11        37.0          320.0           58.0   14757.0\n",
       "        12        38.0          313.0           70.0    9818.0\n",
       "1001    11        45.0          409.0            NaN   18430.0\n",
       "        12        47.0          392.0            NaN   14037.0\n",
       "1002    6         14.0          111.0            4.0   10857.0\n",
       "        7         21.0          205.0           11.0   17581.0"
      ]
     },
     "execution_count": 43,
     "metadata": {},
     "output_type": "execute_result"
    }
   ],
   "source": [
    "join_all_pivot = calls_data_pivot.join ([messages_data_pivot, internet_data_pivot], how='outer')\n",
    "join_all_pivot.head(12)"
   ]
  },
  {
   "cell_type": "code",
   "execution_count": 44,
   "metadata": {},
   "outputs": [],
   "source": [
    "#есть пустые значения заменим их на ноль\n",
    "join_all_pivot['call_count'] = join_all_pivot['call_count'].fillna(0)\n",
    "join_all_pivot['minutes_total'] = join_all_pivot['minutes_total'].fillna(0)\n",
    "join_all_pivot['message_count'] = join_all_pivot['message_count'].fillna(0)\n",
    "join_all_pivot['mb_total'] = np.ceil (join_all_pivot['mb_total']).fillna(0)"
   ]
  },
  {
   "cell_type": "code",
   "execution_count": 45,
   "metadata": {},
   "outputs": [
    {
     "data": {
      "text/html": [
       "<div>\n",
       "<style scoped>\n",
       "    .dataframe tbody tr th:only-of-type {\n",
       "        vertical-align: middle;\n",
       "    }\n",
       "\n",
       "    .dataframe tbody tr th {\n",
       "        vertical-align: top;\n",
       "    }\n",
       "\n",
       "    .dataframe thead th {\n",
       "        text-align: right;\n",
       "    }\n",
       "</style>\n",
       "<table border=\"1\" class=\"dataframe\">\n",
       "  <thead>\n",
       "    <tr style=\"text-align: right;\">\n",
       "      <th></th>\n",
       "      <th></th>\n",
       "      <th>call_count</th>\n",
       "      <th>minutes_total</th>\n",
       "      <th>message_count</th>\n",
       "      <th>mb_total</th>\n",
       "      <th>tariff</th>\n",
       "    </tr>\n",
       "    <tr>\n",
       "      <th>user_id</th>\n",
       "      <th></th>\n",
       "      <th></th>\n",
       "      <th></th>\n",
       "      <th></th>\n",
       "      <th></th>\n",
       "      <th></th>\n",
       "    </tr>\n",
       "  </thead>\n",
       "  <tbody>\n",
       "    <tr>\n",
       "      <th rowspan=\"5\" valign=\"top\">1000</th>\n",
       "      <th>5</th>\n",
       "      <td>17.0</td>\n",
       "      <td>151.0</td>\n",
       "      <td>22.0</td>\n",
       "      <td>2254.0</td>\n",
       "      <td>ultra</td>\n",
       "    </tr>\n",
       "    <tr>\n",
       "      <th>6</th>\n",
       "      <td>28.0</td>\n",
       "      <td>159.0</td>\n",
       "      <td>60.0</td>\n",
       "      <td>23234.0</td>\n",
       "      <td>ultra</td>\n",
       "    </tr>\n",
       "    <tr>\n",
       "      <th>7</th>\n",
       "      <td>41.0</td>\n",
       "      <td>319.0</td>\n",
       "      <td>75.0</td>\n",
       "      <td>14004.0</td>\n",
       "      <td>ultra</td>\n",
       "    </tr>\n",
       "    <tr>\n",
       "      <th>8</th>\n",
       "      <td>42.0</td>\n",
       "      <td>390.0</td>\n",
       "      <td>81.0</td>\n",
       "      <td>14056.0</td>\n",
       "      <td>ultra</td>\n",
       "    </tr>\n",
       "    <tr>\n",
       "      <th>9</th>\n",
       "      <td>46.0</td>\n",
       "      <td>441.0</td>\n",
       "      <td>57.0</td>\n",
       "      <td>14569.0</td>\n",
       "      <td>ultra</td>\n",
       "    </tr>\n",
       "  </tbody>\n",
       "</table>\n",
       "</div>"
      ],
      "text/plain": [
       "           call_count  minutes_total  message_count  mb_total tariff\n",
       "user_id                                                             \n",
       "1000    5        17.0          151.0           22.0    2254.0  ultra\n",
       "        6        28.0          159.0           60.0   23234.0  ultra\n",
       "        7        41.0          319.0           75.0   14004.0  ultra\n",
       "        8        42.0          390.0           81.0   14056.0  ultra\n",
       "        9        46.0          441.0           57.0   14569.0  ultra"
      ]
     },
     "execution_count": 45,
     "metadata": {},
     "output_type": "execute_result"
    }
   ],
   "source": [
    "users_tariff =  users_data[['user_id', 'tariff']].set_index('user_id')\n",
    "join_all_pivot = join_all_pivot.join(users_tariff, how='outer')\n",
    "join_all_pivot.head()"
   ]
  },
  {
   "cell_type": "code",
   "execution_count": 46,
   "metadata": {},
   "outputs": [
    {
     "data": {
      "text/plain": [
       "array([[<AxesSubplot:title={'center':'call_count'}>,\n",
       "        <AxesSubplot:title={'center':'minutes_total'}>],\n",
       "       [<AxesSubplot:title={'center':'message_count'}>,\n",
       "        <AxesSubplot:title={'center':'mb_total'}>]], dtype=object)"
      ]
     },
     "execution_count": 46,
     "metadata": {},
     "output_type": "execute_result"
    },
    {
     "data": {
      "image/png": "[encoded data removed]",
      "text/plain": [
       "<Figure size 432x288 with 4 Axes>"
      ]
     },
     "metadata": {
      "needs_background": "light"
     },
     "output_type": "display_data"
    }
   ],
   "source": [
    "join_all_pivot.hist()"
   ]
  },
  {
   "cell_type": "markdown",
   "metadata": {},
   "source": [
    "<div class=\"alert alert-info\"> Практически по всем показателям мы видим приятное глазу нормальное распределение. Единственное на кого это правило не распространяется - это сообщения.\n",
    " До этого мы смотрели на ситуацию в целом, сейчас мы будем смотреть в зависимости от типа тарифа.\n",
    "</div>"
   ]
  },
  {
   "cell_type": "code",
   "execution_count": 47,
   "metadata": {},
   "outputs": [],
   "source": [
    "pivot_ultra = join_all_pivot.query('tariff == \"ultra\"')\n",
    "pivot_smart = join_all_pivot.query('tariff == \"smart\"')"
   ]
  },
  {
   "cell_type": "code",
   "execution_count": 48,
   "metadata": {},
   "outputs": [
    {
     "name": "stdout",
     "output_type": "stream",
     "text": [
      "Среднее количество звонков для ультра 59.236548223350255\n",
      "Дисперсия по количеству звонков для ультра 1263.4232327552888\n",
      "Стандартное отклонение по количеству звонков для ультра 35.56272204788665\n",
      "\n",
      "Среднее количество звонков для смарт 46.94751009421265\n",
      "Дисперсия по количеству звонков для смарт 442.44811964155355\n",
      "Стандартное отклонение по количеству звонков для смарт 21.039170729226214\n"
     ]
    }
   ],
   "source": [
    "print('Среднее количество звонков для ультра',pivot_ultra['call_count'].mean())\n",
    "print('Дисперсия по количеству звонков для ультра',np.var(pivot_ultra['call_count']))\n",
    "print('Стандартное отклонение по количеству звонков для ультра',np.std(pivot_ultra['call_count'],ddof=1))\n",
    "print()\n",
    "print('Среднее количество звонков для смарт',pivot_smart['call_count'].mean())\n",
    "print('Дисперсия по количеству звонков для смарт',np.var(pivot_smart['call_count']))\n",
    "print('Стандартное отклонение по количеству звонков для смарт',np.std(pivot_smart['call_count'],ddof=1))"
   ]
  },
  {
   "cell_type": "code",
   "execution_count": 49,
   "metadata": {},
   "outputs": [
    {
     "name": "stdout",
     "output_type": "stream",
     "text": [
      "Средняя продолжительность звонков для ультра 497.5472081218274\n",
      "Дисперсия по продолжительности звонков для ультра 89866.39193382979\n",
      "Стандартное отклонение по продолжительности звонков для ультра 299.9295243351492\n",
      "\n",
      "Средняя продолжительность звонков для смарт 394.92238672050246\n",
      "Дисперсия по продолжительности звонков для смарт 32378.373069942867\n",
      "Стандартное отклонение по продолжительности звонков для смарт 179.9802921249086\n"
     ]
    }
   ],
   "source": [
    "print('Средняя продолжительность звонков для ультра',pivot_ultra['minutes_total'].mean())\n",
    "print('Дисперсия по продолжительности звонков для ультра',np.var(pivot_ultra['minutes_total']))\n",
    "print('Стандартное отклонение по продолжительности звонков для ультра',np.std(pivot_ultra['minutes_total'],ddof=1))\n",
    "print()\n",
    "print('Средняя продолжительность звонков для смарт',pivot_smart['minutes_total'].mean())\n",
    "print('Дисперсия по продолжительности звонков для смарт',np.var(pivot_smart['minutes_total']))\n",
    "print('Стандартное отклонение по продолжительности звонков для смарт',np.std(pivot_smart['minutes_total'],ddof=1))"
   ]
  },
  {
   "cell_type": "code",
   "execution_count": 50,
   "metadata": {},
   "outputs": [
    {
     "name": "stdout",
     "output_type": "stream",
     "text": [
      "Среднее количество смс для ультра 49.36345177664975\n",
      "Дисперсия по количеству смс для ультра 2282.9460753948824\n",
      "Стандартное отклонение по количеству смс для ультра 47.80445735017472\n",
      "\n",
      "Среднее количество смс для смарт 33.384028712427096\n",
      "Дисперсия по количеству смс для смарт 796.455482917076\n",
      "Стандартное отклонение по количеству смс для смарт 28.22787555676141\n"
     ]
    }
   ],
   "source": [
    "print('Среднее количество смс для ультра',pivot_ultra['message_count'].mean())\n",
    "print('Дисперсия по количеству смс для ультра',np.var(pivot_ultra['message_count']))\n",
    "print('Стандартное отклонение по количеству смс для ультра',np.std(pivot_ultra['message_count'],ddof=1))\n",
    "print()\n",
    "print('Среднее количество смс для смарт',pivot_smart['message_count'].mean())\n",
    "print('Дисперсия по количеству смс для смарт',np.var(pivot_smart['message_count']))\n",
    "print('Стандартное отклонение по количеству смс для смарт',np.std(pivot_smart['message_count'],ddof=1))"
   ]
  },
  {
   "cell_type": "code",
   "execution_count": 51,
   "metadata": {},
   "outputs": [
    {
     "name": "stdout",
     "output_type": "stream",
     "text": [
      "Среднее количество потребляемых мбайт для ультра 19469.308629441624\n",
      "Дисперсия по количеству потребляемых мбайт для ультра 101648256.8915499\n",
      "Стандартное отклонение по количеству потребляемых мбайт для ультра 10087.197726109402\n",
      "\n",
      "Среднее количество потребляемых мбайт смарт 16208.873485868102\n",
      "Дисперсия по количеству потребляемых мбайт для смарт 34447101.80902782\n",
      "Стандартное отклонение по количеству потребляемых мбайт для смарт 5870.482331652921\n"
     ]
    }
   ],
   "source": [
    "print('Среднее количество потребляемых мбайт для ультра',pivot_ultra['mb_total'].mean())\n",
    "print('Дисперсия по количеству потребляемых мбайт для ультра',np.var(pivot_ultra['mb_total']))\n",
    "print('Стандартное отклонение по количеству потребляемых мбайт для ультра',np.std(pivot_ultra['mb_total'],ddof=1))\n",
    "print()\n",
    "print('Среднее количество потребляемых мбайт смарт',pivot_smart['mb_total'].mean())\n",
    "print('Дисперсия по количеству потребляемых мбайт для смарт',np.var(pivot_smart['mb_total']))\n",
    "print('Стандартное отклонение по количеству потребляемых мбайт для смарт',np.std(pivot_smart['mb_total'],ddof=1))"
   ]
  },
  {
   "cell_type": "code",
   "execution_count": 52,
   "metadata": {},
   "outputs": [
    {
     "data": {
      "text/plain": [
       "<AxesSubplot:xlabel='tariff', ylabel='call_count'>"
      ]
     },
     "execution_count": 52,
     "metadata": {},
     "output_type": "execute_result"
    },
    {
     "data": {
      "image/png": "[encoded data removed]",
      "text/plain": [
       "<Figure size 432x288 with 1 Axes>"
      ]
     },
     "metadata": {
      "needs_background": "light"
     },
     "output_type": "display_data"
    }
   ],
   "source": [
    "sns.boxplot( x=join_all_pivot[\"tariff\"], y=join_all_pivot[\"call_count\"])"
   ]
  },
  {
   "cell_type": "code",
   "execution_count": 53,
   "metadata": {},
   "outputs": [
    {
     "data": {
      "text/plain": [
       "<AxesSubplot:xlabel='tariff', ylabel='minutes_total'>"
      ]
     },
     "execution_count": 53,
     "metadata": {},
     "output_type": "execute_result"
    },
    {
     "data": {
      "image/png": "[encoded data removed]",
      "text/plain": [
       "<Figure size 432x288 with 1 Axes>"
      ]
     },
     "metadata": {
      "needs_background": "light"
     },
     "output_type": "display_data"
    }
   ],
   "source": [
    "sns.boxplot( x=join_all_pivot[\"tariff\"], y=join_all_pivot[\"minutes_total\"])"
   ]
  },
  {
   "cell_type": "code",
   "execution_count": 54,
   "metadata": {},
   "outputs": [
    {
     "data": {
      "text/plain": [
       "<AxesSubplot:xlabel='tariff', ylabel='message_count'>"
      ]
     },
     "execution_count": 54,
     "metadata": {},
     "output_type": "execute_result"
    },
    {
     "data": {
      "image/png": "[encoded data removed]",
      "text/plain": [
       "<Figure size 432x288 with 1 Axes>"
      ]
     },
     "metadata": {
      "needs_background": "light"
     },
     "output_type": "display_data"
    }
   ],
   "source": [
    "sns.boxplot( x=join_all_pivot[\"tariff\"], y=join_all_pivot[\"message_count\"])"
   ]
  },
  {
   "cell_type": "code",
   "execution_count": 55,
   "metadata": {},
   "outputs": [
    {
     "data": {
      "text/plain": [
       "<AxesSubplot:xlabel='tariff', ylabel='mb_total'>"
      ]
     },
     "execution_count": 55,
     "metadata": {},
     "output_type": "execute_result"
    },
    {
     "data": {
      "image/png": "[encoded data removed]",
      "text/plain": [
       "<Figure size 432x288 with 1 Axes>"
      ]
     },
     "metadata": {
      "needs_background": "light"
     },
     "output_type": "display_data"
    }
   ],
   "source": [
    "sns.boxplot( x=join_all_pivot[\"tariff\"], y=join_all_pivot[\"mb_total\"])"
   ]
  },
  {
   "cell_type": "markdown",
   "metadata": {},
   "source": [
    "<div class=\"alert alert-info\"> Убираю убирание выбросов.</div>"
   ]
  },
  {
   "cell_type": "markdown",
   "metadata": {},
   "source": [
    "Считаем выручку."
   ]
  },
  {
   "cell_type": "code",
   "execution_count": 62,
   "metadata": {},
   "outputs": [],
   "source": [
    "join_all_pivot['income']=0.0"
   ]
  },
  {
   "cell_type": "markdown",
   "metadata": {},
   "source": [
    "Напишем функции, чтобы посчитать сумму прибыли по каждой категории (звонки, сообщения, интернет)"
   ]
  },
  {
   "cell_type": "code",
   "execution_count": 63,
   "metadata": {},
   "outputs": [],
   "source": [
    "def calculate_call_income(row):\n",
    "    tariff = row['tariff']\n",
    "    income = row['income']\n",
    "    minutes = row['minutes_total']\n",
    "    if tariff == 'ultra':\n",
    "        if minutes < 3000.0:\n",
    "            income = income\n",
    "        elif minutes >= 3000.0:\n",
    "            income = income + (minutes - 3000.0)\n",
    "    elif tariff == 'smart':       \n",
    "        if minutes < 500.0:\n",
    "            income = income\n",
    "        elif minutes >= 500.0:\n",
    "            income = income + (minutes - 500.0) * 3\n",
    "    return income"
   ]
  },
  {
   "cell_type": "code",
   "execution_count": 64,
   "metadata": {},
   "outputs": [],
   "source": [
    "def calculate_sms_income(row):\n",
    "    tariff = row['tariff']\n",
    "    income = row['income']\n",
    "    messags = row['message_count']\n",
    "    if tariff == 'ultra':\n",
    "        if messags < 1000.0:\n",
    "            income = income\n",
    "        elif messags >= 1000.0:\n",
    "            income = income + (messags - 1000.0)\n",
    "    elif tariff == 'smart':       \n",
    "        if messags < 50.0:\n",
    "            income = income\n",
    "        elif messags >= 50.0:\n",
    "            income = income + (messags - 50.0) * 3\n",
    "    return income"
   ]
  },
  {
   "cell_type": "code",
   "execution_count": 86,
   "metadata": {},
   "outputs": [],
   "source": [
    "def calculate_session_income(row):\n",
    "    tariff = row['tariff']\n",
    "    income = row['income']\n",
    "    mb_all = np.ceil(row['mb_total']/1024) # вот здесь надо округлить вверх\n",
    "    if tariff == 'ultra':\n",
    "        if mb_all < 30.0:\n",
    "            income = income\n",
    "        elif mb_all >= 30.0:\n",
    "            income = income + (mb_all - 30.0) * 150\n",
    "    elif tariff == 'smart':       \n",
    "        if mb_all < 15:\n",
    "            income = income\n",
    "        elif mb_all >= 15:\n",
    "             income = income + (mb_all - 15.0) * 200\n",
    "    return income"
   ]
  },
  {
   "cell_type": "code",
   "execution_count": 66,
   "metadata": {},
   "outputs": [
    {
     "data": {
      "text/html": [
       "<div>\n",
       "<style scoped>\n",
       "    .dataframe tbody tr th:only-of-type {\n",
       "        vertical-align: middle;\n",
       "    }\n",
       "\n",
       "    .dataframe tbody tr th {\n",
       "        vertical-align: top;\n",
       "    }\n",
       "\n",
       "    .dataframe thead th {\n",
       "        text-align: right;\n",
       "    }\n",
       "</style>\n",
       "<table border=\"1\" class=\"dataframe\">\n",
       "  <thead>\n",
       "    <tr style=\"text-align: right;\">\n",
       "      <th></th>\n",
       "      <th></th>\n",
       "      <th>call_count</th>\n",
       "      <th>minutes_total</th>\n",
       "      <th>message_count</th>\n",
       "      <th>mb_total</th>\n",
       "      <th>tariff</th>\n",
       "      <th>income</th>\n",
       "    </tr>\n",
       "    <tr>\n",
       "      <th>user_id</th>\n",
       "      <th></th>\n",
       "      <th></th>\n",
       "      <th></th>\n",
       "      <th></th>\n",
       "      <th></th>\n",
       "      <th></th>\n",
       "      <th></th>\n",
       "    </tr>\n",
       "  </thead>\n",
       "  <tbody>\n",
       "    <tr>\n",
       "      <th rowspan=\"5\" valign=\"top\">1000</th>\n",
       "      <th>5</th>\n",
       "      <td>17.0</td>\n",
       "      <td>151.0</td>\n",
       "      <td>22.0</td>\n",
       "      <td>2254.0</td>\n",
       "      <td>ultra</td>\n",
       "      <td>0.0</td>\n",
       "    </tr>\n",
       "    <tr>\n",
       "      <th>6</th>\n",
       "      <td>28.0</td>\n",
       "      <td>159.0</td>\n",
       "      <td>60.0</td>\n",
       "      <td>23234.0</td>\n",
       "      <td>ultra</td>\n",
       "      <td>0.0</td>\n",
       "    </tr>\n",
       "    <tr>\n",
       "      <th>7</th>\n",
       "      <td>41.0</td>\n",
       "      <td>319.0</td>\n",
       "      <td>75.0</td>\n",
       "      <td>14004.0</td>\n",
       "      <td>ultra</td>\n",
       "      <td>0.0</td>\n",
       "    </tr>\n",
       "    <tr>\n",
       "      <th>8</th>\n",
       "      <td>42.0</td>\n",
       "      <td>390.0</td>\n",
       "      <td>81.0</td>\n",
       "      <td>14056.0</td>\n",
       "      <td>ultra</td>\n",
       "      <td>0.0</td>\n",
       "    </tr>\n",
       "    <tr>\n",
       "      <th>9</th>\n",
       "      <td>46.0</td>\n",
       "      <td>441.0</td>\n",
       "      <td>57.0</td>\n",
       "      <td>14569.0</td>\n",
       "      <td>ultra</td>\n",
       "      <td>0.0</td>\n",
       "    </tr>\n",
       "    <tr>\n",
       "      <th>...</th>\n",
       "      <th>...</th>\n",
       "      <td>...</td>\n",
       "      <td>...</td>\n",
       "      <td>...</td>\n",
       "      <td>...</td>\n",
       "      <td>...</td>\n",
       "      <td>...</td>\n",
       "    </tr>\n",
       "    <tr>\n",
       "      <th>1498</th>\n",
       "      <th>10</th>\n",
       "      <td>30.0</td>\n",
       "      <td>233.0</td>\n",
       "      <td>42.0</td>\n",
       "      <td>20580.0</td>\n",
       "      <td>smart</td>\n",
       "      <td>1200.0</td>\n",
       "    </tr>\n",
       "    <tr>\n",
       "      <th rowspan=\"4\" valign=\"top\">1499</th>\n",
       "      <th>9</th>\n",
       "      <td>8.0</td>\n",
       "      <td>65.0</td>\n",
       "      <td>11.0</td>\n",
       "      <td>1846.0</td>\n",
       "      <td>smart</td>\n",
       "      <td>0.0</td>\n",
       "    </tr>\n",
       "    <tr>\n",
       "      <th>10</th>\n",
       "      <td>44.0</td>\n",
       "      <td>430.0</td>\n",
       "      <td>48.0</td>\n",
       "      <td>17789.0</td>\n",
       "      <td>smart</td>\n",
       "      <td>600.0</td>\n",
       "    </tr>\n",
       "    <tr>\n",
       "      <th>11</th>\n",
       "      <td>62.0</td>\n",
       "      <td>577.0</td>\n",
       "      <td>59.0</td>\n",
       "      <td>17964.0</td>\n",
       "      <td>smart</td>\n",
       "      <td>858.0</td>\n",
       "    </tr>\n",
       "    <tr>\n",
       "      <th>12</th>\n",
       "      <td>56.0</td>\n",
       "      <td>466.0</td>\n",
       "      <td>66.0</td>\n",
       "      <td>13056.0</td>\n",
       "      <td>smart</td>\n",
       "      <td>48.0</td>\n",
       "    </tr>\n",
       "  </tbody>\n",
       "</table>\n",
       "<p>3214 rows × 6 columns</p>\n",
       "</div>"
      ],
      "text/plain": [
       "            call_count  minutes_total  message_count  mb_total tariff  income\n",
       "user_id                                                                      \n",
       "1000    5         17.0          151.0           22.0    2254.0  ultra     0.0\n",
       "        6         28.0          159.0           60.0   23234.0  ultra     0.0\n",
       "        7         41.0          319.0           75.0   14004.0  ultra     0.0\n",
       "        8         42.0          390.0           81.0   14056.0  ultra     0.0\n",
       "        9         46.0          441.0           57.0   14569.0  ultra     0.0\n",
       "...                ...            ...            ...       ...    ...     ...\n",
       "1498    10        30.0          233.0           42.0   20580.0  smart  1200.0\n",
       "1499    9          8.0           65.0           11.0    1846.0  smart     0.0\n",
       "        10        44.0          430.0           48.0   17789.0  smart   600.0\n",
       "        11        62.0          577.0           59.0   17964.0  smart   858.0\n",
       "        12        56.0          466.0           66.0   13056.0  smart    48.0\n",
       "\n",
       "[3214 rows x 6 columns]"
      ]
     },
     "execution_count": 66,
     "metadata": {},
     "output_type": "execute_result"
    }
   ],
   "source": [
    "join_all_pivot['income'] = join_all_pivot.apply(calculate_call_income, axis=1)\n",
    "join_all_pivot['income'] = join_all_pivot.apply(calculate_sms_income, axis=1)\n",
    "join_all_pivot['income'] = join_all_pivot.apply(calculate_session_income, axis=1)\n",
    "join_all_pivot"
   ]
  },
  {
   "cell_type": "code",
   "execution_count": 67,
   "metadata": {},
   "outputs": [],
   "source": [
    "#Добавим абонентскую плату\n",
    "join_all_pivot.loc[(join_all_pivot['tariff'] == 'ultra'),'income']= join_all_pivot[\"income\"] + 1950.0\n",
    "join_all_pivot.loc[ (join_all_pivot['tariff'] == 'smart'),'income']=join_all_pivot[\"income\"] + 550.0       "
   ]
  },
  {
   "cell_type": "code",
   "execution_count": 68,
   "metadata": {},
   "outputs": [
    {
     "data": {
      "text/html": [
       "<div>\n",
       "<style scoped>\n",
       "    .dataframe tbody tr th:only-of-type {\n",
       "        vertical-align: middle;\n",
       "    }\n",
       "\n",
       "    .dataframe tbody tr th {\n",
       "        vertical-align: top;\n",
       "    }\n",
       "\n",
       "    .dataframe thead th {\n",
       "        text-align: right;\n",
       "    }\n",
       "</style>\n",
       "<table border=\"1\" class=\"dataframe\">\n",
       "  <thead>\n",
       "    <tr style=\"text-align: right;\">\n",
       "      <th></th>\n",
       "      <th></th>\n",
       "      <th>call_count</th>\n",
       "      <th>minutes_total</th>\n",
       "      <th>message_count</th>\n",
       "      <th>mb_total</th>\n",
       "      <th>tariff</th>\n",
       "      <th>income</th>\n",
       "    </tr>\n",
       "    <tr>\n",
       "      <th>user_id</th>\n",
       "      <th></th>\n",
       "      <th></th>\n",
       "      <th></th>\n",
       "      <th></th>\n",
       "      <th></th>\n",
       "      <th></th>\n",
       "      <th></th>\n",
       "    </tr>\n",
       "  </thead>\n",
       "  <tbody>\n",
       "    <tr>\n",
       "      <th rowspan=\"5\" valign=\"top\">1000</th>\n",
       "      <th>5</th>\n",
       "      <td>17.0</td>\n",
       "      <td>151.0</td>\n",
       "      <td>22.0</td>\n",
       "      <td>2254.0</td>\n",
       "      <td>ultra</td>\n",
       "      <td>1950.0</td>\n",
       "    </tr>\n",
       "    <tr>\n",
       "      <th>6</th>\n",
       "      <td>28.0</td>\n",
       "      <td>159.0</td>\n",
       "      <td>60.0</td>\n",
       "      <td>23234.0</td>\n",
       "      <td>ultra</td>\n",
       "      <td>1950.0</td>\n",
       "    </tr>\n",
       "    <tr>\n",
       "      <th>7</th>\n",
       "      <td>41.0</td>\n",
       "      <td>319.0</td>\n",
       "      <td>75.0</td>\n",
       "      <td>14004.0</td>\n",
       "      <td>ultra</td>\n",
       "      <td>1950.0</td>\n",
       "    </tr>\n",
       "    <tr>\n",
       "      <th>8</th>\n",
       "      <td>42.0</td>\n",
       "      <td>390.0</td>\n",
       "      <td>81.0</td>\n",
       "      <td>14056.0</td>\n",
       "      <td>ultra</td>\n",
       "      <td>1950.0</td>\n",
       "    </tr>\n",
       "    <tr>\n",
       "      <th>9</th>\n",
       "      <td>46.0</td>\n",
       "      <td>441.0</td>\n",
       "      <td>57.0</td>\n",
       "      <td>14569.0</td>\n",
       "      <td>ultra</td>\n",
       "      <td>1950.0</td>\n",
       "    </tr>\n",
       "    <tr>\n",
       "      <th>...</th>\n",
       "      <th>...</th>\n",
       "      <td>...</td>\n",
       "      <td>...</td>\n",
       "      <td>...</td>\n",
       "      <td>...</td>\n",
       "      <td>...</td>\n",
       "      <td>...</td>\n",
       "    </tr>\n",
       "    <tr>\n",
       "      <th>1498</th>\n",
       "      <th>10</th>\n",
       "      <td>30.0</td>\n",
       "      <td>233.0</td>\n",
       "      <td>42.0</td>\n",
       "      <td>20580.0</td>\n",
       "      <td>smart</td>\n",
       "      <td>1750.0</td>\n",
       "    </tr>\n",
       "    <tr>\n",
       "      <th rowspan=\"4\" valign=\"top\">1499</th>\n",
       "      <th>9</th>\n",
       "      <td>8.0</td>\n",
       "      <td>65.0</td>\n",
       "      <td>11.0</td>\n",
       "      <td>1846.0</td>\n",
       "      <td>smart</td>\n",
       "      <td>550.0</td>\n",
       "    </tr>\n",
       "    <tr>\n",
       "      <th>10</th>\n",
       "      <td>44.0</td>\n",
       "      <td>430.0</td>\n",
       "      <td>48.0</td>\n",
       "      <td>17789.0</td>\n",
       "      <td>smart</td>\n",
       "      <td>1150.0</td>\n",
       "    </tr>\n",
       "    <tr>\n",
       "      <th>11</th>\n",
       "      <td>62.0</td>\n",
       "      <td>577.0</td>\n",
       "      <td>59.0</td>\n",
       "      <td>17964.0</td>\n",
       "      <td>smart</td>\n",
       "      <td>1408.0</td>\n",
       "    </tr>\n",
       "    <tr>\n",
       "      <th>12</th>\n",
       "      <td>56.0</td>\n",
       "      <td>466.0</td>\n",
       "      <td>66.0</td>\n",
       "      <td>13056.0</td>\n",
       "      <td>smart</td>\n",
       "      <td>598.0</td>\n",
       "    </tr>\n",
       "  </tbody>\n",
       "</table>\n",
       "<p>3214 rows × 6 columns</p>\n",
       "</div>"
      ],
      "text/plain": [
       "            call_count  minutes_total  message_count  mb_total tariff  income\n",
       "user_id                                                                      \n",
       "1000    5         17.0          151.0           22.0    2254.0  ultra  1950.0\n",
       "        6         28.0          159.0           60.0   23234.0  ultra  1950.0\n",
       "        7         41.0          319.0           75.0   14004.0  ultra  1950.0\n",
       "        8         42.0          390.0           81.0   14056.0  ultra  1950.0\n",
       "        9         46.0          441.0           57.0   14569.0  ultra  1950.0\n",
       "...                ...            ...            ...       ...    ...     ...\n",
       "1498    10        30.0          233.0           42.0   20580.0  smart  1750.0\n",
       "1499    9          8.0           65.0           11.0    1846.0  smart   550.0\n",
       "        10        44.0          430.0           48.0   17789.0  smart  1150.0\n",
       "        11        62.0          577.0           59.0   17964.0  smart  1408.0\n",
       "        12        56.0          466.0           66.0   13056.0  smart   598.0\n",
       "\n",
       "[3214 rows x 6 columns]"
      ]
     },
     "execution_count": 68,
     "metadata": {},
     "output_type": "execute_result"
    }
   ],
   "source": [
    "join_all_pivot"
   ]
  },
  {
   "cell_type": "markdown",
   "metadata": {},
   "source": [
    "Посчитаем общую сумму прибыли по пользователю"
   ]
  },
  {
   "cell_type": "code",
   "execution_count": 69,
   "metadata": {},
   "outputs": [
    {
     "data": {
      "text/plain": [
       "user_id\n",
       "1000    15600.0\n",
       "1001     1700.0\n",
       "1002     7250.0\n",
       "1003     9750.0\n",
       "1004    15600.0\n",
       "Name: income, dtype: float64"
      ]
     },
     "execution_count": 69,
     "metadata": {},
     "output_type": "execute_result"
    }
   ],
   "source": [
    "user_income = join_all_pivot.groupby('user_id')['income'].sum()\n",
    "user_income.head()"
   ]
  },
  {
   "cell_type": "markdown",
   "metadata": {},
   "source": [
    "### Вывод из шага\n",
    "Вы произвели подгтовитлеьную работу и расчитали, несколько показателей\n",
    " * количество сделанных звонков и израсходованных минут разговора по месяцам;\n",
    " * количество отправленных сообщений по месяцам;\n",
    " * объем израсходованного интернет-трафика по месяцам;\n",
    " * помесячную выручку с каждого пользователя.\n",
    " \n",
    "Для подсчёта каждого мы сначала сгруппировали необходимые таблица по пользователю и месяцу. В послдствии написав три функции расчитали прибиль для каждого сегмента работ, предлагаемый компанией. После Проссумировали всё прибыли, не забыв добавить к ним сумму за абонентскую плату.\n",
    "\n",
    "<div class=\"alert alert-info\">\n",
    "* Также мы убрали из датасета по объему потребялемого трафика те записи, где объем равен нулю, также поступили с датасетом по звонкам\n",
    "</div>"
   ]
  },
  {
   "cell_type": "markdown",
   "metadata": {},
   "source": [
    "## Исследования гипотез\n",
    "**Гипотезы необходимые для проверки**\n",
    "- средняя выручка пользователей тарифов «Ультра» и «Смарт» различаются; \n",
    " **Нулевая гипотеза - выручка обоих тарифов одинаковы.**\n",
    " **Альтерантивная гипотеза - выоручки обоих тарифов различны.**\n",
    "- средняя выручка пользователей из Москвы отличается от выручки пользователей из других регионов.\n",
    " **Нулевая гипотеза - выручка Москвы и Не москвы одинаковы.**\n",
    " **Альтерантивная гипотеза - выручка Москвы и Не москвы различны.**"
   ]
  },
  {
   "cell_type": "markdown",
   "metadata": {},
   "source": [
    "Соберем все необходимые данные в одну таблицу."
   ]
  },
  {
   "cell_type": "code",
   "execution_count": 70,
   "metadata": {},
   "outputs": [
    {
     "data": {
      "text/html": [
       "<div>\n",
       "<style scoped>\n",
       "    .dataframe tbody tr th:only-of-type {\n",
       "        vertical-align: middle;\n",
       "    }\n",
       "\n",
       "    .dataframe tbody tr th {\n",
       "        vertical-align: top;\n",
       "    }\n",
       "\n",
       "    .dataframe thead th {\n",
       "        text-align: right;\n",
       "    }\n",
       "</style>\n",
       "<table border=\"1\" class=\"dataframe\">\n",
       "  <thead>\n",
       "    <tr style=\"text-align: right;\">\n",
       "      <th></th>\n",
       "      <th>age</th>\n",
       "      <th>churn_date</th>\n",
       "      <th>city</th>\n",
       "      <th>first_name</th>\n",
       "      <th>last_name</th>\n",
       "      <th>reg_date</th>\n",
       "      <th>tariff</th>\n",
       "      <th>churn_month</th>\n",
       "      <th>reg_month</th>\n",
       "      <th>tariff_type</th>\n",
       "    </tr>\n",
       "    <tr>\n",
       "      <th>user_id</th>\n",
       "      <th></th>\n",
       "      <th></th>\n",
       "      <th></th>\n",
       "      <th></th>\n",
       "      <th></th>\n",
       "      <th></th>\n",
       "      <th></th>\n",
       "      <th></th>\n",
       "      <th></th>\n",
       "      <th></th>\n",
       "    </tr>\n",
       "  </thead>\n",
       "  <tbody>\n",
       "    <tr>\n",
       "      <th>1000</th>\n",
       "      <td>52</td>\n",
       "      <td>2018-12-31</td>\n",
       "      <td>Краснодар</td>\n",
       "      <td>Рафаил</td>\n",
       "      <td>Верещагин</td>\n",
       "      <td>2018-05-25</td>\n",
       "      <td>ultra</td>\n",
       "      <td>12</td>\n",
       "      <td>5</td>\n",
       "      <td>1</td>\n",
       "    </tr>\n",
       "    <tr>\n",
       "      <th>1001</th>\n",
       "      <td>41</td>\n",
       "      <td>2018-12-31</td>\n",
       "      <td>Москва</td>\n",
       "      <td>Иван</td>\n",
       "      <td>Ежов</td>\n",
       "      <td>2018-11-01</td>\n",
       "      <td>smart</td>\n",
       "      <td>12</td>\n",
       "      <td>11</td>\n",
       "      <td>0</td>\n",
       "    </tr>\n",
       "    <tr>\n",
       "      <th>1002</th>\n",
       "      <td>59</td>\n",
       "      <td>2018-12-31</td>\n",
       "      <td>Стерлитамак</td>\n",
       "      <td>Евгений</td>\n",
       "      <td>Абрамович</td>\n",
       "      <td>2018-06-17</td>\n",
       "      <td>smart</td>\n",
       "      <td>12</td>\n",
       "      <td>6</td>\n",
       "      <td>0</td>\n",
       "    </tr>\n",
       "    <tr>\n",
       "      <th>1003</th>\n",
       "      <td>23</td>\n",
       "      <td>2018-12-31</td>\n",
       "      <td>Москва</td>\n",
       "      <td>Белла</td>\n",
       "      <td>Белякова</td>\n",
       "      <td>2018-08-17</td>\n",
       "      <td>ultra</td>\n",
       "      <td>12</td>\n",
       "      <td>8</td>\n",
       "      <td>1</td>\n",
       "    </tr>\n",
       "    <tr>\n",
       "      <th>1004</th>\n",
       "      <td>68</td>\n",
       "      <td>2018-12-31</td>\n",
       "      <td>Новокузнецк</td>\n",
       "      <td>Татьяна</td>\n",
       "      <td>Авдеенко</td>\n",
       "      <td>2018-05-14</td>\n",
       "      <td>ultra</td>\n",
       "      <td>12</td>\n",
       "      <td>5</td>\n",
       "      <td>1</td>\n",
       "    </tr>\n",
       "    <tr>\n",
       "      <th>...</th>\n",
       "      <td>...</td>\n",
       "      <td>...</td>\n",
       "      <td>...</td>\n",
       "      <td>...</td>\n",
       "      <td>...</td>\n",
       "      <td>...</td>\n",
       "      <td>...</td>\n",
       "      <td>...</td>\n",
       "      <td>...</td>\n",
       "      <td>...</td>\n",
       "    </tr>\n",
       "    <tr>\n",
       "      <th>1495</th>\n",
       "      <td>65</td>\n",
       "      <td>2018-12-31</td>\n",
       "      <td>Иркутск</td>\n",
       "      <td>Авксентий</td>\n",
       "      <td>Фокин</td>\n",
       "      <td>2018-08-28</td>\n",
       "      <td>ultra</td>\n",
       "      <td>12</td>\n",
       "      <td>8</td>\n",
       "      <td>1</td>\n",
       "    </tr>\n",
       "    <tr>\n",
       "      <th>1496</th>\n",
       "      <td>36</td>\n",
       "      <td>2018-12-31</td>\n",
       "      <td>Вологда</td>\n",
       "      <td>Трифон</td>\n",
       "      <td>Блохин</td>\n",
       "      <td>2018-01-27</td>\n",
       "      <td>smart</td>\n",
       "      <td>12</td>\n",
       "      <td>1</td>\n",
       "      <td>0</td>\n",
       "    </tr>\n",
       "    <tr>\n",
       "      <th>1497</th>\n",
       "      <td>32</td>\n",
       "      <td>2018-12-31</td>\n",
       "      <td>Челябинск</td>\n",
       "      <td>Каролина</td>\n",
       "      <td>Агеева</td>\n",
       "      <td>2018-10-09</td>\n",
       "      <td>smart</td>\n",
       "      <td>12</td>\n",
       "      <td>10</td>\n",
       "      <td>0</td>\n",
       "    </tr>\n",
       "    <tr>\n",
       "      <th>1498</th>\n",
       "      <td>68</td>\n",
       "      <td>2018-10-25</td>\n",
       "      <td>Владикавказ</td>\n",
       "      <td>Всеволод</td>\n",
       "      <td>Акимчин</td>\n",
       "      <td>2018-07-19</td>\n",
       "      <td>smart</td>\n",
       "      <td>10</td>\n",
       "      <td>7</td>\n",
       "      <td>0</td>\n",
       "    </tr>\n",
       "    <tr>\n",
       "      <th>1499</th>\n",
       "      <td>35</td>\n",
       "      <td>2018-12-31</td>\n",
       "      <td>Пермь</td>\n",
       "      <td>Гектор</td>\n",
       "      <td>Корнилов</td>\n",
       "      <td>2018-09-27</td>\n",
       "      <td>smart</td>\n",
       "      <td>12</td>\n",
       "      <td>9</td>\n",
       "      <td>0</td>\n",
       "    </tr>\n",
       "  </tbody>\n",
       "</table>\n",
       "<p>500 rows × 10 columns</p>\n",
       "</div>"
      ],
      "text/plain": [
       "         age churn_date         city first_name  last_name   reg_date tariff  \\\n",
       "user_id                                                                        \n",
       "1000      52 2018-12-31    Краснодар     Рафаил  Верещагин 2018-05-25  ultra   \n",
       "1001      41 2018-12-31       Москва       Иван       Ежов 2018-11-01  smart   \n",
       "1002      59 2018-12-31  Стерлитамак    Евгений  Абрамович 2018-06-17  smart   \n",
       "1003      23 2018-12-31       Москва      Белла   Белякова 2018-08-17  ultra   \n",
       "1004      68 2018-12-31  Новокузнецк    Татьяна   Авдеенко 2018-05-14  ultra   \n",
       "...      ...        ...          ...        ...        ...        ...    ...   \n",
       "1495      65 2018-12-31      Иркутск  Авксентий      Фокин 2018-08-28  ultra   \n",
       "1496      36 2018-12-31      Вологда     Трифон     Блохин 2018-01-27  smart   \n",
       "1497      32 2018-12-31    Челябинск   Каролина     Агеева 2018-10-09  smart   \n",
       "1498      68 2018-10-25  Владикавказ   Всеволод    Акимчин 2018-07-19  smart   \n",
       "1499      35 2018-12-31        Пермь     Гектор   Корнилов 2018-09-27  smart   \n",
       "\n",
       "         churn_month  reg_month  tariff_type  \n",
       "user_id                                       \n",
       "1000              12          5            1  \n",
       "1001              12         11            0  \n",
       "1002              12          6            0  \n",
       "1003              12          8            1  \n",
       "1004              12          5            1  \n",
       "...              ...        ...          ...  \n",
       "1495              12          8            1  \n",
       "1496              12          1            0  \n",
       "1497              12         10            0  \n",
       "1498              10          7            0  \n",
       "1499              12          9            0  \n",
       "\n",
       "[500 rows x 10 columns]"
      ]
     },
     "execution_count": 70,
     "metadata": {},
     "output_type": "execute_result"
    }
   ],
   "source": [
    "# меняем индекс для будущего merge\n",
    "users_data.set_index('user_id')"
   ]
  },
  {
   "cell_type": "markdown",
   "metadata": {},
   "source": [
    "<div class=\"alert alert-info\">\n",
    "    \n",
    "    \n",
    "    \n",
    "Таблицу join_all_pivot соединил с таблицей по пользователю, по итогу получил таблицу  прибилью по пользователю в разрезе месяцев. \n",
    "</div>"
   ]
  },
  {
   "cell_type": "code",
   "execution_count": 71,
   "metadata": {},
   "outputs": [
    {
     "data": {
      "text/html": [
       "<div>\n",
       "<style scoped>\n",
       "    .dataframe tbody tr th:only-of-type {\n",
       "        vertical-align: middle;\n",
       "    }\n",
       "\n",
       "    .dataframe tbody tr th {\n",
       "        vertical-align: top;\n",
       "    }\n",
       "\n",
       "    .dataframe thead th {\n",
       "        text-align: right;\n",
       "    }\n",
       "</style>\n",
       "<table border=\"1\" class=\"dataframe\">\n",
       "  <thead>\n",
       "    <tr style=\"text-align: right;\">\n",
       "      <th></th>\n",
       "      <th>user_id</th>\n",
       "      <th>age</th>\n",
       "      <th>churn_date</th>\n",
       "      <th>city</th>\n",
       "      <th>first_name</th>\n",
       "      <th>last_name</th>\n",
       "      <th>reg_date</th>\n",
       "      <th>tariff_x</th>\n",
       "      <th>churn_month</th>\n",
       "      <th>reg_month</th>\n",
       "      <th>tariff_type</th>\n",
       "      <th>call_count</th>\n",
       "      <th>minutes_total</th>\n",
       "      <th>message_count</th>\n",
       "      <th>mb_total</th>\n",
       "      <th>tariff_y</th>\n",
       "      <th>income</th>\n",
       "    </tr>\n",
       "  </thead>\n",
       "  <tbody>\n",
       "    <tr>\n",
       "      <th>0</th>\n",
       "      <td>1000</td>\n",
       "      <td>52</td>\n",
       "      <td>2018-12-31</td>\n",
       "      <td>Краснодар</td>\n",
       "      <td>Рафаил</td>\n",
       "      <td>Верещагин</td>\n",
       "      <td>2018-05-25</td>\n",
       "      <td>ultra</td>\n",
       "      <td>12</td>\n",
       "      <td>5</td>\n",
       "      <td>1</td>\n",
       "      <td>17.0</td>\n",
       "      <td>151.0</td>\n",
       "      <td>22.0</td>\n",
       "      <td>2254.0</td>\n",
       "      <td>ultra</td>\n",
       "      <td>1950.0</td>\n",
       "    </tr>\n",
       "    <tr>\n",
       "      <th>1</th>\n",
       "      <td>1000</td>\n",
       "      <td>52</td>\n",
       "      <td>2018-12-31</td>\n",
       "      <td>Краснодар</td>\n",
       "      <td>Рафаил</td>\n",
       "      <td>Верещагин</td>\n",
       "      <td>2018-05-25</td>\n",
       "      <td>ultra</td>\n",
       "      <td>12</td>\n",
       "      <td>5</td>\n",
       "      <td>1</td>\n",
       "      <td>28.0</td>\n",
       "      <td>159.0</td>\n",
       "      <td>60.0</td>\n",
       "      <td>23234.0</td>\n",
       "      <td>ultra</td>\n",
       "      <td>1950.0</td>\n",
       "    </tr>\n",
       "    <tr>\n",
       "      <th>2</th>\n",
       "      <td>1000</td>\n",
       "      <td>52</td>\n",
       "      <td>2018-12-31</td>\n",
       "      <td>Краснодар</td>\n",
       "      <td>Рафаил</td>\n",
       "      <td>Верещагин</td>\n",
       "      <td>2018-05-25</td>\n",
       "      <td>ultra</td>\n",
       "      <td>12</td>\n",
       "      <td>5</td>\n",
       "      <td>1</td>\n",
       "      <td>41.0</td>\n",
       "      <td>319.0</td>\n",
       "      <td>75.0</td>\n",
       "      <td>14004.0</td>\n",
       "      <td>ultra</td>\n",
       "      <td>1950.0</td>\n",
       "    </tr>\n",
       "    <tr>\n",
       "      <th>3</th>\n",
       "      <td>1000</td>\n",
       "      <td>52</td>\n",
       "      <td>2018-12-31</td>\n",
       "      <td>Краснодар</td>\n",
       "      <td>Рафаил</td>\n",
       "      <td>Верещагин</td>\n",
       "      <td>2018-05-25</td>\n",
       "      <td>ultra</td>\n",
       "      <td>12</td>\n",
       "      <td>5</td>\n",
       "      <td>1</td>\n",
       "      <td>42.0</td>\n",
       "      <td>390.0</td>\n",
       "      <td>81.0</td>\n",
       "      <td>14056.0</td>\n",
       "      <td>ultra</td>\n",
       "      <td>1950.0</td>\n",
       "    </tr>\n",
       "    <tr>\n",
       "      <th>4</th>\n",
       "      <td>1000</td>\n",
       "      <td>52</td>\n",
       "      <td>2018-12-31</td>\n",
       "      <td>Краснодар</td>\n",
       "      <td>Рафаил</td>\n",
       "      <td>Верещагин</td>\n",
       "      <td>2018-05-25</td>\n",
       "      <td>ultra</td>\n",
       "      <td>12</td>\n",
       "      <td>5</td>\n",
       "      <td>1</td>\n",
       "      <td>46.0</td>\n",
       "      <td>441.0</td>\n",
       "      <td>57.0</td>\n",
       "      <td>14569.0</td>\n",
       "      <td>ultra</td>\n",
       "      <td>1950.0</td>\n",
       "    </tr>\n",
       "    <tr>\n",
       "      <th>...</th>\n",
       "      <td>...</td>\n",
       "      <td>...</td>\n",
       "      <td>...</td>\n",
       "      <td>...</td>\n",
       "      <td>...</td>\n",
       "      <td>...</td>\n",
       "      <td>...</td>\n",
       "      <td>...</td>\n",
       "      <td>...</td>\n",
       "      <td>...</td>\n",
       "      <td>...</td>\n",
       "      <td>...</td>\n",
       "      <td>...</td>\n",
       "      <td>...</td>\n",
       "      <td>...</td>\n",
       "      <td>...</td>\n",
       "      <td>...</td>\n",
       "    </tr>\n",
       "    <tr>\n",
       "      <th>3209</th>\n",
       "      <td>1498</td>\n",
       "      <td>68</td>\n",
       "      <td>2018-10-25</td>\n",
       "      <td>Владикавказ</td>\n",
       "      <td>Всеволод</td>\n",
       "      <td>Акимчин</td>\n",
       "      <td>2018-07-19</td>\n",
       "      <td>smart</td>\n",
       "      <td>10</td>\n",
       "      <td>7</td>\n",
       "      <td>0</td>\n",
       "      <td>30.0</td>\n",
       "      <td>233.0</td>\n",
       "      <td>42.0</td>\n",
       "      <td>20580.0</td>\n",
       "      <td>smart</td>\n",
       "      <td>1750.0</td>\n",
       "    </tr>\n",
       "    <tr>\n",
       "      <th>3210</th>\n",
       "      <td>1499</td>\n",
       "      <td>35</td>\n",
       "      <td>2018-12-31</td>\n",
       "      <td>Пермь</td>\n",
       "      <td>Гектор</td>\n",
       "      <td>Корнилов</td>\n",
       "      <td>2018-09-27</td>\n",
       "      <td>smart</td>\n",
       "      <td>12</td>\n",
       "      <td>9</td>\n",
       "      <td>0</td>\n",
       "      <td>8.0</td>\n",
       "      <td>65.0</td>\n",
       "      <td>11.0</td>\n",
       "      <td>1846.0</td>\n",
       "      <td>smart</td>\n",
       "      <td>550.0</td>\n",
       "    </tr>\n",
       "    <tr>\n",
       "      <th>3211</th>\n",
       "      <td>1499</td>\n",
       "      <td>35</td>\n",
       "      <td>2018-12-31</td>\n",
       "      <td>Пермь</td>\n",
       "      <td>Гектор</td>\n",
       "      <td>Корнилов</td>\n",
       "      <td>2018-09-27</td>\n",
       "      <td>smart</td>\n",
       "      <td>12</td>\n",
       "      <td>9</td>\n",
       "      <td>0</td>\n",
       "      <td>44.0</td>\n",
       "      <td>430.0</td>\n",
       "      <td>48.0</td>\n",
       "      <td>17789.0</td>\n",
       "      <td>smart</td>\n",
       "      <td>1150.0</td>\n",
       "    </tr>\n",
       "    <tr>\n",
       "      <th>3212</th>\n",
       "      <td>1499</td>\n",
       "      <td>35</td>\n",
       "      <td>2018-12-31</td>\n",
       "      <td>Пермь</td>\n",
       "      <td>Гектор</td>\n",
       "      <td>Корнилов</td>\n",
       "      <td>2018-09-27</td>\n",
       "      <td>smart</td>\n",
       "      <td>12</td>\n",
       "      <td>9</td>\n",
       "      <td>0</td>\n",
       "      <td>62.0</td>\n",
       "      <td>577.0</td>\n",
       "      <td>59.0</td>\n",
       "      <td>17964.0</td>\n",
       "      <td>smart</td>\n",
       "      <td>1408.0</td>\n",
       "    </tr>\n",
       "    <tr>\n",
       "      <th>3213</th>\n",
       "      <td>1499</td>\n",
       "      <td>35</td>\n",
       "      <td>2018-12-31</td>\n",
       "      <td>Пермь</td>\n",
       "      <td>Гектор</td>\n",
       "      <td>Корнилов</td>\n",
       "      <td>2018-09-27</td>\n",
       "      <td>smart</td>\n",
       "      <td>12</td>\n",
       "      <td>9</td>\n",
       "      <td>0</td>\n",
       "      <td>56.0</td>\n",
       "      <td>466.0</td>\n",
       "      <td>66.0</td>\n",
       "      <td>13056.0</td>\n",
       "      <td>smart</td>\n",
       "      <td>598.0</td>\n",
       "    </tr>\n",
       "  </tbody>\n",
       "</table>\n",
       "<p>3214 rows × 17 columns</p>\n",
       "</div>"
      ],
      "text/plain": [
       "      user_id  age churn_date         city first_name  last_name   reg_date  \\\n",
       "0        1000   52 2018-12-31    Краснодар     Рафаил  Верещагин 2018-05-25   \n",
       "1        1000   52 2018-12-31    Краснодар     Рафаил  Верещагин 2018-05-25   \n",
       "2        1000   52 2018-12-31    Краснодар     Рафаил  Верещагин 2018-05-25   \n",
       "3        1000   52 2018-12-31    Краснодар     Рафаил  Верещагин 2018-05-25   \n",
       "4        1000   52 2018-12-31    Краснодар     Рафаил  Верещагин 2018-05-25   \n",
       "...       ...  ...        ...          ...        ...        ...        ...   \n",
       "3209     1498   68 2018-10-25  Владикавказ   Всеволод    Акимчин 2018-07-19   \n",
       "3210     1499   35 2018-12-31        Пермь     Гектор   Корнилов 2018-09-27   \n",
       "3211     1499   35 2018-12-31        Пермь     Гектор   Корнилов 2018-09-27   \n",
       "3212     1499   35 2018-12-31        Пермь     Гектор   Корнилов 2018-09-27   \n",
       "3213     1499   35 2018-12-31        Пермь     Гектор   Корнилов 2018-09-27   \n",
       "\n",
       "     tariff_x  churn_month  reg_month  tariff_type  call_count  minutes_total  \\\n",
       "0       ultra           12          5            1        17.0          151.0   \n",
       "1       ultra           12          5            1        28.0          159.0   \n",
       "2       ultra           12          5            1        41.0          319.0   \n",
       "3       ultra           12          5            1        42.0          390.0   \n",
       "4       ultra           12          5            1        46.0          441.0   \n",
       "...       ...          ...        ...          ...         ...            ...   \n",
       "3209    smart           10          7            0        30.0          233.0   \n",
       "3210    smart           12          9            0         8.0           65.0   \n",
       "3211    smart           12          9            0        44.0          430.0   \n",
       "3212    smart           12          9            0        62.0          577.0   \n",
       "3213    smart           12          9            0        56.0          466.0   \n",
       "\n",
       "      message_count  mb_total tariff_y  income  \n",
       "0              22.0    2254.0    ultra  1950.0  \n",
       "1              60.0   23234.0    ultra  1950.0  \n",
       "2              75.0   14004.0    ultra  1950.0  \n",
       "3              81.0   14056.0    ultra  1950.0  \n",
       "4              57.0   14569.0    ultra  1950.0  \n",
       "...             ...       ...      ...     ...  \n",
       "3209           42.0   20580.0    smart  1750.0  \n",
       "3210           11.0    1846.0    smart   550.0  \n",
       "3211           48.0   17789.0    smart  1150.0  \n",
       "3212           59.0   17964.0    smart  1408.0  \n",
       "3213           66.0   13056.0    smart   598.0  \n",
       "\n",
       "[3214 rows x 17 columns]"
      ]
     },
     "execution_count": 71,
     "metadata": {},
     "output_type": "execute_result"
    }
   ],
   "source": [
    "analyze_data = users_data.merge(join_all_pivot, left_on = 'user_id',right_on ='user_id',  how = 'inner') \n",
    "analyze_data"
   ]
  },
  {
   "cell_type": "code",
   "execution_count": 72,
   "metadata": {},
   "outputs": [
    {
     "data": {
      "text/html": [
       "<div>\n",
       "<style scoped>\n",
       "    .dataframe tbody tr th:only-of-type {\n",
       "        vertical-align: middle;\n",
       "    }\n",
       "\n",
       "    .dataframe tbody tr th {\n",
       "        vertical-align: top;\n",
       "    }\n",
       "\n",
       "    .dataframe thead th {\n",
       "        text-align: right;\n",
       "    }\n",
       "</style>\n",
       "<table border=\"1\" class=\"dataframe\">\n",
       "  <thead>\n",
       "    <tr style=\"text-align: right;\">\n",
       "      <th></th>\n",
       "      <th>income</th>\n",
       "    </tr>\n",
       "    <tr>\n",
       "      <th>tariff_x</th>\n",
       "      <th></th>\n",
       "    </tr>\n",
       "  </thead>\n",
       "  <tbody>\n",
       "    <tr>\n",
       "      <th>smart</th>\n",
       "      <td>1257.588605</td>\n",
       "    </tr>\n",
       "    <tr>\n",
       "      <th>ultra</th>\n",
       "      <td>2070.152284</td>\n",
       "    </tr>\n",
       "  </tbody>\n",
       "</table>\n",
       "</div>"
      ],
      "text/plain": [
       "               income\n",
       "tariff_x             \n",
       "smart     1257.588605\n",
       "ultra     2070.152284"
      ]
     },
     "execution_count": 72,
     "metadata": {},
     "output_type": "execute_result"
    }
   ],
   "source": [
    "tariff_mean_income = analyze_data.pivot_table(\n",
    "    index='tariff_x', values='income', aggfunc='mean'\n",
    ")\n",
    "tariff_mean_income"
   ]
  },
  {
   "cell_type": "code",
   "execution_count": 73,
   "metadata": {},
   "outputs": [],
   "source": [
    "smart_income = analyze_data.query('tariff_x == \"smart\"')\n",
    "ultra_income = analyze_data.query('tariff_x == \"ultra\"')"
   ]
  },
  {
   "cell_type": "markdown",
   "metadata": {},
   "source": [
    "<div class=\"alert alert-info\">\n",
    "Визуализируем распределение по выручке в разрезе по тарифу\n",
    "\n",
    "</div>"
   ]
  },
  {
   "cell_type": "code",
   "execution_count": 74,
   "metadata": {},
   "outputs": [
    {
     "data": {
      "text/plain": [
       "<AxesSubplot:xlabel='tariff_x', ylabel='income'>"
      ]
     },
     "execution_count": 74,
     "metadata": {},
     "output_type": "execute_result"
    },
    {
     "data": {
      "image/png": "[encoded data removed]",
      "text/plain": [
       "<Figure size 432x288 with 1 Axes>"
      ]
     },
     "metadata": {
      "needs_background": "light"
     },
     "output_type": "display_data"
    }
   ],
   "source": [
    "sns.boxplot( x=analyze_data[\"tariff_x\"], y=analyze_data[\"income\"])"
   ]
  },
  {
   "cell_type": "code",
   "execution_count": 75,
   "metadata": {},
   "outputs": [
    {
     "name": "stdout",
     "output_type": "stream",
     "text": [
      "Дисперия по тарифу смарт 641465.797015512\n",
      "Дисперия по тарифу ультра  141516.7450786183\n"
     ]
    }
   ],
   "source": [
    "print('Дисперия по тарифу смарт',smart_income['income'].var(ddof=1))\n",
    "print('Дисперия по тарифу ультра ',ultra_income['income'].var(ddof=1))"
   ]
  },
  {
   "cell_type": "code",
   "execution_count": 76,
   "metadata": {},
   "outputs": [
    {
     "data": {
      "text/plain": [
       "8.107523775000117e-135"
      ]
     },
     "execution_count": 76,
     "metadata": {},
     "output_type": "execute_result"
    }
   ],
   "source": [
    "# посчитаем равенство дисперсий через тест Барлетта\n",
    "from scipy.stats import bartlett\n",
    "stat, p = bartlett(smart_income['income'], ultra_income['income'])\n",
    "p"
   ]
  },
  {
   "cell_type": "markdown",
   "metadata": {},
   "source": [
    "<div class=\"alert alert-info\">\n",
    "    Дисперсии действительно не равны\n",
    "</div>"
   ]
  },
  {
   "cell_type": "code",
   "execution_count": 77,
   "metadata": {},
   "outputs": [
    {
     "name": "stdout",
     "output_type": "stream",
     "text": [
      "P-значение: 6.179723168444486e-274\n",
      "Отвергаем нулевую гипотезу\n"
     ]
    }
   ],
   "source": [
    "alpha = .05\n",
    "results1 = st.ttest_ind (smart_income['income'], ultra_income['income'], equal_var=False) \n",
    "# Т.к. дисперии не равны equal_var=False\n",
    "\n",
    "print ('P-значение:', results1.pvalue)\n",
    "\n",
    "if (results1.pvalue < alpha):\n",
    "    print(\"Отвергаем нулевую гипотезу\")\n",
    "else:\n",
    "    print(\"Не получилось отвергнуть нулевую гипотезу\")"
   ]
  },
  {
   "cell_type": "markdown",
   "metadata": {},
   "source": [
    "Как видно из результатов фактическая разница между выручками за разные тарифы достаточно большая. Отсюда и статистическая проверка гипотезы только подтвердила наши вычислания."
   ]
  },
  {
   "cell_type": "markdown",
   "metadata": {},
   "source": [
    "<div class=\"alert alert-info\">\n",
    "\n",
    "\n",
    "Значение p-value стало равно нулю. Нулевую гипотезу отвергаем.\n",
    "</div> \n",
    "    "
   ]
  },
  {
   "cell_type": "markdown",
   "metadata": {},
   "source": [
    "Перейдем к провере второй гипотезы. Для простоты подсчёта категоризируем города на москва/не москва"
   ]
  },
  {
   "cell_type": "code",
   "execution_count": 78,
   "metadata": {},
   "outputs": [],
   "source": [
    "def categorize_city(name, axis):\n",
    "     if 'Москва' in name:\n",
    "        category = 'Москва'\n",
    "        return category\n",
    "     else:\n",
    "        category = 'Не Москва'                \n",
    "        return category"
   ]
  },
  {
   "cell_type": "code",
   "execution_count": 79,
   "metadata": {},
   "outputs": [
    {
     "data": {
      "text/html": [
       "<div>\n",
       "<style scoped>\n",
       "    .dataframe tbody tr th:only-of-type {\n",
       "        vertical-align: middle;\n",
       "    }\n",
       "\n",
       "    .dataframe tbody tr th {\n",
       "        vertical-align: top;\n",
       "    }\n",
       "\n",
       "    .dataframe thead th {\n",
       "        text-align: right;\n",
       "    }\n",
       "</style>\n",
       "<table border=\"1\" class=\"dataframe\">\n",
       "  <thead>\n",
       "    <tr style=\"text-align: right;\">\n",
       "      <th></th>\n",
       "      <th>user_id</th>\n",
       "      <th>age</th>\n",
       "      <th>churn_date</th>\n",
       "      <th>city</th>\n",
       "      <th>first_name</th>\n",
       "      <th>last_name</th>\n",
       "      <th>reg_date</th>\n",
       "      <th>tariff_x</th>\n",
       "      <th>churn_month</th>\n",
       "      <th>reg_month</th>\n",
       "      <th>tariff_type</th>\n",
       "      <th>call_count</th>\n",
       "      <th>minutes_total</th>\n",
       "      <th>message_count</th>\n",
       "      <th>mb_total</th>\n",
       "      <th>tariff_y</th>\n",
       "      <th>income</th>\n",
       "      <th>Is_moscow</th>\n",
       "    </tr>\n",
       "  </thead>\n",
       "  <tbody>\n",
       "    <tr>\n",
       "      <th>0</th>\n",
       "      <td>1000</td>\n",
       "      <td>52</td>\n",
       "      <td>2018-12-31</td>\n",
       "      <td>Краснодар</td>\n",
       "      <td>Рафаил</td>\n",
       "      <td>Верещагин</td>\n",
       "      <td>2018-05-25</td>\n",
       "      <td>ultra</td>\n",
       "      <td>12</td>\n",
       "      <td>5</td>\n",
       "      <td>1</td>\n",
       "      <td>17.0</td>\n",
       "      <td>151.0</td>\n",
       "      <td>22.0</td>\n",
       "      <td>2254.0</td>\n",
       "      <td>ultra</td>\n",
       "      <td>1950.0</td>\n",
       "      <td>Не Москва</td>\n",
       "    </tr>\n",
       "    <tr>\n",
       "      <th>1</th>\n",
       "      <td>1000</td>\n",
       "      <td>52</td>\n",
       "      <td>2018-12-31</td>\n",
       "      <td>Краснодар</td>\n",
       "      <td>Рафаил</td>\n",
       "      <td>Верещагин</td>\n",
       "      <td>2018-05-25</td>\n",
       "      <td>ultra</td>\n",
       "      <td>12</td>\n",
       "      <td>5</td>\n",
       "      <td>1</td>\n",
       "      <td>28.0</td>\n",
       "      <td>159.0</td>\n",
       "      <td>60.0</td>\n",
       "      <td>23234.0</td>\n",
       "      <td>ultra</td>\n",
       "      <td>1950.0</td>\n",
       "      <td>Не Москва</td>\n",
       "    </tr>\n",
       "    <tr>\n",
       "      <th>2</th>\n",
       "      <td>1000</td>\n",
       "      <td>52</td>\n",
       "      <td>2018-12-31</td>\n",
       "      <td>Краснодар</td>\n",
       "      <td>Рафаил</td>\n",
       "      <td>Верещагин</td>\n",
       "      <td>2018-05-25</td>\n",
       "      <td>ultra</td>\n",
       "      <td>12</td>\n",
       "      <td>5</td>\n",
       "      <td>1</td>\n",
       "      <td>41.0</td>\n",
       "      <td>319.0</td>\n",
       "      <td>75.0</td>\n",
       "      <td>14004.0</td>\n",
       "      <td>ultra</td>\n",
       "      <td>1950.0</td>\n",
       "      <td>Не Москва</td>\n",
       "    </tr>\n",
       "    <tr>\n",
       "      <th>3</th>\n",
       "      <td>1000</td>\n",
       "      <td>52</td>\n",
       "      <td>2018-12-31</td>\n",
       "      <td>Краснодар</td>\n",
       "      <td>Рафаил</td>\n",
       "      <td>Верещагин</td>\n",
       "      <td>2018-05-25</td>\n",
       "      <td>ultra</td>\n",
       "      <td>12</td>\n",
       "      <td>5</td>\n",
       "      <td>1</td>\n",
       "      <td>42.0</td>\n",
       "      <td>390.0</td>\n",
       "      <td>81.0</td>\n",
       "      <td>14056.0</td>\n",
       "      <td>ultra</td>\n",
       "      <td>1950.0</td>\n",
       "      <td>Не Москва</td>\n",
       "    </tr>\n",
       "    <tr>\n",
       "      <th>4</th>\n",
       "      <td>1000</td>\n",
       "      <td>52</td>\n",
       "      <td>2018-12-31</td>\n",
       "      <td>Краснодар</td>\n",
       "      <td>Рафаил</td>\n",
       "      <td>Верещагин</td>\n",
       "      <td>2018-05-25</td>\n",
       "      <td>ultra</td>\n",
       "      <td>12</td>\n",
       "      <td>5</td>\n",
       "      <td>1</td>\n",
       "      <td>46.0</td>\n",
       "      <td>441.0</td>\n",
       "      <td>57.0</td>\n",
       "      <td>14569.0</td>\n",
       "      <td>ultra</td>\n",
       "      <td>1950.0</td>\n",
       "      <td>Не Москва</td>\n",
       "    </tr>\n",
       "    <tr>\n",
       "      <th>...</th>\n",
       "      <td>...</td>\n",
       "      <td>...</td>\n",
       "      <td>...</td>\n",
       "      <td>...</td>\n",
       "      <td>...</td>\n",
       "      <td>...</td>\n",
       "      <td>...</td>\n",
       "      <td>...</td>\n",
       "      <td>...</td>\n",
       "      <td>...</td>\n",
       "      <td>...</td>\n",
       "      <td>...</td>\n",
       "      <td>...</td>\n",
       "      <td>...</td>\n",
       "      <td>...</td>\n",
       "      <td>...</td>\n",
       "      <td>...</td>\n",
       "      <td>...</td>\n",
       "    </tr>\n",
       "    <tr>\n",
       "      <th>3209</th>\n",
       "      <td>1498</td>\n",
       "      <td>68</td>\n",
       "      <td>2018-10-25</td>\n",
       "      <td>Владикавказ</td>\n",
       "      <td>Всеволод</td>\n",
       "      <td>Акимчин</td>\n",
       "      <td>2018-07-19</td>\n",
       "      <td>smart</td>\n",
       "      <td>10</td>\n",
       "      <td>7</td>\n",
       "      <td>0</td>\n",
       "      <td>30.0</td>\n",
       "      <td>233.0</td>\n",
       "      <td>42.0</td>\n",
       "      <td>20580.0</td>\n",
       "      <td>smart</td>\n",
       "      <td>1750.0</td>\n",
       "      <td>Не Москва</td>\n",
       "    </tr>\n",
       "    <tr>\n",
       "      <th>3210</th>\n",
       "      <td>1499</td>\n",
       "      <td>35</td>\n",
       "      <td>2018-12-31</td>\n",
       "      <td>Пермь</td>\n",
       "      <td>Гектор</td>\n",
       "      <td>Корнилов</td>\n",
       "      <td>2018-09-27</td>\n",
       "      <td>smart</td>\n",
       "      <td>12</td>\n",
       "      <td>9</td>\n",
       "      <td>0</td>\n",
       "      <td>8.0</td>\n",
       "      <td>65.0</td>\n",
       "      <td>11.0</td>\n",
       "      <td>1846.0</td>\n",
       "      <td>smart</td>\n",
       "      <td>550.0</td>\n",
       "      <td>Не Москва</td>\n",
       "    </tr>\n",
       "    <tr>\n",
       "      <th>3211</th>\n",
       "      <td>1499</td>\n",
       "      <td>35</td>\n",
       "      <td>2018-12-31</td>\n",
       "      <td>Пермь</td>\n",
       "      <td>Гектор</td>\n",
       "      <td>Корнилов</td>\n",
       "      <td>2018-09-27</td>\n",
       "      <td>smart</td>\n",
       "      <td>12</td>\n",
       "      <td>9</td>\n",
       "      <td>0</td>\n",
       "      <td>44.0</td>\n",
       "      <td>430.0</td>\n",
       "      <td>48.0</td>\n",
       "      <td>17789.0</td>\n",
       "      <td>smart</td>\n",
       "      <td>1150.0</td>\n",
       "      <td>Не Москва</td>\n",
       "    </tr>\n",
       "    <tr>\n",
       "      <th>3212</th>\n",
       "      <td>1499</td>\n",
       "      <td>35</td>\n",
       "      <td>2018-12-31</td>\n",
       "      <td>Пермь</td>\n",
       "      <td>Гектор</td>\n",
       "      <td>Корнилов</td>\n",
       "      <td>2018-09-27</td>\n",
       "      <td>smart</td>\n",
       "      <td>12</td>\n",
       "      <td>9</td>\n",
       "      <td>0</td>\n",
       "      <td>62.0</td>\n",
       "      <td>577.0</td>\n",
       "      <td>59.0</td>\n",
       "      <td>17964.0</td>\n",
       "      <td>smart</td>\n",
       "      <td>1408.0</td>\n",
       "      <td>Не Москва</td>\n",
       "    </tr>\n",
       "    <tr>\n",
       "      <th>3213</th>\n",
       "      <td>1499</td>\n",
       "      <td>35</td>\n",
       "      <td>2018-12-31</td>\n",
       "      <td>Пермь</td>\n",
       "      <td>Гектор</td>\n",
       "      <td>Корнилов</td>\n",
       "      <td>2018-09-27</td>\n",
       "      <td>smart</td>\n",
       "      <td>12</td>\n",
       "      <td>9</td>\n",
       "      <td>0</td>\n",
       "      <td>56.0</td>\n",
       "      <td>466.0</td>\n",
       "      <td>66.0</td>\n",
       "      <td>13056.0</td>\n",
       "      <td>smart</td>\n",
       "      <td>598.0</td>\n",
       "      <td>Не Москва</td>\n",
       "    </tr>\n",
       "  </tbody>\n",
       "</table>\n",
       "<p>3214 rows × 18 columns</p>\n",
       "</div>"
      ],
      "text/plain": [
       "      user_id  age churn_date         city first_name  last_name   reg_date  \\\n",
       "0        1000   52 2018-12-31    Краснодар     Рафаил  Верещагин 2018-05-25   \n",
       "1        1000   52 2018-12-31    Краснодар     Рафаил  Верещагин 2018-05-25   \n",
       "2        1000   52 2018-12-31    Краснодар     Рафаил  Верещагин 2018-05-25   \n",
       "3        1000   52 2018-12-31    Краснодар     Рафаил  Верещагин 2018-05-25   \n",
       "4        1000   52 2018-12-31    Краснодар     Рафаил  Верещагин 2018-05-25   \n",
       "...       ...  ...        ...          ...        ...        ...        ...   \n",
       "3209     1498   68 2018-10-25  Владикавказ   Всеволод    Акимчин 2018-07-19   \n",
       "3210     1499   35 2018-12-31        Пермь     Гектор   Корнилов 2018-09-27   \n",
       "3211     1499   35 2018-12-31        Пермь     Гектор   Корнилов 2018-09-27   \n",
       "3212     1499   35 2018-12-31        Пермь     Гектор   Корнилов 2018-09-27   \n",
       "3213     1499   35 2018-12-31        Пермь     Гектор   Корнилов 2018-09-27   \n",
       "\n",
       "     tariff_x  churn_month  reg_month  tariff_type  call_count  minutes_total  \\\n",
       "0       ultra           12          5            1        17.0          151.0   \n",
       "1       ultra           12          5            1        28.0          159.0   \n",
       "2       ultra           12          5            1        41.0          319.0   \n",
       "3       ultra           12          5            1        42.0          390.0   \n",
       "4       ultra           12          5            1        46.0          441.0   \n",
       "...       ...          ...        ...          ...         ...            ...   \n",
       "3209    smart           10          7            0        30.0          233.0   \n",
       "3210    smart           12          9            0         8.0           65.0   \n",
       "3211    smart           12          9            0        44.0          430.0   \n",
       "3212    smart           12          9            0        62.0          577.0   \n",
       "3213    smart           12          9            0        56.0          466.0   \n",
       "\n",
       "      message_count  mb_total tariff_y  income  Is_moscow  \n",
       "0              22.0    2254.0    ultra  1950.0  Не Москва  \n",
       "1              60.0   23234.0    ultra  1950.0  Не Москва  \n",
       "2              75.0   14004.0    ultra  1950.0  Не Москва  \n",
       "3              81.0   14056.0    ultra  1950.0  Не Москва  \n",
       "4              57.0   14569.0    ultra  1950.0  Не Москва  \n",
       "...             ...       ...      ...     ...        ...  \n",
       "3209           42.0   20580.0    smart  1750.0  Не Москва  \n",
       "3210           11.0    1846.0    smart   550.0  Не Москва  \n",
       "3211           48.0   17789.0    smart  1150.0  Не Москва  \n",
       "3212           59.0   17964.0    smart  1408.0  Не Москва  \n",
       "3213           66.0   13056.0    smart   598.0  Не Москва  \n",
       "\n",
       "[3214 rows x 18 columns]"
      ]
     },
     "execution_count": 79,
     "metadata": {},
     "output_type": "execute_result"
    }
   ],
   "source": [
    "analyze_data['Is_moscow'] = analyze_data['city'].apply(categorize_city,axis=1) \n",
    "analyze_data"
   ]
  },
  {
   "cell_type": "code",
   "execution_count": 80,
   "metadata": {},
   "outputs": [
    {
     "data": {
      "text/html": [
       "<div>\n",
       "<style scoped>\n",
       "    .dataframe tbody tr th:only-of-type {\n",
       "        vertical-align: middle;\n",
       "    }\n",
       "\n",
       "    .dataframe tbody tr th {\n",
       "        vertical-align: top;\n",
       "    }\n",
       "\n",
       "    .dataframe thead th {\n",
       "        text-align: right;\n",
       "    }\n",
       "</style>\n",
       "<table border=\"1\" class=\"dataframe\">\n",
       "  <thead>\n",
       "    <tr style=\"text-align: right;\">\n",
       "      <th></th>\n",
       "      <th>income</th>\n",
       "    </tr>\n",
       "    <tr>\n",
       "      <th>Is_moscow</th>\n",
       "      <th></th>\n",
       "    </tr>\n",
       "  </thead>\n",
       "  <tbody>\n",
       "    <tr>\n",
       "      <th>Москва</th>\n",
       "      <td>1526.837971</td>\n",
       "    </tr>\n",
       "    <tr>\n",
       "      <th>Не Москва</th>\n",
       "      <td>1501.869766</td>\n",
       "    </tr>\n",
       "  </tbody>\n",
       "</table>\n",
       "</div>"
      ],
      "text/plain": [
       "                income\n",
       "Is_moscow             \n",
       "Москва     1526.837971\n",
       "Не Москва  1501.869766"
      ]
     },
     "execution_count": 80,
     "metadata": {},
     "output_type": "execute_result"
    }
   ],
   "source": [
    "city_mean_income = analyze_data.pivot_table(\n",
    "    index='Is_moscow', values='income', aggfunc='mean'\n",
    ")\n",
    "city_mean_income"
   ]
  },
  {
   "cell_type": "code",
   "execution_count": 81,
   "metadata": {},
   "outputs": [],
   "source": [
    "moscow_income = analyze_data.query('Is_moscow == \"Москва\"')\n",
    "not_moscow_income = analyze_data.query('Is_moscow == \"Не Москва\"')"
   ]
  },
  {
   "cell_type": "code",
   "execution_count": 82,
   "metadata": {},
   "outputs": [],
   "source": [
    "moscow_income_1 = analyze_data.query('city == \"Москва\"')\n",
    "not_moscow_income_1 = analyze_data.query('city != \"Москва\"')"
   ]
  },
  {
   "cell_type": "code",
   "execution_count": 83,
   "metadata": {},
   "outputs": [
    {
     "name": "stdout",
     "output_type": "stream",
     "text": [
      "Дисперия по Москве  562832.1982935794\n",
      "Дисперия по Не Москве  644059.3108572472\n"
     ]
    }
   ],
   "source": [
    "print('Дисперия по Москве ',moscow_income_1['income'].var(ddof=1))\n",
    "print('Дисперия по Не Москве ',not_moscow_income_1['income'].var(ddof=1))"
   ]
  },
  {
   "cell_type": "code",
   "execution_count": 84,
   "metadata": {},
   "outputs": [
    {
     "data": {
      "text/plain": [
       "0.036722261269905146"
      ]
     },
     "execution_count": 84,
     "metadata": {},
     "output_type": "execute_result"
    }
   ],
   "source": [
    "# посчитаем равенство дисперсий через тест Барлетта\n",
    "from scipy.stats import bartlett\n",
    "stat, p = bartlett(moscow_income_1['income'], not_moscow_income_1['income'])\n",
    "p"
   ]
  },
  {
   "cell_type": "code",
   "execution_count": 85,
   "metadata": {},
   "outputs": [
    {
     "name": "stdout",
     "output_type": "stream",
     "text": [
      "P-значение: 0.46532858228722906\n",
      "Не получилось отвергнуть нулевую гипотезу\n"
     ]
    }
   ],
   "source": [
    "alpha = .05\n",
    "results2 = st.ttest_ind (moscow_income_1['income'], not_moscow_income_1['income'], equal_var=False) \n",
    "# Т.к. Дисперии не равны equal_var=False\n",
    "print ('P-значение:', results2.pvalue)\n",
    "\n",
    "if (results2.pvalue < alpha):\n",
    "    print(\"Отвергаем нулевую гипотезу\")\n",
    "else:\n",
    "    print(\"Не получилось отвергнуть нулевую гипотезу\")"
   ]
  },
  {
   "cell_type": "markdown",
   "metadata": {},
   "source": [
    "А вот тут уже разница в средней выручке не такая существеннная, всего ~400 рублей. Статистическая проверка показала, что несмотря на то, что выручка Москвы отличается от выручки других городов нашей страны, статистически они вероятнее одинаковы."
   ]
  },
  {
   "cell_type": "markdown",
   "metadata": {},
   "source": [
    "### Вывод из шага\n",
    "- Средняя выручка на тарифе смарт и ультра - отличаются;\n",
    "- Средняя выручка Москвы и средняя вырчка не Москвы не достаточно различны. То есть они сопостовимы."
   ]
  },
  {
   "cell_type": "markdown",
   "metadata": {},
   "source": [
    "# Общий вывод\n"
   ]
  },
  {
   "cell_type": "markdown",
   "metadata": {},
   "source": [
    "<div class=\"alert alert-info\">\n",
    "    \n",
    "### Вывод    \n",
    "- В данном исследовании был проведено сравнение двух тарифов \"Смарт\" и \"Ультра\"\n",
    "\n",
    "- Основной целью исследования было определить какой из этих двух тарифов наиболее привлекателен для компании. Предварительно обратав все таблицы, добавив необходимые поля и преобразовав все поля в нужный нам формат мы перешли к исследовательскому анализу данных.\n",
    "    \n",
    "- В процессе исследовательского анализа были определены (среднее количество, дисперсия и стандартное отклонение) по изучаемым параметрам на всей выборке. При визуальном анализа данных (при построении гистограмм) был выявлен ряд выбросов.\n",
    "    \n",
    "\n",
    "<b>Вывод оказался таким - тариф ультра приносит больше денег компании.</b>    \n",
    "    \n",
    "-  Посчитав прибыли по тарифам, мы перешли к анализу гипотез.    \n",
    "\n",
    "1. Проведя статистический анализ мы пришли к выводу, что гипотеза о том, что выручка тарифов смарт и ультра одинакова вероятней должна быть опровергнута - <b> Нулевая гипотеза была отвергнута</b>\n",
    "\n",
    "2. Гипотеза о том, что выручка Москвы и выручка других городов России одинакова, показала свою статистическую неопровержимость-  <b> Нулевая гипотеза была подтверждена</b>\n",
    "</div>"
   ]
  }
 ],
 "metadata": {
  "ExecuteTimeLog": [
   {
    "duration": 4,
    "start_time": "2022-04-08T09:50:11.936Z"
   },
   {
    "duration": 1340,
    "start_time": "2022-04-08T11:35:37.377Z"
   },
   {
    "duration": 151,
    "start_time": "2022-04-08T11:38:01.533Z"
   },
   {
    "duration": 360,
    "start_time": "2022-04-08T11:40:28.722Z"
   },
   {
    "duration": 3,
    "start_time": "2022-04-08T11:41:20.612Z"
   },
   {
    "duration": 12,
    "start_time": "2022-04-08T11:41:32.328Z"
   },
   {
    "duration": 9,
    "start_time": "2022-04-08T11:43:39.105Z"
   },
   {
    "duration": 25,
    "start_time": "2022-04-08T11:44:26.888Z"
   },
   {
    "duration": 23,
    "start_time": "2022-04-08T11:44:46.812Z"
   },
   {
    "duration": 28,
    "start_time": "2022-04-08T11:46:44.155Z"
   },
   {
    "duration": 91,
    "start_time": "2022-04-08T11:49:38.135Z"
   },
   {
    "duration": 41,
    "start_time": "2022-04-08T11:49:49.084Z"
   },
   {
    "duration": 371,
    "start_time": "2022-04-08T11:50:27.858Z"
   },
   {
    "duration": 9,
    "start_time": "2022-04-08T11:50:34.380Z"
   },
   {
    "duration": 25,
    "start_time": "2022-04-08T11:50:35.434Z"
   },
   {
    "duration": 37,
    "start_time": "2022-04-08T11:50:37.428Z"
   },
   {
    "duration": 2475,
    "start_time": "2022-04-08T12:05:48.864Z"
   },
   {
    "duration": 8,
    "start_time": "2022-04-08T12:06:42.656Z"
   },
   {
    "duration": 22,
    "start_time": "2022-04-08T12:06:48.716Z"
   },
   {
    "duration": 12,
    "start_time": "2022-04-08T12:07:38.231Z"
   },
   {
    "duration": 21,
    "start_time": "2022-04-08T12:07:49.680Z"
   },
   {
    "duration": 16,
    "start_time": "2022-04-08T12:10:36.289Z"
   },
   {
    "duration": 15,
    "start_time": "2022-04-08T12:12:38.700Z"
   },
   {
    "duration": 348,
    "start_time": "2022-04-08T12:12:51.054Z"
   },
   {
    "duration": 9,
    "start_time": "2022-04-08T12:12:54.694Z"
   },
   {
    "duration": 35,
    "start_time": "2022-04-08T12:12:59.077Z"
   },
   {
    "duration": 22,
    "start_time": "2022-04-08T12:13:02.035Z"
   },
   {
    "duration": 47,
    "start_time": "2022-04-08T12:13:06.139Z"
   },
   {
    "duration": 7,
    "start_time": "2022-04-08T12:13:45.893Z"
   },
   {
    "duration": 18,
    "start_time": "2022-04-08T12:15:11.049Z"
   },
   {
    "duration": 7,
    "start_time": "2022-04-08T12:18:03.167Z"
   },
   {
    "duration": 1443,
    "start_time": "2022-04-08T12:19:19.033Z"
   },
   {
    "duration": 1477,
    "start_time": "2022-04-08T12:19:40.446Z"
   },
   {
    "duration": 1499,
    "start_time": "2022-04-08T12:20:19.834Z"
   },
   {
    "duration": 9,
    "start_time": "2022-04-08T12:20:28.341Z"
   },
   {
    "duration": 368,
    "start_time": "2022-04-08T12:21:06.928Z"
   },
   {
    "duration": 9,
    "start_time": "2022-04-08T12:21:09.566Z"
   },
   {
    "duration": 26,
    "start_time": "2022-04-08T12:21:10.993Z"
   },
   {
    "duration": 36,
    "start_time": "2022-04-08T12:21:13.830Z"
   },
   {
    "duration": 23,
    "start_time": "2022-04-08T12:21:15.176Z"
   },
   {
    "duration": 9,
    "start_time": "2022-04-08T12:21:17.212Z"
   },
   {
    "duration": 23,
    "start_time": "2022-04-08T12:21:18.885Z"
   },
   {
    "duration": 51,
    "start_time": "2022-04-08T12:21:22.757Z"
   },
   {
    "duration": 8,
    "start_time": "2022-04-08T12:21:24.157Z"
   },
   {
    "duration": 19,
    "start_time": "2022-04-08T12:21:26.575Z"
   },
   {
    "duration": 1456,
    "start_time": "2022-04-08T12:21:46.159Z"
   },
   {
    "duration": 7,
    "start_time": "2022-04-08T12:21:58.461Z"
   },
   {
    "duration": 33,
    "start_time": "2022-04-08T12:22:19.416Z"
   },
   {
    "duration": 8,
    "start_time": "2022-04-08T12:22:22.301Z"
   },
   {
    "duration": 352,
    "start_time": "2022-04-08T12:24:28.633Z"
   },
   {
    "duration": 3,
    "start_time": "2022-04-08T12:51:04.154Z"
   },
   {
    "duration": 373,
    "start_time": "2022-04-08T12:51:04.158Z"
   },
   {
    "duration": 9,
    "start_time": "2022-04-08T12:51:04.533Z"
   },
   {
    "duration": 27,
    "start_time": "2022-04-08T12:51:04.543Z"
   },
   {
    "duration": 36,
    "start_time": "2022-04-08T12:51:04.572Z"
   },
   {
    "duration": 23,
    "start_time": "2022-04-08T12:51:04.610Z"
   },
   {
    "duration": 9,
    "start_time": "2022-04-08T12:51:04.635Z"
   },
   {
    "duration": 25,
    "start_time": "2022-04-08T12:51:04.647Z"
   },
   {
    "duration": 73,
    "start_time": "2022-04-08T12:51:04.674Z"
   },
   {
    "duration": 9,
    "start_time": "2022-04-08T12:51:04.748Z"
   },
   {
    "duration": 19,
    "start_time": "2022-04-08T12:51:04.760Z"
   },
   {
    "duration": 55,
    "start_time": "2022-04-08T12:51:04.781Z"
   },
   {
    "duration": 9,
    "start_time": "2022-04-08T12:51:04.837Z"
   },
   {
    "duration": 8,
    "start_time": "2022-04-08T12:52:39.459Z"
   },
   {
    "duration": 8,
    "start_time": "2022-04-08T12:52:45.572Z"
   },
   {
    "duration": 8,
    "start_time": "2022-04-08T12:52:56.866Z"
   },
   {
    "duration": 10,
    "start_time": "2022-04-08T12:53:09.879Z"
   },
   {
    "duration": 10,
    "start_time": "2022-04-08T12:57:43.748Z"
   },
   {
    "duration": 11,
    "start_time": "2022-04-08T12:58:15.217Z"
   },
   {
    "duration": 10,
    "start_time": "2022-04-08T13:06:55.509Z"
   },
   {
    "duration": 7,
    "start_time": "2022-04-08T13:07:37.521Z"
   },
   {
    "duration": 189,
    "start_time": "2022-04-08T13:09:25.523Z"
   },
   {
    "duration": 106,
    "start_time": "2022-04-08T13:10:07.043Z"
   },
   {
    "duration": 205,
    "start_time": "2022-04-08T13:10:19.577Z"
   },
   {
    "duration": 2,
    "start_time": "2022-04-08T13:14:41.879Z"
   },
   {
    "duration": 379,
    "start_time": "2022-04-08T13:14:41.883Z"
   },
   {
    "duration": 8,
    "start_time": "2022-04-08T13:14:42.263Z"
   },
   {
    "duration": 24,
    "start_time": "2022-04-08T13:14:42.273Z"
   },
   {
    "duration": 31,
    "start_time": "2022-04-08T13:14:42.299Z"
   },
   {
    "duration": 20,
    "start_time": "2022-04-08T13:14:42.332Z"
   },
   {
    "duration": 8,
    "start_time": "2022-04-08T13:14:42.353Z"
   },
   {
    "duration": 21,
    "start_time": "2022-04-08T13:14:42.363Z"
   },
   {
    "duration": 67,
    "start_time": "2022-04-08T13:14:42.386Z"
   },
   {
    "duration": 7,
    "start_time": "2022-04-08T13:14:42.456Z"
   },
   {
    "duration": 22,
    "start_time": "2022-04-08T13:14:42.464Z"
   },
   {
    "duration": 49,
    "start_time": "2022-04-08T13:14:42.487Z"
   },
   {
    "duration": 8,
    "start_time": "2022-04-08T13:14:42.538Z"
   },
   {
    "duration": 10,
    "start_time": "2022-04-08T13:14:42.547Z"
   },
   {
    "duration": 10,
    "start_time": "2022-04-08T13:14:42.558Z"
   },
   {
    "duration": 9,
    "start_time": "2022-04-08T13:14:42.570Z"
   },
   {
    "duration": 29,
    "start_time": "2022-04-08T13:14:42.580Z"
   },
   {
    "duration": 10,
    "start_time": "2022-04-08T13:14:42.611Z"
   },
   {
    "duration": 191,
    "start_time": "2022-04-08T13:14:42.622Z"
   },
   {
    "duration": 2,
    "start_time": "2022-04-08T13:23:41.284Z"
   },
   {
    "duration": 10,
    "start_time": "2022-04-08T13:26:15.924Z"
   },
   {
    "duration": 20,
    "start_time": "2022-04-08T13:30:15.918Z"
   },
   {
    "duration": 10,
    "start_time": "2022-04-08T13:31:27.147Z"
   },
   {
    "duration": 249,
    "start_time": "2022-04-08T13:31:38.419Z"
   },
   {
    "duration": 4,
    "start_time": "2022-04-08T13:32:27.633Z"
   },
   {
    "duration": 28,
    "start_time": "2022-04-08T13:32:35.869Z"
   },
   {
    "duration": 21,
    "start_time": "2022-04-08T13:32:42.163Z"
   },
   {
    "duration": 22,
    "start_time": "2022-04-08T13:32:54.232Z"
   },
   {
    "duration": 26,
    "start_time": "2022-04-08T13:33:31.376Z"
   },
   {
    "duration": 24,
    "start_time": "2022-04-08T13:37:23.017Z"
   },
   {
    "duration": 24,
    "start_time": "2022-04-08T13:37:47.344Z"
   },
   {
    "duration": 23,
    "start_time": "2022-04-08T13:38:31.703Z"
   },
   {
    "duration": 24,
    "start_time": "2022-04-08T13:38:35.930Z"
   },
   {
    "duration": 22,
    "start_time": "2022-04-08T13:39:45.783Z"
   },
   {
    "duration": 23,
    "start_time": "2022-04-08T13:40:16.345Z"
   },
   {
    "duration": 22,
    "start_time": "2022-04-08T13:40:22.559Z"
   },
   {
    "duration": 94,
    "start_time": "2022-04-08T13:40:37.555Z"
   },
   {
    "duration": 22,
    "start_time": "2022-04-08T13:40:43.515Z"
   },
   {
    "duration": 22,
    "start_time": "2022-04-08T13:40:52.432Z"
   },
   {
    "duration": 10,
    "start_time": "2022-04-08T13:42:06.056Z"
   },
   {
    "duration": 10,
    "start_time": "2022-04-08T13:42:19.266Z"
   },
   {
    "duration": 46,
    "start_time": "2022-04-08T13:44:45.820Z"
   },
   {
    "duration": 50,
    "start_time": "2022-04-08T13:44:52.924Z"
   },
   {
    "duration": 4,
    "start_time": "2022-04-09T08:14:11.575Z"
   },
   {
    "duration": 5,
    "start_time": "2022-04-09T08:14:50.629Z"
   },
   {
    "duration": 942,
    "start_time": "2022-04-09T08:20:33.377Z"
   },
   {
    "duration": 69,
    "start_time": "2022-04-09T08:20:45.811Z"
   },
   {
    "duration": 30,
    "start_time": "2022-04-09T08:22:18.898Z"
   },
   {
    "duration": 1407,
    "start_time": "2022-04-09T08:23:06.450Z"
   },
   {
    "duration": 1584,
    "start_time": "2022-04-09T08:23:17.017Z"
   },
   {
    "duration": 36,
    "start_time": "2022-04-09T08:23:28.055Z"
   },
   {
    "duration": 35,
    "start_time": "2022-04-09T08:23:49.846Z"
   },
   {
    "duration": 5,
    "start_time": "2022-04-09T08:24:37.802Z"
   },
   {
    "duration": 4,
    "start_time": "2022-04-09T08:24:46.706Z"
   },
   {
    "duration": 3,
    "start_time": "2022-04-09T08:25:24.347Z"
   },
   {
    "duration": 372,
    "start_time": "2022-04-09T08:25:24.372Z"
   },
   {
    "duration": 8,
    "start_time": "2022-04-09T08:25:24.746Z"
   },
   {
    "duration": 28,
    "start_time": "2022-04-09T08:25:24.756Z"
   },
   {
    "duration": 43,
    "start_time": "2022-04-09T08:25:24.785Z"
   },
   {
    "duration": 23,
    "start_time": "2022-04-09T08:25:24.830Z"
   },
   {
    "duration": 93,
    "start_time": "2022-04-09T08:25:24.855Z"
   },
   {
    "duration": 9,
    "start_time": "2022-04-09T08:25:24.949Z"
   },
   {
    "duration": 23,
    "start_time": "2022-04-09T08:25:24.960Z"
   },
   {
    "duration": 73,
    "start_time": "2022-04-09T08:25:24.985Z"
   },
   {
    "duration": 50,
    "start_time": "2022-04-09T08:25:25.059Z"
   },
   {
    "duration": 7,
    "start_time": "2022-04-09T08:25:25.111Z"
   },
   {
    "duration": 21,
    "start_time": "2022-04-09T08:25:25.119Z"
   },
   {
    "duration": 34,
    "start_time": "2022-04-09T08:25:25.141Z"
   },
   {
    "duration": 62,
    "start_time": "2022-04-09T08:25:25.178Z"
   },
   {
    "duration": 8,
    "start_time": "2022-04-09T08:25:25.241Z"
   },
   {
    "duration": 9,
    "start_time": "2022-04-09T08:25:25.251Z"
   },
   {
    "duration": 11,
    "start_time": "2022-04-09T08:25:25.262Z"
   },
   {
    "duration": 40,
    "start_time": "2022-04-09T08:25:25.275Z"
   },
   {
    "duration": 12,
    "start_time": "2022-04-09T08:25:25.317Z"
   },
   {
    "duration": 12,
    "start_time": "2022-04-09T08:25:25.330Z"
   },
   {
    "duration": 6,
    "start_time": "2022-04-09T08:25:25.343Z"
   },
   {
    "duration": 197,
    "start_time": "2022-04-09T08:25:25.350Z"
   },
   {
    "duration": 8,
    "start_time": "2022-04-09T08:25:25.549Z"
   },
   {
    "duration": 80,
    "start_time": "2022-04-09T08:25:25.558Z"
   },
   {
    "duration": 8,
    "start_time": "2022-04-09T10:37:49.945Z"
   },
   {
    "duration": 28,
    "start_time": "2022-04-09T10:39:46.426Z"
   },
   {
    "duration": 39,
    "start_time": "2022-04-09T10:39:56.347Z"
   },
   {
    "duration": 29,
    "start_time": "2022-04-09T10:45:07.920Z"
   },
   {
    "duration": 37,
    "start_time": "2022-04-09T10:45:21.935Z"
   },
   {
    "duration": 36,
    "start_time": "2022-04-09T10:45:31.555Z"
   },
   {
    "duration": 42,
    "start_time": "2022-04-09T10:54:43.931Z"
   },
   {
    "duration": 10,
    "start_time": "2022-04-09T11:03:12.154Z"
   },
   {
    "duration": 11,
    "start_time": "2022-04-09T11:13:40.804Z"
   },
   {
    "duration": 11,
    "start_time": "2022-04-09T11:13:51.383Z"
   },
   {
    "duration": 24,
    "start_time": "2022-04-09T11:14:38.168Z"
   },
   {
    "duration": 15,
    "start_time": "2022-04-09T11:15:58.961Z"
   },
   {
    "duration": 16,
    "start_time": "2022-04-09T11:16:08.371Z"
   },
   {
    "duration": 15,
    "start_time": "2022-04-09T11:16:13.217Z"
   },
   {
    "duration": 16,
    "start_time": "2022-04-09T11:16:25.251Z"
   },
   {
    "duration": 13,
    "start_time": "2022-04-09T11:16:41.256Z"
   },
   {
    "duration": 3,
    "start_time": "2022-04-09T11:16:49.663Z"
   },
   {
    "duration": 384,
    "start_time": "2022-04-09T11:16:49.668Z"
   },
   {
    "duration": 9,
    "start_time": "2022-04-09T11:16:50.054Z"
   },
   {
    "duration": 28,
    "start_time": "2022-04-09T11:16:50.065Z"
   },
   {
    "duration": 39,
    "start_time": "2022-04-09T11:16:50.095Z"
   },
   {
    "duration": 22,
    "start_time": "2022-04-09T11:16:50.136Z"
   },
   {
    "duration": 84,
    "start_time": "2022-04-09T11:16:50.159Z"
   },
   {
    "duration": 8,
    "start_time": "2022-04-09T11:16:50.244Z"
   },
   {
    "duration": 23,
    "start_time": "2022-04-09T11:16:50.254Z"
   },
   {
    "duration": 70,
    "start_time": "2022-04-09T11:16:50.279Z"
   },
   {
    "duration": 32,
    "start_time": "2022-04-09T11:16:50.351Z"
   },
   {
    "duration": 8,
    "start_time": "2022-04-09T11:16:50.409Z"
   },
   {
    "duration": 20,
    "start_time": "2022-04-09T11:16:50.420Z"
   },
   {
    "duration": 37,
    "start_time": "2022-04-09T11:16:50.442Z"
   },
   {
    "duration": 65,
    "start_time": "2022-04-09T11:16:50.481Z"
   },
   {
    "duration": 8,
    "start_time": "2022-04-09T11:16:50.548Z"
   },
   {
    "duration": 10,
    "start_time": "2022-04-09T11:16:50.557Z"
   },
   {
    "duration": 42,
    "start_time": "2022-04-09T11:16:50.569Z"
   },
   {
    "duration": 14,
    "start_time": "2022-04-09T11:16:50.613Z"
   },
   {
    "duration": 11,
    "start_time": "2022-04-09T11:16:50.629Z"
   },
   {
    "duration": 10,
    "start_time": "2022-04-09T11:16:50.641Z"
   },
   {
    "duration": 4,
    "start_time": "2022-04-09T11:16:50.653Z"
   },
   {
    "duration": 251,
    "start_time": "2022-04-09T11:16:50.659Z"
   },
   {
    "duration": 9,
    "start_time": "2022-04-09T11:16:50.911Z"
   },
   {
    "duration": 59,
    "start_time": "2022-04-09T11:16:50.922Z"
   },
   {
    "duration": 63,
    "start_time": "2022-04-09T11:16:50.982Z"
   },
   {
    "duration": 40,
    "start_time": "2022-04-09T11:16:51.047Z"
   },
   {
    "duration": 35,
    "start_time": "2022-04-09T11:16:51.109Z"
   },
   {
    "duration": 8,
    "start_time": "2022-04-09T11:16:51.145Z"
   },
   {
    "duration": 26,
    "start_time": "2022-04-09T11:16:51.154Z"
   },
   {
    "duration": 25,
    "start_time": "2022-04-09T11:17:57.805Z"
   },
   {
    "duration": 25,
    "start_time": "2022-04-09T11:18:31.192Z"
   },
   {
    "duration": 7,
    "start_time": "2022-04-09T11:18:56.279Z"
   },
   {
    "duration": 28,
    "start_time": "2022-04-09T11:20:36.671Z"
   },
   {
    "duration": 28,
    "start_time": "2022-04-09T11:21:26.056Z"
   },
   {
    "duration": 21,
    "start_time": "2022-04-09T11:22:30.414Z"
   },
   {
    "duration": 3,
    "start_time": "2022-04-09T11:22:42.935Z"
   },
   {
    "duration": 373,
    "start_time": "2022-04-09T11:22:42.940Z"
   },
   {
    "duration": 8,
    "start_time": "2022-04-09T11:22:43.315Z"
   },
   {
    "duration": 27,
    "start_time": "2022-04-09T11:22:43.325Z"
   },
   {
    "duration": 64,
    "start_time": "2022-04-09T11:22:43.355Z"
   },
   {
    "duration": 23,
    "start_time": "2022-04-09T11:22:43.421Z"
   },
   {
    "duration": 90,
    "start_time": "2022-04-09T11:22:43.446Z"
   },
   {
    "duration": 10,
    "start_time": "2022-04-09T11:22:43.537Z"
   },
   {
    "duration": 23,
    "start_time": "2022-04-09T11:22:43.548Z"
   },
   {
    "duration": 77,
    "start_time": "2022-04-09T11:22:43.572Z"
   },
   {
    "duration": 33,
    "start_time": "2022-04-09T11:22:43.652Z"
   },
   {
    "duration": 8,
    "start_time": "2022-04-09T11:22:43.709Z"
   },
   {
    "duration": 23,
    "start_time": "2022-04-09T11:22:43.719Z"
   },
   {
    "duration": 72,
    "start_time": "2022-04-09T11:22:43.744Z"
   },
   {
    "duration": 36,
    "start_time": "2022-04-09T11:22:43.817Z"
   },
   {
    "duration": 8,
    "start_time": "2022-04-09T11:22:43.855Z"
   },
   {
    "duration": 10,
    "start_time": "2022-04-09T11:22:43.865Z"
   },
   {
    "duration": 42,
    "start_time": "2022-04-09T11:22:43.877Z"
   },
   {
    "duration": 12,
    "start_time": "2022-04-09T11:22:43.921Z"
   },
   {
    "duration": 12,
    "start_time": "2022-04-09T11:22:43.935Z"
   },
   {
    "duration": 13,
    "start_time": "2022-04-09T11:22:43.949Z"
   },
   {
    "duration": 4,
    "start_time": "2022-04-09T11:22:43.964Z"
   },
   {
    "duration": 280,
    "start_time": "2022-04-09T11:22:43.970Z"
   },
   {
    "duration": 11,
    "start_time": "2022-04-09T11:22:44.252Z"
   },
   {
    "duration": 86,
    "start_time": "2022-04-09T11:22:44.265Z"
   },
   {
    "duration": 60,
    "start_time": "2022-04-09T11:22:44.353Z"
   },
   {
    "duration": 45,
    "start_time": "2022-04-09T11:22:44.415Z"
   },
   {
    "duration": 60,
    "start_time": "2022-04-09T11:22:44.463Z"
   },
   {
    "duration": 9,
    "start_time": "2022-04-09T11:22:44.526Z"
   },
   {
    "duration": 21,
    "start_time": "2022-04-09T11:22:44.537Z"
   },
   {
    "duration": 32,
    "start_time": "2022-04-09T11:22:44.561Z"
   },
   {
    "duration": 19,
    "start_time": "2022-04-09T11:22:44.609Z"
   },
   {
    "duration": 11,
    "start_time": "2022-04-09T11:30:25.337Z"
   },
   {
    "duration": 11,
    "start_time": "2022-04-09T11:31:15.508Z"
   },
   {
    "duration": 17,
    "start_time": "2022-04-09T11:37:39.600Z"
   },
   {
    "duration": 20,
    "start_time": "2022-04-09T11:37:54.631Z"
   },
   {
    "duration": 95,
    "start_time": "2022-04-09T13:08:10.610Z"
   },
   {
    "duration": 103,
    "start_time": "2022-04-09T13:08:45.798Z"
   },
   {
    "duration": 95,
    "start_time": "2022-04-09T13:09:14.215Z"
   },
   {
    "duration": 5,
    "start_time": "2022-04-09T13:10:35.293Z"
   },
   {
    "duration": 17,
    "start_time": "2022-04-09T13:11:41.492Z"
   },
   {
    "duration": 4,
    "start_time": "2022-04-09T13:13:49.261Z"
   },
   {
    "duration": 1722,
    "start_time": "2022-04-09T13:14:28.429Z"
   },
   {
    "duration": 21,
    "start_time": "2022-04-09T13:14:45.317Z"
   },
   {
    "duration": 105,
    "start_time": "2022-04-09T13:17:20.304Z"
   },
   {
    "duration": 98,
    "start_time": "2022-04-09T13:17:39.467Z"
   },
   {
    "duration": 4,
    "start_time": "2022-04-09T13:17:51.554Z"
   },
   {
    "duration": 1478,
    "start_time": "2022-04-09T13:17:59.469Z"
   },
   {
    "duration": 3,
    "start_time": "2022-04-09T13:18:51.369Z"
   },
   {
    "duration": 22,
    "start_time": "2022-04-09T13:18:56.056Z"
   },
   {
    "duration": 87,
    "start_time": "2022-04-09T13:19:06.373Z"
   },
   {
    "duration": 4,
    "start_time": "2022-04-09T13:19:15.076Z"
   },
   {
    "duration": 25,
    "start_time": "2022-04-09T13:19:17.869Z"
   },
   {
    "duration": 38,
    "start_time": "2022-04-09T13:21:31.161Z"
   },
   {
    "duration": 3,
    "start_time": "2022-04-09T13:22:13.135Z"
   },
   {
    "duration": 22,
    "start_time": "2022-04-09T13:22:27.427Z"
   },
   {
    "duration": 3,
    "start_time": "2022-04-09T13:24:10.044Z"
   },
   {
    "duration": 3,
    "start_time": "2022-04-09T13:24:26.638Z"
   },
   {
    "duration": 25,
    "start_time": "2022-04-09T13:24:29.051Z"
   },
   {
    "duration": 4,
    "start_time": "2022-04-09T13:26:10.280Z"
   },
   {
    "duration": 31,
    "start_time": "2022-04-09T13:26:12.528Z"
   },
   {
    "duration": 27,
    "start_time": "2022-04-09T13:26:42.546Z"
   },
   {
    "duration": 31,
    "start_time": "2022-04-09T13:26:46.954Z"
   },
   {
    "duration": 23,
    "start_time": "2022-04-09T13:30:05.613Z"
   },
   {
    "duration": 134,
    "start_time": "2022-04-09T13:32:09.969Z"
   },
   {
    "duration": 151,
    "start_time": "2022-04-09T13:32:17.111Z"
   },
   {
    "duration": 3,
    "start_time": "2022-04-09T13:34:01.866Z"
   },
   {
    "duration": 22,
    "start_time": "2022-04-09T13:34:04.921Z"
   },
   {
    "duration": 3,
    "start_time": "2022-04-09T13:34:10.532Z"
   },
   {
    "duration": 9,
    "start_time": "2022-04-09T13:36:12.428Z"
   },
   {
    "duration": 21,
    "start_time": "2022-04-09T13:36:15.375Z"
   },
   {
    "duration": 113,
    "start_time": "2022-04-09T13:36:19.054Z"
   },
   {
    "duration": 3,
    "start_time": "2022-04-09T13:37:26.827Z"
   },
   {
    "duration": 3,
    "start_time": "2022-04-09T13:37:33.591Z"
   },
   {
    "duration": 4,
    "start_time": "2022-04-09T13:37:35.810Z"
   },
   {
    "duration": 10,
    "start_time": "2022-04-09T13:37:38.888Z"
   },
   {
    "duration": 19,
    "start_time": "2022-04-09T13:37:40.981Z"
   },
   {
    "duration": 34,
    "start_time": "2022-04-09T13:38:12.989Z"
   },
   {
    "duration": 29,
    "start_time": "2022-04-09T13:38:20.844Z"
   },
   {
    "duration": 28,
    "start_time": "2022-04-09T13:38:28.753Z"
   },
   {
    "duration": 3,
    "start_time": "2022-04-09T13:41:56.931Z"
   },
   {
    "duration": 3,
    "start_time": "2022-04-09T13:41:58.749Z"
   },
   {
    "duration": 3,
    "start_time": "2022-04-09T13:42:00.993Z"
   },
   {
    "duration": 8,
    "start_time": "2022-04-09T13:42:02.799Z"
   },
   {
    "duration": 20,
    "start_time": "2022-04-09T13:42:04.868Z"
   },
   {
    "duration": 118,
    "start_time": "2022-04-09T13:42:14.595Z"
   },
   {
    "duration": 117,
    "start_time": "2022-04-09T13:47:11.306Z"
   },
   {
    "duration": 116,
    "start_time": "2022-04-09T13:48:55.994Z"
   },
   {
    "duration": 4,
    "start_time": "2022-04-09T13:56:17.392Z"
   },
   {
    "duration": 3,
    "start_time": "2022-04-09T13:56:37.217Z"
   },
   {
    "duration": 118,
    "start_time": "2022-04-09T13:56:46.399Z"
   },
   {
    "duration": 97,
    "start_time": "2022-04-09T14:10:37.418Z"
   },
   {
    "duration": 6,
    "start_time": "2022-04-09T14:10:59.359Z"
   },
   {
    "duration": 3,
    "start_time": "2022-04-09T14:11:20.540Z"
   },
   {
    "duration": 4,
    "start_time": "2022-04-09T14:11:23.520Z"
   },
   {
    "duration": 374,
    "start_time": "2022-04-09T14:11:26.133Z"
   },
   {
    "duration": 3,
    "start_time": "2022-04-09T14:11:29.309Z"
   },
   {
    "duration": 3,
    "start_time": "2022-04-09T14:11:31.597Z"
   },
   {
    "duration": 3,
    "start_time": "2022-04-09T14:11:36.203Z"
   },
   {
    "duration": 12,
    "start_time": "2022-04-09T14:12:01.008Z"
   },
   {
    "duration": 8,
    "start_time": "2022-04-09T14:12:10.886Z"
   },
   {
    "duration": 13,
    "start_time": "2022-04-09T14:14:52.549Z"
   },
   {
    "duration": 11,
    "start_time": "2022-04-09T14:15:17.447Z"
   },
   {
    "duration": 8,
    "start_time": "2022-04-09T14:15:35.412Z"
   },
   {
    "duration": 9,
    "start_time": "2022-04-09T14:19:11.525Z"
   },
   {
    "duration": 14,
    "start_time": "2022-04-09T14:19:19.873Z"
   },
   {
    "duration": 17,
    "start_time": "2022-04-09T14:19:29.212Z"
   },
   {
    "duration": 60,
    "start_time": "2022-04-09T14:19:39.202Z"
   },
   {
    "duration": 16,
    "start_time": "2022-04-09T14:21:13.542Z"
   },
   {
    "duration": 15,
    "start_time": "2022-04-09T14:21:31.373Z"
   },
   {
    "duration": 17,
    "start_time": "2022-04-09T14:21:41.202Z"
   },
   {
    "duration": 25,
    "start_time": "2022-04-09T14:21:52.740Z"
   },
   {
    "duration": 29,
    "start_time": "2022-04-09T14:22:00.905Z"
   },
   {
    "duration": 13,
    "start_time": "2022-04-09T14:22:34.728Z"
   },
   {
    "duration": 18,
    "start_time": "2022-04-09T14:22:48.496Z"
   },
   {
    "duration": 28,
    "start_time": "2022-04-09T14:22:54.833Z"
   },
   {
    "duration": 4,
    "start_time": "2022-04-09T14:24:08.162Z"
   },
   {
    "duration": 118,
    "start_time": "2022-04-09T14:24:32.257Z"
   },
   {
    "duration": 8,
    "start_time": "2022-04-09T14:24:38.475Z"
   },
   {
    "duration": 8,
    "start_time": "2022-04-09T14:24:48.542Z"
   },
   {
    "duration": 22,
    "start_time": "2022-04-09T14:24:56.686Z"
   },
   {
    "duration": 37,
    "start_time": "2022-04-09T14:25:01.428Z"
   },
   {
    "duration": 26,
    "start_time": "2022-04-09T14:25:21.661Z"
   },
   {
    "duration": 28,
    "start_time": "2022-04-09T14:25:27.877Z"
   },
   {
    "duration": 6,
    "start_time": "2022-04-09T14:26:53.376Z"
   },
   {
    "duration": 21,
    "start_time": "2022-04-09T14:28:49.680Z"
   },
   {
    "duration": 15,
    "start_time": "2022-04-09T14:28:57.278Z"
   },
   {
    "duration": 15,
    "start_time": "2022-04-09T14:29:08.538Z"
   },
   {
    "duration": 16,
    "start_time": "2022-04-09T14:29:17.364Z"
   },
   {
    "duration": 13,
    "start_time": "2022-04-09T14:29:22.395Z"
   },
   {
    "duration": 4,
    "start_time": "2022-04-09T14:36:02.999Z"
   },
   {
    "duration": 27,
    "start_time": "2022-04-09T14:36:52.740Z"
   },
   {
    "duration": 117,
    "start_time": "2022-04-09T14:42:11.595Z"
   },
   {
    "duration": 86,
    "start_time": "2022-04-09T14:42:39.685Z"
   },
   {
    "duration": 7,
    "start_time": "2022-04-09T14:43:08.709Z"
   },
   {
    "duration": 59,
    "start_time": "2022-04-09T14:44:19.975Z"
   },
   {
    "duration": 8,
    "start_time": "2022-04-09T14:45:11.590Z"
   },
   {
    "duration": 18,
    "start_time": "2022-04-09T14:45:16.009Z"
   },
   {
    "duration": 16,
    "start_time": "2022-04-09T14:46:04.196Z"
   },
   {
    "duration": 4,
    "start_time": "2022-04-09T14:47:27.555Z"
   },
   {
    "duration": 21,
    "start_time": "2022-04-09T14:47:29.943Z"
   },
   {
    "duration": 7,
    "start_time": "2022-04-09T14:47:36.207Z"
   },
   {
    "duration": 68,
    "start_time": "2022-04-09T14:47:38.737Z"
   },
   {
    "duration": 17,
    "start_time": "2022-04-09T14:48:00.791Z"
   },
   {
    "duration": 19,
    "start_time": "2022-04-09T14:48:29.034Z"
   },
   {
    "duration": 8,
    "start_time": "2022-04-09T14:48:29.056Z"
   },
   {
    "duration": 22,
    "start_time": "2022-04-09T14:48:29.066Z"
   },
   {
    "duration": 18,
    "start_time": "2022-04-09T14:48:47.215Z"
   },
   {
    "duration": 18,
    "start_time": "2022-04-09T14:48:59.038Z"
   },
   {
    "duration": 3,
    "start_time": "2022-04-09T14:49:07.681Z"
   },
   {
    "duration": 22,
    "start_time": "2022-04-09T14:49:10.102Z"
   },
   {
    "duration": 12,
    "start_time": "2022-04-09T14:49:19.177Z"
   },
   {
    "duration": 20,
    "start_time": "2022-04-09T14:49:32.646Z"
   },
   {
    "duration": 61,
    "start_time": "2022-04-09T14:49:53.471Z"
   },
   {
    "duration": 4,
    "start_time": "2022-04-09T14:50:49.782Z"
   },
   {
    "duration": 17,
    "start_time": "2022-04-09T14:50:52.267Z"
   },
   {
    "duration": 4,
    "start_time": "2022-04-09T14:51:24.646Z"
   },
   {
    "duration": 18,
    "start_time": "2022-04-09T14:51:27.278Z"
   },
   {
    "duration": 3,
    "start_time": "2022-04-09T14:51:37.512Z"
   },
   {
    "duration": 20,
    "start_time": "2022-04-09T14:51:39.840Z"
   },
   {
    "duration": 4,
    "start_time": "2022-04-09T14:52:01.254Z"
   },
   {
    "duration": 68,
    "start_time": "2022-04-09T14:52:07.622Z"
   },
   {
    "duration": 3,
    "start_time": "2022-04-09T14:52:39.510Z"
   },
   {
    "duration": 140,
    "start_time": "2022-04-09T14:52:59.046Z"
   },
   {
    "duration": 5,
    "start_time": "2022-04-09T14:53:11.806Z"
   },
   {
    "duration": 3,
    "start_time": "2022-04-09T14:53:49.226Z"
   },
   {
    "duration": 60,
    "start_time": "2022-04-09T14:53:54.476Z"
   },
   {
    "duration": 4,
    "start_time": "2022-04-09T14:55:40.566Z"
   },
   {
    "duration": 21,
    "start_time": "2022-04-09T14:55:43.509Z"
   },
   {
    "duration": 19,
    "start_time": "2022-04-09T14:56:11.920Z"
   },
   {
    "duration": 4,
    "start_time": "2022-04-09T14:56:11.940Z"
   },
   {
    "duration": 19,
    "start_time": "2022-04-09T14:56:11.946Z"
   },
   {
    "duration": 0,
    "start_time": "2022-04-09T14:56:11.967Z"
   },
   {
    "duration": 4,
    "start_time": "2022-04-09T14:56:30.005Z"
   },
   {
    "duration": 416,
    "start_time": "2022-04-09T14:56:30.011Z"
   },
   {
    "duration": 8,
    "start_time": "2022-04-09T14:56:30.429Z"
   },
   {
    "duration": 38,
    "start_time": "2022-04-09T14:56:30.439Z"
   },
   {
    "duration": 42,
    "start_time": "2022-04-09T14:56:30.479Z"
   },
   {
    "duration": 22,
    "start_time": "2022-04-09T14:56:30.523Z"
   },
   {
    "duration": 92,
    "start_time": "2022-04-09T14:56:30.546Z"
   },
   {
    "duration": 9,
    "start_time": "2022-04-09T14:56:30.639Z"
   },
   {
    "duration": 23,
    "start_time": "2022-04-09T14:56:30.650Z"
   },
   {
    "duration": 76,
    "start_time": "2022-04-09T14:56:30.675Z"
   },
   {
    "duration": 31,
    "start_time": "2022-04-09T14:56:30.754Z"
   },
   {
    "duration": 29,
    "start_time": "2022-04-09T14:56:30.788Z"
   },
   {
    "duration": 30,
    "start_time": "2022-04-09T14:56:30.819Z"
   },
   {
    "duration": 38,
    "start_time": "2022-04-09T14:56:30.851Z"
   },
   {
    "duration": 62,
    "start_time": "2022-04-09T14:56:30.891Z"
   },
   {
    "duration": 8,
    "start_time": "2022-04-09T14:56:30.955Z"
   },
   {
    "duration": 13,
    "start_time": "2022-04-09T14:56:30.965Z"
   },
   {
    "duration": 13,
    "start_time": "2022-04-09T14:56:30.979Z"
   },
   {
    "duration": 15,
    "start_time": "2022-04-09T14:56:31.009Z"
   },
   {
    "duration": 10,
    "start_time": "2022-04-09T14:56:31.025Z"
   },
   {
    "duration": 12,
    "start_time": "2022-04-09T14:56:31.037Z"
   },
   {
    "duration": 6,
    "start_time": "2022-04-09T14:56:31.051Z"
   },
   {
    "duration": 260,
    "start_time": "2022-04-09T14:56:31.058Z"
   },
   {
    "duration": 10,
    "start_time": "2022-04-09T14:56:31.320Z"
   },
   {
    "duration": 63,
    "start_time": "2022-04-09T14:56:31.332Z"
   },
   {
    "duration": 34,
    "start_time": "2022-04-09T14:56:31.411Z"
   },
   {
    "duration": 27,
    "start_time": "2022-04-09T14:56:31.447Z"
   },
   {
    "duration": 3,
    "start_time": "2022-04-09T14:56:31.476Z"
   },
   {
    "duration": 60,
    "start_time": "2022-04-09T14:56:31.481Z"
   },
   {
    "duration": 6,
    "start_time": "2022-04-09T14:56:31.542Z"
   },
   {
    "duration": 6,
    "start_time": "2022-04-09T14:56:50.046Z"
   },
   {
    "duration": 20,
    "start_time": "2022-04-09T14:56:57.211Z"
   },
   {
    "duration": 4,
    "start_time": "2022-04-09T14:57:04.967Z"
   },
   {
    "duration": 21,
    "start_time": "2022-04-09T14:57:09.071Z"
   },
   {
    "duration": 4,
    "start_time": "2022-04-09T14:57:23.811Z"
   },
   {
    "duration": 61,
    "start_time": "2022-04-09T14:57:27.840Z"
   },
   {
    "duration": 4,
    "start_time": "2022-04-09T15:00:20.804Z"
   },
   {
    "duration": 3,
    "start_time": "2022-04-09T15:00:27.005Z"
   },
   {
    "duration": 4,
    "start_time": "2022-04-09T15:00:32.705Z"
   },
   {
    "duration": 59,
    "start_time": "2022-04-09T15:00:34.802Z"
   },
   {
    "duration": 3,
    "start_time": "2022-04-09T15:01:40.469Z"
   },
   {
    "duration": 17,
    "start_time": "2022-04-09T15:01:42.787Z"
   },
   {
    "duration": 3,
    "start_time": "2022-04-09T15:01:53.028Z"
   },
   {
    "duration": 17,
    "start_time": "2022-04-09T15:01:55.108Z"
   },
   {
    "duration": 4,
    "start_time": "2022-04-09T15:02:16.719Z"
   },
   {
    "duration": 21,
    "start_time": "2022-04-09T15:02:23.514Z"
   },
   {
    "duration": 4,
    "start_time": "2022-04-09T15:02:26.699Z"
   },
   {
    "duration": 54,
    "start_time": "2022-04-09T15:02:28.865Z"
   },
   {
    "duration": 5,
    "start_time": "2022-04-09T15:04:01.451Z"
   },
   {
    "duration": 17,
    "start_time": "2022-04-09T15:04:04.388Z"
   },
   {
    "duration": 4,
    "start_time": "2022-04-09T15:04:23.084Z"
   },
   {
    "duration": 15,
    "start_time": "2022-04-09T15:04:25.772Z"
   },
   {
    "duration": 3,
    "start_time": "2022-04-09T15:04:29.610Z"
   },
   {
    "duration": 4,
    "start_time": "2022-04-09T15:04:32.366Z"
   },
   {
    "duration": 60,
    "start_time": "2022-04-09T15:04:34.890Z"
   },
   {
    "duration": 3,
    "start_time": "2022-04-09T15:06:05.236Z"
   },
   {
    "duration": 4,
    "start_time": "2022-04-09T15:06:08.035Z"
   },
   {
    "duration": 1222,
    "start_time": "2022-04-09T15:06:10.042Z"
   },
   {
    "duration": 57,
    "start_time": "2022-04-09T15:06:26.524Z"
   },
   {
    "duration": 9,
    "start_time": "2022-04-09T15:08:58.977Z"
   },
   {
    "duration": 12,
    "start_time": "2022-04-09T15:09:07.332Z"
   },
   {
    "duration": 87,
    "start_time": "2022-04-09T15:25:49.903Z"
   },
   {
    "duration": 3,
    "start_time": "2022-04-09T15:26:08.492Z"
   },
   {
    "duration": 3,
    "start_time": "2022-04-09T15:26:13.485Z"
   },
   {
    "duration": 57,
    "start_time": "2022-04-09T15:26:16.427Z"
   },
   {
    "duration": 94,
    "start_time": "2022-04-09T15:26:37.069Z"
   },
   {
    "duration": 8,
    "start_time": "2022-04-09T15:28:15.861Z"
   },
   {
    "duration": 19,
    "start_time": "2022-04-09T15:28:20.740Z"
   },
   {
    "duration": 3,
    "start_time": "2022-04-09T15:28:43.720Z"
   },
   {
    "duration": 4,
    "start_time": "2022-04-09T15:28:48.258Z"
   },
   {
    "duration": 56,
    "start_time": "2022-04-09T15:28:54.575Z"
   },
   {
    "duration": 4,
    "start_time": "2022-04-09T15:29:51.142Z"
   },
   {
    "duration": 63,
    "start_time": "2022-04-09T15:29:57.149Z"
   },
   {
    "duration": 4,
    "start_time": "2022-04-09T15:30:52.410Z"
   },
   {
    "duration": 58,
    "start_time": "2022-04-09T15:30:58.453Z"
   },
   {
    "duration": 4,
    "start_time": "2022-04-09T15:31:49.740Z"
   },
   {
    "duration": 61,
    "start_time": "2022-04-09T15:31:53.505Z"
   },
   {
    "duration": 3,
    "start_time": "2022-04-09T15:32:37.461Z"
   },
   {
    "duration": 57,
    "start_time": "2022-04-09T15:32:43.528Z"
   },
   {
    "duration": 3,
    "start_time": "2022-04-09T15:33:54.259Z"
   },
   {
    "duration": 4,
    "start_time": "2022-04-09T15:33:54.267Z"
   },
   {
    "duration": 4,
    "start_time": "2022-04-09T15:33:54.273Z"
   },
   {
    "duration": 6,
    "start_time": "2022-04-09T15:33:54.279Z"
   },
   {
    "duration": 54,
    "start_time": "2022-04-09T15:33:54.287Z"
   },
   {
    "duration": 3,
    "start_time": "2022-04-09T15:34:06.412Z"
   },
   {
    "duration": 375,
    "start_time": "2022-04-09T15:34:06.417Z"
   },
   {
    "duration": 8,
    "start_time": "2022-04-09T15:34:06.794Z"
   },
   {
    "duration": 26,
    "start_time": "2022-04-09T15:34:06.804Z"
   },
   {
    "duration": 34,
    "start_time": "2022-04-09T15:34:06.832Z"
   },
   {
    "duration": 22,
    "start_time": "2022-04-09T15:34:06.868Z"
   },
   {
    "duration": 69,
    "start_time": "2022-04-09T15:34:06.908Z"
   },
   {
    "duration": 10,
    "start_time": "2022-04-09T15:34:06.979Z"
   },
   {
    "duration": 39,
    "start_time": "2022-04-09T15:34:06.991Z"
   },
   {
    "duration": 52,
    "start_time": "2022-04-09T15:34:07.032Z"
   },
   {
    "duration": 29,
    "start_time": "2022-04-09T15:34:07.111Z"
   },
   {
    "duration": 8,
    "start_time": "2022-04-09T15:34:07.142Z"
   },
   {
    "duration": 20,
    "start_time": "2022-04-09T15:34:07.151Z"
   },
   {
    "duration": 64,
    "start_time": "2022-04-09T15:34:07.173Z"
   },
   {
    "duration": 36,
    "start_time": "2022-04-09T15:34:07.239Z"
   },
   {
    "duration": 8,
    "start_time": "2022-04-09T15:34:07.277Z"
   },
   {
    "duration": 24,
    "start_time": "2022-04-09T15:34:07.286Z"
   },
   {
    "duration": 12,
    "start_time": "2022-04-09T15:34:07.311Z"
   },
   {
    "duration": 10,
    "start_time": "2022-04-09T15:34:07.325Z"
   },
   {
    "duration": 11,
    "start_time": "2022-04-09T15:34:07.337Z"
   },
   {
    "duration": 10,
    "start_time": "2022-04-09T15:34:07.350Z"
   },
   {
    "duration": 4,
    "start_time": "2022-04-09T15:34:07.361Z"
   },
   {
    "duration": 242,
    "start_time": "2022-04-09T15:34:07.367Z"
   },
   {
    "duration": 8,
    "start_time": "2022-04-09T15:34:07.611Z"
   },
   {
    "duration": 57,
    "start_time": "2022-04-09T15:34:07.621Z"
   },
   {
    "duration": 59,
    "start_time": "2022-04-09T15:34:07.679Z"
   },
   {
    "duration": 26,
    "start_time": "2022-04-09T15:34:07.740Z"
   },
   {
    "duration": 3,
    "start_time": "2022-04-09T15:34:07.768Z"
   },
   {
    "duration": 54,
    "start_time": "2022-04-09T15:34:07.774Z"
   },
   {
    "duration": 6,
    "start_time": "2022-04-09T15:34:07.829Z"
   },
   {
    "duration": 16,
    "start_time": "2022-04-09T15:34:07.836Z"
   },
   {
    "duration": 4,
    "start_time": "2022-04-09T15:34:11.505Z"
   },
   {
    "duration": 4,
    "start_time": "2022-04-09T15:34:13.935Z"
   },
   {
    "duration": 4,
    "start_time": "2022-04-09T15:34:16.388Z"
   },
   {
    "duration": 4,
    "start_time": "2022-04-09T15:34:18.432Z"
   },
   {
    "duration": 126,
    "start_time": "2022-04-09T15:34:32.704Z"
   },
   {
    "duration": 9,
    "start_time": "2022-04-09T15:41:50.531Z"
   },
   {
    "duration": 20,
    "start_time": "2022-04-09T15:42:33.249Z"
   },
   {
    "duration": 18,
    "start_time": "2022-04-09T15:42:37.824Z"
   },
   {
    "duration": 6,
    "start_time": "2022-04-09T15:56:10.320Z"
   },
   {
    "duration": 25,
    "start_time": "2022-04-09T15:58:38.845Z"
   },
   {
    "duration": 12,
    "start_time": "2022-04-09T15:59:46.541Z"
   },
   {
    "duration": 26,
    "start_time": "2022-04-09T16:01:42.204Z"
   },
   {
    "duration": 26,
    "start_time": "2022-04-09T16:01:45.581Z"
   },
   {
    "duration": 6,
    "start_time": "2022-04-09T16:01:57.591Z"
   },
   {
    "duration": 11,
    "start_time": "2022-04-09T16:03:13.768Z"
   },
   {
    "duration": 13,
    "start_time": "2022-04-09T16:06:04.113Z"
   },
   {
    "duration": 20,
    "start_time": "2022-04-09T16:06:11.977Z"
   },
   {
    "duration": 24,
    "start_time": "2022-04-09T16:06:36.461Z"
   },
   {
    "duration": 15,
    "start_time": "2022-04-09T16:09:41.719Z"
   },
   {
    "duration": 3,
    "start_time": "2022-04-09T16:13:46.084Z"
   },
   {
    "duration": 3,
    "start_time": "2022-04-09T16:14:10.202Z"
   },
   {
    "duration": 5,
    "start_time": "2022-04-09T16:15:01.823Z"
   },
   {
    "duration": 23,
    "start_time": "2022-04-09T16:15:16.760Z"
   },
   {
    "duration": 15,
    "start_time": "2022-04-09T16:16:03.908Z"
   },
   {
    "duration": 9,
    "start_time": "2022-04-09T16:20:46.687Z"
   },
   {
    "duration": 9,
    "start_time": "2022-04-09T16:22:11.614Z"
   },
   {
    "duration": 5,
    "start_time": "2022-04-09T16:22:32.259Z"
   },
   {
    "duration": 7,
    "start_time": "2022-04-09T16:24:00.957Z"
   },
   {
    "duration": 5,
    "start_time": "2022-04-09T16:24:19.153Z"
   },
   {
    "duration": 5,
    "start_time": "2022-04-09T17:24:39.708Z"
   },
   {
    "duration": 3,
    "start_time": "2022-04-09T17:29:43.041Z"
   },
   {
    "duration": 9,
    "start_time": "2022-04-09T17:36:07.390Z"
   },
   {
    "duration": 14,
    "start_time": "2022-04-09T17:36:18.602Z"
   },
   {
    "duration": 8,
    "start_time": "2022-04-09T17:37:31.185Z"
   },
   {
    "duration": 106,
    "start_time": "2022-04-09T17:37:48.682Z"
   },
   {
    "duration": 5,
    "start_time": "2022-04-09T17:39:17.720Z"
   },
   {
    "duration": 5,
    "start_time": "2022-04-09T17:40:14.737Z"
   },
   {
    "duration": 5,
    "start_time": "2022-04-09T17:40:34.527Z"
   },
   {
    "duration": 3,
    "start_time": "2022-04-09T17:43:29.673Z"
   },
   {
    "duration": 402,
    "start_time": "2022-04-09T17:43:29.677Z"
   },
   {
    "duration": 9,
    "start_time": "2022-04-09T17:43:30.081Z"
   },
   {
    "duration": 31,
    "start_time": "2022-04-09T17:43:30.092Z"
   },
   {
    "duration": 36,
    "start_time": "2022-04-09T17:43:30.125Z"
   },
   {
    "duration": 22,
    "start_time": "2022-04-09T17:43:30.163Z"
   },
   {
    "duration": 83,
    "start_time": "2022-04-09T17:43:30.187Z"
   },
   {
    "duration": 9,
    "start_time": "2022-04-09T17:43:30.271Z"
   },
   {
    "duration": 50,
    "start_time": "2022-04-09T17:43:30.282Z"
   },
   {
    "duration": 48,
    "start_time": "2022-04-09T17:43:30.334Z"
   },
   {
    "duration": 38,
    "start_time": "2022-04-09T17:43:30.386Z"
   },
   {
    "duration": 7,
    "start_time": "2022-04-09T17:43:30.426Z"
   },
   {
    "duration": 20,
    "start_time": "2022-04-09T17:43:30.435Z"
   },
   {
    "duration": 67,
    "start_time": "2022-04-09T17:43:30.457Z"
   },
   {
    "duration": 35,
    "start_time": "2022-04-09T17:43:30.526Z"
   },
   {
    "duration": 9,
    "start_time": "2022-04-09T17:43:30.563Z"
   },
   {
    "duration": 19,
    "start_time": "2022-04-09T17:43:30.573Z"
   },
   {
    "duration": 25,
    "start_time": "2022-04-09T17:43:30.593Z"
   },
   {
    "duration": 12,
    "start_time": "2022-04-09T17:43:30.620Z"
   },
   {
    "duration": 11,
    "start_time": "2022-04-09T17:43:30.634Z"
   },
   {
    "duration": 13,
    "start_time": "2022-04-09T17:43:30.646Z"
   },
   {
    "duration": 7,
    "start_time": "2022-04-09T17:43:30.661Z"
   },
   {
    "duration": 217,
    "start_time": "2022-04-09T17:43:30.670Z"
   },
   {
    "duration": 27,
    "start_time": "2022-04-09T17:43:30.888Z"
   },
   {
    "duration": 59,
    "start_time": "2022-04-09T17:43:30.916Z"
   },
   {
    "duration": 51,
    "start_time": "2022-04-09T17:43:30.976Z"
   },
   {
    "duration": 27,
    "start_time": "2022-04-09T17:43:31.028Z"
   },
   {
    "duration": 3,
    "start_time": "2022-04-09T17:43:31.056Z"
   },
   {
    "duration": 141,
    "start_time": "2022-04-09T17:43:31.062Z"
   },
   {
    "duration": 5,
    "start_time": "2022-04-09T17:43:31.205Z"
   },
   {
    "duration": 22,
    "start_time": "2022-04-09T17:43:31.212Z"
   },
   {
    "duration": 3,
    "start_time": "2022-04-09T17:43:31.236Z"
   },
   {
    "duration": 7,
    "start_time": "2022-04-09T17:43:31.241Z"
   },
   {
    "duration": 6,
    "start_time": "2022-04-09T17:43:31.250Z"
   },
   {
    "duration": 6,
    "start_time": "2022-04-09T17:43:31.257Z"
   },
   {
    "duration": 156,
    "start_time": "2022-04-09T17:43:31.264Z"
   },
   {
    "duration": 14,
    "start_time": "2022-04-09T17:43:31.422Z"
   },
   {
    "duration": 18,
    "start_time": "2022-04-09T17:43:31.437Z"
   },
   {
    "duration": 6,
    "start_time": "2022-04-09T17:43:31.457Z"
   },
   {
    "duration": 51,
    "start_time": "2022-04-09T17:43:31.465Z"
   },
   {
    "duration": 24,
    "start_time": "2022-04-09T17:43:31.518Z"
   },
   {
    "duration": 12,
    "start_time": "2022-04-09T17:43:31.544Z"
   },
   {
    "duration": 7,
    "start_time": "2022-04-09T17:43:31.557Z"
   },
   {
    "duration": 20,
    "start_time": "2022-04-09T17:43:31.565Z"
   },
   {
    "duration": 24,
    "start_time": "2022-04-09T17:43:31.587Z"
   },
   {
    "duration": 6,
    "start_time": "2022-04-09T17:43:31.613Z"
   },
   {
    "duration": 27,
    "start_time": "2022-04-09T17:43:31.620Z"
   },
   {
    "duration": 11,
    "start_time": "2022-04-09T17:43:31.649Z"
   },
   {
    "duration": 18,
    "start_time": "2022-04-09T17:43:31.662Z"
   },
   {
    "duration": 7,
    "start_time": "2022-04-09T17:43:31.681Z"
   },
   {
    "duration": 4,
    "start_time": "2022-04-09T17:43:31.709Z"
   },
   {
    "duration": 152,
    "start_time": "2022-04-10T17:37:38.178Z"
   },
   {
    "duration": 137,
    "start_time": "2022-04-10T17:38:06.487Z"
   },
   {
    "duration": 147,
    "start_time": "2022-04-10T17:38:36.223Z"
   },
   {
    "duration": 152,
    "start_time": "2022-04-10T17:38:50.658Z"
   },
   {
    "duration": 178,
    "start_time": "2022-04-10T17:39:09.005Z"
   },
   {
    "duration": 104,
    "start_time": "2022-04-10T17:42:23.942Z"
   },
   {
    "duration": 1054,
    "start_time": "2022-04-10T17:42:36.613Z"
   },
   {
    "duration": 190,
    "start_time": "2022-04-10T17:42:56.430Z"
   },
   {
    "duration": 174,
    "start_time": "2022-04-10T17:43:46.054Z"
   },
   {
    "duration": 193,
    "start_time": "2022-04-10T17:45:29.031Z"
   },
   {
    "duration": 226,
    "start_time": "2022-04-10T17:46:48.003Z"
   },
   {
    "duration": 236,
    "start_time": "2022-04-10T17:47:00.708Z"
   },
   {
    "duration": 232,
    "start_time": "2022-04-10T17:47:26.753Z"
   },
   {
    "duration": 247,
    "start_time": "2022-04-10T17:48:55.169Z"
   },
   {
    "duration": 231,
    "start_time": "2022-04-10T17:49:20.618Z"
   },
   {
    "duration": 224,
    "start_time": "2022-04-10T17:49:30.038Z"
   },
   {
    "duration": 375,
    "start_time": "2022-04-10T18:04:13.512Z"
   },
   {
    "duration": 3,
    "start_time": "2022-04-10T18:04:23.047Z"
   },
   {
    "duration": 395,
    "start_time": "2022-04-10T18:04:23.052Z"
   },
   {
    "duration": 9,
    "start_time": "2022-04-10T18:04:23.449Z"
   },
   {
    "duration": 49,
    "start_time": "2022-04-10T18:04:23.459Z"
   },
   {
    "duration": 38,
    "start_time": "2022-04-10T18:04:23.510Z"
   },
   {
    "duration": 24,
    "start_time": "2022-04-10T18:04:23.549Z"
   },
   {
    "duration": 98,
    "start_time": "2022-04-10T18:04:23.575Z"
   },
   {
    "duration": 10,
    "start_time": "2022-04-10T18:04:23.675Z"
   },
   {
    "duration": 42,
    "start_time": "2022-04-10T18:04:23.686Z"
   },
   {
    "duration": 49,
    "start_time": "2022-04-10T18:04:23.731Z"
   },
   {
    "duration": 36,
    "start_time": "2022-04-10T18:04:23.810Z"
   },
   {
    "duration": 9,
    "start_time": "2022-04-10T18:04:23.849Z"
   },
   {
    "duration": 51,
    "start_time": "2022-04-10T18:04:23.860Z"
   },
   {
    "duration": 40,
    "start_time": "2022-04-10T18:04:23.913Z"
   },
   {
    "duration": 67,
    "start_time": "2022-04-10T18:04:23.955Z"
   },
   {
    "duration": 8,
    "start_time": "2022-04-10T18:04:24.023Z"
   },
   {
    "duration": 17,
    "start_time": "2022-04-10T18:04:24.033Z"
   },
   {
    "duration": 13,
    "start_time": "2022-04-10T18:04:24.052Z"
   },
   {
    "duration": 13,
    "start_time": "2022-04-10T18:04:24.067Z"
   },
   {
    "duration": 37,
    "start_time": "2022-04-10T18:04:24.082Z"
   },
   {
    "duration": 16,
    "start_time": "2022-04-10T18:04:24.121Z"
   },
   {
    "duration": 18,
    "start_time": "2022-04-10T18:04:24.139Z"
   },
   {
    "duration": 249,
    "start_time": "2022-04-10T18:04:24.159Z"
   },
   {
    "duration": 11,
    "start_time": "2022-04-10T18:04:24.411Z"
   },
   {
    "duration": 68,
    "start_time": "2022-04-10T18:04:24.424Z"
   },
   {
    "duration": 40,
    "start_time": "2022-04-10T18:04:24.509Z"
   },
   {
    "duration": 58,
    "start_time": "2022-04-10T18:04:24.551Z"
   },
   {
    "duration": 4,
    "start_time": "2022-04-10T18:04:24.610Z"
   },
   {
    "duration": 199,
    "start_time": "2022-04-10T18:04:24.619Z"
   },
   {
    "duration": 7,
    "start_time": "2022-04-10T18:04:24.820Z"
   },
   {
    "duration": 18,
    "start_time": "2022-04-10T18:04:24.829Z"
   },
   {
    "duration": 4,
    "start_time": "2022-04-10T18:04:24.849Z"
   },
   {
    "duration": 7,
    "start_time": "2022-04-10T18:04:24.855Z"
   },
   {
    "duration": 45,
    "start_time": "2022-04-10T18:04:24.864Z"
   },
   {
    "duration": 7,
    "start_time": "2022-04-10T18:04:24.913Z"
   },
   {
    "duration": 150,
    "start_time": "2022-04-10T18:04:24.922Z"
   },
   {
    "duration": 15,
    "start_time": "2022-04-10T18:04:25.073Z"
   },
   {
    "duration": 37,
    "start_time": "2022-04-10T18:04:25.090Z"
   },
   {
    "duration": 7,
    "start_time": "2022-04-10T18:04:25.129Z"
   },
   {
    "duration": 18,
    "start_time": "2022-04-10T18:04:25.138Z"
   },
   {
    "duration": 61,
    "start_time": "2022-04-10T18:04:25.158Z"
   },
   {
    "duration": 14,
    "start_time": "2022-04-10T18:04:25.220Z"
   },
   {
    "duration": 8,
    "start_time": "2022-04-10T18:04:25.236Z"
   },
   {
    "duration": 259,
    "start_time": "2022-04-10T18:04:25.245Z"
   },
   {
    "duration": 5,
    "start_time": "2022-04-10T18:04:25.509Z"
   },
   {
    "duration": 6,
    "start_time": "2022-04-10T18:04:25.515Z"
   },
   {
    "duration": 6,
    "start_time": "2022-04-10T18:04:25.523Z"
   },
   {
    "duration": 25,
    "start_time": "2022-04-10T18:04:25.531Z"
   },
   {
    "duration": 60,
    "start_time": "2022-04-10T18:04:25.559Z"
   },
   {
    "duration": 9,
    "start_time": "2022-04-10T18:04:25.621Z"
   },
   {
    "duration": 259,
    "start_time": "2022-04-10T18:04:25.633Z"
   },
   {
    "duration": 14,
    "start_time": "2022-04-10T18:04:25.894Z"
   },
   {
    "duration": 5,
    "start_time": "2022-04-10T18:04:25.911Z"
   },
   {
    "duration": 1255,
    "start_time": "2022-04-20T14:28:34.147Z"
   },
   {
    "duration": 378,
    "start_time": "2022-04-20T14:28:35.405Z"
   },
   {
    "duration": 12,
    "start_time": "2022-04-20T14:28:35.785Z"
   },
   {
    "duration": 25,
    "start_time": "2022-04-20T14:28:35.799Z"
   },
   {
    "duration": 54,
    "start_time": "2022-04-20T14:28:35.826Z"
   },
   {
    "duration": 23,
    "start_time": "2022-04-20T14:28:35.882Z"
   },
   {
    "duration": 98,
    "start_time": "2022-04-20T14:28:35.907Z"
   },
   {
    "duration": 10,
    "start_time": "2022-04-20T14:28:36.006Z"
   },
   {
    "duration": 25,
    "start_time": "2022-04-20T14:28:36.018Z"
   },
   {
    "duration": 72,
    "start_time": "2022-04-20T14:28:36.046Z"
   },
   {
    "duration": 34,
    "start_time": "2022-04-20T14:28:36.120Z"
   },
   {
    "duration": 24,
    "start_time": "2022-04-20T14:28:36.156Z"
   },
   {
    "duration": 22,
    "start_time": "2022-04-20T14:28:36.182Z"
   },
   {
    "duration": 35,
    "start_time": "2022-04-20T14:28:36.206Z"
   },
   {
    "duration": 64,
    "start_time": "2022-04-20T14:28:36.243Z"
   },
   {
    "duration": 8,
    "start_time": "2022-04-20T14:28:36.309Z"
   },
   {
    "duration": 10,
    "start_time": "2022-04-20T14:28:36.318Z"
   },
   {
    "duration": 13,
    "start_time": "2022-04-20T14:28:36.330Z"
   },
   {
    "duration": 30,
    "start_time": "2022-04-20T14:28:36.345Z"
   },
   {
    "duration": 13,
    "start_time": "2022-04-20T14:28:36.377Z"
   },
   {
    "duration": 13,
    "start_time": "2022-04-20T14:28:36.391Z"
   },
   {
    "duration": 6,
    "start_time": "2022-04-20T14:28:36.406Z"
   },
   {
    "duration": 227,
    "start_time": "2022-04-20T14:28:36.413Z"
   },
   {
    "duration": 9,
    "start_time": "2022-04-20T14:28:36.642Z"
   },
   {
    "duration": 65,
    "start_time": "2022-04-20T14:28:36.672Z"
   },
   {
    "duration": 49,
    "start_time": "2022-04-20T14:28:36.739Z"
   },
   {
    "duration": 26,
    "start_time": "2022-04-20T14:28:36.790Z"
   },
   {
    "duration": 3,
    "start_time": "2022-04-20T14:28:36.820Z"
   },
   {
    "duration": 49,
    "start_time": "2022-04-20T14:28:36.825Z"
   },
   {
    "duration": 5,
    "start_time": "2022-04-20T14:28:36.876Z"
   },
   {
    "duration": 29,
    "start_time": "2022-04-20T14:28:36.883Z"
   },
   {
    "duration": 3,
    "start_time": "2022-04-20T14:28:36.914Z"
   },
   {
    "duration": 20,
    "start_time": "2022-04-20T14:28:36.919Z"
   },
   {
    "duration": 8,
    "start_time": "2022-04-20T14:28:36.941Z"
   },
   {
    "duration": 10,
    "start_time": "2022-04-20T14:28:36.951Z"
   },
   {
    "duration": 129,
    "start_time": "2022-04-20T14:28:36.962Z"
   },
   {
    "duration": 14,
    "start_time": "2022-04-20T14:28:37.093Z"
   },
   {
    "duration": 20,
    "start_time": "2022-04-20T14:28:37.109Z"
   },
   {
    "duration": 11,
    "start_time": "2022-04-20T14:28:37.131Z"
   },
   {
    "duration": 40,
    "start_time": "2022-04-20T14:28:37.144Z"
   },
   {
    "duration": 24,
    "start_time": "2022-04-20T14:28:37.185Z"
   },
   {
    "duration": 13,
    "start_time": "2022-04-20T14:28:37.211Z"
   },
   {
    "duration": 11,
    "start_time": "2022-04-20T14:28:37.225Z"
   },
   {
    "duration": 252,
    "start_time": "2022-04-20T14:28:37.238Z"
   },
   {
    "duration": 5,
    "start_time": "2022-04-20T14:28:37.492Z"
   },
   {
    "duration": 8,
    "start_time": "2022-04-20T14:28:37.498Z"
   },
   {
    "duration": 9,
    "start_time": "2022-04-20T14:28:37.507Z"
   },
   {
    "duration": 22,
    "start_time": "2022-04-20T14:28:37.518Z"
   },
   {
    "duration": 34,
    "start_time": "2022-04-20T14:28:37.541Z"
   },
   {
    "duration": 8,
    "start_time": "2022-04-20T14:28:37.576Z"
   },
   {
    "duration": 225,
    "start_time": "2022-04-20T14:28:37.585Z"
   },
   {
    "duration": 5,
    "start_time": "2022-04-20T14:28:37.811Z"
   },
   {
    "duration": 7,
    "start_time": "2022-04-20T14:28:37.818Z"
   },
   {
    "duration": 19,
    "start_time": "2022-04-20T14:32:09.177Z"
   },
   {
    "duration": 12,
    "start_time": "2022-04-20T14:32:41.975Z"
   },
   {
    "duration": 23,
    "start_time": "2022-04-20T14:34:57.789Z"
   },
   {
    "duration": 50,
    "start_time": "2022-04-21T08:34:19.743Z"
   },
   {
    "duration": 6,
    "start_time": "2022-04-21T08:34:37.243Z"
   },
   {
    "duration": 1460,
    "start_time": "2022-04-21T08:34:44.246Z"
   },
   {
    "duration": 390,
    "start_time": "2022-04-21T08:34:45.708Z"
   },
   {
    "duration": 16,
    "start_time": "2022-04-21T08:34:46.100Z"
   },
   {
    "duration": 35,
    "start_time": "2022-04-21T08:34:46.119Z"
   },
   {
    "duration": 56,
    "start_time": "2022-04-21T08:34:46.155Z"
   },
   {
    "duration": 24,
    "start_time": "2022-04-21T08:34:46.213Z"
   },
   {
    "duration": 87,
    "start_time": "2022-04-21T08:34:46.239Z"
   },
   {
    "duration": 9,
    "start_time": "2022-04-21T08:34:46.328Z"
   },
   {
    "duration": 28,
    "start_time": "2022-04-21T08:34:46.338Z"
   },
   {
    "duration": 66,
    "start_time": "2022-04-21T08:34:46.368Z"
   },
   {
    "duration": 30,
    "start_time": "2022-04-21T08:34:46.436Z"
   },
   {
    "duration": 26,
    "start_time": "2022-04-21T08:34:46.468Z"
   },
   {
    "duration": 37,
    "start_time": "2022-04-21T08:34:46.495Z"
   },
   {
    "duration": 43,
    "start_time": "2022-04-21T08:34:46.534Z"
   },
   {
    "duration": 35,
    "start_time": "2022-04-21T08:34:46.579Z"
   },
   {
    "duration": 8,
    "start_time": "2022-04-21T08:34:46.615Z"
   },
   {
    "duration": 15,
    "start_time": "2022-04-21T08:34:46.625Z"
   },
   {
    "duration": 31,
    "start_time": "2022-04-21T08:34:46.641Z"
   },
   {
    "duration": 18,
    "start_time": "2022-04-21T08:34:46.674Z"
   },
   {
    "duration": 29,
    "start_time": "2022-04-21T08:34:46.694Z"
   },
   {
    "duration": 17,
    "start_time": "2022-04-21T08:34:46.725Z"
   },
   {
    "duration": 12,
    "start_time": "2022-04-21T08:34:46.744Z"
   },
   {
    "duration": 319,
    "start_time": "2022-04-21T08:34:46.758Z"
   },
   {
    "duration": 25,
    "start_time": "2022-04-21T08:34:47.078Z"
   },
   {
    "duration": 252,
    "start_time": "2022-04-21T08:34:52.376Z"
   },
   {
    "duration": 395,
    "start_time": "2022-04-21T08:35:07.213Z"
   },
   {
    "duration": 2214,
    "start_time": "2022-04-21T08:35:58.055Z"
   },
   {
    "duration": 181,
    "start_time": "2022-04-21T08:36:07.065Z"
   },
   {
    "duration": 255,
    "start_time": "2022-04-21T08:36:21.397Z"
   },
   {
    "duration": 136,
    "start_time": "2022-04-21T08:36:27.852Z"
   },
   {
    "duration": 338,
    "start_time": "2022-04-21T08:36:33.986Z"
   },
   {
    "duration": 82,
    "start_time": "2022-04-21T08:37:53.479Z"
   },
   {
    "duration": 18,
    "start_time": "2022-04-21T08:37:58.052Z"
   },
   {
    "duration": 19,
    "start_time": "2022-04-21T08:38:02.132Z"
   },
   {
    "duration": 19,
    "start_time": "2022-04-21T08:38:15.154Z"
   },
   {
    "duration": 22,
    "start_time": "2022-04-21T08:38:35.267Z"
   },
   {
    "duration": 20,
    "start_time": "2022-04-21T08:38:40.849Z"
   },
   {
    "duration": 26,
    "start_time": "2022-04-21T08:38:48.625Z"
   },
   {
    "duration": 12,
    "start_time": "2022-04-21T08:41:01.136Z"
   },
   {
    "duration": 15,
    "start_time": "2022-04-21T08:41:12.456Z"
   },
   {
    "duration": 45,
    "start_time": "2022-04-21T08:41:14.876Z"
   },
   {
    "duration": 42,
    "start_time": "2022-04-21T09:19:00.174Z"
   },
   {
    "duration": 9,
    "start_time": "2022-04-21T09:20:02.154Z"
   },
   {
    "duration": 51,
    "start_time": "2022-04-21T09:25:29.751Z"
   },
   {
    "duration": 1272,
    "start_time": "2022-04-21T09:25:36.923Z"
   },
   {
    "duration": 561,
    "start_time": "2022-04-21T09:25:38.197Z"
   },
   {
    "duration": 16,
    "start_time": "2022-04-21T09:25:38.760Z"
   },
   {
    "duration": 53,
    "start_time": "2022-04-21T09:25:38.779Z"
   },
   {
    "duration": 75,
    "start_time": "2022-04-21T09:25:38.834Z"
   },
   {
    "duration": 24,
    "start_time": "2022-04-21T09:25:38.911Z"
   },
   {
    "duration": 86,
    "start_time": "2022-04-21T09:25:38.937Z"
   },
   {
    "duration": 10,
    "start_time": "2022-04-21T09:25:39.025Z"
   },
   {
    "duration": 53,
    "start_time": "2022-04-21T09:25:39.036Z"
   },
   {
    "duration": 74,
    "start_time": "2022-04-21T09:25:39.091Z"
   },
   {
    "duration": 30,
    "start_time": "2022-04-21T09:25:39.167Z"
   },
   {
    "duration": 38,
    "start_time": "2022-04-21T09:25:39.199Z"
   },
   {
    "duration": 33,
    "start_time": "2022-04-21T09:25:39.239Z"
   },
   {
    "duration": 52,
    "start_time": "2022-04-21T09:25:39.274Z"
   },
   {
    "duration": 36,
    "start_time": "2022-04-21T09:25:39.328Z"
   },
   {
    "duration": 8,
    "start_time": "2022-04-21T09:25:39.366Z"
   },
   {
    "duration": 26,
    "start_time": "2022-04-21T09:25:39.375Z"
   },
   {
    "duration": 16,
    "start_time": "2022-04-21T09:25:39.403Z"
   },
   {
    "duration": 14,
    "start_time": "2022-04-21T09:25:39.421Z"
   },
   {
    "duration": 15,
    "start_time": "2022-04-21T09:25:39.437Z"
   },
   {
    "duration": 12,
    "start_time": "2022-04-21T09:25:39.454Z"
   },
   {
    "duration": 25,
    "start_time": "2022-04-21T09:25:39.468Z"
   },
   {
    "duration": 223,
    "start_time": "2022-04-21T09:25:39.495Z"
   },
   {
    "duration": 10,
    "start_time": "2022-04-21T09:25:48.007Z"
   },
   {
    "duration": 238,
    "start_time": "2022-04-21T09:25:50.632Z"
   },
   {
    "duration": 20,
    "start_time": "2022-04-21T09:25:59.625Z"
   },
   {
    "duration": 53,
    "start_time": "2022-04-21T09:26:02.241Z"
   },
   {
    "duration": 8,
    "start_time": "2022-04-21T09:26:08.099Z"
   },
   {
    "duration": 66,
    "start_time": "2022-04-21T09:43:34.473Z"
   },
   {
    "duration": 8,
    "start_time": "2022-04-21T09:43:39.771Z"
   },
   {
    "duration": 34,
    "start_time": "2022-04-21T09:43:42.162Z"
   },
   {
    "duration": 8,
    "start_time": "2022-04-21T09:43:44.168Z"
   },
   {
    "duration": 107,
    "start_time": "2022-04-21T09:43:52.650Z"
   },
   {
    "duration": 9,
    "start_time": "2022-04-21T09:49:03.520Z"
   },
   {
    "duration": 26,
    "start_time": "2022-04-21T09:58:49.700Z"
   },
   {
    "duration": 24,
    "start_time": "2022-04-21T09:59:15.732Z"
   },
   {
    "duration": 163,
    "start_time": "2022-04-21T10:38:08.355Z"
   },
   {
    "duration": 21,
    "start_time": "2022-04-21T10:38:32.901Z"
   },
   {
    "duration": 215,
    "start_time": "2022-04-21T10:39:32.217Z"
   },
   {
    "duration": 7,
    "start_time": "2022-04-21T10:40:01.061Z"
   },
   {
    "duration": 145,
    "start_time": "2022-04-21T10:41:40.865Z"
   },
   {
    "duration": 137,
    "start_time": "2022-04-21T10:41:53.312Z"
   },
   {
    "duration": 1757,
    "start_time": "2022-04-21T10:42:05.114Z"
   },
   {
    "duration": 6,
    "start_time": "2022-04-21T10:42:11.389Z"
   },
   {
    "duration": 15,
    "start_time": "2022-04-21T10:45:12.139Z"
   },
   {
    "duration": 221,
    "start_time": "2022-04-21T10:45:38.105Z"
   },
   {
    "duration": 6,
    "start_time": "2022-04-21T10:53:37.583Z"
   },
   {
    "duration": 124,
    "start_time": "2022-04-21T10:53:53.421Z"
   },
   {
    "duration": 130,
    "start_time": "2022-04-21T10:54:29.336Z"
   },
   {
    "duration": 163,
    "start_time": "2022-04-21T10:54:41.132Z"
   },
   {
    "duration": 148,
    "start_time": "2022-04-21T10:54:45.315Z"
   },
   {
    "duration": 667,
    "start_time": "2022-04-21T10:55:14.065Z"
   },
   {
    "duration": 218,
    "start_time": "2022-04-21T10:55:35.991Z"
   },
   {
    "duration": 7,
    "start_time": "2022-04-21T10:55:47.801Z"
   },
   {
    "duration": 189,
    "start_time": "2022-04-21T10:56:20.732Z"
   },
   {
    "duration": 778,
    "start_time": "2022-04-21T10:56:48.231Z"
   },
   {
    "duration": 157,
    "start_time": "2022-04-21T10:56:55.692Z"
   },
   {
    "duration": 17161,
    "start_time": "2022-04-21T10:57:17.460Z"
   },
   {
    "duration": 11299,
    "start_time": "2022-04-21T10:57:52.160Z"
   },
   {
    "duration": 167,
    "start_time": "2022-04-21T10:58:36.064Z"
   },
   {
    "duration": 32,
    "start_time": "2022-04-21T11:00:58.589Z"
   },
   {
    "duration": 8,
    "start_time": "2022-04-21T11:01:09.521Z"
   },
   {
    "duration": 13,
    "start_time": "2022-04-21T11:01:27.042Z"
   },
   {
    "duration": 239,
    "start_time": "2022-04-21T11:01:57.750Z"
   },
   {
    "duration": 135,
    "start_time": "2022-04-21T11:02:08.574Z"
   },
   {
    "duration": 19,
    "start_time": "2022-04-21T11:04:02.448Z"
   },
   {
    "duration": 19,
    "start_time": "2022-04-21T11:04:13.631Z"
   },
   {
    "duration": 13,
    "start_time": "2022-04-21T11:05:36.355Z"
   },
   {
    "duration": 29,
    "start_time": "2022-04-21T11:05:38.461Z"
   },
   {
    "duration": 4,
    "start_time": "2022-04-21T11:06:12.318Z"
   },
   {
    "duration": 30,
    "start_time": "2022-04-21T11:06:13.845Z"
   },
   {
    "duration": 6,
    "start_time": "2022-04-21T11:06:16.572Z"
   },
   {
    "duration": 16,
    "start_time": "2022-04-21T11:06:18.812Z"
   },
   {
    "duration": 326,
    "start_time": "2022-04-21T11:19:57.341Z"
   },
   {
    "duration": 258,
    "start_time": "2022-04-21T11:24:27.754Z"
   },
   {
    "duration": 3,
    "start_time": "2022-04-21T11:24:39.850Z"
   },
   {
    "duration": 5,
    "start_time": "2022-04-21T11:24:41.543Z"
   },
   {
    "duration": 4,
    "start_time": "2022-04-21T11:24:42.668Z"
   },
   {
    "duration": 4,
    "start_time": "2022-04-21T11:24:43.487Z"
   },
   {
    "duration": 16,
    "start_time": "2022-04-21T11:24:45.589Z"
   },
   {
    "duration": 22,
    "start_time": "2022-04-21T11:24:46.615Z"
   },
   {
    "duration": 7,
    "start_time": "2022-04-21T11:25:16.152Z"
   },
   {
    "duration": 231,
    "start_time": "2022-04-21T11:50:04.580Z"
   },
   {
    "duration": 6,
    "start_time": "2022-04-21T11:53:47.241Z"
   },
   {
    "duration": 124,
    "start_time": "2022-04-21T11:54:33.577Z"
   },
   {
    "duration": 8,
    "start_time": "2022-04-21T11:54:44.471Z"
   },
   {
    "duration": 2043,
    "start_time": "2022-04-21T11:57:14.334Z"
   },
   {
    "duration": 1849,
    "start_time": "2022-04-21T11:57:18.931Z"
   },
   {
    "duration": 3527,
    "start_time": "2022-04-21T11:58:09.297Z"
   },
   {
    "duration": 12,
    "start_time": "2022-04-21T11:58:24.318Z"
   },
   {
    "duration": 14,
    "start_time": "2022-04-21T11:59:46.192Z"
   },
   {
    "duration": 11,
    "start_time": "2022-04-21T11:59:50.582Z"
   },
   {
    "duration": 10,
    "start_time": "2022-04-21T12:00:34.332Z"
   },
   {
    "duration": 14,
    "start_time": "2022-04-21T12:00:39.092Z"
   },
   {
    "duration": 11,
    "start_time": "2022-04-21T12:01:20.588Z"
   },
   {
    "duration": 13,
    "start_time": "2022-04-21T12:02:15.106Z"
   },
   {
    "duration": 12,
    "start_time": "2022-04-21T12:03:37.133Z"
   },
   {
    "duration": 8,
    "start_time": "2022-04-21T12:04:42.146Z"
   },
   {
    "duration": 108,
    "start_time": "2022-04-21T12:07:08.796Z"
   },
   {
    "duration": 17,
    "start_time": "2022-04-21T12:07:46.325Z"
   },
   {
    "duration": 21,
    "start_time": "2022-04-21T12:07:56.941Z"
   },
   {
    "duration": 24,
    "start_time": "2022-04-21T12:08:20.310Z"
   },
   {
    "duration": 9,
    "start_time": "2022-04-21T12:08:23.844Z"
   },
   {
    "duration": 8,
    "start_time": "2022-04-21T12:10:43.974Z"
   },
   {
    "duration": 9,
    "start_time": "2022-04-21T12:11:53.854Z"
   },
   {
    "duration": 8,
    "start_time": "2022-04-21T12:13:14.620Z"
   },
   {
    "duration": 8,
    "start_time": "2022-04-21T12:15:24.813Z"
   },
   {
    "duration": 399,
    "start_time": "2022-04-21T12:16:39.228Z"
   },
   {
    "duration": 1002,
    "start_time": "2022-04-21T12:16:54.652Z"
   },
   {
    "duration": 146,
    "start_time": "2022-04-21T12:21:29.881Z"
   },
   {
    "duration": 13,
    "start_time": "2022-04-21T12:21:45.047Z"
   },
   {
    "duration": 142,
    "start_time": "2022-04-21T12:22:01.419Z"
   },
   {
    "duration": 9,
    "start_time": "2022-04-21T12:22:12.814Z"
   },
   {
    "duration": 139,
    "start_time": "2022-04-21T12:22:36.589Z"
   },
   {
    "duration": 149,
    "start_time": "2022-04-21T12:22:50.555Z"
   },
   {
    "duration": 145,
    "start_time": "2022-04-21T12:23:13.964Z"
   },
   {
    "duration": 100,
    "start_time": "2022-04-21T12:23:44.857Z"
   },
   {
    "duration": 107,
    "start_time": "2022-04-21T12:24:03.027Z"
   },
   {
    "duration": 153,
    "start_time": "2022-04-21T12:24:26.876Z"
   },
   {
    "duration": 276,
    "start_time": "2022-04-21T12:27:18.835Z"
   },
   {
    "duration": 273,
    "start_time": "2022-04-21T12:27:57.592Z"
   },
   {
    "duration": 231,
    "start_time": "2022-04-21T12:28:07.151Z"
   },
   {
    "duration": 157,
    "start_time": "2022-04-21T12:28:34.135Z"
   },
   {
    "duration": 405,
    "start_time": "2022-04-21T12:29:19.708Z"
   },
   {
    "duration": 9,
    "start_time": "2022-04-21T12:31:04.628Z"
   },
   {
    "duration": 161,
    "start_time": "2022-04-21T12:32:46.249Z"
   },
   {
    "duration": 20,
    "start_time": "2022-04-21T12:34:12.687Z"
   },
   {
    "duration": 1798,
    "start_time": "2022-04-21T12:34:24.357Z"
   },
   {
    "duration": 9,
    "start_time": "2022-04-21T12:34:36.566Z"
   },
   {
    "duration": 117,
    "start_time": "2022-04-21T12:34:42.084Z"
   },
   {
    "duration": 14,
    "start_time": "2022-04-21T12:35:57.135Z"
   },
   {
    "duration": 101,
    "start_time": "2022-04-21T12:35:59.718Z"
   },
   {
    "duration": 98,
    "start_time": "2022-04-21T12:36:14.687Z"
   },
   {
    "duration": 106,
    "start_time": "2022-04-21T12:36:32.788Z"
   },
   {
    "duration": 103,
    "start_time": "2022-04-21T12:36:49.909Z"
   },
   {
    "duration": 273,
    "start_time": "2022-04-21T12:40:16.562Z"
   },
   {
    "duration": 5,
    "start_time": "2022-04-21T12:41:39.357Z"
   },
   {
    "duration": 12,
    "start_time": "2022-04-21T12:42:40.598Z"
   },
   {
    "duration": 269,
    "start_time": "2022-04-21T12:43:03.881Z"
   },
   {
    "duration": 13,
    "start_time": "2022-04-21T12:58:39.099Z"
   },
   {
    "duration": 268,
    "start_time": "2022-04-21T12:58:41.177Z"
   },
   {
    "duration": 13,
    "start_time": "2022-04-21T13:03:20.674Z"
   },
   {
    "duration": 114,
    "start_time": "2022-04-21T13:10:21.821Z"
   },
   {
    "duration": 118,
    "start_time": "2022-04-21T13:10:59.517Z"
   },
   {
    "duration": 105,
    "start_time": "2022-04-21T13:11:01.789Z"
   },
   {
    "duration": 110,
    "start_time": "2022-04-21T13:11:03.132Z"
   },
   {
    "duration": 12,
    "start_time": "2022-04-21T13:17:05.855Z"
   },
   {
    "duration": 15,
    "start_time": "2022-04-21T13:17:20.102Z"
   },
   {
    "duration": 7,
    "start_time": "2022-04-21T13:17:42.141Z"
   },
   {
    "duration": 12,
    "start_time": "2022-04-21T13:18:13.246Z"
   },
   {
    "duration": 16,
    "start_time": "2022-04-21T13:18:32.584Z"
   },
   {
    "duration": 29,
    "start_time": "2022-04-21T13:21:06.068Z"
   },
   {
    "duration": 19,
    "start_time": "2022-04-21T13:24:34.844Z"
   },
   {
    "duration": 4,
    "start_time": "2022-04-21T13:25:22.010Z"
   },
   {
    "duration": 413,
    "start_time": "2022-04-21T13:25:22.016Z"
   },
   {
    "duration": 8,
    "start_time": "2022-04-21T13:25:22.431Z"
   },
   {
    "duration": 28,
    "start_time": "2022-04-21T13:25:22.441Z"
   },
   {
    "duration": 43,
    "start_time": "2022-04-21T13:25:22.471Z"
   },
   {
    "duration": 24,
    "start_time": "2022-04-21T13:25:22.516Z"
   },
   {
    "duration": 89,
    "start_time": "2022-04-21T13:25:22.542Z"
   },
   {
    "duration": 9,
    "start_time": "2022-04-21T13:25:22.633Z"
   },
   {
    "duration": 23,
    "start_time": "2022-04-21T13:25:22.643Z"
   },
   {
    "duration": 71,
    "start_time": "2022-04-21T13:25:22.668Z"
   },
   {
    "duration": 29,
    "start_time": "2022-04-21T13:25:22.741Z"
   },
   {
    "duration": 25,
    "start_time": "2022-04-21T13:25:22.772Z"
   },
   {
    "duration": 22,
    "start_time": "2022-04-21T13:25:22.801Z"
   },
   {
    "duration": 37,
    "start_time": "2022-04-21T13:25:22.825Z"
   },
   {
    "duration": 59,
    "start_time": "2022-04-21T13:25:22.864Z"
   },
   {
    "duration": 9,
    "start_time": "2022-04-21T13:25:22.925Z"
   },
   {
    "duration": 9,
    "start_time": "2022-04-21T13:25:22.935Z"
   },
   {
    "duration": 14,
    "start_time": "2022-04-21T13:25:22.946Z"
   },
   {
    "duration": 36,
    "start_time": "2022-04-21T13:25:22.961Z"
   },
   {
    "duration": 14,
    "start_time": "2022-04-21T13:25:22.999Z"
   },
   {
    "duration": 11,
    "start_time": "2022-04-21T13:25:23.015Z"
   },
   {
    "duration": 5,
    "start_time": "2022-04-21T13:25:23.028Z"
   },
   {
    "duration": 219,
    "start_time": "2022-04-21T13:25:23.034Z"
   },
   {
    "duration": 9,
    "start_time": "2022-04-21T13:25:23.255Z"
   },
   {
    "duration": 268,
    "start_time": "2022-04-21T13:25:23.266Z"
   },
   {
    "duration": 16,
    "start_time": "2022-04-21T13:25:23.536Z"
   },
   {
    "duration": 9,
    "start_time": "2022-04-21T13:25:23.554Z"
   },
   {
    "duration": 37,
    "start_time": "2022-04-21T13:25:23.565Z"
   },
   {
    "duration": 266,
    "start_time": "2022-04-21T13:25:23.604Z"
   },
   {
    "duration": 59,
    "start_time": "2022-04-21T13:25:23.872Z"
   },
   {
    "duration": 8,
    "start_time": "2022-04-21T13:25:23.932Z"
   },
   {
    "duration": 185,
    "start_time": "2022-04-21T13:25:23.942Z"
   },
   {
    "duration": 14,
    "start_time": "2022-04-21T13:25:24.129Z"
   },
   {
    "duration": 291,
    "start_time": "2022-04-21T13:25:24.145Z"
   },
   {
    "duration": 418,
    "start_time": "2022-04-21T13:25:24.438Z"
   },
   {
    "duration": 45,
    "start_time": "2022-04-21T13:25:24.858Z"
   },
   {
    "duration": 158,
    "start_time": "2022-04-21T13:25:24.907Z"
   },
   {
    "duration": 15,
    "start_time": "2022-04-21T13:25:25.066Z"
   },
   {
    "duration": 12,
    "start_time": "2022-04-21T13:25:25.092Z"
   },
   {
    "duration": 8,
    "start_time": "2022-04-21T13:25:25.106Z"
   },
   {
    "duration": 29,
    "start_time": "2022-04-21T13:25:25.116Z"
   },
   {
    "duration": 4,
    "start_time": "2022-04-21T13:25:25.147Z"
   },
   {
    "duration": 85,
    "start_time": "2022-04-21T13:25:25.153Z"
   },
   {
    "duration": 7,
    "start_time": "2022-04-21T13:25:25.241Z"
   },
   {
    "duration": 26,
    "start_time": "2022-04-21T13:25:25.251Z"
   },
   {
    "duration": 523,
    "start_time": "2022-04-21T13:25:25.292Z"
   },
   {
    "duration": 10,
    "start_time": "2022-04-21T13:25:25.818Z"
   },
   {
    "duration": 14,
    "start_time": "2022-04-21T13:25:25.830Z"
   },
   {
    "duration": 10,
    "start_time": "2022-04-21T13:25:25.846Z"
   },
   {
    "duration": 40,
    "start_time": "2022-04-21T13:25:25.858Z"
   },
   {
    "duration": 11,
    "start_time": "2022-04-21T13:25:25.900Z"
   },
   {
    "duration": 148,
    "start_time": "2022-04-21T13:25:25.913Z"
   },
   {
    "duration": 148,
    "start_time": "2022-04-21T13:25:26.063Z"
   },
   {
    "duration": 127,
    "start_time": "2022-04-21T13:25:26.213Z"
   },
   {
    "duration": 125,
    "start_time": "2022-04-21T13:25:26.342Z"
   },
   {
    "duration": 41,
    "start_time": "2022-04-21T13:25:26.469Z"
   },
   {
    "duration": 23,
    "start_time": "2022-04-21T13:25:29.179Z"
   },
   {
    "duration": 12,
    "start_time": "2022-04-21T13:34:53.858Z"
   },
   {
    "duration": 12,
    "start_time": "2022-04-21T13:35:21.308Z"
   },
   {
    "duration": 1713,
    "start_time": "2022-04-21T13:36:57.478Z"
   },
   {
    "duration": 12,
    "start_time": "2022-04-21T13:37:15.891Z"
   },
   {
    "duration": 11,
    "start_time": "2022-04-21T13:37:42.312Z"
   },
   {
    "duration": 11,
    "start_time": "2022-04-21T13:38:36.103Z"
   },
   {
    "duration": 17,
    "start_time": "2022-04-21T13:39:04.947Z"
   },
   {
    "duration": 4,
    "start_time": "2022-04-21T13:40:32.917Z"
   },
   {
    "duration": 106,
    "start_time": "2022-04-21T13:47:53.029Z"
   },
   {
    "duration": 6,
    "start_time": "2022-04-21T13:48:28.505Z"
   },
   {
    "duration": 1760,
    "start_time": "2022-04-21T13:48:56.747Z"
   },
   {
    "duration": 6,
    "start_time": "2022-04-21T13:50:07.139Z"
   },
   {
    "duration": 1746,
    "start_time": "2022-04-21T13:50:11.408Z"
   },
   {
    "duration": 6,
    "start_time": "2022-04-21T13:50:33.005Z"
   },
   {
    "duration": 78,
    "start_time": "2022-04-21T13:50:40.695Z"
   },
   {
    "duration": 19,
    "start_time": "2022-04-21T13:50:46.972Z"
   },
   {
    "duration": 9,
    "start_time": "2022-04-21T13:51:07.517Z"
   },
   {
    "duration": 6,
    "start_time": "2022-04-21T13:52:51.933Z"
   },
   {
    "duration": 70,
    "start_time": "2022-04-21T13:52:54.293Z"
   },
   {
    "duration": 8,
    "start_time": "2022-04-21T13:53:10.416Z"
   },
   {
    "duration": 1799,
    "start_time": "2022-04-21T13:53:39.165Z"
   },
   {
    "duration": 20,
    "start_time": "2022-04-21T13:53:52.601Z"
   },
   {
    "duration": 4,
    "start_time": "2022-04-21T13:54:11.759Z"
   },
   {
    "duration": 28,
    "start_time": "2022-04-21T13:55:10.854Z"
   },
   {
    "duration": 8,
    "start_time": "2022-04-21T13:55:24.611Z"
   },
   {
    "duration": 9,
    "start_time": "2022-04-21T13:55:36.794Z"
   },
   {
    "duration": 9,
    "start_time": "2022-04-21T13:55:40.872Z"
   },
   {
    "duration": 8,
    "start_time": "2022-04-21T13:55:44.043Z"
   },
   {
    "duration": 8,
    "start_time": "2022-04-21T13:55:51.970Z"
   },
   {
    "duration": 19,
    "start_time": "2022-04-21T13:55:55.353Z"
   },
   {
    "duration": 6,
    "start_time": "2022-04-21T13:56:33.352Z"
   },
   {
    "duration": 72,
    "start_time": "2022-04-21T13:56:35.317Z"
   },
   {
    "duration": 8,
    "start_time": "2022-04-21T13:56:50.749Z"
   },
   {
    "duration": 4,
    "start_time": "2022-04-21T13:56:57.891Z"
   },
   {
    "duration": 6,
    "start_time": "2022-04-21T13:58:49.615Z"
   },
   {
    "duration": 77,
    "start_time": "2022-04-21T13:58:52.763Z"
   },
   {
    "duration": 5,
    "start_time": "2022-04-21T13:59:01.622Z"
   },
   {
    "duration": 11,
    "start_time": "2022-04-21T13:59:26.856Z"
   },
   {
    "duration": 12,
    "start_time": "2022-04-21T13:59:40.193Z"
   },
   {
    "duration": 10,
    "start_time": "2022-04-21T14:00:10.159Z"
   },
   {
    "duration": 18,
    "start_time": "2022-04-21T14:00:59.752Z"
   },
   {
    "duration": 5,
    "start_time": "2022-04-21T14:01:45.032Z"
   },
   {
    "duration": 4,
    "start_time": "2022-04-21T14:02:03.589Z"
   },
   {
    "duration": 4,
    "start_time": "2022-04-21T14:02:20.458Z"
   },
   {
    "duration": 7,
    "start_time": "2022-04-21T14:21:28.164Z"
   },
   {
    "duration": 6,
    "start_time": "2022-04-21T14:21:39.195Z"
   },
   {
    "duration": 19,
    "start_time": "2022-04-21T14:23:43.722Z"
   },
   {
    "duration": 3,
    "start_time": "2022-04-21T14:24:03.103Z"
   },
   {
    "duration": 22,
    "start_time": "2022-04-21T14:24:16.786Z"
   },
   {
    "duration": 3,
    "start_time": "2022-04-21T14:25:27.092Z"
   },
   {
    "duration": 4,
    "start_time": "2022-04-21T14:25:35.203Z"
   },
   {
    "duration": 4,
    "start_time": "2022-04-21T14:25:38.161Z"
   },
   {
    "duration": 83,
    "start_time": "2022-04-21T14:25:41.846Z"
   },
   {
    "duration": 15,
    "start_time": "2022-04-21T14:25:48.599Z"
   },
   {
    "duration": 19,
    "start_time": "2022-04-21T14:25:51.066Z"
   },
   {
    "duration": 7,
    "start_time": "2022-04-21T14:25:57.512Z"
   },
   {
    "duration": 19,
    "start_time": "2022-04-21T14:33:10.557Z"
   },
   {
    "duration": 25,
    "start_time": "2022-04-21T14:33:13.008Z"
   },
   {
    "duration": 13,
    "start_time": "2022-04-21T14:33:15.749Z"
   },
   {
    "duration": 8,
    "start_time": "2022-04-21T14:33:18.067Z"
   },
   {
    "duration": 218,
    "start_time": "2022-04-21T14:33:20.001Z"
   },
   {
    "duration": 6,
    "start_time": "2022-04-21T14:35:37.212Z"
   },
   {
    "duration": 5,
    "start_time": "2022-04-21T14:36:44.823Z"
   },
   {
    "duration": 7,
    "start_time": "2022-04-21T14:37:56.658Z"
   },
   {
    "duration": 5,
    "start_time": "2022-04-21T14:37:59.305Z"
   },
   {
    "duration": 103,
    "start_time": "2022-04-21T15:09:36.829Z"
   },
   {
    "duration": 9,
    "start_time": "2022-04-21T15:13:32.724Z"
   },
   {
    "duration": 14,
    "start_time": "2022-04-21T15:13:45.665Z"
   },
   {
    "duration": 6,
    "start_time": "2022-04-21T15:13:58.309Z"
   },
   {
    "duration": 7,
    "start_time": "2022-04-21T15:14:49.408Z"
   },
   {
    "duration": 5,
    "start_time": "2022-04-21T15:16:18.132Z"
   },
   {
    "duration": 3,
    "start_time": "2022-04-21T15:16:22.010Z"
   },
   {
    "duration": 22,
    "start_time": "2022-04-21T15:16:24.176Z"
   },
   {
    "duration": 13,
    "start_time": "2022-04-21T15:16:27.430Z"
   },
   {
    "duration": 7,
    "start_time": "2022-04-21T15:16:32.050Z"
   },
   {
    "duration": 211,
    "start_time": "2022-04-21T15:16:56.923Z"
   },
   {
    "duration": 5,
    "start_time": "2022-04-21T15:16:59.757Z"
   },
   {
    "duration": 6,
    "start_time": "2022-04-21T15:17:21.348Z"
   },
   {
    "duration": 5,
    "start_time": "2022-04-21T15:17:50.656Z"
   },
   {
    "duration": 8,
    "start_time": "2022-04-21T15:19:12.126Z"
   },
   {
    "duration": 21,
    "start_time": "2022-04-21T15:19:19.249Z"
   },
   {
    "duration": 100,
    "start_time": "2022-04-21T15:29:43.923Z"
   },
   {
    "duration": 3,
    "start_time": "2022-04-21T15:34:14.697Z"
   },
   {
    "duration": 504,
    "start_time": "2022-04-21T15:34:14.702Z"
   },
   {
    "duration": 9,
    "start_time": "2022-04-21T15:34:15.207Z"
   },
   {
    "duration": 32,
    "start_time": "2022-04-21T15:34:15.219Z"
   },
   {
    "duration": 50,
    "start_time": "2022-04-21T15:34:15.253Z"
   },
   {
    "duration": 24,
    "start_time": "2022-04-21T15:34:15.305Z"
   },
   {
    "duration": 84,
    "start_time": "2022-04-21T15:34:15.331Z"
   },
   {
    "duration": 9,
    "start_time": "2022-04-21T15:34:15.418Z"
   },
   {
    "duration": 28,
    "start_time": "2022-04-21T15:34:15.430Z"
   },
   {
    "duration": 71,
    "start_time": "2022-04-21T15:34:15.460Z"
   },
   {
    "duration": 35,
    "start_time": "2022-04-21T15:34:15.533Z"
   },
   {
    "duration": 25,
    "start_time": "2022-04-21T15:34:15.570Z"
   },
   {
    "duration": 24,
    "start_time": "2022-04-21T15:34:15.597Z"
   },
   {
    "duration": 43,
    "start_time": "2022-04-21T15:34:15.623Z"
   },
   {
    "duration": 62,
    "start_time": "2022-04-21T15:34:15.668Z"
   },
   {
    "duration": 9,
    "start_time": "2022-04-21T15:34:15.732Z"
   },
   {
    "duration": 11,
    "start_time": "2022-04-21T15:34:15.743Z"
   },
   {
    "duration": 38,
    "start_time": "2022-04-21T15:34:15.756Z"
   },
   {
    "duration": 15,
    "start_time": "2022-04-21T15:34:15.795Z"
   },
   {
    "duration": 16,
    "start_time": "2022-04-21T15:34:15.812Z"
   },
   {
    "duration": 13,
    "start_time": "2022-04-21T15:34:15.830Z"
   },
   {
    "duration": 7,
    "start_time": "2022-04-21T15:34:15.845Z"
   },
   {
    "duration": 245,
    "start_time": "2022-04-21T15:34:15.854Z"
   },
   {
    "duration": 10,
    "start_time": "2022-04-21T15:34:16.103Z"
   },
   {
    "duration": 280,
    "start_time": "2022-04-21T15:34:16.114Z"
   },
   {
    "duration": 17,
    "start_time": "2022-04-21T15:34:16.397Z"
   },
   {
    "duration": 9,
    "start_time": "2022-04-21T15:34:16.416Z"
   },
   {
    "duration": 15,
    "start_time": "2022-04-21T15:34:16.427Z"
   },
   {
    "duration": 306,
    "start_time": "2022-04-21T15:34:16.444Z"
   },
   {
    "duration": 55,
    "start_time": "2022-04-21T15:34:16.752Z"
   },
   {
    "duration": 9,
    "start_time": "2022-04-21T15:34:16.809Z"
   },
   {
    "duration": 187,
    "start_time": "2022-04-21T15:34:16.820Z"
   },
   {
    "duration": 14,
    "start_time": "2022-04-21T15:34:17.009Z"
   },
   {
    "duration": 308,
    "start_time": "2022-04-21T15:34:17.025Z"
   },
   {
    "duration": 1095,
    "start_time": "2022-04-21T15:34:17.336Z"
   },
   {
    "duration": 32,
    "start_time": "2022-04-21T15:34:18.433Z"
   },
   {
    "duration": 186,
    "start_time": "2022-04-21T15:34:18.467Z"
   },
   {
    "duration": 15,
    "start_time": "2022-04-21T15:34:18.655Z"
   },
   {
    "duration": 28,
    "start_time": "2022-04-21T15:34:18.672Z"
   },
   {
    "duration": 8,
    "start_time": "2022-04-21T15:34:18.702Z"
   },
   {
    "duration": 29,
    "start_time": "2022-04-21T15:34:18.712Z"
   },
   {
    "duration": 4,
    "start_time": "2022-04-21T15:34:18.743Z"
   },
   {
    "duration": 61,
    "start_time": "2022-04-21T15:34:18.749Z"
   },
   {
    "duration": 7,
    "start_time": "2022-04-21T15:34:18.812Z"
   },
   {
    "duration": 21,
    "start_time": "2022-04-21T15:34:18.820Z"
   },
   {
    "duration": 477,
    "start_time": "2022-04-21T15:34:18.843Z"
   },
   {
    "duration": 10,
    "start_time": "2022-04-21T15:34:19.322Z"
   },
   {
    "duration": 13,
    "start_time": "2022-04-21T15:34:19.333Z"
   },
   {
    "duration": 11,
    "start_time": "2022-04-21T15:34:19.348Z"
   },
   {
    "duration": 38,
    "start_time": "2022-04-21T15:34:19.362Z"
   },
   {
    "duration": 16,
    "start_time": "2022-04-21T15:34:19.402Z"
   },
   {
    "duration": 141,
    "start_time": "2022-04-21T15:34:19.420Z"
   },
   {
    "duration": 140,
    "start_time": "2022-04-21T15:34:19.563Z"
   },
   {
    "duration": 165,
    "start_time": "2022-04-21T15:34:19.706Z"
   },
   {
    "duration": 178,
    "start_time": "2022-04-21T15:34:19.873Z"
   },
   {
    "duration": 48,
    "start_time": "2022-04-21T15:34:20.053Z"
   },
   {
    "duration": 4,
    "start_time": "2022-04-21T15:34:20.103Z"
   },
   {
    "duration": 19,
    "start_time": "2022-04-21T15:34:20.109Z"
   },
   {
    "duration": 103,
    "start_time": "2022-04-21T15:34:20.130Z"
   },
   {
    "duration": 5,
    "start_time": "2022-04-21T15:34:20.236Z"
   },
   {
    "duration": 29,
    "start_time": "2022-04-21T15:34:20.243Z"
   },
   {
    "duration": 19,
    "start_time": "2022-04-21T15:34:20.274Z"
   },
   {
    "duration": 4,
    "start_time": "2022-04-21T15:34:20.295Z"
   },
   {
    "duration": 7,
    "start_time": "2022-04-21T15:34:20.301Z"
   },
   {
    "duration": 21,
    "start_time": "2022-04-21T15:34:20.310Z"
   },
   {
    "duration": 5,
    "start_time": "2022-04-21T15:34:20.333Z"
   },
   {
    "duration": 185,
    "start_time": "2022-04-21T15:34:20.341Z"
   },
   {
    "duration": 14,
    "start_time": "2022-04-21T15:34:20.528Z"
   },
   {
    "duration": 46,
    "start_time": "2022-04-21T15:34:20.547Z"
   },
   {
    "duration": 8,
    "start_time": "2022-04-21T15:34:20.595Z"
   },
   {
    "duration": 29,
    "start_time": "2022-04-21T15:34:20.605Z"
   },
   {
    "duration": 27,
    "start_time": "2022-04-21T15:34:20.637Z"
   },
   {
    "duration": 14,
    "start_time": "2022-04-21T15:34:20.692Z"
   },
   {
    "duration": 15,
    "start_time": "2022-04-21T15:34:20.708Z"
   },
   {
    "duration": 124,
    "start_time": "2022-04-21T15:34:20.725Z"
   },
   {
    "duration": 6,
    "start_time": "2022-04-21T15:34:20.852Z"
   },
   {
    "duration": 10,
    "start_time": "2022-04-21T15:34:20.860Z"
   },
   {
    "duration": 24,
    "start_time": "2022-04-21T15:34:20.872Z"
   },
   {
    "duration": 7,
    "start_time": "2022-04-21T15:34:20.898Z"
   },
   {
    "duration": 27,
    "start_time": "2022-04-21T15:34:20.907Z"
   },
   {
    "duration": 18,
    "start_time": "2022-04-21T15:34:20.936Z"
   },
   {
    "duration": 11,
    "start_time": "2022-04-21T15:34:20.956Z"
   },
   {
    "duration": 8,
    "start_time": "2022-04-21T15:34:20.993Z"
   },
   {
    "duration": 11,
    "start_time": "2022-04-21T15:34:21.003Z"
   },
   {
    "duration": 7,
    "start_time": "2022-04-21T15:34:21.016Z"
   },
   {
    "duration": 10,
    "start_time": "2022-04-21T15:34:21.025Z"
   },
   {
    "duration": 1129,
    "start_time": "2022-04-22T06:52:39.975Z"
   },
   {
    "duration": 437,
    "start_time": "2022-04-22T06:52:41.106Z"
   },
   {
    "duration": 11,
    "start_time": "2022-04-22T06:52:41.545Z"
   },
   {
    "duration": 24,
    "start_time": "2022-04-22T06:52:41.558Z"
   },
   {
    "duration": 40,
    "start_time": "2022-04-22T06:52:41.584Z"
   },
   {
    "duration": 26,
    "start_time": "2022-04-22T06:52:41.625Z"
   },
   {
    "duration": 87,
    "start_time": "2022-04-22T06:52:41.652Z"
   },
   {
    "duration": 10,
    "start_time": "2022-04-22T06:52:41.741Z"
   },
   {
    "duration": 24,
    "start_time": "2022-04-22T06:52:41.753Z"
   },
   {
    "duration": 64,
    "start_time": "2022-04-22T06:52:41.780Z"
   },
   {
    "duration": 27,
    "start_time": "2022-04-22T06:52:41.845Z"
   },
   {
    "duration": 7,
    "start_time": "2022-04-22T06:52:41.873Z"
   },
   {
    "duration": 19,
    "start_time": "2022-04-22T06:52:41.881Z"
   },
   {
    "duration": 41,
    "start_time": "2022-04-22T06:52:41.923Z"
   },
   {
    "duration": 33,
    "start_time": "2022-04-22T06:52:41.965Z"
   },
   {
    "duration": 24,
    "start_time": "2022-04-22T06:52:41.999Z"
   },
   {
    "duration": 12,
    "start_time": "2022-04-22T06:52:42.025Z"
   },
   {
    "duration": 13,
    "start_time": "2022-04-22T06:52:42.038Z"
   },
   {
    "duration": 10,
    "start_time": "2022-04-22T06:52:42.052Z"
   },
   {
    "duration": 11,
    "start_time": "2022-04-22T06:52:42.064Z"
   },
   {
    "duration": 11,
    "start_time": "2022-04-22T06:52:42.076Z"
   },
   {
    "duration": 4,
    "start_time": "2022-04-22T06:52:42.088Z"
   },
   {
    "duration": 249,
    "start_time": "2022-04-22T06:52:42.093Z"
   },
   {
    "duration": 8,
    "start_time": "2022-04-22T06:52:42.344Z"
   },
   {
    "duration": 257,
    "start_time": "2022-04-22T06:52:42.354Z"
   },
   {
    "duration": 29,
    "start_time": "2022-04-22T06:52:42.613Z"
   },
   {
    "duration": 9,
    "start_time": "2022-04-22T06:52:42.643Z"
   },
   {
    "duration": 271,
    "start_time": "2022-04-22T06:52:42.656Z"
   },
   {
    "duration": 53,
    "start_time": "2022-04-22T06:52:42.929Z"
   },
   {
    "duration": 8,
    "start_time": "2022-04-22T06:52:42.983Z"
   },
   {
    "duration": 173,
    "start_time": "2022-04-22T06:52:42.992Z"
   },
   {
    "duration": 11,
    "start_time": "2022-04-22T06:52:43.167Z"
   },
   {
    "duration": 293,
    "start_time": "2022-04-22T06:52:43.180Z"
   },
   {
    "duration": 110,
    "start_time": "2022-04-22T06:52:43.474Z"
   },
   {
    "duration": 0,
    "start_time": "2022-04-22T06:52:43.586Z"
   },
   {
    "duration": 0,
    "start_time": "2022-04-22T06:52:43.587Z"
   },
   {
    "duration": 0,
    "start_time": "2022-04-22T06:52:43.588Z"
   },
   {
    "duration": 0,
    "start_time": "2022-04-22T06:52:43.589Z"
   },
   {
    "duration": 0,
    "start_time": "2022-04-22T06:52:43.590Z"
   },
   {
    "duration": 0,
    "start_time": "2022-04-22T06:52:43.591Z"
   },
   {
    "duration": 0,
    "start_time": "2022-04-22T06:52:43.592Z"
   },
   {
    "duration": 0,
    "start_time": "2022-04-22T06:52:43.593Z"
   },
   {
    "duration": 0,
    "start_time": "2022-04-22T06:52:43.594Z"
   },
   {
    "duration": 0,
    "start_time": "2022-04-22T06:52:43.595Z"
   },
   {
    "duration": 0,
    "start_time": "2022-04-22T06:52:43.596Z"
   },
   {
    "duration": 0,
    "start_time": "2022-04-22T06:52:43.597Z"
   },
   {
    "duration": 0,
    "start_time": "2022-04-22T06:52:43.598Z"
   },
   {
    "duration": 0,
    "start_time": "2022-04-22T06:52:43.626Z"
   },
   {
    "duration": 0,
    "start_time": "2022-04-22T06:52:43.627Z"
   },
   {
    "duration": 0,
    "start_time": "2022-04-22T06:52:43.628Z"
   },
   {
    "duration": 0,
    "start_time": "2022-04-22T06:52:43.629Z"
   },
   {
    "duration": 0,
    "start_time": "2022-04-22T06:52:43.630Z"
   },
   {
    "duration": 0,
    "start_time": "2022-04-22T06:52:43.632Z"
   },
   {
    "duration": 0,
    "start_time": "2022-04-22T06:52:43.633Z"
   },
   {
    "duration": 0,
    "start_time": "2022-04-22T06:52:43.634Z"
   },
   {
    "duration": 0,
    "start_time": "2022-04-22T06:52:43.638Z"
   },
   {
    "duration": 0,
    "start_time": "2022-04-22T06:52:43.639Z"
   },
   {
    "duration": 0,
    "start_time": "2022-04-22T06:52:43.640Z"
   },
   {
    "duration": 0,
    "start_time": "2022-04-22T06:52:43.641Z"
   },
   {
    "duration": 0,
    "start_time": "2022-04-22T06:52:43.642Z"
   },
   {
    "duration": 0,
    "start_time": "2022-04-22T06:52:43.643Z"
   },
   {
    "duration": 0,
    "start_time": "2022-04-22T06:52:43.644Z"
   },
   {
    "duration": 0,
    "start_time": "2022-04-22T06:52:43.645Z"
   },
   {
    "duration": 0,
    "start_time": "2022-04-22T06:52:43.646Z"
   },
   {
    "duration": 0,
    "start_time": "2022-04-22T06:52:43.647Z"
   },
   {
    "duration": 0,
    "start_time": "2022-04-22T06:52:43.648Z"
   },
   {
    "duration": 0,
    "start_time": "2022-04-22T06:52:43.649Z"
   },
   {
    "duration": 0,
    "start_time": "2022-04-22T06:52:43.650Z"
   },
   {
    "duration": 0,
    "start_time": "2022-04-22T06:52:43.651Z"
   },
   {
    "duration": 0,
    "start_time": "2022-04-22T06:52:43.652Z"
   },
   {
    "duration": 0,
    "start_time": "2022-04-22T06:52:43.653Z"
   },
   {
    "duration": 0,
    "start_time": "2022-04-22T06:52:43.654Z"
   },
   {
    "duration": 0,
    "start_time": "2022-04-22T06:52:43.655Z"
   },
   {
    "duration": 0,
    "start_time": "2022-04-22T06:52:43.656Z"
   },
   {
    "duration": 0,
    "start_time": "2022-04-22T06:52:43.657Z"
   },
   {
    "duration": 0,
    "start_time": "2022-04-22T06:52:43.658Z"
   },
   {
    "duration": 0,
    "start_time": "2022-04-22T06:52:43.659Z"
   },
   {
    "duration": 0,
    "start_time": "2022-04-22T06:52:43.660Z"
   },
   {
    "duration": 0,
    "start_time": "2022-04-22T06:52:43.661Z"
   },
   {
    "duration": 0,
    "start_time": "2022-04-22T06:52:43.662Z"
   },
   {
    "duration": 0,
    "start_time": "2022-04-22T06:52:43.663Z"
   },
   {
    "duration": 0,
    "start_time": "2022-04-22T06:52:43.664Z"
   },
   {
    "duration": 0,
    "start_time": "2022-04-22T06:52:43.665Z"
   },
   {
    "duration": 0,
    "start_time": "2022-04-22T06:52:43.666Z"
   },
   {
    "duration": 0,
    "start_time": "2022-04-22T06:52:43.722Z"
   },
   {
    "duration": 1257,
    "start_time": "2022-04-22T07:32:13.488Z"
   },
   {
    "duration": 353,
    "start_time": "2022-04-22T07:32:14.747Z"
   },
   {
    "duration": 11,
    "start_time": "2022-04-22T07:32:15.102Z"
   },
   {
    "duration": 27,
    "start_time": "2022-04-22T07:32:15.115Z"
   },
   {
    "duration": 38,
    "start_time": "2022-04-22T07:32:15.144Z"
   },
   {
    "duration": 21,
    "start_time": "2022-04-22T07:32:15.184Z"
   },
   {
    "duration": 82,
    "start_time": "2022-04-22T07:32:15.207Z"
   },
   {
    "duration": 9,
    "start_time": "2022-04-22T07:32:15.291Z"
   },
   {
    "duration": 23,
    "start_time": "2022-04-22T07:32:15.301Z"
   },
   {
    "duration": 63,
    "start_time": "2022-04-22T07:32:15.326Z"
   },
   {
    "duration": 26,
    "start_time": "2022-04-22T07:32:15.391Z"
   },
   {
    "duration": 7,
    "start_time": "2022-04-22T07:32:15.419Z"
   },
   {
    "duration": 37,
    "start_time": "2022-04-22T07:32:15.427Z"
   },
   {
    "duration": 33,
    "start_time": "2022-04-22T07:32:15.466Z"
   },
   {
    "duration": 32,
    "start_time": "2022-04-22T07:32:15.501Z"
   },
   {
    "duration": 26,
    "start_time": "2022-04-22T07:32:15.535Z"
   },
   {
    "duration": 9,
    "start_time": "2022-04-22T07:32:15.562Z"
   },
   {
    "duration": 12,
    "start_time": "2022-04-22T07:32:15.572Z"
   },
   {
    "duration": 9,
    "start_time": "2022-04-22T07:32:15.586Z"
   },
   {
    "duration": 10,
    "start_time": "2022-04-22T07:32:15.596Z"
   },
   {
    "duration": 9,
    "start_time": "2022-04-22T07:32:15.608Z"
   },
   {
    "duration": 35,
    "start_time": "2022-04-22T07:32:15.619Z"
   },
   {
    "duration": 199,
    "start_time": "2022-04-22T07:32:15.656Z"
   },
   {
    "duration": 9,
    "start_time": "2022-04-22T07:32:24.002Z"
   },
   {
    "duration": 206,
    "start_time": "2022-04-22T07:32:26.799Z"
   },
   {
    "duration": 19,
    "start_time": "2022-04-22T07:32:29.758Z"
   },
   {
    "duration": 8,
    "start_time": "2022-04-22T07:32:32.338Z"
   },
   {
    "duration": 223,
    "start_time": "2022-04-22T07:32:34.534Z"
   },
   {
    "duration": 55,
    "start_time": "2022-04-22T07:32:37.828Z"
   },
   {
    "duration": 3,
    "start_time": "2022-04-22T07:36:01.490Z"
   },
   {
    "duration": 387,
    "start_time": "2022-04-22T07:36:20.863Z"
   },
   {
    "duration": 7,
    "start_time": "2022-04-22T07:36:23.990Z"
   },
   {
    "duration": 25,
    "start_time": "2022-04-22T07:36:26.461Z"
   },
   {
    "duration": 34,
    "start_time": "2022-04-22T07:36:28.843Z"
   },
   {
    "duration": 23,
    "start_time": "2022-04-22T07:36:30.961Z"
   },
   {
    "duration": 71,
    "start_time": "2022-04-22T07:36:31.904Z"
   },
   {
    "duration": 9,
    "start_time": "2022-04-22T07:36:33.393Z"
   },
   {
    "duration": 21,
    "start_time": "2022-04-22T07:36:34.673Z"
   },
   {
    "duration": 46,
    "start_time": "2022-04-22T07:36:36.110Z"
   },
   {
    "duration": 29,
    "start_time": "2022-04-22T07:36:37.293Z"
   },
   {
    "duration": 8,
    "start_time": "2022-04-22T07:36:39.252Z"
   },
   {
    "duration": 19,
    "start_time": "2022-04-22T07:36:40.956Z"
   },
   {
    "duration": 35,
    "start_time": "2022-04-22T07:36:42.847Z"
   },
   {
    "duration": 35,
    "start_time": "2022-04-22T07:36:43.716Z"
   },
   {
    "duration": 8,
    "start_time": "2022-04-22T07:36:44.896Z"
   },
   {
    "duration": 9,
    "start_time": "2022-04-22T07:36:47.223Z"
   },
   {
    "duration": 16,
    "start_time": "2022-04-22T07:36:48.479Z"
   },
   {
    "duration": 9,
    "start_time": "2022-04-22T07:36:51.776Z"
   },
   {
    "duration": 10,
    "start_time": "2022-04-22T07:36:53.265Z"
   },
   {
    "duration": 11,
    "start_time": "2022-04-22T07:36:55.177Z"
   },
   {
    "duration": 4,
    "start_time": "2022-04-22T07:36:56.673Z"
   },
   {
    "duration": 206,
    "start_time": "2022-04-22T07:36:59.204Z"
   },
   {
    "duration": 9,
    "start_time": "2022-04-22T07:37:10.393Z"
   },
   {
    "duration": 214,
    "start_time": "2022-04-22T07:37:11.919Z"
   },
   {
    "duration": 19,
    "start_time": "2022-04-22T07:37:14.589Z"
   },
   {
    "duration": 9,
    "start_time": "2022-04-22T07:37:16.531Z"
   },
   {
    "duration": 249,
    "start_time": "2022-04-22T07:37:31.008Z"
   },
   {
    "duration": 103,
    "start_time": "2022-04-22T07:37:58.964Z"
   },
   {
    "duration": 53,
    "start_time": "2022-04-22T07:38:18.391Z"
   },
   {
    "duration": 8,
    "start_time": "2022-04-22T09:47:08.059Z"
   },
   {
    "duration": 209,
    "start_time": "2022-04-22T09:47:09.890Z"
   },
   {
    "duration": 12,
    "start_time": "2022-04-22T09:47:12.736Z"
   },
   {
    "duration": 231,
    "start_time": "2022-04-22T09:47:13.938Z"
   },
   {
    "duration": 94,
    "start_time": "2022-04-22T09:47:16.191Z"
   },
   {
    "duration": 33,
    "start_time": "2022-04-22T09:47:20.944Z"
   },
   {
    "duration": 120,
    "start_time": "2022-04-22T09:47:24.917Z"
   },
   {
    "duration": 12,
    "start_time": "2022-04-22T09:47:32.278Z"
   },
   {
    "duration": 11,
    "start_time": "2022-04-22T09:47:36.519Z"
   },
   {
    "duration": 5,
    "start_time": "2022-04-22T09:49:04.813Z"
   },
   {
    "duration": 5,
    "start_time": "2022-04-22T09:49:36.090Z"
   },
   {
    "duration": 15,
    "start_time": "2022-04-22T09:49:41.361Z"
   },
   {
    "duration": 12,
    "start_time": "2022-04-22T09:50:30.742Z"
   },
   {
    "duration": 12,
    "start_time": "2022-04-22T09:50:40.705Z"
   },
   {
    "duration": 10,
    "start_time": "2022-04-22T09:51:55.023Z"
   },
   {
    "duration": 6,
    "start_time": "2022-04-22T09:52:24.236Z"
   },
   {
    "duration": 3,
    "start_time": "2022-04-22T09:52:33.850Z"
   },
   {
    "duration": 15,
    "start_time": "2022-04-22T09:52:35.806Z"
   },
   {
    "duration": 14,
    "start_time": "2022-04-22T09:53:52.835Z"
   },
   {
    "duration": 4,
    "start_time": "2022-04-22T09:54:25.178Z"
   },
   {
    "duration": 14,
    "start_time": "2022-04-22T09:54:30.797Z"
   },
   {
    "duration": 4,
    "start_time": "2022-04-22T09:54:39.416Z"
   },
   {
    "duration": 10,
    "start_time": "2022-04-22T09:54:48.399Z"
   },
   {
    "duration": 9,
    "start_time": "2022-04-22T09:54:51.426Z"
   },
   {
    "duration": 31,
    "start_time": "2022-04-22T09:54:54.526Z"
   },
   {
    "duration": 4,
    "start_time": "2022-04-22T09:54:58.373Z"
   },
   {
    "duration": 30,
    "start_time": "2022-04-22T09:55:00.786Z"
   },
   {
    "duration": 6,
    "start_time": "2022-04-22T09:55:02.758Z"
   },
   {
    "duration": 16,
    "start_time": "2022-04-22T09:55:03.578Z"
   },
   {
    "duration": 492,
    "start_time": "2022-04-22T09:55:05.248Z"
   },
   {
    "duration": 7,
    "start_time": "2022-04-22T09:55:08.319Z"
   },
   {
    "duration": 8,
    "start_time": "2022-04-22T09:55:09.838Z"
   },
   {
    "duration": 9,
    "start_time": "2022-04-22T09:55:10.956Z"
   },
   {
    "duration": 8,
    "start_time": "2022-04-22T09:55:12.273Z"
   },
   {
    "duration": 9,
    "start_time": "2022-04-22T09:55:13.380Z"
   },
   {
    "duration": 106,
    "start_time": "2022-04-22T09:55:14.910Z"
   },
   {
    "duration": 111,
    "start_time": "2022-04-22T09:55:16.893Z"
   },
   {
    "duration": 96,
    "start_time": "2022-04-22T09:55:18.991Z"
   },
   {
    "duration": 102,
    "start_time": "2022-04-22T09:55:20.343Z"
   },
   {
    "duration": 115,
    "start_time": "2022-04-22T09:55:24.748Z"
   },
   {
    "duration": 4,
    "start_time": "2022-04-22T09:55:26.543Z"
   },
   {
    "duration": 6,
    "start_time": "2022-04-22T09:55:34.568Z"
   },
   {
    "duration": 71,
    "start_time": "2022-04-22T09:55:36.915Z"
   },
   {
    "duration": 4,
    "start_time": "2022-04-22T09:55:38.721Z"
   },
   {
    "duration": 18,
    "start_time": "2022-04-22T09:55:44.929Z"
   },
   {
    "duration": 20,
    "start_time": "2022-04-22T09:55:55.387Z"
   },
   {
    "duration": 3,
    "start_time": "2022-04-22T09:55:57.896Z"
   },
   {
    "duration": 4,
    "start_time": "2022-04-22T09:56:01.321Z"
   },
   {
    "duration": 5,
    "start_time": "2022-04-22T09:56:02.114Z"
   },
   {
    "duration": 4,
    "start_time": "2022-04-22T09:56:02.948Z"
   },
   {
    "duration": 4,
    "start_time": "2022-04-22T09:56:04.012Z"
   },
   {
    "duration": 78,
    "start_time": "2022-04-22T09:56:05.801Z"
   },
   {
    "duration": 12,
    "start_time": "2022-04-22T09:56:08.690Z"
   },
   {
    "duration": 19,
    "start_time": "2022-04-22T09:56:10.062Z"
   },
   {
    "duration": 7,
    "start_time": "2022-04-22T09:56:17.550Z"
   },
   {
    "duration": 18,
    "start_time": "2022-04-22T09:56:24.085Z"
   },
   {
    "duration": 24,
    "start_time": "2022-04-22T09:56:26.067Z"
   },
   {
    "duration": 14,
    "start_time": "2022-04-22T09:56:27.638Z"
   },
   {
    "duration": 8,
    "start_time": "2022-04-22T09:56:29.340Z"
   },
   {
    "duration": 97,
    "start_time": "2022-04-22T09:56:31.370Z"
   },
   {
    "duration": 5,
    "start_time": "2022-04-22T09:56:34.768Z"
   },
   {
    "duration": 6,
    "start_time": "2022-04-22T09:56:38.192Z"
   },
   {
    "duration": 5,
    "start_time": "2022-04-22T09:56:40.655Z"
   },
   {
    "duration": 3,
    "start_time": "2022-04-22T09:56:42.790Z"
   },
   {
    "duration": 21,
    "start_time": "2022-04-22T09:56:44.194Z"
   },
   {
    "duration": 13,
    "start_time": "2022-04-22T09:56:45.813Z"
   },
   {
    "duration": 7,
    "start_time": "2022-04-22T09:56:47.588Z"
   },
   {
    "duration": 7,
    "start_time": "2022-04-22T09:56:48.907Z"
   },
   {
    "duration": 5,
    "start_time": "2022-04-22T09:56:51.407Z"
   },
   {
    "duration": 5,
    "start_time": "2022-04-22T09:56:53.495Z"
   },
   {
    "duration": 5,
    "start_time": "2022-04-22T09:56:55.077Z"
   },
   {
    "duration": 5,
    "start_time": "2022-04-22T09:57:06.588Z"
   },
   {
    "duration": 3,
    "start_time": "2022-04-22T09:57:10.614Z"
   },
   {
    "duration": 406,
    "start_time": "2022-04-22T09:57:10.618Z"
   },
   {
    "duration": 9,
    "start_time": "2022-04-22T09:57:11.026Z"
   },
   {
    "duration": 28,
    "start_time": "2022-04-22T09:57:11.036Z"
   },
   {
    "duration": 33,
    "start_time": "2022-04-22T09:57:11.066Z"
   },
   {
    "duration": 21,
    "start_time": "2022-04-22T09:57:11.100Z"
   },
   {
    "duration": 84,
    "start_time": "2022-04-22T09:57:11.123Z"
   },
   {
    "duration": 9,
    "start_time": "2022-04-22T09:57:11.209Z"
   },
   {
    "duration": 21,
    "start_time": "2022-04-22T09:57:11.220Z"
   },
   {
    "duration": 46,
    "start_time": "2022-04-22T09:57:11.255Z"
   },
   {
    "duration": 32,
    "start_time": "2022-04-22T09:57:11.304Z"
   },
   {
    "duration": 8,
    "start_time": "2022-04-22T09:57:11.355Z"
   },
   {
    "duration": 19,
    "start_time": "2022-04-22T09:57:11.365Z"
   },
   {
    "duration": 33,
    "start_time": "2022-04-22T09:57:11.386Z"
   },
   {
    "duration": 61,
    "start_time": "2022-04-22T09:57:11.421Z"
   },
   {
    "duration": 9,
    "start_time": "2022-04-22T09:57:11.484Z"
   },
   {
    "duration": 10,
    "start_time": "2022-04-22T09:57:11.494Z"
   },
   {
    "duration": 12,
    "start_time": "2022-04-22T09:57:11.506Z"
   },
   {
    "duration": 11,
    "start_time": "2022-04-22T09:57:11.519Z"
   },
   {
    "duration": 28,
    "start_time": "2022-04-22T09:57:11.531Z"
   },
   {
    "duration": 10,
    "start_time": "2022-04-22T09:57:11.561Z"
   },
   {
    "duration": 4,
    "start_time": "2022-04-22T09:57:11.572Z"
   },
   {
    "duration": 211,
    "start_time": "2022-04-22T09:57:11.578Z"
   },
   {
    "duration": 9,
    "start_time": "2022-04-22T09:57:11.790Z"
   },
   {
    "duration": 223,
    "start_time": "2022-04-22T09:57:11.800Z"
   },
   {
    "duration": 15,
    "start_time": "2022-04-22T09:57:12.025Z"
   },
   {
    "duration": 8,
    "start_time": "2022-04-22T09:57:12.054Z"
   },
   {
    "duration": 240,
    "start_time": "2022-04-22T09:57:12.063Z"
   },
   {
    "duration": 58,
    "start_time": "2022-04-22T09:57:12.307Z"
   },
   {
    "duration": 7,
    "start_time": "2022-04-22T09:57:12.366Z"
   },
   {
    "duration": 153,
    "start_time": "2022-04-22T09:57:12.374Z"
   },
   {
    "duration": 12,
    "start_time": "2022-04-22T09:57:12.529Z"
   },
   {
    "duration": 250,
    "start_time": "2022-04-22T09:57:12.543Z"
   },
   {
    "duration": 31,
    "start_time": "2022-04-22T09:57:12.795Z"
   },
   {
    "duration": 136,
    "start_time": "2022-04-22T09:57:12.828Z"
   },
   {
    "duration": 4,
    "start_time": "2022-04-22T09:57:12.965Z"
   },
   {
    "duration": 15,
    "start_time": "2022-04-22T09:57:12.970Z"
   },
   {
    "duration": 7,
    "start_time": "2022-04-22T09:57:12.987Z"
   },
   {
    "duration": 24,
    "start_time": "2022-04-22T09:57:12.995Z"
   },
   {
    "duration": 3,
    "start_time": "2022-04-22T09:57:13.021Z"
   },
   {
    "duration": 54,
    "start_time": "2022-04-22T09:57:13.025Z"
   },
   {
    "duration": 6,
    "start_time": "2022-04-22T09:57:13.080Z"
   },
   {
    "duration": 15,
    "start_time": "2022-04-22T09:57:13.087Z"
   },
   {
    "duration": 408,
    "start_time": "2022-04-22T09:57:13.103Z"
   },
   {
    "duration": 8,
    "start_time": "2022-04-22T09:57:13.512Z"
   },
   {
    "duration": 9,
    "start_time": "2022-04-22T09:57:13.522Z"
   },
   {
    "duration": 25,
    "start_time": "2022-04-22T09:57:13.532Z"
   },
   {
    "duration": 9,
    "start_time": "2022-04-22T09:57:13.558Z"
   },
   {
    "duration": 8,
    "start_time": "2022-04-22T09:57:13.569Z"
   },
   {
    "duration": 127,
    "start_time": "2022-04-22T09:57:13.579Z"
   },
   {
    "duration": 114,
    "start_time": "2022-04-22T09:57:13.708Z"
   },
   {
    "duration": 105,
    "start_time": "2022-04-22T09:57:13.824Z"
   },
   {
    "duration": 110,
    "start_time": "2022-04-22T09:57:13.931Z"
   },
   {
    "duration": 31,
    "start_time": "2022-04-22T09:57:14.044Z"
   },
   {
    "duration": 10,
    "start_time": "2022-04-22T09:57:14.077Z"
   },
   {
    "duration": 16,
    "start_time": "2022-04-22T09:57:14.089Z"
   },
   {
    "duration": 84,
    "start_time": "2022-04-22T09:57:14.107Z"
   },
   {
    "duration": 18,
    "start_time": "2022-04-22T09:57:14.193Z"
   },
   {
    "duration": 2,
    "start_time": "2022-04-22T09:57:14.213Z"
   },
   {
    "duration": 6,
    "start_time": "2022-04-22T09:57:14.217Z"
   },
   {
    "duration": 6,
    "start_time": "2022-04-22T09:57:14.224Z"
   },
   {
    "duration": 8,
    "start_time": "2022-04-22T09:57:14.231Z"
   },
   {
    "duration": 3,
    "start_time": "2022-04-22T09:57:14.255Z"
   },
   {
    "duration": 79,
    "start_time": "2022-04-22T09:57:14.259Z"
   },
   {
    "duration": 23,
    "start_time": "2022-04-22T09:57:14.339Z"
   },
   {
    "duration": 18,
    "start_time": "2022-04-22T09:57:14.363Z"
   },
   {
    "duration": 6,
    "start_time": "2022-04-22T09:57:14.382Z"
   },
   {
    "duration": 20,
    "start_time": "2022-04-22T09:57:14.389Z"
   },
   {
    "duration": 45,
    "start_time": "2022-04-22T09:57:14.410Z"
   },
   {
    "duration": 12,
    "start_time": "2022-04-22T09:57:14.457Z"
   },
   {
    "duration": 7,
    "start_time": "2022-04-22T09:57:14.471Z"
   },
   {
    "duration": 116,
    "start_time": "2022-04-22T09:57:14.480Z"
   },
   {
    "duration": 5,
    "start_time": "2022-04-22T09:57:14.598Z"
   },
   {
    "duration": 10,
    "start_time": "2022-04-22T09:57:14.604Z"
   },
   {
    "duration": 6,
    "start_time": "2022-04-22T09:57:14.616Z"
   },
   {
    "duration": 4,
    "start_time": "2022-04-22T09:57:14.624Z"
   },
   {
    "duration": 40,
    "start_time": "2022-04-22T09:57:14.629Z"
   },
   {
    "duration": 11,
    "start_time": "2022-04-22T09:57:14.671Z"
   },
   {
    "duration": 7,
    "start_time": "2022-04-22T09:57:14.683Z"
   },
   {
    "duration": 10,
    "start_time": "2022-04-22T09:57:14.691Z"
   },
   {
    "duration": 9,
    "start_time": "2022-04-22T09:57:14.702Z"
   },
   {
    "duration": 5,
    "start_time": "2022-04-22T09:57:14.713Z"
   },
   {
    "duration": 4,
    "start_time": "2022-04-22T09:57:14.723Z"
   },
   {
    "duration": 17,
    "start_time": "2022-04-22T10:05:49.014Z"
   },
   {
    "duration": 5,
    "start_time": "2022-04-22T10:06:30.019Z"
   },
   {
    "duration": 4,
    "start_time": "2022-04-22T10:07:21.799Z"
   },
   {
    "duration": 425,
    "start_time": "2022-04-22T10:07:21.805Z"
   },
   {
    "duration": 8,
    "start_time": "2022-04-22T10:07:22.232Z"
   },
   {
    "duration": 39,
    "start_time": "2022-04-22T10:07:22.241Z"
   },
   {
    "duration": 34,
    "start_time": "2022-04-22T10:07:22.282Z"
   },
   {
    "duration": 21,
    "start_time": "2022-04-22T10:07:22.318Z"
   },
   {
    "duration": 89,
    "start_time": "2022-04-22T10:07:22.341Z"
   },
   {
    "duration": 23,
    "start_time": "2022-04-22T10:07:22.433Z"
   },
   {
    "duration": 25,
    "start_time": "2022-04-22T10:07:22.458Z"
   },
   {
    "duration": 73,
    "start_time": "2022-04-22T10:07:22.485Z"
   },
   {
    "duration": 32,
    "start_time": "2022-04-22T10:07:22.562Z"
   },
   {
    "duration": 8,
    "start_time": "2022-04-22T10:07:22.595Z"
   },
   {
    "duration": 24,
    "start_time": "2022-04-22T10:07:22.605Z"
   },
   {
    "duration": 52,
    "start_time": "2022-04-22T10:07:22.631Z"
   },
   {
    "duration": 38,
    "start_time": "2022-04-22T10:07:22.684Z"
   },
   {
    "duration": 31,
    "start_time": "2022-04-22T10:07:22.723Z"
   },
   {
    "duration": 9,
    "start_time": "2022-04-22T10:07:22.756Z"
   },
   {
    "duration": 27,
    "start_time": "2022-04-22T10:07:22.767Z"
   },
   {
    "duration": 18,
    "start_time": "2022-04-22T10:07:22.796Z"
   },
   {
    "duration": 24,
    "start_time": "2022-04-22T10:07:22.816Z"
   },
   {
    "duration": 19,
    "start_time": "2022-04-22T10:07:22.842Z"
   },
   {
    "duration": 5,
    "start_time": "2022-04-22T10:07:22.863Z"
   },
   {
    "duration": 290,
    "start_time": "2022-04-22T10:07:22.870Z"
   },
   {
    "duration": 11,
    "start_time": "2022-04-22T10:07:23.162Z"
   },
   {
    "duration": 368,
    "start_time": "2022-04-22T10:07:23.175Z"
   },
   {
    "duration": 23,
    "start_time": "2022-04-22T10:07:23.544Z"
   },
   {
    "duration": 5,
    "start_time": "2022-04-22T10:07:23.569Z"
   },
   {
    "duration": 11,
    "start_time": "2022-04-22T10:07:23.576Z"
   },
   {
    "duration": 387,
    "start_time": "2022-04-22T10:07:23.593Z"
   },
   {
    "duration": 85,
    "start_time": "2022-04-22T10:07:23.983Z"
   },
   {
    "duration": 12,
    "start_time": "2022-04-22T10:07:24.070Z"
   },
   {
    "duration": 240,
    "start_time": "2022-04-22T10:07:24.083Z"
   },
   {
    "duration": 29,
    "start_time": "2022-04-22T10:07:24.325Z"
   },
   {
    "duration": 414,
    "start_time": "2022-04-22T10:07:24.356Z"
   },
   {
    "duration": 46,
    "start_time": "2022-04-22T10:07:24.772Z"
   },
   {
    "duration": 146,
    "start_time": "2022-04-22T10:07:24.820Z"
   },
   {
    "duration": 4,
    "start_time": "2022-04-22T10:07:24.969Z"
   },
   {
    "duration": 24,
    "start_time": "2022-04-22T10:07:24.974Z"
   },
   {
    "duration": 8,
    "start_time": "2022-04-22T10:07:25.000Z"
   },
   {
    "duration": 46,
    "start_time": "2022-04-22T10:07:25.010Z"
   },
   {
    "duration": 4,
    "start_time": "2022-04-22T10:07:25.057Z"
   },
   {
    "duration": 162,
    "start_time": "2022-04-22T10:07:25.062Z"
   },
   {
    "duration": 5,
    "start_time": "2022-04-22T10:07:25.226Z"
   },
   {
    "duration": 27,
    "start_time": "2022-04-22T10:07:25.232Z"
   },
   {
    "duration": 313,
    "start_time": "2022-04-22T10:07:25.260Z"
   },
   {
    "duration": 8,
    "start_time": "2022-04-22T10:07:25.575Z"
   },
   {
    "duration": 10,
    "start_time": "2022-04-22T10:07:25.585Z"
   },
   {
    "duration": 7,
    "start_time": "2022-04-22T10:07:25.597Z"
   },
   {
    "duration": 15,
    "start_time": "2022-04-22T10:07:25.605Z"
   },
   {
    "duration": 7,
    "start_time": "2022-04-22T10:07:25.622Z"
   },
   {
    "duration": 137,
    "start_time": "2022-04-22T10:07:25.630Z"
   },
   {
    "duration": 110,
    "start_time": "2022-04-22T10:07:25.768Z"
   },
   {
    "duration": 104,
    "start_time": "2022-04-22T10:07:25.879Z"
   },
   {
    "duration": 113,
    "start_time": "2022-04-22T10:07:25.984Z"
   },
   {
    "duration": 22,
    "start_time": "2022-04-22T10:07:26.099Z"
   },
   {
    "duration": 41,
    "start_time": "2022-04-22T10:07:26.123Z"
   },
   {
    "duration": 25,
    "start_time": "2022-04-22T10:07:26.165Z"
   },
   {
    "duration": 113,
    "start_time": "2022-04-22T10:07:26.191Z"
   },
   {
    "duration": 20,
    "start_time": "2022-04-22T10:07:26.305Z"
   },
   {
    "duration": 9,
    "start_time": "2022-04-22T10:07:26.326Z"
   },
   {
    "duration": 19,
    "start_time": "2022-04-22T10:07:26.336Z"
   },
   {
    "duration": 23,
    "start_time": "2022-04-22T10:07:26.357Z"
   },
   {
    "duration": 39,
    "start_time": "2022-04-22T10:07:26.382Z"
   },
   {
    "duration": 18,
    "start_time": "2022-04-22T10:07:26.423Z"
   },
   {
    "duration": 96,
    "start_time": "2022-04-22T10:07:26.443Z"
   },
   {
    "duration": 13,
    "start_time": "2022-04-22T10:07:26.541Z"
   },
   {
    "duration": 34,
    "start_time": "2022-04-22T10:07:26.556Z"
   },
   {
    "duration": 24,
    "start_time": "2022-04-22T10:07:26.592Z"
   },
   {
    "duration": 40,
    "start_time": "2022-04-22T10:07:26.618Z"
   },
   {
    "duration": 37,
    "start_time": "2022-04-22T10:07:26.660Z"
   },
   {
    "duration": 23,
    "start_time": "2022-04-22T10:07:26.699Z"
   },
   {
    "duration": 16,
    "start_time": "2022-04-22T10:07:26.724Z"
   },
   {
    "duration": 117,
    "start_time": "2022-04-22T10:07:26.742Z"
   },
   {
    "duration": 5,
    "start_time": "2022-04-22T10:07:26.861Z"
   },
   {
    "duration": 19,
    "start_time": "2022-04-22T10:07:26.868Z"
   },
   {
    "duration": 19,
    "start_time": "2022-04-22T10:07:26.888Z"
   },
   {
    "duration": 13,
    "start_time": "2022-04-22T10:07:26.909Z"
   },
   {
    "duration": 40,
    "start_time": "2022-04-22T10:07:26.923Z"
   },
   {
    "duration": 26,
    "start_time": "2022-04-22T10:07:26.964Z"
   },
   {
    "duration": 8,
    "start_time": "2022-04-22T10:07:26.992Z"
   },
   {
    "duration": 14,
    "start_time": "2022-04-22T10:07:27.001Z"
   },
   {
    "duration": 9,
    "start_time": "2022-04-22T10:07:27.016Z"
   },
   {
    "duration": 6,
    "start_time": "2022-04-22T10:07:27.033Z"
   },
   {
    "duration": 5,
    "start_time": "2022-04-22T10:07:27.041Z"
   },
   {
    "duration": 3,
    "start_time": "2022-04-22T10:09:35.418Z"
   },
   {
    "duration": 408,
    "start_time": "2022-04-22T10:09:35.423Z"
   },
   {
    "duration": 9,
    "start_time": "2022-04-22T10:09:35.833Z"
   },
   {
    "duration": 38,
    "start_time": "2022-04-22T10:09:35.844Z"
   },
   {
    "duration": 39,
    "start_time": "2022-04-22T10:09:35.883Z"
   },
   {
    "duration": 27,
    "start_time": "2022-04-22T10:09:35.923Z"
   },
   {
    "duration": 102,
    "start_time": "2022-04-22T10:09:35.952Z"
   },
   {
    "duration": 12,
    "start_time": "2022-04-22T10:09:36.057Z"
   },
   {
    "duration": 62,
    "start_time": "2022-04-22T10:09:36.072Z"
   },
   {
    "duration": 63,
    "start_time": "2022-04-22T10:09:36.136Z"
   },
   {
    "duration": 43,
    "start_time": "2022-04-22T10:09:36.202Z"
   },
   {
    "duration": 9,
    "start_time": "2022-04-22T10:09:36.257Z"
   },
   {
    "duration": 40,
    "start_time": "2022-04-22T10:09:36.268Z"
   },
   {
    "duration": 33,
    "start_time": "2022-04-22T10:09:36.310Z"
   },
   {
    "duration": 32,
    "start_time": "2022-04-22T10:09:36.354Z"
   },
   {
    "duration": 8,
    "start_time": "2022-04-22T10:09:36.388Z"
   },
   {
    "duration": 38,
    "start_time": "2022-04-22T10:09:36.397Z"
   },
   {
    "duration": 40,
    "start_time": "2022-04-22T10:09:36.437Z"
   },
   {
    "duration": 34,
    "start_time": "2022-04-22T10:09:36.479Z"
   },
   {
    "duration": 28,
    "start_time": "2022-04-22T10:09:36.515Z"
   },
   {
    "duration": 40,
    "start_time": "2022-04-22T10:09:36.544Z"
   },
   {
    "duration": 23,
    "start_time": "2022-04-22T10:09:36.585Z"
   },
   {
    "duration": 213,
    "start_time": "2022-04-22T10:09:36.609Z"
   },
   {
    "duration": 9,
    "start_time": "2022-04-22T10:09:36.826Z"
   },
   {
    "duration": 226,
    "start_time": "2022-04-22T10:09:36.854Z"
   },
   {
    "duration": 15,
    "start_time": "2022-04-22T10:09:37.082Z"
   },
   {
    "duration": 4,
    "start_time": "2022-04-22T10:09:37.099Z"
   },
   {
    "duration": 34,
    "start_time": "2022-04-22T10:09:37.104Z"
   },
   {
    "duration": 257,
    "start_time": "2022-04-22T10:09:37.140Z"
   },
   {
    "duration": 55,
    "start_time": "2022-04-22T10:09:37.399Z"
   },
   {
    "duration": 7,
    "start_time": "2022-04-22T10:09:37.456Z"
   },
   {
    "duration": 161,
    "start_time": "2022-04-22T10:09:37.465Z"
   },
   {
    "duration": 12,
    "start_time": "2022-04-22T10:09:37.627Z"
   },
   {
    "duration": 256,
    "start_time": "2022-04-22T10:09:37.640Z"
   },
   {
    "duration": 34,
    "start_time": "2022-04-22T10:09:37.898Z"
   },
   {
    "duration": 157,
    "start_time": "2022-04-22T10:09:37.935Z"
   },
   {
    "duration": 5,
    "start_time": "2022-04-22T10:09:38.094Z"
   },
   {
    "duration": 24,
    "start_time": "2022-04-22T10:09:38.101Z"
   },
   {
    "duration": 25,
    "start_time": "2022-04-22T10:09:38.127Z"
   },
   {
    "duration": 42,
    "start_time": "2022-04-22T10:09:38.154Z"
   },
   {
    "duration": 9,
    "start_time": "2022-04-22T10:09:38.197Z"
   },
   {
    "duration": 52,
    "start_time": "2022-04-22T10:09:38.208Z"
   },
   {
    "duration": 6,
    "start_time": "2022-04-22T10:09:38.261Z"
   },
   {
    "duration": 49,
    "start_time": "2022-04-22T10:09:38.269Z"
   },
   {
    "duration": 458,
    "start_time": "2022-04-22T10:09:38.319Z"
   },
   {
    "duration": 10,
    "start_time": "2022-04-22T10:09:38.778Z"
   },
   {
    "duration": 29,
    "start_time": "2022-04-22T10:09:38.790Z"
   },
   {
    "duration": 22,
    "start_time": "2022-04-22T10:09:38.820Z"
   },
   {
    "duration": 39,
    "start_time": "2022-04-22T10:09:38.844Z"
   },
   {
    "duration": 24,
    "start_time": "2022-04-22T10:09:38.884Z"
   },
   {
    "duration": 121,
    "start_time": "2022-04-22T10:09:38.910Z"
   },
   {
    "duration": 111,
    "start_time": "2022-04-22T10:09:39.033Z"
   },
   {
    "duration": 111,
    "start_time": "2022-04-22T10:09:39.146Z"
   },
   {
    "duration": 110,
    "start_time": "2022-04-22T10:09:39.259Z"
   },
   {
    "duration": 23,
    "start_time": "2022-04-22T10:09:39.370Z"
   },
   {
    "duration": 12,
    "start_time": "2022-04-22T10:09:39.395Z"
   },
   {
    "duration": 25,
    "start_time": "2022-04-22T10:09:39.409Z"
   },
   {
    "duration": 97,
    "start_time": "2022-04-22T10:09:39.436Z"
   },
   {
    "duration": 20,
    "start_time": "2022-04-22T10:09:39.535Z"
   },
   {
    "duration": 24,
    "start_time": "2022-04-22T10:09:39.556Z"
   },
   {
    "duration": 24,
    "start_time": "2022-04-22T10:09:39.582Z"
   },
   {
    "duration": 31,
    "start_time": "2022-04-22T10:09:39.607Z"
   },
   {
    "duration": 34,
    "start_time": "2022-04-22T10:09:39.639Z"
   },
   {
    "duration": 13,
    "start_time": "2022-04-22T10:09:39.675Z"
   },
   {
    "duration": 136,
    "start_time": "2022-04-22T10:09:39.692Z"
   },
   {
    "duration": 11,
    "start_time": "2022-04-22T10:09:39.830Z"
   },
   {
    "duration": 28,
    "start_time": "2022-04-22T10:09:39.843Z"
   },
   {
    "duration": 32,
    "start_time": "2022-04-22T10:09:39.872Z"
   },
   {
    "duration": 41,
    "start_time": "2022-04-22T10:09:39.908Z"
   },
   {
    "duration": 25,
    "start_time": "2022-04-22T10:09:39.950Z"
   },
   {
    "duration": 18,
    "start_time": "2022-04-22T10:09:39.976Z"
   },
   {
    "duration": 21,
    "start_time": "2022-04-22T10:09:39.995Z"
   },
   {
    "duration": 119,
    "start_time": "2022-04-22T10:09:40.017Z"
   },
   {
    "duration": 5,
    "start_time": "2022-04-22T10:09:40.138Z"
   },
   {
    "duration": 19,
    "start_time": "2022-04-22T10:09:40.144Z"
   },
   {
    "duration": 34,
    "start_time": "2022-04-22T10:09:40.165Z"
   },
   {
    "duration": 26,
    "start_time": "2022-04-22T10:09:40.201Z"
   },
   {
    "duration": 50,
    "start_time": "2022-04-22T10:09:40.229Z"
   },
   {
    "duration": 31,
    "start_time": "2022-04-22T10:09:40.280Z"
   },
   {
    "duration": 23,
    "start_time": "2022-04-22T10:09:40.312Z"
   },
   {
    "duration": 28,
    "start_time": "2022-04-22T10:09:40.337Z"
   },
   {
    "duration": 49,
    "start_time": "2022-04-22T10:09:40.367Z"
   },
   {
    "duration": 21,
    "start_time": "2022-04-22T10:09:40.418Z"
   },
   {
    "duration": 16,
    "start_time": "2022-04-22T10:09:40.442Z"
   },
   {
    "duration": 1670,
    "start_time": "2022-04-22T19:45:25.648Z"
   },
   {
    "duration": 399,
    "start_time": "2022-04-22T19:45:27.321Z"
   },
   {
    "duration": 13,
    "start_time": "2022-04-22T19:45:27.722Z"
   },
   {
    "duration": 27,
    "start_time": "2022-04-22T19:45:27.737Z"
   },
   {
    "duration": 42,
    "start_time": "2022-04-22T19:45:27.765Z"
   },
   {
    "duration": 38,
    "start_time": "2022-04-22T19:45:27.809Z"
   },
   {
    "duration": 73,
    "start_time": "2022-04-22T19:45:27.849Z"
   },
   {
    "duration": 9,
    "start_time": "2022-04-22T19:45:27.924Z"
   },
   {
    "duration": 32,
    "start_time": "2022-04-22T19:45:27.948Z"
   },
   {
    "duration": 65,
    "start_time": "2022-04-22T19:45:27.983Z"
   },
   {
    "duration": 30,
    "start_time": "2022-04-22T19:45:28.050Z"
   },
   {
    "duration": 8,
    "start_time": "2022-04-22T19:45:28.082Z"
   },
   {
    "duration": 22,
    "start_time": "2022-04-22T19:45:28.092Z"
   },
   {
    "duration": 58,
    "start_time": "2022-04-22T19:45:28.116Z"
   },
   {
    "duration": 36,
    "start_time": "2022-04-22T19:45:28.176Z"
   },
   {
    "duration": 8,
    "start_time": "2022-04-22T19:45:28.213Z"
   },
   {
    "duration": 28,
    "start_time": "2022-04-22T19:45:28.223Z"
   },
   {
    "duration": 12,
    "start_time": "2022-04-22T19:45:28.253Z"
   },
   {
    "duration": 14,
    "start_time": "2022-04-22T19:45:28.266Z"
   },
   {
    "duration": 12,
    "start_time": "2022-04-22T19:45:28.281Z"
   },
   {
    "duration": 11,
    "start_time": "2022-04-22T19:45:28.295Z"
   },
   {
    "duration": 4,
    "start_time": "2022-04-22T19:45:28.308Z"
   },
   {
    "duration": 247,
    "start_time": "2022-04-22T19:45:28.313Z"
   },
   {
    "duration": 8,
    "start_time": "2022-04-22T19:45:28.562Z"
   },
   {
    "duration": 329,
    "start_time": "2022-04-22T19:45:28.572Z"
   },
   {
    "duration": 22,
    "start_time": "2022-04-22T19:45:28.902Z"
   },
   {
    "duration": 4,
    "start_time": "2022-04-22T19:45:28.926Z"
   },
   {
    "duration": 9,
    "start_time": "2022-04-22T19:45:28.951Z"
   },
   {
    "duration": 260,
    "start_time": "2022-04-22T19:45:28.962Z"
   },
   {
    "duration": 60,
    "start_time": "2022-04-22T19:45:29.224Z"
   },
   {
    "duration": 8,
    "start_time": "2022-04-22T19:45:29.286Z"
   },
   {
    "duration": 164,
    "start_time": "2022-04-22T19:45:29.296Z"
   },
   {
    "duration": 13,
    "start_time": "2022-04-22T19:45:29.462Z"
   },
   {
    "duration": 262,
    "start_time": "2022-04-22T19:45:29.477Z"
   },
   {
    "duration": 48,
    "start_time": "2022-04-22T19:45:29.741Z"
   },
   {
    "duration": 225,
    "start_time": "2022-04-22T19:45:29.792Z"
   },
   {
    "duration": 5,
    "start_time": "2022-04-22T19:45:30.019Z"
   },
   {
    "duration": 33,
    "start_time": "2022-04-22T19:45:30.025Z"
   },
   {
    "duration": 8,
    "start_time": "2022-04-22T19:45:30.060Z"
   },
   {
    "duration": 33,
    "start_time": "2022-04-22T19:45:30.070Z"
   },
   {
    "duration": 3,
    "start_time": "2022-04-22T19:45:30.105Z"
   },
   {
    "duration": 120,
    "start_time": "2022-04-22T19:45:30.109Z"
   },
   {
    "duration": 6,
    "start_time": "2022-04-22T19:45:30.230Z"
   },
   {
    "duration": 37,
    "start_time": "2022-04-22T19:45:30.238Z"
   },
   {
    "duration": 421,
    "start_time": "2022-04-22T19:45:30.277Z"
   },
   {
    "duration": 9,
    "start_time": "2022-04-22T19:45:30.700Z"
   },
   {
    "duration": 20,
    "start_time": "2022-04-22T19:45:30.711Z"
   },
   {
    "duration": 25,
    "start_time": "2022-04-22T19:45:30.733Z"
   },
   {
    "duration": 18,
    "start_time": "2022-04-22T19:45:30.760Z"
   },
   {
    "duration": 26,
    "start_time": "2022-04-22T19:45:30.780Z"
   },
   {
    "duration": 123,
    "start_time": "2022-04-22T19:45:30.808Z"
   },
   {
    "duration": 132,
    "start_time": "2022-04-22T19:45:30.933Z"
   },
   {
    "duration": 104,
    "start_time": "2022-04-22T19:45:31.067Z"
   },
   {
    "duration": 114,
    "start_time": "2022-04-22T19:45:31.173Z"
   },
   {
    "duration": 26,
    "start_time": "2022-04-22T19:45:31.289Z"
   },
   {
    "duration": 10,
    "start_time": "2022-04-22T19:45:31.316Z"
   },
   {
    "duration": 23,
    "start_time": "2022-04-22T19:45:31.328Z"
   },
   {
    "duration": 114,
    "start_time": "2022-04-22T19:45:31.353Z"
   },
   {
    "duration": 23,
    "start_time": "2022-04-22T19:45:31.470Z"
   },
   {
    "duration": 3,
    "start_time": "2022-04-22T19:45:31.495Z"
   },
   {
    "duration": 7,
    "start_time": "2022-04-22T19:45:31.500Z"
   },
   {
    "duration": 8,
    "start_time": "2022-04-22T19:45:31.508Z"
   },
   {
    "duration": 7,
    "start_time": "2022-04-22T19:45:31.518Z"
   },
   {
    "duration": 23,
    "start_time": "2022-04-22T19:45:31.527Z"
   },
   {
    "duration": 124,
    "start_time": "2022-04-22T19:45:31.552Z"
   },
   {
    "duration": 13,
    "start_time": "2022-04-22T19:45:31.678Z"
   },
   {
    "duration": 20,
    "start_time": "2022-04-22T19:45:31.693Z"
   },
   {
    "duration": 10,
    "start_time": "2022-04-22T19:45:31.715Z"
   },
   {
    "duration": 19,
    "start_time": "2022-04-22T19:45:31.748Z"
   },
   {
    "duration": 28,
    "start_time": "2022-04-22T19:45:31.769Z"
   },
   {
    "duration": 15,
    "start_time": "2022-04-22T19:45:31.799Z"
   },
   {
    "duration": 32,
    "start_time": "2022-04-22T19:45:31.816Z"
   },
   {
    "duration": 108,
    "start_time": "2022-04-22T19:45:31.850Z"
   },
   {
    "duration": 5,
    "start_time": "2022-04-22T19:45:31.960Z"
   },
   {
    "duration": 10,
    "start_time": "2022-04-22T19:45:31.967Z"
   },
   {
    "duration": 6,
    "start_time": "2022-04-22T19:45:31.979Z"
   },
   {
    "duration": 4,
    "start_time": "2022-04-22T19:45:31.986Z"
   },
   {
    "duration": 22,
    "start_time": "2022-04-22T19:45:31.992Z"
   },
   {
    "duration": 41,
    "start_time": "2022-04-22T19:45:32.015Z"
   },
   {
    "duration": 7,
    "start_time": "2022-04-22T19:45:32.058Z"
   },
   {
    "duration": 8,
    "start_time": "2022-04-22T19:45:32.066Z"
   },
   {
    "duration": 7,
    "start_time": "2022-04-22T19:45:32.080Z"
   },
   {
    "duration": 13,
    "start_time": "2022-04-22T19:45:32.088Z"
   },
   {
    "duration": 6,
    "start_time": "2022-04-22T19:45:32.103Z"
   },
   {
    "duration": 22,
    "start_time": "2022-04-22T19:47:44.551Z"
   },
   {
    "duration": 19,
    "start_time": "2022-04-22T19:54:19.641Z"
   },
   {
    "duration": 5,
    "start_time": "2022-04-22T19:54:26.591Z"
   },
   {
    "duration": 23,
    "start_time": "2022-04-22T19:54:36.224Z"
   },
   {
    "duration": 33,
    "start_time": "2022-04-22T19:55:21.487Z"
   },
   {
    "duration": 25,
    "start_time": "2022-04-22T19:56:54.877Z"
   },
   {
    "duration": 5,
    "start_time": "2022-04-22T19:57:31.279Z"
   },
   {
    "duration": 1557,
    "start_time": "2022-04-22T20:37:44.629Z"
   },
   {
    "duration": 495,
    "start_time": "2022-04-22T20:37:46.188Z"
   },
   {
    "duration": 14,
    "start_time": "2022-04-22T20:37:46.685Z"
   },
   {
    "duration": 33,
    "start_time": "2022-04-22T20:37:46.702Z"
   },
   {
    "duration": 56,
    "start_time": "2022-04-22T20:37:46.736Z"
   },
   {
    "duration": 24,
    "start_time": "2022-04-22T20:37:46.794Z"
   },
   {
    "duration": 90,
    "start_time": "2022-04-22T20:37:46.832Z"
   },
   {
    "duration": 25,
    "start_time": "2022-04-22T20:37:46.923Z"
   },
   {
    "duration": 49,
    "start_time": "2022-04-22T20:37:46.950Z"
   },
   {
    "duration": 84,
    "start_time": "2022-04-22T20:37:47.003Z"
   },
   {
    "duration": 33,
    "start_time": "2022-04-22T20:37:47.089Z"
   },
   {
    "duration": 26,
    "start_time": "2022-04-22T20:37:47.123Z"
   },
   {
    "duration": 29,
    "start_time": "2022-04-22T20:37:47.154Z"
   },
   {
    "duration": 57,
    "start_time": "2022-04-22T20:37:47.185Z"
   },
   {
    "duration": 46,
    "start_time": "2022-04-22T20:37:47.244Z"
   },
   {
    "duration": 11,
    "start_time": "2022-04-22T20:37:47.292Z"
   },
   {
    "duration": 16,
    "start_time": "2022-04-22T20:37:47.305Z"
   },
   {
    "duration": 15,
    "start_time": "2022-04-22T20:37:47.333Z"
   },
   {
    "duration": 23,
    "start_time": "2022-04-22T20:37:47.350Z"
   },
   {
    "duration": 15,
    "start_time": "2022-04-22T20:37:47.374Z"
   },
   {
    "duration": 13,
    "start_time": "2022-04-22T20:37:47.390Z"
   },
   {
    "duration": 4,
    "start_time": "2022-04-22T20:37:47.406Z"
   },
   {
    "duration": 280,
    "start_time": "2022-04-22T20:37:47.411Z"
   },
   {
    "duration": 11,
    "start_time": "2022-04-22T20:37:47.693Z"
   },
   {
    "duration": 328,
    "start_time": "2022-04-22T20:37:47.706Z"
   },
   {
    "duration": 23,
    "start_time": "2022-04-22T20:37:48.036Z"
   },
   {
    "duration": 6,
    "start_time": "2022-04-22T20:37:48.061Z"
   },
   {
    "duration": 10,
    "start_time": "2022-04-22T20:37:48.071Z"
   },
   {
    "duration": 358,
    "start_time": "2022-04-22T20:37:48.083Z"
   },
   {
    "duration": 69,
    "start_time": "2022-04-22T20:37:48.447Z"
   },
   {
    "duration": 32,
    "start_time": "2022-04-22T20:37:48.519Z"
   },
   {
    "duration": 215,
    "start_time": "2022-04-22T20:37:48.554Z"
   },
   {
    "duration": 13,
    "start_time": "2022-04-22T20:37:48.771Z"
   },
   {
    "duration": 337,
    "start_time": "2022-04-22T20:37:48.786Z"
   },
   {
    "duration": 50,
    "start_time": "2022-04-22T20:37:49.133Z"
   },
   {
    "duration": 189,
    "start_time": "2022-04-22T20:37:49.185Z"
   },
   {
    "duration": 4,
    "start_time": "2022-04-23T07:44:48.994Z"
   },
   {
    "duration": 75,
    "start_time": "2022-04-23T07:45:09.086Z"
   },
   {
    "duration": 1822,
    "start_time": "2022-04-23T07:45:22.745Z"
   },
   {
    "duration": 568,
    "start_time": "2022-04-23T07:45:24.571Z"
   },
   {
    "duration": 23,
    "start_time": "2022-04-23T07:45:25.142Z"
   },
   {
    "duration": 37,
    "start_time": "2022-04-23T07:45:25.168Z"
   },
   {
    "duration": 57,
    "start_time": "2022-04-23T07:45:25.207Z"
   },
   {
    "duration": 40,
    "start_time": "2022-04-23T07:45:25.266Z"
   },
   {
    "duration": 115,
    "start_time": "2022-04-23T07:45:25.309Z"
   },
   {
    "duration": 16,
    "start_time": "2022-04-23T07:45:25.427Z"
   },
   {
    "duration": 51,
    "start_time": "2022-04-23T07:45:25.445Z"
   },
   {
    "duration": 73,
    "start_time": "2022-04-23T07:45:25.500Z"
   },
   {
    "duration": 57,
    "start_time": "2022-04-23T07:45:25.576Z"
   },
   {
    "duration": 11,
    "start_time": "2022-04-23T07:45:25.635Z"
   },
   {
    "duration": 76,
    "start_time": "2022-04-23T07:45:25.648Z"
   },
   {
    "duration": 52,
    "start_time": "2022-04-23T07:45:25.726Z"
   },
   {
    "duration": 62,
    "start_time": "2022-04-23T07:45:25.780Z"
   },
   {
    "duration": 13,
    "start_time": "2022-04-23T07:45:25.844Z"
   },
   {
    "duration": 42,
    "start_time": "2022-04-23T07:45:25.860Z"
   },
   {
    "duration": 22,
    "start_time": "2022-04-23T07:45:25.904Z"
   },
   {
    "duration": 16,
    "start_time": "2022-04-23T07:45:25.928Z"
   },
   {
    "duration": 16,
    "start_time": "2022-04-23T07:45:25.947Z"
   },
   {
    "duration": 41,
    "start_time": "2022-04-23T07:45:25.966Z"
   },
   {
    "duration": 12,
    "start_time": "2022-04-23T07:45:26.010Z"
   },
   {
    "duration": 312,
    "start_time": "2022-04-23T07:45:26.024Z"
   },
   {
    "duration": 12,
    "start_time": "2022-04-23T07:45:26.338Z"
   },
   {
    "duration": 510,
    "start_time": "2022-04-23T07:45:26.352Z"
   },
   {
    "duration": 11,
    "start_time": "2022-04-23T07:45:57.354Z"
   },
   {
    "duration": 408,
    "start_time": "2022-04-23T07:46:00.842Z"
   },
   {
    "duration": 93,
    "start_time": "2022-04-23T07:46:17.594Z"
   },
   {
    "duration": 2971,
    "start_time": "2022-04-23T07:47:16.055Z"
   },
   {
    "duration": 4,
    "start_time": "2022-04-23T07:48:03.223Z"
   },
   {
    "duration": 24,
    "start_time": "2022-04-23T07:49:13.015Z"
   },
   {
    "duration": 10,
    "start_time": "2022-04-23T07:52:49.275Z"
   },
   {
    "duration": 4,
    "start_time": "2022-04-23T07:53:19.903Z"
   },
   {
    "duration": 546,
    "start_time": "2022-04-23T07:53:19.935Z"
   },
   {
    "duration": 11,
    "start_time": "2022-04-23T07:53:20.484Z"
   },
   {
    "duration": 47,
    "start_time": "2022-04-23T07:53:20.497Z"
   },
   {
    "duration": 65,
    "start_time": "2022-04-23T07:53:20.547Z"
   },
   {
    "duration": 30,
    "start_time": "2022-04-23T07:53:20.615Z"
   },
   {
    "duration": 104,
    "start_time": "2022-04-23T07:53:20.647Z"
   },
   {
    "duration": 13,
    "start_time": "2022-04-23T07:53:20.753Z"
   },
   {
    "duration": 52,
    "start_time": "2022-04-23T07:53:20.768Z"
   },
   {
    "duration": 81,
    "start_time": "2022-04-23T07:53:20.823Z"
   },
   {
    "duration": 40,
    "start_time": "2022-04-23T07:53:20.910Z"
   },
   {
    "duration": 11,
    "start_time": "2022-04-23T07:53:20.953Z"
   },
   {
    "duration": 55,
    "start_time": "2022-04-23T07:53:20.966Z"
   },
   {
    "duration": 47,
    "start_time": "2022-04-23T07:53:21.023Z"
   },
   {
    "duration": 68,
    "start_time": "2022-04-23T07:53:21.073Z"
   },
   {
    "duration": 12,
    "start_time": "2022-04-23T07:53:21.144Z"
   },
   {
    "duration": 37,
    "start_time": "2022-04-23T07:53:21.159Z"
   },
   {
    "duration": 25,
    "start_time": "2022-04-23T07:53:21.199Z"
   },
   {
    "duration": 16,
    "start_time": "2022-04-23T07:53:21.226Z"
   },
   {
    "duration": 14,
    "start_time": "2022-04-23T07:53:21.244Z"
   },
   {
    "duration": 51,
    "start_time": "2022-04-23T07:53:21.260Z"
   },
   {
    "duration": 6,
    "start_time": "2022-04-23T07:53:21.314Z"
   },
   {
    "duration": 291,
    "start_time": "2022-04-23T07:53:21.323Z"
   },
   {
    "duration": 12,
    "start_time": "2022-04-23T07:53:21.616Z"
   },
   {
    "duration": 377,
    "start_time": "2022-04-23T07:53:21.631Z"
   },
   {
    "duration": 23,
    "start_time": "2022-04-23T07:53:22.010Z"
   },
   {
    "duration": 4,
    "start_time": "2022-04-23T07:53:22.035Z"
   },
   {
    "duration": 13,
    "start_time": "2022-04-23T07:53:22.042Z"
   },
   {
    "duration": 408,
    "start_time": "2022-04-23T07:53:22.102Z"
   },
   {
    "duration": 69,
    "start_time": "2022-04-23T07:53:22.512Z"
   },
   {
    "duration": 21,
    "start_time": "2022-04-23T07:53:22.594Z"
   },
   {
    "duration": 11,
    "start_time": "2022-04-23T07:53:22.617Z"
   },
   {
    "duration": 337,
    "start_time": "2022-04-23T07:53:22.630Z"
   },
   {
    "duration": 37,
    "start_time": "2022-04-23T07:53:22.969Z"
   },
   {
    "duration": 384,
    "start_time": "2022-04-23T07:53:23.009Z"
   },
   {
    "duration": 46,
    "start_time": "2022-04-23T07:53:23.398Z"
   },
   {
    "duration": 236,
    "start_time": "2022-04-23T07:53:23.446Z"
   },
   {
    "duration": 3,
    "start_time": "2022-04-23T07:53:23.685Z"
   },
   {
    "duration": 35,
    "start_time": "2022-04-23T07:53:23.693Z"
   },
   {
    "duration": 10,
    "start_time": "2022-04-23T07:53:23.730Z"
   },
   {
    "duration": 44,
    "start_time": "2022-04-23T07:53:27.365Z"
   },
   {
    "duration": 20,
    "start_time": "2022-04-23T07:53:31.515Z"
   },
   {
    "duration": 40,
    "start_time": "2022-04-23T07:56:28.121Z"
   },
   {
    "duration": 45,
    "start_time": "2022-04-23T07:56:44.065Z"
   },
   {
    "duration": 8,
    "start_time": "2022-04-23T07:56:48.984Z"
   },
   {
    "duration": 22,
    "start_time": "2022-04-23T07:56:53.713Z"
   },
   {
    "duration": 497,
    "start_time": "2022-04-23T07:57:43.116Z"
   },
   {
    "duration": 10,
    "start_time": "2022-04-23T07:57:47.316Z"
   },
   {
    "duration": 12,
    "start_time": "2022-04-23T07:57:49.331Z"
   },
   {
    "duration": 12,
    "start_time": "2022-04-23T07:57:52.230Z"
   },
   {
    "duration": 13,
    "start_time": "2022-04-23T07:57:54.864Z"
   },
   {
    "duration": 12,
    "start_time": "2022-04-23T07:57:57.433Z"
   },
   {
    "duration": 182,
    "start_time": "2022-04-23T07:58:12.757Z"
   },
   {
    "duration": 192,
    "start_time": "2022-04-23T07:58:18.635Z"
   },
   {
    "duration": 163,
    "start_time": "2022-04-23T07:58:24.006Z"
   },
   {
    "duration": 166,
    "start_time": "2022-04-23T07:58:28.018Z"
   },
   {
    "duration": 5,
    "start_time": "2022-04-23T08:01:51.823Z"
   },
   {
    "duration": 3,
    "start_time": "2022-04-23T08:02:02.273Z"
   },
   {
    "duration": 5,
    "start_time": "2022-04-23T08:02:44.076Z"
   },
   {
    "duration": 6,
    "start_time": "2022-04-23T08:02:46.106Z"
   },
   {
    "duration": 5,
    "start_time": "2022-04-23T08:02:48.463Z"
   },
   {
    "duration": 6,
    "start_time": "2022-04-23T08:02:50.932Z"
   },
   {
    "duration": 311,
    "start_time": "2022-04-23T08:02:54.964Z"
   },
   {
    "duration": 19,
    "start_time": "2022-04-23T08:03:19.152Z"
   },
   {
    "duration": 29,
    "start_time": "2022-04-23T08:03:22.630Z"
   },
   {
    "duration": 10,
    "start_time": "2022-04-23T08:03:33.019Z"
   },
   {
    "duration": 28,
    "start_time": "2022-04-23T08:03:41.017Z"
   },
   {
    "duration": 36,
    "start_time": "2022-04-23T08:03:44.775Z"
   },
   {
    "duration": 20,
    "start_time": "2022-04-23T08:03:48.424Z"
   },
   {
    "duration": 11,
    "start_time": "2022-04-23T08:03:55.611Z"
   },
   {
    "duration": 197,
    "start_time": "2022-04-23T08:04:00.357Z"
   },
   {
    "duration": 8,
    "start_time": "2022-04-23T08:04:05.018Z"
   },
   {
    "duration": 9,
    "start_time": "2022-04-23T08:04:11.885Z"
   },
   {
    "duration": 7,
    "start_time": "2022-04-23T08:04:15.020Z"
   },
   {
    "duration": 5,
    "start_time": "2022-04-23T08:04:18.091Z"
   },
   {
    "duration": 33,
    "start_time": "2022-04-23T08:04:22.203Z"
   },
   {
    "duration": 68,
    "start_time": "2022-04-23T11:58:14.196Z"
   },
   {
    "duration": 2569,
    "start_time": "2022-04-23T11:58:31.498Z"
   },
   {
    "duration": 713,
    "start_time": "2022-04-23T11:58:34.071Z"
   },
   {
    "duration": 23,
    "start_time": "2022-04-23T11:58:34.787Z"
   },
   {
    "duration": 43,
    "start_time": "2022-04-23T11:58:34.815Z"
   },
   {
    "duration": 101,
    "start_time": "2022-04-23T11:58:34.861Z"
   },
   {
    "duration": 41,
    "start_time": "2022-04-23T11:58:34.964Z"
   },
   {
    "duration": 147,
    "start_time": "2022-04-23T11:58:35.008Z"
   },
   {
    "duration": 16,
    "start_time": "2022-04-23T11:58:35.158Z"
   },
   {
    "duration": 45,
    "start_time": "2022-04-23T11:58:35.176Z"
   },
   {
    "duration": 106,
    "start_time": "2022-04-23T11:58:35.251Z"
   },
   {
    "duration": 59,
    "start_time": "2022-04-23T11:58:35.360Z"
   },
   {
    "duration": 29,
    "start_time": "2022-04-23T11:58:35.423Z"
   },
   {
    "duration": 42,
    "start_time": "2022-04-23T11:58:35.455Z"
   },
   {
    "duration": 96,
    "start_time": "2022-04-23T11:58:35.501Z"
   },
   {
    "duration": 79,
    "start_time": "2022-04-23T11:58:35.600Z"
   },
   {
    "duration": 15,
    "start_time": "2022-04-23T11:58:35.682Z"
   },
   {
    "duration": 39,
    "start_time": "2022-04-23T11:58:35.700Z"
   },
   {
    "duration": 42,
    "start_time": "2022-04-23T11:58:35.742Z"
   },
   {
    "duration": 33,
    "start_time": "2022-04-23T11:58:35.788Z"
   },
   {
    "duration": 27,
    "start_time": "2022-04-23T11:58:35.823Z"
   },
   {
    "duration": 25,
    "start_time": "2022-04-23T11:58:35.853Z"
   },
   {
    "duration": 23,
    "start_time": "2022-04-23T11:58:35.881Z"
   },
   {
    "duration": 461,
    "start_time": "2022-04-23T11:58:35.907Z"
   },
   {
    "duration": 16,
    "start_time": "2022-04-23T11:58:36.371Z"
   },
   {
    "duration": 418,
    "start_time": "2022-04-23T11:58:36.390Z"
   },
   {
    "duration": 23,
    "start_time": "2022-04-23T11:58:36.811Z"
   },
   {
    "duration": 14,
    "start_time": "2022-04-23T11:58:36.838Z"
   },
   {
    "duration": 20,
    "start_time": "2022-04-23T11:58:36.858Z"
   },
   {
    "duration": 665,
    "start_time": "2022-04-23T11:58:36.881Z"
   },
   {
    "duration": 81,
    "start_time": "2022-04-23T11:58:37.552Z"
   },
   {
    "duration": 34,
    "start_time": "2022-04-23T11:58:37.635Z"
   },
   {
    "duration": 31,
    "start_time": "2022-04-23T11:58:37.672Z"
   },
   {
    "duration": 361,
    "start_time": "2022-04-23T11:58:37.706Z"
   },
   {
    "duration": 24,
    "start_time": "2022-04-23T11:58:38.070Z"
   },
   {
    "duration": 620,
    "start_time": "2022-04-23T11:58:38.097Z"
   },
   {
    "duration": 74,
    "start_time": "2022-04-23T11:58:38.720Z"
   },
   {
    "duration": 318,
    "start_time": "2022-04-23T11:58:38.797Z"
   },
   {
    "duration": 3,
    "start_time": "2022-04-23T11:58:39.117Z"
   },
   {
    "duration": 40,
    "start_time": "2022-04-23T11:58:39.123Z"
   },
   {
    "duration": 13,
    "start_time": "2022-04-23T11:58:39.165Z"
   },
   {
    "duration": 48,
    "start_time": "2022-04-23T11:58:39.180Z"
   },
   {
    "duration": 26,
    "start_time": "2022-04-23T11:58:39.252Z"
   },
   {
    "duration": 179,
    "start_time": "2022-04-23T11:58:39.281Z"
   },
   {
    "duration": 8,
    "start_time": "2022-04-23T11:58:39.463Z"
   },
   {
    "duration": 34,
    "start_time": "2022-04-23T11:58:39.473Z"
   },
   {
    "duration": 786,
    "start_time": "2022-04-23T11:58:39.510Z"
   },
   {
    "duration": 22,
    "start_time": "2022-04-23T11:58:40.299Z"
   },
   {
    "duration": 30,
    "start_time": "2022-04-23T11:58:40.324Z"
   },
   {
    "duration": 13,
    "start_time": "2022-04-23T11:58:40.357Z"
   },
   {
    "duration": 19,
    "start_time": "2022-04-23T11:58:40.373Z"
   },
   {
    "duration": 13,
    "start_time": "2022-04-23T11:58:40.395Z"
   },
   {
    "duration": 301,
    "start_time": "2022-04-23T11:58:40.410Z"
   },
   {
    "duration": 206,
    "start_time": "2022-04-23T11:58:40.715Z"
   },
   {
    "duration": 184,
    "start_time": "2022-04-23T11:58:40.924Z"
   },
   {
    "duration": 267,
    "start_time": "2022-04-23T11:58:41.111Z"
   },
   {
    "duration": 4,
    "start_time": "2022-04-23T11:58:41.381Z"
   },
   {
    "duration": 18,
    "start_time": "2022-04-23T11:58:41.388Z"
   },
   {
    "duration": 7,
    "start_time": "2022-04-23T11:58:41.408Z"
   },
   {
    "duration": 10,
    "start_time": "2022-04-23T11:58:41.417Z"
   },
   {
    "duration": 28,
    "start_time": "2022-04-23T11:58:41.429Z"
   },
   {
    "duration": 8,
    "start_time": "2022-04-23T11:58:41.460Z"
   },
   {
    "duration": 8,
    "start_time": "2022-04-23T11:58:41.470Z"
   },
   {
    "duration": 7,
    "start_time": "2022-04-23T11:58:41.481Z"
   },
   {
    "duration": 11,
    "start_time": "2022-04-23T11:58:41.490Z"
   },
   {
    "duration": 9,
    "start_time": "2022-04-23T11:58:41.503Z"
   },
   {
    "duration": 373,
    "start_time": "2022-04-23T11:58:41.514Z"
   },
   {
    "duration": 28,
    "start_time": "2022-04-23T11:58:41.890Z"
   },
   {
    "duration": 38,
    "start_time": "2022-04-23T11:58:46.205Z"
   },
   {
    "duration": 46,
    "start_time": "2022-04-23T11:59:14.169Z"
   },
   {
    "duration": 106,
    "start_time": "2022-04-23T11:59:35.448Z"
   },
   {
    "duration": 26,
    "start_time": "2022-04-23T12:00:04.865Z"
   },
   {
    "duration": 42,
    "start_time": "2022-04-23T12:01:39.819Z"
   },
   {
    "duration": 11,
    "start_time": "2022-04-23T12:01:51.776Z"
   },
   {
    "duration": 237,
    "start_time": "2022-04-23T12:02:03.986Z"
   },
   {
    "duration": 8,
    "start_time": "2022-04-23T12:02:13.523Z"
   },
   {
    "duration": 9,
    "start_time": "2022-04-23T12:02:19.108Z"
   },
   {
    "duration": 9,
    "start_time": "2022-04-23T12:02:23.779Z"
   },
   {
    "duration": 4,
    "start_time": "2022-04-23T12:09:27.839Z"
   },
   {
    "duration": 47,
    "start_time": "2022-04-23T12:09:29.824Z"
   },
   {
    "duration": 20,
    "start_time": "2022-04-23T12:09:34.674Z"
   },
   {
    "duration": 15,
    "start_time": "2022-04-23T12:09:44.414Z"
   },
   {
    "duration": 12,
    "start_time": "2022-04-23T12:09:47.492Z"
   },
   {
    "duration": 7,
    "start_time": "2022-04-23T12:10:02.111Z"
   },
   {
    "duration": 8,
    "start_time": "2022-04-23T12:10:16.953Z"
   },
   {
    "duration": 7,
    "start_time": "2022-04-23T12:10:28.786Z"
   },
   {
    "duration": 15,
    "start_time": "2022-04-23T12:11:23.035Z"
   },
   {
    "duration": 11,
    "start_time": "2022-04-23T12:11:34.088Z"
   },
   {
    "duration": 4,
    "start_time": "2022-04-23T12:25:52.416Z"
   },
   {
    "duration": 618,
    "start_time": "2022-04-23T12:25:52.424Z"
   },
   {
    "duration": 18,
    "start_time": "2022-04-23T12:25:53.045Z"
   },
   {
    "duration": 57,
    "start_time": "2022-04-23T12:25:53.066Z"
   },
   {
    "duration": 83,
    "start_time": "2022-04-23T12:25:53.152Z"
   },
   {
    "duration": 40,
    "start_time": "2022-04-23T12:25:53.253Z"
   },
   {
    "duration": 152,
    "start_time": "2022-04-23T12:25:53.296Z"
   },
   {
    "duration": 17,
    "start_time": "2022-04-23T12:25:53.450Z"
   },
   {
    "duration": 32,
    "start_time": "2022-04-23T12:25:53.470Z"
   },
   {
    "duration": 98,
    "start_time": "2022-04-23T12:25:53.504Z"
   },
   {
    "duration": 56,
    "start_time": "2022-04-23T12:25:53.606Z"
   },
   {
    "duration": 13,
    "start_time": "2022-04-23T12:25:53.665Z"
   },
   {
    "duration": 29,
    "start_time": "2022-04-23T12:25:53.681Z"
   },
   {
    "duration": 78,
    "start_time": "2022-04-23T12:25:53.712Z"
   },
   {
    "duration": 45,
    "start_time": "2022-04-23T12:25:53.793Z"
   },
   {
    "duration": 12,
    "start_time": "2022-04-23T12:25:53.852Z"
   },
   {
    "duration": 18,
    "start_time": "2022-04-23T12:25:53.866Z"
   },
   {
    "duration": 35,
    "start_time": "2022-04-23T12:25:53.887Z"
   },
   {
    "duration": 34,
    "start_time": "2022-04-23T12:25:53.925Z"
   },
   {
    "duration": 31,
    "start_time": "2022-04-23T12:25:53.962Z"
   },
   {
    "duration": 21,
    "start_time": "2022-04-23T12:25:53.996Z"
   },
   {
    "duration": 19,
    "start_time": "2022-04-23T12:25:54.019Z"
   },
   {
    "duration": 381,
    "start_time": "2022-04-23T12:25:54.053Z"
   },
   {
    "duration": 29,
    "start_time": "2022-04-23T12:25:54.437Z"
   },
   {
    "duration": 479,
    "start_time": "2022-04-23T12:25:54.468Z"
   },
   {
    "duration": 25,
    "start_time": "2022-04-23T12:25:54.949Z"
   },
   {
    "duration": 6,
    "start_time": "2022-04-23T12:25:54.978Z"
   },
   {
    "duration": 17,
    "start_time": "2022-04-23T12:25:54.986Z"
   },
   {
    "duration": 617,
    "start_time": "2022-04-23T12:25:55.012Z"
   },
   {
    "duration": 105,
    "start_time": "2022-04-23T12:25:55.632Z"
   },
   {
    "duration": 30,
    "start_time": "2022-04-23T12:25:55.740Z"
   },
   {
    "duration": 22,
    "start_time": "2022-04-23T12:25:55.772Z"
   },
   {
    "duration": 270,
    "start_time": "2022-04-23T12:25:55.796Z"
   },
   {
    "duration": 17,
    "start_time": "2022-04-23T12:25:56.068Z"
   },
   {
    "duration": 609,
    "start_time": "2022-04-23T12:25:56.087Z"
   },
   {
    "duration": 76,
    "start_time": "2022-04-23T12:25:56.698Z"
   },
   {
    "duration": 316,
    "start_time": "2022-04-23T12:25:56.776Z"
   },
   {
    "duration": 4,
    "start_time": "2022-04-23T12:25:57.095Z"
   },
   {
    "duration": 21,
    "start_time": "2022-04-23T12:25:57.101Z"
   },
   {
    "duration": 37,
    "start_time": "2022-04-23T12:25:57.125Z"
   },
   {
    "duration": 49,
    "start_time": "2022-04-23T12:25:57.164Z"
   },
   {
    "duration": 48,
    "start_time": "2022-04-23T12:25:57.215Z"
   },
   {
    "duration": 45,
    "start_time": "2022-04-23T12:25:57.267Z"
   },
   {
    "duration": 37,
    "start_time": "2022-04-23T12:25:57.315Z"
   },
   {
    "duration": 35,
    "start_time": "2022-04-23T12:25:57.355Z"
   },
   {
    "duration": 845,
    "start_time": "2022-04-23T12:25:57.392Z"
   },
   {
    "duration": 13,
    "start_time": "2022-04-23T12:25:58.251Z"
   },
   {
    "duration": 14,
    "start_time": "2022-04-23T12:25:58.267Z"
   },
   {
    "duration": 19,
    "start_time": "2022-04-23T12:25:58.284Z"
   },
   {
    "duration": 46,
    "start_time": "2022-04-23T12:25:58.306Z"
   },
   {
    "duration": 12,
    "start_time": "2022-04-23T12:25:58.355Z"
   },
   {
    "duration": 281,
    "start_time": "2022-04-23T12:25:58.370Z"
   },
   {
    "duration": 520,
    "start_time": "2022-04-23T12:25:58.654Z"
   },
   {
    "duration": 187,
    "start_time": "2022-04-23T12:25:59.176Z"
   },
   {
    "duration": 262,
    "start_time": "2022-04-23T12:25:59.365Z"
   },
   {
    "duration": 4,
    "start_time": "2022-04-23T12:25:59.630Z"
   },
   {
    "duration": 4,
    "start_time": "2022-04-23T12:25:59.651Z"
   },
   {
    "duration": 13,
    "start_time": "2022-04-23T12:25:59.657Z"
   },
   {
    "duration": 10,
    "start_time": "2022-04-23T12:25:59.672Z"
   },
   {
    "duration": 7,
    "start_time": "2022-04-23T12:25:59.685Z"
   },
   {
    "duration": 7,
    "start_time": "2022-04-23T12:25:59.695Z"
   },
   {
    "duration": 7,
    "start_time": "2022-04-23T12:25:59.705Z"
   },
   {
    "duration": 37,
    "start_time": "2022-04-23T12:25:59.715Z"
   },
   {
    "duration": 8,
    "start_time": "2022-04-23T12:25:59.755Z"
   },
   {
    "duration": 9,
    "start_time": "2022-04-23T12:25:59.766Z"
   },
   {
    "duration": 350,
    "start_time": "2022-04-23T12:25:59.778Z"
   },
   {
    "duration": 34,
    "start_time": "2022-04-23T12:26:00.131Z"
   },
   {
    "duration": 29,
    "start_time": "2022-04-23T12:26:00.168Z"
   },
   {
    "duration": 14,
    "start_time": "2022-04-23T12:26:00.200Z"
   },
   {
    "duration": 77,
    "start_time": "2022-04-23T12:26:00.217Z"
   },
   {
    "duration": 81,
    "start_time": "2022-04-23T12:26:00.296Z"
   },
   {
    "duration": 22,
    "start_time": "2022-04-23T12:26:00.379Z"
   },
   {
    "duration": 30,
    "start_time": "2022-04-23T12:26:00.404Z"
   },
   {
    "duration": 264,
    "start_time": "2022-04-23T12:26:00.437Z"
   },
   {
    "duration": 9,
    "start_time": "2022-04-23T12:26:00.704Z"
   },
   {
    "duration": 38,
    "start_time": "2022-04-23T12:26:00.715Z"
   },
   {
    "duration": 8,
    "start_time": "2022-04-23T12:26:00.756Z"
   },
   {
    "duration": 26,
    "start_time": "2022-04-23T12:26:00.767Z"
   },
   {
    "duration": 57,
    "start_time": "2022-04-23T12:26:00.796Z"
   },
   {
    "duration": 21,
    "start_time": "2022-04-23T12:26:00.856Z"
   },
   {
    "duration": 22,
    "start_time": "2022-04-23T12:26:00.879Z"
   },
   {
    "duration": 24,
    "start_time": "2022-04-23T12:26:00.903Z"
   },
   {
    "duration": 31,
    "start_time": "2022-04-23T12:26:00.935Z"
   },
   {
    "duration": 19,
    "start_time": "2022-04-23T12:26:00.969Z"
   },
   {
    "duration": 21,
    "start_time": "2022-04-23T12:26:00.990Z"
   },
   {
    "duration": 1384,
    "start_time": "2022-04-24T10:22:22.557Z"
   },
   {
    "duration": 391,
    "start_time": "2022-04-24T10:22:23.943Z"
   },
   {
    "duration": 13,
    "start_time": "2022-04-24T10:22:24.336Z"
   },
   {
    "duration": 44,
    "start_time": "2022-04-24T10:22:24.352Z"
   },
   {
    "duration": 57,
    "start_time": "2022-04-24T10:22:24.398Z"
   },
   {
    "duration": 23,
    "start_time": "2022-04-24T10:22:24.457Z"
   },
   {
    "duration": 119,
    "start_time": "2022-04-24T10:22:24.482Z"
   },
   {
    "duration": 11,
    "start_time": "2022-04-24T10:22:24.603Z"
   },
   {
    "duration": 51,
    "start_time": "2022-04-24T10:22:24.616Z"
   },
   {
    "duration": 71,
    "start_time": "2022-04-24T10:22:24.671Z"
   },
   {
    "duration": 46,
    "start_time": "2022-04-24T10:22:24.754Z"
   },
   {
    "duration": 10,
    "start_time": "2022-04-24T10:22:24.802Z"
   },
   {
    "duration": 57,
    "start_time": "2022-04-24T10:22:24.814Z"
   },
   {
    "duration": 53,
    "start_time": "2022-04-24T10:22:24.873Z"
   },
   {
    "duration": 82,
    "start_time": "2022-04-24T10:22:24.929Z"
   },
   {
    "duration": 9,
    "start_time": "2022-04-24T10:22:25.014Z"
   },
   {
    "duration": 31,
    "start_time": "2022-04-24T10:22:25.025Z"
   },
   {
    "duration": 19,
    "start_time": "2022-04-24T10:22:25.061Z"
   },
   {
    "duration": 25,
    "start_time": "2022-04-24T10:22:25.083Z"
   },
   {
    "duration": 16,
    "start_time": "2022-04-24T10:22:25.110Z"
   },
   {
    "duration": 27,
    "start_time": "2022-04-24T10:22:25.128Z"
   },
   {
    "duration": 7,
    "start_time": "2022-04-24T10:22:25.158Z"
   },
   {
    "duration": 320,
    "start_time": "2022-04-24T10:22:25.167Z"
   },
   {
    "duration": 11,
    "start_time": "2022-04-24T10:22:25.489Z"
   },
   {
    "duration": 252,
    "start_time": "2022-04-24T10:22:25.502Z"
   },
   {
    "duration": 23,
    "start_time": "2022-04-24T10:22:25.755Z"
   },
   {
    "duration": 3,
    "start_time": "2022-04-24T10:22:25.780Z"
   },
   {
    "duration": 10,
    "start_time": "2022-04-24T10:22:25.789Z"
   },
   {
    "duration": 377,
    "start_time": "2022-04-24T10:22:25.800Z"
   },
   {
    "duration": 85,
    "start_time": "2022-04-24T10:22:26.179Z"
   },
   {
    "duration": 20,
    "start_time": "2022-04-24T10:22:26.266Z"
   },
   {
    "duration": 11,
    "start_time": "2022-04-24T10:22:26.288Z"
   },
   {
    "duration": 180,
    "start_time": "2022-04-24T10:22:26.301Z"
   },
   {
    "duration": 16,
    "start_time": "2022-04-24T10:22:26.483Z"
   },
   {
    "duration": 425,
    "start_time": "2022-04-24T10:22:26.501Z"
   },
   {
    "duration": 54,
    "start_time": "2022-04-24T10:22:26.929Z"
   },
   {
    "duration": 149,
    "start_time": "2022-04-24T10:22:26.986Z"
   },
   {
    "duration": 3,
    "start_time": "2022-04-24T10:22:27.137Z"
   },
   {
    "duration": 22,
    "start_time": "2022-04-24T10:22:27.142Z"
   },
   {
    "duration": 9,
    "start_time": "2022-04-24T10:22:27.168Z"
   },
   {
    "duration": 31,
    "start_time": "2022-04-24T10:22:27.179Z"
   },
   {
    "duration": 45,
    "start_time": "2022-04-24T10:22:27.214Z"
   },
   {
    "duration": 148,
    "start_time": "2022-04-24T10:22:27.264Z"
   },
   {
    "duration": 6,
    "start_time": "2022-04-24T10:22:27.414Z"
   },
   {
    "duration": 33,
    "start_time": "2022-04-24T10:22:27.422Z"
   },
   {
    "duration": 319,
    "start_time": "2022-04-24T10:22:27.457Z"
   },
   {
    "duration": 11,
    "start_time": "2022-04-24T10:22:27.778Z"
   },
   {
    "duration": 22,
    "start_time": "2022-04-24T10:22:27.791Z"
   },
   {
    "duration": 17,
    "start_time": "2022-04-24T10:22:27.816Z"
   },
   {
    "duration": 25,
    "start_time": "2022-04-24T10:22:27.836Z"
   },
   {
    "duration": 14,
    "start_time": "2022-04-24T10:22:27.863Z"
   },
   {
    "duration": 192,
    "start_time": "2022-04-24T10:22:27.879Z"
   },
   {
    "duration": 193,
    "start_time": "2022-04-24T10:22:28.074Z"
   },
   {
    "duration": 166,
    "start_time": "2022-04-24T10:22:28.269Z"
   },
   {
    "duration": 154,
    "start_time": "2022-04-24T10:22:28.439Z"
   },
   {
    "duration": 4,
    "start_time": "2022-04-24T10:22:28.596Z"
   },
   {
    "duration": 12,
    "start_time": "2022-04-24T10:22:28.602Z"
   },
   {
    "duration": 9,
    "start_time": "2022-04-24T10:22:28.618Z"
   },
   {
    "duration": 9,
    "start_time": "2022-04-24T10:22:28.629Z"
   },
   {
    "duration": 7,
    "start_time": "2022-04-24T10:22:28.641Z"
   },
   {
    "duration": 13,
    "start_time": "2022-04-24T10:22:28.650Z"
   },
   {
    "duration": 10,
    "start_time": "2022-04-24T10:22:28.665Z"
   },
   {
    "duration": 9,
    "start_time": "2022-04-24T10:22:28.677Z"
   },
   {
    "duration": 7,
    "start_time": "2022-04-24T10:22:28.688Z"
   },
   {
    "duration": 9,
    "start_time": "2022-04-24T10:22:28.697Z"
   },
   {
    "duration": 135,
    "start_time": "2022-04-24T10:22:28.708Z"
   },
   {
    "duration": 23,
    "start_time": "2022-04-24T10:22:28.846Z"
   },
   {
    "duration": 25,
    "start_time": "2022-04-24T10:22:28.872Z"
   },
   {
    "duration": 15,
    "start_time": "2022-04-24T10:22:28.899Z"
   },
   {
    "duration": 43,
    "start_time": "2022-04-24T10:22:28.916Z"
   },
   {
    "duration": 115,
    "start_time": "2022-04-24T10:22:28.961Z"
   },
   {
    "duration": 18,
    "start_time": "2022-04-24T10:22:29.079Z"
   },
   {
    "duration": 12,
    "start_time": "2022-04-24T10:22:29.098Z"
   },
   {
    "duration": 193,
    "start_time": "2022-04-24T10:22:29.112Z"
   },
   {
    "duration": 6,
    "start_time": "2022-04-24T10:22:29.307Z"
   },
   {
    "duration": 22,
    "start_time": "2022-04-24T10:22:29.315Z"
   },
   {
    "duration": 9,
    "start_time": "2022-04-24T10:22:29.339Z"
   },
   {
    "duration": 5,
    "start_time": "2022-04-24T10:22:29.355Z"
   },
   {
    "duration": 35,
    "start_time": "2022-04-24T10:22:29.361Z"
   },
   {
    "duration": 26,
    "start_time": "2022-04-24T10:22:29.398Z"
   },
   {
    "duration": 32,
    "start_time": "2022-04-24T10:22:29.427Z"
   },
   {
    "duration": 10,
    "start_time": "2022-04-24T10:22:29.467Z"
   },
   {
    "duration": 37,
    "start_time": "2022-04-24T10:22:29.479Z"
   },
   {
    "duration": 16,
    "start_time": "2022-04-24T10:22:29.518Z"
   },
   {
    "duration": 14,
    "start_time": "2022-04-24T10:22:29.537Z"
   },
   {
    "duration": 4,
    "start_time": "2022-04-24T10:28:53.379Z"
   },
   {
    "duration": 127,
    "start_time": "2022-04-24T10:28:57.599Z"
   },
   {
    "duration": 14,
    "start_time": "2022-04-24T10:31:26.081Z"
   },
   {
    "duration": 20,
    "start_time": "2022-04-24T10:31:26.737Z"
   },
   {
    "duration": 3,
    "start_time": "2022-04-24T10:31:57.901Z"
   },
   {
    "duration": 130,
    "start_time": "2022-04-24T10:32:04.425Z"
   },
   {
    "duration": 1671,
    "start_time": "2022-04-24T10:32:33.714Z"
   },
   {
    "duration": 543,
    "start_time": "2022-04-24T10:32:35.390Z"
   },
   {
    "duration": 14,
    "start_time": "2022-04-24T10:32:35.935Z"
   },
   {
    "duration": 31,
    "start_time": "2022-04-24T10:32:35.951Z"
   },
   {
    "duration": 43,
    "start_time": "2022-04-24T10:32:35.984Z"
   },
   {
    "duration": 37,
    "start_time": "2022-04-24T10:32:36.029Z"
   },
   {
    "duration": 147,
    "start_time": "2022-04-24T10:32:36.068Z"
   },
   {
    "duration": 15,
    "start_time": "2022-04-24T10:32:36.217Z"
   },
   {
    "duration": 54,
    "start_time": "2022-04-24T10:32:36.234Z"
   },
   {
    "duration": 93,
    "start_time": "2022-04-24T10:32:36.292Z"
   },
   {
    "duration": 75,
    "start_time": "2022-04-24T10:32:36.387Z"
   },
   {
    "duration": 13,
    "start_time": "2022-04-24T10:32:36.464Z"
   },
   {
    "duration": 25,
    "start_time": "2022-04-24T10:32:36.479Z"
   },
   {
    "duration": 58,
    "start_time": "2022-04-24T10:32:36.506Z"
   },
   {
    "duration": 42,
    "start_time": "2022-04-24T10:32:36.567Z"
   },
   {
    "duration": 10,
    "start_time": "2022-04-24T10:32:36.611Z"
   },
   {
    "duration": 37,
    "start_time": "2022-04-24T10:32:36.623Z"
   },
   {
    "duration": 28,
    "start_time": "2022-04-24T10:32:36.663Z"
   },
   {
    "duration": 28,
    "start_time": "2022-04-24T10:32:36.693Z"
   },
   {
    "duration": 41,
    "start_time": "2022-04-24T10:32:36.723Z"
   },
   {
    "duration": 36,
    "start_time": "2022-04-24T10:32:36.766Z"
   },
   {
    "duration": 31,
    "start_time": "2022-04-24T10:32:36.805Z"
   },
   {
    "duration": 365,
    "start_time": "2022-04-24T10:32:36.839Z"
   },
   {
    "duration": 51,
    "start_time": "2022-04-24T10:32:37.206Z"
   },
   {
    "duration": 511,
    "start_time": "2022-04-24T10:32:37.259Z"
   },
   {
    "duration": 20,
    "start_time": "2022-04-24T10:32:37.772Z"
   },
   {
    "duration": 61,
    "start_time": "2022-04-24T10:32:37.794Z"
   },
   {
    "duration": 18,
    "start_time": "2022-04-24T10:32:37.859Z"
   },
   {
    "duration": 900,
    "start_time": "2022-04-24T10:32:37.879Z"
   },
   {
    "duration": 177,
    "start_time": "2022-04-24T10:32:38.781Z"
   },
   {
    "duration": 22,
    "start_time": "2022-04-24T10:32:38.961Z"
   },
   {
    "duration": 91,
    "start_time": "2022-04-24T10:32:38.986Z"
   },
   {
    "duration": 419,
    "start_time": "2022-04-24T10:32:39.079Z"
   },
   {
    "duration": 21,
    "start_time": "2022-04-24T10:32:39.501Z"
   },
   {
    "duration": 426,
    "start_time": "2022-04-24T10:32:39.525Z"
   },
   {
    "duration": 50,
    "start_time": "2022-04-24T10:32:39.956Z"
   },
   {
    "duration": 227,
    "start_time": "2022-04-24T10:32:40.008Z"
   },
   {
    "duration": 4,
    "start_time": "2022-04-24T10:32:40.238Z"
   },
   {
    "duration": 20,
    "start_time": "2022-04-24T10:32:40.255Z"
   },
   {
    "duration": 11,
    "start_time": "2022-04-24T10:32:40.277Z"
   },
   {
    "duration": 32,
    "start_time": "2022-04-24T10:32:40.289Z"
   },
   {
    "duration": 43,
    "start_time": "2022-04-24T10:32:40.323Z"
   },
   {
    "duration": 165,
    "start_time": "2022-04-24T10:32:40.368Z"
   },
   {
    "duration": 19,
    "start_time": "2022-04-24T10:32:40.536Z"
   },
   {
    "duration": 19,
    "start_time": "2022-04-24T10:32:40.557Z"
   },
   {
    "duration": 525,
    "start_time": "2022-04-24T10:32:40.578Z"
   },
   {
    "duration": 13,
    "start_time": "2022-04-24T10:32:41.106Z"
   },
   {
    "duration": 9,
    "start_time": "2022-04-24T10:32:41.121Z"
   },
   {
    "duration": 31,
    "start_time": "2022-04-24T10:32:41.132Z"
   },
   {
    "duration": 22,
    "start_time": "2022-04-24T10:32:41.166Z"
   },
   {
    "duration": 21,
    "start_time": "2022-04-24T10:32:41.190Z"
   },
   {
    "duration": 136,
    "start_time": "2022-04-24T10:32:41.212Z"
   },
   {
    "duration": 135,
    "start_time": "2022-04-24T10:32:41.355Z"
   },
   {
    "duration": 138,
    "start_time": "2022-04-24T10:32:41.493Z"
   },
   {
    "duration": 182,
    "start_time": "2022-04-24T10:32:41.633Z"
   },
   {
    "duration": 3,
    "start_time": "2022-04-24T10:32:41.817Z"
   },
   {
    "duration": 11,
    "start_time": "2022-04-24T10:32:41.821Z"
   },
   {
    "duration": 5,
    "start_time": "2022-04-24T10:32:41.834Z"
   },
   {
    "duration": 14,
    "start_time": "2022-04-24T10:32:41.841Z"
   },
   {
    "duration": 4,
    "start_time": "2022-04-24T10:32:41.858Z"
   },
   {
    "duration": 5,
    "start_time": "2022-04-24T10:32:41.864Z"
   },
   {
    "duration": 6,
    "start_time": "2022-04-24T10:32:41.871Z"
   },
   {
    "duration": 8,
    "start_time": "2022-04-24T10:32:41.879Z"
   },
   {
    "duration": 29,
    "start_time": "2022-04-24T10:32:41.888Z"
   },
   {
    "duration": 9,
    "start_time": "2022-04-24T10:32:41.920Z"
   },
   {
    "duration": 143,
    "start_time": "2022-04-24T10:32:41.931Z"
   },
   {
    "duration": 15,
    "start_time": "2022-04-24T10:32:42.076Z"
   },
   {
    "duration": 28,
    "start_time": "2022-04-24T10:32:42.093Z"
   },
   {
    "duration": 9,
    "start_time": "2022-04-24T10:32:42.124Z"
   },
   {
    "duration": 43,
    "start_time": "2022-04-24T10:32:42.134Z"
   },
   {
    "duration": 37,
    "start_time": "2022-04-24T10:32:42.179Z"
   },
   {
    "duration": 13,
    "start_time": "2022-04-24T10:32:42.218Z"
   },
   {
    "duration": 27,
    "start_time": "2022-04-24T10:32:42.233Z"
   },
   {
    "duration": 118,
    "start_time": "2022-04-24T10:32:42.262Z"
   },
   {
    "duration": 6,
    "start_time": "2022-04-24T10:32:42.382Z"
   },
   {
    "duration": 25,
    "start_time": "2022-04-24T10:32:42.390Z"
   },
   {
    "duration": 10,
    "start_time": "2022-04-24T10:32:42.418Z"
   },
   {
    "duration": 19,
    "start_time": "2022-04-24T10:32:42.431Z"
   },
   {
    "duration": 110,
    "start_time": "2022-04-24T10:32:42.452Z"
   },
   {
    "duration": 15,
    "start_time": "2022-04-24T10:32:42.564Z"
   },
   {
    "duration": 9,
    "start_time": "2022-04-24T10:32:42.580Z"
   },
   {
    "duration": 13,
    "start_time": "2022-04-24T10:32:42.595Z"
   },
   {
    "duration": 11,
    "start_time": "2022-04-24T10:32:42.610Z"
   },
   {
    "duration": 33,
    "start_time": "2022-04-24T10:32:42.623Z"
   },
   {
    "duration": 6,
    "start_time": "2022-04-24T10:32:42.657Z"
   },
   {
    "duration": 6,
    "start_time": "2022-04-24T10:33:25.187Z"
   },
   {
    "duration": 39,
    "start_time": "2022-04-24T10:34:55.551Z"
   }
  ],
  "kernelspec": {
   "display_name": "Python 3 (ipykernel)",
   "language": "python",
   "name": "python3"
  },
  "language_info": {
   "codemirror_mode": {
    "name": "ipython",
    "version": 3
   },
   "file_extension": ".py",
   "mimetype": "text/x-python",
   "name": "python",
   "nbconvert_exporter": "python",
   "pygments_lexer": "ipython3",
   "version": "3.10.7"
  },
  "toc": {
   "base_numbering": 1,
   "nav_menu": {},
   "number_sections": false,
   "sideBar": true,
   "skip_h1_title": false,
   "title_cell": "Table of Contents",
   "title_sidebar": "Contents",
   "toc_cell": false,
   "toc_position": {
    "height": "calc(100% - 180px)",
    "left": "10px",
    "top": "150px",
    "width": "165px"
   },
   "toc_section_display": true,
   "toc_window_display": true
  }
 },
 "nbformat": 4,
 "nbformat_minor": 2
}
