{
 "cells": [
  {
   "cell_type": "markdown",
   "metadata": {},
   "source": [
    "# Определение стоимости автомобилей"
   ]
  },
  {
   "cell_type": "markdown",
   "metadata": {},
   "source": [
    "Сервис по продаже автомобилей с пробегом «Не бит, не крашен» разрабатывает приложение для привлечения новых клиентов. В нём можно быстро узнать рыночную стоимость своего автомобиля. В вашем распоряжении исторические данные: технические характеристики, комплектации и цены автомобилей. Вам нужно построить модель для определения стоимости. \n",
    "\n",
    "Заказчику важны:\n",
    "\n",
    "- качество предсказания;\n",
    "- скорость предсказания;\n",
    "- время обучения.\n",
    "\n",
    "Примечания:\n",
    "-\tДля оценки качества моделей применяйте метрику RMSE.\n",
    "-\tЗначение метрики RMSE должно быть меньше 2500.\n",
    "-\tСамостоятельно освойте библиотеку LightGBM и её средствами постройте модели градиентного бустинга.\n",
    "-\tВремя выполнения ячейки кода Jupyter Notebook можно получить специальной командой. Найдите её.\n",
    "-\tПоскольку модель градиентного бустинга может обучаться долго, измените у неё только два-три параметра.\n",
    "-\tЕсли перестанет работать Jupyter Notebook, удалите лишние переменные оператором del:\n",
    "\n",
    "hewlt packard proboo elitbook\n",
    "lenovo thinkpad"
   ]
  },
  {
   "cell_type": "markdown",
   "metadata": {},
   "source": [
    "__Описание данных__\n",
    "\n",
    "__Признаки__\n",
    "-\tDateCrawled — дата скачивания анкеты из базы\n",
    "-\tVehicleType — тип автомобильного кузова\n",
    "-\tRegistrationYear — год регистрации автомобиля\n",
    "-\tGearbox — тип коробки передач\n",
    "-\tPower — мощность (л. с.)\n",
    "-\tModel — модель автомобиля\n",
    "-\tKilometer — пробег (км)\n",
    "-\tRegistrationMonth — месяц регистрации автомобиля\n",
    "-\tFuelType — тип топлива\n",
    "-\tBrand — марка автомобиля\n",
    "-\tNotRepaired — была машина в ремонте или нет\n",
    "-\tDateCreated — дата создания анкеты\n",
    "-\tNumberOfPictures — количество фотографий автомобиля\n",
    "-\tPostalCode — почтовый индекс владельца анкеты (пользователя)\n",
    "-\tLastSeen — дата последней активности пользователя\n",
    "\n",
    "__Целевой признак:__\n",
    "Price — цена (евро)\n"
   ]
  },
  {
   "cell_type": "markdown",
   "metadata": {},
   "source": [
    "## Подготовка данных"
   ]
  },
  {
   "cell_type": "code",
   "execution_count": 42,
   "metadata": {},
   "outputs": [],
   "source": [
    "import time\n",
    "import numpy as np\n",
    "import pandas as pd\n",
    "import seaborn as sns\n",
    "import matplotlib.pyplot as plt\n",
    "from sklearn.metrics import mean_squared_error as mse, make_scorer\n",
    "from sklearn.model_selection import train_test_split\n",
    "from sklearn.preprocessing import StandardScaler\n",
    "from sklearn.metrics import mean_squared_error\n",
    "from sklearn.linear_model import LinearRegression\n",
    "from sklearn.tree import DecisionTreeRegressor\n",
    "from sklearn.ensemble import ExtraTreesRegressor\n",
    "from sklearn.pipeline import Pipeline\n",
    "from sklearn.model_selection import train_test_split, KFold, GridSearchCV\n",
    "from sklearn.tree import DecisionTreeRegressor\n",
    "from sklearn.ensemble import RandomForestRegressor \n",
    "from sklearn.preprocessing import StandardScaler\n",
    "from sklearn.multioutput import MultiOutputClassifier\n",
    "from sklearn.dummy import DummyRegressor\n",
    "from catboost import Pool, CatBoostRegressor, cv\n",
    "from lightgbm import LGBMRegressor\n",
    "from sklearn.preprocessing import OrdinalEncoder"
   ]
  },
  {
   "cell_type": "markdown",
   "metadata": {},
   "source": [
    "<b>Откроем файл и изучим его<b/>"
   ]
  },
  {
   "cell_type": "code",
   "execution_count": 2,
   "metadata": {},
   "outputs": [],
   "source": [
    "try:\n",
    "    df = pd.read_csv('/datasets/autos.csv')\n",
    "except:\n",
    "    df = pd.read_csv('autos.csv')"
   ]
  },
  {
   "cell_type": "code",
   "execution_count": 3,
   "metadata": {},
   "outputs": [
    {
     "name": "stdout",
     "output_type": "stream",
     "text": [
      "<class 'pandas.core.frame.DataFrame'>\n",
      "RangeIndex: 354369 entries, 0 to 354368\n",
      "Data columns (total 16 columns):\n",
      " #   Column             Non-Null Count   Dtype \n",
      "---  ------             --------------   ----- \n",
      " 0   DateCrawled        354369 non-null  object\n",
      " 1   Price              354369 non-null  int64 \n",
      " 2   VehicleType        316879 non-null  object\n",
      " 3   RegistrationYear   354369 non-null  int64 \n",
      " 4   Gearbox            334536 non-null  object\n",
      " 5   Power              354369 non-null  int64 \n",
      " 6   Model              334664 non-null  object\n",
      " 7   Kilometer          354369 non-null  int64 \n",
      " 8   RegistrationMonth  354369 non-null  int64 \n",
      " 9   FuelType           321474 non-null  object\n",
      " 10  Brand              354369 non-null  object\n",
      " 11  NotRepaired        283215 non-null  object\n",
      " 12  DateCreated        354369 non-null  object\n",
      " 13  NumberOfPictures   354369 non-null  int64 \n",
      " 14  PostalCode         354369 non-null  int64 \n",
      " 15  LastSeen           354369 non-null  object\n",
      "dtypes: int64(7), object(9)\n",
      "memory usage: 43.3+ MB\n"
     ]
    },
    {
     "data": {
      "text/plain": [
       "None"
      ]
     },
     "metadata": {},
     "output_type": "display_data"
    },
    {
     "data": {
      "text/html": [
       "<div>\n",
       "<style scoped>\n",
       "    .dataframe tbody tr th:only-of-type {\n",
       "        vertical-align: middle;\n",
       "    }\n",
       "\n",
       "    .dataframe tbody tr th {\n",
       "        vertical-align: top;\n",
       "    }\n",
       "\n",
       "    .dataframe thead th {\n",
       "        text-align: right;\n",
       "    }\n",
       "</style>\n",
       "<table border=\"1\" class=\"dataframe\">\n",
       "  <thead>\n",
       "    <tr style=\"text-align: right;\">\n",
       "      <th></th>\n",
       "      <th>DateCrawled</th>\n",
       "      <th>Price</th>\n",
       "      <th>VehicleType</th>\n",
       "      <th>RegistrationYear</th>\n",
       "      <th>Gearbox</th>\n",
       "      <th>Power</th>\n",
       "      <th>Model</th>\n",
       "      <th>Kilometer</th>\n",
       "      <th>RegistrationMonth</th>\n",
       "      <th>FuelType</th>\n",
       "      <th>Brand</th>\n",
       "      <th>NotRepaired</th>\n",
       "      <th>DateCreated</th>\n",
       "      <th>NumberOfPictures</th>\n",
       "      <th>PostalCode</th>\n",
       "      <th>LastSeen</th>\n",
       "    </tr>\n",
       "  </thead>\n",
       "  <tbody>\n",
       "    <tr>\n",
       "      <th>0</th>\n",
       "      <td>2016-03-24 11:52:17</td>\n",
       "      <td>480</td>\n",
       "      <td>NaN</td>\n",
       "      <td>1993</td>\n",
       "      <td>manual</td>\n",
       "      <td>0</td>\n",
       "      <td>golf</td>\n",
       "      <td>150000</td>\n",
       "      <td>0</td>\n",
       "      <td>petrol</td>\n",
       "      <td>volkswagen</td>\n",
       "      <td>NaN</td>\n",
       "      <td>2016-03-24 00:00:00</td>\n",
       "      <td>0</td>\n",
       "      <td>70435</td>\n",
       "      <td>2016-04-07 03:16:57</td>\n",
       "    </tr>\n",
       "    <tr>\n",
       "      <th>1</th>\n",
       "      <td>2016-03-24 10:58:45</td>\n",
       "      <td>18300</td>\n",
       "      <td>coupe</td>\n",
       "      <td>2011</td>\n",
       "      <td>manual</td>\n",
       "      <td>190</td>\n",
       "      <td>NaN</td>\n",
       "      <td>125000</td>\n",
       "      <td>5</td>\n",
       "      <td>gasoline</td>\n",
       "      <td>audi</td>\n",
       "      <td>yes</td>\n",
       "      <td>2016-03-24 00:00:00</td>\n",
       "      <td>0</td>\n",
       "      <td>66954</td>\n",
       "      <td>2016-04-07 01:46:50</td>\n",
       "    </tr>\n",
       "    <tr>\n",
       "      <th>2</th>\n",
       "      <td>2016-03-14 12:52:21</td>\n",
       "      <td>9800</td>\n",
       "      <td>suv</td>\n",
       "      <td>2004</td>\n",
       "      <td>auto</td>\n",
       "      <td>163</td>\n",
       "      <td>grand</td>\n",
       "      <td>125000</td>\n",
       "      <td>8</td>\n",
       "      <td>gasoline</td>\n",
       "      <td>jeep</td>\n",
       "      <td>NaN</td>\n",
       "      <td>2016-03-14 00:00:00</td>\n",
       "      <td>0</td>\n",
       "      <td>90480</td>\n",
       "      <td>2016-04-05 12:47:46</td>\n",
       "    </tr>\n",
       "    <tr>\n",
       "      <th>3</th>\n",
       "      <td>2016-03-17 16:54:04</td>\n",
       "      <td>1500</td>\n",
       "      <td>small</td>\n",
       "      <td>2001</td>\n",
       "      <td>manual</td>\n",
       "      <td>75</td>\n",
       "      <td>golf</td>\n",
       "      <td>150000</td>\n",
       "      <td>6</td>\n",
       "      <td>petrol</td>\n",
       "      <td>volkswagen</td>\n",
       "      <td>no</td>\n",
       "      <td>2016-03-17 00:00:00</td>\n",
       "      <td>0</td>\n",
       "      <td>91074</td>\n",
       "      <td>2016-03-17 17:40:17</td>\n",
       "    </tr>\n",
       "    <tr>\n",
       "      <th>4</th>\n",
       "      <td>2016-03-31 17:25:20</td>\n",
       "      <td>3600</td>\n",
       "      <td>small</td>\n",
       "      <td>2008</td>\n",
       "      <td>manual</td>\n",
       "      <td>69</td>\n",
       "      <td>fabia</td>\n",
       "      <td>90000</td>\n",
       "      <td>7</td>\n",
       "      <td>gasoline</td>\n",
       "      <td>skoda</td>\n",
       "      <td>no</td>\n",
       "      <td>2016-03-31 00:00:00</td>\n",
       "      <td>0</td>\n",
       "      <td>60437</td>\n",
       "      <td>2016-04-06 10:17:21</td>\n",
       "    </tr>\n",
       "  </tbody>\n",
       "</table>\n",
       "</div>"
      ],
      "text/plain": [
       "           DateCrawled  Price VehicleType  RegistrationYear Gearbox  Power  \\\n",
       "0  2016-03-24 11:52:17    480         NaN              1993  manual      0   \n",
       "1  2016-03-24 10:58:45  18300       coupe              2011  manual    190   \n",
       "2  2016-03-14 12:52:21   9800         suv              2004    auto    163   \n",
       "3  2016-03-17 16:54:04   1500       small              2001  manual     75   \n",
       "4  2016-03-31 17:25:20   3600       small              2008  manual     69   \n",
       "\n",
       "   Model  Kilometer  RegistrationMonth  FuelType       Brand NotRepaired  \\\n",
       "0   golf     150000                  0    petrol  volkswagen         NaN   \n",
       "1    NaN     125000                  5  gasoline        audi         yes   \n",
       "2  grand     125000                  8  gasoline        jeep         NaN   \n",
       "3   golf     150000                  6    petrol  volkswagen          no   \n",
       "4  fabia      90000                  7  gasoline       skoda          no   \n",
       "\n",
       "           DateCreated  NumberOfPictures  PostalCode             LastSeen  \n",
       "0  2016-03-24 00:00:00                 0       70435  2016-04-07 03:16:57  \n",
       "1  2016-03-24 00:00:00                 0       66954  2016-04-07 01:46:50  \n",
       "2  2016-03-14 00:00:00                 0       90480  2016-04-05 12:47:46  \n",
       "3  2016-03-17 00:00:00                 0       91074  2016-03-17 17:40:17  \n",
       "4  2016-03-31 00:00:00                 0       60437  2016-04-06 10:17:21  "
      ]
     },
     "metadata": {},
     "output_type": "display_data"
    },
    {
     "data": {
      "text/plain": [
       "'Количество явных дубликтов:'"
      ]
     },
     "metadata": {},
     "output_type": "display_data"
    },
    {
     "data": {
      "text/plain": [
       "4"
      ]
     },
     "metadata": {},
     "output_type": "display_data"
    }
   ],
   "source": [
    "display(df.info())\n",
    "display(df.head(5))\n",
    "display('Количество явных дубликтов:', df.duplicated().sum())"
   ]
  },
  {
   "cell_type": "markdown",
   "metadata": {},
   "source": [
    "Итого у нас есть 6 категориальных признаков и 11 числовых. Перед обучением мы кактегориальные признаки стандартизируем, а пока надо разобраться с дубликатами и пустыми значениями. Причем замечу у 5 категориальных признаков есть пустоты. Средним или медианным значением их не заменишь("
   ]
  },
  {
   "cell_type": "markdown",
   "metadata": {},
   "source": [
    "Для начала удалим явные дубликаты"
   ]
  },
  {
   "cell_type": "code",
   "execution_count": 4,
   "metadata": {},
   "outputs": [
    {
     "data": {
      "text/html": [
       "<div>\n",
       "<style scoped>\n",
       "    .dataframe tbody tr th:only-of-type {\n",
       "        vertical-align: middle;\n",
       "    }\n",
       "\n",
       "    .dataframe tbody tr th {\n",
       "        vertical-align: top;\n",
       "    }\n",
       "\n",
       "    .dataframe thead th {\n",
       "        text-align: right;\n",
       "    }\n",
       "</style>\n",
       "<table border=\"1\" class=\"dataframe\">\n",
       "  <thead>\n",
       "    <tr style=\"text-align: right;\">\n",
       "      <th></th>\n",
       "      <th>DateCrawled</th>\n",
       "      <th>Price</th>\n",
       "      <th>VehicleType</th>\n",
       "      <th>RegistrationYear</th>\n",
       "      <th>Gearbox</th>\n",
       "      <th>Power</th>\n",
       "      <th>Model</th>\n",
       "      <th>Kilometer</th>\n",
       "      <th>RegistrationMonth</th>\n",
       "      <th>FuelType</th>\n",
       "      <th>Brand</th>\n",
       "      <th>NotRepaired</th>\n",
       "      <th>DateCreated</th>\n",
       "      <th>NumberOfPictures</th>\n",
       "      <th>PostalCode</th>\n",
       "      <th>LastSeen</th>\n",
       "    </tr>\n",
       "  </thead>\n",
       "  <tbody>\n",
       "    <tr>\n",
       "      <th>0</th>\n",
       "      <td>2016-03-24 11:52:17</td>\n",
       "      <td>480</td>\n",
       "      <td>NaN</td>\n",
       "      <td>1993</td>\n",
       "      <td>manual</td>\n",
       "      <td>0</td>\n",
       "      <td>golf</td>\n",
       "      <td>150000</td>\n",
       "      <td>0</td>\n",
       "      <td>petrol</td>\n",
       "      <td>volkswagen</td>\n",
       "      <td>NaN</td>\n",
       "      <td>2016-03-24 00:00:00</td>\n",
       "      <td>0</td>\n",
       "      <td>70435</td>\n",
       "      <td>2016-04-07 03:16:57</td>\n",
       "    </tr>\n",
       "    <tr>\n",
       "      <th>1</th>\n",
       "      <td>2016-03-24 10:58:45</td>\n",
       "      <td>18300</td>\n",
       "      <td>coupe</td>\n",
       "      <td>2011</td>\n",
       "      <td>manual</td>\n",
       "      <td>190</td>\n",
       "      <td>NaN</td>\n",
       "      <td>125000</td>\n",
       "      <td>5</td>\n",
       "      <td>gasoline</td>\n",
       "      <td>audi</td>\n",
       "      <td>yes</td>\n",
       "      <td>2016-03-24 00:00:00</td>\n",
       "      <td>0</td>\n",
       "      <td>66954</td>\n",
       "      <td>2016-04-07 01:46:50</td>\n",
       "    </tr>\n",
       "    <tr>\n",
       "      <th>2</th>\n",
       "      <td>2016-03-14 12:52:21</td>\n",
       "      <td>9800</td>\n",
       "      <td>suv</td>\n",
       "      <td>2004</td>\n",
       "      <td>auto</td>\n",
       "      <td>163</td>\n",
       "      <td>grand</td>\n",
       "      <td>125000</td>\n",
       "      <td>8</td>\n",
       "      <td>gasoline</td>\n",
       "      <td>jeep</td>\n",
       "      <td>NaN</td>\n",
       "      <td>2016-03-14 00:00:00</td>\n",
       "      <td>0</td>\n",
       "      <td>90480</td>\n",
       "      <td>2016-04-05 12:47:46</td>\n",
       "    </tr>\n",
       "    <tr>\n",
       "      <th>3</th>\n",
       "      <td>2016-03-17 16:54:04</td>\n",
       "      <td>1500</td>\n",
       "      <td>small</td>\n",
       "      <td>2001</td>\n",
       "      <td>manual</td>\n",
       "      <td>75</td>\n",
       "      <td>golf</td>\n",
       "      <td>150000</td>\n",
       "      <td>6</td>\n",
       "      <td>petrol</td>\n",
       "      <td>volkswagen</td>\n",
       "      <td>no</td>\n",
       "      <td>2016-03-17 00:00:00</td>\n",
       "      <td>0</td>\n",
       "      <td>91074</td>\n",
       "      <td>2016-03-17 17:40:17</td>\n",
       "    </tr>\n",
       "    <tr>\n",
       "      <th>4</th>\n",
       "      <td>2016-03-31 17:25:20</td>\n",
       "      <td>3600</td>\n",
       "      <td>small</td>\n",
       "      <td>2008</td>\n",
       "      <td>manual</td>\n",
       "      <td>69</td>\n",
       "      <td>fabia</td>\n",
       "      <td>90000</td>\n",
       "      <td>7</td>\n",
       "      <td>gasoline</td>\n",
       "      <td>skoda</td>\n",
       "      <td>no</td>\n",
       "      <td>2016-03-31 00:00:00</td>\n",
       "      <td>0</td>\n",
       "      <td>60437</td>\n",
       "      <td>2016-04-06 10:17:21</td>\n",
       "    </tr>\n",
       "    <tr>\n",
       "      <th>...</th>\n",
       "      <td>...</td>\n",
       "      <td>...</td>\n",
       "      <td>...</td>\n",
       "      <td>...</td>\n",
       "      <td>...</td>\n",
       "      <td>...</td>\n",
       "      <td>...</td>\n",
       "      <td>...</td>\n",
       "      <td>...</td>\n",
       "      <td>...</td>\n",
       "      <td>...</td>\n",
       "      <td>...</td>\n",
       "      <td>...</td>\n",
       "      <td>...</td>\n",
       "      <td>...</td>\n",
       "      <td>...</td>\n",
       "    </tr>\n",
       "    <tr>\n",
       "      <th>354364</th>\n",
       "      <td>2016-03-21 09:50:58</td>\n",
       "      <td>0</td>\n",
       "      <td>NaN</td>\n",
       "      <td>2005</td>\n",
       "      <td>manual</td>\n",
       "      <td>0</td>\n",
       "      <td>colt</td>\n",
       "      <td>150000</td>\n",
       "      <td>7</td>\n",
       "      <td>petrol</td>\n",
       "      <td>mitsubishi</td>\n",
       "      <td>yes</td>\n",
       "      <td>2016-03-21 00:00:00</td>\n",
       "      <td>0</td>\n",
       "      <td>2694</td>\n",
       "      <td>2016-03-21 10:42:49</td>\n",
       "    </tr>\n",
       "    <tr>\n",
       "      <th>354365</th>\n",
       "      <td>2016-03-14 17:48:27</td>\n",
       "      <td>2200</td>\n",
       "      <td>NaN</td>\n",
       "      <td>2005</td>\n",
       "      <td>NaN</td>\n",
       "      <td>0</td>\n",
       "      <td>NaN</td>\n",
       "      <td>20000</td>\n",
       "      <td>1</td>\n",
       "      <td>NaN</td>\n",
       "      <td>sonstige_autos</td>\n",
       "      <td>NaN</td>\n",
       "      <td>2016-03-14 00:00:00</td>\n",
       "      <td>0</td>\n",
       "      <td>39576</td>\n",
       "      <td>2016-04-06 00:46:52</td>\n",
       "    </tr>\n",
       "    <tr>\n",
       "      <th>354366</th>\n",
       "      <td>2016-03-05 19:56:21</td>\n",
       "      <td>1199</td>\n",
       "      <td>convertible</td>\n",
       "      <td>2000</td>\n",
       "      <td>auto</td>\n",
       "      <td>101</td>\n",
       "      <td>fortwo</td>\n",
       "      <td>125000</td>\n",
       "      <td>3</td>\n",
       "      <td>petrol</td>\n",
       "      <td>smart</td>\n",
       "      <td>no</td>\n",
       "      <td>2016-03-05 00:00:00</td>\n",
       "      <td>0</td>\n",
       "      <td>26135</td>\n",
       "      <td>2016-03-11 18:17:12</td>\n",
       "    </tr>\n",
       "    <tr>\n",
       "      <th>354367</th>\n",
       "      <td>2016-03-19 18:57:12</td>\n",
       "      <td>9200</td>\n",
       "      <td>bus</td>\n",
       "      <td>1996</td>\n",
       "      <td>manual</td>\n",
       "      <td>102</td>\n",
       "      <td>transporter</td>\n",
       "      <td>150000</td>\n",
       "      <td>3</td>\n",
       "      <td>gasoline</td>\n",
       "      <td>volkswagen</td>\n",
       "      <td>no</td>\n",
       "      <td>2016-03-19 00:00:00</td>\n",
       "      <td>0</td>\n",
       "      <td>87439</td>\n",
       "      <td>2016-04-07 07:15:26</td>\n",
       "    </tr>\n",
       "    <tr>\n",
       "      <th>354368</th>\n",
       "      <td>2016-03-20 19:41:08</td>\n",
       "      <td>3400</td>\n",
       "      <td>wagon</td>\n",
       "      <td>2002</td>\n",
       "      <td>manual</td>\n",
       "      <td>100</td>\n",
       "      <td>golf</td>\n",
       "      <td>150000</td>\n",
       "      <td>6</td>\n",
       "      <td>gasoline</td>\n",
       "      <td>volkswagen</td>\n",
       "      <td>NaN</td>\n",
       "      <td>2016-03-20 00:00:00</td>\n",
       "      <td>0</td>\n",
       "      <td>40764</td>\n",
       "      <td>2016-03-24 12:45:21</td>\n",
       "    </tr>\n",
       "  </tbody>\n",
       "</table>\n",
       "<p>354365 rows × 16 columns</p>\n",
       "</div>"
      ],
      "text/plain": [
       "                DateCrawled  Price  VehicleType  RegistrationYear Gearbox  \\\n",
       "0       2016-03-24 11:52:17    480          NaN              1993  manual   \n",
       "1       2016-03-24 10:58:45  18300        coupe              2011  manual   \n",
       "2       2016-03-14 12:52:21   9800          suv              2004    auto   \n",
       "3       2016-03-17 16:54:04   1500        small              2001  manual   \n",
       "4       2016-03-31 17:25:20   3600        small              2008  manual   \n",
       "...                     ...    ...          ...               ...     ...   \n",
       "354364  2016-03-21 09:50:58      0          NaN              2005  manual   \n",
       "354365  2016-03-14 17:48:27   2200          NaN              2005     NaN   \n",
       "354366  2016-03-05 19:56:21   1199  convertible              2000    auto   \n",
       "354367  2016-03-19 18:57:12   9200          bus              1996  manual   \n",
       "354368  2016-03-20 19:41:08   3400        wagon              2002  manual   \n",
       "\n",
       "        Power        Model  Kilometer  RegistrationMonth  FuelType  \\\n",
       "0           0         golf     150000                  0    petrol   \n",
       "1         190          NaN     125000                  5  gasoline   \n",
       "2         163        grand     125000                  8  gasoline   \n",
       "3          75         golf     150000                  6    petrol   \n",
       "4          69        fabia      90000                  7  gasoline   \n",
       "...       ...          ...        ...                ...       ...   \n",
       "354364      0         colt     150000                  7    petrol   \n",
       "354365      0          NaN      20000                  1       NaN   \n",
       "354366    101       fortwo     125000                  3    petrol   \n",
       "354367    102  transporter     150000                  3  gasoline   \n",
       "354368    100         golf     150000                  6  gasoline   \n",
       "\n",
       "                 Brand NotRepaired          DateCreated  NumberOfPictures  \\\n",
       "0           volkswagen         NaN  2016-03-24 00:00:00                 0   \n",
       "1                 audi         yes  2016-03-24 00:00:00                 0   \n",
       "2                 jeep         NaN  2016-03-14 00:00:00                 0   \n",
       "3           volkswagen          no  2016-03-17 00:00:00                 0   \n",
       "4                skoda          no  2016-03-31 00:00:00                 0   \n",
       "...                ...         ...                  ...               ...   \n",
       "354364      mitsubishi         yes  2016-03-21 00:00:00                 0   \n",
       "354365  sonstige_autos         NaN  2016-03-14 00:00:00                 0   \n",
       "354366           smart          no  2016-03-05 00:00:00                 0   \n",
       "354367      volkswagen          no  2016-03-19 00:00:00                 0   \n",
       "354368      volkswagen         NaN  2016-03-20 00:00:00                 0   \n",
       "\n",
       "        PostalCode             LastSeen  \n",
       "0            70435  2016-04-07 03:16:57  \n",
       "1            66954  2016-04-07 01:46:50  \n",
       "2            90480  2016-04-05 12:47:46  \n",
       "3            91074  2016-03-17 17:40:17  \n",
       "4            60437  2016-04-06 10:17:21  \n",
       "...            ...                  ...  \n",
       "354364        2694  2016-03-21 10:42:49  \n",
       "354365       39576  2016-04-06 00:46:52  \n",
       "354366       26135  2016-03-11 18:17:12  \n",
       "354367       87439  2016-04-07 07:15:26  \n",
       "354368       40764  2016-03-24 12:45:21  \n",
       "\n",
       "[354365 rows x 16 columns]"
      ]
     },
     "execution_count": 4,
     "metadata": {},
     "output_type": "execute_result"
    }
   ],
   "source": [
    "df.drop_duplicates()"
   ]
  },
  {
   "cell_type": "code",
   "execution_count": 5,
   "metadata": {},
   "outputs": [
    {
     "data": {
      "text/plain": [
       "DateCrawled          0.000000\n",
       "Price                0.000000\n",
       "VehicleType          0.105794\n",
       "RegistrationYear     0.000000\n",
       "Gearbox              0.055967\n",
       "Power                0.000000\n",
       "Model                0.055606\n",
       "Kilometer            0.000000\n",
       "RegistrationMonth    0.000000\n",
       "FuelType             0.092827\n",
       "Brand                0.000000\n",
       "NotRepaired          0.200791\n",
       "DateCreated          0.000000\n",
       "NumberOfPictures     0.000000\n",
       "PostalCode           0.000000\n",
       "LastSeen             0.000000\n",
       "dtype: float64"
      ]
     },
     "execution_count": 5,
     "metadata": {},
     "output_type": "execute_result"
    }
   ],
   "source": [
    "df.isna().mean()"
   ]
  },
  {
   "cell_type": "markdown",
   "metadata": {},
   "source": [
    "Значения в столбце VehicleType пустые значения заменим на unknowhn"
   ]
  },
  {
   "cell_type": "code",
   "execution_count": 6,
   "metadata": {},
   "outputs": [],
   "source": [
    "df['VehicleType'] = df['VehicleType'].fillna('Unknown')"
   ]
  },
  {
   "cell_type": "code",
   "execution_count": 7,
   "metadata": {},
   "outputs": [],
   "source": [
    "df['Gearbox'] = df['Gearbox'].fillna('Unknown')"
   ]
  },
  {
   "cell_type": "markdown",
   "metadata": {},
   "source": [
    "Model. Чем заполнить их я не представляю возможным (по крайней мере как это сделать автоматизировано). \n",
    "Поэтому для всех пустых значений установим 'unknown'."
   ]
  },
  {
   "cell_type": "code",
   "execution_count": 8,
   "metadata": {},
   "outputs": [],
   "source": [
    "df['Model'] = df['Model'].fillna('Unknown')"
   ]
  },
  {
   "cell_type": "code",
   "execution_count": 9,
   "metadata": {},
   "outputs": [
    {
     "data": {
      "text/plain": [
       "array(['petrol', 'gasoline', nan, 'lpg', 'other', 'hybrid', 'cng',\n",
       "       'electric'], dtype=object)"
      ]
     },
     "execution_count": 9,
     "metadata": {},
     "output_type": "execute_result"
    }
   ],
   "source": [
    "df['FuelType'].unique()"
   ]
  },
  {
   "cell_type": "markdown",
   "metadata": {},
   "source": [
    "Чем заполнить значения по полю fueltype я не придумал, поэтому удалим их."
   ]
  },
  {
   "cell_type": "code",
   "execution_count": 10,
   "metadata": {},
   "outputs": [],
   "source": [
    "df = df.dropna(subset=['FuelType'])"
   ]
  },
  {
   "cell_type": "markdown",
   "metadata": {},
   "source": [
    "NotRepaired.  Будем считаь если знаение  NaN  то в ремонте машина не была, поэтому пустым значениям установим значение 'yes'."
   ]
  },
  {
   "cell_type": "code",
   "execution_count": 11,
   "metadata": {},
   "outputs": [],
   "source": [
    "df['NotRepaired'] = df['NotRepaired'].fillna('yes')"
   ]
  },
  {
   "cell_type": "code",
   "execution_count": 12,
   "metadata": {},
   "outputs": [
    {
     "data": {
      "text/plain": [
       "array(['yes', 'no'], dtype=object)"
      ]
     },
     "execution_count": 12,
     "metadata": {},
     "output_type": "execute_result"
    }
   ],
   "source": [
    "df['NotRepaired'] .unique()"
   ]
  },
  {
   "cell_type": "markdown",
   "metadata": {},
   "source": [
    "подробнее изучим категориальные переменные."
   ]
  },
  {
   "cell_type": "code",
   "execution_count": 13,
   "metadata": {},
   "outputs": [
    {
     "data": {
      "text/plain": [
       "<AxesSubplot:>"
      ]
     },
     "execution_count": 13,
     "metadata": {},
     "output_type": "execute_result"
    },
    {
     "data": {
      "image/png": "[encoded data removed]",
      "text/plain": [
       "<Figure size 432x288 with 1 Axes>"
      ]
     },
     "metadata": {
      "needs_background": "light"
     },
     "output_type": "display_data"
    }
   ],
   "source": [
    "plt.suptitle('График распределения по типу кузова', x=0.5, y=1.05, ha='center', fontsize='xx-large')\n",
    "df['VehicleType'].hist(bins=12)"
   ]
  },
  {
   "cell_type": "code",
   "execution_count": 14,
   "metadata": {},
   "outputs": [
    {
     "data": {
      "text/plain": [
       "<AxesSubplot:>"
      ]
     },
     "execution_count": 14,
     "metadata": {},
     "output_type": "execute_result"
    },
    {
     "data": {
      "image/png": "[encoded data removed]",
      "text/plain": [
       "<Figure size 432x288 with 1 Axes>"
      ]
     },
     "metadata": {
      "needs_background": "light"
     },
     "output_type": "display_data"
    }
   ],
   "source": [
    "plt.suptitle('График распределения по типу коробки передач', x=0.5, y=1.05, ha='center', fontsize='xx-large')\n",
    "df['Gearbox'].hist(bins=12)"
   ]
  },
  {
   "cell_type": "code",
   "execution_count": 15,
   "metadata": {},
   "outputs": [
    {
     "data": {
      "text/plain": [
       "<AxesSubplot:>"
      ]
     },
     "execution_count": 15,
     "metadata": {},
     "output_type": "execute_result"
    },
    {
     "data": {
      "image/png": "[encoded data removed]",
      "text/plain": [
       "<Figure size 432x288 with 1 Axes>"
      ]
     },
     "metadata": {
      "needs_background": "light"
     },
     "output_type": "display_data"
    }
   ],
   "source": [
    "plt.suptitle('График распределения по типу топлива', x=0.5, y=1.05, ha='center', fontsize='xx-large')\n",
    "df['FuelType'].hist(bins=12)"
   ]
  },
  {
   "cell_type": "code",
   "execution_count": 16,
   "metadata": {},
   "outputs": [
    {
     "data": {
      "text/plain": [
       "<AxesSubplot:>"
      ]
     },
     "execution_count": 16,
     "metadata": {},
     "output_type": "execute_result"
    },
    {
     "data": {
      "image/png": "[encoded data removed]",
      "text/plain": [
       "<Figure size 432x288 with 1 Axes>"
      ]
     },
     "metadata": {
      "needs_background": "light"
     },
     "output_type": "display_data"
    }
   ],
   "source": [
    "plt.suptitle('График распределения по ремонта', x=0.5, y=1.05, ha='center', fontsize='xx-large')\n",
    "df['NotRepaired'].hist(bins=12)"
   ]
  },
  {
   "cell_type": "markdown",
   "metadata": {},
   "source": [
    "Посмотрим на корелляции в признаках"
   ]
  },
  {
   "cell_type": "code",
   "execution_count": 17,
   "metadata": {},
   "outputs": [
    {
     "data": {
      "text/plain": [
       "<AxesSubplot:>"
      ]
     },
     "execution_count": 17,
     "metadata": {},
     "output_type": "execute_result"
    },
    {
     "data": {
      "image/png": "[encoded data removed]",
      "text/plain": [
       "<Figure size 432x288 with 2 Axes>"
      ]
     },
     "metadata": {
      "needs_background": "light"
     },
     "output_type": "display_data"
    }
   ],
   "source": [
    "sns.heatmap (df.corr(), cmap='Blues', annot=True)"
   ]
  },
  {
   "cell_type": "markdown",
   "metadata": {},
   "source": [
    "Мультиколлениарность между признаками не наблюдается и вообще корреляция по признакам очень слабая.\n",
    "Наибольшая корелляция у цены с мощностью, со всеми остальными связь либо низкая либо отрицательная как, например, у пробега."
   ]
  },
  {
   "cell_type": "markdown",
   "metadata": {},
   "source": [
    "Также т.к. один из показателей которых нужно проанализировать  - это скорость работы, то имеет смысл категориальные переменные с двумя значениями перевести в булевый тип. Из тех, что есть у нас - ~~это Gearbox (ручка/автомат) и~~ NotRepaired(да/нет)"
   ]
  },
  {
   "cell_type": "code",
   "execution_count": 18,
   "metadata": {},
   "outputs": [],
   "source": [
    "df['NotRepaired'] = df['NotRepaired'].replace(\"yes\", \"1\")\n",
    "df['NotRepaired'] = df['NotRepaired'].replace(\"no\", \"0\")\n",
    "df['NotRepaired']=df['NotRepaired'].astype(int) \n",
    "df['NotRepaired']=df['NotRepaired'].astype(bool) "
   ]
  },
  {
   "cell_type": "markdown",
   "metadata": {},
   "source": [
    "Посмотрим есть ли в данных выбросы. Т.к. самая высокая корелляция у power, то и выбросы мы будем смотреть по ней."
   ]
  },
  {
   "cell_type": "code",
   "execution_count": 19,
   "metadata": {},
   "outputs": [
    {
     "data": {
      "image/png": "[encoded data removed]",
      "text/plain": [
       "<Figure size 800x480 with 1 Axes>"
      ]
     },
     "metadata": {
      "needs_background": "light"
     },
     "output_type": "display_data"
    }
   ],
   "source": [
    "# Import Data\n",
    "\n",
    "# Draw Plot\n",
    "plt.figure(figsize=(10,6), dpi= 80)\n",
    "sns.violinplot(y='Power', data=df, scale='width', inner='quartile', grid=True)\n",
    "#sns.violinplot(x='all', y='rougher.input.feed_size', data=df_test, scale='width', inner='quartile')\n",
    "\n",
    "# Decoration\n",
    "plt.title('Бокс-плот по выборке по мощности л.с.', fontsize=10)\n",
    "plt.show()"
   ]
  },
  {
   "cell_type": "markdown",
   "metadata": {},
   "source": [
    "Очень много неправдоподобных значений. Так как этот признак больше остальных коррелирует с целевым, то надо его предобратотать.\n",
    "Удалим выбросы. Под выбросом я понимаю всё значения за пределами 25% перцентили минус 1.5 х МКР и 75% перцентили плюс 1.5 х МКР "
   ]
  },
  {
   "cell_type": "code",
   "execution_count": 20,
   "metadata": {},
   "outputs": [],
   "source": [
    "Q1 =  df['Power'].quantile(0.25)\n",
    "Q3 = df['Power'].quantile(0.75)\n",
    "IQR = Q3 - Q1\n",
    "df[df['Power'] < 1]['Power'].count()\n",
    "\n",
    "df = df.drop(df[df['Power'] < Q1-1.5*IQR].index)\n",
    "df = df.drop(df[df['Power'] > Q3+1.5*IQR].index)"
   ]
  },
  {
   "cell_type": "code",
   "execution_count": 21,
   "metadata": {},
   "outputs": [
    {
     "data": {
      "image/png": "[encoded data removed]",
      "text/plain": [
       "<Figure size 800x480 with 1 Axes>"
      ]
     },
     "metadata": {
      "needs_background": "light"
     },
     "output_type": "display_data"
    }
   ],
   "source": [
    "# Import Data\n",
    "\n",
    "# Draw Plot\n",
    "plt.figure(figsize=(10,6), dpi= 80)\n",
    "sns.violinplot(y='Power', data=df, scale='width', inner='quartile', grid=True)\n",
    "#sns.violinplot(x='all', y='rougher.input.feed_size', data=df_test, scale='width', inner='quartile')\n",
    "\n",
    "# Decoration\n",
    "plt.title('Бокс-плот по выборке по мощности л.с. после обработки', fontsize=10)\n",
    "plt.show()"
   ]
  },
  {
   "cell_type": "markdown",
   "metadata": {},
   "source": [
    "Визуально стало вроде бы лучше. Но смущает машины с нулевой мощностью лошадиных сил, такого не бывает. Уберем их из выборки."
   ]
  },
  {
   "cell_type": "code",
   "execution_count": 22,
   "metadata": {},
   "outputs": [],
   "source": [
    "df = df.drop(df[df['Power'] == 0].index)"
   ]
  },
  {
   "cell_type": "code",
   "execution_count": 23,
   "metadata": {},
   "outputs": [
    {
     "data": {
      "image/png": "[encoded data removed]",
      "text/plain": [
       "<Figure size 800x480 with 1 Axes>"
      ]
     },
     "metadata": {
      "needs_background": "light"
     },
     "output_type": "display_data"
    }
   ],
   "source": [
    "# Import Data\n",
    "\n",
    "# Draw Plot\n",
    "plt.figure(figsize=(10,6), dpi= 80)\n",
    "sns.violinplot(y='Power', data=df, scale='width', inner='quartile', grid=True)\n",
    "#sns.violinplot(x='all', y='rougher.input.feed_size', data=df_test, scale='width', inner='quartile')\n",
    "\n",
    "# Decoration\n",
    "plt.title('Бокс-плот по выборке по мощности л.с. после обработки', fontsize=10)\n",
    "plt.show()"
   ]
  },
  {
   "cell_type": "markdown",
   "metadata": {},
   "source": [
    "<div class=\"alert alert-block alert-info\">\n",
    "<b>Посмотрим на корелляцию в признаках после работы с аномалиями</b> \n",
    "</div>"
   ]
  },
  {
   "cell_type": "code",
   "execution_count": 24,
   "metadata": {},
   "outputs": [
    {
     "data": {
      "text/plain": [
       "<AxesSubplot:>"
      ]
     },
     "execution_count": 24,
     "metadata": {},
     "output_type": "execute_result"
    },
    {
     "data": {
      "image/png": "[encoded data removed]",
      "text/plain": [
       "<Figure size 432x288 with 2 Axes>"
      ]
     },
     "metadata": {
      "needs_background": "light"
     },
     "output_type": "display_data"
    }
   ],
   "source": [
    "sns.heatmap (df.corr(), cmap='Blues', annot=True)"
   ]
  },
  {
   "cell_type": "markdown",
   "metadata": {},
   "source": [
    "\n",
    "<b>Как видим мощность стала самым важным признаком влияющим на цену, также сильно (в + или -) влияет Год регистрации и факт ремонта</b> \n",
    "По факту ремонта не представляю возможным как надо выявить аномалии, а вот по году регистрации вполне. Поступим также как и с мощностью.\n"
   ]
  },
  {
   "cell_type": "code",
   "execution_count": 26,
   "metadata": {},
   "outputs": [
    {
     "data": {
      "image/png": "[encoded data removed]",
      "text/plain": [
       "<Figure size 800x480 with 1 Axes>"
      ]
     },
     "metadata": {
      "needs_background": "light"
     },
     "output_type": "display_data"
    }
   ],
   "source": [
    "# Import Data\n",
    "\n",
    "# Draw Plot\n",
    "plt.figure(figsize=(10,6), dpi= 80)\n",
    "sns.violinplot(y='RegistrationYear', data=df, scale='width', inner='quartile', grid=True)\n",
    "#sns.violinplot(x='all', y='rougher.input.feed_size', data=df_test, scale='width', inner='quartile')\n",
    "\n",
    "# Decoration\n",
    "plt.title('Бокс-плот по выборке по мощности л.с. после обработки', fontsize=10)\n",
    "plt.show()"
   ]
  },
  {
   "cell_type": "code",
   "execution_count": 27,
   "metadata": {},
   "outputs": [],
   "source": [
    "Q1 =  df['RegistrationYear'].quantile(0.25)\n",
    "Q3 = df['RegistrationYear'].quantile(0.75)\n",
    "IQR = Q3 - Q1\n",
    "df[df['RegistrationYear'] < 1]['RegistrationYear'].count()\n",
    "\n",
    "df = df.drop(df[df['RegistrationYear'] < Q1-1.5*IQR].index)\n",
    "df = df.drop(df[df['RegistrationYear'] > Q3+1.5*IQR].index)"
   ]
  },
  {
   "cell_type": "code",
   "execution_count": 31,
   "metadata": {},
   "outputs": [
    {
     "data": {
      "image/png": "[encoded data removed]",
      "text/plain": [
       "<Figure size 800x480 with 1 Axes>"
      ]
     },
     "metadata": {
      "needs_background": "light"
     },
     "output_type": "display_data"
    }
   ],
   "source": [
    "# Import Data\n",
    "\n",
    "# Draw Plot\n",
    "plt.figure(figsize=(10,6), dpi= 80)\n",
    "sns.violinplot(y='RegistrationYear', data=df, scale='width', inner='quartile', grid=True)\n",
    "#sns.violinplot(x='all', y='rougher.input.feed_size', data=df_test, scale='width', inner='quartile')\n",
    "\n",
    "# Decoration\n",
    "plt.title('Бокс-плот по выборке по году регистрации', fontsize=10)\n",
    "plt.show()"
   ]
  },
  {
   "cell_type": "markdown",
   "metadata": {},
   "source": [
    "\n",
    "<b>Распределение стало определенно лучше</b> \n"
   ]
  },
  {
   "cell_type": "code",
   "execution_count": 29,
   "metadata": {},
   "outputs": [
    {
     "data": {
      "text/plain": [
       "<AxesSubplot:>"
      ]
     },
     "execution_count": 29,
     "metadata": {},
     "output_type": "execute_result"
    },
    {
     "data": {
      "image/png": "[encoded data removed]",
      "text/plain": [
       "<Figure size 432x288 with 2 Axes>"
      ]
     },
     "metadata": {
      "needs_background": "light"
     },
     "output_type": "display_data"
    }
   ],
   "source": [
    "sns.heatmap (df.corr(), cmap='Blues', annot=True)"
   ]
  },
  {
   "cell_type": "markdown",
   "metadata": {},
   "source": [
    "\n",
    "<b>Теперь посмотрим на наличие аномалий в километраже</b> \n"
   ]
  },
  {
   "cell_type": "code",
   "execution_count": 30,
   "metadata": {},
   "outputs": [
    {
     "data": {
      "image/png": "[encoded data removed]",
      "text/plain": [
       "<Figure size 800x480 with 1 Axes>"
      ]
     },
     "metadata": {
      "needs_background": "light"
     },
     "output_type": "display_data"
    }
   ],
   "source": [
    "# Import Data\n",
    "\n",
    "# Draw Plot\n",
    "plt.figure(figsize=(10,6), dpi= 80)\n",
    "sns.violinplot(y='Kilometer', data=df, scale='width', inner='quartile', grid=True)\n",
    "#sns.violinplot(x='all', y='rougher.input.feed_size', data=df_test, scale='width', inner='quartile')\n",
    "\n",
    "# Decoration\n",
    "plt.title('Бокс-плот по километражу', fontsize=10)\n",
    "plt.show()"
   ]
  },
  {
   "cell_type": "markdown",
   "metadata": {},
   "source": [
    "Последним шагом я удалю поля которые как мне кажется для модели будут лишними, это все поля с датой - 'DateCrawled', 'DateCreated', 'LastSeen'"
   ]
  },
  {
   "cell_type": "markdown",
   "metadata": {},
   "source": [
    "\n",
    "<b>Также уберем ненужные маловлияющие признаки - PostalCode,RegistrationMonth  </b> \n"
   ]
  },
  {
   "cell_type": "code",
   "execution_count": 36,
   "metadata": {},
   "outputs": [],
   "source": [
    "df = df.drop(['DateCrawled', 'DateCreated', 'LastSeen','PostalCode', 'RegistrationMonth'], axis=1)"
   ]
  },
  {
   "cell_type": "code",
   "execution_count": 37,
   "metadata": {},
   "outputs": [
    {
     "name": "stdout",
     "output_type": "stream",
     "text": [
      "<class 'pandas.core.frame.DataFrame'>\n",
      "Int64Index: 280899 entries, 1 to 354368\n",
      "Data columns (total 11 columns):\n",
      " #   Column            Non-Null Count   Dtype \n",
      "---  ------            --------------   ----- \n",
      " 0   Price             280899 non-null  int64 \n",
      " 1   VehicleType       280899 non-null  object\n",
      " 2   RegistrationYear  280899 non-null  int64 \n",
      " 3   Gearbox           280899 non-null  object\n",
      " 4   Power             280899 non-null  int64 \n",
      " 5   Model             280899 non-null  object\n",
      " 6   Kilometer         280899 non-null  int64 \n",
      " 7   FuelType          280899 non-null  object\n",
      " 8   Brand             280899 non-null  object\n",
      " 9   NotRepaired       280899 non-null  bool  \n",
      " 10  NumberOfPictures  280899 non-null  int64 \n",
      "dtypes: bool(1), int64(5), object(5)\n",
      "memory usage: 23.8+ MB\n"
     ]
    }
   ],
   "source": [
    "df.info()"
   ]
  },
  {
   "cell_type": "markdown",
   "metadata": {},
   "source": [
    "### Краткий вывод по первому шагу.\n",
    "\n",
    "- мы удалили ненужные явные дубликаты;\n",
    "- заполнили пропуски в данных наиболее подходящими значениями;\n",
    "- поменяли в некоторых столбцах тип данных;\n",
    "- посмотрели на общее распределение по данным;\n",
    "- посмотрев на корреляцию в данных выявили признаки наиболее кореллирующие с целевым признаком и по нему предобработали выбросы\n",
    "- на последнем шаге мы избаивились от ненужных столбцов.\n",
    "\n",
    "Короче говоря, мы сделали всё от нас зависящее для того чтобы мы могли переходить к обучению модели."
   ]
  },
  {
   "cell_type": "code",
   "execution_count": 38,
   "metadata": {},
   "outputs": [
    {
     "data": {
      "text/plain": [
       "Price               0\n",
       "VehicleType         0\n",
       "RegistrationYear    0\n",
       "Gearbox             0\n",
       "Power               0\n",
       "Model               0\n",
       "Kilometer           0\n",
       "FuelType            0\n",
       "Brand               0\n",
       "NotRepaired         0\n",
       "NumberOfPictures    0\n",
       "dtype: int64"
      ]
     },
     "metadata": {},
     "output_type": "display_data"
    },
    {
     "data": {
      "text/html": [
       "<div>\n",
       "<style scoped>\n",
       "    .dataframe tbody tr th:only-of-type {\n",
       "        vertical-align: middle;\n",
       "    }\n",
       "\n",
       "    .dataframe tbody tr th {\n",
       "        vertical-align: top;\n",
       "    }\n",
       "\n",
       "    .dataframe thead th {\n",
       "        text-align: right;\n",
       "    }\n",
       "</style>\n",
       "<table border=\"1\" class=\"dataframe\">\n",
       "  <thead>\n",
       "    <tr style=\"text-align: right;\">\n",
       "      <th></th>\n",
       "      <th>Price</th>\n",
       "      <th>RegistrationYear</th>\n",
       "      <th>Power</th>\n",
       "      <th>Kilometer</th>\n",
       "      <th>NumberOfPictures</th>\n",
       "    </tr>\n",
       "  </thead>\n",
       "  <tbody>\n",
       "    <tr>\n",
       "      <th>count</th>\n",
       "      <td>280899.000000</td>\n",
       "      <td>280899.000000</td>\n",
       "      <td>280899.000000</td>\n",
       "      <td>280899.000000</td>\n",
       "      <td>280899.0</td>\n",
       "    </tr>\n",
       "    <tr>\n",
       "      <th>mean</th>\n",
       "      <td>4667.334270</td>\n",
       "      <td>2003.467456</td>\n",
       "      <td>116.391222</td>\n",
       "      <td>128391.201108</td>\n",
       "      <td>0.0</td>\n",
       "    </tr>\n",
       "    <tr>\n",
       "      <th>std</th>\n",
       "      <td>4487.421818</td>\n",
       "      <td>5.919482</td>\n",
       "      <td>45.030427</td>\n",
       "      <td>36608.086597</td>\n",
       "      <td>0.0</td>\n",
       "    </tr>\n",
       "    <tr>\n",
       "      <th>min</th>\n",
       "      <td>0.000000</td>\n",
       "      <td>1987.000000</td>\n",
       "      <td>1.000000</td>\n",
       "      <td>5000.000000</td>\n",
       "      <td>0.0</td>\n",
       "    </tr>\n",
       "    <tr>\n",
       "      <th>25%</th>\n",
       "      <td>1299.000000</td>\n",
       "      <td>1999.000000</td>\n",
       "      <td>75.000000</td>\n",
       "      <td>125000.000000</td>\n",
       "      <td>0.0</td>\n",
       "    </tr>\n",
       "    <tr>\n",
       "      <th>50%</th>\n",
       "      <td>3000.000000</td>\n",
       "      <td>2003.000000</td>\n",
       "      <td>110.000000</td>\n",
       "      <td>150000.000000</td>\n",
       "      <td>0.0</td>\n",
       "    </tr>\n",
       "    <tr>\n",
       "      <th>75%</th>\n",
       "      <td>6790.000000</td>\n",
       "      <td>2008.000000</td>\n",
       "      <td>143.000000</td>\n",
       "      <td>150000.000000</td>\n",
       "      <td>0.0</td>\n",
       "    </tr>\n",
       "    <tr>\n",
       "      <th>max</th>\n",
       "      <td>20000.000000</td>\n",
       "      <td>2019.000000</td>\n",
       "      <td>245.000000</td>\n",
       "      <td>150000.000000</td>\n",
       "      <td>0.0</td>\n",
       "    </tr>\n",
       "  </tbody>\n",
       "</table>\n",
       "</div>"
      ],
      "text/plain": [
       "               Price  RegistrationYear          Power      Kilometer  \\\n",
       "count  280899.000000     280899.000000  280899.000000  280899.000000   \n",
       "mean     4667.334270       2003.467456     116.391222  128391.201108   \n",
       "std      4487.421818          5.919482      45.030427   36608.086597   \n",
       "min         0.000000       1987.000000       1.000000    5000.000000   \n",
       "25%      1299.000000       1999.000000      75.000000  125000.000000   \n",
       "50%      3000.000000       2003.000000     110.000000  150000.000000   \n",
       "75%      6790.000000       2008.000000     143.000000  150000.000000   \n",
       "max     20000.000000       2019.000000     245.000000  150000.000000   \n",
       "\n",
       "       NumberOfPictures  \n",
       "count          280899.0  \n",
       "mean                0.0  \n",
       "std                 0.0  \n",
       "min                 0.0  \n",
       "25%                 0.0  \n",
       "50%                 0.0  \n",
       "75%                 0.0  \n",
       "max                 0.0  "
      ]
     },
     "execution_count": 38,
     "metadata": {},
     "output_type": "execute_result"
    }
   ],
   "source": [
    "\n",
    "\n",
    "display(df.isna().sum())\n",
    "df.describe()"
   ]
  },
  {
   "cell_type": "markdown",
   "metadata": {},
   "source": [
    "## Обучение моделей"
   ]
  },
  {
   "cell_type": "code",
   "execution_count": 39,
   "metadata": {},
   "outputs": [],
   "source": [
    "def rmse(y, predictions):\n",
    "    return mse(y, predictions) ** .5\n",
    "\n",
    "rmse_score = make_scorer(rmse, greater_is_better=False)"
   ]
  },
  {
   "cell_type": "markdown",
   "metadata": {},
   "source": [
    "### Разобъем  на выборки (обучающая, тестовая, валидная)"
   ]
  },
  {
   "cell_type": "code",
   "execution_count": 43,
   "metadata": {},
   "outputs": [],
   "source": [
    "target = df['Price']\n",
    "features = df.drop('Price', axis=1)"
   ]
  },
  {
   "cell_type": "markdown",
   "metadata": {},
   "source": [
    "Закодируем категориальные признаки, чтобы не попасть в дамми-ловушку, применим аргумент drop_first функции pd.get_dummies()"
   ]
  },
  {
   "cell_type": "code",
   "execution_count": 44,
   "metadata": {},
   "outputs": [],
   "source": [
    "#OHE кодирование\n",
    "ohe_features = pd.get_dummies(features, drop_first=True)"
   ]
  },
  {
   "cell_type": "code",
   "execution_count": 53,
   "metadata": {},
   "outputs": [],
   "source": [
    "#ordinal кодирование\n",
    "coder = OrdinalEncoder()\n",
    "all_columns = ['VehicleType','Gearbox','FuelType','Brand','Model']\n",
    "new_features = features[all_columns]\n",
    "new_features = pd.DataFrame(coder.fit_transform(new_features),\n",
    "                                columns=new_features.columns, \n",
    "                                index=new_features.index)\n",
    "ordinal_features = features.copy()\n",
    "for column in all_columns:\n",
    "    ordinal_features[column] = new_features[column]"
   ]
  },
  {
   "cell_type": "markdown",
   "metadata": {},
   "source": [
    "\n",
    "<b>Обучющих и тестовых выборок у нас будет  2 для ohe и ordinal</b> \n"
   ]
  },
  {
   "cell_type": "code",
   "execution_count": 61,
   "metadata": {},
   "outputs": [],
   "source": [
    "features_train, features_inter, target_train, target_inter = train_test_split(\n",
    "    features.copy(), \n",
    "    target.copy(), \n",
    "    test_size=0.4, \n",
    "    random_state=42)\n",
    "\n",
    "features_valid, features_test, target_valid, target_test = train_test_split(\n",
    "    features_inter.copy(),\n",
    "    target_inter.copy(),\n",
    "    test_size=0.5,\n",
    "    random_state=42)"
   ]
  },
  {
   "cell_type": "code",
   "execution_count": 62,
   "metadata": {},
   "outputs": [],
   "source": [
    "ordinal_features_train = ordinal_features.loc[features_train.index, :]\n",
    "ordinal_features_test = ordinal_features.loc[features_test.index, :]\n",
    "ordinal_features_valid = ordinal_features.loc[features_valid.index, :]\n",
    "\n",
    "\n",
    "ohe_features_train = ohe_features.loc[features_train.index, :]\n",
    "ohe_features_test = ohe_features.loc[features_test.index, :]\n",
    "ohe_features_valid = ohe_features.loc[features_valid.index, :]"
   ]
  },
  {
   "cell_type": "markdown",
   "metadata": {},
   "source": [
    "Тренировочные выборки у нас с такой размерностью"
   ]
  },
  {
   "cell_type": "code",
   "execution_count": 63,
   "metadata": {},
   "outputs": [
    {
     "data": {
      "text/plain": [
       "(168539, 10)"
      ]
     },
     "execution_count": 63,
     "metadata": {},
     "output_type": "execute_result"
    }
   ],
   "source": [
    "ordinal_features_train.shape"
   ]
  },
  {
   "cell_type": "code",
   "execution_count": 64,
   "metadata": {},
   "outputs": [
    {
     "data": {
      "text/plain": [
       "(168539, 307)"
      ]
     },
     "execution_count": 64,
     "metadata": {},
     "output_type": "execute_result"
    }
   ],
   "source": [
    "ohe_features_train.shape"
   ]
  },
  {
   "cell_type": "markdown",
   "metadata": {},
   "source": [
    "Тестовые и валидныетакие:"
   ]
  },
  {
   "cell_type": "code",
   "execution_count": 65,
   "metadata": {},
   "outputs": [
    {
     "data": {
      "text/plain": [
       "(56180, 10)"
      ]
     },
     "execution_count": 65,
     "metadata": {},
     "output_type": "execute_result"
    }
   ],
   "source": [
    "ordinal_features_test.shape"
   ]
  },
  {
   "cell_type": "code",
   "execution_count": 66,
   "metadata": {},
   "outputs": [
    {
     "data": {
      "text/plain": [
       "(56180, 307)"
      ]
     },
     "execution_count": 66,
     "metadata": {},
     "output_type": "execute_result"
    }
   ],
   "source": [
    "ohe_features_test.shape"
   ]
  },
  {
   "cell_type": "markdown",
   "metadata": {},
   "source": [
    "### Масштабирование\n",
    "Стандартизируем численные признаки при помощи StandardScaler"
   ]
  },
  {
   "cell_type": "code",
   "execution_count": 67,
   "metadata": {},
   "outputs": [
    {
     "name": "stdout",
     "output_type": "stream",
     "text": [
      "<class 'pandas.core.frame.DataFrame'>\n",
      "Int64Index: 168539 entries, 241814 to 153950\n",
      "Data columns (total 10 columns):\n",
      " #   Column            Non-Null Count   Dtype \n",
      "---  ------            --------------   ----- \n",
      " 0   VehicleType       168539 non-null  object\n",
      " 1   RegistrationYear  168539 non-null  int64 \n",
      " 2   Gearbox           168539 non-null  object\n",
      " 3   Power             168539 non-null  int64 \n",
      " 4   Model             168539 non-null  object\n",
      " 5   Kilometer         168539 non-null  int64 \n",
      " 6   FuelType          168539 non-null  object\n",
      " 7   Brand             168539 non-null  object\n",
      " 8   NotRepaired       168539 non-null  bool  \n",
      " 9   NumberOfPictures  168539 non-null  int64 \n",
      "dtypes: bool(1), int64(4), object(5)\n",
      "memory usage: 13.0+ MB\n"
     ]
    }
   ],
   "source": [
    "features_train.info()"
   ]
  },
  {
   "cell_type": "code",
   "execution_count": 68,
   "metadata": {},
   "outputs": [],
   "source": [
    "scaler = StandardScaler()\n",
    "X_train = scaler.fit_transform(ohe_features_train)\n",
    "X_valid = scaler.transform(ohe_features_valid)\n",
    "X_test = scaler.transform(ohe_features_test)"
   ]
  },
  {
   "cell_type": "code",
   "execution_count": 69,
   "metadata": {},
   "outputs": [],
   "source": [
    "y_train = target_train\n",
    "y_test = target_test\n",
    "y_valid = target_valid"
   ]
  },
  {
   "cell_type": "markdown",
   "metadata": {},
   "source": [
    "Перед нами стоит задача регресии. \n",
    "Мы будем использовать следующие модели:\n",
    "\n",
    "\n",
    "* линейная регрессия;\n",
    "* дерево решений;\n",
    "* LGBMRegressor;\n",
    "* CatBoostRegressor."
   ]
  },
  {
   "cell_type": "markdown",
   "metadata": {},
   "source": [
    "<b>\n",
    "Попробуем использовать GreedSeacrhCV \n",
    "</b> "
   ]
  },
  {
   "cell_type": "code",
   "execution_count": 70,
   "metadata": {},
   "outputs": [
    {
     "name": "stdout",
     "output_type": "stream",
     "text": [
      "CPU times: user 2min 37s, sys: 6.21 s, total: 2min 44s\n",
      "Wall time: 2min 44s\n"
     ]
    },
    {
     "data": {
      "text/plain": [
       "-2189.9992905786594"
      ]
     },
     "execution_count": 70,
     "metadata": {},
     "output_type": "execute_result"
    }
   ],
   "source": [
    "%%time\n",
    "state = 42\n",
    "cv = KFold()\n",
    "model = DecisionTreeRegressor(random_state=state)\n",
    "    \n",
    "\n",
    "param_dict = {'max_depth': range(1, 8),\n",
    "              'min_samples_leaf' : range (1,6),\n",
    "              'max_features' : range(1,7)}\n",
    "\n",
    "griddtr = GridSearchCV(model, param_dict, cv = cv, scoring=rmse_score, n_jobs = -1)\n",
    "\n",
    "griddtr.fit(ordinal_features_train, target_train)\n",
    "griddtr.best_score_"
   ]
  },
  {
   "cell_type": "code",
   "execution_count": 71,
   "metadata": {},
   "outputs": [
    {
     "name": "stdout",
     "output_type": "stream",
     "text": [
      "DecisionTreeRegressor(max_depth=7, max_features=6, min_samples_leaf=3,\n",
      "                      random_state=42)\n",
      "\n",
      "{'max_depth': 7, 'max_features': 6, 'min_samples_leaf': 3}\n",
      "\n",
      "-2189.9992905786594\n"
     ]
    }
   ],
   "source": [
    "print(griddtr.best_estimator_)\n",
    "print()\n",
    "print(griddtr.best_params_)\n",
    "print()\n",
    "print(griddtr.best_score_)"
   ]
  },
  {
   "cell_type": "code",
   "execution_count": 72,
   "metadata": {},
   "outputs": [
    {
     "name": "stdout",
     "output_type": "stream",
     "text": [
      "CPU times: user 3min 14s, sys: 1min 13s, total: 4min 27s\n",
      "Wall time: 4min 29s\n"
     ]
    },
    {
     "data": {
      "text/plain": [
       "-71754475184378.23"
      ]
     },
     "execution_count": 72,
     "metadata": {},
     "output_type": "execute_result"
    }
   ],
   "source": [
    "%%time\n",
    "state = 42\n",
    "cv = KFold()\n",
    "model = LinearRegression()\n",
    "    \n",
    "\n",
    "param_dict = {'fit_intercept':[True, False],\n",
    "                    'copy_X':[True, False]}\n",
    "\n",
    "griddlr = GridSearchCV(model, param_dict, cv = cv, scoring=rmse_score, n_jobs = -1)\n",
    "griddlr.fit(X_train, y_train)\n",
    "griddlr.best_score_"
   ]
  },
  {
   "cell_type": "code",
   "execution_count": 73,
   "metadata": {},
   "outputs": [
    {
     "name": "stdout",
     "output_type": "stream",
     "text": [
      "LinearRegression()\n",
      "\n",
      "{'copy_X': True, 'fit_intercept': True}\n",
      "\n",
      "-71754475184378.23\n"
     ]
    }
   ],
   "source": [
    "print(griddlr.best_estimator_)\n",
    "print()\n",
    "print(griddlr.best_params_)\n",
    "print()\n",
    "print(griddlr.best_score_)"
   ]
  },
  {
   "cell_type": "code",
   "execution_count": 74,
   "metadata": {},
   "outputs": [
    {
     "name": "stdout",
     "output_type": "stream",
     "text": [
      "\n"
     ]
    },
    {
     "data": {
      "text/plain": [
       "-1560.6052998499383"
      ]
     },
     "execution_count": 74,
     "metadata": {},
     "output_type": "execute_result"
    }
   ],
   "source": [
    "model = CatBoostRegressor() \n",
    "param_dict = [{'learning_rate':[0.1, 0.5, 0.8],\n",
    "                'random_state':[42],\n",
    "                'verbose':[False]}]\n",
    "\n",
    "print()\n",
    "gridcb = GridSearchCV(model, param_dict, scoring=rmse_score,n_jobs = -1)\n",
    "gridcb.fit(ordinal_features_train, target_train)\n",
    "gridcb.best_score_"
   ]
  },
  {
   "cell_type": "code",
   "execution_count": 75,
   "metadata": {},
   "outputs": [
    {
     "name": "stdout",
     "output_type": "stream",
     "text": [
      "<catboost.core.CatBoostRegressor object at 0x7f600a2c4b80>\n",
      "\n",
      "{'learning_rate': 0.5, 'random_state': 42, 'verbose': False}\n",
      "\n",
      "-1560.6052998499383\n",
      "CPU times: user 555 µs, sys: 72 µs, total: 627 µs\n",
      "Wall time: 386 µs\n"
     ]
    }
   ],
   "source": [
    "%%time\n",
    "print(gridcb.best_estimator_)\n",
    "print()\n",
    "print(gridcb.best_params_)\n",
    "print()\n",
    "print(gridcb.best_score_)"
   ]
  },
  {
   "cell_type": "code",
   "execution_count": 76,
   "metadata": {},
   "outputs": [
    {
     "name": "stdout",
     "output_type": "stream",
     "text": [
      "\n"
     ]
    },
    {
     "data": {
      "text/plain": [
       "-1552.063363738204"
      ]
     },
     "execution_count": 76,
     "metadata": {},
     "output_type": "execute_result"
    }
   ],
   "source": [
    "model = LGBMRegressor() \n",
    "param_dict = [{'num_leaves':[31, 100, 200], \n",
    "                'learning_rate':[0.1, 0.3, 0.5],\n",
    "                'random_state':[42]}]\n",
    "print()\n",
    "gridlgmr = GridSearchCV(model, param_dict, scoring=rmse_score,n_jobs = -1)\n",
    "gridlgmr.fit(ordinal_features_train, target_train)\n",
    "gridlgmr.best_score_"
   ]
  },
  {
   "cell_type": "code",
   "execution_count": 77,
   "metadata": {},
   "outputs": [
    {
     "name": "stdout",
     "output_type": "stream",
     "text": [
      "LGBMRegressor(learning_rate=0.3, num_leaves=200, random_state=42)\n",
      "\n",
      "{'learning_rate': 0.3, 'num_leaves': 200, 'random_state': 42}\n",
      "\n",
      "-1552.063363738204\n",
      "CPU times: user 1.51 ms, sys: 0 ns, total: 1.51 ms\n",
      "Wall time: 1.12 ms\n"
     ]
    }
   ],
   "source": [
    "%%time\n",
    "print(gridlgmr.best_estimator_)\n",
    "print()\n",
    "print(gridlgmr.best_params_)\n",
    "print()\n",
    "print(gridlgmr.best_score_)"
   ]
  },
  {
   "cell_type": "markdown",
   "metadata": {},
   "source": [
    "### Обучим модели"
   ]
  },
  {
   "cell_type": "code",
   "execution_count": 80,
   "metadata": {},
   "outputs": [
    {
     "name": "stdout",
     "output_type": "stream",
     "text": [
      "DecisionTreeRegressor:  2185.0461609860286\n",
      "Время обучения:  0.2745940685272217\n",
      "Время предсказания:  0.31444787979125977\n"
     ]
    }
   ],
   "source": [
    "model1 = DecisionTreeRegressor(random_state=42,\n",
    "                               max_depth =7, \n",
    "                               max_features=6,\n",
    "                               min_samples_leaf=3) \n",
    "start = time.time()\n",
    "model1.fit(ordinal_features_train, target_train) \n",
    "fit_time = time.time() - start\n",
    "predictions_1 = model1.predict(ordinal_features_valid) # получим предсказания модели\n",
    "pred_time = time.time() - start\n",
    "result1 = rmse(target_valid,predictions_1)\n",
    "\n",
    "\n",
    "print('DecisionTreeRegressor: ', result1)\n",
    "print(\"Время обучения: \", fit_time)\n",
    "print(\"Время предсказания: \", pred_time)"
   ]
  },
  {
   "cell_type": "code",
   "execution_count": 82,
   "metadata": {},
   "outputs": [
    {
     "name": "stdout",
     "output_type": "stream",
     "text": [
      "LinearRegression:  2330.0042318722344\n",
      "Время обучения:  19.131540298461914\n",
      "Время предсказания:  19.23752236366272\n"
     ]
    }
   ],
   "source": [
    "model2 = LinearRegression(copy_X = True,\n",
    "                          fit_intercept = True) \n",
    "start = time.time()\n",
    "model2.fit(X_train, y_train) \n",
    "fit_time = time.time() - start\n",
    "predictions_2 = model2.predict(X_valid) # получим предсказания модели\n",
    "pred_time = time.time() - start\n",
    "result2 = rmse(y_valid,predictions_2)\n",
    "\n",
    "\n",
    "print('LinearRegression: ', result2)\n",
    "print(\"Время обучения: \", fit_time)\n",
    "print(\"Время предсказания: \", pred_time)"
   ]
  },
  {
   "cell_type": "code",
   "execution_count": 83,
   "metadata": {},
   "outputs": [
    {
     "name": "stdout",
     "output_type": "stream",
     "text": [
      "CatBoostRegressor:  1563.3624893685096\n",
      "Время обучения:  25.938984632492065\n",
      "Время предсказания:  26.012470960617065\n"
     ]
    }
   ],
   "source": [
    "model3 = CatBoostRegressor(learning_rate = 0.5,\n",
    "                           random_state = 42,\n",
    "                           verbose = False) \n",
    "start = time.time()\n",
    "model3.fit(ordinal_features_train, target_train) \n",
    "fit_time = time.time() - start\n",
    "predictions_3 = model3.predict(ordinal_features_valid) # получим предсказания модели\n",
    "pred_time = time.time() - start\n",
    "result3 = rmse(target_valid,predictions_3)\n",
    "\n",
    "\n",
    "print(\"CatBoostRegressor\", result4)"
   ]
  },
  {
   "cell_type": "code",
   "execution_count": 84,
   "metadata": {},
   "outputs": [
    {
     "name": "stdout",
     "output_type": "stream",
     "text": [
      "LGBMRegressor:  1552.7403365170971\n",
      "Время обучения:  141.3521852493286\n",
      "Время предсказания:  141.94370102882385\n"
     ]
    }
   ],
   "source": [
    "model4 = LGBMRegressor(learning_rate = 0.3,\n",
    "                       num_leaves = 200,\n",
    "                       random_state = 42) \n",
    "start = time.time()\n",
    "model4.fit(ordinal_features_train, target_train) \n",
    "fit_time = time.time() - start\n",
    "predictions_4 = model4.predict(ordinal_features_valid) # получим предсказания модели\n",
    "pred_time = time.time() - start\n",
    "result4 = rmse(target_valid,predictions_4)\n",
    "\n",
    "\n",
    "print('LGBMRegressor: ', result4)\n",
    "print(\"Время обучения: \", fit_time)\n",
    "print(\"Время предсказания: \", pred_time)"
   ]
  },
  {
   "cell_type": "markdown",
   "metadata": {},
   "source": [
    "Значения вполне себе. Выберем <b>лучшую</b> модель."
   ]
  },
  {
   "attachments": {
    "image-2.png": {
     "image/png": "[encoded data removed]"
    }
   },
   "cell_type": "markdown",
   "metadata": {},
   "source": [
    "\n",
    "<b>Составим сравнительную таблицу моделей</b> \n",
    "    \n",
    "\n",
    "![image-2.png](attachment:image-2.png)\n",
    "\n",
    "\n"
   ]
  },
  {
   "cell_type": "markdown",
   "metadata": {},
   "source": [
    "\n",
    "<b>Быстрее всего работает линейная регрессия, лучшая по показателю rmse LGBMRegressor, на этих двух моделях мы и протестируем наши тестовый данные</b> \n"
   ]
  },
  {
   "cell_type": "markdown",
   "metadata": {},
   "source": [
    "## Анализ моделей"
   ]
  },
  {
   "cell_type": "markdown",
   "metadata": {},
   "source": [
    "### проверим модели на тесте"
   ]
  },
  {
   "cell_type": "markdown",
   "metadata": {},
   "source": [
    "\n",
    "<b>Я объедининл валидную выборку с обучающей для того чтобы модель лучше обучилась.</b> \n"
   ]
  },
  {
   "cell_type": "code",
   "execution_count": 90,
   "metadata": {},
   "outputs": [],
   "source": [
    "features_train_all = pd.concat([ohe_features_train, ohe_features_valid])\n",
    "target_train_all = pd.concat([target_train, target_valid])"
   ]
  },
  {
   "cell_type": "code",
   "execution_count": 91,
   "metadata": {},
   "outputs": [
    {
     "name": "stdout",
     "output_type": "stream",
     "text": [
      "LinearRegression 760655.587780045\n",
      "CPU times: user 18.4 s, sys: 11.8 s, total: 30.2 s\n",
      "Wall time: 30.2 s\n"
     ]
    }
   ],
   "source": [
    "%%time\n",
    "model = LinearRegression(copy_X = True,\n",
    "                          fit_intercept = True)\n",
    "\n",
    "\n",
    "model.fit(features_train_all, target_train_all)\n",
    "predicted = model.predict(X_test)\n",
    "resultlrr = rmse(y_test,predicted)\n",
    "print(\"LinearRegression\", resultlrr)"
   ]
  },
  {
   "cell_type": "code",
   "execution_count": 104,
   "metadata": {},
   "outputs": [],
   "source": [
    "features_train_all_2 = pd.concat([ordinal_features_train, ordinal_features_valid])"
   ]
  },
  {
   "cell_type": "code",
   "execution_count": 106,
   "metadata": {},
   "outputs": [
    {
     "name": "stdout",
     "output_type": "stream",
     "text": [
      "LGBMRegressor 1533.5670889201147\n",
      "CPU times: user 11.9 s, sys: 0 ns, total: 11.9 s\n",
      "Wall time: 11.9 s\n"
     ]
    }
   ],
   "source": [
    "%%time\n",
    "model5 = LGBMRegressor(learning_rate = 0.3,\n",
    "                       num_leaves = 200,\n",
    "                       random_state = 42) \n",
    "\n",
    "model5.fit(features_train_all_2, target_train_all)\n",
    "#ValueError: Expected 2D array, got 1D array instead:\n",
    "predicted_5 = model5.predict(ordinal_features_test)\n",
    "resultlgmr = rmse(target_test,predicted_5)\n",
    "print(\"LGBMRegressor\", resultlgmr)"
   ]
  },
  {
   "cell_type": "markdown",
   "metadata": {},
   "source": [
    "## Итоговый вывод\n",
    "\n",
    "- Мы выбрали 4 модели для тестирования (линейная регрессия, дерево решений, LGBMRegressor, CatBoostRegressor)\n",
    "- Модели поделили на группы и для каждой закодировали признаки(ohe и ordinal)\n",
    "- После чего обучили модели и проверили сколько по времени обучается модели, сколько она предсказывает и с каким показателем rmse\n",
    "- На основании критериев - самая быстрая и самая точная, мы выбрали 2 модели - Линеную регрессию и LGBMRegressor\n",
    "- Проверив на тестовой выборке эти две модели, мы выявили что скорость работы также осталось за линейной, но показатель rmse очень и очень плохой, в то время как LGBMRegressor показал отличный результат 1533.5, пускай и не с самым быстрой скоростью обучения и предсказания.\n"
   ]
  },
  {
   "cell_type": "code",
   "execution_count": null,
   "metadata": {},
   "outputs": [],
   "source": []
  }
 ],
 "metadata": {
  "ExecuteTimeLog": [
   {
    "duration": 1359,
    "start_time": "2022-07-22T13:06:42.006Z"
   },
   {
    "duration": 1145,
    "start_time": "2022-07-22T13:07:18.543Z"
   },
   {
    "duration": 699,
    "start_time": "2022-07-22T13:51:48.904Z"
   },
   {
    "duration": 564,
    "start_time": "2022-07-22T13:52:07.931Z"
   },
   {
    "duration": 1755,
    "start_time": "2022-07-22T17:22:12.678Z"
   },
   {
    "duration": 2683,
    "start_time": "2022-07-22T17:22:18.544Z"
   },
   {
    "duration": 616,
    "start_time": "2022-07-22T17:22:22.848Z"
   },
   {
    "duration": 523,
    "start_time": "2022-07-22T17:22:29.164Z"
   },
   {
    "duration": 37,
    "start_time": "2022-07-22T17:27:46.740Z"
   },
   {
    "duration": 679,
    "start_time": "2022-07-22T17:28:10.484Z"
   },
   {
    "duration": 11,
    "start_time": "2022-07-22T18:24:04.052Z"
   },
   {
    "duration": 119,
    "start_time": "2022-07-22T18:30:17.328Z"
   },
   {
    "duration": 35,
    "start_time": "2022-07-22T18:30:28.126Z"
   },
   {
    "duration": 3,
    "start_time": "2022-07-22T18:37:17.744Z"
   },
   {
    "duration": 3,
    "start_time": "2022-07-22T18:38:03.146Z"
   },
   {
    "duration": 327,
    "start_time": "2022-07-22T18:39:34.427Z"
   },
   {
    "duration": 4,
    "start_time": "2022-07-22T18:39:44.172Z"
   },
   {
    "duration": 418,
    "start_time": "2022-07-22T18:39:48.668Z"
   },
   {
    "duration": 3,
    "start_time": "2022-07-22T18:39:58.454Z"
   },
   {
    "duration": 309,
    "start_time": "2022-07-22T18:40:01.345Z"
   },
   {
    "duration": 168,
    "start_time": "2022-07-22T18:40:12.472Z"
   },
   {
    "duration": 4,
    "start_time": "2022-07-22T18:40:20.387Z"
   },
   {
    "duration": 31,
    "start_time": "2022-07-22T18:40:26.561Z"
   },
   {
    "duration": 21,
    "start_time": "2022-07-22T18:41:05.162Z"
   },
   {
    "duration": 124,
    "start_time": "2022-07-22T18:41:18.903Z"
   },
   {
    "duration": 178,
    "start_time": "2022-07-22T18:42:33.774Z"
   },
   {
    "duration": 5,
    "start_time": "2022-07-22T18:44:37.339Z"
   },
   {
    "duration": 880,
    "start_time": "2022-07-22T18:44:37.347Z"
   },
   {
    "duration": 607,
    "start_time": "2022-07-22T18:44:38.228Z"
   },
   {
    "duration": 521,
    "start_time": "2022-07-22T18:44:38.837Z"
   },
   {
    "duration": 16,
    "start_time": "2022-07-22T18:44:46.019Z"
   },
   {
    "duration": 51,
    "start_time": "2022-07-22T18:44:48.673Z"
   },
   {
    "duration": 4,
    "start_time": "2022-07-22T18:44:51.099Z"
   },
   {
    "duration": 208,
    "start_time": "2022-07-22T18:44:56.446Z"
   },
   {
    "duration": 22,
    "start_time": "2022-07-22T18:44:59.421Z"
   },
   {
    "duration": 135,
    "start_time": "2022-07-22T18:45:02.173Z"
   },
   {
    "duration": 12,
    "start_time": "2022-07-22T18:45:23.473Z"
   },
   {
    "duration": 23,
    "start_time": "2022-07-22T18:46:24.305Z"
   },
   {
    "duration": 126,
    "start_time": "2022-07-22T19:08:35.228Z"
   },
   {
    "duration": 7,
    "start_time": "2022-07-22T19:09:36.551Z"
   },
   {
    "duration": 15,
    "start_time": "2022-07-22T19:09:42.048Z"
   },
   {
    "duration": 20,
    "start_time": "2022-07-22T19:09:50.635Z"
   },
   {
    "duration": 74,
    "start_time": "2022-07-22T19:20:08.099Z"
   },
   {
    "duration": 14,
    "start_time": "2022-07-22T19:22:33.325Z"
   },
   {
    "duration": 636,
    "start_time": "2022-07-22T19:22:37.156Z"
   },
   {
    "duration": 252,
    "start_time": "2022-07-22T19:25:00.001Z"
   },
   {
    "duration": 202,
    "start_time": "2022-07-22T19:25:25.946Z"
   },
   {
    "duration": 200,
    "start_time": "2022-07-22T19:25:35.652Z"
   },
   {
    "duration": 3012,
    "start_time": "2022-07-22T19:26:10.441Z"
   },
   {
    "duration": 212,
    "start_time": "2022-07-22T19:26:37.277Z"
   },
   {
    "duration": 185,
    "start_time": "2022-07-22T19:27:20.092Z"
   },
   {
    "duration": 21,
    "start_time": "2022-07-22T19:27:57.284Z"
   },
   {
    "duration": 13,
    "start_time": "2022-07-22T19:28:12.963Z"
   },
   {
    "duration": 19,
    "start_time": "2022-07-22T19:28:22.409Z"
   },
   {
    "duration": 22,
    "start_time": "2022-07-22T19:29:07.232Z"
   },
   {
    "duration": 19,
    "start_time": "2022-07-22T19:29:09.343Z"
   },
   {
    "duration": 16,
    "start_time": "2022-07-22T19:29:44.340Z"
   },
   {
    "duration": 293,
    "start_time": "2022-07-22T19:29:53.844Z"
   },
   {
    "duration": 763,
    "start_time": "2022-07-22T19:30:20.796Z"
   },
   {
    "duration": 19,
    "start_time": "2022-07-22T19:30:25.543Z"
   },
   {
    "duration": 114,
    "start_time": "2022-07-22T19:31:32.367Z"
   },
   {
    "duration": 12,
    "start_time": "2022-07-22T19:31:46.644Z"
   },
   {
    "duration": 119,
    "start_time": "2022-07-22T19:31:50.396Z"
   },
   {
    "duration": 18,
    "start_time": "2022-07-22T19:32:26.422Z"
   },
   {
    "duration": 111,
    "start_time": "2022-07-22T19:32:30.477Z"
   },
   {
    "duration": 33,
    "start_time": "2022-07-22T19:32:36.007Z"
   },
   {
    "duration": 3,
    "start_time": "2022-07-22T19:32:38.091Z"
   },
   {
    "duration": 164,
    "start_time": "2022-07-22T19:32:40.196Z"
   },
   {
    "duration": 20,
    "start_time": "2022-07-22T19:32:41.985Z"
   },
   {
    "duration": 110,
    "start_time": "2022-07-22T19:32:44.595Z"
   },
   {
    "duration": 131,
    "start_time": "2022-07-22T19:32:47.654Z"
   },
   {
    "duration": 18,
    "start_time": "2022-07-22T19:32:53.273Z"
   },
   {
    "duration": 122,
    "start_time": "2022-07-22T19:33:01.801Z"
   },
   {
    "duration": 19,
    "start_time": "2022-07-22T19:33:22.295Z"
   },
   {
    "duration": 19,
    "start_time": "2022-07-22T19:33:24.290Z"
   },
   {
    "duration": 208,
    "start_time": "2022-07-22T19:33:31.576Z"
   },
   {
    "duration": 46,
    "start_time": "2022-07-24T07:49:26.345Z"
   },
   {
    "duration": 1643,
    "start_time": "2022-07-24T07:49:32.416Z"
   },
   {
    "duration": 1080,
    "start_time": "2022-07-24T07:49:34.061Z"
   },
   {
    "duration": 588,
    "start_time": "2022-07-24T07:49:35.143Z"
   },
   {
    "duration": 522,
    "start_time": "2022-07-24T07:49:35.733Z"
   },
   {
    "duration": 130,
    "start_time": "2022-07-24T07:49:36.257Z"
   },
   {
    "duration": 33,
    "start_time": "2022-07-24T07:49:36.389Z"
   },
   {
    "duration": 30,
    "start_time": "2022-07-24T07:49:36.423Z"
   },
   {
    "duration": 3,
    "start_time": "2022-07-24T07:49:36.455Z"
   },
   {
    "duration": 180,
    "start_time": "2022-07-24T07:49:36.459Z"
   },
   {
    "duration": 23,
    "start_time": "2022-07-24T07:49:36.641Z"
   },
   {
    "duration": 206,
    "start_time": "2022-07-24T07:49:36.665Z"
   },
   {
    "duration": 20,
    "start_time": "2022-07-24T07:49:36.872Z"
   },
   {
    "duration": 30,
    "start_time": "2022-07-24T07:49:36.893Z"
   },
   {
    "duration": 73,
    "start_time": "2022-07-24T07:49:36.926Z"
   },
   {
    "duration": 19,
    "start_time": "2022-07-24T07:49:37.008Z"
   },
   {
    "duration": 17,
    "start_time": "2022-07-24T07:49:37.029Z"
   },
   {
    "duration": 260,
    "start_time": "2022-07-24T07:49:37.048Z"
   },
   {
    "duration": 205,
    "start_time": "2022-07-24T07:49:37.310Z"
   },
   {
    "duration": 220,
    "start_time": "2022-07-24T07:49:37.516Z"
   },
   {
    "duration": 280,
    "start_time": "2022-07-24T07:49:37.737Z"
   },
   {
    "duration": 628,
    "start_time": "2022-07-24T07:49:38.019Z"
   },
   {
    "duration": 19,
    "start_time": "2022-07-24T07:49:41.745Z"
   },
   {
    "duration": 27,
    "start_time": "2022-07-24T07:51:08.043Z"
   },
   {
    "duration": 19,
    "start_time": "2022-07-24T07:51:10.764Z"
   },
   {
    "duration": 74,
    "start_time": "2022-07-24T07:51:43.834Z"
   },
   {
    "duration": 35,
    "start_time": "2022-07-24T07:52:02.205Z"
   },
   {
    "duration": 7,
    "start_time": "2022-07-24T07:52:05.520Z"
   },
   {
    "duration": 4,
    "start_time": "2022-07-24T07:53:13.171Z"
   },
   {
    "duration": 752,
    "start_time": "2022-07-24T07:53:13.190Z"
   },
   {
    "duration": 542,
    "start_time": "2022-07-24T07:53:13.944Z"
   },
   {
    "duration": 443,
    "start_time": "2022-07-24T07:53:14.488Z"
   },
   {
    "duration": 138,
    "start_time": "2022-07-24T07:53:14.933Z"
   },
   {
    "duration": 22,
    "start_time": "2022-07-24T07:53:15.073Z"
   },
   {
    "duration": 29,
    "start_time": "2022-07-24T07:53:15.110Z"
   },
   {
    "duration": 3,
    "start_time": "2022-07-24T07:53:15.140Z"
   },
   {
    "duration": 168,
    "start_time": "2022-07-24T07:53:15.144Z"
   },
   {
    "duration": 19,
    "start_time": "2022-07-24T07:53:15.314Z"
   },
   {
    "duration": 119,
    "start_time": "2022-07-24T07:53:15.335Z"
   },
   {
    "duration": 20,
    "start_time": "2022-07-24T07:53:15.455Z"
   },
   {
    "duration": 33,
    "start_time": "2022-07-24T07:53:15.476Z"
   },
   {
    "duration": 58,
    "start_time": "2022-07-24T07:53:15.511Z"
   },
   {
    "duration": 18,
    "start_time": "2022-07-24T07:53:15.571Z"
   },
   {
    "duration": 32,
    "start_time": "2022-07-24T07:53:15.591Z"
   },
   {
    "duration": 227,
    "start_time": "2022-07-24T07:53:15.625Z"
   },
   {
    "duration": 200,
    "start_time": "2022-07-24T07:53:15.854Z"
   },
   {
    "duration": 227,
    "start_time": "2022-07-24T07:53:16.056Z"
   },
   {
    "duration": 206,
    "start_time": "2022-07-24T07:53:16.285Z"
   },
   {
    "duration": 561,
    "start_time": "2022-07-24T07:53:16.493Z"
   },
   {
    "duration": 20,
    "start_time": "2022-07-24T07:53:24.099Z"
   },
   {
    "duration": 26,
    "start_time": "2022-07-24T07:53:26.333Z"
   },
   {
    "duration": 35,
    "start_time": "2022-07-24T07:53:29.455Z"
   },
   {
    "duration": 8,
    "start_time": "2022-07-24T07:53:31.784Z"
   },
   {
    "duration": 4,
    "start_time": "2022-07-24T07:53:36.144Z"
   },
   {
    "duration": 752,
    "start_time": "2022-07-24T07:53:36.368Z"
   },
   {
    "duration": 528,
    "start_time": "2022-07-24T07:53:37.122Z"
   },
   {
    "duration": 427,
    "start_time": "2022-07-24T07:53:37.651Z"
   },
   {
    "duration": 130,
    "start_time": "2022-07-24T07:53:38.080Z"
   },
   {
    "duration": 19,
    "start_time": "2022-07-24T07:53:38.212Z"
   },
   {
    "duration": 28,
    "start_time": "2022-07-24T07:53:38.232Z"
   },
   {
    "duration": 5,
    "start_time": "2022-07-24T07:53:38.262Z"
   },
   {
    "duration": 171,
    "start_time": "2022-07-24T07:53:38.268Z"
   },
   {
    "duration": 20,
    "start_time": "2022-07-24T07:53:38.441Z"
   },
   {
    "duration": 121,
    "start_time": "2022-07-24T07:53:38.463Z"
   },
   {
    "duration": 24,
    "start_time": "2022-07-24T07:53:38.585Z"
   },
   {
    "duration": 38,
    "start_time": "2022-07-24T07:53:38.611Z"
   },
   {
    "duration": 69,
    "start_time": "2022-07-24T07:53:38.651Z"
   },
   {
    "duration": 20,
    "start_time": "2022-07-24T07:53:38.722Z"
   },
   {
    "duration": 19,
    "start_time": "2022-07-24T07:53:38.743Z"
   },
   {
    "duration": 269,
    "start_time": "2022-07-24T07:53:38.764Z"
   },
   {
    "duration": 199,
    "start_time": "2022-07-24T07:53:39.035Z"
   },
   {
    "duration": 220,
    "start_time": "2022-07-24T07:53:39.235Z"
   },
   {
    "duration": 298,
    "start_time": "2022-07-24T07:53:39.456Z"
   },
   {
    "duration": 562,
    "start_time": "2022-07-24T07:53:39.756Z"
   },
   {
    "duration": 18,
    "start_time": "2022-07-24T07:53:40.320Z"
   },
   {
    "duration": 27,
    "start_time": "2022-07-24T07:53:51.797Z"
   },
   {
    "duration": 51,
    "start_time": "2022-07-24T07:53:53.423Z"
   },
   {
    "duration": 7,
    "start_time": "2022-07-24T07:53:55.341Z"
   },
   {
    "duration": 4,
    "start_time": "2022-07-24T07:54:08.380Z"
   },
   {
    "duration": 6,
    "start_time": "2022-07-24T07:54:11.171Z"
   },
   {
    "duration": 6,
    "start_time": "2022-07-24T07:55:08.274Z"
   },
   {
    "duration": 7,
    "start_time": "2022-07-24T07:55:10.988Z"
   },
   {
    "duration": 19,
    "start_time": "2022-07-24T07:55:38.074Z"
   },
   {
    "duration": 86,
    "start_time": "2022-07-24T07:56:03.688Z"
   },
   {
    "duration": 7,
    "start_time": "2022-07-24T07:56:06.232Z"
   },
   {
    "duration": 801,
    "start_time": "2022-07-24T08:00:46.770Z"
   },
   {
    "duration": 8,
    "start_time": "2022-07-24T08:02:30.733Z"
   },
   {
    "duration": 160,
    "start_time": "2022-07-24T08:04:13.827Z"
   },
   {
    "duration": 694,
    "start_time": "2022-07-24T08:04:39.624Z"
   },
   {
    "duration": 5,
    "start_time": "2022-07-24T08:05:52.721Z"
   },
   {
    "duration": 7,
    "start_time": "2022-07-24T08:06:02.283Z"
   },
   {
    "duration": 29,
    "start_time": "2022-07-24T08:06:43.052Z"
   },
   {
    "duration": 68,
    "start_time": "2022-07-24T08:07:58.441Z"
   },
   {
    "duration": 703,
    "start_time": "2022-07-24T08:08:04.816Z"
   },
   {
    "duration": 24,
    "start_time": "2022-07-24T08:10:17.529Z"
   },
   {
    "duration": 18,
    "start_time": "2022-07-24T08:11:01.683Z"
   },
   {
    "duration": 12,
    "start_time": "2022-07-24T08:11:16.141Z"
   },
   {
    "duration": 5,
    "start_time": "2022-07-24T08:13:26.864Z"
   },
   {
    "duration": 790,
    "start_time": "2022-07-24T08:13:26.870Z"
   },
   {
    "duration": 525,
    "start_time": "2022-07-24T08:13:27.661Z"
   },
   {
    "duration": 441,
    "start_time": "2022-07-24T08:13:28.188Z"
   },
   {
    "duration": 130,
    "start_time": "2022-07-24T08:13:28.631Z"
   },
   {
    "duration": 20,
    "start_time": "2022-07-24T08:13:28.763Z"
   },
   {
    "duration": 50,
    "start_time": "2022-07-24T08:13:28.785Z"
   },
   {
    "duration": 3,
    "start_time": "2022-07-24T08:13:28.837Z"
   },
   {
    "duration": 169,
    "start_time": "2022-07-24T08:13:28.842Z"
   },
   {
    "duration": 22,
    "start_time": "2022-07-24T08:13:29.014Z"
   },
   {
    "duration": 173,
    "start_time": "2022-07-24T08:13:29.037Z"
   },
   {
    "duration": 20,
    "start_time": "2022-07-24T08:13:29.212Z"
   },
   {
    "duration": 22,
    "start_time": "2022-07-24T08:13:29.233Z"
   },
   {
    "duration": 76,
    "start_time": "2022-07-24T08:13:29.257Z"
   },
   {
    "duration": 20,
    "start_time": "2022-07-24T08:13:29.334Z"
   },
   {
    "duration": 18,
    "start_time": "2022-07-24T08:13:29.356Z"
   },
   {
    "duration": 238,
    "start_time": "2022-07-24T08:13:29.376Z"
   },
   {
    "duration": 212,
    "start_time": "2022-07-24T08:13:29.616Z"
   },
   {
    "duration": 219,
    "start_time": "2022-07-24T08:13:29.830Z"
   },
   {
    "duration": 206,
    "start_time": "2022-07-24T08:13:30.050Z"
   },
   {
    "duration": 590,
    "start_time": "2022-07-24T08:13:30.257Z"
   },
   {
    "duration": 99,
    "start_time": "2022-07-24T08:13:30.850Z"
   },
   {
    "duration": 103,
    "start_time": "2022-07-24T08:13:30.951Z"
   },
   {
    "duration": 838,
    "start_time": "2022-07-24T08:13:31.056Z"
   },
   {
    "duration": 153,
    "start_time": "2022-07-24T08:13:31.895Z"
   },
   {
    "duration": 770,
    "start_time": "2022-07-24T08:13:32.050Z"
   },
   {
    "duration": 61,
    "start_time": "2022-07-24T08:13:32.822Z"
   },
   {
    "duration": 740,
    "start_time": "2022-07-24T08:13:41.572Z"
   },
   {
    "duration": 14,
    "start_time": "2022-07-24T08:13:49.792Z"
   },
   {
    "duration": 42,
    "start_time": "2022-07-24T08:13:55.245Z"
   },
   {
    "duration": 14,
    "start_time": "2022-07-24T08:14:01.320Z"
   },
   {
    "duration": 64,
    "start_time": "2022-07-24T08:14:24.564Z"
   },
   {
    "duration": 13,
    "start_time": "2022-07-24T08:14:42.283Z"
   },
   {
    "duration": 5,
    "start_time": "2022-07-24T08:14:47.773Z"
   },
   {
    "duration": 749,
    "start_time": "2022-07-24T08:14:47.780Z"
   },
   {
    "duration": 532,
    "start_time": "2022-07-24T08:14:48.530Z"
   },
   {
    "duration": 434,
    "start_time": "2022-07-24T08:14:49.064Z"
   },
   {
    "duration": 123,
    "start_time": "2022-07-24T08:14:49.500Z"
   },
   {
    "duration": 22,
    "start_time": "2022-07-24T08:14:49.624Z"
   },
   {
    "duration": 37,
    "start_time": "2022-07-24T08:14:49.647Z"
   },
   {
    "duration": 3,
    "start_time": "2022-07-24T08:14:49.686Z"
   },
   {
    "duration": 174,
    "start_time": "2022-07-24T08:14:49.690Z"
   },
   {
    "duration": 21,
    "start_time": "2022-07-24T08:14:49.867Z"
   },
   {
    "duration": 164,
    "start_time": "2022-07-24T08:14:49.890Z"
   },
   {
    "duration": 19,
    "start_time": "2022-07-24T08:14:50.055Z"
   },
   {
    "duration": 35,
    "start_time": "2022-07-24T08:14:50.075Z"
   },
   {
    "duration": 88,
    "start_time": "2022-07-24T08:14:50.112Z"
   },
   {
    "duration": 20,
    "start_time": "2022-07-24T08:14:50.202Z"
   },
   {
    "duration": 33,
    "start_time": "2022-07-24T08:14:50.223Z"
   },
   {
    "duration": 224,
    "start_time": "2022-07-24T08:14:50.258Z"
   },
   {
    "duration": 315,
    "start_time": "2022-07-24T08:14:50.484Z"
   },
   {
    "duration": 245,
    "start_time": "2022-07-24T08:14:50.801Z"
   },
   {
    "duration": 218,
    "start_time": "2022-07-24T08:14:51.048Z"
   },
   {
    "duration": 611,
    "start_time": "2022-07-24T08:14:51.268Z"
   },
   {
    "duration": 82,
    "start_time": "2022-07-24T08:14:51.881Z"
   },
   {
    "duration": 101,
    "start_time": "2022-07-24T08:14:51.966Z"
   },
   {
    "duration": 761,
    "start_time": "2022-07-24T08:14:52.069Z"
   },
   {
    "duration": 150,
    "start_time": "2022-07-24T08:14:52.831Z"
   },
   {
    "duration": 732,
    "start_time": "2022-07-24T08:14:52.983Z"
   },
   {
    "duration": 64,
    "start_time": "2022-07-24T08:14:53.717Z"
   },
   {
    "duration": 687,
    "start_time": "2022-07-24T08:14:59.819Z"
   },
   {
    "duration": 19,
    "start_time": "2022-07-24T08:15:02.973Z"
   },
   {
    "duration": 56,
    "start_time": "2022-07-24T08:15:05.142Z"
   },
   {
    "duration": 503,
    "start_time": "2022-07-24T08:40:53.276Z"
   },
   {
    "duration": 182,
    "start_time": "2022-07-24T08:41:49.097Z"
   },
   {
    "duration": 308,
    "start_time": "2022-07-24T08:42:00.163Z"
   },
   {
    "duration": 111,
    "start_time": "2022-07-24T08:42:31.116Z"
   },
   {
    "duration": 4,
    "start_time": "2022-07-24T08:42:48.160Z"
   },
   {
    "duration": 3,
    "start_time": "2022-07-24T08:43:06.356Z"
   },
   {
    "duration": 14,
    "start_time": "2022-07-24T08:45:04.427Z"
   },
   {
    "duration": 31,
    "start_time": "2022-07-24T08:45:25.809Z"
   },
   {
    "duration": 5,
    "start_time": "2022-07-24T08:46:06.392Z"
   },
   {
    "duration": 776,
    "start_time": "2022-07-24T08:46:06.399Z"
   },
   {
    "duration": 538,
    "start_time": "2022-07-24T08:46:07.177Z"
   },
   {
    "duration": 423,
    "start_time": "2022-07-24T08:46:07.717Z"
   },
   {
    "duration": 128,
    "start_time": "2022-07-24T08:46:08.142Z"
   },
   {
    "duration": 34,
    "start_time": "2022-07-24T08:46:08.272Z"
   },
   {
    "duration": 36,
    "start_time": "2022-07-24T08:46:08.308Z"
   },
   {
    "duration": 3,
    "start_time": "2022-07-24T08:46:08.346Z"
   },
   {
    "duration": 170,
    "start_time": "2022-07-24T08:46:08.351Z"
   },
   {
    "duration": 21,
    "start_time": "2022-07-24T08:46:08.522Z"
   },
   {
    "duration": 182,
    "start_time": "2022-07-24T08:46:08.544Z"
   },
   {
    "duration": 20,
    "start_time": "2022-07-24T08:46:08.728Z"
   },
   {
    "duration": 45,
    "start_time": "2022-07-24T08:46:08.749Z"
   },
   {
    "duration": 67,
    "start_time": "2022-07-24T08:46:08.796Z"
   },
   {
    "duration": 21,
    "start_time": "2022-07-24T08:46:08.865Z"
   },
   {
    "duration": 26,
    "start_time": "2022-07-24T08:46:08.887Z"
   },
   {
    "duration": 237,
    "start_time": "2022-07-24T08:46:08.914Z"
   },
   {
    "duration": 205,
    "start_time": "2022-07-24T08:46:09.152Z"
   },
   {
    "duration": 220,
    "start_time": "2022-07-24T08:46:09.359Z"
   },
   {
    "duration": 201,
    "start_time": "2022-07-24T08:46:09.581Z"
   },
   {
    "duration": 546,
    "start_time": "2022-07-24T08:46:09.784Z"
   },
   {
    "duration": 80,
    "start_time": "2022-07-24T08:46:10.331Z"
   },
   {
    "duration": 96,
    "start_time": "2022-07-24T08:46:10.413Z"
   },
   {
    "duration": 777,
    "start_time": "2022-07-24T08:46:10.512Z"
   },
   {
    "duration": 133,
    "start_time": "2022-07-24T08:46:11.290Z"
   },
   {
    "duration": 703,
    "start_time": "2022-07-24T08:46:11.425Z"
   },
   {
    "duration": 62,
    "start_time": "2022-07-24T08:46:12.129Z"
   },
   {
    "duration": 728,
    "start_time": "2022-07-24T08:46:12.192Z"
   },
   {
    "duration": 19,
    "start_time": "2022-07-24T08:46:12.921Z"
   },
   {
    "duration": 56,
    "start_time": "2022-07-24T08:46:16.510Z"
   },
   {
    "duration": 101,
    "start_time": "2022-07-24T08:46:24.485Z"
   },
   {
    "duration": 298,
    "start_time": "2022-07-24T08:46:26.049Z"
   },
   {
    "duration": 103,
    "start_time": "2022-07-24T08:46:27.887Z"
   },
   {
    "duration": 4,
    "start_time": "2022-07-24T08:46:29.595Z"
   },
   {
    "duration": 5,
    "start_time": "2022-07-24T08:46:31.566Z"
   },
   {
    "duration": 13,
    "start_time": "2022-07-24T08:46:37.466Z"
   },
   {
    "duration": 11797,
    "start_time": "2022-07-24T08:48:39.058Z"
   },
   {
    "duration": 9,
    "start_time": "2022-07-24T09:01:10.842Z"
   },
   {
    "duration": 5,
    "start_time": "2022-07-24T09:01:37.846Z"
   },
   {
    "duration": 3,
    "start_time": "2022-07-24T09:01:46.878Z"
   },
   {
    "duration": 57,
    "start_time": "2022-07-24T09:02:03.484Z"
   },
   {
    "duration": 4,
    "start_time": "2022-07-24T09:02:35.170Z"
   },
   {
    "duration": 63,
    "start_time": "2022-07-24T09:02:40.673Z"
   },
   {
    "duration": 10,
    "start_time": "2022-07-24T09:03:21.044Z"
   },
   {
    "duration": 65,
    "start_time": "2022-07-24T09:03:26.352Z"
   },
   {
    "duration": 2,
    "start_time": "2022-07-24T09:04:41.697Z"
   },
   {
    "duration": 119,
    "start_time": "2022-07-24T09:04:50.251Z"
   },
   {
    "duration": 4729101,
    "start_time": "2022-07-24T09:04:54.287Z"
   },
   {
    "duration": 10,
    "start_time": "2022-07-24T10:23:55.314Z"
   },
   {
    "duration": 56,
    "start_time": "2022-07-24T10:23:59.568Z"
   },
   {
    "duration": 48,
    "start_time": "2022-07-24T10:24:42.686Z"
   },
   {
    "duration": 29,
    "start_time": "2022-07-24T10:24:49.521Z"
   },
   {
    "duration": 48,
    "start_time": "2022-07-24T10:24:59.396Z"
   },
   {
    "duration": 40,
    "start_time": "2022-07-24T10:25:24.905Z"
   },
   {
    "duration": 86,
    "start_time": "2022-07-24T10:25:34.497Z"
   },
   {
    "duration": 441084,
    "start_time": "2022-07-24T10:25:47.728Z"
   },
   {
    "duration": 4,
    "start_time": "2022-07-24T10:33:58.947Z"
   },
   {
    "duration": 802106,
    "start_time": "2022-07-24T10:34:02.816Z"
   },
   {
    "duration": 11,
    "start_time": "2022-07-24T10:53:13.151Z"
   },
   {
    "duration": 537484,
    "start_time": "2022-07-24T10:53:17.988Z"
   },
   {
    "duration": 5,
    "start_time": "2022-07-24T11:02:26.953Z"
   },
   {
    "duration": 48,
    "start_time": "2022-07-24T15:29:23.685Z"
   },
   {
    "duration": 1651,
    "start_time": "2022-07-24T15:29:36.444Z"
   },
   {
    "duration": 6,
    "start_time": "2022-07-24T15:29:52.075Z"
   },
   {
    "duration": 1301,
    "start_time": "2022-07-24T15:29:52.082Z"
   },
   {
    "duration": 635,
    "start_time": "2022-07-24T15:29:53.385Z"
   },
   {
    "duration": 539,
    "start_time": "2022-07-24T15:29:54.024Z"
   },
   {
    "duration": 160,
    "start_time": "2022-07-24T15:29:54.565Z"
   },
   {
    "duration": 23,
    "start_time": "2022-07-24T15:29:54.727Z"
   },
   {
    "duration": 48,
    "start_time": "2022-07-24T15:29:54.751Z"
   },
   {
    "duration": 4,
    "start_time": "2022-07-24T15:29:54.801Z"
   },
   {
    "duration": 194,
    "start_time": "2022-07-24T15:29:54.807Z"
   },
   {
    "duration": 32,
    "start_time": "2022-07-24T15:29:55.002Z"
   },
   {
    "duration": 208,
    "start_time": "2022-07-24T15:29:55.038Z"
   },
   {
    "duration": 21,
    "start_time": "2022-07-24T15:29:55.248Z"
   },
   {
    "duration": 25,
    "start_time": "2022-07-24T15:29:55.270Z"
   },
   {
    "duration": 96,
    "start_time": "2022-07-24T15:29:55.297Z"
   },
   {
    "duration": 32,
    "start_time": "2022-07-24T15:29:55.395Z"
   },
   {
    "duration": 18,
    "start_time": "2022-07-24T15:29:55.428Z"
   },
   {
    "duration": 278,
    "start_time": "2022-07-24T15:29:55.448Z"
   },
   {
    "duration": 210,
    "start_time": "2022-07-24T15:29:55.728Z"
   },
   {
    "duration": 239,
    "start_time": "2022-07-24T15:29:55.940Z"
   },
   {
    "duration": 300,
    "start_time": "2022-07-24T15:29:56.181Z"
   },
   {
    "duration": 600,
    "start_time": "2022-07-24T15:29:56.483Z"
   },
   {
    "duration": 88,
    "start_time": "2022-07-24T15:29:57.085Z"
   },
   {
    "duration": 88,
    "start_time": "2022-07-24T15:29:57.174Z"
   },
   {
    "duration": 839,
    "start_time": "2022-07-24T15:29:57.264Z"
   },
   {
    "duration": 160,
    "start_time": "2022-07-24T15:29:58.105Z"
   },
   {
    "duration": 859,
    "start_time": "2022-07-24T15:29:58.267Z"
   },
   {
    "duration": 64,
    "start_time": "2022-07-24T15:29:59.127Z"
   },
   {
    "duration": 774,
    "start_time": "2022-07-24T15:29:59.193Z"
   },
   {
    "duration": 22,
    "start_time": "2022-07-24T15:29:59.970Z"
   },
   {
    "duration": 74,
    "start_time": "2022-07-24T15:29:59.995Z"
   },
   {
    "duration": 4,
    "start_time": "2022-07-24T15:30:00.072Z"
   },
   {
    "duration": 124,
    "start_time": "2022-07-24T15:30:00.078Z"
   },
   {
    "duration": 0,
    "start_time": "2022-07-24T15:30:00.204Z"
   },
   {
    "duration": 0,
    "start_time": "2022-07-24T15:30:00.206Z"
   },
   {
    "duration": 0,
    "start_time": "2022-07-24T15:30:00.208Z"
   },
   {
    "duration": 0,
    "start_time": "2022-07-24T15:30:00.225Z"
   },
   {
    "duration": 0,
    "start_time": "2022-07-24T15:30:00.226Z"
   },
   {
    "duration": 15,
    "start_time": "2022-07-24T15:31:18.752Z"
   },
   {
    "duration": 81,
    "start_time": "2022-07-24T15:31:21.287Z"
   },
   {
    "duration": 27,
    "start_time": "2022-07-24T15:31:23.607Z"
   },
   {
    "duration": 5,
    "start_time": "2022-07-24T15:31:26.597Z"
   },
   {
    "duration": 5,
    "start_time": "2022-07-24T15:31:28.476Z"
   },
   {
    "duration": 79,
    "start_time": "2022-07-24T15:31:31.615Z"
   },
   {
    "duration": 106,
    "start_time": "2022-07-24T15:32:47.299Z"
   },
   {
    "duration": 49,
    "start_time": "2022-07-24T15:33:07.078Z"
   },
   {
    "duration": 63,
    "start_time": "2022-07-24T15:33:46.824Z"
   },
   {
    "duration": 24,
    "start_time": "2022-07-24T15:39:02.347Z"
   },
   {
    "duration": 44,
    "start_time": "2022-07-24T15:40:29.025Z"
   },
   {
    "duration": 19,
    "start_time": "2022-07-24T15:40:49.168Z"
   },
   {
    "duration": 19,
    "start_time": "2022-07-24T15:42:44.897Z"
   },
   {
    "duration": 18,
    "start_time": "2022-07-24T15:42:53.745Z"
   },
   {
    "duration": 16,
    "start_time": "2022-07-24T15:45:34.922Z"
   },
   {
    "duration": 626,
    "start_time": "2022-07-24T15:45:37.120Z"
   },
   {
    "duration": 395,
    "start_time": "2022-07-24T15:45:40.408Z"
   },
   {
    "duration": 103,
    "start_time": "2022-07-24T15:45:42.442Z"
   },
   {
    "duration": 4,
    "start_time": "2022-07-24T15:45:44.530Z"
   },
   {
    "duration": 5,
    "start_time": "2022-07-24T15:45:46.755Z"
   },
   {
    "duration": 12041,
    "start_time": "2022-07-24T15:47:25.968Z"
   },
   {
    "duration": 3,
    "start_time": "2022-07-24T15:47:41.057Z"
   },
   {
    "duration": 4,
    "start_time": "2022-07-24T15:48:18.760Z"
   },
   {
    "duration": 434493,
    "start_time": "2022-07-24T15:48:32.918Z"
   },
   {
    "duration": 6,
    "start_time": "2022-07-24T15:56:26.649Z"
   },
   {
    "duration": 383321,
    "start_time": "2022-07-24T15:56:30.114Z"
   },
   {
    "duration": 5,
    "start_time": "2022-07-24T16:03:45.372Z"
   },
   {
    "duration": 519638,
    "start_time": "2022-07-24T16:03:50.724Z"
   },
   {
    "duration": 5,
    "start_time": "2022-07-24T16:12:58.730Z"
   },
   {
    "duration": 7044490,
    "start_time": "2022-07-24T16:13:04.841Z"
   },
   {
    "duration": 5,
    "start_time": "2022-07-24T18:11:50.445Z"
   },
   {
    "duration": 2352,
    "start_time": "2022-07-24T18:16:48.997Z"
   },
   {
    "duration": 2274,
    "start_time": "2022-07-24T18:19:04.239Z"
   },
   {
    "duration": 271,
    "start_time": "2022-07-24T18:20:27.269Z"
   },
   {
    "duration": 20237,
    "start_time": "2022-07-24T18:21:51.093Z"
   },
   {
    "duration": 70,
    "start_time": "2022-07-24T18:23:15.672Z"
   },
   {
    "duration": 25889,
    "start_time": "2022-07-24T18:23:31.370Z"
   },
   {
    "duration": 456830,
    "start_time": "2022-07-24T18:24:48.417Z"
   },
   {
    "duration": 5,
    "start_time": "2022-07-24T18:39:41.319Z"
   },
   {
    "duration": 12,
    "start_time": "2022-07-24T18:45:25.651Z"
   },
   {
    "duration": 8,
    "start_time": "2022-07-24T18:45:30.769Z"
   },
   {
    "duration": 11,
    "start_time": "2022-07-24T18:48:05.210Z"
   },
   {
    "duration": 10,
    "start_time": "2022-07-24T18:48:18.178Z"
   },
   {
    "duration": 11,
    "start_time": "2022-07-24T18:49:13.783Z"
   },
   {
    "duration": 2522,
    "start_time": "2022-07-24T18:51:37.057Z"
   },
   {
    "duration": 2531,
    "start_time": "2022-07-24T18:52:16.654Z"
   },
   {
    "duration": 360,
    "start_time": "2022-07-24T18:53:50.826Z"
   },
   {
    "duration": 292,
    "start_time": "2022-07-24T18:54:07.170Z"
   },
   {
    "duration": 28092,
    "start_time": "2022-07-24T18:55:28.836Z"
   },
   {
    "duration": 27270,
    "start_time": "2022-07-24T18:56:39.201Z"
   },
   {
    "duration": 734140,
    "start_time": "2022-07-24T18:57:37.009Z"
   },
   {
    "duration": 5,
    "start_time": "2022-07-24T19:10:49.613Z"
   },
   {
    "duration": 2417,
    "start_time": "2022-07-24T19:13:50.580Z"
   },
   {
    "duration": 280,
    "start_time": "2022-07-24T19:14:34.647Z"
   },
   {
    "duration": 27162,
    "start_time": "2022-07-24T19:15:23.862Z"
   },
   {
    "duration": 22068,
    "start_time": "2022-07-24T19:16:15.515Z"
   },
   {
    "duration": 570260,
    "start_time": "2022-07-24T19:16:37.586Z"
   },
   {
    "duration": 27245,
    "start_time": "2022-07-24T19:26:07.850Z"
   },
   {
    "duration": 62,
    "start_time": "2022-07-24T19:28:46.338Z"
   },
   {
    "duration": 1895,
    "start_time": "2022-07-25T00:01:40.907Z"
   },
   {
    "duration": 1176,
    "start_time": "2022-07-25T00:01:45.068Z"
   },
   {
    "duration": 628,
    "start_time": "2022-07-25T00:01:46.491Z"
   },
   {
    "duration": 533,
    "start_time": "2022-07-25T00:01:49.052Z"
   },
   {
    "duration": 132,
    "start_time": "2022-07-25T00:01:50.027Z"
   },
   {
    "duration": 25,
    "start_time": "2022-07-25T00:01:51.049Z"
   },
   {
    "duration": 33,
    "start_time": "2022-07-25T00:01:52.019Z"
   },
   {
    "duration": 4,
    "start_time": "2022-07-25T00:01:52.462Z"
   },
   {
    "duration": 168,
    "start_time": "2022-07-25T00:01:53.395Z"
   },
   {
    "duration": 26,
    "start_time": "2022-07-25T00:01:53.729Z"
   },
   {
    "duration": 207,
    "start_time": "2022-07-25T00:01:55.012Z"
   },
   {
    "duration": 20,
    "start_time": "2022-07-25T00:04:22.431Z"
   },
   {
    "duration": 21,
    "start_time": "2022-07-25T00:04:23.236Z"
   },
   {
    "duration": 75,
    "start_time": "2022-07-25T00:04:23.638Z"
   },
   {
    "duration": 18,
    "start_time": "2022-07-25T00:04:24.313Z"
   },
   {
    "duration": 17,
    "start_time": "2022-07-25T00:04:24.670Z"
   },
   {
    "duration": 230,
    "start_time": "2022-07-25T00:04:25.022Z"
   },
   {
    "duration": 204,
    "start_time": "2022-07-25T00:04:25.254Z"
   },
   {
    "duration": 227,
    "start_time": "2022-07-25T00:04:25.459Z"
   },
   {
    "duration": 270,
    "start_time": "2022-07-25T00:04:25.688Z"
   },
   {
    "duration": 576,
    "start_time": "2022-07-25T00:04:25.964Z"
   },
   {
    "duration": 74,
    "start_time": "2022-07-25T00:04:26.700Z"
   },
   {
    "duration": 69,
    "start_time": "2022-07-25T00:04:27.030Z"
   },
   {
    "duration": 824,
    "start_time": "2022-07-25T00:04:27.439Z"
   },
   {
    "duration": 144,
    "start_time": "2022-07-25T00:04:28.265Z"
   },
   {
    "duration": 764,
    "start_time": "2022-07-25T00:04:28.639Z"
   },
   {
    "duration": 69,
    "start_time": "2022-07-25T00:04:29.404Z"
   },
   {
    "duration": 719,
    "start_time": "2022-07-25T00:04:29.592Z"
   },
   {
    "duration": 24,
    "start_time": "2022-07-25T00:04:30.678Z"
   },
   {
    "duration": 63,
    "start_time": "2022-07-25T00:04:30.987Z"
   },
   {
    "duration": 132,
    "start_time": "2022-07-25T00:04:31.515Z"
   },
   {
    "duration": 2062,
    "start_time": "2022-07-26T14:21:00.897Z"
   },
   {
    "duration": 3013,
    "start_time": "2022-07-26T14:21:05.925Z"
   },
   {
    "duration": 752,
    "start_time": "2022-07-26T14:21:09.796Z"
   },
   {
    "duration": 605,
    "start_time": "2022-07-26T14:21:14.534Z"
   },
   {
    "duration": 113,
    "start_time": "2022-07-26T14:21:18.475Z"
   },
   {
    "duration": 30,
    "start_time": "2022-07-26T14:21:20.956Z"
   },
   {
    "duration": 26,
    "start_time": "2022-07-26T14:21:26.307Z"
   },
   {
    "duration": 25,
    "start_time": "2022-07-26T14:21:40.006Z"
   },
   {
    "duration": 23,
    "start_time": "2022-07-26T14:21:54.035Z"
   },
   {
    "duration": 86,
    "start_time": "2022-07-26T14:21:56.807Z"
   },
   {
    "duration": 20,
    "start_time": "2022-07-26T14:21:59.561Z"
   },
   {
    "duration": 21,
    "start_time": "2022-07-26T14:22:02.951Z"
   },
   {
    "duration": 255,
    "start_time": "2022-07-26T14:22:05.798Z"
   },
   {
    "duration": 228,
    "start_time": "2022-07-26T14:22:08.338Z"
   },
   {
    "duration": 269,
    "start_time": "2022-07-26T14:22:15.237Z"
   },
   {
    "duration": 303,
    "start_time": "2022-07-26T14:22:17.719Z"
   },
   {
    "duration": 735,
    "start_time": "2022-07-26T14:22:21.592Z"
   },
   {
    "duration": 83,
    "start_time": "2022-07-26T14:23:18.005Z"
   },
   {
    "duration": 757,
    "start_time": "2022-07-26T14:23:22.125Z"
   },
   {
    "duration": 187,
    "start_time": "2022-07-26T14:23:27.198Z"
   },
   {
    "duration": 883,
    "start_time": "2022-07-26T14:23:30.782Z"
   },
   {
    "duration": 78,
    "start_time": "2022-07-26T14:23:34.553Z"
   },
   {
    "duration": 829,
    "start_time": "2022-07-26T14:23:38.737Z"
   },
   {
    "duration": 728,
    "start_time": "2022-07-26T14:24:34.278Z"
   },
   {
    "duration": 912,
    "start_time": "2022-07-26T14:25:33.824Z"
   },
   {
    "duration": 677,
    "start_time": "2022-07-26T14:26:18.745Z"
   },
   {
    "duration": 130,
    "start_time": "2022-07-26T14:27:00.425Z"
   },
   {
    "duration": 802,
    "start_time": "2022-07-26T14:27:06.114Z"
   },
   {
    "duration": 846,
    "start_time": "2022-07-26T14:30:23.533Z"
   },
   {
    "duration": 746,
    "start_time": "2022-07-26T14:31:56.956Z"
   },
   {
    "duration": 783,
    "start_time": "2022-07-26T14:33:26.767Z"
   },
   {
    "duration": 20,
    "start_time": "2022-07-26T14:33:35.496Z"
   },
   {
    "duration": 15,
    "start_time": "2022-07-26T14:33:42.516Z"
   },
   {
    "duration": 77,
    "start_time": "2022-07-26T14:33:45.246Z"
   },
   {
    "duration": 16,
    "start_time": "2022-07-26T14:35:10.853Z"
   },
   {
    "duration": 20,
    "start_time": "2022-07-26T14:35:19.443Z"
   },
   {
    "duration": 58,
    "start_time": "2022-07-26T14:35:23.392Z"
   },
   {
    "duration": 141,
    "start_time": "2022-07-26T14:35:33.630Z"
   },
   {
    "duration": 3,
    "start_time": "2022-07-26T14:36:12.286Z"
   },
   {
    "duration": 15,
    "start_time": "2022-07-26T14:36:14.389Z"
   },
   {
    "duration": 16,
    "start_time": "2022-07-26T14:49:49.126Z"
   },
   {
    "duration": 7,
    "start_time": "2022-07-26T17:57:26.401Z"
   },
   {
    "duration": 20,
    "start_time": "2022-07-26T17:58:57.559Z"
   },
   {
    "duration": 1308,
    "start_time": "2022-07-26T17:59:21.289Z"
   },
   {
    "duration": 1387,
    "start_time": "2022-07-26T18:10:28.736Z"
   },
   {
    "duration": 15,
    "start_time": "2022-07-26T18:10:52.734Z"
   },
   {
    "duration": 369,
    "start_time": "2022-07-26T18:13:54.014Z"
   },
   {
    "duration": 366,
    "start_time": "2022-07-26T18:16:00.681Z"
   },
   {
    "duration": 368,
    "start_time": "2022-07-26T18:16:56.795Z"
   },
   {
    "duration": 373,
    "start_time": "2022-07-26T18:17:33.169Z"
   },
   {
    "duration": 393,
    "start_time": "2022-07-26T18:17:51.809Z"
   },
   {
    "duration": 389,
    "start_time": "2022-07-26T18:18:09.507Z"
   },
   {
    "duration": 399,
    "start_time": "2022-07-26T18:18:39.873Z"
   },
   {
    "duration": 554,
    "start_time": "2022-07-26T18:20:51.019Z"
   },
   {
    "duration": 6,
    "start_time": "2022-07-26T18:22:55.430Z"
   },
   {
    "duration": 6,
    "start_time": "2022-07-26T18:22:59.568Z"
   },
   {
    "duration": 6,
    "start_time": "2022-07-26T18:23:06.448Z"
   },
   {
    "duration": 5,
    "start_time": "2022-07-26T18:23:17.006Z"
   },
   {
    "duration": 5,
    "start_time": "2022-07-26T18:23:33.641Z"
   },
   {
    "duration": 5,
    "start_time": "2022-07-26T18:23:44.447Z"
   },
   {
    "duration": 101,
    "start_time": "2022-07-26T18:38:55.413Z"
   },
   {
    "duration": 347,
    "start_time": "2022-07-26T18:38:57.876Z"
   },
   {
    "duration": 5,
    "start_time": "2022-07-26T18:39:03.718Z"
   },
   {
    "duration": 5,
    "start_time": "2022-07-26T18:39:06.561Z"
   },
   {
    "duration": 4,
    "start_time": "2022-07-26T18:39:09.259Z"
   },
   {
    "duration": 4,
    "start_time": "2022-07-26T18:39:21.783Z"
   },
   {
    "duration": 39,
    "start_time": "2022-07-26T18:39:27.010Z"
   },
   {
    "duration": 12226,
    "start_time": "2022-07-26T18:49:37.458Z"
   },
   {
    "duration": 3,
    "start_time": "2022-07-26T18:49:51.512Z"
   },
   {
    "duration": 164262,
    "start_time": "2022-07-26T18:53:25.233Z"
   },
   {
    "duration": 6,
    "start_time": "2022-07-26T18:56:20.363Z"
   },
   {
    "duration": 269112,
    "start_time": "2022-07-26T18:56:44.792Z"
   },
   {
    "duration": 5,
    "start_time": "2022-07-26T19:01:19.853Z"
   },
   {
    "duration": 340441,
    "start_time": "2022-07-26T19:02:22.002Z"
   },
   {
    "duration": 5,
    "start_time": "2022-07-26T19:11:28.246Z"
   },
   {
    "duration": 288023,
    "start_time": "2022-07-26T19:11:49.993Z"
   },
   {
    "duration": 5,
    "start_time": "2022-07-26T19:16:42.460Z"
   },
   {
    "duration": 827146,
    "start_time": "2022-07-26T19:18:01.004Z"
   },
   {
    "duration": 240,
    "start_time": "2022-07-26T19:34:10.281Z"
   },
   {
    "duration": 320,
    "start_time": "2022-07-26T19:36:47.197Z"
   },
   {
    "duration": 14374,
    "start_time": "2022-07-26T19:37:43.630Z"
   },
   {
    "duration": 19245,
    "start_time": "2022-07-26T19:38:47.379Z"
   },
   {
    "duration": 26018,
    "start_time": "2022-07-26T19:41:45.878Z"
   },
   {
    "duration": 141950,
    "start_time": "2022-07-26T19:43:42.079Z"
   },
   {
    "duration": 3,
    "start_time": "2022-07-26T19:46:45.105Z"
   },
   {
    "duration": 4,
    "start_time": "2022-07-26T19:54:17.324Z"
   },
   {
    "duration": 17,
    "start_time": "2022-07-26T19:58:01.087Z"
   },
   {
    "duration": 39,
    "start_time": "2022-07-26T20:00:31.935Z"
   },
   {
    "duration": 36,
    "start_time": "2022-07-26T20:00:44.741Z"
   },
   {
    "duration": 37,
    "start_time": "2022-07-26T20:01:34.379Z"
   },
   {
    "duration": 30230,
    "start_time": "2022-07-26T20:02:17.583Z"
   },
   {
    "duration": 3,
    "start_time": "2022-07-26T20:03:32.281Z"
   },
   {
    "duration": 14,
    "start_time": "2022-07-26T20:05:44.774Z"
   },
   {
    "duration": 323273,
    "start_time": "2022-07-26T20:06:45.922Z"
   },
   {
    "duration": 99,
    "start_time": "2022-07-26T20:13:30.560Z"
   },
   {
    "duration": 9566,
    "start_time": "2022-07-26T20:13:58.548Z"
   },
   {
    "duration": 10943,
    "start_time": "2022-07-26T20:18:36.450Z"
   },
   {
    "duration": 21,
    "start_time": "2022-07-26T20:20:23.333Z"
   },
   {
    "duration": 10893,
    "start_time": "2022-07-26T20:20:39.611Z"
   },
   {
    "duration": 27,
    "start_time": "2022-07-26T20:21:27.911Z"
   },
   {
    "duration": 138,
    "start_time": "2022-07-26T20:21:33.430Z"
   },
   {
    "duration": 22,
    "start_time": "2022-07-26T20:22:51.959Z"
   },
   {
    "duration": 22,
    "start_time": "2022-07-26T20:23:08.191Z"
   },
   {
    "duration": 18,
    "start_time": "2022-07-26T20:23:30.941Z"
   },
   {
    "duration": 11173,
    "start_time": "2022-07-26T20:23:41.243Z"
   },
   {
    "duration": 11912,
    "start_time": "2022-07-26T20:24:26.905Z"
   }
  ],
  "kernelspec": {
   "display_name": "Python 3 (ipykernel)",
   "language": "python",
   "name": "python3"
  },
  "language_info": {
   "codemirror_mode": {
    "name": "ipython",
    "version": 3
   },
   "file_extension": ".py",
   "mimetype": "text/x-python",
   "name": "python",
   "nbconvert_exporter": "python",
   "pygments_lexer": "ipython3",
   "version": "3.8.0"
  },
  "toc": {
   "base_numbering": 1,
   "nav_menu": {},
   "number_sections": true,
   "sideBar": true,
   "skip_h1_title": true,
   "title_cell": "Table of Contents",
   "title_sidebar": "Contents",
   "toc_cell": false,
   "toc_position": {},
   "toc_section_display": true,
   "toc_window_display": false
  }
 },
 "nbformat": 4,
 "nbformat_minor": 2
}
